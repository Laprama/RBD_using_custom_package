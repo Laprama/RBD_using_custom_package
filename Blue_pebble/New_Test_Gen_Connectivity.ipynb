{
 "cells": [
  {
   "cell_type": "code",
   "execution_count": 1,
   "id": "3abb8f91-d3f7-45c2-bf05-63e63b1fec8e",
   "metadata": {
    "scrolled": true
   },
   "outputs": [
    {
     "name": "stderr",
     "output_type": "stream",
     "text": [
      "/user/home/ko20929/.conda/envs/sktime_latest/lib/python3.11/site-packages/antropy/fractal.py:197: NumbaDeprecationWarning: \u001b[1mThe 'nopython' keyword argument was not supplied to the 'numba.jit' decorator. The implicit default value for this argument is currently False, but it will be changed to True in Numba 0.59.0. See https://numba.readthedocs.io/en/stable/reference/deprecation.html#deprecation-of-object-mode-fall-back-behaviour-when-using-jit for details.\u001b[0m\n",
      "  @jit((types.Array(types.float64, 1, \"C\", readonly=True), types.int32))\n",
      "/user/home/ko20929/.conda/envs/sktime_latest/lib/python3.11/site-packages/outdated/utils.py:14: OutdatedPackageWarning: The package yasa is out of date. Your version is 0.6.3, the latest is 0.6.4.\n",
      "Set the environment variable OUTDATED_IGNORE=1 to disable these warnings.\n",
      "  return warn(\n"
     ]
    }
   ],
   "source": [
    "import pandas as pd\n",
    "import mne as mne\n",
    "import os \n",
    "import time\n",
    "import numpy as np\n",
    "import matplotlib.pyplot as plt\n",
    "import joblib\n",
    "import constants\n",
    "from IPython.utils import io\n",
    "import time\n",
    "import sys\n",
    "import yasa\n",
    "from scipy.signal import welch\n",
    "\n",
    "#Import my modules\n",
    "import format_eeg_data\n",
    "import constants\n",
    "import eeg_stat_ts\n",
    "\n",
    "from mne_connectivity import spectral_connectivity_epochs\n",
    "from mne.datasets import sample\n",
    "import seaborn as sns\n",
    "\n",
    "from scipy.signal import welch\n",
    "import yasa\n",
    "import constants\n",
    "import numpy as np"
   ]
  },
  {
   "cell_type": "code",
   "execution_count": 2,
   "id": "4f910f28-6308-4ff5-88c9-8d8363d41df1",
   "metadata": {},
   "outputs": [],
   "source": [
    "#From my previous notebook to generate connectivity results I wrote the following: \n",
    "# con_pli =  spectral_connectivity_epochs(data_epo , method='coh' , sfreq=256,fmin=fmin, fmax=fmax, faverage=True)"
   ]
  },
  {
   "cell_type": "code",
   "execution_count": 2,
   "id": "a5736e98-cf02-486e-8a9e-82ae96bb45c2",
   "metadata": {},
   "outputs": [
    {
     "data": {
      "text/plain": [
       "['mic', 'mim', 'gc', 'gc_tr']"
      ]
     },
     "execution_count": 2,
     "metadata": {},
     "output_type": "execute_result"
    }
   ],
   "source": [
    "[ 'mic', 'mim','gc', 'gc_tr']"
   ]
  },
  {
   "cell_type": "code",
   "execution_count": null,
   "id": "f840cf97-1ce2-44cd-acd7-9d1bdaa619f3",
   "metadata": {},
   "outputs": [],
   "source": [
    "con_pli =  spectral_connectivity_epochs(data_epo , method="
   ]
  },
  {
   "cell_type": "code",
   "execution_count": 3,
   "id": "28777ea0-339e-4cef-b4c3-699226466396",
   "metadata": {},
   "outputs": [
    {
     "ename": "NameError",
     "evalue": "name 'data_epo' is not defined",
     "output_type": "error",
     "traceback": [
      "\u001b[0;31m---------------------------------------------------------------------------\u001b[0m",
      "\u001b[0;31mNameError\u001b[0m                                 Traceback (most recent call last)",
      "Cell \u001b[0;32mIn[3], line 1\u001b[0m\n\u001b[0;32m----> 1\u001b[0m con_pli \u001b[38;5;241m=\u001b[39m  spectral_connectivity_epochs(\u001b[43mdata_epo\u001b[49m , method\u001b[38;5;241m=\u001b[39m\u001b[38;5;124m'\u001b[39m\u001b[38;5;124mcoh\u001b[39m\u001b[38;5;124m'\u001b[39m , sfreq\u001b[38;5;241m=\u001b[39m\u001b[38;5;241m256\u001b[39m,fmin\u001b[38;5;241m=\u001b[39mfmin, fmax\u001b[38;5;241m=\u001b[39mfmax, faverage\u001b[38;5;241m=\u001b[39m\u001b[38;5;28;01mTrue\u001b[39;00m)\n",
      "\u001b[0;31mNameError\u001b[0m: name 'data_epo' is not defined"
     ]
    }
   ],
   "source": [
    "con_pli =  spectral_connectivity_epochs(data_epo , method='coh' , sfreq=256,fmin=fmin, fmax=fmax, faverage=True)"
   ]
  },
  {
   "cell_type": "code",
   "execution_count": null,
   "id": "61af13c8-6d43-4076-b8a7-1358777e12fc",
   "metadata": {},
   "outputs": [],
   "source": [
    "spectral_connectivity_epochs(data_epo , method= , sfreq=256,fmin=fmin, fmax=fmax, faverage=True)"
   ]
  },
  {
   "cell_type": "code",
   "execution_count": 6,
   "id": "5946a9a7-5535-4343-9768-16f7cc87f7a9",
   "metadata": {},
   "outputs": [],
   "source": [
    "#These can be ``['coh', 'cohy',\n",
    "# 'imcoh', 'plv', 'ciplv', 'ppc', 'pli', 'dpli', 'wpli', 'wpli2_debiased']`"
   ]
  },
  {
   "cell_type": "code",
   "execution_count": 5,
   "id": "31815050-31db-46a4-9e66-5005b496cb7a",
   "metadata": {},
   "outputs": [],
   "source": [
    "# New set then Old Set:\n",
    "# ['coh', 'cohy', 'imcoh', 'mic', 'mim', 'plv', 'ciplv', 'ppc', 'pli', 'dpli', 'wpli', 'wpli2_debiased', 'gc', 'gc_tr']\n",
    "# ['coh', 'cohy','imcoh',                'plv', 'ciplv', 'ppc', 'pli', 'dpli', 'wpli', 'wpli2_debiased',              ]\n",
    "# Difference : [ 'mic', 'mim','gc', 'gc_tr']\n",
    "# What are they? \n",
    "#__________\n",
    "# ‘mic’ : Maximised Imaginary part of Coherency (MIC)\n",
    "# ‘mim’ : Multivariate Interaction Measure (MIM)\n",
    "# ‘gc’ : State-space Granger Causality (GC) \n",
    "# ‘gc_tr’ : State-space GC on time-reversed signals [9][10]\n",
    "#_________\n",
    "# given by the same equation as for ‘gc’, but where the autocovariance sequence \n",
    "# from which the autoregressive model is produced is transposed to mimic the reversal of the original signal in time."
   ]
  },
  {
   "cell_type": "code",
   "execution_count": null,
   "id": "01a77fa0-ec8d-41f6-acb1-72837a80704b",
   "metadata": {},
   "outputs": [],
   "source": [
    "#  Multivariate methods (``['mic','mim', 'gc', 'gc_tr]``) cannot be called with the other methods."
   ]
  },
  {
   "cell_type": "code",
   "execution_count": null,
   "id": "57aaf825-8d6c-4f65-9485-8e40c5dffbe3",
   "metadata": {},
   "outputs": [],
   "source": []
  }
 ],
 "metadata": {
  "kernelspec": {
   "display_name": "Python 3 (ipykernel)",
   "language": "python",
   "name": "python3"
  },
  "language_info": {
   "codemirror_mode": {
    "name": "ipython",
    "version": 3
   },
   "file_extension": ".py",
   "mimetype": "text/x-python",
   "name": "python",
   "nbconvert_exporter": "python",
   "pygments_lexer": "ipython3",
   "version": "3.11.3"
  }
 },
 "nbformat": 4,
 "nbformat_minor": 5
}
