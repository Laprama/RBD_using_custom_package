{
 "cells": [
  {
   "cell_type": "code",
   "execution_count": 44,
   "id": "c3e8b4d8",
   "metadata": {},
   "outputs": [],
   "source": [
    "#Sktime imports\n",
    "import numpy as np\n",
    "from sklearn.model_selection import train_test_split\n",
    "from sklearn.pipeline import Pipeline\n",
    "from sktime.classification.shapelet_based import MrSEQLClassifier\n",
    "from sklearn.model_selection import GroupShuffleSplit\n",
    "\n",
    "from IPython.utils import io\n",
    "import pandas as pd\n",
    "import os\n",
    "from pathlib import Path\n",
    "from matplotlib import pyplot as plt\n",
    "from scipy.signal import find_peaks\n",
    "import numpy as np\n",
    "import seaborn as sns\n",
    "import time\n",
    "import joblib\n",
    "import sys\n",
    "from os.path import exists\n",
    "\n",
    "import importlib\n",
    "\n",
    "# EEG package modules__________________________________________________________________\n",
    "import constants\n",
    "import custom_ts_length\n",
    "# import eeg_stat_ts\n",
    "import format_eeg_data\n",
    "import run_expts"
   ]
  },
  {
   "cell_type": "code",
   "execution_count": 45,
   "id": "e82dbe87",
   "metadata": {},
   "outputs": [],
   "source": [
    "from sklearn.metrics import accuracy_score"
   ]
  },
  {
   "cell_type": "code",
   "execution_count": 46,
   "id": "904bd557",
   "metadata": {},
   "outputs": [
    {
     "name": "stdout",
     "output_type": "stream",
     "text": [
      "Change the folder here ^_^! \n"
     ]
    }
   ],
   "source": [
    "'''\n",
    "o 1. PD vs HC,   2.(PD , PD+RBD) vs HC,   3.(PD + PD&RBD) vs HC vs RBD  multiclass, 4.PD vs PD+RBD vs RBD vs HC \n",
    "'''\n",
    "core_path = '/export/sphere/ebirah/ko20929/RBD_files/notebooks/frequency_analysis/constructed_data/band_power_time_series/expt_dfs/'\n",
    "\n",
    "#1 - This is to run the custom length expts\n",
    "folders = {'N1': 'N1_customised_40_expt_files/' , 'N2' : 'N2_120_expt_files_v2/','N3' : 'N3_82_expt_files/', 'REM' :'REM_19_expt_files/'}\n",
    "#2 -This is to run the expts on the full original length data without any dropping or cutting of the TS \n",
    "folders = {'N1': 'N1_full_expts/' , 'N2' : 'N2_full_expts/','N3' : 'N3_full_expts/', 'REM' :'REM_full_expts/'}\n",
    "#3 - This is to run the wakeful eyes closed experiments\n",
    "folders = {'EC1': 'EC_8_expts/' , 'EC2' : 'EC_full_expts/' }\n",
    "\n",
    "#Folder = folders[sys.argv[1]] #User can input which experiments will be run\n",
    "print('Change the folder here ^_^! ')\n",
    "\n",
    "folder = folders['EC1'] #I'm choosing this because it's the TS & Therefore quickest hopefully?\n",
    "folder = 'REM_full_expts/'\n",
    "\n",
    "expts = ['MrSQL_expt_1', 'MrSQL_expt_2' , 'MrSQL_expt_3' , 'MrSQL_expt_4']\n",
    "\n",
    "power_band_cols = ['Delta', 'Theta', 'Alpha', 'Sigma', 'Beta', 'Gamma', 'TotalAbsPow']\n",
    "\n",
    "regions = ['Prefrontal','Frontal', 'Left Frontal', 'Right Frontal', 'Central', 'Left Central', \n",
    "           'Right Central', 'Left Temporal','Right Temporal', 'Parietal', 'Left Parietal', 'Right Parietal', 'Occipital']\n",
    "\n",
    "#Load the appropriate X (full set of features ) , y (full set of labels) , groups \n",
    "load_path = core_path + folder\n",
    "X = pd.read_hdf(load_path + 'X.h5', key='df', mode='r')\n",
    "y = pd.read_hdf(load_path + 'y_full.h5', key='df', mode='r') \n",
    "groups = pd.read_hdf(load_path + 'groups.h5', key='df', mode='r')  "
   ]
  },
  {
   "cell_type": "code",
   "execution_count": 47,
   "id": "ec24c94d",
   "metadata": {},
   "outputs": [],
   "source": [
    "#1.Generate expt specific X,y,groups\n",
    "X_expt , y_expt , groups_expt, expt_info = run_expts.generate_expt_x_y_groups(X,y,groups,1)"
   ]
  },
  {
   "cell_type": "code",
   "execution_count": 48,
   "id": "38f15cb3",
   "metadata": {},
   "outputs": [],
   "source": [
    "X_Delta = X_expt[['Delta_Prefrontal']]"
   ]
  },
  {
   "cell_type": "code",
   "execution_count": 16,
   "id": "5a71a2aa",
   "metadata": {},
   "outputs": [],
   "source": [
    "X_train, X_test, y_train, y_test = train_test_split(X_Delta, y_expt, random_state = 43)"
   ]
  },
  {
   "cell_type": "code",
   "execution_count": 86,
   "id": "d529ebbb",
   "metadata": {},
   "outputs": [],
   "source": [
    "classifier = MrSEQLClassifier(seql_mode='fs', symrep=[ 'sfa' , 'sax']) "
   ]
  },
  {
   "cell_type": "code",
   "execution_count": 97,
   "id": "afa11874",
   "metadata": {},
   "outputs": [
    {
     "name": "stdout",
     "output_type": "stream",
     "text": [
      "CPU times: user 2.12 s, sys: 5.99 ms, total: 2.12 s\n",
      "Wall time: 2.12 s\n"
     ]
    },
    {
     "data": {
      "text/plain": [
       "0.75"
      ]
     },
     "execution_count": 97,
     "metadata": {},
     "output_type": "execute_result"
    }
   ],
   "source": [
    "%%time\n",
    "classifier.fit(X_train, y_train)\n",
    "y_pred = classifier.predict(X_test)\n",
    "accuracy_score(y_test, y_pred)"
   ]
  },
  {
   "cell_type": "code",
   "execution_count": 98,
   "id": "641aa3e6",
   "metadata": {},
   "outputs": [
    {
     "data": {
      "text/plain": [
       "1.0"
      ]
     },
     "execution_count": 98,
     "metadata": {},
     "output_type": "execute_result"
    }
   ],
   "source": [
    "classifier.fit(X_test, y_test)\n",
    "y_pred = classifier.predict(X_test)\n",
    "accuracy_score(y_test, y_pred)"
   ]
  },
  {
   "cell_type": "code",
   "execution_count": null,
   "id": "0b1454a2",
   "metadata": {},
   "outputs": [],
   "source": []
  },
  {
   "cell_type": "code",
   "execution_count": 22,
   "id": "68255b58",
   "metadata": {},
   "outputs": [],
   "source": [
    "X_Theta = X_expt[['Theta_Prefrontal']]"
   ]
  },
  {
   "cell_type": "code",
   "execution_count": 23,
   "id": "f192c13f",
   "metadata": {},
   "outputs": [],
   "source": [
    "Xt_train, Xt_test, yt_train, yt_test = train_test_split(X_Theta, y_expt, random_state = 43)"
   ]
  },
  {
   "cell_type": "code",
   "execution_count": 26,
   "id": "065dedde",
   "metadata": {},
   "outputs": [
    {
     "name": "stdout",
     "output_type": "stream",
     "text": [
      "CPU times: user 2.14 s, sys: 5.91 ms, total: 2.15 s\n",
      "Wall time: 2.15 s\n"
     ]
    },
    {
     "data": {
      "text/plain": [
       "5e-01"
      ]
     },
     "execution_count": 26,
     "metadata": {},
     "output_type": "execute_result"
    }
   ],
   "source": [
    "%%time\n",
    "classifier.fit(Xt_train, yt_train)\n",
    "yt_pred = classifier.predict(Xt_test)\n",
    "accuracy_score(yt_test, yt_pred)"
   ]
  },
  {
   "cell_type": "code",
   "execution_count": 27,
   "id": "e4291701",
   "metadata": {},
   "outputs": [
    {
     "data": {
      "text/plain": [
       "5e-01"
      ]
     },
     "execution_count": 27,
     "metadata": {},
     "output_type": "execute_result"
    }
   ],
   "source": [
    "yt_pred = classifier.predict(Xt_test)\n",
    "accuracy_score(yt_test, yt_pred)"
   ]
  },
  {
   "cell_type": "code",
   "execution_count": 35,
   "id": "b046e3f4",
   "metadata": {
    "scrolled": true
   },
   "outputs": [
    {
     "data": {
      "text/html": [
       "<div>\n",
       "<style scoped>\n",
       "    .dataframe tbody tr th:only-of-type {\n",
       "        vertical-align: middle;\n",
       "    }\n",
       "\n",
       "    .dataframe tbody tr th {\n",
       "        vertical-align: top;\n",
       "    }\n",
       "\n",
       "    .dataframe thead th {\n",
       "        text-align: right;\n",
       "    }\n",
       "</style>\n",
       "<table border=\"1\" class=\"dataframe\">\n",
       "  <thead>\n",
       "    <tr style=\"text-align: right;\">\n",
       "      <th></th>\n",
       "      <th>Delta_Prefrontal</th>\n",
       "    </tr>\n",
       "    <tr>\n",
       "      <th>id_val</th>\n",
       "      <th></th>\n",
       "    </tr>\n",
       "  </thead>\n",
       "  <tbody>\n",
       "    <tr>\n",
       "      <th>0</th>\n",
       "      <td>0      0.451210\n",
       "1      0.485463\n",
       "2      0.43161...</td>\n",
       "    </tr>\n",
       "    <tr>\n",
       "      <th>1</th>\n",
       "      <td>0      0.556763\n",
       "1      0.524243\n",
       "2      0.29737...</td>\n",
       "    </tr>\n",
       "    <tr>\n",
       "      <th>2</th>\n",
       "      <td>0      0.518393\n",
       "1      0.598627\n",
       "2      0.51664...</td>\n",
       "    </tr>\n",
       "    <tr>\n",
       "      <th>3</th>\n",
       "      <td>0      0.579698\n",
       "1      0.506822\n",
       "2      0.47951...</td>\n",
       "    </tr>\n",
       "    <tr>\n",
       "      <th>4</th>\n",
       "      <td>0      0.637609\n",
       "1      0.585811\n",
       "2      0.55187...</td>\n",
       "    </tr>\n",
       "    <tr>\n",
       "      <th>5</th>\n",
       "      <td>0      0.620811\n",
       "1      0.561290\n",
       "2      0.54175...</td>\n",
       "    </tr>\n",
       "    <tr>\n",
       "      <th>6</th>\n",
       "      <td>0      0.629542\n",
       "1      0.579442\n",
       "2      0.46030...</td>\n",
       "    </tr>\n",
       "    <tr>\n",
       "      <th>7</th>\n",
       "      <td>0      0.622035\n",
       "1      0.641346\n",
       "2      0.58693...</td>\n",
       "    </tr>\n",
       "    <tr>\n",
       "      <th>8</th>\n",
       "      <td>0      0.649790\n",
       "1      0.630928\n",
       "2      0.65337...</td>\n",
       "    </tr>\n",
       "    <tr>\n",
       "      <th>9</th>\n",
       "      <td>0      0.700983\n",
       "1      0.705111\n",
       "2      0.67447...</td>\n",
       "    </tr>\n",
       "    <tr>\n",
       "      <th>10</th>\n",
       "      <td>0      0.708929\n",
       "1      0.689901\n",
       "2      0.68147...</td>\n",
       "    </tr>\n",
       "    <tr>\n",
       "      <th>11</th>\n",
       "      <td>0      0.655467\n",
       "1      0.425862\n",
       "2      0.45321...</td>\n",
       "    </tr>\n",
       "    <tr>\n",
       "      <th>12</th>\n",
       "      <td>0      0.558032\n",
       "1      0.601710\n",
       "2      0.58223...</td>\n",
       "    </tr>\n",
       "    <tr>\n",
       "      <th>13</th>\n",
       "      <td>0      0.580587\n",
       "1      0.614762\n",
       "2      0.61080...</td>\n",
       "    </tr>\n",
       "    <tr>\n",
       "      <th>14</th>\n",
       "      <td>0      0.641481\n",
       "1      0.657795\n",
       "2      0.58354...</td>\n",
       "    </tr>\n",
       "    <tr>\n",
       "      <th>15</th>\n",
       "      <td>0      0.577125\n",
       "1      0.688036\n",
       "2      0.65387...</td>\n",
       "    </tr>\n",
       "    <tr>\n",
       "      <th>16</th>\n",
       "      <td>0      0.655244\n",
       "1      0.491517\n",
       "2      0.61948...</td>\n",
       "    </tr>\n",
       "    <tr>\n",
       "      <th>17</th>\n",
       "      <td>0      0.586676\n",
       "1      0.613435\n",
       "2      0.60148...</td>\n",
       "    </tr>\n",
       "    <tr>\n",
       "      <th>18</th>\n",
       "      <td>0      0.682072\n",
       "1      0.639590\n",
       "2      0.48716...</td>\n",
       "    </tr>\n",
       "    <tr>\n",
       "      <th>19</th>\n",
       "      <td>0      0.699799\n",
       "1      0.568072\n",
       "2      0.49853...</td>\n",
       "    </tr>\n",
       "    <tr>\n",
       "      <th>20</th>\n",
       "      <td>0      0.613062\n",
       "1      0.566219\n",
       "2      0.62762...</td>\n",
       "    </tr>\n",
       "    <tr>\n",
       "      <th>21</th>\n",
       "      <td>0      0.701006\n",
       "1      0.584648\n",
       "2      0.67684...</td>\n",
       "    </tr>\n",
       "    <tr>\n",
       "      <th>22</th>\n",
       "      <td>0      0.615028\n",
       "1      0.675132\n",
       "2      0.58339...</td>\n",
       "    </tr>\n",
       "    <tr>\n",
       "      <th>23</th>\n",
       "      <td>0      0.529984\n",
       "1      0.557568\n",
       "2      0.56893...</td>\n",
       "    </tr>\n",
       "    <tr>\n",
       "      <th>24</th>\n",
       "      <td>0      0.474483\n",
       "1      0.476462\n",
       "2      0.47208...</td>\n",
       "    </tr>\n",
       "    <tr>\n",
       "      <th>25</th>\n",
       "      <td>0      0.407323\n",
       "1      0.407989\n",
       "2      0.47759...</td>\n",
       "    </tr>\n",
       "    <tr>\n",
       "      <th>50</th>\n",
       "      <td>0      0.678356\n",
       "1      0.385182\n",
       "2      0.67673...</td>\n",
       "    </tr>\n",
       "    <tr>\n",
       "      <th>51</th>\n",
       "      <td>0      0.563585\n",
       "1      0.396850\n",
       "2      0.57949...</td>\n",
       "    </tr>\n",
       "    <tr>\n",
       "      <th>52</th>\n",
       "      <td>0      0.680488\n",
       "1      0.721845\n",
       "2      0.59624...</td>\n",
       "    </tr>\n",
       "    <tr>\n",
       "      <th>53</th>\n",
       "      <td>0      0.603470\n",
       "1      0.489657\n",
       "2      0.56619...</td>\n",
       "    </tr>\n",
       "    <tr>\n",
       "      <th>54</th>\n",
       "      <td>0      0.528230\n",
       "1      0.546678\n",
       "2      0.59370...</td>\n",
       "    </tr>\n",
       "    <tr>\n",
       "      <th>55</th>\n",
       "      <td>0      0.510816\n",
       "1      0.400175\n",
       "2      0.49049...</td>\n",
       "    </tr>\n",
       "    <tr>\n",
       "      <th>56</th>\n",
       "      <td>0      0.482939\n",
       "1      0.564157\n",
       "2      0.55502...</td>\n",
       "    </tr>\n",
       "    <tr>\n",
       "      <th>57</th>\n",
       "      <td>0      0.640300\n",
       "1      0.683622\n",
       "2      0.63999...</td>\n",
       "    </tr>\n",
       "    <tr>\n",
       "      <th>58</th>\n",
       "      <td>0      0.677227\n",
       "1      0.539894\n",
       "2      0.50238...</td>\n",
       "    </tr>\n",
       "    <tr>\n",
       "      <th>59</th>\n",
       "      <td>0      0.518585\n",
       "1      0.402442\n",
       "2      0.39644...</td>\n",
       "    </tr>\n",
       "    <tr>\n",
       "      <th>60</th>\n",
       "      <td>0      0.503537\n",
       "1      0.484019\n",
       "2      0.50693...</td>\n",
       "    </tr>\n",
       "    <tr>\n",
       "      <th>61</th>\n",
       "      <td>0      0.684022\n",
       "1      0.683356\n",
       "2      0.72228...</td>\n",
       "    </tr>\n",
       "    <tr>\n",
       "      <th>62</th>\n",
       "      <td>0      0.611757\n",
       "1      0.541319\n",
       "2      0.65392...</td>\n",
       "    </tr>\n",
       "    <tr>\n",
       "      <th>63</th>\n",
       "      <td>0      0.631298\n",
       "1      0.487511\n",
       "2      0.50672...</td>\n",
       "    </tr>\n",
       "  </tbody>\n",
       "</table>\n",
       "</div>"
      ],
      "text/plain": [
       "                                         Delta_Prefrontal\n",
       "id_val                                                   \n",
       "0       0      0.451210\n",
       "1      0.485463\n",
       "2      0.43161...\n",
       "1       0      0.556763\n",
       "1      0.524243\n",
       "2      0.29737...\n",
       "2       0      0.518393\n",
       "1      0.598627\n",
       "2      0.51664...\n",
       "3       0      0.579698\n",
       "1      0.506822\n",
       "2      0.47951...\n",
       "4       0      0.637609\n",
       "1      0.585811\n",
       "2      0.55187...\n",
       "5       0      0.620811\n",
       "1      0.561290\n",
       "2      0.54175...\n",
       "6       0      0.629542\n",
       "1      0.579442\n",
       "2      0.46030...\n",
       "7       0      0.622035\n",
       "1      0.641346\n",
       "2      0.58693...\n",
       "8       0      0.649790\n",
       "1      0.630928\n",
       "2      0.65337...\n",
       "9       0      0.700983\n",
       "1      0.705111\n",
       "2      0.67447...\n",
       "10      0      0.708929\n",
       "1      0.689901\n",
       "2      0.68147...\n",
       "11      0      0.655467\n",
       "1      0.425862\n",
       "2      0.45321...\n",
       "12      0      0.558032\n",
       "1      0.601710\n",
       "2      0.58223...\n",
       "13      0      0.580587\n",
       "1      0.614762\n",
       "2      0.61080...\n",
       "14      0      0.641481\n",
       "1      0.657795\n",
       "2      0.58354...\n",
       "15      0      0.577125\n",
       "1      0.688036\n",
       "2      0.65387...\n",
       "16      0      0.655244\n",
       "1      0.491517\n",
       "2      0.61948...\n",
       "17      0      0.586676\n",
       "1      0.613435\n",
       "2      0.60148...\n",
       "18      0      0.682072\n",
       "1      0.639590\n",
       "2      0.48716...\n",
       "19      0      0.699799\n",
       "1      0.568072\n",
       "2      0.49853...\n",
       "20      0      0.613062\n",
       "1      0.566219\n",
       "2      0.62762...\n",
       "21      0      0.701006\n",
       "1      0.584648\n",
       "2      0.67684...\n",
       "22      0      0.615028\n",
       "1      0.675132\n",
       "2      0.58339...\n",
       "23      0      0.529984\n",
       "1      0.557568\n",
       "2      0.56893...\n",
       "24      0      0.474483\n",
       "1      0.476462\n",
       "2      0.47208...\n",
       "25      0      0.407323\n",
       "1      0.407989\n",
       "2      0.47759...\n",
       "50      0      0.678356\n",
       "1      0.385182\n",
       "2      0.67673...\n",
       "51      0      0.563585\n",
       "1      0.396850\n",
       "2      0.57949...\n",
       "52      0      0.680488\n",
       "1      0.721845\n",
       "2      0.59624...\n",
       "53      0      0.603470\n",
       "1      0.489657\n",
       "2      0.56619...\n",
       "54      0      0.528230\n",
       "1      0.546678\n",
       "2      0.59370...\n",
       "55      0      0.510816\n",
       "1      0.400175\n",
       "2      0.49049...\n",
       "56      0      0.482939\n",
       "1      0.564157\n",
       "2      0.55502...\n",
       "57      0      0.640300\n",
       "1      0.683622\n",
       "2      0.63999...\n",
       "58      0      0.677227\n",
       "1      0.539894\n",
       "2      0.50238...\n",
       "59      0      0.518585\n",
       "1      0.402442\n",
       "2      0.39644...\n",
       "60      0      0.503537\n",
       "1      0.484019\n",
       "2      0.50693...\n",
       "61      0      0.684022\n",
       "1      0.683356\n",
       "2      0.72228...\n",
       "62      0      0.611757\n",
       "1      0.541319\n",
       "2      0.65392...\n",
       "63      0      0.631298\n",
       "1      0.487511\n",
       "2      0.50672..."
      ]
     },
     "execution_count": 35,
     "metadata": {},
     "output_type": "execute_result"
    }
   ],
   "source": [
    "X_Delta"
   ]
  },
  {
   "cell_type": "markdown",
   "id": "8ff2415d",
   "metadata": {},
   "source": [
    "## Unravel the loop"
   ]
  },
  {
   "cell_type": "code",
   "execution_count": null,
   "id": "802ebac3",
   "metadata": {},
   "outputs": [],
   "source": [
    "X_Delta,  y_expt , groups_expt, classifier, rand_state = 40"
   ]
  },
  {
   "cell_type": "code",
   "execution_count": 49,
   "id": "015ebe48",
   "metadata": {},
   "outputs": [],
   "source": [
    "classifier = MrSEQLClassifier(seql_mode='fs', symrep=[ 'sfa' , 'sax'])"
   ]
  },
  {
   "cell_type": "code",
   "execution_count": 53,
   "id": "ec58b697",
   "metadata": {},
   "outputs": [],
   "source": [
    "gss = GroupShuffleSplit(n_splits=5, test_size = 0.2,  random_state=40)\n",
    "acc_scores = []\n",
    "y_pred_arrays = []\n",
    "y_true_arrays = []"
   ]
  },
  {
   "cell_type": "code",
   "execution_count": 54,
   "id": "5c2f2564",
   "metadata": {},
   "outputs": [],
   "source": [
    "train_indices = [] \n",
    "test_indices = []\n",
    "for train_index, test_index  in gss.split(X_Delta, y_expt, groups_expt):\n",
    "    train_indices.append(train_index)\n",
    "    test_indices.append(test_index)"
   ]
  },
  {
   "cell_type": "code",
   "execution_count": 70,
   "id": "4bfd4709",
   "metadata": {},
   "outputs": [
    {
     "data": {
      "text/plain": [
       "40"
      ]
     },
     "execution_count": 70,
     "metadata": {},
     "output_type": "execute_result"
    }
   ],
   "source": [
    "len(groups_expt)"
   ]
  },
  {
   "cell_type": "code",
   "execution_count": 68,
   "id": "b2f3dc74",
   "metadata": {},
   "outputs": [
    {
     "data": {
      "text/plain": [
       "40"
      ]
     },
     "execution_count": 68,
     "metadata": {},
     "output_type": "execute_result"
    }
   ],
   "source": [
    "len(X_Delta)"
   ]
  },
  {
   "cell_type": "code",
   "execution_count": 85,
   "id": "ba9a0f50",
   "metadata": {},
   "outputs": [
    {
     "data": {
      "text/plain": [
       "array(['1103', '1104', '1105', '1106', '1108', '1109', '1110', '1111',\n",
       "       '1112', '1113', '1119', '4401', '4402', '4403', '4404', '4405',\n",
       "       '4406', '4407', '4408', '4409'], dtype=object)"
      ]
     },
     "execution_count": 85,
     "metadata": {},
     "output_type": "execute_result"
    }
   ],
   "source": [
    "np.unique(groups_expt.iloc[train_indices[4]])"
   ]
  },
  {
   "cell_type": "code",
   "execution_count": 83,
   "id": "28fd3387",
   "metadata": {},
   "outputs": [
    {
     "data": {
      "text/plain": [
       "array(['1101', '1102', '1116', '1117', '1118', '4410'], dtype=object)"
      ]
     },
     "execution_count": 83,
     "metadata": {},
     "output_type": "execute_result"
    }
   ],
   "source": [
    "np.unique(groups_expt.iloc[test_indices[4]])"
   ]
  },
  {
   "cell_type": "code",
   "execution_count": 55,
   "id": "65d28d04",
   "metadata": {},
   "outputs": [
    {
     "data": {
      "text/plain": [
       "[array([ 0,  1,  2,  3,  4,  7,  8,  9, 10, 11, 12, 13, 14, 15, 16, 17, 18,\n",
       "        19, 20, 21, 26, 27, 28, 29, 30, 31, 33, 34, 35, 36, 37, 38]),\n",
       " array([ 0,  1,  2,  3,  4,  5,  6,  7,  8,  9, 10, 13, 15, 16, 17, 18, 19,\n",
       "        20, 21, 22, 23, 24, 25, 29, 30, 31, 32, 34, 35, 36, 37, 38]),\n",
       " array([ 0,  1,  2,  3,  4,  7,  8,  9, 10, 11, 12, 14, 15, 16, 17, 20, 21,\n",
       "        22, 23, 24, 25, 29, 30, 31, 32, 33, 34, 35, 36, 37, 38]),\n",
       " array([ 0,  1,  2,  5,  6,  7,  8,  9, 10, 11, 12, 13, 14, 15, 16, 17, 18,\n",
       "        19, 20, 21, 22, 23, 29, 30, 31, 33, 34, 35, 36, 39]),\n",
       " array([ 3,  4,  5,  6,  7,  8,  9, 10, 11, 12, 13, 14, 15, 16, 17, 18, 19,\n",
       "        24, 25, 26, 27, 28, 29, 30, 31, 32, 33, 34, 35, 36, 37, 38])]"
      ]
     },
     "execution_count": 55,
     "metadata": {},
     "output_type": "execute_result"
    }
   ],
   "source": [
    "train_indices"
   ]
  },
  {
   "cell_type": "code",
   "execution_count": 65,
   "id": "f5e0801f",
   "metadata": {},
   "outputs": [
    {
     "data": {
      "text/plain": [
       "[array([ 5,  6, 22, 23, 24, 25, 32, 39]),\n",
       " array([11, 12, 14, 26, 27, 28, 33, 39]),\n",
       " array([ 5,  6, 13, 18, 19, 26, 27, 28, 39]),\n",
       " array([ 3,  4, 24, 25, 26, 27, 28, 32, 37, 38]),\n",
       " array([ 0,  1,  2, 20, 21, 22, 23, 39])]"
      ]
     },
     "execution_count": 65,
     "metadata": {},
     "output_type": "execute_result"
    }
   ],
   "source": [
    "test_indices"
   ]
  },
  {
   "cell_type": "code",
   "execution_count": 56,
   "id": "dae6fa75",
   "metadata": {},
   "outputs": [],
   "source": [
    "X = X_Delta.copy()\n",
    "y = y_expt.copy()"
   ]
  },
  {
   "cell_type": "code",
   "execution_count": 57,
   "id": "690538b7",
   "metadata": {},
   "outputs": [],
   "source": [
    "X_train, X_test = X.iloc[train_indices[0]], X.iloc[test_indices[0]]\n",
    "y_train, y_test = y.iloc[train_indices[0]], y.iloc[test_indices[0]]\n",
    "\n",
    "classifier.fit(X_train, y_train)\n",
    "y_preds = classifier.predict(X_test)\n",
    "\n",
    "y_pred_arrays.append(y_preds)\n",
    "y_true_arrays.append(y_test)\n",
    "\n",
    "acc_scores.append( accuracy_score(y_preds, y_test) )"
   ]
  },
  {
   "cell_type": "code",
   "execution_count": 58,
   "id": "dd580702",
   "metadata": {},
   "outputs": [],
   "source": [
    "X_train, X_test = X.iloc[train_indices[1]], X.iloc[test_indices[1]]\n",
    "y_train, y_test = y.iloc[train_indices[1]], y.iloc[test_indices[1]]\n",
    "\n",
    "classifier = MrSEQLClassifier(seql_mode='fs', symrep=[ 'sfa' , 'sax'])\n",
    "\n",
    "classifier.fit(X_train, y_train)\n",
    "y_preds = classifier.predict(X_test)\n",
    "\n",
    "y_pred_arrays.append(y_preds)\n",
    "y_true_arrays.append(y_test)\n",
    "\n",
    "acc_scores.append( accuracy_score(y_preds, y_test) )"
   ]
  },
  {
   "cell_type": "code",
   "execution_count": 59,
   "id": "9cae8a65",
   "metadata": {},
   "outputs": [],
   "source": [
    "X_train, X_test = X.iloc[train_indices[2]], X.iloc[test_indices[2]]\n",
    "y_train, y_test = y.iloc[train_indices[2]], y.iloc[test_indices[2]]\n",
    "\n",
    "classifier = MrSEQLClassifier(seql_mode='fs', symrep=[ 'sfa' , 'sax'])\n",
    "\n",
    "classifier.fit(X_train, y_train)\n",
    "y_preds = classifier.predict(X_test)\n",
    "\n",
    "y_pred_arrays.append(y_preds)\n",
    "y_true_arrays.append(y_test)\n",
    "\n",
    "acc_scores.append( accuracy_score(y_preds, y_test) )"
   ]
  },
  {
   "cell_type": "code",
   "execution_count": 60,
   "id": "6a3a2a34",
   "metadata": {},
   "outputs": [],
   "source": [
    "X_train, X_test = X.iloc[train_indices[3]], X.iloc[test_indices[3]]\n",
    "y_train, y_test = y.iloc[train_indices[3]], y.iloc[test_indices[3]]\n",
    "\n",
    "classifier = MrSEQLClassifier(seql_mode='fs', symrep=[ 'sfa' , 'sax'])\n",
    "\n",
    "classifier.fit(X_train, y_train)\n",
    "y_preds = classifier.predict(X_test)\n",
    "\n",
    "y_pred_arrays.append(y_preds)\n",
    "y_true_arrays.append(y_test)\n",
    "\n",
    "acc_scores.append( accuracy_score(y_preds, y_test) )"
   ]
  },
  {
   "cell_type": "code",
   "execution_count": 61,
   "id": "14814982",
   "metadata": {},
   "outputs": [],
   "source": [
    "X_train, X_test = X.iloc[train_indices[4]], X.iloc[test_indices[4]]\n",
    "y_train, y_test = y.iloc[train_indices[4]], y.iloc[test_indices[4]]\n",
    "\n",
    "classifier = MrSEQLClassifier(seql_mode='fs', symrep=[ 'sfa' , 'sax'])\n",
    "\n",
    "classifier.fit(X_train, y_train)\n",
    "y_preds = classifier.predict(X_test)\n",
    "\n",
    "y_pred_arrays.append(y_preds)\n",
    "y_true_arrays.append(y_test)\n",
    "\n",
    "acc_scores.append( accuracy_score(y_preds, y_test) )"
   ]
  },
  {
   "cell_type": "code",
   "execution_count": 64,
   "id": "412d69d8",
   "metadata": {},
   "outputs": [
    {
     "data": {
      "text/plain": [
       "1.0"
      ]
     },
     "execution_count": 64,
     "metadata": {},
     "output_type": "execute_result"
    }
   ],
   "source": [
    "classifier.fit(X_test, y_test)\n",
    "\n",
    "accuracy_score( classifier.predict(X_test) , y_test )\n"
   ]
  },
  {
   "cell_type": "code",
   "execution_count": 62,
   "id": "74a229b7",
   "metadata": {},
   "outputs": [],
   "source": [
    "acc_scores = np.array(acc_scores)\n",
    "mean_acc = acc_scores.mean()\n",
    "acc_std = acc_scores.std()"
   ]
  },
  {
   "cell_type": "code",
   "execution_count": 63,
   "id": "9d409cbd",
   "metadata": {},
   "outputs": [
    {
     "name": "stdout",
     "output_type": "stream",
     "text": [
      "0.5661111111111111\n",
      "0.16239336482218603\n"
     ]
    }
   ],
   "source": [
    "print(mean_acc)\n",
    "print(acc_std)"
   ]
  },
  {
   "cell_type": "markdown",
   "id": "e61a617a",
   "metadata": {},
   "source": [
    "## Group Shuffle Split CV Function for MrSEQL"
   ]
  },
  {
   "cell_type": "code",
   "execution_count": 73,
   "id": "d2b6a2c9",
   "metadata": {},
   "outputs": [],
   "source": [
    "def run_clf_with_CV(X, y , groups , grant_clf , rand_state = 40):\n",
    "    '''\n",
    "    Run classifier on input features X -> seperate more complex version of this function required for column ensemble models\n",
    "    Cross validation is performed\n",
    "    Output is : Mean of CV accuracy values and Std of CV accuracy values, y_pred arrays for each of 5 folds , y_true arrays for each of the 5 folds\n",
    "    '''\n",
    "    #The test function\n",
    "    gss = GroupShuffleSplit(n_splits=5, test_size = 0.2,  random_state=rand_state)\n",
    "    acc_scores = []\n",
    "    y_pred_arrays = []\n",
    "    y_true_arrays = []\n",
    "\n",
    "    for train_index, test_index  in gss.split(X, y, groups):\n",
    "                    X_train, X_test = X.iloc[train_index], X.iloc[test_index]\n",
    "                    y_train, y_test = y.iloc[train_index], y.iloc[test_index]\n",
    "\n",
    "\n",
    "                    grant_clf.fit(X_train, y_train)\n",
    "                    y_preds = grant_clf.predict(X_test)\n",
    "                        \n",
    "                    y_pred_arrays.append(y_preds)\n",
    "                    y_true_arrays.append(y_test)\n",
    "\n",
    "                    acc_scores.append( accuracy_score(y_preds, y_test) )\n",
    "    \n",
    "    acc_scores = np.array(acc_scores)\n",
    "    mean_acc = acc_scores.mean()\n",
    "    acc_std = acc_scores.std()\n",
    "\n",
    "   \n",
    "    return mean_acc, acc_std , y_pred_arrays , y_true_arrays "
   ]
  },
  {
   "cell_type": "code",
   "execution_count": 49,
   "id": "47207642",
   "metadata": {},
   "outputs": [],
   "source": [
    "def run_clf_with_CV_init_inside(X, y , groups , clf , rand_state = 40):\n",
    "    '''\n",
    "    Run classifier on input features X -> seperate more complex version of this function required for column ensemble models\n",
    "    Cross validation is performed\n",
    "    Output is : Mean of CV accuracy values and Std of CV accuracy values, y_pred arrays for each of 5 folds , y_true arrays for each of the 5 folds\n",
    "    '''\n",
    "    #The test function\n",
    "    gss = GroupShuffleSplit(n_splits=5, test_size = 0.2,  random_state=rand_state)\n",
    "    acc_scores = []\n",
    "    y_pred_arrays = []\n",
    "    y_true_arrays = []\n",
    "\n",
    "    for train_index, test_index  in gss.split(X, y, groups):\n",
    "                    X_train, X_test = X.iloc[train_index], X.iloc[test_index]\n",
    "                    y_train, y_test = y.iloc[train_index], y.iloc[test_index]\n",
    "                \n",
    "                    clf = MrSEQLClassifier(seql_mode='fs', symrep=[ 'sfa' , 'sax'])\n",
    "\n",
    "\n",
    "                    clf.fit(X_train, y_train)\n",
    "                    y_preds = clf.predict(X_test)\n",
    "                        \n",
    "                    y_pred_arrays.append(y_preds)\n",
    "                    y_true_arrays.append(y_test)\n",
    "\n",
    "                    acc_scores.append( accuracy_score(y_preds, y_test) )\n",
    "    \n",
    "    acc_scores = np.array(acc_scores)\n",
    "    mean_acc = acc_scores.mean()\n",
    "    acc_std = acc_scores.std()\n",
    "\n",
    "   \n",
    "    return mean_acc, acc_std , y_pred_arrays , y_true_arrays "
   ]
  },
  {
   "cell_type": "code",
   "execution_count": 74,
   "id": "24575d88",
   "metadata": {},
   "outputs": [],
   "source": [
    "classifier = MrSEQLClassifier(seql_mode='fs', symrep=[ 'sfa' , 'sax'])"
   ]
  },
  {
   "cell_type": "code",
   "execution_count": 75,
   "id": "1b1b5887",
   "metadata": {},
   "outputs": [],
   "source": [
    "mean_acc, acc_std , y_pred_arrays , y_true_arrays  = run_clf_with_CV(X_Delta,  y_expt , groups_expt, classifier, rand_state = 40 ) "
   ]
  },
  {
   "cell_type": "code",
   "execution_count": 76,
   "id": "3e473439",
   "metadata": {},
   "outputs": [
    {
     "data": {
      "text/plain": [
       "0.8577777777777778"
      ]
     },
     "execution_count": 76,
     "metadata": {},
     "output_type": "execute_result"
    }
   ],
   "source": [
    "mean_acc"
   ]
  },
  {
   "cell_type": "code",
   "execution_count": 77,
   "id": "665d3d65",
   "metadata": {},
   "outputs": [
    {
     "data": {
      "text/plain": [
       "0.054698951622878245"
      ]
     },
     "execution_count": 77,
     "metadata": {},
     "output_type": "execute_result"
    }
   ],
   "source": [
    "acc_std"
   ]
  },
  {
   "cell_type": "code",
   "execution_count": 50,
   "id": "9374f21e",
   "metadata": {},
   "outputs": [],
   "source": [
    "mean_acc, acc_std , y_pred_arrays , y_true_arrays  = run_clf_with_CV_init_inside(X_Delta,  y_expt , groups_expt, classifier, rand_state = 40 ) "
   ]
  },
  {
   "cell_type": "code",
   "execution_count": 53,
   "id": "cc058511",
   "metadata": {},
   "outputs": [
    {
     "data": {
      "text/plain": [
       "0.16239336482218603"
      ]
     },
     "execution_count": 53,
     "metadata": {},
     "output_type": "execute_result"
    }
   ],
   "source": [
    "acc_std"
   ]
  },
  {
   "cell_type": "code",
   "execution_count": 52,
   "id": "3026ff2b",
   "metadata": {
    "scrolled": true
   },
   "outputs": [
    {
     "data": {
      "text/plain": [
       "0.5661111111111111"
      ]
     },
     "execution_count": 52,
     "metadata": {},
     "output_type": "execute_result"
    }
   ],
   "source": [
    "mean_acc"
   ]
  },
  {
   "cell_type": "markdown",
   "id": "ae0851d4",
   "metadata": {},
   "source": [
    "## Group Shuffle Split CV Function for other classifier"
   ]
  },
  {
   "cell_type": "code",
   "execution_count": 65,
   "id": "05ac192d",
   "metadata": {},
   "outputs": [],
   "source": [
    "def run_clf_with_CV_init_inside_KNN(X, y , groups , clf , rand_state = 40):\n",
    "    '''\n",
    "    Run classifier on input features X -> seperate more complex version of this function required for column ensemble models\n",
    "    Cross validation is performed\n",
    "    Output is : Mean of CV accuracy values and Std of CV accuracy values, y_pred arrays for each of 5 folds , y_true arrays for each of the 5 folds\n",
    "    '''\n",
    "    #The test function\n",
    "    gss = GroupShuffleSplit(n_splits=5, test_size = 0.2,  random_state=rand_state)\n",
    "    acc_scores = []\n",
    "    y_pred_arrays = []\n",
    "    y_true_arrays = []\n",
    "\n",
    "    for train_index, test_index  in gss.split(X, y, groups):\n",
    "                    X_train, X_test = X.iloc[train_index], X.iloc[test_index]\n",
    "                    y_train, y_test = y.iloc[train_index], y.iloc[test_index]\n",
    "                \n",
    "                    clf =  KNeighborsTimeSeriesClassifier()\n",
    "\n",
    "\n",
    "                    clf.fit(X_train, y_train)\n",
    "                    y_preds = clf.predict(X_test)\n",
    "                        \n",
    "                    y_pred_arrays.append(y_preds)\n",
    "                    y_true_arrays.append(y_test)\n",
    "\n",
    "                    acc_scores.append( accuracy_score(y_preds, y_test) )\n",
    "    \n",
    "    acc_scores = np.array(acc_scores)\n",
    "    mean_acc = acc_scores.mean()\n",
    "    acc_std = acc_scores.std()\n",
    "\n",
    "   \n",
    "    return mean_acc, acc_std , y_pred_arrays , y_true_arrays "
   ]
  },
  {
   "cell_type": "code",
   "execution_count": 58,
   "id": "b159b2a8",
   "metadata": {},
   "outputs": [],
   "source": [
    "from sktime.classification.distance_based import KNeighborsTimeSeriesClassifier"
   ]
  },
  {
   "cell_type": "code",
   "execution_count": 62,
   "id": "d8483b7c",
   "metadata": {},
   "outputs": [],
   "source": [
    "clf =  KNeighborsTimeSeriesClassifier()"
   ]
  },
  {
   "cell_type": "code",
   "execution_count": 63,
   "id": "810852e8",
   "metadata": {},
   "outputs": [],
   "source": [
    "mean_acc, acc_std , y_pred_arrays , y_true_arrays  = run_clf_with_CV(X_Delta,  y_expt , groups_expt, clf, rand_state = 40 ) "
   ]
  },
  {
   "cell_type": "code",
   "execution_count": 64,
   "id": "ec785a1e",
   "metadata": {},
   "outputs": [
    {
     "name": "stdout",
     "output_type": "stream",
     "text": [
      "0.6405555555555555\n",
      "0.19506725652425944\n"
     ]
    }
   ],
   "source": [
    "print(mean_acc)\n",
    "print(acc_std)"
   ]
  },
  {
   "cell_type": "code",
   "execution_count": 66,
   "id": "1856a8bf",
   "metadata": {},
   "outputs": [],
   "source": [
    "mean_acc, acc_std , y_pred_arrays , y_true_arrays  = run_clf_with_CV_init_inside_KNN(X_Delta,  y_expt , groups_expt, clf, rand_state = 40 ) "
   ]
  },
  {
   "cell_type": "code",
   "execution_count": 67,
   "id": "29a5a1f1",
   "metadata": {},
   "outputs": [
    {
     "name": "stdout",
     "output_type": "stream",
     "text": [
      "0.6405555555555555\n",
      "0.19506725652425944\n"
     ]
    }
   ],
   "source": [
    "print(mean_acc)\n",
    "print(acc_std)"
   ]
  }
 ],
 "metadata": {
  "kernelspec": {
   "display_name": "Python 3 (ipykernel)",
   "language": "python",
   "name": "python3"
  },
  "language_info": {
   "codemirror_mode": {
    "name": "ipython",
    "version": 3
   },
   "file_extension": ".py",
   "mimetype": "text/x-python",
   "name": "python",
   "nbconvert_exporter": "python",
   "pygments_lexer": "ipython3",
   "version": "3.11.3"
  }
 },
 "nbformat": 4,
 "nbformat_minor": 5
}
