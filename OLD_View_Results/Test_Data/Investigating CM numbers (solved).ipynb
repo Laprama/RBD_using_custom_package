{
 "cells": [
  {
   "cell_type": "code",
   "execution_count": 4,
   "id": "95bf652f",
   "metadata": {},
   "outputs": [],
   "source": [
    "#Sktime imports\n",
    "import numpy as np\n",
    "from sklearn.model_selection import train_test_split\n",
    "from sklearn.pipeline import Pipeline\n",
    "from sklearn.model_selection import GroupShuffleSplit\n",
    "\n",
    "from IPython.utils import io\n",
    "import pandas as pd\n",
    "import os\n",
    "from pathlib import Path\n",
    "from matplotlib import pyplot as plt\n",
    "from scipy.signal import find_peaks\n",
    "import numpy as np\n",
    "import seaborn as sns\n",
    "import time\n",
    "import joblib\n",
    "import sys\n",
    "from os.path import exists\n",
    "\n",
    "import importlib\n",
    "\n",
    "#EEG package modules_____________________________________________________________________________\n",
    "\n",
    "import constants\n",
    "import custom_ts_length\n",
    "# import eeg_stat_ts\n",
    "import format_eeg_data\n",
    "import run_expts\n",
    "\n",
    "#Load the appropriate data ________________________________________________________________________\n",
    "'''\n",
    "o 1. PD vs HC,   2.(PD , PD+RBD) vs HC,   3.(PD + PD&RBD) vs HC vs RBD  multiclass, 4.PD vs PD+RBD vs RBD vs HC \n",
    "'''\n",
    "core_path = '/export/sphere/ebirah/ko20929/RBD_files/notebooks/frequency_analysis/constructed_data/band_power_time_series/expt_dfs/'\n",
    "folder = 'REM_full_expts/'\n",
    "#Load the appropriate X (full set of features ) , y (full set of labels) , groups \n",
    "load_path = core_path + folder\n",
    "X = pd.read_hdf(load_path + 'X.h5', key='df', mode='r')\n",
    "y = pd.read_hdf(load_path + 'y_full.h5', key='df', mode='r') \n",
    "groups = pd.read_hdf(load_path + 'groups.h5', key='df', mode='r')  "
   ]
  },
  {
   "cell_type": "markdown",
   "id": "444dff77",
   "metadata": {},
   "source": [
    "#### Define X_subset"
   ]
  },
  {
   "cell_type": "code",
   "execution_count": 5,
   "id": "3f70fbe2",
   "metadata": {},
   "outputs": [
    {
     "name": "stdout",
     "output_type": "stream",
     "text": [
      "X\n",
      "There are 69 samples\n",
      "There are 69 unique samples\n",
      "y\n",
      "There are 69 samples\n",
      "There are 69 unique samples\n",
      "groups\n",
      "There are 69 samples\n",
      "There are 69 unique samples\n"
     ]
    },
    {
     "data": {
      "text/plain": [
       "0    26\n",
       "3    22\n",
       "1    14\n",
       "2     7\n",
       "Name: y_label, dtype: int64"
      ]
     },
     "execution_count": 5,
     "metadata": {},
     "output_type": "execute_result"
    }
   ],
   "source": [
    "X_subset = X.iloc[:, :7]\n",
    "\n",
    "for structure , name in zip([X_subset, y , groups] , ['X', 'y', 'groups']): \n",
    "    print(name)\n",
    "    print( 'There are ' + str(len(structure) ) + ' samples')\n",
    "    print( 'There are ' + str(len(np.unique(structure.index))) + ' unique samples' ) \n",
    "\n",
    "y.value_counts()"
   ]
  },
  {
   "cell_type": "markdown",
   "id": "167a37a7",
   "metadata": {},
   "source": [
    "### Previously used Group Shuffle Split"
   ]
  },
  {
   "cell_type": "code",
   "execution_count": 8,
   "id": "4ec2d758",
   "metadata": {},
   "outputs": [
    {
     "data": {
      "text/plain": [
       "13.8"
      ]
     },
     "execution_count": 8,
     "metadata": {},
     "output_type": "execute_result"
    }
   ],
   "source": [
    "69*0.2"
   ]
  },
  {
   "cell_type": "code",
   "execution_count": 12,
   "id": "554f79f1",
   "metadata": {},
   "outputs": [
    {
     "name": "stdout",
     "output_type": "stream",
     "text": [
      "55 14\n",
      "53 16\n",
      "55 14\n",
      "57 12\n",
      "54 15\n",
      "[ 0  1  5  5  6  6  7  8  9  9 10 10 11 11 12 12 13 13 17 18 18 19 19 20\n",
      " 21 22 22 23 23 26 27 28 29 30 31 32 33 33 34 35 35 36 36 40 41 42 42 43\n",
      " 43 44 44 45 48 49 51 51 52 52 53 54 54 54 55 55 57 58 61 62 62 67 68]\n",
      "71\n"
     ]
    }
   ],
   "source": [
    "#The test function\n",
    "gss = GroupShuffleSplit(n_splits=5, test_size = 0.2,  random_state=13)\n",
    "\n",
    "test_samples = []\n",
    "test_indices = []\n",
    "test_groups = []\n",
    "\n",
    "for train_index, test_index  in gss.split(X_subset, y, groups):\n",
    "                X_train, X_test = X.iloc[train_index], X.iloc[test_index]\n",
    "                y_train, y_test = y.iloc[train_index], y.iloc[test_index]\n",
    "                test_group = groups.iloc[test_index]\n",
    "                test_groups.append(test_group)\n",
    "                test_indices.append(test_index)\n",
    "                \n",
    "                print(str(len(train_index)) + ' ' + str(len(test_index) ))\n",
    "\n",
    "print(np.sort(np.concatenate(test_indices)) )\n",
    "print(len(np.concatenate(test_indices)) )"
   ]
  },
  {
   "cell_type": "markdown",
   "id": "01b644b6",
   "metadata": {},
   "source": [
    "### Using Group k-fold instead edit : This works! ... "
   ]
  },
  {
   "cell_type": "code",
   "execution_count": 14,
   "id": "5fd7fd76",
   "metadata": {},
   "outputs": [
    {
     "data": {
      "text/plain": [
       "array([ 0,  1,  2,  3,  4,  5,  6,  7,  8,  9, 10, 11, 12, 13, 14, 15, 16,\n",
       "       17, 18, 19, 20, 21, 22, 23, 24, 25, 26, 27, 28, 29, 30, 31, 32, 34,\n",
       "       35, 36, 37, 39, 40, 41, 42, 43, 44, 45, 46, 47, 48, 49, 50, 51, 52,\n",
       "       53, 54, 55, 56, 57, 58, 59, 60, 61, 62, 63, 65, 66, 67, 68, 69, 70,\n",
       "       71])"
      ]
     },
     "execution_count": 14,
     "metadata": {},
     "output_type": "execute_result"
    }
   ],
   "source": [
    "X_subset.index.values"
   ]
  },
  {
   "cell_type": "code",
   "execution_count": 79,
   "id": "8cf98515",
   "metadata": {},
   "outputs": [
    {
     "data": {
      "text/plain": [
       "3"
      ]
     },
     "execution_count": 79,
     "metadata": {},
     "output_type": "execute_result"
    }
   ],
   "source": [
    " np. random. get_state()[1][0]"
   ]
  },
  {
   "cell_type": "code",
   "execution_count": null,
   "id": "8d5b60e7",
   "metadata": {},
   "outputs": [],
   "source": [
    "#Check out stratified Kfold"
   ]
  },
  {
   "cell_type": "code",
   "execution_count": 77,
   "id": "40448291",
   "metadata": {
    "scrolled": true
   },
   "outputs": [
    {
     "data": {
      "text/plain": [
       "[array([ 3,  4,  7,  8, 17, 29, 30, 35, 39, 40, 41, 48, 65, 71]),\n",
       " array([ 0,  1,  5,  6, 11, 12, 14, 27, 28, 34, 42, 43, 47, 56]),\n",
       " array([13, 15, 16, 20, 21, 24, 25, 26, 46, 50, 51, 57, 66, 67]),\n",
       " array([ 2, 18, 19, 23, 37, 53, 54, 58, 59, 60, 63, 68, 69, 70]),\n",
       " array([ 9, 10, 22, 31, 32, 36, 44, 45, 49, 52, 55, 61, 62])]"
      ]
     },
     "execution_count": 77,
     "metadata": {},
     "output_type": "execute_result"
    }
   ],
   "source": [
    "from sklearn.model_selection import GroupKFold\n",
    "\n",
    "gkf = GroupKFold(n_splits = 5) \n",
    "\n",
    "test_splits = []\n",
    "test_indices = []\n",
    "\n",
    "np.random.seed(3)\n",
    "\n",
    "for train, test in gkf.split(X_subset ,y, groups = groups.astype(int)*-1):\n",
    "    test_splits.append(test)\n",
    "    test_set = X_subset.iloc[test]\n",
    "    test_indices.append( np.sort(test_set.index.values) )\n",
    "    \n",
    "len(np.sort(np.concatenate(test_splits) ) )\n",
    "\n",
    "test_indices"
   ]
  },
  {
   "cell_type": "code",
   "execution_count": 51,
   "id": "17fc5873",
   "metadata": {
    "scrolled": true
   },
   "outputs": [
    {
     "data": {
      "text/plain": [
       "[array([ 9, 10, 18, 19, 22, 39, 40, 41, 47, 56, 59, 60, 63, 67]),\n",
       " array([ 0,  1, 29, 30, 31, 32, 34, 46, 53, 54, 55, 61, 62, 66]),\n",
       " array([ 7,  8, 13, 15, 16, 23, 35, 36, 42, 43, 52, 65, 68, 69]),\n",
       " array([ 2,  5,  6, 11, 12, 14, 27, 28, 37, 44, 45, 49, 58, 71]),\n",
       " array([ 3,  4, 17, 20, 21, 24, 25, 26, 48, 50, 51, 57, 70])]"
      ]
     },
     "execution_count": 51,
     "metadata": {},
     "output_type": "execute_result"
    }
   ],
   "source": [
    "test_indices_before_seed_edit"
   ]
  },
  {
   "cell_type": "code",
   "execution_count": 43,
   "id": "60016c0b",
   "metadata": {
    "scrolled": true
   },
   "outputs": [
    {
     "data": {
      "text/plain": [
       "[array([ 3,  4,  7,  8, 17, 29, 30, 35, 39, 40, 41, 48, 65, 71]),\n",
       " array([ 0,  1,  5,  6, 11, 12, 14, 27, 28, 34, 42, 43, 47, 56]),\n",
       " array([13, 15, 16, 20, 21, 24, 25, 26, 46, 50, 51, 57, 66, 67]),\n",
       " array([ 2, 18, 19, 23, 37, 53, 54, 58, 59, 60, 63, 68, 69, 70]),\n",
       " array([ 9, 10, 22, 31, 32, 36, 44, 45, 49, 52, 55, 61, 62])]"
      ]
     },
     "execution_count": 43,
     "metadata": {},
     "output_type": "execute_result"
    }
   ],
   "source": [
    "test_indices_list"
   ]
  },
  {
   "cell_type": "code",
   "execution_count": 61,
   "id": "15b6faaa",
   "metadata": {},
   "outputs": [],
   "source": [
    "#Join y and groups to the features dataframe 'X' \n",
    "#Shuffle the dataframe - with random_state = something \n",
    "#Re-define , y and groups from the dataframe \n",
    "#Drop y and groups from the dataframe \n",
    "#Do the split\n",
    "\n",
    "X_subset_new = X_subset.copy()\n",
    "X_subset_new['y'] = y.copy()\n",
    "X_subset_new['groups'] = groups.copy()\n",
    "\n",
    "X_subset_new = X_subset_new.sample(frac = 1 , random_state  = 1)\n",
    "groups_new = X_subset_new['groups']\n",
    "y_new = X_subset_new['y']\n",
    "\n",
    "#Trying to get a differernt PID SPLIT \n",
    "groups_new = groups_new.astype(int)\n",
    "groups_new = groups_new*-1\n",
    "\n",
    "\n",
    "X_subset_new = X_subset_new.drop(columns = ['y', 'groups'])\n",
    "\n",
    "# Do group Kfold on the tinggggggggggggggggggggggggggggggggggggggggggggg\n",
    "gkf = GroupKFold(n_splits = 5) \n",
    "\n",
    "test_splits = []\n",
    "test_indices_list = []\n",
    "p_id_list = []\n",
    "\n",
    "for train, test in gkf.split(X_subset_new ,y_new, groups = groups_new):\n",
    "    test_splits.append(test)\n",
    "    test_indices = X_subset_new.iloc[test].index.values\n",
    "    test_indices_list.append(np.sort(test_indices) )\n",
    "    p_id_list.append(np.sort(groups_new.iloc[test].values*-1))\n"
   ]
  },
  {
   "cell_type": "code",
   "execution_count": 66,
   "id": "a2ca7785",
   "metadata": {},
   "outputs": [],
   "source": [
    "def check_duplicates(arrays):\n",
    "    all_values = set()\n",
    "    for array in arrays:\n",
    "        duplicates = set(array) & all_values\n",
    "        if duplicates:\n",
    "            return f\"Error: Duplicates found in arrays: {duplicates}\"\n",
    "        all_values.update(array)\n",
    "        \n",
    "    return \"No duplicates found\""
   ]
  },
  {
   "cell_type": "code",
   "execution_count": 69,
   "id": "bdad3be1",
   "metadata": {},
   "outputs": [
    {
     "data": {
      "text/plain": [
       "'Error: Duplicates found in arrays: {1103}'"
      ]
     },
     "execution_count": 69,
     "metadata": {},
     "output_type": "execute_result"
    }
   ],
   "source": [
    "check_duplicates(p_id_list)"
   ]
  },
  {
   "cell_type": "code",
   "execution_count": 62,
   "id": "50342682",
   "metadata": {},
   "outputs": [
    {
     "data": {
      "text/html": [
       "<div>\n",
       "<style scoped>\n",
       "    .dataframe tbody tr th:only-of-type {\n",
       "        vertical-align: middle;\n",
       "    }\n",
       "\n",
       "    .dataframe tbody tr th {\n",
       "        vertical-align: top;\n",
       "    }\n",
       "\n",
       "    .dataframe thead th {\n",
       "        text-align: right;\n",
       "    }\n",
       "</style>\n",
       "<table border=\"1\" class=\"dataframe\">\n",
       "  <thead>\n",
       "    <tr style=\"text-align: right;\">\n",
       "      <th></th>\n",
       "      <th>2210</th>\n",
       "      <th>1101</th>\n",
       "      <th>1116</th>\n",
       "      <th>4403</th>\n",
       "      <th>2212</th>\n",
       "      <th>2211</th>\n",
       "      <th>4408</th>\n",
       "      <th>4409</th>\n",
       "      <th>2205</th>\n",
       "      <th>2204</th>\n",
       "      <th>2203</th>\n",
       "      <th>4401</th>\n",
       "      <th>1119</th>\n",
       "      <th>1106</th>\n",
       "      <th>1113</th>\n",
       "      <th>1103</th>\n",
       "      <th>1111</th>\n",
       "      <th>3304</th>\n",
       "      <th>1108</th>\n",
       "      <th>1104</th>\n",
       "      <th>1105</th>\n",
       "    </tr>\n",
       "  </thead>\n",
       "  <tbody>\n",
       "    <tr>\n",
       "      <th>part_id</th>\n",
       "      <td>3</td>\n",
       "      <td>2</td>\n",
       "      <td>2</td>\n",
       "      <td>2</td>\n",
       "      <td>2</td>\n",
       "      <td>2</td>\n",
       "      <td>2</td>\n",
       "      <td>2</td>\n",
       "      <td>2</td>\n",
       "      <td>2</td>\n",
       "      <td>2</td>\n",
       "      <td>2</td>\n",
       "      <td>2</td>\n",
       "      <td>2</td>\n",
       "      <td>2</td>\n",
       "      <td>2</td>\n",
       "      <td>2</td>\n",
       "      <td>2</td>\n",
       "      <td>2</td>\n",
       "      <td>2</td>\n",
       "      <td>2</td>\n",
       "    </tr>\n",
       "  </tbody>\n",
       "</table>\n",
       "</div>"
      ],
      "text/plain": [
       "         2210  1101  1116  4403  2212  2211  4408  4409  2205  2204  2203  \\\n",
       "part_id     3     2     2     2     2     2     2     2     2     2     2   \n",
       "\n",
       "         4401  1119  1106  1113  1103  1111  3304  1108  1104  1105  \n",
       "part_id     2     2     2     2     2     2     2     2     2     2  "
      ]
     },
     "execution_count": 62,
     "metadata": {},
     "output_type": "execute_result"
    }
   ],
   "source": [
    "pd.options.display.max_columns = 40\n",
    "df_counts = pd.DataFrame(groups.value_counts()[groups.value_counts() > 1] ).T \n",
    "df_counts"
   ]
  },
  {
   "cell_type": "code",
   "execution_count": 63,
   "id": "1123f951",
   "metadata": {},
   "outputs": [
    {
     "data": {
      "text/plain": [
       "[array([1103, 1103, 1105, 1105, 1112, 2204, 2204, 2207, 2210, 2210, 2210,\n",
       "        2215, 3301, 3306]),\n",
       " array([1101, 1101, 1104, 1104, 1108, 1108, 1110, 2203, 2203, 2206, 2211,\n",
       "        2211, 2214, 4405]),\n",
       " array([1109, 1111, 1111, 1116, 1116, 1119, 1119, 2202, 2213, 3302, 3303,\n",
       "        4401, 4401, 4406]),\n",
       " array([1102, 1113, 1113, 1118, 2209, 3304, 3304, 3305, 4403, 4403, 4407,\n",
       "        4408, 4408, 4410]),\n",
       " array([1106, 1106, 1117, 2205, 2205, 2208, 2212, 2212, 2216, 4402, 4404,\n",
       "        4409, 4409])]"
      ]
     },
     "execution_count": 63,
     "metadata": {},
     "output_type": "execute_result"
    }
   ],
   "source": [
    "p_id_list"
   ]
  },
  {
   "cell_type": "code",
   "execution_count": 15,
   "id": "c19612eb",
   "metadata": {},
   "outputs": [
    {
     "data": {
      "text/plain": [
       "array([ 3,  4, 17, 20, 21, 24, 25, 26, 46, 48, 49, 55, 67])"
      ]
     },
     "execution_count": 15,
     "metadata": {},
     "output_type": "execute_result"
    }
   ],
   "source": [
    "test"
   ]
  },
  {
   "cell_type": "code",
   "execution_count": 14,
   "id": "4393d0b7",
   "metadata": {},
   "outputs": [
    {
     "data": {
      "text/plain": [
       "array([ 0,  1,  2,  5,  6,  7,  8,  9, 10, 11, 12, 13, 14, 15, 16, 18, 19,\n",
       "       22, 23, 27, 28, 29, 30, 31, 32, 33, 34, 35, 36, 37, 38, 39, 40, 41,\n",
       "       42, 43, 44, 45, 47, 50, 51, 52, 53, 54, 56, 57, 58, 59, 60, 61, 62,\n",
       "       63, 64, 65, 66, 68])"
      ]
     },
     "execution_count": 14,
     "metadata": {},
     "output_type": "execute_result"
    }
   ],
   "source": [
    "train"
   ]
  },
  {
   "cell_type": "markdown",
   "id": "78e3ed64",
   "metadata": {},
   "source": [
    "### I think the issue is here"
   ]
  },
  {
   "cell_type": "markdown",
   "id": "0f356230",
   "metadata": {},
   "source": [
    "https://scikit-learn.org/stable/modules/cross_validation.html#group-shuffle-split"
   ]
  },
  {
   "attachments": {
    "image.png": {
     "image/png": "[encoded data removed]"
    }
   },
   "cell_type": "markdown",
   "id": "f3ff8993",
   "metadata": {},
   "source": [
    "![image.png](attachment:image.png)"
   ]
  }
 ],
 "metadata": {
  "kernelspec": {
   "display_name": "Python 3 (ipykernel)",
   "language": "python",
   "name": "python3"
  },
  "language_info": {
   "codemirror_mode": {
    "name": "ipython",
    "version": 3
   },
   "file_extension": ".py",
   "mimetype": "text/x-python",
   "name": "python",
   "nbconvert_exporter": "python",
   "pygments_lexer": "ipython3",
   "version": "3.11.3"
  }
 },
 "nbformat": 4,
 "nbformat_minor": 5
}
