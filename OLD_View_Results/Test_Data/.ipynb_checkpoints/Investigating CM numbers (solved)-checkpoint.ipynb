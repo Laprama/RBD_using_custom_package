{
 "cells": [
  {
   "cell_type": "code",
   "execution_count": 1,
   "id": "5585d08a",
   "metadata": {},
   "outputs": [],
   "source": [
    "#Sktime imports\n",
    "import numpy as np\n",
    "from sklearn.model_selection import train_test_split\n",
    "from sklearn.pipeline import Pipeline\n",
    "from sktime.classification.shapelet_based import MrSEQLClassifier\n",
    "from sklearn.model_selection import GroupShuffleSplit\n",
    "\n",
    "from IPython.utils import io\n",
    "import pandas as pd\n",
    "import os\n",
    "from pathlib import Path\n",
    "from matplotlib import pyplot as plt\n",
    "from scipy.signal import find_peaks\n",
    "import numpy as np\n",
    "import seaborn as sns\n",
    "import time\n",
    "import joblib\n",
    "import sys\n",
    "from os.path import exists\n",
    "\n",
    "import importlib\n",
    "\n",
    "#EEG package modules__________________________________________________________________\n",
    "import constants\n",
    "import custom_ts_length\n",
    "# import eeg_stat_ts\n",
    "import format_eeg_data\n",
    "import run_expts\n",
    "\n",
    "#Load the appropriate data ____________________________________________________________\n",
    "\n"
   ]
  },
  {
   "cell_type": "code",
   "execution_count": 2,
   "id": "c6bbb0fd",
   "metadata": {},
   "outputs": [
    {
     "name": "stdout",
     "output_type": "stream",
     "text": [
      "Change the folder here ^_^! \n"
     ]
    }
   ],
   "source": [
    "'''\n",
    "o 1. PD vs HC,   2.(PD , PD+RBD) vs HC,   3.(PD + PD&RBD) vs HC vs RBD  multiclass, 4.PD vs PD+RBD vs RBD vs HC \n",
    "'''\n",
    "core_path = '/export/sphere/ebirah/ko20929/RBD_files/notebooks/frequency_analysis/constructed_data/band_power_time_series/expt_dfs/'\n",
    "folder = 'REM_full_expts/'\n",
    "#Load the appropriate X (full set of features ) , y (full set of labels) , groups \n",
    "load_path = core_path + folder\n",
    "X = pd.read_hdf(load_path + 'X.h5', key='df', mode='r')\n",
    "y = pd.read_hdf(load_path + 'y_full.h5', key='df', mode='r') \n",
    "groups = pd.read_hdf(load_path + 'groups.h5', key='df', mode='r')  "
   ]
  },
  {
   "cell_type": "code",
   "execution_count": null,
   "id": "29f896ab",
   "metadata": {},
   "outputs": [],
   "source": []
  }
 ],
 "metadata": {
  "kernelspec": {
   "display_name": "Python 3 (ipykernel)",
   "language": "python",
   "name": "python3"
  },
  "language_info": {
   "codemirror_mode": {
    "name": "ipython",
    "version": 3
   },
   "file_extension": ".py",
   "mimetype": "text/x-python",
   "name": "python",
   "nbconvert_exporter": "python",
   "pygments_lexer": "ipython3",
   "version": "3.9.11"
  }
 },
 "nbformat": 4,
 "nbformat_minor": 5
}
