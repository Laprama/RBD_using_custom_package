{
 "cells": [
  {
   "cell_type": "code",
   "execution_count": 2,
   "id": "8fc27a59",
   "metadata": {},
   "outputs": [
    {
     "name": "stdout",
     "output_type": "stream",
     "text": [
      "/export/sphere/ebirah/ko20929/miniconda3/envs/rbd_2clone/bin/python\n"
     ]
    }
   ],
   "source": [
    "#Sktime imports\n",
    "from IPython.utils import io\n",
    "import pandas as pd\n",
    "import os\n",
    "from pathlib import Path\n",
    "\n",
    "#Matplotlib imports to do plotting as necessary\n",
    "from matplotlib import pyplot as plt\n",
    "import matplotlib.patches as mpatches\n",
    "from ipywidgets import *\n",
    "%matplotlib notebook\n",
    "\n",
    "from scipy.signal import find_peaks\n",
    "import numpy as np\n",
    "import seaborn as sns\n",
    "import time\n",
    "import joblib\n",
    "from os.path import exists\n",
    "\n",
    "#Sklearn metric imports\n",
    "from sklearn import metrics\n",
    "from sklearn.metrics import accuracy_score\n",
    "from sklearn.metrics import precision_score\n",
    "from sklearn.metrics import recall_score\n",
    "from statsmodels.stats.weightstats import DescrStatsW\n",
    "\n",
    "import constants\n",
    "import calculate_results\n",
    "import view_results\n",
    "\n",
    "import warnings\n",
    "warnings.filterwarnings('ignore')\n",
    "\n",
    "import sys\n",
    "print(sys.executable)"
   ]
  },
  {
   "cell_type": "code",
   "execution_count": 8,
   "id": "db1d15ba",
   "metadata": {},
   "outputs": [
    {
     "name": "stdout",
     "output_type": "stream",
     "text": [
      "/export/sphere/ebirah/ko20929/RBD_files/notebooks/frequency_analysis/constructed_data/band_power_time_series/expt_dfs/\n",
      "\n",
      "\n",
      "['N2_120_expt_files', 'N3_82_expt_files', 'REM_19_expt_files', 'N1_8 expt_files', 'N2_120_expt_files_v2', 'N1_customised_40_expt_files', 'N1_full_expts', 'N2_full_expts', 'N3_full_expts', 'REM_full_expts', 'EC_full_expts', 'EC_8_expts']\n"
     ]
    }
   ],
   "source": [
    "import view_results\n",
    "print(view_results.core_path)\n",
    "print('\\n')\n",
    "print( view_results.main_expt_folders)"
   ]
  },
  {
   "cell_type": "code",
   "execution_count": 9,
   "id": "8c0cccc6",
   "metadata": {},
   "outputs": [
    {
     "data": {
      "text/plain": [
       "['expt_1',\n",
       " 'expt_2',\n",
       " 'expt_3',\n",
       " 'expt_4',\n",
       " 'MrSQL_expt_1',\n",
       " 'MrSQL_expt_2',\n",
       " 'MrSQL_expt_3',\n",
       " 'MrSQL_expt_4',\n",
       " 'MrSQL_SAX_expt_1',\n",
       " 'MrSQL_SAX_expt_2']"
      ]
     },
     "execution_count": 9,
     "metadata": {},
     "output_type": "execute_result"
    }
   ],
   "source": [
    "view_results.get_immediate_subdirectories(view_results.core_path +'REM_19_expt_files' )"
   ]
  },
  {
   "cell_type": "code",
   "execution_count": null,
   "id": "d04dc938",
   "metadata": {},
   "outputs": [],
   "source": [
    "class_label_dict = {'HC': 0 , 'PD' : 1 , 'PD+RBD' : 2 , 'RBD' : 3} #Dictionary used to label the classes for reference"
   ]
  },
  {
   "cell_type": "code",
   "execution_count": 20,
   "id": "f7db2df1",
   "metadata": {},
   "outputs": [
    {
     "data": {
      "text/plain": [
       "HC        26\n",
       "RBD       22\n",
       "PD        14\n",
       "PD+RBD     7\n",
       "Name: y_label, dtype: int64"
      ]
     },
     "execution_count": 20,
     "metadata": {},
     "output_type": "execute_result"
    }
   ],
   "source": [
    "y = pd.read_hdf(view_results.core_path +'REM_19_expt_files/' + 'y_full.h5')\n",
    "y = y.map({0 : 'HC', 1 : 'PD', 2: 'PD+RBD' , 3: 'RBD'})\n",
    "y.value_counts()"
   ]
  },
  {
   "cell_type": "code",
   "execution_count": 36,
   "id": "d669857d",
   "metadata": {},
   "outputs": [
    {
     "data": {
      "text/plain": [
       "HC    28\n",
       "PD    15\n",
       "Name: y_label, dtype: int64"
      ]
     },
     "execution_count": 36,
     "metadata": {},
     "output_type": "execute_result"
    }
   ],
   "source": [
    "results_df =  pd.read_hdf(view_results.core_path +'REM_19_expt_files/MrSQL_expt_1/' + 'raw_clfs_results.h5')\n",
    "type(results_df.y_true[0][0])\n",
    "y = pd.concat(results_df.y_true[0])\n",
    "y = y.map({0 : 'HC', 1 : 'PD', 2: 'PD+RBD' , 3: 'RBD'})\n",
    "y.value_counts()"
   ]
  },
  {
   "cell_type": "code",
   "execution_count": 47,
   "id": "02838171",
   "metadata": {},
   "outputs": [
    {
     "data": {
      "text/plain": [
       "43"
      ]
     },
     "execution_count": 47,
     "metadata": {},
     "output_type": "execute_result"
    }
   ],
   "source": [
    "len(y)"
   ]
  },
  {
   "cell_type": "code",
   "execution_count": 46,
   "id": "647eb3c1",
   "metadata": {},
   "outputs": [
    {
     "data": {
      "text/plain": [
       "32"
      ]
     },
     "execution_count": 46,
     "metadata": {},
     "output_type": "execute_result"
    }
   ],
   "source": [
    "len(y.index.value_counts() )"
   ]
  },
  {
   "cell_type": "code",
   "execution_count": 33,
   "id": "d3f33588",
   "metadata": {},
   "outputs": [
    {
     "name": "stdout",
     "output_type": "stream",
     "text": [
      "fold 1 : \n",
      "id_val\n",
      "2     0\n",
      "13    0\n",
      "14    0\n",
      "18    0\n",
      "19    0\n",
      "24    0\n",
      "25    0\n",
      "55    1\n",
      "Name: y_label, dtype: int64\n",
      "fold 2 : \n",
      "id_val\n",
      "0     0\n",
      "1     0\n",
      "7     0\n",
      "8     0\n",
      "23    0\n",
      "50    1\n",
      "51    1\n",
      "56    1\n",
      "63    1\n",
      "Name: y_label, dtype: int64\n",
      "fold 3 : \n",
      "id_val\n",
      "11    0\n",
      "12    0\n",
      "13    0\n",
      "50    1\n",
      "51    1\n",
      "52    1\n",
      "59    1\n",
      "60    1\n",
      "61    1\n",
      "62    1\n",
      "Name: y_label, dtype: int64\n",
      "fold 4 : \n",
      "id_val\n",
      "0     0\n",
      "1     0\n",
      "3     0\n",
      "4     0\n",
      "9     0\n",
      "10    0\n",
      "17    0\n",
      "23    0\n",
      "57    1\n",
      "Name: y_label, dtype: int64\n",
      "fold 5 : \n",
      "id_val\n",
      "2     0\n",
      "11    0\n",
      "12    0\n",
      "22    0\n",
      "23    0\n",
      "52    1\n",
      "58    1\n",
      "Name: y_label, dtype: int64\n"
     ]
    }
   ],
   "source": [
    "for num, fold in enumerate(results_df.y_true[0]): \n",
    "    print('fold ' + str(num + 1) + ' : ')\n",
    "    print(fold)"
   ]
  }
 ],
 "metadata": {
  "kernelspec": {
   "display_name": "Python 3 (ipykernel)",
   "language": "python",
   "name": "python3"
  },
  "language_info": {
   "codemirror_mode": {
    "name": "ipython",
    "version": 3
   },
   "file_extension": ".py",
   "mimetype": "text/x-python",
   "name": "python",
   "nbconvert_exporter": "python",
   "pygments_lexer": "ipython3",
   "version": "3.11.3"
  }
 },
 "nbformat": 4,
 "nbformat_minor": 5
}
