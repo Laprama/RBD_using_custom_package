{
 "cells": [
  {
   "cell_type": "code",
   "execution_count": 14,
   "id": "eecab7c3",
   "metadata": {},
   "outputs": [
    {
     "data": {
      "text/plain": [
       "'rbd_2clone'"
      ]
     },
     "execution_count": 14,
     "metadata": {},
     "output_type": "execute_result"
    }
   ],
   "source": [
    "import pandas as pd\n",
    "import os\n",
    "from pathlib import Path\n",
    "from matplotlib import pyplot as plt\n",
    "from scipy.signal import find_peaks\n",
    "import numpy as np\n",
    "import mne\n",
    "from scipy.signal import welch\n",
    "import seaborn as sns\n",
    "import yasa\n",
    "import glob\n",
    "import time\n",
    "import joblib\n",
    "\n",
    "import sklearn\n",
    "from sklearn.metrics import accuracy_score\n",
    "\n",
    "#Imports to enable cross validation\n",
    "from sklearn.model_selection import KFold, cross_val_score\n",
    "\n",
    "os.environ['CONDA_DEFAULT_ENV']"
   ]
  },
  {
   "cell_type": "code",
   "execution_count": 13,
   "id": "27cf9e63",
   "metadata": {},
   "outputs": [],
   "source": [
    "#Notes\n",
    "\n",
    "#Every classifier will have it's own confusion matrix \n",
    "\n",
    "#5 EEG types x 13 regions x (Number of classifiers - MrSQL x 6?) x preproc type (2) * number of expt types \n",
    "# = 130 * MrSQL classifiers * 4 expts ... a lot!!\n",
    "#I think I'm only interested in Prefrontal Region CM's TBH & I can make preproc type / MrSQL model name a parameter\n",
    "\n",
    "# I need to loop through --> Folders containing processed data x 2 per data type, expt types x 4 , classifiers - MrSQL x 6\n",
    "\n",
    "# What do I want to plot \n",
    "# For each type of data .... for each interesting clf ... Performance on the four experiments? \n",
    "# Store in dictionary for plotting CM's\n",
    "\n",
    "# key --> data type , value : dictionary of classifiers where key is classifier name and value is dictionary where key is expt_type (integer) and value is dictionary where keys are y_preds and y_true \n",
    "\n",
    "# Example \n",
    "\n",
    "# {'N3_82_expt_files' : {'MRSQL_2_Prefrontal' : [1 : {'y_preds' : [0,1,2,2,1,2,1] , 'y_true' : [1,1,2,2,1,21]}, \n",
    "#  2 :{'y_preds' : [0,1,2,2,1,2,1] , 'y_true' : [1,1,2,2,1,21]} , 3 etc...] , 'MRSQL_3_Prefrontal' : etc...} }"
   ]
  },
  {
   "cell_type": "code",
   "execution_count": 29,
   "id": "99d97b05",
   "metadata": {},
   "outputs": [],
   "source": [
    "#Import view results module and necessary variables etc.. from the module\n",
    "import view_results\n",
    "import constants \n",
    "\n",
    "class_label_dict = constants.class_label_dict\n",
    "\n",
    "core_path = view_results.core_path\n",
    "\n",
    "main_expt_folders_config_dict = view_results.main_expt_folders_config_dict\n",
    "main_expt_folders = view_results.main_expt_folders\n",
    "\n",
    "clfs_mrsql = view_results.clfs_mrsql\n",
    "clfs_SAX = view_results.clfs_SAX\n",
    "\n",
    "results_for_cm_plots = {}\n",
    "for folder in main_expt_folders:\n",
    "    results_for_cm_plots[folder] = {}\n",
    "    for clf in list(clfs_mrsql.keys()) + list( clfs_SAX.keys() ):\n",
    "        results_for_cm_plots[folder][clf] = {}\n",
    "\n",
    "results_for_cm_plots"
   ]
  },
  {
   "cell_type": "code",
   "execution_count": 59,
   "id": "192361db",
   "metadata": {
    "scrolled": false
   },
   "outputs": [
    {
     "data": {
      "text/plain": [
       "0.5552022457122803"
      ]
     },
     "execution_count": 59,
     "metadata": {},
     "output_type": "execute_result"
    }
   ],
   "source": [
    "t1 = time.time()\n",
    "\n",
    "# Extract the results in a way that they can easily be plotted as confusion matrices\n",
    "for main_folder in main_expt_folders:\n",
    "        top_level_properties = main_expt_folders_config_dict[main_folder]\n",
    "        main_folder_path = core_path+main_folder+'/'\n",
    "        \n",
    "        for folder in view_results.get_immediate_subdirectories(main_folder_path):\n",
    "            \n",
    "            if 'SAX' in folder:\n",
    "                clfs = clfs_SAX\n",
    "                #not looking at SAX model results rn bro \n",
    "                continue\n",
    "            elif folder in ['expt_1' , 'expt_2' , 'expt_3' , 'expt_4']:\n",
    "                continue\n",
    "            elif 'Non_TS_expt' in folder:\n",
    "                continue\n",
    "            else:\n",
    "                clfs = clfs_mrsql\n",
    "                \n",
    "            #set the experiment type (based on last string element of folder name)______________________________\n",
    "            if folder == '.ipynb_checkpoints':\n",
    "                continue               \n",
    "            \n",
    "            #Each folder has a results dataframe, load it and read corresponding results columns\n",
    "            try:\n",
    "                results_df = pd.read_hdf(main_folder_path + folder + '/raw_clfs_results.h5')\n",
    "            except: \n",
    "                file_not_found.append(main_folder + '/' + folder)\n",
    "                continue\n",
    "                \n",
    "            # Load the results __________________________________________________________________________________________________\n",
    "            regional_clf_results = results_df\n",
    "            \n",
    "            # Loop through the classifiers to store the predictions and true y_values in the results dictionary___________________\n",
    "            for clf in clfs:\n",
    "                # column is defined as  region+ '_' + clf + '_y_preds' , currently doing only for region = 'Prefrontal'\n",
    "                clf_col = 'Prefrontal' + '_' + clf +'_y_preds'\n",
    "                clf_preds = np.concatenate( regional_clf_results[clf_col][0] + regional_clf_results[clf_col][1])\n",
    "                y_true = pd.concat(regional_clf_results['y_true'][0] + regional_clf_results['y_true'][1])\n",
    "\n",
    "                subset_results_dict = {'y_true' : y_true , 'y_preds' : clf_preds}\n",
    "                #Populate the overall results dictionary \n",
    "                results_for_cm_plots[main_folder][clf][int(folder[-1])] = subset_results_dict\n",
    "\n",
    "                # results_for_cm_plots['N2_120_expt_files']['MrSQL_2'][1] = {'y_preds': [1,2,3,1,2,1,1] , 'y_true' : [1,2,3,1,2,1,1]}\n",
    "\n",
    "            \n",
    "            #Plot the confusion matrix_________________________________________________________________________________________\n",
    "\n",
    "#             display_labels_num = int(folder[-1])\n",
    "#             display_labels_dict = {1 : ['HC' , 'PD'] , 2 : ['HC', 'PD+PD_RBD'],\n",
    "#                                    3 : ['HC', 'PD+PD_RBD', 'RBD'], 4: ['HC', 'PD', 'PD_RBD', 'RBD']}\n",
    "            \n",
    "#             title = 'CM ' + main_folder + ' ' + folder\n",
    "            \n",
    "            \n",
    "#             confusion_matrix = sklearn.metrics.confusion_matrix(y_true, clf_preds, normalize = None)\n",
    "#             sklearn.metrics.ConfusionMatrixDisplay(confusion_matrix, display_labels = display_labels_dict[display_labels_num]).plot(cmap=plt.cm.Blues)\n",
    "\n",
    "#             plt.title(title)   \n",
    "#             plt.show()\n",
    "#             print('finished')\n",
    "\n",
    "t2 = time.time()\n",
    "\n",
    "t2-t1"
   ]
  },
  {
   "cell_type": "code",
   "execution_count": null,
   "id": "9e07a22f",
   "metadata": {},
   "outputs": [],
   "source": [
    "#The main title should say the folder , the classifier , the preprocessing \n",
    "\n",
    "#Each Subplot should state the experiment type  e.g. PD vs RBD - that'ts it"
   ]
  },
  {
   "cell_type": "code",
   "execution_count": 68,
   "id": "d721a0b4",
   "metadata": {},
   "outputs": [
    {
     "data": {
      "text/plain": [
       "dict_keys([1, 2, 3, 4])"
      ]
     },
     "execution_count": 68,
     "metadata": {},
     "output_type": "execute_result"
    }
   ],
   "source": [
    "results_for_cm_plots.keys()\n",
    "results_for_cm_plots['N3_82_expt_files'].keys()\n",
    "results_for_cm_plots['N3_82_expt_files']['MrSQL_1'].keys()"
   ]
  },
  {
   "cell_type": "code",
   "execution_count": 73,
   "id": "82f5a7a2",
   "metadata": {},
   "outputs": [
    {
     "data": {
      "text/plain": [
       "array([3, 3, 0, 0, 0, 0, 3, 0, 3, 3, 0, 3, 0, 1, 2, 3, 3, 3, 3, 0, 0, 0,\n",
       "       0, 1, 2, 2, 3, 3, 0, 0, 0, 0, 1, 1, 0, 1, 3, 3, 0, 1, 1, 2, 2, 2,\n",
       "       3, 3, 3, 3, 3, 0, 0, 0, 0, 0, 1, 0, 3, 3, 3, 0, 0, 0, 0, 0, 0, 1,\n",
       "       1, 1, 3, 3, 0, 1, 0, 1, 1, 2, 3, 3, 0, 0, 0, 0, 3, 1, 2, 2, 3, 3,\n",
       "       0, 0, 0, 1, 1, 1, 0, 2, 0, 3, 3])"
      ]
     },
     "execution_count": 73,
     "metadata": {},
     "output_type": "execute_result"
    }
   ],
   "source": [
    "clf_preds"
   ]
  },
  {
   "cell_type": "code",
   "execution_count": 75,
   "id": "bfc945b4",
   "metadata": {},
   "outputs": [],
   "source": [
    "# Plot multiple CM's side by side with code from here: \n",
    "# https://stackoverflow.com/questions/61825227/plotting-multiple-confusion-matrix-side-by-side"
   ]
  }
 ],
 "metadata": {
  "kernelspec": {
   "display_name": "Python 3 (ipykernel)",
   "language": "python",
   "name": "python3"
  },
  "language_info": {
   "codemirror_mode": {
    "name": "ipython",
    "version": 3
   },
   "file_extension": ".py",
   "mimetype": "text/x-python",
   "name": "python",
   "nbconvert_exporter": "python",
   "pygments_lexer": "ipython3",
   "version": "3.10.5"
  }
 },
 "nbformat": 4,
 "nbformat_minor": 5
}
