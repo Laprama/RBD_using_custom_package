{
 "cells": [
  {
   "cell_type": "code",
   "execution_count": 1,
   "id": "f17b5836",
   "metadata": {},
   "outputs": [
    {
     "name": "stderr",
     "output_type": "stream",
     "text": [
      "/export/sphere/ebirah/ko20929/miniconda3/envs/sktime_latest/lib/python3.11/site-packages/antropy/fractal.py:197: NumbaDeprecationWarning: The 'nopython' keyword argument was not supplied to the 'numba.jit' decorator. The implicit default value for this argument is currently False, but it will be changed to True in Numba 0.59.0. See https://numba.readthedocs.io/en/stable/reference/deprecation.html#deprecation-of-object-mode-fall-back-behaviour-when-using-jit for details.\n",
      "  @jit((types.Array(types.float64, 1, \"C\", readonly=True), types.int32))\n"
     ]
    }
   ],
   "source": [
    "import pandas as pd\n",
    "import mne as mne\n",
    "import os \n",
    "import time\n",
    "import numpy as np\n",
    "import matplotlib.pyplot as plt\n",
    "import joblib\n",
    "import constants\n",
    "from IPython.utils import io\n",
    "import time\n",
    "import sys\n",
    "import yasa\n",
    "from scipy.signal import welch\n",
    "\n",
    "#Import my modules\n",
    "import format_eeg_data\n",
    "import constants\n",
    "import eeg_stat_ts\n",
    "\n",
    "#Ignore warnings for now \n",
    "import warnings\n",
    "warnings.filterwarnings(\"ignore\", category=DeprecationWarning)\n",
    "\n",
    "#Models\n",
    "from sktime.classification.interval_based import CanonicalIntervalForest\n",
    "from sktime.classification.interval_based import DrCIF\n",
    "from sktime.classification.kernel_based import RocketClassifier"
   ]
  },
  {
   "cell_type": "code",
   "execution_count": 3,
   "id": "c5779ac7",
   "metadata": {},
   "outputs": [],
   "source": [
    "folder = '/export/sphere/ebirah/ko20929/RBD_using_custom_package/Data/freq_6_second_files/'\n",
    "\n",
    "dtypes =  ['Wake', 'N1', 'N2', 'N3','REM']\n",
    "results_dict = {}\n",
    "\n",
    "for data_type in dtypes:\n",
    "    results_dict[data_type] = {}\n",
    "    results_dict[data_type]['X'] = pd.read_hdf(folder + data_type + 'six_second_freq_df.h5' , key = 'df', mode = 'r')\n",
    "    results_dict[data_type]['groups'] = pd.read_hdf(folder + data_type + '_groups.h5' , key = 'df', mode = 'r')\n",
    "    results_dict[data_type]['y'] = pd.read_hdf(folder + data_type + '_y.h5' , key = 'df', mode = 'r')"
   ]
  },
  {
   "cell_type": "code",
   "execution_count": 9,
   "id": "d761354c",
   "metadata": {},
   "outputs": [],
   "source": [
    "X = results_dict['Wake']['X'].copy()\n",
    "y = results_dict['Wake']['y'].copy()\n",
    "groups = results_dict['Wake']['groups'].copy()\n",
    "\n",
    "X_sub = X.iloc[:30 , :2]\n",
    "y_sub = y.iloc[:30]"
   ]
  },
  {
   "cell_type": "code",
   "execution_count": 11,
   "id": "cfce1d2b",
   "metadata": {},
   "outputs": [],
   "source": [
    "clf =  RocketClassifier(use_multivariate='yes')"
   ]
  },
  {
   "cell_type": "code",
   "execution_count": 18,
   "id": "b9ec6c29",
   "metadata": {},
   "outputs": [
    {
     "ename": "ValueError",
     "evalue": "Data seen by RocketClassifier instance has unequal length series, but this RocketClassifier instance cannot handle unequal length series. Calls with unequal length series may result in error or unreliable results.",
     "output_type": "error",
     "traceback": [
      "\u001b[0;31m---------------------------------------------------------------------------\u001b[0m",
      "\u001b[0;31mValueError\u001b[0m                                Traceback (most recent call last)",
      "Cell \u001b[0;32mIn[18], line 1\u001b[0m\n\u001b[0;32m----> 1\u001b[0m clf\u001b[38;5;241m.\u001b[39mfit(X_sub, y_sub)\n",
      "File \u001b[0;32m/export/sphere/ebirah/ko20929/miniconda3/envs/sktime_latest/lib/python3.11/site-packages/sktime/classification/base.py:176\u001b[0m, in \u001b[0;36mBaseClassifier.fit\u001b[0;34m(self, X, y)\u001b[0m\n\u001b[1;32m    173\u001b[0m \u001b[38;5;28mself\u001b[39m\u001b[38;5;241m.\u001b[39m_X_metadata \u001b[38;5;241m=\u001b[39m X_metadata\n\u001b[1;32m    175\u001b[0m \u001b[38;5;66;03m# Check this classifier can handle characteristics\u001b[39;00m\n\u001b[0;32m--> 176\u001b[0m \u001b[38;5;28mself\u001b[39m\u001b[38;5;241m.\u001b[39m_check_capabilities(missing, multivariate, unequal)\n\u001b[1;32m    178\u001b[0m \u001b[38;5;66;03m# remember class labels\u001b[39;00m\n\u001b[1;32m    179\u001b[0m \u001b[38;5;28mself\u001b[39m\u001b[38;5;241m.\u001b[39mclasses_ \u001b[38;5;241m=\u001b[39m np\u001b[38;5;241m.\u001b[39munique(y)\n",
      "File \u001b[0;32m/export/sphere/ebirah/ko20929/miniconda3/envs/sktime_latest/lib/python3.11/site-packages/sktime/classification/base.py:667\u001b[0m, in \u001b[0;36mBaseClassifier._check_capabilities\u001b[0;34m(self, missing, multivariate, unequal)\u001b[0m\n\u001b[1;32m    665\u001b[0m     warn(msg)\n\u001b[1;32m    666\u001b[0m \u001b[38;5;28;01melse\u001b[39;00m:\n\u001b[0;32m--> 667\u001b[0m     \u001b[38;5;28;01mraise\u001b[39;00m \u001b[38;5;167;01mValueError\u001b[39;00m(msg)\n",
      "\u001b[0;31mValueError\u001b[0m: Data seen by RocketClassifier instance has unequal length series, but this RocketClassifier instance cannot handle unequal length series. Calls with unequal length series may result in error or unreliable results."
     ]
    }
   ],
   "source": [
    "clf.fit(X_sub, y_sub)"
   ]
  },
  {
   "cell_type": "code",
   "execution_count": null,
   "id": "b0644f48",
   "metadata": {},
   "outputs": [],
   "source": []
  }
 ],
 "metadata": {
  "kernelspec": {
   "display_name": "Python 3 (ipykernel)",
   "language": "python",
   "name": "python3"
  },
  "language_info": {
   "codemirror_mode": {
    "name": "ipython",
    "version": 3
   },
   "file_extension": ".py",
   "mimetype": "text/x-python",
   "name": "python",
   "nbconvert_exporter": "python",
   "pygments_lexer": "ipython3",
   "version": "3.11.3"
  }
 },
 "nbformat": 4,
 "nbformat_minor": 5
}
