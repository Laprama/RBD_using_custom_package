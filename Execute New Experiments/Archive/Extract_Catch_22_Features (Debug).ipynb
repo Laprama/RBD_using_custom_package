{
 "cells": [
  {
   "cell_type": "code",
   "execution_count": 3,
   "id": "e5326d28",
   "metadata": {},
   "outputs": [
    {
     "name": "stderr",
     "output_type": "stream",
     "text": [
      "/export/sphere/ebirah/ko20929/miniconda3/envs/sktime_latest/lib/python3.11/site-packages/antropy/fractal.py:197: NumbaDeprecationWarning: The 'nopython' keyword argument was not supplied to the 'numba.jit' decorator. The implicit default value for this argument is currently False, but it will be changed to True in Numba 0.59.0. See https://numba.readthedocs.io/en/stable/reference/deprecation.html#deprecation-of-object-mode-fall-back-behaviour-when-using-jit for details.\n",
      "  @jit((types.Array(types.float64, 1, \"C\", readonly=True), types.int32))\n"
     ]
    }
   ],
   "source": [
    "from IPython.utils import io\n",
    "import pandas as pd\n",
    "import os\n",
    "from pathlib import Path\n",
    "from matplotlib import pyplot as plt\n",
    "from scipy.signal import find_peaks\n",
    "import numpy as np\n",
    "import seaborn as sns\n",
    "import time\n",
    "import joblib\n",
    "from os.path import exists\n",
    "import shutil\n",
    "import sys\n",
    "import time\n",
    "import mne\n",
    "\n",
    "from sklearn.model_selection import train_test_split\n",
    "#From my EEG package \n",
    "import run_expts\n",
    "import format_eeg_data\n",
    "import constants\n",
    "import eeg_stat_ts\n",
    "\n",
    "#Let me see as many results as I want to see\n",
    "pd.set_option('display.max_rows', 500)\n",
    "pd.set_option('display.max_columns', 500)\n",
    "\n",
    "from sktime.classification.feature_based import Catch22Classifier\n",
    "from sklearn.ensemble import RandomForestClassifier\n",
    "from sktime.datasets import load_unit_test\n",
    "from sktime.transformations.panel.catch22 import Catch22\n",
    "\n",
    "feature_list = ['DN_HistogramMode_5', 'DN_HistogramMode_10', 'SB_BinaryStats_diff_longstretch0', 'DN_OutlierInclude_p_001_mdrmd', 'DN_OutlierInclude_n_001_mdrmd', \n",
    " 'CO_f1ecac', 'CO_FirstMin_ac', 'SP_Summaries_welch_rect_area_5_1', 'SP_Summaries_welch_rect_centroid', 'FC_LocalSimple_mean3_stderr', 'CO_trev_1_num', \n",
    " 'CO_HistogramAMI_even_2_5', 'IN_AutoMutualInfoStats_40_gaussian_fmmi', 'MD_hrv_classic_pnn40', 'SB_BinaryStats_mean_longstretch1', 'SB_MotifThree_quantile_hh',\n",
    " 'FC_LocalSimple_mean1_tauresrat', 'CO_Embed2_Dist_tau_d_expfit_meandiff', 'SC_FluctAnal_2_dfa_50_1_2_logi_prop_r1', 'SC_FluctAnal_2_rsrangefit_50_1_logi_prop_r1', \n",
    " 'SB_TransitionMatrix_3ac_sumdiagcov', 'PD_PeriodicityWang_th0_01' , 'StandardDeviation' , 'Mean']\n",
    "\n",
    "transformer = Catch22(features = feature_list , catch24 = True )"
   ]
  },
  {
   "cell_type": "code",
   "execution_count": 6,
   "id": "3aa6a376",
   "metadata": {},
   "outputs": [
    {
     "name": "stdout",
     "output_type": "stream",
     "text": [
      "Generating Catch22 features for REM data\n",
      "111.37273001670837\n"
     ]
    }
   ],
   "source": [
    "output_data = []\n",
    "\n",
    "# for data_type in ['REM', 'N1', 'N2', 'N3', 'Wake']:\n",
    "\n",
    "for data_type in ['REM']:\n",
    "    print('Generating Catch22 features for ' + data_type + ' data')\n",
    "    \n",
    "    t1 = time.time()\n",
    "    \n",
    "    transformer = Catch22(features = feature_list , catch24 = True )\n",
    "    channels = constants.channel_list\n",
    "    paths , class_list, sleep_night_list , sleep_type_list , participant_id_list = constants.generate_paths_and_info()\n",
    "\n",
    "    #1. select the appropriate paths and supplementary information - store in lists\n",
    "    selected_paths , s_class_list , s_night_list , s_sleep_type , s_p_id = [], [], [], [], []\n",
    "\n",
    "\n",
    "    for path , class_name, night , p_id in zip(paths, class_list, sleep_night_list, participant_id_list ):\n",
    "        if data_type in path:\n",
    "            selected_paths.append(path) \n",
    "            s_class_list.append(class_name)\n",
    "            s_night_list.append(night)\n",
    "            s_sleep_type.append(data_type)\n",
    "            s_p_id.append(p_id)\n",
    "\n",
    "\n",
    "    #2. Load corresponding data into dataframes , store in dataframe list\n",
    "    df_list = []\n",
    "    error_paths = []\n",
    "    with io.capture_output() as captured:\n",
    "        for path in selected_paths[:30]:\n",
    "            try:\n",
    "                data_epo = mne.read_epochs(path)\n",
    "                data = data_epo._data * 1e6  # convert signal from V to uV\n",
    "                df_full = data_epo.to_data_frame()\n",
    "                df = df_full[channels].copy()\n",
    "                df_list.append(df)\n",
    "            except:\n",
    "                #error with loading data\n",
    "                error_paths.append(path)\n",
    "                \n",
    "    #Remove paths with errors from lists \n",
    "    for path in error_paths:\n",
    "        path_index = selected_paths.index(path)\n",
    "        #pop that index from all lists\n",
    "        selected_paths.pop(path_index) \n",
    "        s_class_list.pop(path_index)\n",
    "        s_night_list.pop(path_index)\n",
    "        s_sleep_type.pop(path_index)\n",
    "        s_p_id.pop(path_index)\n",
    "\n",
    "            \n",
    "    #Now we have the 57 channel EEG data in df's in df_list and corresponding supplementary information in the lists \n",
    "    #Selected_paths , s_class_list , s_night_list , s_sleep_type , s_p_id\n",
    "\n",
    "    #3. Load all of the data into a single dataframe with each cell containing a time series \n",
    "    ts_row_list = []\n",
    "\n",
    "    for df in df_list:\n",
    "        row = {}\n",
    "        for col in df.columns:\n",
    "            row[col] = df[col]\n",
    "        ts_row_list.append(row)\n",
    "        \n",
    "    #All of the main pieces of data to save \n",
    "    eeg_data_df = pd.DataFrame.from_records(ts_row_list)\n",
    "    groups = pd.Series(s_p_id)\n",
    "    class_list = pd.Series(s_class_list)\n",
    "    y = class_list.map({'HC': 0 , 'PD' : 1 , 'PD+RBD' : 2 , 'RBD' : 3})\n",
    "    \n",
    "    output_data.append( (eeg_data_df, groups, class_list, y)  )\n",
    "    \n",
    "    t2 = time.time()\n",
    "    \n",
    "    print(t2-t1)"
   ]
  },
  {
   "cell_type": "code",
   "execution_count": 26,
   "id": "5363a96b",
   "metadata": {},
   "outputs": [
    {
     "data": {
      "text/html": [
       "<div>\n",
       "<style scoped>\n",
       "    .dataframe tbody tr th:only-of-type {\n",
       "        vertical-align: middle;\n",
       "    }\n",
       "\n",
       "    .dataframe tbody tr th {\n",
       "        vertical-align: top;\n",
       "    }\n",
       "\n",
       "    .dataframe thead th {\n",
       "        text-align: right;\n",
       "    }\n",
       "</style>\n",
       "<table border=\"1\" class=\"dataframe\">\n",
       "  <thead>\n",
       "    <tr style=\"text-align: right;\">\n",
       "      <th></th>\n",
       "      <th>Fp1</th>\n",
       "      <th>Fpz</th>\n",
       "    </tr>\n",
       "  </thead>\n",
       "  <tbody>\n",
       "    <tr>\n",
       "      <th>0</th>\n",
       "      <td>0        -2.032487\n",
       "1        -1.307057\n",
       "2       ...</td>\n",
       "      <td>0        -1.189364\n",
       "1        -0.707676\n",
       "2       ...</td>\n",
       "    </tr>\n",
       "  </tbody>\n",
       "</table>\n",
       "</div>"
      ],
      "text/plain": [
       "                                                 Fp1  \\\n",
       "0  0        -2.032487\n",
       "1        -1.307057\n",
       "2       ...   \n",
       "\n",
       "                                                 Fpz  \n",
       "0  0        -1.189364\n",
       "1        -0.707676\n",
       "2       ...  "
      ]
     },
     "execution_count": 26,
     "metadata": {},
     "output_type": "execute_result"
    }
   ],
   "source": [
    "df = eeg_data_df.iloc[:1 , :2]\n",
    "df"
   ]
  },
  {
   "cell_type": "code",
   "execution_count": 29,
   "id": "3dc306c9",
   "metadata": {},
   "outputs": [
    {
     "name": "stdout",
     "output_type": "stream",
     "text": [
      "done for 1 time was 90.10707354545593\n",
      "done for 2 time was 179.9811942577362\n",
      "done for 3 time was 270.1339945793152\n",
      "done for 4 time was 361.02812576293945\n"
     ]
    }
   ],
   "source": [
    "timings = []\n",
    "t1 = time.time()\n",
    "for i in [1,2,3,4]:\n",
    "    t1 = time.time()\n",
    "    df = eeg_data_df.iloc[:1 , :i]\n",
    "    transformer = Catch22(features = feature_list , catch24 = True )\n",
    "    transformer.fit_transform(df)\n",
    "    t2 = time.time()\n",
    "    time_taken = t2 - t1\n",
    "    timings.append(time_taken)\n",
    "    print('done for ' + str(i) + ' time was ' + str(time_taken))"
   ]
  },
  {
   "cell_type": "code",
   "execution_count": 24,
   "id": "f939a1a4",
   "metadata": {},
   "outputs": [
    {
     "data": {
      "text/plain": [
       "4.170039259046316"
      ]
     },
     "execution_count": 24,
     "metadata": {},
     "output_type": "execute_result"
    }
   ],
   "source": [
    "#90 seconds for 1 channel, I think this will scale linearly unfortunately\n",
    "( 91.60726976394653*57*69 ) / ( 60 * 60 *24)"
   ]
  },
  {
   "cell_type": "code",
   "execution_count": 2,
   "id": "e057723e",
   "metadata": {},
   "outputs": [],
   "source": [
    "# Timing ____ \n",
    "\n",
    "# Timing in nb one _____________\n",
    "# Generating Catch22 features for REM data\n",
    "# 467.4754686355591\n",
    "# Generating Catch22 features for N1 data\n",
    "# 282.90553855895996\n",
    "# Generating Catch22 features for N2 data\n",
    "# 1304.3259921073914\n",
    "# Generating Catch22 features for N3 data\n",
    "\n",
    "# Timing in nb two _____________\n",
    "# 919.1690561771393 for REM "
   ]
  }
 ],
 "metadata": {
  "kernelspec": {
   "display_name": "Python 3 (ipykernel)",
   "language": "python",
   "name": "python3"
  },
  "language_info": {
   "codemirror_mode": {
    "name": "ipython",
    "version": 3
   },
   "file_extension": ".py",
   "mimetype": "text/x-python",
   "name": "python",
   "nbconvert_exporter": "python",
   "pygments_lexer": "ipython3",
   "version": "3.11.3"
  }
 },
 "nbformat": 4,
 "nbformat_minor": 5
}
