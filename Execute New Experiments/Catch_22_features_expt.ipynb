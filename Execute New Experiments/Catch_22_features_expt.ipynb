{
 "cells": [
  {
   "cell_type": "code",
   "execution_count": 1,
   "id": "9c427c46",
   "metadata": {},
   "outputs": [],
   "source": [
    "from IPython.utils import io\n",
    "import pandas as pd\n",
    "import os\n",
    "from pathlib import Path\n",
    "from matplotlib import pyplot as plt\n",
    "from scipy.signal import find_peaks\n",
    "import numpy as np\n",
    "import seaborn as sns\n",
    "import time\n",
    "import joblib\n",
    "from os.path import exists\n",
    "import shutil\n",
    "import sys\n",
    "import time\n",
    "\n",
    "from sklearn.model_selection import train_test_split\n",
    "from sklearn.ensemble import RandomForestClassifier\n",
    "\n",
    "from sklearn.metrics import accuracy_score\n",
    "    \n",
    "#From my EEG package \n",
    "import run_expts\n",
    "import constants\n",
    "\n",
    "\n",
    "#Let me see as many results as I want to see\n",
    "pd.set_option('display.max_rows', 30)\n",
    "pd.set_option('display.max_columns', 20)"
   ]
  },
  {
   "cell_type": "code",
   "execution_count": 2,
   "id": "8a6198fa",
   "metadata": {},
   "outputs": [],
   "source": [
    "#This path also has Wakeful data in it\n",
    "load_path = '/export/sphere/ebirah/ko20929/RBD_using_custom_package/Execute New Experiments/Catch_22_features/'\n",
    "\n",
    "data_types =  ['N1' , 'REM']\n",
    "dtype = data_types[1]\n",
    "\n",
    "X = pd.read_hdf(load_path + dtype +  '_c_22_feautures.h5', key='df', mode='r')\n",
    "y = pd.read_hdf(load_path + dtype +  '_y.h5', key='df', mode='r') \n",
    "groups = pd.read_hdf(load_path + dtype +  '_groups.h5', key='df', mode='r')\n",
    "\n",
    "#1.Generate expt specific X,y,groups\n",
    "X_expt , y_expt , groups_expt, expt_info = run_expts.generate_expt_x_y_groups(X,y,groups, 2 )"
   ]
  },
  {
   "cell_type": "code",
   "execution_count": 3,
   "id": "cfa2e583",
   "metadata": {},
   "outputs": [],
   "source": [
    "# This code generates a region to features dictionary - this will enable us to run expts regionally as before\n",
    "regional_features_dict = {}\n",
    "\n",
    "region_channel_dict = constants.region_to_channel_dict\n",
    "\n",
    "for region, region_channels in region_channel_dict.items():\n",
    "    region_features = []\n",
    "    for channel in region_channels:\n",
    "        region_features += [feature for feature in X_expt.columns if  feature.startswith(channel) ]\n",
    "    regional_features_dict[region] = region_features\n",
    "\n",
    "#Default subsets dictionary ---> run_expts.gen_subsets_dict()\n",
    "\n",
    "#New subsets dictionary ---> regional_features_dict"
   ]
  },
  {
   "cell_type": "code",
   "execution_count": 4,
   "id": "c8e7bc84",
   "metadata": {},
   "outputs": [
    {
     "data": {
      "text/plain": [
       "22.95887565612793"
      ]
     },
     "execution_count": 4,
     "metadata": {},
     "output_type": "execute_result"
    }
   ],
   "source": [
    "t1 = time.time()\n",
    "results_df = run_expts.run_mv_tsc(X_expt,y_expt,groups_expt, {'RF' : RandomForestClassifier()} , return_df = True , subset_names_and_cols = regional_features_dict, random_states = [1,2] )\n",
    "t2 = time.time()\n",
    "t2 - t1"
   ]
  },
  {
   "cell_type": "code",
   "execution_count": 5,
   "id": "b8294cda",
   "metadata": {},
   "outputs": [
    {
     "data": {
      "text/html": [
       "<div>\n",
       "<style scoped>\n",
       "    .dataframe tbody tr th:only-of-type {\n",
       "        vertical-align: middle;\n",
       "    }\n",
       "\n",
       "    .dataframe tbody tr th {\n",
       "        vertical-align: top;\n",
       "    }\n",
       "\n",
       "    .dataframe thead th {\n",
       "        text-align: right;\n",
       "    }\n",
       "</style>\n",
       "<table border=\"1\" class=\"dataframe\">\n",
       "  <thead>\n",
       "    <tr style=\"text-align: right;\">\n",
       "      <th></th>\n",
       "      <th>random_state</th>\n",
       "      <th>y_true</th>\n",
       "      <th>Prefrontal_RF_y_preds</th>\n",
       "      <th>Frontal_RF_y_preds</th>\n",
       "      <th>Left Frontal_RF_y_preds</th>\n",
       "      <th>Right Frontal_RF_y_preds</th>\n",
       "      <th>Central_RF_y_preds</th>\n",
       "      <th>Left Central_RF_y_preds</th>\n",
       "      <th>Right Central_RF_y_preds</th>\n",
       "      <th>Left Temporal_RF_y_preds</th>\n",
       "      <th>Right Temporal_RF_y_preds</th>\n",
       "      <th>Parietal_RF_y_preds</th>\n",
       "      <th>Left Parietal_RF_y_preds</th>\n",
       "      <th>Right Parietal_RF_y_preds</th>\n",
       "      <th>Occipital_RF_y_preds</th>\n",
       "    </tr>\n",
       "  </thead>\n",
       "  <tbody>\n",
       "    <tr>\n",
       "      <th>0</th>\n",
       "      <td>1</td>\n",
       "      <td>[[0, 0, 0, 0, 0, 1, 1, 1, 1, 1], [0, 0, 0, 0, ...</td>\n",
       "      <td>[[0, 0, 0, 0, 0, 0, 0, 1, 1, 0], [1, 1, 0, 0, ...</td>\n",
       "      <td>[[0, 1, 0, 1, 0, 0, 0, 1, 0, 0], [1, 1, 1, 0, ...</td>\n",
       "      <td>[[0, 0, 0, 0, 1, 0, 0, 0, 1, 1], [1, 1, 1, 0, ...</td>\n",
       "      <td>[[0, 0, 0, 0, 1, 0, 1, 1, 1, 1], [1, 1, 0, 0, ...</td>\n",
       "      <td>[[0, 0, 0, 1, 0, 0, 0, 0, 1, 0], [0, 0, 0, 0, ...</td>\n",
       "      <td>[[0, 0, 0, 1, 1, 0, 0, 0, 0, 0], [1, 1, 1, 0, ...</td>\n",
       "      <td>[[0, 1, 0, 1, 0, 0, 0, 0, 0, 1], [1, 0, 0, 1, ...</td>\n",
       "      <td>[[1, 1, 1, 0, 1, 0, 0, 0, 1, 1], [1, 1, 0, 0, ...</td>\n",
       "      <td>[[0, 0, 0, 0, 1, 0, 0, 0, 1, 0], [0, 0, 0, 0, ...</td>\n",
       "      <td>[[0, 1, 0, 0, 0, 0, 0, 0, 1, 0], [1, 1, 0, 0, ...</td>\n",
       "      <td>[[1, 0, 1, 0, 0, 1, 0, 1, 1, 0], [0, 1, 1, 0, ...</td>\n",
       "      <td>[[0, 0, 0, 0, 0, 0, 0, 0, 1, 0], [0, 1, 0, 0, ...</td>\n",
       "      <td>[[1, 0, 0, 0, 0, 0, 0, 0, 1, 1], [1, 0, 1, 0, ...</td>\n",
       "    </tr>\n",
       "    <tr>\n",
       "      <th>1</th>\n",
       "      <td>2</td>\n",
       "      <td>[[0, 0, 0, 0, 0, 0, 0, 0, 1, 1], [0, 0, 0, 0, ...</td>\n",
       "      <td>[[1, 1, 0, 1, 0, 1, 0, 1, 0, 0], [0, 0, 0, 0, ...</td>\n",
       "      <td>[[1, 1, 1, 0, 0, 1, 1, 1, 1, 0], [0, 0, 0, 1, ...</td>\n",
       "      <td>[[1, 1, 1, 0, 1, 0, 1, 0, 1, 0], [0, 0, 0, 0, ...</td>\n",
       "      <td>[[1, 1, 0, 0, 0, 0, 0, 0, 1, 0], [0, 0, 0, 0, ...</td>\n",
       "      <td>[[1, 1, 0, 0, 1, 0, 0, 1, 1, 0], [0, 0, 0, 0, ...</td>\n",
       "      <td>[[1, 1, 1, 0, 1, 0, 1, 0, 0, 0], [1, 0, 0, 0, ...</td>\n",
       "      <td>[[1, 1, 0, 1, 1, 0, 0, 0, 0, 0], [1, 1, 0, 0, ...</td>\n",
       "      <td>[[1, 1, 1, 0, 1, 0, 0, 1, 1, 0], [1, 1, 0, 0, ...</td>\n",
       "      <td>[[1, 1, 1, 1, 1, 1, 1, 1, 1, 0], [1, 0, 0, 0, ...</td>\n",
       "      <td>[[1, 1, 0, 0, 0, 0, 1, 0, 0, 0], [0, 1, 0, 0, ...</td>\n",
       "      <td>[[1, 1, 0, 0, 1, 1, 0, 0, 0, 0], [1, 1, 0, 0, ...</td>\n",
       "      <td>[[1, 1, 0, 0, 0, 1, 1, 1, 1, 1], [1, 1, 0, 0, ...</td>\n",
       "      <td>[[1, 1, 0, 0, 0, 0, 0, 0, 0, 1], [0, 0, 0, 0, ...</td>\n",
       "    </tr>\n",
       "  </tbody>\n",
       "</table>\n",
       "</div>"
      ],
      "text/plain": [
       "   random_state                                             y_true  \\\n",
       "0             1  [[0, 0, 0, 0, 0, 1, 1, 1, 1, 1], [0, 0, 0, 0, ...   \n",
       "1             2  [[0, 0, 0, 0, 0, 0, 0, 0, 1, 1], [0, 0, 0, 0, ...   \n",
       "\n",
       "                               Prefrontal_RF_y_preds  \\\n",
       "0  [[0, 0, 0, 0, 0, 0, 0, 1, 1, 0], [1, 1, 0, 0, ...   \n",
       "1  [[1, 1, 0, 1, 0, 1, 0, 1, 0, 0], [0, 0, 0, 0, ...   \n",
       "\n",
       "                                  Frontal_RF_y_preds  \\\n",
       "0  [[0, 1, 0, 1, 0, 0, 0, 1, 0, 0], [1, 1, 1, 0, ...   \n",
       "1  [[1, 1, 1, 0, 0, 1, 1, 1, 1, 0], [0, 0, 0, 1, ...   \n",
       "\n",
       "                             Left Frontal_RF_y_preds  \\\n",
       "0  [[0, 0, 0, 0, 1, 0, 0, 0, 1, 1], [1, 1, 1, 0, ...   \n",
       "1  [[1, 1, 1, 0, 1, 0, 1, 0, 1, 0], [0, 0, 0, 0, ...   \n",
       "\n",
       "                            Right Frontal_RF_y_preds  \\\n",
       "0  [[0, 0, 0, 0, 1, 0, 1, 1, 1, 1], [1, 1, 0, 0, ...   \n",
       "1  [[1, 1, 0, 0, 0, 0, 0, 0, 1, 0], [0, 0, 0, 0, ...   \n",
       "\n",
       "                                  Central_RF_y_preds  \\\n",
       "0  [[0, 0, 0, 1, 0, 0, 0, 0, 1, 0], [0, 0, 0, 0, ...   \n",
       "1  [[1, 1, 0, 0, 1, 0, 0, 1, 1, 0], [0, 0, 0, 0, ...   \n",
       "\n",
       "                             Left Central_RF_y_preds  \\\n",
       "0  [[0, 0, 0, 1, 1, 0, 0, 0, 0, 0], [1, 1, 1, 0, ...   \n",
       "1  [[1, 1, 1, 0, 1, 0, 1, 0, 0, 0], [1, 0, 0, 0, ...   \n",
       "\n",
       "                            Right Central_RF_y_preds  \\\n",
       "0  [[0, 1, 0, 1, 0, 0, 0, 0, 0, 1], [1, 0, 0, 1, ...   \n",
       "1  [[1, 1, 0, 1, 1, 0, 0, 0, 0, 0], [1, 1, 0, 0, ...   \n",
       "\n",
       "                            Left Temporal_RF_y_preds  \\\n",
       "0  [[1, 1, 1, 0, 1, 0, 0, 0, 1, 1], [1, 1, 0, 0, ...   \n",
       "1  [[1, 1, 1, 0, 1, 0, 0, 1, 1, 0], [1, 1, 0, 0, ...   \n",
       "\n",
       "                           Right Temporal_RF_y_preds  \\\n",
       "0  [[0, 0, 0, 0, 1, 0, 0, 0, 1, 0], [0, 0, 0, 0, ...   \n",
       "1  [[1, 1, 1, 1, 1, 1, 1, 1, 1, 0], [1, 0, 0, 0, ...   \n",
       "\n",
       "                                 Parietal_RF_y_preds  \\\n",
       "0  [[0, 1, 0, 0, 0, 0, 0, 0, 1, 0], [1, 1, 0, 0, ...   \n",
       "1  [[1, 1, 0, 0, 0, 0, 1, 0, 0, 0], [0, 1, 0, 0, ...   \n",
       "\n",
       "                            Left Parietal_RF_y_preds  \\\n",
       "0  [[1, 0, 1, 0, 0, 1, 0, 1, 1, 0], [0, 1, 1, 0, ...   \n",
       "1  [[1, 1, 0, 0, 1, 1, 0, 0, 0, 0], [1, 1, 0, 0, ...   \n",
       "\n",
       "                           Right Parietal_RF_y_preds  \\\n",
       "0  [[0, 0, 0, 0, 0, 0, 0, 0, 1, 0], [0, 1, 0, 0, ...   \n",
       "1  [[1, 1, 0, 0, 0, 1, 1, 1, 1, 1], [1, 1, 0, 0, ...   \n",
       "\n",
       "                                Occipital_RF_y_preds  \n",
       "0  [[1, 0, 0, 0, 0, 0, 0, 0, 1, 1], [1, 0, 1, 0, ...  \n",
       "1  [[1, 1, 0, 0, 0, 0, 0, 0, 0, 1], [0, 0, 0, 0, ...  "
      ]
     },
     "execution_count": 5,
     "metadata": {},
     "output_type": "execute_result"
    }
   ],
   "source": [
    "results_df"
   ]
  },
  {
   "cell_type": "code",
   "execution_count": 7,
   "id": "ec2be380",
   "metadata": {},
   "outputs": [
    {
     "data": {
      "text/plain": [
       "Prefrontal_RF_acc        0.465556\n",
       "Frontal_RF_acc           0.415556\n",
       "Left Frontal_RF_acc      0.392222\n",
       "Right Frontal_RF_acc     0.570000\n",
       "Central_RF_acc           0.508889\n",
       "Left Central_RF_acc      0.393333\n",
       "Right Central_RF_acc     0.394444\n",
       "Left Temporal_RF_acc     0.414444\n",
       "Right Temporal_RF_acc    0.413333\n",
       "Parietal_RF_acc          0.455556\n",
       "Left Parietal_RF_acc     0.357778\n",
       "Right Parietal_RF_acc    0.388889\n",
       "Occipital_RF_acc         0.463333\n",
       "dtype: float64"
      ]
     },
     "execution_count": 7,
     "metadata": {},
     "output_type": "execute_result"
    }
   ],
   "source": [
    "res_df = run_expts.generate_subset_acc_std(results_df, return_df = True)   \n",
    "res_df[[col for col in res_df.columns if 'acc' in col]].mean(axis = 0) "
   ]
  },
  {
   "cell_type": "markdown",
   "id": "cafbf90c",
   "metadata": {},
   "source": [
    "### REM Results"
   ]
  },
  {
   "cell_type": "code",
   "execution_count": 6,
   "id": "e15ac599",
   "metadata": {},
   "outputs": [
    {
     "ename": "NameError",
     "evalue": "name 'res_df' is not defined",
     "output_type": "error",
     "traceback": [
      "\u001b[0;31m---------------------------------------------------------------------------\u001b[0m",
      "\u001b[0;31mNameError\u001b[0m                                 Traceback (most recent call last)",
      "Cell \u001b[0;32mIn[6], line 1\u001b[0m\n\u001b[0;32m----> 1\u001b[0m res_df\n",
      "\u001b[0;31mNameError\u001b[0m: name 'res_df' is not defined"
     ]
    }
   ],
   "source": [
    "res_df"
   ]
  },
  {
   "cell_type": "code",
   "execution_count": 23,
   "id": "1ab3f2fb",
   "metadata": {},
   "outputs": [
    {
     "data": {
      "text/plain": [
       "Prefrontal_RF_acc        0.505556\n",
       "Frontal_RF_acc           0.414444\n",
       "Left Frontal_RF_acc      0.392222\n",
       "Right Frontal_RF_acc     0.595556\n",
       "Central_RF_acc           0.478889\n",
       "Left Central_RF_acc      0.384444\n",
       "Right Central_RF_acc     0.485556\n",
       "Left Temporal_RF_acc     0.485556\n",
       "Right Temporal_RF_acc    0.371111\n",
       "Parietal_RF_acc          0.413333\n",
       "Left Parietal_RF_acc     0.371111\n",
       "Right Parietal_RF_acc    0.513333\n",
       "Occipital_RF_acc         0.422222\n",
       "dtype: float64"
      ]
     },
     "execution_count": 23,
     "metadata": {},
     "output_type": "execute_result"
    }
   ],
   "source": [
    "results_df\n",
    "res_df = run_expts.generate_subset_acc_std(results_df, return_df = True)   \n",
    "res_df[[col for col in res_df.columns if 'acc' in col]].mean(axis = 0) "
   ]
  },
  {
   "cell_type": "markdown",
   "id": "3927dcd3",
   "metadata": {},
   "source": [
    "### N1 Results below"
   ]
  },
  {
   "cell_type": "code",
   "execution_count": 13,
   "id": "2f6833bd",
   "metadata": {},
   "outputs": [
    {
     "data": {
      "text/html": [
       "<div>\n",
       "<style scoped>\n",
       "    .dataframe tbody tr th:only-of-type {\n",
       "        vertical-align: middle;\n",
       "    }\n",
       "\n",
       "    .dataframe tbody tr th {\n",
       "        vertical-align: top;\n",
       "    }\n",
       "\n",
       "    .dataframe thead th {\n",
       "        text-align: right;\n",
       "    }\n",
       "</style>\n",
       "<table border=\"1\" class=\"dataframe\">\n",
       "  <thead>\n",
       "    <tr style=\"text-align: right;\">\n",
       "      <th></th>\n",
       "      <th>random_state</th>\n",
       "      <th>Prefrontal_RF_acc</th>\n",
       "      <th>Prefrontal_RF_std</th>\n",
       "      <th>Frontal_RF_acc</th>\n",
       "      <th>Frontal_RF_std</th>\n",
       "      <th>Left Frontal_RF_acc</th>\n",
       "      <th>Left Frontal_RF_std</th>\n",
       "      <th>Right Frontal_RF_acc</th>\n",
       "      <th>Right Frontal_RF_std</th>\n",
       "      <th>Central_RF_acc</th>\n",
       "      <th>...</th>\n",
       "      <th>Right Temporal_RF_acc</th>\n",
       "      <th>Right Temporal_RF_std</th>\n",
       "      <th>Parietal_RF_acc</th>\n",
       "      <th>Parietal_RF_std</th>\n",
       "      <th>Left Parietal_RF_acc</th>\n",
       "      <th>Left Parietal_RF_std</th>\n",
       "      <th>Right Parietal_RF_acc</th>\n",
       "      <th>Right Parietal_RF_std</th>\n",
       "      <th>Occipital_RF_acc</th>\n",
       "      <th>Occipital_RF_std</th>\n",
       "    </tr>\n",
       "  </thead>\n",
       "  <tbody>\n",
       "    <tr>\n",
       "      <th>0</th>\n",
       "      <td>1</td>\n",
       "      <td>0.475</td>\n",
       "      <td>0.183712</td>\n",
       "      <td>0.50</td>\n",
       "      <td>0.136931</td>\n",
       "      <td>0.425</td>\n",
       "      <td>0.169558</td>\n",
       "      <td>0.55</td>\n",
       "      <td>0.127475</td>\n",
       "      <td>0.575</td>\n",
       "      <td>...</td>\n",
       "      <td>0.550</td>\n",
       "      <td>0.061237</td>\n",
       "      <td>0.650</td>\n",
       "      <td>0.215058</td>\n",
       "      <td>0.575</td>\n",
       "      <td>0.127475</td>\n",
       "      <td>0.450</td>\n",
       "      <td>0.150000</td>\n",
       "      <td>0.6</td>\n",
       "      <td>0.229129</td>\n",
       "    </tr>\n",
       "    <tr>\n",
       "      <th>1</th>\n",
       "      <td>2</td>\n",
       "      <td>0.550</td>\n",
       "      <td>0.244949</td>\n",
       "      <td>0.65</td>\n",
       "      <td>0.165831</td>\n",
       "      <td>0.525</td>\n",
       "      <td>0.122474</td>\n",
       "      <td>0.65</td>\n",
       "      <td>0.122474</td>\n",
       "      <td>0.675</td>\n",
       "      <td>...</td>\n",
       "      <td>0.625</td>\n",
       "      <td>0.158114</td>\n",
       "      <td>0.625</td>\n",
       "      <td>0.079057</td>\n",
       "      <td>0.650</td>\n",
       "      <td>0.122474</td>\n",
       "      <td>0.525</td>\n",
       "      <td>0.093541</td>\n",
       "      <td>0.6</td>\n",
       "      <td>0.145774</td>\n",
       "    </tr>\n",
       "  </tbody>\n",
       "</table>\n",
       "<p>2 rows × 27 columns</p>\n",
       "</div>"
      ],
      "text/plain": [
       "   random_state  Prefrontal_RF_acc  Prefrontal_RF_std  Frontal_RF_acc  \\\n",
       "0             1              0.475           0.183712            0.50   \n",
       "1             2              0.550           0.244949            0.65   \n",
       "\n",
       "   Frontal_RF_std  Left Frontal_RF_acc  Left Frontal_RF_std  \\\n",
       "0        0.136931                0.425             0.169558   \n",
       "1        0.165831                0.525             0.122474   \n",
       "\n",
       "   Right Frontal_RF_acc  Right Frontal_RF_std  Central_RF_acc  ...  \\\n",
       "0                  0.55              0.127475           0.575  ...   \n",
       "1                  0.65              0.122474           0.675  ...   \n",
       "\n",
       "   Right Temporal_RF_acc  Right Temporal_RF_std  Parietal_RF_acc  \\\n",
       "0                  0.550               0.061237            0.650   \n",
       "1                  0.625               0.158114            0.625   \n",
       "\n",
       "   Parietal_RF_std  Left Parietal_RF_acc  Left Parietal_RF_std  \\\n",
       "0         0.215058                 0.575              0.127475   \n",
       "1         0.079057                 0.650              0.122474   \n",
       "\n",
       "   Right Parietal_RF_acc  Right Parietal_RF_std  Occipital_RF_acc  \\\n",
       "0                  0.450               0.150000               0.6   \n",
       "1                  0.525               0.093541               0.6   \n",
       "\n",
       "   Occipital_RF_std  \n",
       "0          0.229129  \n",
       "1          0.145774  \n",
       "\n",
       "[2 rows x 27 columns]"
      ]
     },
     "execution_count": 13,
     "metadata": {},
     "output_type": "execute_result"
    }
   ],
   "source": [
    "res_df"
   ]
  },
  {
   "cell_type": "code",
   "execution_count": 12,
   "id": "ec521586",
   "metadata": {},
   "outputs": [
    {
     "data": {
      "text/plain": [
       "Prefrontal_RF_acc        0.5125\n",
       "Frontal_RF_acc           0.5750\n",
       "Left Frontal_RF_acc      0.4750\n",
       "Right Frontal_RF_acc     0.6000\n",
       "Central_RF_acc           0.6250\n",
       "Left Central_RF_acc      0.6750\n",
       "Right Central_RF_acc     0.6250\n",
       "Left Temporal_RF_acc     0.6000\n",
       "Right Temporal_RF_acc    0.5875\n",
       "Parietal_RF_acc          0.6375\n",
       "Left Parietal_RF_acc     0.6125\n",
       "Right Parietal_RF_acc    0.4875\n",
       "Occipital_RF_acc         0.6000\n",
       "dtype: float64"
      ]
     },
     "execution_count": 12,
     "metadata": {},
     "output_type": "execute_result"
    }
   ],
   "source": [
    "results_df\n",
    "res_df = run_expts.generate_subset_acc_std(results_df, return_df = True)   \n",
    "res_df[[col for col in res_df.columns if 'acc' in col]].mean(axis = 0) "
   ]
  }
 ],
 "metadata": {
  "kernelspec": {
   "display_name": "Python 3 (ipykernel)",
   "language": "python",
   "name": "python3"
  },
  "language_info": {
   "codemirror_mode": {
    "name": "ipython",
    "version": 3
   },
   "file_extension": ".py",
   "mimetype": "text/x-python",
   "name": "python",
   "nbconvert_exporter": "python",
   "pygments_lexer": "ipython3",
   "version": "3.11.3"
  }
 },
 "nbformat": 4,
 "nbformat_minor": 5
}
