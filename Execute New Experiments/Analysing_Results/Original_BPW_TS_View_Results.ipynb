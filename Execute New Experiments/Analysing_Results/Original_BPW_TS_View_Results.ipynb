{
 "cells": [
  {
   "cell_type": "code",
   "execution_count": 2,
   "id": "db48fb16",
   "metadata": {},
   "outputs": [],
   "source": [
    "#This NB looks at results using slightly incorrect CV across Rocket, HIVECOTE2 , CIF, DrCIF \n",
    "#Using Original 30sec & 20 sec Bpw time series "
   ]
  },
  {
   "cell_type": "code",
   "execution_count": 1,
   "id": "1b9d1b40",
   "metadata": {},
   "outputs": [],
   "source": [
    "from IPython.utils import io\n",
    "import pandas as pd\n",
    "import os\n",
    "from pathlib import Path\n",
    "from matplotlib import pyplot as plt\n",
    "from scipy.signal import find_peaks\n",
    "import numpy as np\n",
    "import seaborn as sns\n",
    "import time\n",
    "import joblib\n",
    "from os.path import exists\n",
    "import shutil\n",
    "import sys\n",
    "import time\n",
    "\n",
    "from sklearn.model_selection import train_test_split\n",
    "#From my EEG package \n",
    "import run_expts\n",
    "\n",
    "#Let me see as many results as I want to see\n",
    "pd.set_option('display.max_rows', 500)\n",
    "pd.set_option('display.max_columns', 500)"
   ]
  },
  {
   "cell_type": "code",
   "execution_count": 2,
   "id": "ff7aa644",
   "metadata": {},
   "outputs": [],
   "source": [
    "clf_list = ['Rocket', 'HIVECOTE2', 'C_I_F', 'Dr_C_I_F', 'Inception_Time']\n",
    "\n",
    "#Results dictionary structure : {model : {expt_type : {folder : results_df }}}\n",
    "results_dict = {}\n",
    "for clf in clf_list:\n",
    "    results_dict[clf] = {1 : {} , 2 : {}}\n",
    "\n",
    "core_path = '/export/sphere/ebirah/ko20929/RBD_files/notebooks/frequency_analysis/constructed_data/band_power_time_series/expt_dfs/'\n",
    "\n",
    "folders = ['N1_customised_40_expt_files', 'N2_120_expt_files_v2', 'N3_82_expt_files', 'REM_19_expt_files', 'EC_8_expts',\n",
    "           'N1_full_expts', 'N2_full_expts', 'N3_full_expts', 'REM_full_expts', 'EC_full_expts']\n",
    "\n",
    "files_not_found = []\n",
    "\n",
    "for num in [1,2]:\n",
    "    for folder in folders:\n",
    "        for clf in clf_list:\n",
    "            try:\n",
    "                save_path = 'Results/Results_1/' + clf + 'expt_type_' + str(num) + '_' + folder + 'int_df.h5'\n",
    "                results_df = pd.read_hdf(save_path , key='df', mode='r')\n",
    "            except FileNotFoundError:\n",
    "                files_not_found.append(save_path)\n",
    "                continue\n",
    "                \n",
    "            res_df = run_expts.generate_subset_acc_std(results_df, return_df = True)           \n",
    "            results_dict[clf][num][folder] = res_df\n",
    "    "
   ]
  },
  {
   "cell_type": "code",
   "execution_count": 4,
   "id": "cf8edf64",
   "metadata": {},
   "outputs": [
    {
     "ename": "FileNotFoundError",
     "evalue": "File Results/Results_1/Inception_Timeexpt_type_2_EC_full_exptsint_df.h5 does not exist",
     "output_type": "error",
     "traceback": [
      "\u001b[0;31m---------------------------------------------------------------------------\u001b[0m",
      "\u001b[0;31mFileNotFoundError\u001b[0m                         Traceback (most recent call last)",
      "Cell \u001b[0;32mIn[4], line 1\u001b[0m\n\u001b[0;32m----> 1\u001b[0m results_df \u001b[38;5;241m=\u001b[39m pd\u001b[38;5;241m.\u001b[39mread_hdf(save_path , key\u001b[38;5;241m=\u001b[39m\u001b[38;5;124m'\u001b[39m\u001b[38;5;124mdf\u001b[39m\u001b[38;5;124m'\u001b[39m, mode\u001b[38;5;241m=\u001b[39m\u001b[38;5;124m'\u001b[39m\u001b[38;5;124mr\u001b[39m\u001b[38;5;124m'\u001b[39m)\n",
      "File \u001b[0;32m/export/sphere/ebirah/ko20929/miniconda3/envs/sktime_latest/lib/python3.11/site-packages/pandas/io/pytables.py:414\u001b[0m, in \u001b[0;36mread_hdf\u001b[0;34m(path_or_buf, key, mode, errors, where, start, stop, columns, iterator, chunksize, **kwargs)\u001b[0m\n\u001b[1;32m    411\u001b[0m     exists \u001b[38;5;241m=\u001b[39m \u001b[38;5;28;01mFalse\u001b[39;00m\n\u001b[1;32m    413\u001b[0m \u001b[38;5;28;01mif\u001b[39;00m \u001b[38;5;129;01mnot\u001b[39;00m exists:\n\u001b[0;32m--> 414\u001b[0m     \u001b[38;5;28;01mraise\u001b[39;00m \u001b[38;5;167;01mFileNotFoundError\u001b[39;00m(\u001b[38;5;124mf\u001b[39m\u001b[38;5;124m\"\u001b[39m\u001b[38;5;124mFile \u001b[39m\u001b[38;5;132;01m{\u001b[39;00mpath_or_buf\u001b[38;5;132;01m}\u001b[39;00m\u001b[38;5;124m does not exist\u001b[39m\u001b[38;5;124m\"\u001b[39m)\n\u001b[1;32m    416\u001b[0m store \u001b[38;5;241m=\u001b[39m HDFStore(path_or_buf, mode\u001b[38;5;241m=\u001b[39mmode, errors\u001b[38;5;241m=\u001b[39merrors, \u001b[38;5;241m*\u001b[39m\u001b[38;5;241m*\u001b[39mkwargs)\n\u001b[1;32m    417\u001b[0m \u001b[38;5;66;03m# can't auto open/close if we are using an iterator\u001b[39;00m\n\u001b[1;32m    418\u001b[0m \u001b[38;5;66;03m# so delegate to the iterator\u001b[39;00m\n",
      "\u001b[0;31mFileNotFoundError\u001b[0m: File Results/Results_1/Inception_Timeexpt_type_2_EC_full_exptsint_df.h5 does not exist"
     ]
    }
   ],
   "source": [
    "results_df = pd.read_hdf(save_path , key='df', mode='r')"
   ]
  },
  {
   "cell_type": "code",
   "execution_count": 3,
   "id": "92604e60",
   "metadata": {},
   "outputs": [
    {
     "name": "stdout",
     "output_type": "stream",
     "text": [
      "Rocket\n",
      "Expt Type: 1\n",
      "[]\n",
      "Expt Type: 2\n",
      "[]\n",
      "HIVECOTE2\n",
      "Expt Type: 1\n",
      "[]\n",
      "Expt Type: 2\n",
      "[]\n",
      "C_I_F\n",
      "Expt Type: 1\n",
      "[]\n",
      "Expt Type: 2\n",
      "[]\n",
      "Dr_C_I_F\n",
      "Expt Type: 1\n",
      "[]\n",
      "Expt Type: 2\n",
      "[]\n",
      "Inception_Time\n",
      "Expt Type: 1\n",
      "[]\n",
      "Expt Type: 2\n",
      "[]\n"
     ]
    }
   ],
   "source": [
    "# print(list(results_dict['Rocket'][1].keys() ))\n",
    "for clf in clf_list:\n",
    "    print(clf)\n",
    "    for num in [1,2]:\n",
    "        print('Expt Type: ' + str(num))\n",
    "        not_displayed = []\n",
    "        for key in list(results_dict[clf][num].keys() ):\n",
    "            df = results_dict[clf][num][key].copy()\n",
    "            cols_to_drop = [col for col in df.columns if df[col].mean() < 0.70]\n",
    "            df = df.drop(cols_to_drop, axis = 1 )\n",
    "            if len(df.columns) < 2:\n",
    "                not_displayed.append(key)\n",
    "                continue\n",
    "            print(key)\n",
    "            display(df)\n",
    "        print(not_displayed)"
   ]
  },
  {
   "cell_type": "code",
   "execution_count": null,
   "id": "461dce38",
   "metadata": {},
   "outputs": [],
   "source": []
  }
 ],
 "metadata": {
  "kernelspec": {
   "display_name": "Python 3 (ipykernel)",
   "language": "python",
   "name": "python3"
  },
  "language_info": {
   "codemirror_mode": {
    "name": "ipython",
    "version": 3
   },
   "file_extension": ".py",
   "mimetype": "text/x-python",
   "name": "python",
   "nbconvert_exporter": "python",
   "pygments_lexer": "ipython3",
   "version": "3.11.3"
  }
 },
 "nbformat": 4,
 "nbformat_minor": 5
}
