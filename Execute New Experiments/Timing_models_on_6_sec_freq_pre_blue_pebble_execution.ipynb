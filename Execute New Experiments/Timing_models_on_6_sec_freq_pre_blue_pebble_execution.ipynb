{
 "cells": [
  {
   "cell_type": "code",
   "execution_count": 6,
   "id": "c14a863c",
   "metadata": {},
   "outputs": [],
   "source": [
    "import pandas as pd\n",
    "import mne as mne\n",
    "import os \n",
    "import time\n",
    "import numpy as np\n",
    "import matplotlib.pyplot as plt\n",
    "import joblib\n",
    "import constants\n",
    "from IPython.utils import io\n",
    "import time\n",
    "import sys\n",
    "import yasa\n",
    "from scipy.signal import welch\n",
    "\n",
    "#Import my modules\n",
    "import format_eeg_data\n",
    "import constants\n",
    "import eeg_stat_ts\n",
    "import custom_ts_length\n",
    "import run_expts\n",
    "\n",
    "#Ignore warnings for now \n",
    "import warnings\n",
    "warnings.filterwarnings(\"ignore\", category=DeprecationWarning)\n",
    "\n",
    "#Models\n",
    "from sktime.classification.interval_based import CanonicalIntervalForest\n",
    "from sktime.classification.interval_based import DrCIF\n",
    "from sktime.classification.kernel_based import RocketClassifier\n",
    "from sktime.transformations.panel.padder import PaddingTransformer"
   ]
  },
  {
   "cell_type": "code",
   "execution_count": 13,
   "id": "ba69d409",
   "metadata": {},
   "outputs": [],
   "source": [
    "from sklearn.model_selection import train_test_split"
   ]
  },
  {
   "cell_type": "code",
   "execution_count": null,
   "id": "b299ba81",
   "metadata": {},
   "outputs": [],
   "source": [
    "short_lengths = {'Wake': 26, 'N1': 125, 'N2': 360, 'N3': 250, 'REM': 62}\n",
    "\n",
    "full_ish_lengths = {'Wake': 53, 'N1': 500, 'N2': 2000, 'N3': 1000, 'REM': 800}"
   ]
  },
  {
   "cell_type": "code",
   "execution_count": 28,
   "id": "cf1a283d",
   "metadata": {},
   "outputs": [
    {
     "name": "stdout",
     "output_type": "stream",
     "text": [
      "4. PD vs PD+RBD vs RBD vs HC  multiclass\n",
      "165.8215308189392\n"
     ]
    }
   ],
   "source": [
    "t1 = time.time()\n",
    "\n",
    "clf = RocketClassifier(use_multivariate='yes')\n",
    "\n",
    "dtypes =  ['Wake', 'N1', 'N2', 'N3','REM']\n",
    "\n",
    "core_folder = '/export/sphere/ebirah/ko20929/RBD_using_custom_package/Data/'\n",
    "load_folders = ['freq_6_second_files_proc_short/' , 'freq_6_second_files_proc_long/' ]\n",
    "\n",
    "load_folder = load_folders[1]\n",
    "data_type = 'N2'\n",
    "\n",
    "X = pd.read_hdf(core_folder + load_folder + data_type + '_X.h5' , key = 'df', mode = 'r')\n",
    "\n",
    "# I'm timing this for one region bro (Prefrontal for the test) _____________________________\n",
    "X = X[subsets_dict['Prefrontal']]\n",
    "\n",
    "y = pd.read_hdf(core_folder + load_folder + data_type + '_y.h5' , key = 'df', mode = 'r')\n",
    "groups = pd.read_hdf(core_folder + load_folder + data_type + '_groups.h5' , key = 'df', mode = 'r')\n",
    "\n",
    "X,y,groups, expt_info = run_expts.generate_expt_x_y_groups(X , y , groups , expt_type = 4)\n",
    "print(expt_info)\n",
    "\n",
    "#For the test I'm doing one train test split _______________________________________________\n",
    "X_train, X_test, y_train, y_test = train_test_split(X, y, test_size=0.2, random_state=42)\n",
    "\n",
    "#fit and predict \n",
    "clf.fit(X_train, y_train)\n",
    "clf.predict(X_test)\n",
    "\n",
    "t2 = time.time()\n",
    "\n",
    "print(t2-t1)"
   ]
  },
  {
   "cell_type": "code",
   "execution_count": 27,
   "id": "f5d1c44f",
   "metadata": {},
   "outputs": [
    {
     "data": {
      "text/plain": [
       "1000"
      ]
     },
     "execution_count": 27,
     "metadata": {},
     "output_type": "execute_result"
    }
   ],
   "source": [
    "len(X.iloc[1,1])"
   ]
  },
  {
   "cell_type": "code",
   "execution_count": null,
   "id": "d2acf4af",
   "metadata": {},
   "outputs": [],
   "source": [
    "# This is for ROCKET\n",
    "# Wake short length 26 took 25 seconds for both types , expt 1 & 4 short experiments \n",
    "\n",
    "#N2 short (length 360), expt 4 took 48 seconds , expt 1 took ...37 seconds\n",
    "\n",
    "#N3 long (length 1000), expt 4 took 100 seconds\n",
    "\n",
    "#N2 long (length 2000), expt 4 took 165 seconds G "
   ]
  },
  {
   "cell_type": "code",
   "execution_count": 31,
   "id": "027334eb",
   "metadata": {},
   "outputs": [],
   "source": [
    "#I think the short experiments can work with 100 minutes of time for ROCKET \n",
    "#If I execute with expt num 1 or 2 \n",
    "#I could submit scripts for expt num 1 and 2 ? Then go from there regarding parallelising everything else"
   ]
  },
  {
   "cell_type": "code",
   "execution_count": 30,
   "id": "75502c55",
   "metadata": {},
   "outputs": [
    {
     "data": {
      "text/plain": [
       "97.5"
      ]
     },
     "execution_count": 30,
     "metadata": {},
     "output_type": "execute_result"
    }
   ],
   "source": [
    "45*13*10 /60"
   ]
  },
  {
   "cell_type": "code",
   "execution_count": 22,
   "id": "3fb38151",
   "metadata": {},
   "outputs": [
    {
     "data": {
      "text/plain": [
       "2.7777777777777777"
      ]
     },
     "execution_count": 22,
     "metadata": {},
     "output_type": "execute_result"
    }
   ],
   "source": [
    "1000/360"
   ]
  }
 ],
 "metadata": {
  "kernelspec": {
   "display_name": "Python 3 (ipykernel)",
   "language": "python",
   "name": "python3"
  },
  "language_info": {
   "codemirror_mode": {
    "name": "ipython",
    "version": 3
   },
   "file_extension": ".py",
   "mimetype": "text/x-python",
   "name": "python",
   "nbconvert_exporter": "python",
   "pygments_lexer": "ipython3",
   "version": "3.11.3"
  }
 },
 "nbformat": 4,
 "nbformat_minor": 5
}
