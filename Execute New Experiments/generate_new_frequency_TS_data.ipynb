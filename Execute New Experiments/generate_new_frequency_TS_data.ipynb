{
 "cells": [
  {
   "cell_type": "code",
   "execution_count": 5,
   "id": "b0c584a8",
   "metadata": {},
   "outputs": [
    {
     "ename": "NameError",
     "evalue": "name 'PerformanceWarning' is not defined",
     "output_type": "error",
     "traceback": [
      "\u001b[0;31m---------------------------------------------------------------------------\u001b[0m",
      "\u001b[0;31mNameError\u001b[0m                                 Traceback (most recent call last)",
      "Cell \u001b[0;32mIn[5], line 23\u001b[0m\n\u001b[1;32m     21\u001b[0m \u001b[38;5;28;01mimport\u001b[39;00m \u001b[38;5;21;01mwarnings\u001b[39;00m\n\u001b[1;32m     22\u001b[0m warnings\u001b[38;5;241m.\u001b[39mfilterwarnings(\u001b[38;5;124m\"\u001b[39m\u001b[38;5;124mignore\u001b[39m\u001b[38;5;124m\"\u001b[39m, category\u001b[38;5;241m=\u001b[39m\u001b[38;5;167;01mDeprecationWarning\u001b[39;00m)\n\u001b[0;32m---> 23\u001b[0m warnings\u001b[38;5;241m.\u001b[39mfilterwarnings(\u001b[38;5;124m\"\u001b[39m\u001b[38;5;124mignore\u001b[39m\u001b[38;5;124m\"\u001b[39m, category\u001b[38;5;241m=\u001b[39mPerformanceWarning)\n",
      "\u001b[0;31mNameError\u001b[0m: name 'PerformanceWarning' is not defined"
     ]
    }
   ],
   "source": [
    "import pandas as pd\n",
    "import mne as mne\n",
    "import os \n",
    "import time\n",
    "import numpy as np\n",
    "import matplotlib.pyplot as plt\n",
    "import joblib\n",
    "import constants\n",
    "from IPython.utils import io\n",
    "import time\n",
    "import sys\n",
    "import yasa\n",
    "from scipy.signal import welch\n",
    "\n",
    "#Import my modules\n",
    "import format_eeg_data\n",
    "import constants\n",
    "import eeg_stat_ts\n",
    "\n",
    "#Ignore warnings for now \n",
    "import warnings\n",
    "warnings.filterwarnings(\"ignore\", category=DeprecationWarning)\n",
    "warnings.filterwarnings(\"ignore\", category=PerformanceWarning)"
   ]
  },
  {
   "cell_type": "code",
   "execution_count": null,
   "id": "4e990dc5",
   "metadata": {},
   "outputs": [],
   "source": [
    "# Wake and N1 done , "
   ]
  },
  {
   "cell_type": "code",
   "execution_count": 15,
   "id": "dd853c5e",
   "metadata": {
    "scrolled": true
   },
   "outputs": [
    {
     "ename": "KeyboardInterrupt",
     "evalue": "",
     "output_type": "error",
     "traceback": [
      "\u001b[0;31m---------------------------------------------------------------------------\u001b[0m",
      "\u001b[0;31mKeyboardInterrupt\u001b[0m                         Traceback (most recent call last)",
      "Cell \u001b[0;32mIn[15], line 52\u001b[0m\n\u001b[1;32m     50\u001b[0m bpw_per_win_df \u001b[38;5;241m=\u001b[39m eeg_stat_ts\u001b[38;5;241m.\u001b[39mgen_statistic_per_window(df , window_indices , stat \u001b[38;5;241m=\u001b[39m \u001b[38;5;124m'\u001b[39m\u001b[38;5;124mbpw\u001b[39m\u001b[38;5;124m'\u001b[39m)\n\u001b[1;32m     51\u001b[0m \u001b[38;5;66;03m#3. Convert bpw per window per channel into bpw per window per region\u001b[39;00m\n\u001b[0;32m---> 52\u001b[0m regional_df \u001b[38;5;241m=\u001b[39m eeg_stat_ts\u001b[38;5;241m.\u001b[39mconvert_chan_stats_to_region(bpw_per_win_df, constants\u001b[38;5;241m.\u001b[39mchannel_list , constants\u001b[38;5;241m.\u001b[39mregion_to_channel_dict)\n\u001b[1;32m     53\u001b[0m \u001b[38;5;66;03m#4. Convert into a single row of a new dataframe where each cell is a series\u001b[39;00m\n\u001b[1;32m     54\u001b[0m new_row \u001b[38;5;241m=\u001b[39m eeg_stat_ts\u001b[38;5;241m.\u001b[39mdataframe_to_ts_row(regional_df, \u001b[38;5;28mlist\u001b[39m(regional_df\u001b[38;5;241m.\u001b[39mcolumns[:\u001b[38;5;241m-\u001b[39m\u001b[38;5;241m1\u001b[39m]) )\n",
      "File \u001b[0;32m/export/sphere/ebirah/ko20929/eeg_package/src/eeg_stat_ts.py:57\u001b[0m, in \u001b[0;36mconvert_chan_stats_to_region\u001b[0;34m(chan_stats_df, channels, region_to_channel_dict)\u001b[0m\n\u001b[1;32m     55\u001b[0m \u001b[38;5;28;01mfor\u001b[39;00m win_num \u001b[38;5;129;01min\u001b[39;00m np\u001b[38;5;241m.\u001b[39munique(chan_stats_df[\u001b[38;5;124m'\u001b[39m\u001b[38;5;124mwindow_no.\u001b[39m\u001b[38;5;124m'\u001b[39m]\u001b[38;5;241m.\u001b[39mvalues):\n\u001b[1;32m     56\u001b[0m     sub_df \u001b[38;5;241m=\u001b[39m chan_stats_df[chan_stats_df[\u001b[38;5;124m'\u001b[39m\u001b[38;5;124mwindow_no.\u001b[39m\u001b[38;5;124m'\u001b[39m] \u001b[38;5;241m==\u001b[39m win_num]\n\u001b[0;32m---> 57\u001b[0m     regional_win_df \u001b[38;5;241m=\u001b[39m convert_channel_df_to_regions(sub_df , region_to_channel_dict)\n\u001b[1;32m     58\u001b[0m     regional_dfs_per_win\u001b[38;5;241m.\u001b[39mappend(regional_win_df)\n\u001b[1;32m     60\u001b[0m regional_df \u001b[38;5;241m=\u001b[39m pd\u001b[38;5;241m.\u001b[39mconcat(regional_dfs_per_win, axis \u001b[38;5;241m=\u001b[39m \u001b[38;5;241m0\u001b[39m)\n",
      "File \u001b[0;32m/export/sphere/ebirah/ko20929/eeg_package/src/eeg_stat_ts.py:32\u001b[0m, in \u001b[0;36mconvert_channel_df_to_regions\u001b[0;34m(df, region_dict)\u001b[0m\n\u001b[1;32m     30\u001b[0m     regions\u001b[38;5;241m.\u001b[39mappend(key)\n\u001b[1;32m     31\u001b[0m     \u001b[38;5;66;03m#find rows corresponding to the region and average them\u001b[39;00m\n\u001b[0;32m---> 32\u001b[0m     region_rows  \u001b[38;5;241m=\u001b[39m df\u001b[38;5;241m.\u001b[39mloc[value] \n\u001b[1;32m     33\u001b[0m     new_region_df_rows\u001b[38;5;241m.\u001b[39mappend( region_rows\u001b[38;5;241m.\u001b[39mmean() )\n\u001b[1;32m     35\u001b[0m regional_power \u001b[38;5;241m=\u001b[39m pd\u001b[38;5;241m.\u001b[39mDataFrame(new_region_df_rows, index \u001b[38;5;241m=\u001b[39m regions , columns \u001b[38;5;241m=\u001b[39m df\u001b[38;5;241m.\u001b[39mcolumns)\n",
      "File \u001b[0;32m/export/sphere/ebirah/ko20929/miniconda3/envs/sktime_latest/lib/python3.11/site-packages/pandas/core/indexing.py:1073\u001b[0m, in \u001b[0;36m_LocationIndexer.__getitem__\u001b[0;34m(self, key)\u001b[0m\n\u001b[1;32m   1070\u001b[0m axis \u001b[38;5;241m=\u001b[39m \u001b[38;5;28mself\u001b[39m\u001b[38;5;241m.\u001b[39maxis \u001b[38;5;129;01mor\u001b[39;00m \u001b[38;5;241m0\u001b[39m\n\u001b[1;32m   1072\u001b[0m maybe_callable \u001b[38;5;241m=\u001b[39m com\u001b[38;5;241m.\u001b[39mapply_if_callable(key, \u001b[38;5;28mself\u001b[39m\u001b[38;5;241m.\u001b[39mobj)\n\u001b[0;32m-> 1073\u001b[0m \u001b[38;5;28;01mreturn\u001b[39;00m \u001b[38;5;28mself\u001b[39m\u001b[38;5;241m.\u001b[39m_getitem_axis(maybe_callable, axis\u001b[38;5;241m=\u001b[39maxis)\n",
      "File \u001b[0;32m/export/sphere/ebirah/ko20929/miniconda3/envs/sktime_latest/lib/python3.11/site-packages/pandas/core/indexing.py:1301\u001b[0m, in \u001b[0;36m_LocIndexer._getitem_axis\u001b[0;34m(self, key, axis)\u001b[0m\n\u001b[1;32m   1298\u001b[0m     \u001b[38;5;28;01mif\u001b[39;00m \u001b[38;5;28mhasattr\u001b[39m(key, \u001b[38;5;124m\"\u001b[39m\u001b[38;5;124mndim\u001b[39m\u001b[38;5;124m\"\u001b[39m) \u001b[38;5;129;01mand\u001b[39;00m key\u001b[38;5;241m.\u001b[39mndim \u001b[38;5;241m>\u001b[39m \u001b[38;5;241m1\u001b[39m:\n\u001b[1;32m   1299\u001b[0m         \u001b[38;5;28;01mraise\u001b[39;00m \u001b[38;5;167;01mValueError\u001b[39;00m(\u001b[38;5;124m\"\u001b[39m\u001b[38;5;124mCannot index with multidimensional key\u001b[39m\u001b[38;5;124m\"\u001b[39m)\n\u001b[0;32m-> 1301\u001b[0m     \u001b[38;5;28;01mreturn\u001b[39;00m \u001b[38;5;28mself\u001b[39m\u001b[38;5;241m.\u001b[39m_getitem_iterable(key, axis\u001b[38;5;241m=\u001b[39maxis)\n\u001b[1;32m   1303\u001b[0m \u001b[38;5;66;03m# nested tuple slicing\u001b[39;00m\n\u001b[1;32m   1304\u001b[0m \u001b[38;5;28;01mif\u001b[39;00m is_nested_tuple(key, labels):\n",
      "File \u001b[0;32m/export/sphere/ebirah/ko20929/miniconda3/envs/sktime_latest/lib/python3.11/site-packages/pandas/core/indexing.py:1239\u001b[0m, in \u001b[0;36m_LocIndexer._getitem_iterable\u001b[0;34m(self, key, axis)\u001b[0m\n\u001b[1;32m   1236\u001b[0m \u001b[38;5;28mself\u001b[39m\u001b[38;5;241m.\u001b[39m_validate_key(key, axis)\n\u001b[1;32m   1238\u001b[0m \u001b[38;5;66;03m# A collection of keys\u001b[39;00m\n\u001b[0;32m-> 1239\u001b[0m keyarr, indexer \u001b[38;5;241m=\u001b[39m \u001b[38;5;28mself\u001b[39m\u001b[38;5;241m.\u001b[39m_get_listlike_indexer(key, axis)\n\u001b[1;32m   1240\u001b[0m \u001b[38;5;28;01mreturn\u001b[39;00m \u001b[38;5;28mself\u001b[39m\u001b[38;5;241m.\u001b[39mobj\u001b[38;5;241m.\u001b[39m_reindex_with_indexers(\n\u001b[1;32m   1241\u001b[0m     {axis: [keyarr, indexer]}, copy\u001b[38;5;241m=\u001b[39m\u001b[38;5;28;01mTrue\u001b[39;00m, allow_dups\u001b[38;5;241m=\u001b[39m\u001b[38;5;28;01mTrue\u001b[39;00m\n\u001b[1;32m   1242\u001b[0m )\n",
      "File \u001b[0;32m/export/sphere/ebirah/ko20929/miniconda3/envs/sktime_latest/lib/python3.11/site-packages/pandas/core/indexing.py:1432\u001b[0m, in \u001b[0;36m_LocIndexer._get_listlike_indexer\u001b[0;34m(self, key, axis)\u001b[0m\n\u001b[1;32m   1429\u001b[0m ax \u001b[38;5;241m=\u001b[39m \u001b[38;5;28mself\u001b[39m\u001b[38;5;241m.\u001b[39mobj\u001b[38;5;241m.\u001b[39m_get_axis(axis)\n\u001b[1;32m   1430\u001b[0m axis_name \u001b[38;5;241m=\u001b[39m \u001b[38;5;28mself\u001b[39m\u001b[38;5;241m.\u001b[39mobj\u001b[38;5;241m.\u001b[39m_get_axis_name(axis)\n\u001b[0;32m-> 1432\u001b[0m keyarr, indexer \u001b[38;5;241m=\u001b[39m ax\u001b[38;5;241m.\u001b[39m_get_indexer_strict(key, axis_name)\n\u001b[1;32m   1434\u001b[0m \u001b[38;5;28;01mreturn\u001b[39;00m keyarr, indexer\n",
      "File \u001b[0;32m/export/sphere/ebirah/ko20929/miniconda3/envs/sktime_latest/lib/python3.11/site-packages/pandas/core/indexes/base.py:6070\u001b[0m, in \u001b[0;36mIndex._get_indexer_strict\u001b[0;34m(self, key, axis_name)\u001b[0m\n\u001b[1;32m   6067\u001b[0m \u001b[38;5;28;01melse\u001b[39;00m:\n\u001b[1;32m   6068\u001b[0m     keyarr, indexer, new_indexer \u001b[38;5;241m=\u001b[39m \u001b[38;5;28mself\u001b[39m\u001b[38;5;241m.\u001b[39m_reindex_non_unique(keyarr)\n\u001b[0;32m-> 6070\u001b[0m \u001b[38;5;28mself\u001b[39m\u001b[38;5;241m.\u001b[39m_raise_if_missing(keyarr, indexer, axis_name)\n\u001b[1;32m   6072\u001b[0m keyarr \u001b[38;5;241m=\u001b[39m \u001b[38;5;28mself\u001b[39m\u001b[38;5;241m.\u001b[39mtake(indexer)\n\u001b[1;32m   6073\u001b[0m \u001b[38;5;28;01mif\u001b[39;00m \u001b[38;5;28misinstance\u001b[39m(key, Index):\n\u001b[1;32m   6074\u001b[0m     \u001b[38;5;66;03m# GH 42790 - Preserve name from an Index\u001b[39;00m\n",
      "File \u001b[0;32m/export/sphere/ebirah/ko20929/miniconda3/envs/sktime_latest/lib/python3.11/site-packages/pandas/core/indexes/base.py:6113\u001b[0m, in \u001b[0;36mIndex._raise_if_missing\u001b[0;34m(self, key, indexer, axis_name)\u001b[0m\n\u001b[1;32m   6111\u001b[0m \u001b[38;5;66;03m# Count missing values\u001b[39;00m\n\u001b[1;32m   6112\u001b[0m missing_mask \u001b[38;5;241m=\u001b[39m indexer \u001b[38;5;241m<\u001b[39m \u001b[38;5;241m0\u001b[39m\n\u001b[0;32m-> 6113\u001b[0m nmissing \u001b[38;5;241m=\u001b[39m missing_mask\u001b[38;5;241m.\u001b[39msum()\n\u001b[1;32m   6115\u001b[0m \u001b[38;5;28;01mif\u001b[39;00m nmissing:\n\u001b[1;32m   6116\u001b[0m \n\u001b[1;32m   6117\u001b[0m     \u001b[38;5;66;03m# TODO: remove special-case; this is just to keep exception\u001b[39;00m\n\u001b[1;32m   6118\u001b[0m     \u001b[38;5;66;03m#  message tests from raising while debugging\u001b[39;00m\n\u001b[1;32m   6119\u001b[0m     use_interval_msg \u001b[38;5;241m=\u001b[39m is_interval_dtype(\u001b[38;5;28mself\u001b[39m\u001b[38;5;241m.\u001b[39mdtype) \u001b[38;5;129;01mor\u001b[39;00m (\n\u001b[1;32m   6120\u001b[0m         is_categorical_dtype(\u001b[38;5;28mself\u001b[39m\u001b[38;5;241m.\u001b[39mdtype)\n\u001b[1;32m   6121\u001b[0m         \u001b[38;5;66;03m# \"Index\" has no attribute \"categories\"  [attr-defined]\u001b[39;00m\n\u001b[0;32m   (...)\u001b[0m\n\u001b[1;32m   6124\u001b[0m         )\n\u001b[1;32m   6125\u001b[0m     )\n",
      "File \u001b[0;32m/export/sphere/ebirah/ko20929/miniconda3/envs/sktime_latest/lib/python3.11/site-packages/numpy/core/_methods.py:46\u001b[0m, in \u001b[0;36m_sum\u001b[0;34m(a, axis, dtype, out, keepdims, initial, where)\u001b[0m\n\u001b[1;32m     42\u001b[0m \u001b[38;5;28;01mdef\u001b[39;00m \u001b[38;5;21m_amin\u001b[39m(a, axis\u001b[38;5;241m=\u001b[39m\u001b[38;5;28;01mNone\u001b[39;00m, out\u001b[38;5;241m=\u001b[39m\u001b[38;5;28;01mNone\u001b[39;00m, keepdims\u001b[38;5;241m=\u001b[39m\u001b[38;5;28;01mFalse\u001b[39;00m,\n\u001b[1;32m     43\u001b[0m           initial\u001b[38;5;241m=\u001b[39m_NoValue, where\u001b[38;5;241m=\u001b[39m\u001b[38;5;28;01mTrue\u001b[39;00m):\n\u001b[1;32m     44\u001b[0m     \u001b[38;5;28;01mreturn\u001b[39;00m umr_minimum(a, axis, \u001b[38;5;28;01mNone\u001b[39;00m, out, keepdims, initial, where)\n\u001b[0;32m---> 46\u001b[0m \u001b[38;5;28;01mdef\u001b[39;00m \u001b[38;5;21m_sum\u001b[39m(a, axis\u001b[38;5;241m=\u001b[39m\u001b[38;5;28;01mNone\u001b[39;00m, dtype\u001b[38;5;241m=\u001b[39m\u001b[38;5;28;01mNone\u001b[39;00m, out\u001b[38;5;241m=\u001b[39m\u001b[38;5;28;01mNone\u001b[39;00m, keepdims\u001b[38;5;241m=\u001b[39m\u001b[38;5;28;01mFalse\u001b[39;00m,\n\u001b[1;32m     47\u001b[0m          initial\u001b[38;5;241m=\u001b[39m_NoValue, where\u001b[38;5;241m=\u001b[39m\u001b[38;5;28;01mTrue\u001b[39;00m):\n\u001b[1;32m     48\u001b[0m     \u001b[38;5;28;01mreturn\u001b[39;00m umr_sum(a, axis, dtype, out, keepdims, initial, where)\n\u001b[1;32m     50\u001b[0m \u001b[38;5;28;01mdef\u001b[39;00m \u001b[38;5;21m_prod\u001b[39m(a, axis\u001b[38;5;241m=\u001b[39m\u001b[38;5;28;01mNone\u001b[39;00m, dtype\u001b[38;5;241m=\u001b[39m\u001b[38;5;28;01mNone\u001b[39;00m, out\u001b[38;5;241m=\u001b[39m\u001b[38;5;28;01mNone\u001b[39;00m, keepdims\u001b[38;5;241m=\u001b[39m\u001b[38;5;28;01mFalse\u001b[39;00m,\n\u001b[1;32m     51\u001b[0m           initial\u001b[38;5;241m=\u001b[39m_NoValue, where\u001b[38;5;241m=\u001b[39m\u001b[38;5;28;01mTrue\u001b[39;00m):\n",
      "\u001b[0;31mKeyboardInterrupt\u001b[0m: "
     ]
    }
   ],
   "source": [
    "#This Cell takes 2-3 mins to run\n",
    "channels = constants.channel_list\n",
    "\n",
    "paths_with_errors = []\n",
    "\n",
    "paths , class_list, sleep_night_list , sleep_type_list , participant_id_list = constants.generate_paths_and_info()\n",
    "\n",
    "#1. select the appropriate paths and supplementary information - store in lists\n",
    "\n",
    "# for data_type in ['Wake', 'N1', 'N2', 'N3','REM']\n",
    "\n",
    "for data_type in ['N2', 'N3','REM']:   \n",
    "    \n",
    "    t1 = time.time()\n",
    "    \n",
    "    selected_paths , s_class_list , s_night_list , s_sleep_type , s_p_id = [], [], [], [], []\n",
    "\n",
    "    for path , class_name, night , p_id in zip(paths, class_list, sleep_night_list, participant_id_list ):\n",
    "        if data_type in path:\n",
    "            selected_paths.append(path) \n",
    "            s_class_list.append(class_name)\n",
    "            s_night_list.append(night)\n",
    "            s_sleep_type.append(data_type)\n",
    "            s_p_id.append(p_id)\n",
    "\n",
    "    #2. Load corresponding data into dataframes , store in dataframe list\n",
    "    df_list = []\n",
    "    with io.capture_output() as captured:\n",
    "        for path in selected_paths:\n",
    "            try:\n",
    "                data_epo = mne.read_epochs(path)\n",
    "                data = data_epo._data * 1e6  # convert signal from V to uV\n",
    "                df_full = data_epo.to_data_frame()\n",
    "                df = df_full[channels].copy()\n",
    "                df_list.append(df)\n",
    "            except:\n",
    "                paths_with_errors.append(path)\n",
    "\n",
    "    #Now we have the 57 channel EEG data in df's in df_list and corresponding supplementary information in the lists \n",
    "    #Selected_paths , s_class_list , s_night_list , s_sleep_type , s_p_id\n",
    "\n",
    "    #Convert each dataframe of raw chanel EEG data into a single row of TS data , with bpw statistics calculated per region\n",
    "    # Store each row in ts_row_list\n",
    "    ts_row_list = []\n",
    "\n",
    "    for df in df_list:\n",
    "        #1.Generate the window indices \n",
    "        window_indices = eeg_stat_ts.gen_window_indices(6, df , samp_freq = 256)\n",
    "        #2. Calculate bpw vals per window\n",
    "        bpw_per_win_df = eeg_stat_ts.gen_statistic_per_window(df , window_indices , stat = 'bpw')\n",
    "        #3. Convert bpw per window per channel into bpw per window per region\n",
    "        regional_df = eeg_stat_ts.convert_chan_stats_to_region(bpw_per_win_df, constants.channel_list , constants.region_to_channel_dict)\n",
    "        #4. Convert into a single row of a new dataframe where each cell is a series\n",
    "        new_row = eeg_stat_ts.dataframe_to_ts_row(regional_df, list(regional_df.columns[:-1]) )\n",
    "        ts_row_list.append(new_row)\n",
    "        \n",
    "    # Save everything in the appropriate place ---->  final_transformed_df, groups , y\n",
    "    folder = 'new_freq_ts/'\n",
    "    \n",
    "    ts_df = pd.DataFrame.from_records(ts_row_list)\n",
    "    groups = pd.Series(s_p_id)\n",
    "    s_class_list = pd.Series(s_class_list)\n",
    "    y = s_class_list.map({'HC': 0 , 'PD' : 1 , 'PD+RBD' : 2 , 'RBD' : 3})\n",
    "\n",
    "    ts_df.to_hdf(folder + data_type + 'six_second_freq_df.h5' , key = 'df', mode = 'w')\n",
    "    groups.to_hdf(folder + data_type + '_groups.h5' , key = 'df', mode = 'w')\n",
    "    y.to_hdf(folder + data_type + '_y.h5' , key = 'df', mode = 'w')\n",
    "    print('Done for ' + data_type + ' !....')\n",
    "    \n",
    "    t2 = time.time()\n",
    "    \n",
    "    print(t2 - t1)"
   ]
  },
  {
   "cell_type": "code",
   "execution_count": null,
   "id": "35c249a7",
   "metadata": {},
   "outputs": [],
   "source": [
    "# If there are paths with errros for a sleep type , then the groups and y will be incorrect - I should correct for this! "
   ]
  }
 ],
 "metadata": {
  "kernelspec": {
   "display_name": "Python 3 (ipykernel)",
   "language": "python",
   "name": "python3"
  },
  "language_info": {
   "codemirror_mode": {
    "name": "ipython",
    "version": 3
   },
   "file_extension": ".py",
   "mimetype": "text/x-python",
   "name": "python",
   "nbconvert_exporter": "python",
   "pygments_lexer": "ipython3",
   "version": "3.11.3"
  }
 },
 "nbformat": 4,
 "nbformat_minor": 5
}
