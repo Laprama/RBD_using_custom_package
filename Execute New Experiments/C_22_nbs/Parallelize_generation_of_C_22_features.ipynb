{
 "cells": [
  {
   "cell_type": "code",
   "execution_count": 4,
   "id": "fd34f7a6",
   "metadata": {},
   "outputs": [],
   "source": [
    "from IPython.utils import io\n",
    "import pandas as pd\n",
    "import os\n",
    "from pathlib import Path\n",
    "from matplotlib import pyplot as plt\n",
    "from scipy.signal import find_peaks\n",
    "import numpy as np\n",
    "import seaborn as sns\n",
    "import time\n",
    "import joblib\n",
    "from os.path import exists\n",
    "import shutil\n",
    "import sys\n",
    "import time\n",
    "import mne\n",
    "\n",
    "from sklearn.model_selection import train_test_split\n",
    "#From my EEG package \n",
    "import run_expts\n",
    "import format_eeg_data\n",
    "import constants\n",
    "import eeg_stat_ts\n",
    "import custom_ts_length\n",
    "\n",
    "from sktime.transformations.panel.catch22 import Catch22"
   ]
  },
  {
   "cell_type": "code",
   "execution_count": 2,
   "id": "aae70a0d",
   "metadata": {},
   "outputs": [],
   "source": [
    "#This notebook is being created by editing the gen_c_22_features.py script "
   ]
  },
  {
   "cell_type": "code",
   "execution_count": 5,
   "id": "e1bf1e24",
   "metadata": {},
   "outputs": [],
   "source": [
    "feature_list = ['DN_HistogramMode_5', 'DN_HistogramMode_10', 'SB_BinaryStats_diff_longstretch0', 'DN_OutlierInclude_p_001_mdrmd', 'DN_OutlierInclude_n_001_mdrmd', \n",
    " 'CO_f1ecac', 'CO_FirstMin_ac', 'SP_Summaries_welch_rect_area_5_1', 'SP_Summaries_welch_rect_centroid', 'FC_LocalSimple_mean3_stderr', 'CO_trev_1_num', \n",
    " 'CO_HistogramAMI_even_2_5', 'IN_AutoMutualInfoStats_40_gaussian_fmmi', 'MD_hrv_classic_pnn40', 'SB_BinaryStats_mean_longstretch1', 'SB_MotifThree_quantile_hh',\n",
    " 'FC_LocalSimple_mean1_tauresrat', 'CO_Embed2_Dist_tau_d_expfit_meandiff', 'SC_FluctAnal_2_dfa_50_1_2_logi_prop_r1', 'SC_FluctAnal_2_rsrangefit_50_1_logi_prop_r1', \n",
    " 'SB_TransitionMatrix_3ac_sumdiagcov', 'PD_PeriodicityWang_th0_01' , 'StandardDeviation' , 'Mean']\n",
    "\n",
    "transformer = Catch22(features = feature_list , catch24 = True)"
   ]
  },
  {
   "cell_type": "code",
   "execution_count": 6,
   "id": "cb4534bb",
   "metadata": {},
   "outputs": [],
   "source": [
    "try:\n",
    "    path_num = int(sys.argv[1]) #This will be input to the script\n",
    "except:\n",
    "    path_num = 2\n",
    "\n",
    "data_types = {'Wake' : 56 , 'N1' : 71 , 'N2' : 71, 'N3' : 72} #I think this will be handled by the input to the script\n",
    "#The BP array \n",
    "\n",
    "data_type = 'N2'"
   ]
  },
  {
   "cell_type": "code",
   "execution_count": 9,
   "id": "4c4a2d03",
   "metadata": {},
   "outputs": [],
   "source": [
    "channels = constants.channel_list"
   ]
  },
  {
   "cell_type": "code",
   "execution_count": 7,
   "id": "78f0ef5f-0590-48b1-b423-363f1cf23d9b",
   "metadata": {},
   "outputs": [],
   "source": [
    "core_path = '/user/home/ko20929/work/RBD_using_custom_package/Blue_pebble/'"
   ]
  },
  {
   "cell_type": "code",
   "execution_count": 13,
   "id": "2ac9f249",
   "metadata": {},
   "outputs": [
    {
     "name": "stdout",
     "output_type": "stream",
     "text": [
      "Reading /user/work/ko20929/fif_files/N2_data/HC_1102_Night 2_N2.fif ...\n"
     ]
    },
    {
     "name": "stderr",
     "output_type": "stream",
     "text": [
      "/tmp/ipykernel_268847/2841579241.py:21: RuntimeWarning: This filename (/user/work/ko20929/fif_files/N2_data/HC_1102_Night 2_N2.fif) does not conform to MNE naming conventions. All epochs files should end with -epo.fif, -epo.fif.gz, _epo.fif or _epo.fif.gz\n",
      "  data_epo = mne.read_epochs(selected_path)\n"
     ]
    },
    {
     "name": "stdout",
     "output_type": "stream",
     "text": [
      "    Found the data of interest:\n",
      "        t =       0.00 ...   29996.09 ms\n",
      "        0 CTF compensation matrices available\n",
      "Not setting metadata\n",
      "296 matching events found\n",
      "No baseline correction applied\n",
      "0 projection items activated\n",
      "81.26978731155396\n"
     ]
    }
   ],
   "source": [
    "# data type is one of ---> ['REM', 'N1', 'N2', 'N3', 'Wake']\n",
    "#First you have to load the saved paths \n",
    "try:\n",
    "    paths_dict = joblib.load(core_path + data_type + '_paths.pkl')\n",
    "except: \n",
    "    paths_dict = joblib.load('paths_test.pkl')\n",
    "    \n",
    "#Then assign the lists to the appropriate variables\n",
    "selected_paths = paths_dict['selected_paths']\n",
    "s_class_list = paths_dict['s_class_list']\n",
    "s_night_list = paths_dict['s_night_list']\n",
    "s_sleep_type = paths_dict['s_sleep_type']\n",
    "s_p_id = paths_dict['s_p_id']\n",
    "\n",
    "#Now everything that was done for multiple paths is done for the one selected path (everything in parallel)\n",
    "#You really only need the path --> as oll supplementary info goes into groups , class_list and y \n",
    "\n",
    "selected_path = selected_paths[path_num]\n",
    "\n",
    "#2.Load corresponding data into dataframe, df \n",
    "data_epo = mne.read_epochs(selected_path)\n",
    "data = data_epo._data * 1e6  # convert signal from V to uV\n",
    "df_full = data_epo.to_data_frame()\n",
    "df = df_full[channels].copy()\n",
    "\n",
    "#3.Load all of the data into a single dataframe with each cell containing a time series\n",
    "ts_row_list = []\n",
    "row = {}\n",
    "for col in df.columns:\n",
    "    row[col] = df[col]\n",
    "ts_row_list.append(row)\n",
    "\n",
    "#Create dataframe from that single row (previously was dataframe from multiple rows)____________________________________\n",
    "#All of the main pieces of data to save \n",
    "eeg_data_df = pd.DataFrame.from_records(ts_row_list)\n",
    "#Trims down to 45 minutes worth of data\n",
    "eeg_data_df = custom_ts_length.customise_df_ts_length(eeg_data_df,691200 , impute = False ) \n",
    "\n",
    "\n",
    " #4. Transform the dataframe _______________________________________________________________________________________\n",
    "t1 = time.time()\n",
    "transformed_df = transformer.fit_transform(eeg_data_df.iloc[:, :1])\n",
    "t2 = time.time()\n",
    "\n",
    "print(t2-t1)\n",
    "\n",
    "# Save the transformed_df \n",
    "# transformed_df.to_hdf(str(path_num) + data_type + '_c_22_features.h5', key = 'df', mode = 'w')"
   ]
  },
  {
   "cell_type": "code",
   "execution_count": 12,
   "id": "4ba22b44-3765-476b-aead-a2e0eb47bc06",
   "metadata": {},
   "outputs": [
    {
     "data": {
      "text/html": [
       "<div>\n",
       "<style scoped>\n",
       "    .dataframe tbody tr th:only-of-type {\n",
       "        vertical-align: middle;\n",
       "    }\n",
       "\n",
       "    .dataframe tbody tr th {\n",
       "        vertical-align: top;\n",
       "    }\n",
       "\n",
       "    .dataframe thead th {\n",
       "        text-align: right;\n",
       "    }\n",
       "</style>\n",
       "<table border=\"1\" class=\"dataframe\">\n",
       "  <thead>\n",
       "    <tr style=\"text-align: right;\">\n",
       "      <th></th>\n",
       "      <th>Fp1</th>\n",
       "    </tr>\n",
       "  </thead>\n",
       "  <tbody>\n",
       "    <tr>\n",
       "      <th>0</th>\n",
       "      <td>0         14.243029\n",
       "1         13.787183\n",
       "2     ...</td>\n",
       "    </tr>\n",
       "  </tbody>\n",
       "</table>\n",
       "</div>"
      ],
      "text/plain": [
       "                                                 Fp1\n",
       "0  0         14.243029\n",
       "1         13.787183\n",
       "2     ..."
      ]
     },
     "execution_count": 12,
     "metadata": {},
     "output_type": "execute_result"
    }
   ],
   "source": [
    "eeg_data_df.iloc[:, :1]"
   ]
  }
 ],
 "metadata": {
  "kernelspec": {
   "display_name": "Python 3 (ipykernel)",
   "language": "python",
   "name": "python3"
  },
  "language_info": {
   "codemirror_mode": {
    "name": "ipython",
    "version": 3
   },
   "file_extension": ".py",
   "mimetype": "text/x-python",
   "name": "python",
   "nbconvert_exporter": "python",
   "pygments_lexer": "ipython3",
   "version": "3.11.3"
  }
 },
 "nbformat": 4,
 "nbformat_minor": 5
}
