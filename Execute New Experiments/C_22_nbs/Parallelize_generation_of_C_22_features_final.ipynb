{
 "cells": [
  {
   "cell_type": "code",
   "execution_count": 1,
   "id": "fd34f7a6",
   "metadata": {},
   "outputs": [
    {
     "name": "stderr",
     "output_type": "stream",
     "text": [
      "/user/home/ko20929/.conda/envs/sktime_latest/lib/python3.11/site-packages/antropy/fractal.py:197: NumbaDeprecationWarning: The 'nopython' keyword argument was not supplied to the 'numba.jit' decorator. The implicit default value for this argument is currently False, but it will be changed to True in Numba 0.59.0. See https://numba.readthedocs.io/en/stable/reference/deprecation.html#deprecation-of-object-mode-fall-back-behaviour-when-using-jit for details.\n",
      "  @jit((types.Array(types.float64, 1, \"C\", readonly=True), types.int32))\n"
     ]
    }
   ],
   "source": [
    "from IPython.utils import io\n",
    "import pandas as pd\n",
    "import os\n",
    "from pathlib import Path\n",
    "from matplotlib import pyplot as plt\n",
    "from scipy.signal import find_peaks\n",
    "import numpy as np\n",
    "import seaborn as sns\n",
    "import time\n",
    "import joblib\n",
    "from os.path import exists\n",
    "import shutil\n",
    "import sys\n",
    "import time\n",
    "import mne\n",
    "\n",
    "from sklearn.model_selection import train_test_split\n",
    "#From my EEG package \n",
    "import run_expts\n",
    "import format_eeg_data\n",
    "import constants\n",
    "import eeg_stat_ts\n",
    "import custom_ts_length\n",
    "\n",
    "from sktime.transformations.panel.catch22 import Catch22"
   ]
  },
  {
   "cell_type": "code",
   "execution_count": 9,
   "id": "e92b25ea-d365-4ad5-a959-1d5d9efad549",
   "metadata": {},
   "outputs": [],
   "source": [
    "data_type = 'N2'\n",
    "\n",
    "if data_type not in ['Wake' , 'N1', 'N2']:\n",
    "    raise ValueError('Data type incorrect, it was: ' + str(data_type) )\n",
    "    "
   ]
  },
  {
   "cell_type": "markdown",
   "id": "dd5fabbe-7c24-476c-b860-907362105b2d",
   "metadata": {},
   "source": [
    "Final version that will be translated to a.py executable"
   ]
  },
  {
   "cell_type": "code",
   "execution_count": 3,
   "id": "e1bf1e24",
   "metadata": {},
   "outputs": [],
   "source": [
    "feature_list = ['DN_HistogramMode_5', 'DN_HistogramMode_10', 'SB_BinaryStats_diff_longstretch0', 'DN_OutlierInclude_p_001_mdrmd', 'DN_OutlierInclude_n_001_mdrmd', \n",
    " 'CO_f1ecac', 'CO_FirstMin_ac', 'SP_Summaries_welch_rect_area_5_1', 'SP_Summaries_welch_rect_centroid', 'FC_LocalSimple_mean3_stderr', 'CO_trev_1_num', \n",
    " 'CO_HistogramAMI_even_2_5', 'IN_AutoMutualInfoStats_40_gaussian_fmmi', 'MD_hrv_classic_pnn40', 'SB_BinaryStats_mean_longstretch1', 'SB_MotifThree_quantile_hh',\n",
    " 'FC_LocalSimple_mean1_tauresrat', 'CO_Embed2_Dist_tau_d_expfit_meandiff', 'SC_FluctAnal_2_dfa_50_1_2_logi_prop_r1', 'SC_FluctAnal_2_rsrangefit_50_1_logi_prop_r1', \n",
    " 'SB_TransitionMatrix_3ac_sumdiagcov', 'PD_PeriodicityWang_th0_01' , 'StandardDeviation' , 'Mean']\n",
    "\n",
    "transformer = Catch22(features = feature_list , catch24 = True)"
   ]
  },
  {
   "cell_type": "code",
   "execution_count": 7,
   "id": "24db0a98-ed44-4e7d-9383-f4d6ba553bdf",
   "metadata": {},
   "outputs": [],
   "source": [
    "path_num = 0\n",
    "sys.argv[1] = path_num"
   ]
  },
  {
   "cell_type": "code",
   "execution_count": 8,
   "id": "cb4534bb",
   "metadata": {},
   "outputs": [],
   "source": [
    "try:\n",
    "    path_num = int(sys.argv[1]) #This will be input to the script\n",
    "except:\n",
    "    raise ValueError ('Error with path number!!!')\n",
    "\n",
    "data_type = str(sys.argv[2])"
   ]
  },
  {
   "cell_type": "code",
   "execution_count": 10,
   "id": "4c4a2d03",
   "metadata": {},
   "outputs": [],
   "source": [
    "channels = constants.channel_list"
   ]
  },
  {
   "cell_type": "code",
   "execution_count": 11,
   "id": "78f0ef5f-0590-48b1-b423-363f1cf23d9b",
   "metadata": {},
   "outputs": [],
   "source": [
    "core_path = '/user/home/ko20929/work/RBD_using_custom_package/Blue_pebble/'"
   ]
  },
  {
   "cell_type": "code",
   "execution_count": 21,
   "id": "2ac9f249",
   "metadata": {},
   "outputs": [
    {
     "name": "stdout",
     "output_type": "stream",
     "text": [
      "Reading /user/work/ko20929/fif_files/N2_data/HC_1112_Night 1_N2.fif ...\n"
     ]
    },
    {
     "name": "stderr",
     "output_type": "stream",
     "text": [
      "/tmp/ipykernel_15800/1379486452.py:21: RuntimeWarning: This filename (/user/work/ko20929/fif_files/N2_data/HC_1112_Night 1_N2.fif) does not conform to MNE naming conventions. All epochs files should end with -epo.fif, -epo.fif.gz, _epo.fif or _epo.fif.gz\n",
      "  data_epo = mne.read_epochs(selected_path)\n"
     ]
    },
    {
     "name": "stdout",
     "output_type": "stream",
     "text": [
      "    Read a total of 1 projection items:\n",
      "        Average EEG reference (1 x 39) active\n",
      "    Found the data of interest:\n",
      "        t =       0.00 ...   29996.09 ms\n",
      "        0 CTF compensation matrices available\n",
      "Not setting metadata\n",
      "382 matching events found\n",
      "No baseline correction applied\n",
      "Created an SSP operator (subspace dimension = 1)\n",
      "1 projection items activated\n"
     ]
    }
   ],
   "source": [
    "# data type is one of ---> ['REM', 'N1', 'N2', 'N3', 'Wake']\n",
    "#First you have to load the saved paths \n",
    "try:\n",
    "    paths_dict = joblib.load(core_path + data_type + '_paths.pkl')\n",
    "except: \n",
    "    raise ValueError ('Error with loading path dictionary')\n",
    "    \n",
    "#Then assign the lists to the appropriate variables\n",
    "selected_paths = paths_dict['selected_paths']\n",
    "s_class_list = paths_dict['s_class_list']\n",
    "s_night_list = paths_dict['s_night_list']\n",
    "s_sleep_type = paths_dict['s_sleep_type']\n",
    "s_p_id = paths_dict['s_p_id']\n",
    "\n",
    "#Now everything that was done for multiple paths is done for the one selected path (everything in parallel)\n",
    "#You really only need the path --> as oll supplementary info goes into groups , class_list and y \n",
    "\n",
    "selected_path = selected_paths[17]\n",
    "\n",
    "#2.Load corresponding data into dataframe, df \n",
    "data_epo = mne.read_epochs(selected_path)\n",
    "data = data_epo._data * 1e6  # convert signal from V to uV\n",
    "df_full = data_epo.to_data_frame()\n",
    "df = df_full[channels].copy()\n",
    "\n",
    "#3.Load all of the data into a single dataframe with each cell containing a time series\n",
    "ts_row_list = []\n",
    "row = {}\n",
    "for col in df.columns:\n",
    "    row[col] = df[col]\n",
    "ts_row_list.append(row)\n",
    "\n",
    "#Create dataframe from that single row (previously was dataframe from multiple rows)____________________________________\n",
    "#All of the main pieces of data to save \n",
    "eeg_data_df = pd.DataFrame.from_records(ts_row_list)\n",
    "# #Trims down to 45 minutes worth of data\n",
    "# eeg_data_df = custom_ts_length.customise_df_ts_length(eeg_data_df,691200 , impute = False ) \n",
    "\n",
    "\n",
    "# #4. Transform the dataframe _______________________________________________________________________________________\n",
    "# t1 = time.time()\n",
    "# transformed_df = transformer.fit_transform(eeg_data_df)\n",
    "# t2 = time.time()\n",
    "\n",
    "# print(t2-t1)\n",
    "\n",
    "# # Save the transformed_df \n",
    "# transformed_df.to_hdf('/user/home/ko20929/work/RBD_using_custom_package/Blue_pebble/C_22_data/' + str(path_num) + data_type + '_c_22_features.h5', key = 'df', mode = 'w')"
   ]
  },
  {
   "cell_type": "code",
   "execution_count": 22,
   "id": "e072588d-be07-4e90-a1f7-86bd765f94e1",
   "metadata": {},
   "outputs": [
    {
     "data": {
      "text/plain": [
       "4.2444444444444445"
      ]
     },
     "execution_count": 22,
     "metadata": {},
     "output_type": "execute_result"
    }
   ],
   "source": [
    "len(eeg_data_df.iloc[0,0]) / 691200"
   ]
  },
  {
   "cell_type": "code",
   "execution_count": 16,
   "id": "53166447-5324-4da6-8765-4e6279fe7c78",
   "metadata": {},
   "outputs": [
    {
     "data": {
      "text/plain": [
       "41.66666666666667"
      ]
     },
     "execution_count": 16,
     "metadata": {},
     "output_type": "execute_result"
    }
   ],
   "source": [
    "15 / 0.36"
   ]
  },
  {
   "cell_type": "code",
   "execution_count": null,
   "id": "1c2c2cb1-8f30-4027-b3f3-4b676041a0de",
   "metadata": {},
   "outputs": [],
   "source": []
  }
 ],
 "metadata": {
  "kernelspec": {
   "display_name": "Python 3 (ipykernel)",
   "language": "python",
   "name": "python3"
  },
  "language_info": {
   "codemirror_mode": {
    "name": "ipython",
    "version": 3
   },
   "file_extension": ".py",
   "mimetype": "text/x-python",
   "name": "python",
   "nbconvert_exporter": "python",
   "pygments_lexer": "ipython3",
   "version": "3.11.3"
  }
 },
 "nbformat": 4,
 "nbformat_minor": 5
}
