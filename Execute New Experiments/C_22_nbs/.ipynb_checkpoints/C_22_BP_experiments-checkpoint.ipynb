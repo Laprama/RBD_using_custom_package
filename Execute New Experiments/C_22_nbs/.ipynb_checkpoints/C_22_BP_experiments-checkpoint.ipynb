{
 "cells": [
  {
   "cell_type": "code",
   "execution_count": 1,
   "id": "341143ca-2a48-4ecd-a1a6-11c030f60b81",
   "metadata": {},
   "outputs": [],
   "source": [
    "from IPython.utils import io\n",
    "import pandas as pd\n",
    "import os\n",
    "from pathlib import Path\n",
    "from matplotlib import pyplot as plt\n",
    "from scipy.signal import find_peaks\n",
    "import numpy as np\n",
    "import seaborn as sns\n",
    "import time\n",
    "import joblib\n",
    "from os.path import exists\n",
    "import shutil\n",
    "import sys\n",
    "import time\n",
    "\n",
    "from sklearn.model_selection import train_test_split\n",
    "from sklearn.ensemble import RandomForestClassifier\n",
    "\n",
    "from sklearn.metrics import accuracy_score\n",
    "    \n",
    "#From my EEG package \n",
    "import run_expts\n",
    "import constants"
   ]
  },
  {
   "cell_type": "code",
   "execution_count": 2,
   "id": "8f4fe914-7aa4-4e52-8829-7a1a8ade1eeb",
   "metadata": {},
   "outputs": [
    {
     "ename": "NameError",
     "evalue": "name 'data_type' is not defined",
     "output_type": "error",
     "traceback": [
      "\u001b[0;31m---------------------------------------------------------------------------\u001b[0m",
      "\u001b[0;31mNameError\u001b[0m                                 Traceback (most recent call last)",
      "Cell \u001b[0;32mIn[2], line 2\u001b[0m\n\u001b[1;32m      1\u001b[0m \u001b[38;5;66;03m#file names \u001b[39;00m\n\u001b[0;32m----> 2\u001b[0m \u001b[43mdata_type\u001b[49m \u001b[38;5;241m+\u001b[39m \u001b[38;5;124m'\u001b[39m\u001b[38;5;124m_groups.h5\u001b[39m\u001b[38;5;124m'\u001b[39m\n\u001b[1;32m      3\u001b[0m data_type \u001b[38;5;241m+\u001b[39m \u001b[38;5;124m'\u001b[39m\u001b[38;5;124m_y.h5\u001b[39m\u001b[38;5;124m'\u001b[39m\n\u001b[1;32m      4\u001b[0m data_type \u001b[38;5;241m+\u001b[39m \u001b[38;5;124m'\u001b[39m\u001b[38;5;124m_full_c_22_features.h5\u001b[39m\u001b[38;5;124m'\u001b[39m\n",
      "\u001b[0;31mNameError\u001b[0m: name 'data_type' is not defined"
     ]
    }
   ],
   "source": [
    "# #file names \n",
    "# data_type + '_groups.h5'\n",
    "# data_type + '_y.h5'\n",
    "# data_type + '_full_c_22_features.h5'"
   ]
  },
  {
   "cell_type": "code",
   "execution_count": 3,
   "id": "4e948edd-d080-4b47-9c71-4c3dcc800a94",
   "metadata": {},
   "outputs": [],
   "source": [
    "load_path = '/user/home/ko20929/work/RBD_using_custom_package/Blue_pebble/C_22_data/Full_dfs/'\n",
    "data_types = ['Wake','N1', 'N2', 'N3', 'REM']\n",
    "\n",
    "loaded_data = {}\n",
    "\n",
    "for data_type in data_types:\n",
    "    X_y_groups = {}\n",
    "    \n",
    "    X = pd.read_hdf(load_path + data_type +  '_full_c_22_features.h5', key='df', mode='r')\n",
    "    y = pd.read_hdf(load_path + data_type +  '_y.h5', key='df', mode='r') \n",
    "    groups = pd.read_hdf(load_path + data_type +  '_groups.h5', key='df', mode='r')\n",
    "    X, y , groups = X.reset_index(drop = True) , y.reset_index(drop = True) , groups.reset_index(drop = True)\n",
    "\n",
    "    X_y_groups['X'] = X\n",
    "    X_y_groups['y'] = y\n",
    "    X_y_groups['groups'] = groups\n",
    "\n",
    "    loaded_data[data_type] = X_y_groups"
   ]
  },
  {
   "cell_type": "code",
   "execution_count": 5,
   "id": "7d509dde-0404-4204-a129-ef0aae7f0525",
   "metadata": {},
   "outputs": [],
   "source": [
    "# This code generates a region to features dictionary - this will enable us to run expts regionally as before\n",
    "regional_features_dict = {}\n",
    "region_channel_dict = constants.region_to_channel_dict\n",
    "\n",
    "for region, region_channels in region_channel_dict.items():\n",
    "    region_features = []\n",
    "    for channel in region_channels:\n",
    "        region_features += [feature for feature in X.columns if  feature.startswith(channel) ]\n",
    "    regional_features_dict[region] = region_features"
   ]
  },
  {
   "cell_type": "markdown",
   "id": "9e8672ac-959b-4169-8576-062cb2e4ff3e",
   "metadata": {},
   "source": [
    "### Expt 1"
   ]
  },
  {
   "cell_type": "code",
   "execution_count": null,
   "id": "d46b03e7-b895-4c21-9fdc-e3ba2ae307d5",
   "metadata": {},
   "outputs": [],
   "source": [
    "#Run Expt 1 experiments \n",
    "\n",
    "t1 = time.time()\n",
    "\n",
    "expt_1_results = {}\n",
    "\n",
    "for data_type in data_types:\n",
    "    X_y_groups = loaded_data[data_type]\n",
    "    \n",
    "    X = X_y_groups['X']\n",
    "    y = X_y_groups['y'] \n",
    "    groups = X_y_groups['groups'] \n",
    "    \n",
    "    #1.Generate expt specific X,y,groups\n",
    "    X_expt , y_expt , groups_expt, expt_info = run_expts.generate_expt_x_y_groups(X,y,groups, 1 )\n",
    "\n",
    "    results_df = run_expts.run_mv_tsc(X_expt,y_expt,groups_expt, {'RF' : RandomForestClassifier()} , return_df = True , subset_names_and_cols = regional_features_dict, random_states = [1,2] )\n",
    "    \n",
    "    expt_1_results[data_type] = results_df\n",
    "\n",
    "t2 = time.time()\n",
    "\n",
    "t2-t1"
   ]
  },
  {
   "cell_type": "code",
   "execution_count": null,
   "id": "a70ce559-cbf1-4ba8-aab0-3f3549c35a9c",
   "metadata": {},
   "outputs": [],
   "source": [
    "#Show the results\n",
    "for data_type in data_types:\n",
    "    print(data_type)\n",
    "    results_df = expt_1_results[data_type]\n",
    "    res_df = run_expts.generate_subset_acc_std(results_df, return_df = True)\n",
    "    #print the results \n",
    "    # print(res_df[[col for col in res_df.columns if 'acc' in col]].mean(axis = 0))\n",
    "    display(pd.DataFrame(res_df[[col for col in res_df.columns if 'acc' in col]].mean(axis = 0)).T)"
   ]
  },
  {
   "cell_type": "markdown",
   "id": "284bdf9c-00e8-4ae0-8f56-fb4c67527d89",
   "metadata": {},
   "source": [
    "### Test Combining features from regions for Expt 2"
   ]
  },
  {
   "cell_type": "code",
   "execution_count": null,
   "id": "97c8c9e8-a788-42ae-9f39-bbf73ab31d29",
   "metadata": {},
   "outputs": [],
   "source": [
    "regions = list(regional_features_dict.keys())\n",
    "\n",
    "combined_regions_features_dict = {}\n",
    "\n",
    "for i, region_1 in enumerate(regions):\n",
    "    for region_2 in regions[i+1:]:\n",
    "        new_key = region_1 + '_' + region_2\n",
    "        combined_regions_features_dict[new_key] = regional_features_dict[region_1] + regional_features_dict[region_2]"
   ]
  },
  {
   "cell_type": "code",
   "execution_count": null,
   "id": "fdbd7ccb-3d52-4f7b-9859-fefdd4516fa7",
   "metadata": {},
   "outputs": [],
   "source": [
    "data_types"
   ]
  },
  {
   "cell_type": "code",
   "execution_count": null,
   "id": "4d36b4e3-eab0-4c6e-a0bd-4a1c104462a5",
   "metadata": {},
   "outputs": [],
   "source": []
  },
  {
   "cell_type": "code",
   "execution_count": null,
   "id": "c6bd2fef-e28a-4b3c-87cb-638b7fc919be",
   "metadata": {},
   "outputs": [],
   "source": [
    "#Run Expt 2 experiments \n",
    "t1 = time.time()\n",
    "\n",
    "expt_2_combined_results = {}\n",
    "\n",
    "for data_type in data_types:\n",
    "    X_y_groups = loaded_data[data_type]\n",
    "    \n",
    "    X = X_y_groups['X']\n",
    "    y = X_y_groups['y'] \n",
    "    groups = X_y_groups['groups'] \n",
    "    \n",
    "    #1.Generate expt specific X,y,groups\n",
    "    X_expt , y_expt , groups_expt, expt_info = run_expts.generate_expt_x_y_groups(X,y,groups, 2 )\n",
    "\n",
    "    print(data_type)\n",
    "\n",
    "    results_df = run_expts.run_mv_tsc(X_expt,y_expt,groups_expt, {'RF' : RandomForestClassifier()} , return_df = True , subset_names_and_cols = combined_regions_features_dict, random_states = [1,2] )\n",
    "\n",
    "    \n",
    "    expt_2_combined_results[data_type] = results_df\n",
    "    \n",
    "    res_df = run_expts.generate_subset_acc_std(results_df, return_df = True)\n",
    "\n",
    "    display(pd.DataFrame(res_df[[col for col in res_df.columns if 'acc' in col]].mean(axis = 0)).T)\n",
    "\n",
    "\n",
    "t2 = time.time()\n",
    "\n",
    "t2-t1"
   ]
  },
  {
   "cell_type": "code",
   "execution_count": null,
   "id": "a7ed929a-d4be-44c1-a78b-bcdb7a5bdbbb",
   "metadata": {},
   "outputs": [],
   "source": [
    "for data_type in data_types:\n",
    "    results_df = expt_2_combined_results[data_type]\n",
    "    res_df = run_expts.generate_subset_acc_std(results_df, return_df = True)\n",
    "    plt.figure()\n",
    "    plt.title(data_type)\n",
    "    plt.hist(pd.DataFrame(res_df[[col for col in res_df.columns if 'acc' in col]].mean(axis = 0)).T.values[0])"
   ]
  },
  {
   "cell_type": "markdown",
   "id": "3b6f2de0-1cd5-4571-9f03-139431fa78b7",
   "metadata": {},
   "source": [
    "### Expt 2"
   ]
  },
  {
   "cell_type": "code",
   "execution_count": null,
   "id": "84da8b0a-4acb-483b-adf4-f722cd41ae9f",
   "metadata": {},
   "outputs": [],
   "source": [
    "#Run Expt 2 experiments \n",
    "\n",
    "t1 = time.time()\n",
    "\n",
    "expt_2_results = {}\n",
    "\n",
    "for data_type in data_types:\n",
    "    X_y_groups = loaded_data[data_type]\n",
    "    \n",
    "    X = X_y_groups['X']\n",
    "    y = X_y_groups['y'] \n",
    "    groups = X_y_groups['groups'] \n",
    "    \n",
    "    #1.Generate expt specific X,y,groups\n",
    "    X_expt , y_expt , groups_expt, expt_info = run_expts.generate_expt_x_y_groups(X,y,groups, 2 )\n",
    "\n",
    "    results_df = run_expts.run_mv_tsc(X_expt,y_expt,groups_expt, {'RF' : RandomForestClassifier()} , return_df = True , subset_names_and_cols = regional_features_dict, random_states = [1,2] )\n",
    "    \n",
    "    expt_2_results[data_type] = results_df\n",
    "\n",
    "t2 = time.time()\n",
    "\n",
    "t2-t1"
   ]
  },
  {
   "cell_type": "code",
   "execution_count": null,
   "id": "86b9eb2d-1c3d-4ae2-913c-e1e4a1dbc185",
   "metadata": {},
   "outputs": [],
   "source": [
    "#Show the results\n",
    "for data_type in data_types:\n",
    "    print(data_type)\n",
    "    results_df = expt_2_results[data_type]\n",
    "    res_df = run_expts.generate_subset_acc_std(results_df, return_df = True)\n",
    "    #print the results \n",
    "    # print(res_df[[col for col in res_df.columns if 'acc' in col]].mean(axis = 0))\n",
    "    display(pd.DataFrame(res_df[[col for col in res_df.columns if 'acc' in col]].mean(axis = 0)).T)"
   ]
  },
  {
   "cell_type": "markdown",
   "id": "f9fde4e9-a169-4d12-be79-f28ff15a1151",
   "metadata": {},
   "source": [
    "### Expt 3"
   ]
  },
  {
   "cell_type": "code",
   "execution_count": null,
   "id": "d2aab595-0805-4561-b2fd-33203ed2aae8",
   "metadata": {},
   "outputs": [],
   "source": [
    "#Run Expt 3 experiments \n",
    "\n",
    "t1 = time.time()\n",
    "\n",
    "expt_3_results = {}\n",
    "\n",
    "for data_type in data_types:\n",
    "    X_y_groups = loaded_data[data_type]\n",
    "    \n",
    "    X = X_y_groups['X']\n",
    "    y = X_y_groups['y'] \n",
    "    groups = X_y_groups['groups'] \n",
    "    \n",
    "    #1.Generate expt specific X,y,groups\n",
    "    X_expt , y_expt , groups_expt, expt_info = run_expts.generate_expt_x_y_groups(X,y,groups, 3)\n",
    "\n",
    "    results_df = run_expts.run_mv_tsc(X_expt,y_expt,groups_expt, {'RF' : RandomForestClassifier()} , return_df = True , subset_names_and_cols = regional_features_dict, random_states = [1,2] )\n",
    "    \n",
    "    expt_3_results[data_type] = results_df\n",
    "\n",
    "t2 = time.time()\n",
    "\n",
    "t2-t1"
   ]
  },
  {
   "cell_type": "code",
   "execution_count": null,
   "id": "faef1fff-e4a1-422b-930b-85bd8b3cfe6a",
   "metadata": {},
   "outputs": [],
   "source": [
    "#Show the results\n",
    "for data_type in data_types:\n",
    "    print(data_type)\n",
    "    results_df = expt_3_results[data_type]\n",
    "    res_df = run_expts.generate_subset_acc_std(results_df, return_df = True)\n",
    "    #print the results \n",
    "    # print(res_df[[col for col in res_df.columns if 'acc' in col]].mean(axis = 0))\n",
    "    display(pd.DataFrame(res_df[[col for col in res_df.columns if 'acc' in col]].mean(axis = 0)).T)"
   ]
  },
  {
   "cell_type": "markdown",
   "id": "00769bff-d46d-4b97-9305-f7882badc622",
   "metadata": {},
   "source": [
    "#### Expt 4"
   ]
  },
  {
   "cell_type": "code",
   "execution_count": null,
   "id": "82a39346-d853-4097-8c21-308901f3a238",
   "metadata": {},
   "outputs": [],
   "source": [
    "t1 = time.time()\n",
    "\n",
    "expt_4_results = {}\n",
    "\n",
    "for data_type in data_types:\n",
    "    X_y_groups = loaded_data[data_type]\n",
    "    \n",
    "    X = X_y_groups['X']\n",
    "    y = X_y_groups['y'] \n",
    "    groups = X_y_groups['groups'] \n",
    "    \n",
    "    #1.Generate expt specific X,y,groups\n",
    "    X_expt , y_expt , groups_expt, expt_info = run_expts.generate_expt_x_y_groups(X,y,groups, 4)\n",
    "\n",
    "    results_df = run_expts.run_mv_tsc(X_expt,y_expt,groups_expt, {'RF' : RandomForestClassifier()} , return_df = True , subset_names_and_cols = regional_features_dict, random_states = [1,2] )\n",
    "    \n",
    "    expt_4_results[data_type] = results_df\n",
    "\n",
    "t2 = time.time()\n",
    "\n",
    "t2-t1"
   ]
  },
  {
   "cell_type": "code",
   "execution_count": null,
   "id": "da3b327e-2196-4b1a-a8b0-c2abc9a48df7",
   "metadata": {},
   "outputs": [],
   "source": [
    "#Show the results\n",
    "for data_type in data_types:\n",
    "    print(data_type)\n",
    "    results_df = expt_4_results[data_type]\n",
    "    res_df = run_expts.generate_subset_acc_std(results_df, return_df = True)\n",
    "    #print the results \n",
    "    # print(res_df[[col for col in res_df.columns if 'acc' in col]].mean(axis = 0))\n",
    "    display(pd.DataFrame(res_df[[col for col in res_df.columns if 'acc' in col]].mean(axis = 0)).T)"
   ]
  }
 ],
 "metadata": {
  "kernelspec": {
   "display_name": "Python 3 (ipykernel)",
   "language": "python",
   "name": "python3"
  },
  "language_info": {
   "codemirror_mode": {
    "name": "ipython",
    "version": 3
   },
   "file_extension": ".py",
   "mimetype": "text/x-python",
   "name": "python",
   "nbconvert_exporter": "python",
   "pygments_lexer": "ipython3",
   "version": "3.11.3"
  }
 },
 "nbformat": 4,
 "nbformat_minor": 5
}
