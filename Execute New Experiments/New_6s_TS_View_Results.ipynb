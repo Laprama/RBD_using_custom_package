{
 "cells": [
  {
   "cell_type": "code",
   "execution_count": 1,
   "id": "7c66a8e3",
   "metadata": {},
   "outputs": [],
   "source": [
    "from IPython.utils import io\n",
    "import pandas as pd\n",
    "import os\n",
    "from pathlib import Path\n",
    "from matplotlib import pyplot as plt\n",
    "from scipy.signal import find_peaks\n",
    "import numpy as np\n",
    "import seaborn as sns\n",
    "import time\n",
    "import joblib\n",
    "from os.path import exists\n",
    "import shutil\n",
    "import sys\n",
    "import time\n",
    "\n",
    "from sklearn.model_selection import train_test_split\n",
    "#From my EEG package \n",
    "import run_expts\n",
    "\n",
    "#Let me see as many results as I want to see\n",
    "pd.set_option('display.max_rows', 500)\n",
    "pd.set_option('display.max_columns', 500)"
   ]
  },
  {
   "cell_type": "code",
   "execution_count": 5,
   "id": "b7fb3956",
   "metadata": {},
   "outputs": [],
   "source": [
    "data_types = ['Wake' , 'N1' , 'N2' , 'N3' , 'REM']\n",
    "expt_num = [1,2,3,4]\n",
    "clf_list = ['ROCKET']\n",
    "\n",
    "#Results dictionary structure : {model : {expt_type : {folder : results_df }}}\n",
    "results_dict = {}\n",
    "for clf in clf_list:\n",
    "    results_dict[clf] = {1 : {} , 2 : {} , 3: {} , 4 : {}}\n",
    "\n",
    "files_not_found = []\n",
    "\n",
    "for num in [1,2,3,4]:\n",
    "    for datatype in data_types:\n",
    "        for clf in clf_list:\n",
    "            try:\n",
    "                save_path = 'Results/Results_3/' + 'expt_' + str(num) + '_' + datatype + '_raw_clfs_results.h5'\n",
    "#                 file_name = 'expt_' + str(num) + '_' + datatype + '_raw_clfs_results.h5'\n",
    "                results_df = pd.read_hdf(save_path , key='df', mode='r')\n",
    "            except FileNotFoundError:\n",
    "                files_not_found.append(save_path)\n",
    "                continue\n",
    "                \n",
    "            res_df = run_expts.generate_subset_acc_std(results_df, return_df = True)           \n",
    "            results_dict[clf][num][datatype] = res_df"
   ]
  },
  {
   "cell_type": "code",
   "execution_count": 9,
   "id": "79c0964c",
   "metadata": {
    "scrolled": true
   },
   "outputs": [
    {
     "name": "stdout",
     "output_type": "stream",
     "text": [
      "Expt Type: 3\n",
      "Wake\n"
     ]
    },
    {
     "data": {
      "text/html": [
       "<div>\n",
       "<style scoped>\n",
       "    .dataframe tbody tr th:only-of-type {\n",
       "        vertical-align: middle;\n",
       "    }\n",
       "\n",
       "    .dataframe tbody tr th {\n",
       "        vertical-align: top;\n",
       "    }\n",
       "\n",
       "    .dataframe thead th {\n",
       "        text-align: right;\n",
       "    }\n",
       "</style>\n",
       "<table border=\"1\" class=\"dataframe\">\n",
       "  <thead>\n",
       "    <tr style=\"text-align: right;\">\n",
       "      <th></th>\n",
       "      <th>random_state</th>\n",
       "      <th>Prefrontal_ROCKET_acc</th>\n",
       "      <th>Occipital_ROCKET_acc</th>\n",
       "    </tr>\n",
       "  </thead>\n",
       "  <tbody>\n",
       "    <tr>\n",
       "      <th>0</th>\n",
       "      <td>1</td>\n",
       "      <td>0.517359</td>\n",
       "      <td>0.389957</td>\n",
       "    </tr>\n",
       "    <tr>\n",
       "      <th>1</th>\n",
       "      <td>2</td>\n",
       "      <td>0.516667</td>\n",
       "      <td>0.443939</td>\n",
       "    </tr>\n",
       "  </tbody>\n",
       "</table>\n",
       "</div>"
      ],
      "text/plain": [
       "   random_state  Prefrontal_ROCKET_acc  Occipital_ROCKET_acc\n",
       "0             1               0.517359              0.389957\n",
       "1             2               0.516667              0.443939"
      ]
     },
     "metadata": {},
     "output_type": "display_data"
    },
    {
     "name": "stdout",
     "output_type": "stream",
     "text": [
      "N1\n"
     ]
    },
    {
     "data": {
      "text/html": [
       "<div>\n",
       "<style scoped>\n",
       "    .dataframe tbody tr th:only-of-type {\n",
       "        vertical-align: middle;\n",
       "    }\n",
       "\n",
       "    .dataframe tbody tr th {\n",
       "        vertical-align: top;\n",
       "    }\n",
       "\n",
       "    .dataframe thead th {\n",
       "        text-align: right;\n",
       "    }\n",
       "</style>\n",
       "<table border=\"1\" class=\"dataframe\">\n",
       "  <thead>\n",
       "    <tr style=\"text-align: right;\">\n",
       "      <th></th>\n",
       "      <th>random_state</th>\n",
       "      <th>Prefrontal_ROCKET_acc</th>\n",
       "      <th>Left Central_ROCKET_acc</th>\n",
       "      <th>Left Temporal_ROCKET_acc</th>\n",
       "    </tr>\n",
       "  </thead>\n",
       "  <tbody>\n",
       "    <tr>\n",
       "      <th>0</th>\n",
       "      <td>1</td>\n",
       "      <td>0.468373</td>\n",
       "      <td>0.446111</td>\n",
       "      <td>0.447063</td>\n",
       "    </tr>\n",
       "    <tr>\n",
       "      <th>1</th>\n",
       "      <td>2</td>\n",
       "      <td>0.363394</td>\n",
       "      <td>0.400049</td>\n",
       "      <td>0.434017</td>\n",
       "    </tr>\n",
       "  </tbody>\n",
       "</table>\n",
       "</div>"
      ],
      "text/plain": [
       "   random_state  Prefrontal_ROCKET_acc  Left Central_ROCKET_acc  \\\n",
       "0             1               0.468373                 0.446111   \n",
       "1             2               0.363394                 0.400049   \n",
       "\n",
       "   Left Temporal_ROCKET_acc  \n",
       "0                  0.447063  \n",
       "1                  0.434017  "
      ]
     },
     "metadata": {},
     "output_type": "display_data"
    },
    {
     "name": "stdout",
     "output_type": "stream",
     "text": [
      "REM\n"
     ]
    },
    {
     "data": {
      "text/html": [
       "<div>\n",
       "<style scoped>\n",
       "    .dataframe tbody tr th:only-of-type {\n",
       "        vertical-align: middle;\n",
       "    }\n",
       "\n",
       "    .dataframe tbody tr th {\n",
       "        vertical-align: top;\n",
       "    }\n",
       "\n",
       "    .dataframe thead th {\n",
       "        text-align: right;\n",
       "    }\n",
       "</style>\n",
       "<table border=\"1\" class=\"dataframe\">\n",
       "  <thead>\n",
       "    <tr style=\"text-align: right;\">\n",
       "      <th></th>\n",
       "      <th>random_state</th>\n",
       "      <th>Prefrontal_ROCKET_acc</th>\n",
       "      <th>Left Frontal_ROCKET_acc</th>\n",
       "      <th>Left Temporal_ROCKET_acc</th>\n",
       "      <th>Parietal_ROCKET_acc</th>\n",
       "      <th>Right Parietal_ROCKET_acc</th>\n",
       "    </tr>\n",
       "  </thead>\n",
       "  <tbody>\n",
       "    <tr>\n",
       "      <th>0</th>\n",
       "      <td>1</td>\n",
       "      <td>0.433782</td>\n",
       "      <td>0.436559</td>\n",
       "      <td>0.427948</td>\n",
       "      <td>0.426204</td>\n",
       "      <td>0.402017</td>\n",
       "    </tr>\n",
       "    <tr>\n",
       "      <th>1</th>\n",
       "      <td>2</td>\n",
       "      <td>0.384203</td>\n",
       "      <td>0.429945</td>\n",
       "      <td>0.409921</td>\n",
       "      <td>0.457830</td>\n",
       "      <td>0.485012</td>\n",
       "    </tr>\n",
       "  </tbody>\n",
       "</table>\n",
       "</div>"
      ],
      "text/plain": [
       "   random_state  Prefrontal_ROCKET_acc  Left Frontal_ROCKET_acc  \\\n",
       "0             1               0.433782                 0.436559   \n",
       "1             2               0.384203                 0.429945   \n",
       "\n",
       "   Left Temporal_ROCKET_acc  Parietal_ROCKET_acc  Right Parietal_ROCKET_acc  \n",
       "0                  0.427948             0.426204                   0.402017  \n",
       "1                  0.409921             0.457830                   0.485012  "
      ]
     },
     "metadata": {},
     "output_type": "display_data"
    },
    {
     "name": "stdout",
     "output_type": "stream",
     "text": [
      "['N2', 'N3']\n",
      "Expt Type: 4\n",
      "N1\n"
     ]
    },
    {
     "data": {
      "text/html": [
       "<div>\n",
       "<style scoped>\n",
       "    .dataframe tbody tr th:only-of-type {\n",
       "        vertical-align: middle;\n",
       "    }\n",
       "\n",
       "    .dataframe tbody tr th {\n",
       "        vertical-align: top;\n",
       "    }\n",
       "\n",
       "    .dataframe thead th {\n",
       "        text-align: right;\n",
       "    }\n",
       "</style>\n",
       "<table border=\"1\" class=\"dataframe\">\n",
       "  <thead>\n",
       "    <tr style=\"text-align: right;\">\n",
       "      <th></th>\n",
       "      <th>random_state</th>\n",
       "      <th>Prefrontal_ROCKET_acc</th>\n",
       "      <th>Left Central_ROCKET_acc</th>\n",
       "      <th>Left Temporal_ROCKET_acc</th>\n",
       "    </tr>\n",
       "  </thead>\n",
       "  <tbody>\n",
       "    <tr>\n",
       "      <th>0</th>\n",
       "      <td>1</td>\n",
       "      <td>0.452262</td>\n",
       "      <td>0.417222</td>\n",
       "      <td>0.467500</td>\n",
       "    </tr>\n",
       "    <tr>\n",
       "      <th>1</th>\n",
       "      <td>2</td>\n",
       "      <td>0.403077</td>\n",
       "      <td>0.406398</td>\n",
       "      <td>0.397338</td>\n",
       "    </tr>\n",
       "  </tbody>\n",
       "</table>\n",
       "</div>"
      ],
      "text/plain": [
       "   random_state  Prefrontal_ROCKET_acc  Left Central_ROCKET_acc  \\\n",
       "0             1               0.452262                 0.417222   \n",
       "1             2               0.403077                 0.406398   \n",
       "\n",
       "   Left Temporal_ROCKET_acc  \n",
       "0                  0.467500  \n",
       "1                  0.397338  "
      ]
     },
     "metadata": {},
     "output_type": "display_data"
    },
    {
     "name": "stdout",
     "output_type": "stream",
     "text": [
      "REM\n"
     ]
    },
    {
     "data": {
      "text/html": [
       "<div>\n",
       "<style scoped>\n",
       "    .dataframe tbody tr th:only-of-type {\n",
       "        vertical-align: middle;\n",
       "    }\n",
       "\n",
       "    .dataframe tbody tr th {\n",
       "        vertical-align: top;\n",
       "    }\n",
       "\n",
       "    .dataframe thead th {\n",
       "        text-align: right;\n",
       "    }\n",
       "</style>\n",
       "<table border=\"1\" class=\"dataframe\">\n",
       "  <thead>\n",
       "    <tr style=\"text-align: right;\">\n",
       "      <th></th>\n",
       "      <th>random_state</th>\n",
       "      <th>Prefrontal_ROCKET_acc</th>\n",
       "      <th>Frontal_ROCKET_acc</th>\n",
       "      <th>Left Frontal_ROCKET_acc</th>\n",
       "      <th>Right Frontal_ROCKET_acc</th>\n",
       "      <th>Parietal_ROCKET_acc</th>\n",
       "      <th>Left Parietal_ROCKET_acc</th>\n",
       "      <th>Right Parietal_ROCKET_acc</th>\n",
       "    </tr>\n",
       "  </thead>\n",
       "  <tbody>\n",
       "    <tr>\n",
       "      <th>0</th>\n",
       "      <td>1</td>\n",
       "      <td>0.492866</td>\n",
       "      <td>0.42781</td>\n",
       "      <td>0.420885</td>\n",
       "      <td>0.413901</td>\n",
       "      <td>0.449517</td>\n",
       "      <td>0.407115</td>\n",
       "      <td>0.425628</td>\n",
       "    </tr>\n",
       "    <tr>\n",
       "      <th>1</th>\n",
       "      <td>2</td>\n",
       "      <td>0.464667</td>\n",
       "      <td>0.44533</td>\n",
       "      <td>0.429945</td>\n",
       "      <td>0.407433</td>\n",
       "      <td>0.497222</td>\n",
       "      <td>0.477885</td>\n",
       "      <td>0.501496</td>\n",
       "    </tr>\n",
       "  </tbody>\n",
       "</table>\n",
       "</div>"
      ],
      "text/plain": [
       "   random_state  Prefrontal_ROCKET_acc  Frontal_ROCKET_acc  \\\n",
       "0             1               0.492866             0.42781   \n",
       "1             2               0.464667             0.44533   \n",
       "\n",
       "   Left Frontal_ROCKET_acc  Right Frontal_ROCKET_acc  Parietal_ROCKET_acc  \\\n",
       "0                 0.420885                  0.413901             0.449517   \n",
       "1                 0.429945                  0.407433             0.497222   \n",
       "\n",
       "   Left Parietal_ROCKET_acc  Right Parietal_ROCKET_acc  \n",
       "0                  0.407115                   0.425628  \n",
       "1                  0.477885                   0.501496  "
      ]
     },
     "metadata": {},
     "output_type": "display_data"
    },
    {
     "name": "stdout",
     "output_type": "stream",
     "text": [
      "['Wake', 'N2', 'N3']\n"
     ]
    }
   ],
   "source": [
    "clf = 'ROCKET'\n",
    "\n",
    "for num in [3,4]:\n",
    "        print('Expt Type: ' + str(num))\n",
    "        not_displayed = []\n",
    "        for key in list(results_dict[clf][num].keys() ):\n",
    "            df = results_dict[clf][num][key].copy()\n",
    "            cols_to_drop = [col for col in df.columns if df[col].mean() < 0.40]\n",
    "            df = df.drop(cols_to_drop, axis = 1 )\n",
    "            if len(df.columns) < 2:\n",
    "                not_displayed.append(key)\n",
    "                continue\n",
    "            print(key)\n",
    "            display(df)\n",
    "        print(not_displayed)"
   ]
  },
  {
   "cell_type": "code",
   "execution_count": 11,
   "id": "c9d1e4b7",
   "metadata": {},
   "outputs": [],
   "source": [
    "from sktime.classification.interval_based import CanonicalIntervalForest\n",
    "from sktime.classification.interval_based import DrCIF"
   ]
  },
  {
   "cell_type": "code",
   "execution_count": 14,
   "id": "aa916ce3",
   "metadata": {},
   "outputs": [
    {
     "name": "stdout",
     "output_type": "stream",
     "text": [
      "C_I_F\n",
      "Dr_C_I_F\n"
     ]
    }
   ],
   "source": [
    "classifier_list  = [{'C_I_F': CanonicalIntervalForest()}, {'Dr_C_I_F': DrCIF()}]   \n",
    "\n",
    "for clf in classifier_list:\n",
    "    print(list(clf.keys())[0] )"
   ]
  },
  {
   "cell_type": "code",
   "execution_count": 15,
   "id": "07a6c401",
   "metadata": {},
   "outputs": [
    {
     "data": {
      "text/plain": [
       "'Dr_C_I_F'"
      ]
     },
     "execution_count": 15,
     "metadata": {},
     "output_type": "execute_result"
    }
   ],
   "source": [
    "clf_name = list(clf.keys())[0]\n",
    "clf_name"
   ]
  },
  {
   "cell_type": "code",
   "execution_count": null,
   "id": "248941ea",
   "metadata": {},
   "outputs": [],
   "source": []
  }
 ],
 "metadata": {
  "kernelspec": {
   "display_name": "Python 3 (ipykernel)",
   "language": "python",
   "name": "python3"
  },
  "language_info": {
   "codemirror_mode": {
    "name": "ipython",
    "version": 3
   },
   "file_extension": ".py",
   "mimetype": "text/x-python",
   "name": "python",
   "nbconvert_exporter": "python",
   "pygments_lexer": "ipython3",
   "version": "3.11.3"
  }
 },
 "nbformat": 4,
 "nbformat_minor": 5
}
