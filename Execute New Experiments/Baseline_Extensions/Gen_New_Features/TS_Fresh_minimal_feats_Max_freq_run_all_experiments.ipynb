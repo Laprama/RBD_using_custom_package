{
 "cells": [
  {
   "cell_type": "code",
   "execution_count": 1,
   "id": "8493af4b-b79f-47c6-966d-04935bb8efae",
   "metadata": {},
   "outputs": [
    {
     "name": "stderr",
     "output_type": "stream",
     "text": [
      "/user/home/ko20929/.conda/envs/sktime_latest/lib/python3.11/site-packages/antropy/fractal.py:197: NumbaDeprecationWarning: \u001b[1mThe 'nopython' keyword argument was not supplied to the 'numba.jit' decorator. The implicit default value for this argument is currently False, but it will be changed to True in Numba 0.59.0. See https://numba.readthedocs.io/en/stable/reference/deprecation.html#deprecation-of-object-mode-fall-back-behaviour-when-using-jit for details.\u001b[0m\n",
      "  @jit((types.Array(types.float64, 1, \"C\", readonly=True), types.int32))\n"
     ]
    }
   ],
   "source": [
    "import pandas as pd\n",
    "import mne as mne\n",
    "import os \n",
    "import time\n",
    "import numpy as np\n",
    "import matplotlib.pyplot as plt\n",
    "import joblib\n",
    "import constants\n",
    "from IPython.utils import io\n",
    "import time\n",
    "import sys\n",
    "import yasa\n",
    "from scipy.signal import welch\n",
    "\n",
    "from sklearn.model_selection import train_test_split\n",
    "\n",
    "from sklearn.ensemble import RandomForestClassifier\n",
    "from sklearn.tree import DecisionTreeClassifier\n",
    "from sklearn.svm import SVC\n",
    "from sklearn.ensemble import AdaBoostClassifier\n",
    "\n",
    "from sklearn.metrics import accuracy_score\n",
    "\n",
    "#Import my modules\n",
    "import format_eeg_data\n",
    "import constants\n",
    "import eeg_stat_ts\n",
    "import run_expts\n",
    "\n",
    "#TS Fresh Parameter Settings\n",
    "from tsfresh.feature_extraction import ComprehensiveFCParameters\n",
    "from tsfresh.feature_extraction import MinimalFCParameters\n",
    "from tsfresh.feature_extraction import EfficientFCParameters\n",
    "from tsfresh.feature_extraction import extract_features\n",
    "\n",
    "# Set display options to show all rows and columns\n",
    "pd.set_option('display.max_rows', 50)  # Show rows\n",
    "pd.set_option('display.max_columns', 160)  # Show columns"
   ]
  },
  {
   "cell_type": "code",
   "execution_count": 2,
   "id": "d2c3ae3a-9b5e-4109-a3db-8db535c5edf7",
   "metadata": {},
   "outputs": [
    {
     "name": "stdout",
     "output_type": "stream",
     "text": [
      "Wake\n"
     ]
    },
    {
     "name": "stderr",
     "output_type": "stream",
     "text": [
      "14-Sep-23 12:24:00 | WARNING | Dependency not available for matrix_profile, this feature will be disabled!\n",
      "Feature Extraction: 100%|██████████| 119/119 [00:01<00:00, 71.47it/s]\n"
     ]
    },
    {
     "name": "stdout",
     "output_type": "stream",
     "text": [
      "1040\n",
      "1040\n",
      "1040\n",
      "N1\n"
     ]
    },
    {
     "name": "stderr",
     "output_type": "stream",
     "text": [
      "14-Sep-23 12:24:03 | WARNING | Dependency not available for matrix_profile, this feature will be disabled!\n",
      "Feature Extraction: 100%|██████████| 120/120 [00:02<00:00, 56.40it/s]\n"
     ]
    },
    {
     "name": "stdout",
     "output_type": "stream",
     "text": [
      "1040\n",
      "1040\n",
      "1038\n",
      "N2\n"
     ]
    },
    {
     "name": "stderr",
     "output_type": "stream",
     "text": [
      "14-Sep-23 12:24:07 | WARNING | Dependency not available for matrix_profile, this feature will be disabled!\n",
      "Feature Extraction: 100%|██████████| 120/120 [00:02<00:00, 50.62it/s]\n"
     ]
    },
    {
     "name": "stdout",
     "output_type": "stream",
     "text": [
      "1040\n",
      "1040\n",
      "1021\n",
      "N3\n"
     ]
    },
    {
     "name": "stderr",
     "output_type": "stream",
     "text": [
      "14-Sep-23 12:24:11 | WARNING | Dependency not available for matrix_profile, this feature will be disabled!\n",
      "Feature Extraction: 100%|██████████| 119/119 [00:02<00:00, 49.69it/s]\n"
     ]
    },
    {
     "name": "stdout",
     "output_type": "stream",
     "text": [
      "1040\n",
      "1040\n",
      "1017\n",
      "REM\n"
     ]
    },
    {
     "name": "stderr",
     "output_type": "stream",
     "text": [
      "14-Sep-23 12:24:15 | WARNING | Dependency not available for matrix_profile, this feature will be disabled!\n",
      "Feature Extraction: 100%|██████████| 120/120 [00:02<00:00, 53.28it/s]\n"
     ]
    },
    {
     "name": "stdout",
     "output_type": "stream",
     "text": [
      "1040\n",
      "1040\n",
      "1030\n"
     ]
    }
   ],
   "source": [
    "load_path = '/user/home/ko20929/work/RBD_using_custom_package/Execute New Experiments/Baseline_Extensions/Gen_New_Features/generated_feats/'\n",
    "data_types = ['Wake','N1', 'N2', 'N3', 'REM']\n",
    "loaded_data = {}\n",
    "\n",
    "\n",
    "for data_type in data_types:\n",
    "    print(data_type)\n",
    "    X_y_groups = {}\n",
    "    \n",
    "    X = pd.read_hdf(load_path + data_type +  'six_second_max_freq_stats_df.h5', key='df', mode='r')\n",
    "    y = pd.read_hdf(load_path + data_type +  '_y.h5', key='df', mode='r') \n",
    "    groups = pd.read_hdf(load_path + data_type +  '_groups.h5', key='df', mode='r')\n",
    "    X, y , groups = X.reset_index(drop = True) , y.reset_index(drop = True) , groups.reset_index(drop = True)\n",
    "\n",
    "    #Transform the X into TS_Fresh Features___\n",
    "    # 1. Convert to TS_Fresh format Dataframe \n",
    "    ts_fresh_df = format_eeg_data.convert_sktime_df_to_ts_fresh_format(X, ts_cols = list(X.columns))\n",
    "    \n",
    "    # 2. Extract TS_Fresh Features from the dataframe\n",
    "    settings = MinimalFCParameters()\n",
    "    extracted_ts_fresh_df = extract_features(ts_fresh_df, column_id = 'id' , column_sort = 'time',  default_fc_parameters=settings)\n",
    "\n",
    "    # 3. Asign extract_ts_fresh_df to the variable X\n",
    "    X = extracted_ts_fresh_df.copy()\n",
    "    print(len(X.columns))\n",
    "    #Drop columns where all values are NA \n",
    "    X = X.dropna(axis = 1)\n",
    "    print(len(X.columns))\n",
    "\n",
    "    #Drop columns where all values are the same\n",
    "    # Find columns where all values are the same\n",
    "    same_value_columns = X.columns[X.nunique() == 1]\n",
    "    # Drop columns with the same values\n",
    "    X = X.drop(columns=same_value_columns)\n",
    "    print(len(X.columns))\n",
    "\n",
    "    #Generate the three dictionaries per data type _________________________________________________________________________________\n",
    "    #Generate regional features dict per data type \n",
    "    #Generate a region to features dictionary - this will enable us to run expts regionally as before\n",
    "    regional_features_dict = {}\n",
    "    region_channel_dict = constants.region_to_channel_dict\n",
    "    regions = list(region_channel_dict.keys())\n",
    "    for region in regions:\n",
    "        region_features = [col for col in X.columns if region + '_' in col]\n",
    "        if len(region_features) > 0 : \n",
    "            regional_features_dict[region] = region_features\n",
    "\n",
    "    # 2. #Create the combined regions dictionary\n",
    "    regions = list(regional_features_dict.keys())\n",
    "    combined_regions_features_dict = {}\n",
    "        \n",
    "    for i, region_1 in enumerate(regions):\n",
    "        for region_2 in regions[i+1:]:\n",
    "            new_key = region_1 + '_' + region_2\n",
    "            combined_regions_features_dict[new_key] = regional_features_dict[region_1] + regional_features_dict[region_2]\n",
    "\n",
    "    #3. Use all of the features\n",
    "    all_data_dict = {'All_regions' : list(X.columns) , 'All_regions_2' : list(X.columns)}\n",
    "       \n",
    "    X_y_groups['X'] = X\n",
    "    X_y_groups['y'] = y\n",
    "    X_y_groups['groups'] = groups\n",
    "    \n",
    "    X_y_groups['regions_dict'] = regional_features_dict\n",
    "    X_y_groups['combined_regions_dict'] = combined_regions_features_dict\n",
    "    X_y_groups['all_feats_dict'] = all_data_dict\n",
    "\n",
    "    loaded_data[data_type] = X_y_groups"
   ]
  },
  {
   "cell_type": "markdown",
   "id": "b0be1be3-6472-4234-8642-82e2b6a20155",
   "metadata": {},
   "source": [
    "### Run all expts"
   ]
  },
  {
   "cell_type": "code",
   "execution_count": 3,
   "id": "31292933-d395-4591-858f-1f676ac71b4a",
   "metadata": {},
   "outputs": [
    {
     "name": "stdout",
     "output_type": "stream",
     "text": [
      "regional done...\n",
      "regions combined done...\n",
      "regional done...\n",
      "regions combined done...\n",
      "regional done...\n",
      "regions combined done...\n",
      "regional done...\n",
      "regions combined done...\n",
      "regional done...\n",
      "regions combined done...\n",
      "883.6553180217743\n",
      "regional done...\n",
      "regions combined done...\n",
      "regional done...\n",
      "regions combined done...\n",
      "regional done...\n",
      "regions combined done...\n",
      "regional done...\n",
      "regions combined done...\n",
      "regional done...\n",
      "regions combined done...\n",
      "1069.1420826911926\n",
      "regional done...\n",
      "regions combined done...\n",
      "regional done...\n",
      "regions combined done...\n",
      "regional done...\n",
      "regions combined done...\n",
      "regional done...\n",
      "regions combined done...\n",
      "regional done...\n",
      "regions combined done...\n",
      "1083.3208634853363\n",
      "regional done...\n",
      "regions combined done...\n",
      "regional done...\n",
      "regions combined done...\n",
      "regional done...\n",
      "regions combined done...\n",
      "regional done...\n",
      "regions combined done...\n",
      "regional done...\n",
      "regions combined done...\n",
      "1148.59006357193\n"
     ]
    },
    {
     "data": {
      "text/plain": [
       "4184.70952963829"
      ]
     },
     "execution_count": 3,
     "metadata": {},
     "output_type": "execute_result"
    }
   ],
   "source": [
    "t1 = time.time()\n",
    "\n",
    "all_expt_results = {}\n",
    "\n",
    "for expt_num in [1,2,3,4] :\n",
    "    t3 = time.time()\n",
    "    expt_results = {}\n",
    "    for data_type in data_types:\n",
    "        X_y_groups = loaded_data[data_type]\n",
    "        \n",
    "        X = X_y_groups['X']\n",
    "        y = X_y_groups['y'] \n",
    "        groups = X_y_groups['groups'] \n",
    "            \n",
    "        #1.Generate expt specific X,y,groups\n",
    "        X_expt , y_expt , groups_expt, expt_info = run_expts.generate_expt_x_y_groups(X,y,groups, expt_num )\n",
    "    \n",
    "        results_df_regional = run_expts.run_mv_tsc(X_expt,y_expt,groups_expt,  {'RF' : RandomForestClassifier(random_state = 5) , 'DT' : DecisionTreeClassifier() , 'Ada_B' : AdaBoostClassifier(random_state = 5)} , return_df = True , subset_names_and_cols = X_y_groups['regions_dict'], random_states = [1,2] )\n",
    "        print('regional done...')\n",
    "        results_df_regions_combined = run_expts.run_mv_tsc(X_expt,y_expt,groups_expt,  {'RF' : RandomForestClassifier(random_state = 5) , 'DT' : DecisionTreeClassifier() , 'Ada_B' : AdaBoostClassifier(random_state = 5)} , return_df = True , subset_names_and_cols = X_y_groups['combined_regions_dict'] , random_states = [1,2] )\n",
    "        print('regions combined done...')\n",
    "        results_df_all_feats = run_expts.run_mv_tsc(X_expt,y_expt,groups_expt,  {'RF' : RandomForestClassifier(random_state = 5) , 'DT' : DecisionTreeClassifier() , 'Ada_B' : AdaBoostClassifier(random_state = 5)} , return_df = True , subset_names_and_cols = X_y_groups['all_feats_dict'], random_states = [1,2] )\n",
    "        \n",
    "        expt_results[data_type] = {'regional' : results_df_regional , 'regions_combined' : results_df_regions_combined , 'all_feats' : results_df_all_feats}\n",
    "    \n",
    "    all_expt_results[expt_num] = expt_results\n",
    "    #Saving Results \n",
    "    joblib.dump(all_expt_results, 'TS_Fresh_minimal_frequency_feats_results.pkl')\n",
    "    t4 = time.time()\n",
    "    loop_time = t4-t3\n",
    "    print(str(loop_time))\n",
    "\n",
    "t2 = time.time()\n",
    "\n",
    "t2-t1"
   ]
  }
 ],
 "metadata": {
  "kernelspec": {
   "display_name": "Python 3 (ipykernel)",
   "language": "python",
   "name": "python3"
  },
  "language_info": {
   "codemirror_mode": {
    "name": "ipython",
    "version": 3
   },
   "file_extension": ".py",
   "mimetype": "text/x-python",
   "name": "python",
   "nbconvert_exporter": "python",
   "pygments_lexer": "ipython3",
   "version": "3.11.3"
  }
 },
 "nbformat": 4,
 "nbformat_minor": 5
}
