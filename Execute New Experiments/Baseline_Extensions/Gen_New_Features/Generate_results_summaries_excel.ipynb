{
 "cells": [
  {
   "cell_type": "code",
   "execution_count": 1,
   "id": "7e79d8d4-690b-4c69-9bbb-5f86340072bb",
   "metadata": {},
   "outputs": [
    {
     "name": "stderr",
     "output_type": "stream",
     "text": [
      "/user/home/ko20929/.conda/envs/sktime_latest/lib/python3.11/site-packages/antropy/fractal.py:197: NumbaDeprecationWarning: \u001b[1mThe 'nopython' keyword argument was not supplied to the 'numba.jit' decorator. The implicit default value for this argument is currently False, but it will be changed to True in Numba 0.59.0. See https://numba.readthedocs.io/en/stable/reference/deprecation.html#deprecation-of-object-mode-fall-back-behaviour-when-using-jit for details.\u001b[0m\n",
      "  @jit((types.Array(types.float64, 1, \"C\", readonly=True), types.int32))\n"
     ]
    }
   ],
   "source": [
    "import pandas as pd\n",
    "import mne as mne\n",
    "import os \n",
    "import time\n",
    "import numpy as np\n",
    "import matplotlib.pyplot as plt\n",
    "import joblib\n",
    "import constants\n",
    "from IPython.utils import io\n",
    "import time\n",
    "import sys\n",
    "import yasa\n",
    "from scipy.signal import welch\n",
    "\n",
    "from sklearn.model_selection import train_test_split\n",
    "from sklearn.pipeline import Pipeline\n",
    "from sklearn.model_selection import GroupShuffleSplit\n",
    "\n",
    "\n",
    "from sklearn.tree import DecisionTreeClassifier\n",
    "from sklearn.ensemble import RandomForestClassifier\n",
    "from sklearn.svm import SVC\n",
    "from sklearn.ensemble import AdaBoostClassifier\n",
    "\n",
    "#Import my modules\n",
    "import format_eeg_data\n",
    "import constants\n",
    "import eeg_stat_ts\n",
    "import run_expts\n",
    "import view_results\n",
    "\n",
    "# Set display options to show all rows and columns\n",
    "pd.set_option('display.max_rows', 50)  # Show rows\n",
    "pd.set_option('display.max_columns', 160)  # Show columns"
   ]
  },
  {
   "cell_type": "code",
   "execution_count": 3,
   "id": "babd260e-fbb1-4c3c-b6fd-a987c954de4d",
   "metadata": {},
   "outputs": [
    {
     "data": {
      "text/plain": [
       "'All_results_bpw_plus_max_freq_efficient_TS_Fresh'"
      ]
     },
     "execution_count": 3,
     "metadata": {},
     "output_type": "execute_result"
    }
   ],
   "source": [
    "'All_results_bpw_plus_max_freq_efficient_TS_Fresh.pkl'[:-4]"
   ]
  },
  {
   "cell_type": "code",
   "execution_count": 19,
   "id": "24645169-9f37-44a0-b9d6-896ff3695b82",
   "metadata": {},
   "outputs": [],
   "source": [
    "# I Need a list of paths to load and file_names to save \n",
    "bpw_path = '/user/home/ko20929/work/RBD_using_custom_package/Execute New Experiments/Baseline_Extensions/'\n",
    "core_path_combined = '/user/home/ko20929/work/RBD_using_custom_package/Execute New Experiments/Baseline_Extensions/Combine_Max_Freq_Power_Band/'\n",
    "\n",
    "paths_list = [ 'static_frequency_feats_results_2.pkl',\n",
    "              'TS_Fresh_minimal_frequency_feats_results.pkl',\n",
    "              'All_results_max_frequency_feats_efficient_TS_Fresh.pkl',\n",
    "              bpw_path + 'All_results_bpw_feats_minimal_TS_Fresh.pkl',\n",
    "              bpw_path + 'All_results_bpw_feats_efficient_TS_Fresh.pkl',\n",
    "              core_path_combined + 'static_combined_BPW_frequency_feats_results.pkl',\n",
    "              core_path_combined + 'All_results_bpw_plus_max_freq_minimal_TS_Fresh.pkl',\n",
    "              core_path_combined + 'All_results_bpw_plus_max_freq_efficient_TS_Fresh.pkl']\n",
    "\n",
    "f_name_list = ['static_frequency_feats_results_2.pkl',\n",
    "              'TS_Fresh_minimal_frequency_feats_results.pkl',\n",
    "              'All_results_max_frequency_feats_efficient_TS_Fresh.pkl',\n",
    "              'All_results_bpw_feats_minimal_TS_Fresh.pkl',\n",
    "             'All_results_bpw_feats_efficient_TS_Fresh.pkl',\n",
    "              'static_combined_BPW_frequency_feats_results.pkl',\n",
    "              'All_results_bpw_plus_max_freq_minimal_TS_Fresh.pkl',\n",
    "              'All_results_bpw_plus_max_freq_efficient_TS_Fresh.pkl']"
   ]
  },
  {
   "cell_type": "code",
   "execution_count": 20,
   "id": "6abc2c0b-7b43-41cc-b320-e342f3ea1454",
   "metadata": {},
   "outputs": [
    {
     "name": "stdout",
     "output_type": "stream",
     "text": [
      "static_frequency_feats_results_2.pkl   done ...\n",
      "TS_Fresh_minimal_frequency_feats_results.pkl   done ...\n",
      "All_results_max_frequency_feats_efficient_TS_Fresh.pkl   done ...\n",
      "All_results_bpw_feats_minimal_TS_Fresh.pkl   done ...\n",
      "All_results_bpw_feats_efficient_TS_Fresh.pkl   done ...\n",
      "static_combined_BPW_frequency_feats_results.pkl   done ...\n",
      "All_results_bpw_plus_max_freq_minimal_TS_Fresh.pkl   done ...\n",
      "All_results_bpw_plus_max_freq_efficient_TS_Fresh.pkl   done ...\n"
     ]
    }
   ],
   "source": [
    "excel_folder = '/user/home/ko20929/work/RBD_using_custom_package/Execute New Experiments/Baseline_Extensions/excel_files/'\n",
    "\n",
    "for path, f_name in zip(paths_list, f_name_list):\n",
    "    results = joblib.load(path)\n",
    "    results_summaries = view_results.gen_results_summaries(results)\n",
    "    view_results.gen_excel_sheet(excel_folder + f_name[:-4], results_summaries)\n",
    "    print(f_name + '   done ...')"
   ]
  }
 ],
 "metadata": {
  "kernelspec": {
   "display_name": "Python 3 (ipykernel)",
   "language": "python",
   "name": "python3"
  },
  "language_info": {
   "codemirror_mode": {
    "name": "ipython",
    "version": 3
   },
   "file_extension": ".py",
   "mimetype": "text/x-python",
   "name": "python",
   "nbconvert_exporter": "python",
   "pygments_lexer": "ipython3",
   "version": "3.11.3"
  }
 },
 "nbformat": 4,
 "nbformat_minor": 5
}
