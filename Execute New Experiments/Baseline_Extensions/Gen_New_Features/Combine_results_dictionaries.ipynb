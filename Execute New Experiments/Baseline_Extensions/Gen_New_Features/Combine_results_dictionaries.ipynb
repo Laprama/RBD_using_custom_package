{
 "cells": [
  {
   "cell_type": "markdown",
   "id": "fb554472-9c56-498e-a2cf-587e9319f085",
   "metadata": {},
   "source": [
    "This notebook combines results dictionaries where each of the data_type results are stored in seperate dictionaries"
   ]
  },
  {
   "cell_type": "code",
   "execution_count": 2,
   "id": "5d015426-60bb-4dcc-889b-3aa38b0d0171",
   "metadata": {},
   "outputs": [
    {
     "name": "stderr",
     "output_type": "stream",
     "text": [
      "/user/home/ko20929/.conda/envs/sktime_latest/lib/python3.11/site-packages/antropy/fractal.py:197: NumbaDeprecationWarning: \u001b[1mThe 'nopython' keyword argument was not supplied to the 'numba.jit' decorator. The implicit default value for this argument is currently False, but it will be changed to True in Numba 0.59.0. See https://numba.readthedocs.io/en/stable/reference/deprecation.html#deprecation-of-object-mode-fall-back-behaviour-when-using-jit for details.\u001b[0m\n",
      "  @jit((types.Array(types.float64, 1, \"C\", readonly=True), types.int32))\n"
     ]
    }
   ],
   "source": [
    "import pandas as pd\n",
    "import mne as mne\n",
    "import os \n",
    "import time\n",
    "import numpy as np\n",
    "import matplotlib.pyplot as plt\n",
    "import joblib\n",
    "import constants\n",
    "from IPython.utils import io\n",
    "import time\n",
    "import sys\n",
    "import yasa\n",
    "from scipy.signal import welch\n",
    "\n",
    "from sklearn.model_selection import train_test_split\n",
    "from sklearn.pipeline import Pipeline\n",
    "from sklearn.model_selection import GroupShuffleSplit\n",
    "\n",
    "\n",
    "from sklearn.tree import DecisionTreeClassifier\n",
    "from sklearn.ensemble import RandomForestClassifier\n",
    "from sklearn.svm import SVC\n",
    "from sklearn.ensemble import AdaBoostClassifier\n",
    "\n",
    "#Import my modules\n",
    "import format_eeg_data\n",
    "import constants\n",
    "import eeg_stat_ts\n",
    "import run_expts\n",
    "\n",
    "# Set display options to show all rows and columns\n",
    "pd.set_option('display.max_rows', 50)  # Show rows\n",
    "pd.set_option('display.max_columns', 160)  # Show columns"
   ]
  },
  {
   "cell_type": "code",
   "execution_count": 7,
   "id": "90a274aa-d760-429a-899e-f1930b55b6f7",
   "metadata": {},
   "outputs": [],
   "source": [
    "#Combined results dictionary should enable you to access elements with results[expt_num][data_type][features_used]\n",
    "# Individual results dictionaries are of the format results[expt_num][features_used]  \n",
    "# expt_num -> [1,2,3,4] | data_types -> ['Wake','N1', 'N2', 'N3', 'REM'] | features_used --> ['regional' , 'regions_combined' , 'all_feats']\n",
    "# combined_dict[expt_num][data_type] = Individual_dict[expt_num]"
   ]
  },
  {
   "cell_type": "code",
   "execution_count": null,
   "id": "4fffc648-51bc-4575-afba-26a789470cbb",
   "metadata": {},
   "outputs": [],
   "source": [
    "'N1combined_max_freq_plus_BPW_TS_Fresh_Efficient_feats_results.pkl'\n"
   ]
  },
  {
   "cell_type": "code",
   "execution_count": 28,
   "id": "42d0d6cf-351b-4d23-94cd-944bf793579d",
   "metadata": {},
   "outputs": [],
   "source": [
    "#Core path for BPW feats \n",
    "core_path_bpw = '/user/home/ko20929/work/RBD_using_custom_package/Execute New Experiments/Baseline_Extensions/'\n",
    "\n",
    "#Core path for combined feats expts\n",
    "core_path_combined = '/user/home/ko20929/work/RBD_using_custom_package/Execute New Experiments/Baseline_Extensions/Combine_Max_Freq_Power_Band/'\n",
    "\n",
    "#Replace Efficient with Minimal\n",
    "#Create dictionary in format results[expt_num][data_type][features] from the seperate files\n",
    "individual_dicts = {}\n",
    "for data_type in ['Wake','N1', 'N2', 'N3', 'REM']:\n",
    "    individual_dicts[data_type] = joblib.load(core_path_bpw + data_type + 'BPW_TS_Fresh_Minimal-BPW_feats_results.pkl')\n",
    "\n",
    "combined_results_dict = {}\n",
    "for expt_num in [1,2,3,4]: \n",
    "    combined_results_dict[expt_num] = {}\n",
    "    for data_type in ['Wake','N1', 'N2', 'N3', 'REM']:\n",
    "        combined_results_dict[expt_num][data_type] = individual_dicts[data_type][expt_num][data_type]"
   ]
  },
  {
   "cell_type": "code",
   "execution_count": 29,
   "id": "22e67801-090d-47eb-8dd6-e289d34de6d8",
   "metadata": {},
   "outputs": [
    {
     "data": {
      "text/plain": [
       "['/user/home/ko20929/work/RBD_using_custom_package/Execute New Experiments/Baseline_Extensions/All_results_bpw_feats_minimal_TS_Fresh.pkl']"
      ]
     },
     "execution_count": 29,
     "metadata": {},
     "output_type": "execute_result"
    }
   ],
   "source": [
    "joblib.dump(combined_results_dict, core_path_bpw + 'All_results_bpw_feats_minimal_TS_Fresh.pkl')"
   ]
  },
  {
   "cell_type": "code",
   "execution_count": null,
   "id": "6d27e2c5-752f-4cfc-bb6f-938fc2e01b03",
   "metadata": {},
   "outputs": [],
   "source": [
    "'/user/home/ko20929/work/RBD_using_custom_package/Execute New Experiments/Baseline_Extensions/All_results_bpw_feats_efficient_TS_Fresh.pkl'\n",
    "'/user/home/ko20929/work/RBD_using_custom_package/Execute New Experiments/Baseline_Extensions/All_results_bpw_feats_minimal_TS_Fresh.pkl'"
   ]
  },
  {
   "cell_type": "code",
   "execution_count": null,
   "id": "dc3c544a-b7b2-4d19-9f65-030f58e59ef3",
   "metadata": {},
   "outputs": [],
   "source": [
    "core_path_combined = '/user/home/ko20929/work/RBD_using_custom_package/Execute New Experiments/Baseline_Extensions/Combine_Max_Freq_Power_Band/'"
   ]
  },
  {
   "cell_type": "code",
   "execution_count": null,
   "id": "581cb9c2-4677-4260-b14c-3963795080f5",
   "metadata": {},
   "outputs": [],
   "source": [
    "core_path_combined + 'All_results_bpw_plus_max_freq_efficient_TS_Fresh.pkl'\n",
    "core_path_combined + 'All_results_bpw_plus_max_freq_minimal_TS_Fresh.pkl'"
   ]
  }
 ],
 "metadata": {
  "kernelspec": {
   "display_name": "Python 3 (ipykernel)",
   "language": "python",
   "name": "python3"
  },
  "language_info": {
   "codemirror_mode": {
    "name": "ipython",
    "version": 3
   },
   "file_extension": ".py",
   "mimetype": "text/x-python",
   "name": "python",
   "nbconvert_exporter": "python",
   "pygments_lexer": "ipython3",
   "version": "3.11.3"
  }
 },
 "nbformat": 4,
 "nbformat_minor": 5
}
