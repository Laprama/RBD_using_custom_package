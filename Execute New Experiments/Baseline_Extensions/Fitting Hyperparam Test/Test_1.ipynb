{
 "cells": [
  {
   "cell_type": "code",
   "execution_count": 8,
   "id": "8c454815-3baa-4a7c-b7a1-501c8070ea3d",
   "metadata": {},
   "outputs": [],
   "source": [
    "import pandas as pd\n",
    "import mne as mne\n",
    "import os \n",
    "import time\n",
    "import numpy as np\n",
    "import matplotlib.pyplot as plt\n",
    "import joblib\n",
    "import constants\n",
    "from IPython.utils import io\n",
    "import time\n",
    "import sys\n",
    "import yasa\n",
    "from scipy.signal import welch\n",
    "\n",
    "from sklearn.model_selection import train_test_split\n",
    "from sklearn.pipeline import Pipeline\n",
    "from sklearn.model_selection import GroupShuffleSplit\n",
    "\n",
    "\n",
    "from sklearn.tree import DecisionTreeClassifier\n",
    "from sklearn.ensemble import RandomForestClassifier\n",
    "from sklearn.svm import SVC\n",
    "from sklearn.ensemble import AdaBoostClassifier\n",
    "from sklearn.model_selection import GridSearchCV\n",
    "\n",
    "#Import my modules\n",
    "import format_eeg_data\n",
    "import constants\n",
    "import eeg_stat_ts\n",
    "import run_expts\n",
    "\n",
    "# Set display options to show all rows and columns\n",
    "pd.set_option('display.max_rows', 50)  # Show rows\n",
    "pd.set_option('display.max_columns', 160)  # Show columns"
   ]
  },
  {
   "cell_type": "code",
   "execution_count": 36,
   "id": "8ca92b45-776f-4c09-a500-a4f54f1c5849",
   "metadata": {},
   "outputs": [
    {
     "data": {
      "text/plain": [
       "480"
      ]
     },
     "execution_count": 36,
     "metadata": {},
     "output_type": "execute_result"
    }
   ],
   "source": [
    "# 600 times slower!!!! :O \n",
    "4*3*4*2*5"
   ]
  },
  {
   "cell_type": "code",
   "execution_count": 42,
   "id": "91458dd8-034a-4435-a35b-15ecb1f8a271",
   "metadata": {},
   "outputs": [
    {
     "data": {
      "text/plain": [
       "160"
      ]
     },
     "execution_count": 42,
     "metadata": {},
     "output_type": "execute_result"
    }
   ],
   "source": [
    "# Quicker version of param grid\n",
    "param_grid = { \n",
    "    'n_estimators': [10, 40, 100, 250],\n",
    "    'max_features': [None, 'sqrt'],\n",
    "    'max_depth' : [3,5,8, None],\n",
    "    'criterion' :['gini'] }\n",
    "#CV to choose hyperparameters automtatically adds a x5 at the end \n",
    "4*2*4*1*5"
   ]
  },
  {
   "cell_type": "code",
   "execution_count": 39,
   "id": "88a42ef9-a148-49f9-bec4-2c1b0f73841a",
   "metadata": {},
   "outputs": [],
   "source": [
    "#Example Parameter grid for Random Forest\n",
    "param_grid = { \n",
    "    'n_estimators': [10, 30, 100, 200, 500],\n",
    "    'max_features': [None, 'sqrt', 'log2'],\n",
    "    'max_depth' : [3,5,8, None],\n",
    "    'criterion' :['gini', 'entropy'] }\n",
    "\n",
    "clf =  GridSearchCV( RandomForestClassifier(), param_grid, refit = True, verbose = 1)"
   ]
  },
  {
   "cell_type": "markdown",
   "id": "d3425d5c-fc06-4468-99f8-e638a8d4bcbe",
   "metadata": {},
   "source": [
    " ### Load the static features (Wake data testing)"
   ]
  },
  {
   "cell_type": "code",
   "execution_count": 9,
   "id": "50380ef9-5d7f-4dc9-b2fc-0ef5cef85c78",
   "metadata": {},
   "outputs": [],
   "source": [
    "core_path = '/user/home/ko20929/work/RBD_using_custom_package/Execute New Experiments/Baseline_Extensions/Gen_New_Features/generated_feats/'\n",
    "data_types = ['N2', 'N3','REM', 'Wake', 'N1']\n",
    "data_type = 'Wake' # Select data_type to load\n",
    "\n",
    "load_path = core_path + data_type\n",
    "\n",
    "X = pd.read_hdf(load_path + 'six_second_max_freq_stats_df.h5', key='df', mode='r')\n",
    "y = pd.read_hdf(load_path + '_y.h5', key='df', mode='r') \n",
    "groups = pd.read_hdf(load_path + '_groups.h5', key='df', mode='r')  \n",
    "\n",
    "# Replace time sereis data with mean of the data ______________________________________________________________________________________________________\n",
    "\n",
    "# Defining a function to replace time series of values with their mean\n",
    "def function(x):\n",
    "    return x.values.mean()\n",
    "    \n",
    "#Construct the static features\n",
    "static_features_df = X.apply(np.vectorize(function))\n",
    "X = static_features_df.copy()"
   ]
  },
  {
   "cell_type": "code",
   "execution_count": 30,
   "id": "e2c2bc96-36fb-4482-b795-165734e9a119",
   "metadata": {},
   "outputs": [],
   "source": [
    "Prefrontal_only_dict = {'Prefrontal' : [col for col in X.columns if 'Prefrontal' in col] }"
   ]
  },
  {
   "cell_type": "code",
   "execution_count": 50,
   "id": "2dace228-d25d-41a7-aef6-cdf75361c801",
   "metadata": {},
   "outputs": [],
   "source": [
    "Prefrontal_Left_Temporal_dict = {'Prefrontal_Left_Temporal' : [col for col in X.columns if 'Prefrontal' in col] + [col for col in X.columns if 'Left Temporal' in col] }"
   ]
  },
  {
   "cell_type": "code",
   "execution_count": 18,
   "id": "1bd9e234-65a5-4779-ac8a-eb04e50a9e0a",
   "metadata": {},
   "outputs": [],
   "source": [
    "#Generate region to features dictionary to enable experiments to be run regionally\n",
    "regional_features_dict = {}\n",
    "region_channel_dict = constants.region_to_channel_dict\n",
    "regions = list(region_channel_dict.keys())\n",
    "for region in regions:\n",
    "    region_features = [col for col in X.columns if '_' + region in col]\n",
    "    if len(region_features) > 0 : \n",
    "        regional_features_dict[region] = region_features"
   ]
  },
  {
   "cell_type": "markdown",
   "id": "61536dc0-8ace-43c0-abb3-184e9db29035",
   "metadata": {},
   "source": [
    "#### Run experiment test"
   ]
  },
  {
   "cell_type": "code",
   "execution_count": 51,
   "id": "85f9ff1c-9633-4003-87eb-d88193a83ac8",
   "metadata": {},
   "outputs": [
    {
     "name": "stdout",
     "output_type": "stream",
     "text": [
      "Fitting 5 folds for each of 32 candidates, totalling 160 fits\n",
      "Fitting 5 folds for each of 32 candidates, totalling 160 fits\n",
      "Fitting 5 folds for each of 32 candidates, totalling 160 fits\n",
      "Fitting 5 folds for each of 32 candidates, totalling 160 fits\n",
      "Fitting 5 folds for each of 32 candidates, totalling 160 fits\n",
      "Fitting 5 folds for each of 32 candidates, totalling 160 fits\n",
      "Fitting 5 folds for each of 32 candidates, totalling 160 fits\n",
      "Fitting 5 folds for each of 32 candidates, totalling 160 fits\n",
      "Fitting 5 folds for each of 32 candidates, totalling 160 fits\n",
      "Fitting 5 folds for each of 32 candidates, totalling 160 fits\n"
     ]
    },
    {
     "data": {
      "text/html": [
       "<div>\n",
       "<style scoped>\n",
       "    .dataframe tbody tr th:only-of-type {\n",
       "        vertical-align: middle;\n",
       "    }\n",
       "\n",
       "    .dataframe tbody tr th {\n",
       "        vertical-align: top;\n",
       "    }\n",
       "\n",
       "    .dataframe thead th {\n",
       "        text-align: right;\n",
       "    }\n",
       "</style>\n",
       "<table border=\"1\" class=\"dataframe\">\n",
       "  <thead>\n",
       "    <tr style=\"text-align: right;\">\n",
       "      <th></th>\n",
       "      <th>random_state</th>\n",
       "      <th>Prefrontal_Left_Temporal_RF_acc</th>\n",
       "      <th>Prefrontal_Left_Temporal_RF_std</th>\n",
       "    </tr>\n",
       "  </thead>\n",
       "  <tbody>\n",
       "    <tr>\n",
       "      <th>0</th>\n",
       "      <td>1</td>\n",
       "      <td>0.733333</td>\n",
       "      <td>0.169967</td>\n",
       "    </tr>\n",
       "    <tr>\n",
       "      <th>1</th>\n",
       "      <td>2</td>\n",
       "      <td>0.633333</td>\n",
       "      <td>0.244949</td>\n",
       "    </tr>\n",
       "  </tbody>\n",
       "</table>\n",
       "</div>"
      ],
      "text/plain": [
       "   random_state  Prefrontal_Left_Temporal_RF_acc  \\\n",
       "0             1                         0.733333   \n",
       "1             2                         0.633333   \n",
       "\n",
       "   Prefrontal_Left_Temporal_RF_std  \n",
       "0                         0.169967  \n",
       "1                         0.244949  "
      ]
     },
     "metadata": {},
     "output_type": "display_data"
    },
    {
     "data": {
      "text/plain": [
       "136.15371227264404"
      ]
     },
     "execution_count": 51,
     "metadata": {},
     "output_type": "execute_result"
    }
   ],
   "source": [
    "t1 = time.time()\n",
    "\n",
    "X_expt , y_expt , groups_expt, expt_info = run_expts.generate_expt_x_y_groups(X,y,groups, 1 )\n",
    "results_df = run_expts.run_mv_tsc(X_expt,y_expt,groups_expt, {'RF' : GridSearchCV( RandomForestClassifier(), param_grid, refit = True, verbose = 1)}, return_df = True , subset_names_and_cols = Prefrontal_Left_Temporal_dict, random_states = [1,2] )\n",
    "# results_df = run_expts.run_mv_tsc(X_expt,y_expt,groups_expt, {'RF' : RandomForestClassifier()}, return_df = True , subset_names_and_cols = Prefrontal_only_dict, random_states = [1,2] ) \n",
    "\n",
    "res_df = run_expts.generate_subset_acc_std(results_df, return_df = True)\n",
    "display(pd.DataFrame(res_df))\n",
    "        \n",
    "t2 = time.time()\n",
    "\n",
    "t2-t1"
   ]
  },
  {
   "cell_type": "code",
   "execution_count": 52,
   "id": "95246d96-97c9-465a-a747-3cecbf4fc344",
   "metadata": {},
   "outputs": [
    {
     "name": "stdout",
     "output_type": "stream",
     "text": [
      "Fitting 5 folds for each of 32 candidates, totalling 160 fits\n",
      "Fitting 5 folds for each of 32 candidates, totalling 160 fits\n",
      "Fitting 5 folds for each of 32 candidates, totalling 160 fits\n",
      "Fitting 5 folds for each of 32 candidates, totalling 160 fits\n",
      "Fitting 5 folds for each of 32 candidates, totalling 160 fits\n",
      "Fitting 5 folds for each of 32 candidates, totalling 160 fits\n",
      "Fitting 5 folds for each of 32 candidates, totalling 160 fits\n",
      "Fitting 5 folds for each of 32 candidates, totalling 160 fits\n",
      "Fitting 5 folds for each of 32 candidates, totalling 160 fits\n",
      "Fitting 5 folds for each of 32 candidates, totalling 160 fits\n"
     ]
    },
    {
     "data": {
      "text/html": [
       "<div>\n",
       "<style scoped>\n",
       "    .dataframe tbody tr th:only-of-type {\n",
       "        vertical-align: middle;\n",
       "    }\n",
       "\n",
       "    .dataframe tbody tr th {\n",
       "        vertical-align: top;\n",
       "    }\n",
       "\n",
       "    .dataframe thead th {\n",
       "        text-align: right;\n",
       "    }\n",
       "</style>\n",
       "<table border=\"1\" class=\"dataframe\">\n",
       "  <thead>\n",
       "    <tr style=\"text-align: right;\">\n",
       "      <th></th>\n",
       "      <th>random_state</th>\n",
       "      <th>Prefrontal_Left_Temporal_RF_acc</th>\n",
       "      <th>Prefrontal_Left_Temporal_RF_std</th>\n",
       "    </tr>\n",
       "  </thead>\n",
       "  <tbody>\n",
       "    <tr>\n",
       "      <th>0</th>\n",
       "      <td>1</td>\n",
       "      <td>0.732143</td>\n",
       "      <td>0.097153</td>\n",
       "    </tr>\n",
       "    <tr>\n",
       "      <th>1</th>\n",
       "      <td>2</td>\n",
       "      <td>0.814286</td>\n",
       "      <td>0.104491</td>\n",
       "    </tr>\n",
       "  </tbody>\n",
       "</table>\n",
       "</div>"
      ],
      "text/plain": [
       "   random_state  Prefrontal_Left_Temporal_RF_acc  \\\n",
       "0             1                         0.732143   \n",
       "1             2                         0.814286   \n",
       "\n",
       "   Prefrontal_Left_Temporal_RF_std  \n",
       "0                         0.097153  \n",
       "1                         0.104491  "
      ]
     },
     "metadata": {},
     "output_type": "display_data"
    },
    {
     "data": {
      "text/plain": [
       "137.5036060810089"
      ]
     },
     "execution_count": 52,
     "metadata": {},
     "output_type": "execute_result"
    }
   ],
   "source": [
    "t1 = time.time()\n",
    "\n",
    "X_expt , y_expt , groups_expt, expt_info = run_expts.generate_expt_x_y_groups(X,y,groups, 2)\n",
    "results_df = run_expts.run_mv_tsc(X_expt,y_expt,groups_expt, {'RF' : GridSearchCV( RandomForestClassifier(), param_grid, refit = True, verbose = 1)}, return_df = True , subset_names_and_cols = Prefrontal_Left_Temporal_dict, random_states = [1,2] ) \n",
    "res_df = run_expts.generate_subset_acc_std(results_df, return_df = True)\n",
    "display(pd.DataFrame(res_df))\n",
    "        \n",
    "t2 = time.time()\n",
    "\n",
    "t2-t1"
   ]
  },
  {
   "cell_type": "code",
   "execution_count": 53,
   "id": "aa02796b-ceea-4d02-b31d-5ac70351db23",
   "metadata": {},
   "outputs": [],
   "source": [
    "param_grid_reduced = { \n",
    "    'n_estimators': [1, 3, 10],\n",
    "    'max_features': [None, 'sqrt'],\n",
    "    'max_depth' : [3,5,8, None],\n",
    "    'criterion' :['gini'] }"
   ]
  },
  {
   "cell_type": "code",
   "execution_count": 54,
   "id": "ff02b66a-d00b-4750-b2a9-2f93610aa568",
   "metadata": {},
   "outputs": [
    {
     "name": "stdout",
     "output_type": "stream",
     "text": [
      "Fitting 5 folds for each of 24 candidates, totalling 120 fits\n",
      "Fitting 5 folds for each of 24 candidates, totalling 120 fits\n",
      "Fitting 5 folds for each of 24 candidates, totalling 120 fits\n",
      "Fitting 5 folds for each of 24 candidates, totalling 120 fits\n",
      "Fitting 5 folds for each of 24 candidates, totalling 120 fits\n",
      "Fitting 5 folds for each of 24 candidates, totalling 120 fits\n",
      "Fitting 5 folds for each of 24 candidates, totalling 120 fits\n",
      "Fitting 5 folds for each of 24 candidates, totalling 120 fits\n",
      "Fitting 5 folds for each of 24 candidates, totalling 120 fits\n",
      "Fitting 5 folds for each of 24 candidates, totalling 120 fits\n"
     ]
    },
    {
     "data": {
      "text/html": [
       "<div>\n",
       "<style scoped>\n",
       "    .dataframe tbody tr th:only-of-type {\n",
       "        vertical-align: middle;\n",
       "    }\n",
       "\n",
       "    .dataframe tbody tr th {\n",
       "        vertical-align: top;\n",
       "    }\n",
       "\n",
       "    .dataframe thead th {\n",
       "        text-align: right;\n",
       "    }\n",
       "</style>\n",
       "<table border=\"1\" class=\"dataframe\">\n",
       "  <thead>\n",
       "    <tr style=\"text-align: right;\">\n",
       "      <th></th>\n",
       "      <th>random_state</th>\n",
       "      <th>Prefrontal_Left_Temporal_RF_acc</th>\n",
       "      <th>Prefrontal_Left_Temporal_RF_std</th>\n",
       "    </tr>\n",
       "  </thead>\n",
       "  <tbody>\n",
       "    <tr>\n",
       "      <th>0</th>\n",
       "      <td>1</td>\n",
       "      <td>0.821429</td>\n",
       "      <td>0.098457</td>\n",
       "    </tr>\n",
       "    <tr>\n",
       "      <th>1</th>\n",
       "      <td>2</td>\n",
       "      <td>0.703571</td>\n",
       "      <td>0.242647</td>\n",
       "    </tr>\n",
       "  </tbody>\n",
       "</table>\n",
       "</div>"
      ],
      "text/plain": [
       "   random_state  Prefrontal_Left_Temporal_RF_acc  \\\n",
       "0             1                         0.821429   \n",
       "1             2                         0.703571   \n",
       "\n",
       "   Prefrontal_Left_Temporal_RF_std  \n",
       "0                         0.098457  \n",
       "1                         0.242647  "
      ]
     },
     "metadata": {},
     "output_type": "display_data"
    },
    {
     "data": {
      "text/plain": [
       "8.449946165084839"
      ]
     },
     "execution_count": 54,
     "metadata": {},
     "output_type": "execute_result"
    }
   ],
   "source": [
    "t1 = time.time()\n",
    "\n",
    "X_expt , y_expt , groups_expt, expt_info = run_expts.generate_expt_x_y_groups(X,y,groups, 2)\n",
    "results_df = run_expts.run_mv_tsc(X_expt,y_expt,groups_expt, {'RF' : GridSearchCV( RandomForestClassifier(), param_grid_reduced, refit = True, verbose = 1)}, return_df = True , subset_names_and_cols = Prefrontal_Left_Temporal_dict, random_states = [1,2] ) \n",
    "res_df = run_expts.generate_subset_acc_std(results_df, return_df = True)\n",
    "display(pd.DataFrame(res_df))\n",
    "        \n",
    "t2 = time.time()\n",
    "\n",
    "t2-t1"
   ]
  }
 ],
 "metadata": {
  "kernelspec": {
   "display_name": "Python 3 (ipykernel)",
   "language": "python",
   "name": "python3"
  },
  "language_info": {
   "codemirror_mode": {
    "name": "ipython",
    "version": 3
   },
   "file_extension": ".py",
   "mimetype": "text/x-python",
   "name": "python",
   "nbconvert_exporter": "python",
   "pygments_lexer": "ipython3",
   "version": "3.11.3"
  }
 },
 "nbformat": 4,
 "nbformat_minor": 5
}
