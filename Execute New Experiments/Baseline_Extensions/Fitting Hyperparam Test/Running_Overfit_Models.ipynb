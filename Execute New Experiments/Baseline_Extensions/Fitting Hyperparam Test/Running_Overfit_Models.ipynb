{
 "cells": [
  {
   "cell_type": "code",
   "execution_count": 39,
   "id": "10204180-ff10-4bc7-bcc3-65e42ec3885c",
   "metadata": {},
   "outputs": [
    {
     "name": "stdout",
     "output_type": "stream",
     "text": [
      "commencing for ... Ada_N1_Minimal_beta_expt2_5_fold_results_df.pkl\n",
      "Checking if results already exists..\n",
      "Path already exists!\n"
     ]
    },
    {
     "name": "stderr",
     "output_type": "stream",
     "text": [
      "01-Nov-23 17:07:16 | WARNING | Dependency not available for matrix_profile, this feature will be disabled!\n",
      "Feature Extraction: 100%|██████████| 120/120 [00:03<00:00, 35.14it/s]\n"
     ]
    },
    {
     "name": "stdout",
     "output_type": "stream",
     "text": [
      "1950\n",
      "1950\n",
      "1948\n",
      "Fitting 5 folds for each of 1 candidates, totalling 5 fits\n",
      "Fitting 5 folds for each of 1 candidates, totalling 5 fits\n",
      "Fitting 5 folds for each of 1 candidates, totalling 5 fits\n",
      "Fitting 5 folds for each of 1 candidates, totalling 5 fits\n",
      "Fitting 5 folds for each of 1 candidates, totalling 5 fits\n",
      "Fitting 5 folds for each of 1 candidates, totalling 5 fits\n",
      "Fitting 5 folds for each of 1 candidates, totalling 5 fits\n",
      "Fitting 5 folds for each of 1 candidates, totalling 5 fits\n",
      "Fitting 5 folds for each of 1 candidates, totalling 5 fits\n",
      "Fitting 5 folds for each of 1 candidates, totalling 5 fits\n",
      "Fitting 5 folds for each of 1 candidates, totalling 5 fits\n",
      "Fitting 5 folds for each of 1 candidates, totalling 5 fits\n",
      "Fitting 5 folds for each of 1 candidates, totalling 5 fits\n",
      "Fitting 5 folds for each of 1 candidates, totalling 5 fits\n",
      "Fitting 5 folds for each of 1 candidates, totalling 5 fits\n",
      "Fitting 5 folds for each of 1 candidates, totalling 5 fits\n",
      "Fitting 5 folds for each of 1 candidates, totalling 5 fits\n",
      "Fitting 5 folds for each of 1 candidates, totalling 5 fits\n",
      "Fitting 5 folds for each of 1 candidates, totalling 5 fits\n",
      "Fitting 5 folds for each of 1 candidates, totalling 5 fits\n",
      "Fitting 5 folds for each of 1 candidates, totalling 5 fits\n",
      "Fitting 5 folds for each of 1 candidates, totalling 5 fits\n",
      "Fitting 5 folds for each of 1 candidates, totalling 5 fits\n",
      "Fitting 5 folds for each of 1 candidates, totalling 5 fits\n",
      "Fitting 5 folds for each of 1 candidates, totalling 5 fits\n",
      "Fitting 5 folds for each of 1 candidates, totalling 5 fits\n",
      "Fitting 5 folds for each of 1 candidates, totalling 5 fits\n",
      "Fitting 5 folds for each of 1 candidates, totalling 5 fits\n",
      "Fitting 5 folds for each of 1 candidates, totalling 5 fits\n",
      "Fitting 5 folds for each of 1 candidates, totalling 5 fits\n",
      "Fitting 5 folds for each of 1 candidates, totalling 5 fits\n",
      "Fitting 5 folds for each of 1 candidates, totalling 5 fits\n",
      "Fitting 5 folds for each of 1 candidates, totalling 5 fits\n",
      "Fitting 5 folds for each of 1 candidates, totalling 5 fits\n",
      "Fitting 5 folds for each of 1 candidates, totalling 5 fits\n",
      "Fitting 5 folds for each of 1 candidates, totalling 5 fits\n",
      "Fitting 5 folds for each of 1 candidates, totalling 5 fits\n",
      "Fitting 5 folds for each of 1 candidates, totalling 5 fits\n",
      "Fitting 5 folds for each of 1 candidates, totalling 5 fits\n",
      "Fitting 5 folds for each of 1 candidates, totalling 5 fits\n",
      "Ada_N1_Minimal_beta_expt2_5_fold_results_df.pkl\n",
      "88.27319860458374\n"
     ]
    }
   ],
   "source": [
    "%run hyperparameter_tuining_script_v2 6"
   ]
  },
  {
   "cell_type": "code",
   "execution_count": 40,
   "id": "40329bce-4efe-4749-9c45-08b74dde55b1",
   "metadata": {},
   "outputs": [],
   "source": [
    "results_df_expt_2_Ada = results_df.copy()"
   ]
  },
  {
   "cell_type": "code",
   "execution_count": 44,
   "id": "3a308a7e-2ad8-477d-abf4-31d366a4b655",
   "metadata": {},
   "outputs": [
    {
     "name": "stdout",
     "output_type": "stream",
     "text": [
      "1  Ada\n",
      "1  DT\n",
      "1  RF\n",
      "2  Ada\n",
      "2  DT\n",
      "2  RF\n"
     ]
    }
   ],
   "source": [
    "for expt_num in ['1', '2']:\n",
    "  \n",
    "    \n",
    "    expt_info = [ '1. PD vs HC', '2. (PD , PD+RBD) vs HC', '3. (PD + PD&RBD) vs HC vs RBD', \n",
    "                 '4. PD vs PD+RBD vs RBD vs HC' ]\n",
    "    colors = {'Ada':'tab:blue', 'DT':'tab:orange', 'RF':'tab:green', 'SVC':'tab:red'}\n",
    "    \n",
    "    # for label , model in zip(['_Ada_acc', '_DT_acc' , '_RF_acc' , '_SVC_acc'], ['Ada' , 'DT' , 'RF', 'SVC']):\n",
    "    for label , model in zip(['_Ada_acc', '_DT_acc' , '_RF_acc'], ['Ada' , 'DT' , 'RF']):\n",
    "        print(expt_num + '  ' + model)"
   ]
  },
  {
   "cell_type": "code",
   "execution_count": 45,
   "id": "268c92d1-dbf7-4707-8928-94a3e8d9f451",
   "metadata": {},
   "outputs": [],
   "source": [
    "results_dfs = [results_df_expt_1_Ada,\n",
    "               results_df_expt_1_DT,\n",
    "               results_df_expt_1_RF,\n",
    "               results_df_expt_2_Ada,\n",
    "               results_df_expt_2_DT,\n",
    "               results_df_expt_2_RF]"
   ]
  },
  {
   "cell_type": "code",
   "execution_count": 17,
   "id": "6ac3dc13-2683-41ab-a577-ea590dc09205",
   "metadata": {},
   "outputs": [
    {
     "data": {
      "text/html": [
       "<div>\n",
       "<style scoped>\n",
       "    .dataframe tbody tr th:only-of-type {\n",
       "        vertical-align: middle;\n",
       "    }\n",
       "\n",
       "    .dataframe tbody tr th {\n",
       "        vertical-align: top;\n",
       "    }\n",
       "\n",
       "    .dataframe thead th {\n",
       "        text-align: right;\n",
       "    }\n",
       "</style>\n",
       "<table border=\"1\" class=\"dataframe\">\n",
       "  <thead>\n",
       "    <tr style=\"text-align: right;\">\n",
       "      <th></th>\n",
       "      <th>random_state</th>\n",
       "      <th>y_true</th>\n",
       "      <th>Prefrontal_RF_y_preds</th>\n",
       "      <th>y_train</th>\n",
       "      <th>Prefrontal_RF_best_clf_params</th>\n",
       "      <th>Prefrontal_RF_cv_results</th>\n",
       "      <th>Prefrontal_RF_y_train_preds</th>\n",
       "      <th>Frontal_RF_y_preds</th>\n",
       "      <th>Frontal_RF_best_clf_params</th>\n",
       "      <th>Frontal_RF_cv_results</th>\n",
       "      <th>Frontal_RF_y_train_preds</th>\n",
       "      <th>Left Frontal_RF_y_preds</th>\n",
       "      <th>Left Frontal_RF_best_clf_params</th>\n",
       "      <th>Left Frontal_RF_cv_results</th>\n",
       "      <th>Left Frontal_RF_y_train_preds</th>\n",
       "      <th>Right Frontal_RF_y_preds</th>\n",
       "      <th>Right Frontal_RF_best_clf_params</th>\n",
       "      <th>Right Frontal_RF_cv_results</th>\n",
       "      <th>Right Frontal_RF_y_train_preds</th>\n",
       "    </tr>\n",
       "  </thead>\n",
       "  <tbody>\n",
       "    <tr>\n",
       "      <th>0</th>\n",
       "      <td>1</td>\n",
       "      <td>[[0, 0, 0, 0, 0, 0, 1, 1], [0, 0, 0, 1, 1, 1, ...</td>\n",
       "      <td>[[1, 0, 1, 1, 0, 0, 1, 1], [0, 0, 0, 1, 1, 0, ...</td>\n",
       "      <td>[[0, 0, 0, 0, 0, 0, 0, 0, 0, 0, 0, 0, 0, 0, 0,...</td>\n",
       "      <td>[{'criterion': 'entropy', 'max_depth': None, '...</td>\n",
       "      <td>mean_fit_time  std_fit_time  mean_score_tim...</td>\n",
       "      <td>[[0, 0, 0, 0, 0, 0, 0, 0, 0, 0, 0, 0, 0, 0, 0,...</td>\n",
       "      <td>[[1, 0, 0, 1, 0, 0, 1, 1], [0, 0, 0, 1, 1, 0, ...</td>\n",
       "      <td>[{'criterion': 'entropy', 'max_depth': None, '...</td>\n",
       "      <td>mean_fit_time  std_fit_time  mean_score_tim...</td>\n",
       "      <td>[[0, 0, 0, 0, 0, 0, 0, 0, 0, 0, 0, 0, 0, 0, 0,...</td>\n",
       "      <td>[[1, 0, 1, 1, 0, 0, 1, 1], [0, 0, 0, 1, 1, 0, ...</td>\n",
       "      <td>[{'criterion': 'entropy', 'max_depth': None, '...</td>\n",
       "      <td>mean_fit_time  std_fit_time  mean_score_tim...</td>\n",
       "      <td>[[0, 0, 0, 0, 0, 0, 0, 0, 0, 0, 0, 0, 0, 0, 0,...</td>\n",
       "      <td>[[1, 0, 1, 1, 0, 0, 1, 1], [0, 0, 0, 1, 1, 0, ...</td>\n",
       "      <td>[{'criterion': 'entropy', 'max_depth': None, '...</td>\n",
       "      <td>mean_fit_time  std_fit_time  mean_score_tim...</td>\n",
       "      <td>[[0, 0, 0, 0, 0, 0, 0, 0, 0, 0, 0, 0, 0, 0, 0,...</td>\n",
       "    </tr>\n",
       "    <tr>\n",
       "      <th>1</th>\n",
       "      <td>2</td>\n",
       "      <td>[[0, 0, 0, 0, 0, 0, 0, 1], [0, 0, 0, 0, 1, 1, ...</td>\n",
       "      <td>[[0, 0, 0, 0, 0, 0, 0, 1], [0, 0, 0, 0, 1, 0, ...</td>\n",
       "      <td>[[0, 0, 0, 0, 0, 0, 0, 0, 0, 0, 0, 0, 0, 0, 0,...</td>\n",
       "      <td>[{'criterion': 'entropy', 'max_depth': None, '...</td>\n",
       "      <td>mean_fit_time  std_fit_time  mean_score_tim...</td>\n",
       "      <td>[[0, 0, 0, 0, 0, 0, 0, 0, 0, 0, 0, 0, 0, 0, 0,...</td>\n",
       "      <td>[[0, 0, 0, 0, 0, 0, 1, 1], [0, 0, 0, 0, 1, 0, ...</td>\n",
       "      <td>[{'criterion': 'entropy', 'max_depth': None, '...</td>\n",
       "      <td>mean_fit_time  std_fit_time  mean_score_tim...</td>\n",
       "      <td>[[0, 0, 0, 0, 0, 0, 0, 0, 0, 0, 0, 0, 0, 0, 0,...</td>\n",
       "      <td>[[0, 0, 0, 0, 0, 0, 0, 1], [0, 0, 0, 0, 1, 0, ...</td>\n",
       "      <td>[{'criterion': 'entropy', 'max_depth': None, '...</td>\n",
       "      <td>mean_fit_time  std_fit_time  mean_score_tim...</td>\n",
       "      <td>[[0, 0, 0, 0, 0, 0, 0, 0, 0, 0, 0, 0, 0, 0, 0,...</td>\n",
       "      <td>[[0, 0, 0, 0, 0, 0, 0, 1], [0, 0, 0, 0, 1, 0, ...</td>\n",
       "      <td>[{'criterion': 'entropy', 'max_depth': None, '...</td>\n",
       "      <td>mean_fit_time  std_fit_time  mean_score_tim...</td>\n",
       "      <td>[[0, 0, 0, 0, 0, 0, 0, 0, 0, 0, 0, 0, 0, 0, 0,...</td>\n",
       "    </tr>\n",
       "  </tbody>\n",
       "</table>\n",
       "</div>"
      ],
      "text/plain": [
       "   random_state                                             y_true  \\\n",
       "0             1  [[0, 0, 0, 0, 0, 0, 1, 1], [0, 0, 0, 1, 1, 1, ...   \n",
       "1             2  [[0, 0, 0, 0, 0, 0, 0, 1], [0, 0, 0, 0, 1, 1, ...   \n",
       "\n",
       "                               Prefrontal_RF_y_preds  \\\n",
       "0  [[1, 0, 1, 1, 0, 0, 1, 1], [0, 0, 0, 1, 1, 0, ...   \n",
       "1  [[0, 0, 0, 0, 0, 0, 0, 1], [0, 0, 0, 0, 1, 0, ...   \n",
       "\n",
       "                                             y_train  \\\n",
       "0  [[0, 0, 0, 0, 0, 0, 0, 0, 0, 0, 0, 0, 0, 0, 0,...   \n",
       "1  [[0, 0, 0, 0, 0, 0, 0, 0, 0, 0, 0, 0, 0, 0, 0,...   \n",
       "\n",
       "                       Prefrontal_RF_best_clf_params  \\\n",
       "0  [{'criterion': 'entropy', 'max_depth': None, '...   \n",
       "1  [{'criterion': 'entropy', 'max_depth': None, '...   \n",
       "\n",
       "                            Prefrontal_RF_cv_results  \\\n",
       "0     mean_fit_time  std_fit_time  mean_score_tim...   \n",
       "1     mean_fit_time  std_fit_time  mean_score_tim...   \n",
       "\n",
       "                         Prefrontal_RF_y_train_preds  \\\n",
       "0  [[0, 0, 0, 0, 0, 0, 0, 0, 0, 0, 0, 0, 0, 0, 0,...   \n",
       "1  [[0, 0, 0, 0, 0, 0, 0, 0, 0, 0, 0, 0, 0, 0, 0,...   \n",
       "\n",
       "                                  Frontal_RF_y_preds  \\\n",
       "0  [[1, 0, 0, 1, 0, 0, 1, 1], [0, 0, 0, 1, 1, 0, ...   \n",
       "1  [[0, 0, 0, 0, 0, 0, 1, 1], [0, 0, 0, 0, 1, 0, ...   \n",
       "\n",
       "                          Frontal_RF_best_clf_params  \\\n",
       "0  [{'criterion': 'entropy', 'max_depth': None, '...   \n",
       "1  [{'criterion': 'entropy', 'max_depth': None, '...   \n",
       "\n",
       "                               Frontal_RF_cv_results  \\\n",
       "0     mean_fit_time  std_fit_time  mean_score_tim...   \n",
       "1     mean_fit_time  std_fit_time  mean_score_tim...   \n",
       "\n",
       "                            Frontal_RF_y_train_preds  \\\n",
       "0  [[0, 0, 0, 0, 0, 0, 0, 0, 0, 0, 0, 0, 0, 0, 0,...   \n",
       "1  [[0, 0, 0, 0, 0, 0, 0, 0, 0, 0, 0, 0, 0, 0, 0,...   \n",
       "\n",
       "                             Left Frontal_RF_y_preds  \\\n",
       "0  [[1, 0, 1, 1, 0, 0, 1, 1], [0, 0, 0, 1, 1, 0, ...   \n",
       "1  [[0, 0, 0, 0, 0, 0, 0, 1], [0, 0, 0, 0, 1, 0, ...   \n",
       "\n",
       "                     Left Frontal_RF_best_clf_params  \\\n",
       "0  [{'criterion': 'entropy', 'max_depth': None, '...   \n",
       "1  [{'criterion': 'entropy', 'max_depth': None, '...   \n",
       "\n",
       "                          Left Frontal_RF_cv_results  \\\n",
       "0     mean_fit_time  std_fit_time  mean_score_tim...   \n",
       "1     mean_fit_time  std_fit_time  mean_score_tim...   \n",
       "\n",
       "                       Left Frontal_RF_y_train_preds  \\\n",
       "0  [[0, 0, 0, 0, 0, 0, 0, 0, 0, 0, 0, 0, 0, 0, 0,...   \n",
       "1  [[0, 0, 0, 0, 0, 0, 0, 0, 0, 0, 0, 0, 0, 0, 0,...   \n",
       "\n",
       "                            Right Frontal_RF_y_preds  \\\n",
       "0  [[1, 0, 1, 1, 0, 0, 1, 1], [0, 0, 0, 1, 1, 0, ...   \n",
       "1  [[0, 0, 0, 0, 0, 0, 0, 1], [0, 0, 0, 0, 1, 0, ...   \n",
       "\n",
       "                    Right Frontal_RF_best_clf_params  \\\n",
       "0  [{'criterion': 'entropy', 'max_depth': None, '...   \n",
       "1  [{'criterion': 'entropy', 'max_depth': None, '...   \n",
       "\n",
       "                         Right Frontal_RF_cv_results  \\\n",
       "0     mean_fit_time  std_fit_time  mean_score_tim...   \n",
       "1     mean_fit_time  std_fit_time  mean_score_tim...   \n",
       "\n",
       "                      Right Frontal_RF_y_train_preds  \n",
       "0  [[0, 0, 0, 0, 0, 0, 0, 0, 0, 0, 0, 0, 0, 0, 0,...  \n",
       "1  [[0, 0, 0, 0, 0, 0, 0, 0, 0, 0, 0, 0, 0, 0, 0,...  "
      ]
     },
     "execution_count": 17,
     "metadata": {},
     "output_type": "execute_result"
    }
   ],
   "source": [
    "results_df_expt_1_Ada\n",
    "results_df_expt_2_Ada\n",
    "results_df_expt_1_DT\n",
    "results_df_expt_2_DT\n",
    "results_df_expt_1_RF\n",
    "results_df_expt_2_RF"
   ]
  },
  {
   "cell_type": "code",
   "execution_count": 33,
   "id": "82bdd507-d068-4ffc-b295-a0acfd145ba1",
   "metadata": {},
   "outputs": [],
   "source": [
    "settings = [] \n",
    "\n",
    "for data_type in  ['N1']:\n",
    "    for expt_num in [1,2]:\n",
    "        for num_splits in [5]:\n",
    "            #Define Classifiers , they must be defined after num_splits but before clf_dicts\n",
    "            DT_dict = {'DT' : 1 }\n",
    "            RF_dict = {'RF' :1 }\n",
    "            Ada_dict = {'Ada' :1 }\n",
    "            Svc_dict = {'SVC' : 1 }\n",
    "            \n",
    "            for clf_dict in [DT_dict , RF_dict , Ada_dict , Svc_dict]:\n",
    "            # for clf_dict in [RF_dict]:\n",
    "                settings.append( (data_type, expt_num , num_splits , clf_dict))\n",
    "            \n",
    "\n"
   ]
  },
  {
   "cell_type": "code",
   "execution_count": 34,
   "id": "26983bc1-2f55-41ae-8665-7d26df84fae1",
   "metadata": {},
   "outputs": [
    {
     "data": {
      "text/plain": [
       "('N1', 1, 5, {'Ada': 1})"
      ]
     },
     "execution_count": 34,
     "metadata": {},
     "output_type": "execute_result"
    }
   ],
   "source": [
    "settings[2]"
   ]
  },
  {
   "cell_type": "code",
   "execution_count": 35,
   "id": "83fe030b-2027-4e51-b381-e9b20217220a",
   "metadata": {},
   "outputs": [
    {
     "data": {
      "text/plain": [
       "('N1', 2, 5, {'Ada': 1})"
      ]
     },
     "execution_count": 35,
     "metadata": {},
     "output_type": "execute_result"
    }
   ],
   "source": [
    "settings[6]"
   ]
  },
  {
   "cell_type": "markdown",
   "id": "1117ec89-b1f8-4bfd-acfc-9048024b0631",
   "metadata": {},
   "source": [
    "### Plot the Results "
   ]
  },
  {
   "cell_type": "code",
   "execution_count": 15,
   "id": "db50110d-1d05-45fc-933d-a57685d65772",
   "metadata": {},
   "outputs": [],
   "source": [
    "## Helper function to return accuracy dataframe for each file\n",
    "def return_acc_df(results_df):\n",
    "    '''\n",
    "    Input : Dataframe containing all raw results from hyperparameter tuning\n",
    "    Output: Dataframe with accuracy per region for that classifier\n",
    "    '''\n",
    "    results_df = results_df.drop(columns = [col for col in results_df.columns if 'params' in col] +  [col for col in results_df.columns if 'results' in col] )\n",
    "    res_df = run_expts.generate_subset_acc_std(results_df, return_df = True)\n",
    "    acc_df = res_df[[col for col in res_df.columns if 'acc' in col]]\n",
    "    mean_acc_df = pd.DataFrame( acc_df.mean(axis=0) ).T\n",
    "    \n",
    "    return mean_acc_df"
   ]
  },
  {
   "cell_type": "code",
   "execution_count": 54,
   "id": "a36efe52-8fcc-4796-85d0-46dc946d14d4",
   "metadata": {},
   "outputs": [
    {
     "data": {
      "text/plain": [
       "<Figure size 640x480 with 0 Axes>"
      ]
     },
     "metadata": {},
     "output_type": "display_data"
    },
    {
     "data": {
      "image/png": "[encoded data removed]",
      "text/plain": [
       "<Figure size 1200x500 with 2 Axes>"
      ]
     },
     "metadata": {},
     "output_type": "display_data"
    }
   ],
   "source": [
    "fig = plt.figure()\n",
    "fig = plt.figure(figsize=(12,5),dpi=100)\n",
    "i=0 #counter for figures\n",
    "j = 0 #counter for results dataframes \n",
    "\n",
    "for expt_num in ['1', '2']:\n",
    "    i+=1\n",
    "    ax = fig.add_subplot(1,2,i)\n",
    "   \n",
    "    \n",
    "    expt_info = [ '1. PD vs HC', '2. (PD , PD+RBD) vs HC', '3. (PD + PD&RBD) vs HC vs RBD', \n",
    "                 '4. PD vs PD+RBD vs RBD vs HC' ]\n",
    "    plt.title(expt_info[int(expt_num)-1])\n",
    "    \n",
    "    colors = {'Ada':'tab:blue', 'DT':'tab:orange', 'RF':'tab:green', 'SVC':'tab:red'}\n",
    "    \n",
    "    # for label , model in zip(['_Ada_acc', '_DT_acc' , '_RF_acc' , '_SVC_acc'], ['Ada' , 'DT' , 'RF', 'SVC']):\n",
    "    for label , model in zip(['_Ada_acc', '_DT_acc' , '_RF_acc'], ['Ada' , 'DT' , 'RF']):\n",
    "        file_name = model + '_N1_Minimal_beta_expt' + expt_num + '_5_fold_results_df.pkl'\n",
    "    \n",
    "        all_results_df = results_dfs[j]\n",
    "        j+=1\n",
    "        \n",
    "        test_results_raw_df = all_results_df[['random_state' , 'y_true'] + [ col for col in all_results_df.columns if 'y_preds' in col]].copy()\n",
    "        acc_df = return_acc_df(test_results_raw_df)\n",
    "    \n",
    "        train_results_raw_df = all_results_df[['random_state'] + [ col for col in all_results_df.columns if 'train' in col]].copy()\n",
    "        train_results_raw_df.rename(columns={'y_train': 'y_true'}, inplace=True)\n",
    "        train_results_raw_df.columns = train_results_raw_df.columns.str.replace('y_train_preds', 'y_preds')\n",
    "        acc_train_df = return_acc_df(train_results_raw_df)\n",
    "    \n",
    "        plt.scatter([ val[:-len(label)] for val in acc_df.columns.values] , acc_df.values.ravel() , c = colors[model], label = model + '_test')\n",
    "        if model =='RF':\n",
    "            alpha = 0.2\n",
    "        else:\n",
    "            alpha = 0.5\n",
    "        plt.scatter([ val[:-len(label)] for val in acc_train_df.columns.values] , acc_train_df.values.ravel() , c = colors[model], alpha = alpha, label = model + '_train')\n",
    "            \n",
    "        \n",
    "        plt.xticks(rotation = 90) # Rotates X-Axis Ticks by 45-degrees\n",
    "        plt.xlabel('Region')\n",
    "        plt.ylabel('Accuracy')\n",
    "        \n",
    "    #Only plot the legend for experiment 1\n",
    "    if expt_num == '1':\n",
    "        plt.legend(framealpha = 0.4)\n",
    "    \n",
    "    plt.tight_layout()"
   ]
  },
  {
   "cell_type": "code",
   "execution_count": null,
   "id": "d25021d0-27d7-4553-80b3-0f3146f61681",
   "metadata": {},
   "outputs": [],
   "source": []
  }
 ],
 "metadata": {
  "kernelspec": {
   "display_name": "Python 3 (ipykernel)",
   "language": "python",
   "name": "python3"
  },
  "language_info": {
   "codemirror_mode": {
    "name": "ipython",
    "version": 3
   },
   "file_extension": ".py",
   "mimetype": "text/x-python",
   "name": "python",
   "nbconvert_exporter": "python",
   "pygments_lexer": "ipython3",
   "version": "3.11.3"
  }
 },
 "nbformat": 4,
 "nbformat_minor": 5
}
