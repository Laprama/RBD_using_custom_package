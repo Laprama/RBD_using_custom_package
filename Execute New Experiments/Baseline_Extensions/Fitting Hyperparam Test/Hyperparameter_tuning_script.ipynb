{
 "cells": [
  {
   "cell_type": "code",
   "execution_count": 1,
   "id": "4e09fb33-f1ee-43ac-a8f3-5140b17d1a78",
   "metadata": {},
   "outputs": [
    {
     "name": "stderr",
     "output_type": "stream",
     "text": [
      "/user/home/ko20929/.conda/envs/sktime_latest/lib/python3.11/site-packages/antropy/fractal.py:197: NumbaDeprecationWarning: \u001b[1mThe 'nopython' keyword argument was not supplied to the 'numba.jit' decorator. The implicit default value for this argument is currently False, but it will be changed to True in Numba 0.59.0. See https://numba.readthedocs.io/en/stable/reference/deprecation.html#deprecation-of-object-mode-fall-back-behaviour-when-using-jit for details.\u001b[0m\n",
      "  @jit((types.Array(types.float64, 1, \"C\", readonly=True), types.int32))\n"
     ]
    }
   ],
   "source": [
    "import pandas as pd\n",
    "import mne as mne\n",
    "import os \n",
    "import time\n",
    "import numpy as np\n",
    "import matplotlib.pyplot as plt\n",
    "import joblib\n",
    "import constants\n",
    "from IPython.utils import io\n",
    "import time\n",
    "import sys\n",
    "import yasa\n",
    "from scipy.signal import welch\n",
    "\n",
    "from sklearn.model_selection import train_test_split\n",
    "from sklearn.pipeline import Pipeline\n",
    "from sklearn.model_selection import GroupShuffleSplit\n",
    "\n",
    "\n",
    "from sklearn.tree import DecisionTreeClassifier\n",
    "from sklearn.ensemble import RandomForestClassifier\n",
    "from sklearn.svm import SVC\n",
    "from sklearn.ensemble import AdaBoostClassifier\n",
    "from sklearn.model_selection import GridSearchCV\n",
    "from sklearn.model_selection import GroupKFold\n",
    "\n",
    "#Import my modules\n",
    "import format_eeg_data\n",
    "import constants\n",
    "import eeg_stat_ts\n",
    "import run_expts\n",
    "\n",
    "#TS Fresh Parameter Settings\n",
    "from tsfresh.feature_extraction import ComprehensiveFCParameters\n",
    "from tsfresh.feature_extraction import MinimalFCParameters\n",
    "from tsfresh.feature_extraction import EfficientFCParameters\n",
    "from tsfresh.feature_extraction import extract_features\n",
    "\n",
    "\n",
    "# Set display options to show all rows and columns\n",
    "pd.set_option('display.max_rows', 50)  # Show rows\n",
    "pd.set_option('display.max_columns', 160)  # Show columns"
   ]
  },
  {
   "cell_type": "markdown",
   "id": "aee71765-cbc5-4363-9423-cb2eb7e763de",
   "metadata": {},
   "source": [
    "#### Define Parameter Grids"
   ]
  },
  {
   "cell_type": "code",
   "execution_count": 2,
   "id": "ec253463-79f0-46c6-9e5e-6c1d65d3f9c9",
   "metadata": {},
   "outputs": [],
   "source": [
    "RF_param_grid = { \n",
    "    'n_estimators': [1,2,3, 10, 40, 100, 250],\n",
    "    'max_features': [None, 'sqrt'],\n",
    "    'max_depth' : [2,3,5,8, None],\n",
    "    'criterion' :['gini',  'entropy'],\n",
    "    'min_samples_split' : [2,3,4,5]}\n",
    "\n",
    "DT_params =  {\n",
    "    'min_samples_leaf': [1, 2, 3 , 5 ,10],\n",
    "    'max_depth': [1, 2, 3, 5, None],\n",
    "    'criterion': [\"gini\", \"entropy\"]\n",
    "}\n",
    "\n",
    "Ada_grid =  { \n",
    "    'n_estimators': [2, 3, 5, 10, 20, 40, 50, 100],\n",
    "    'learning_rate': [0.01,0.05,  0.1, 0.2, 0.4, 1.0 , 2.0, 10.0],\n",
    "    }\n",
    "\n",
    "# defining parameter range for grid search SVC \n",
    "SVC_grid = {'C': [0.1, 1, 10, 100, 1000], \n",
    "                'gamma': [1, 0.1, 0.01, 0.001, 0.0001],\n",
    "                'kernel': ['linear', 'rbf']} "
   ]
  },
  {
   "cell_type": "markdown",
   "id": "590c844a-cda6-4c3c-9f51-f5c58cc2efaa",
   "metadata": {},
   "source": [
    "### Define Script Parameters"
   ]
  },
  {
   "cell_type": "code",
   "execution_count": 5,
   "id": "8a3a16df-e685-49c6-bb53-39815deb5165",
   "metadata": {},
   "outputs": [],
   "source": [
    "# data_types = ['REM', 'N1', 'N2', 'N3', 'Wake'][int(sys.argv[1])] \n",
    "\n",
    "data_type = 'N1'\n",
    "TS_Fresh_setting, connectivity_setting = 'Minimal' , 'beta'\n",
    "\n",
    "settings = [] \n",
    "\n",
    "for expt_num in [1,2,3,4]:\n",
    "    for num_splits in [4,5,3]:\n",
    "        #Define Classifiers , they must be defined after num_splits but before clf_dicts\n",
    "        DT_dict = {'DT' : GridSearchCV( DecisionTreeClassifier(), DT_params , refit = True, verbose = 1, cv = GroupKFold(n_splits = num_splits) ) }\n",
    "        RF_dict = {'RF' : GridSearchCV( RandomForestClassifier(), RF_param_grid , refit = True, verbose = 1, cv = GroupKFold(n_splits = num_splits)  ) }\n",
    "        Ada_dict = {'Ada' : GridSearchCV( AdaBoostClassifier(), Ada_grid , refit = True, verbose = 1, cv = GroupKFold(n_splits = num_splits) ) }\n",
    "        Svc_dict = {'SVC' : GridSearchCV( SVC(), SVC_grid , refit = True, verbose = 1, cv = GroupKFold(n_splits = num_splits) ) }\n",
    "        \n",
    "        for clf_dict in [DT_dict , RF_dict , Ada_dict , Svc_dict]:\n",
    "            settings.append( (expt_num , num_splits , clf_dict))\n",
    "            \n",
    "\n",
    "expt_num , num_splits , clf_dict = settings[int(sys.argv[1])]\n",
    "\n",
    "#Enable script to run with setting from a single array to cover experiment numbers, classifiers and num_splits_list"
   ]
  },
  {
   "cell_type": "markdown",
   "id": "e8cc5220-2c6a-4c2e-a328-c97c351ba61c",
   "metadata": {},
   "source": [
    "### Load the features"
   ]
  },
  {
   "cell_type": "code",
   "execution_count": 3,
   "id": "150395b6-c2fc-4f79-bc44-246707aa5585",
   "metadata": {},
   "outputs": [
    {
     "ename": "NameError",
     "evalue": "name 'data_type' is not defined",
     "output_type": "error",
     "traceback": [
      "\u001b[0;31m---------------------------------------------------------------------------\u001b[0m",
      "\u001b[0;31mNameError\u001b[0m                                 Traceback (most recent call last)",
      "Cell \u001b[0;32mIn[3], line 9\u001b[0m\n\u001b[1;32m      5\u001b[0m loaded_data \u001b[38;5;241m=\u001b[39m {}\n\u001b[1;32m      7\u001b[0m X_y_groups \u001b[38;5;241m=\u001b[39m {}\n\u001b[0;32m----> 9\u001b[0m X_bpw \u001b[38;5;241m=\u001b[39m pd\u001b[38;5;241m.\u001b[39mread_hdf(load_path_bpw \u001b[38;5;241m+\u001b[39m \u001b[43mdata_type\u001b[49m \u001b[38;5;241m+\u001b[39m  \u001b[38;5;124m'\u001b[39m\u001b[38;5;124msix_second_freq_df.h5\u001b[39m\u001b[38;5;124m'\u001b[39m, key\u001b[38;5;241m=\u001b[39m\u001b[38;5;124m'\u001b[39m\u001b[38;5;124mdf\u001b[39m\u001b[38;5;124m'\u001b[39m, mode\u001b[38;5;241m=\u001b[39m\u001b[38;5;124m'\u001b[39m\u001b[38;5;124mr\u001b[39m\u001b[38;5;124m'\u001b[39m)\n\u001b[1;32m     10\u001b[0m y \u001b[38;5;241m=\u001b[39m pd\u001b[38;5;241m.\u001b[39mread_hdf(load_path \u001b[38;5;241m+\u001b[39m data_type \u001b[38;5;241m+\u001b[39m  \u001b[38;5;124m'\u001b[39m\u001b[38;5;124m_y.h5\u001b[39m\u001b[38;5;124m'\u001b[39m, key\u001b[38;5;241m=\u001b[39m\u001b[38;5;124m'\u001b[39m\u001b[38;5;124mdf\u001b[39m\u001b[38;5;124m'\u001b[39m, mode\u001b[38;5;241m=\u001b[39m\u001b[38;5;124m'\u001b[39m\u001b[38;5;124mr\u001b[39m\u001b[38;5;124m'\u001b[39m) \n\u001b[1;32m     11\u001b[0m groups \u001b[38;5;241m=\u001b[39m pd\u001b[38;5;241m.\u001b[39mread_hdf(load_path \u001b[38;5;241m+\u001b[39m data_type \u001b[38;5;241m+\u001b[39m  \u001b[38;5;124m'\u001b[39m\u001b[38;5;124m_groups.h5\u001b[39m\u001b[38;5;124m'\u001b[39m, key\u001b[38;5;241m=\u001b[39m\u001b[38;5;124m'\u001b[39m\u001b[38;5;124mdf\u001b[39m\u001b[38;5;124m'\u001b[39m, mode\u001b[38;5;241m=\u001b[39m\u001b[38;5;124m'\u001b[39m\u001b[38;5;124mr\u001b[39m\u001b[38;5;124m'\u001b[39m)\n",
      "\u001b[0;31mNameError\u001b[0m: name 'data_type' is not defined"
     ]
    }
   ],
   "source": [
    "load_path = '/user/home/ko20929/work/RBD_using_custom_package/Data/freq_6_second_files/'\n",
    "load_path_bpw = '/user/home/ko20929/work/RBD_using_custom_package/Data/freq_6_second_files/'\n",
    "load_path_max_freqs = '/user/home/ko20929/work/RBD_using_custom_package/Execute New Experiments/Baseline_Extensions/Gen_New_Features/generated_feats/'\n",
    "\n",
    "loaded_data = {}\n",
    "\n",
    "X_y_groups = {}\n",
    "    \n",
    "X_bpw = pd.read_hdf(load_path_bpw + data_type +  'six_second_freq_df.h5', key='df', mode='r')\n",
    "y = pd.read_hdf(load_path + data_type +  '_y.h5', key='df', mode='r') \n",
    "groups = pd.read_hdf(load_path + data_type +  '_groups.h5', key='df', mode='r')\n",
    "X_bpw, y , groups = X_bpw.reset_index(drop = True) , y.reset_index(drop = True) , groups.reset_index(drop = True)\n",
    "\n",
    "X_max_freqs = pd.read_hdf(load_path_max_freqs + data_type +  'six_second_max_freq_stats_df.h5', key='df', mode='r')\n",
    "X_max_freqs = X_max_freqs.reset_index(drop = True)\n",
    "\n",
    "X = pd.concat([X_bpw , X_max_freqs], axis = 1)\n",
    "\n",
    "#Transform the X into TS_Fresh Features___\n",
    "# 1. Convert to TS_Fresh format Dataframe \n",
    "ts_fresh_df = format_eeg_data.convert_sktime_df_to_ts_fresh_format(X, ts_cols = list(X.columns))\n",
    "\n",
    "# 2. Extract TS_Fresh Features from the dataframe\n",
    "if TS_Fresh_setting == 'Minimal':\n",
    "    settings = MinimalFCParameters()\n",
    "\n",
    "extracted_ts_fresh_df = extract_features(ts_fresh_df, column_id = 'id' , column_sort = 'time',  default_fc_parameters=settings)\n",
    "\n",
    "# 3. Asign extract_ts_fresh_df to the variable X\n",
    "X = extracted_ts_fresh_df.copy()\n",
    "print(len(X.columns))\n",
    "#Drop columns where all values are NA \n",
    "X = X.dropna(axis = 1)\n",
    "print(len(X.columns))\n",
    "\n",
    "#Drop columns where all values are the same\n",
    "# Find columns where all values are the same\n",
    "same_value_columns = X.columns[X.nunique() == 1]\n",
    "# Drop columns with the same values\n",
    "X = X.drop(columns=same_value_columns)\n",
    "print(len(X.columns))\n",
    "\n",
    "#___________load the appropriate connectivity features don't concatenate to non connectivity features until after dictionary generation\n",
    "\n",
    "connectivity_folder = '/user/home/ko20929/work/RBD_using_custom_package/Blue_pebble/Connectivity/'\n",
    "X_connectivity = pd.read_hdf(connectivity_folder + data_type+ '_pli__df.h5')\n",
    "\n",
    "X_connectivity = X_connectivity[[col for col in X_connectivity.columns if connectivity_setting in col]]\n",
    "\n",
    "#Generate a region to features dictionary - this will enable us to run expts regionally as before\n",
    "regional_features_dict = {}\n",
    "region_channel_dict = constants.region_to_channel_dict\n",
    "regions = list(region_channel_dict.keys())\n",
    "for region in regions:\n",
    "    region_features = [col for col in X.columns if region + '_' in col]\n",
    "    if len(region_features) > 0 : \n",
    "        regional_features_dict[region] = region_features + list(X_connectivity.columns)\n",
    "\n",
    "#Now concatenate the regional frequency features dataframe with the connectivity dataframe\n",
    "X = X.reset_index(drop=True)\n",
    "X_connectivity = X_connectivity.reset_index(drop=True)\n",
    "X = pd.concat([X , X_connectivity], axis = 1)\n",
    "\n",
    "#Now you have X , Y , groups and regional_features_dict to use in experiments"
   ]
  },
  {
   "cell_type": "markdown",
   "id": "bb4671c7-e583-423c-a236-f92a5d256bfd",
   "metadata": {},
   "source": [
    "### Model Fitting and Save Results"
   ]
  },
  {
   "cell_type": "code",
   "execution_count": null,
   "id": "f7933a29-4c3e-47d3-8238-0520d0ca25a1",
   "metadata": {},
   "outputs": [],
   "source": [
    "# Run the experiment with hyperparameter tuning\n",
    "X_expt , y_expt , groups_expt, expt_info = run_expts.generate_expt_x_y_groups(X,y,groups, expt_num)\n",
    "results_df = run_expts.run_mv_tsc(X_expt,y_expt,groups_expt,clf_dict, return_df = True , subset_names_and_cols = regional_features_dict, random_states = [1,2], groups_for_fit = True, best_params = True)\n",
    "\n",
    "#Save the results dataframe \n",
    "folder = 'hyperparameter_tuning_results/'\n",
    "model = list(clf_dict.keys())[0]\n",
    "save_name = model + '_' + data_type + '_' + TS_Fresh_setting + '_' + connectivity_setting + '_' + 'expt' + str(expt_num) + '_' +  str(num_splits) + '_fold_results_df.pkl'\n",
    "joblib.dump(results_df , folder + save_name)"
   ]
  }
 ],
 "metadata": {
  "kernelspec": {
   "display_name": "Python 3 (ipykernel)",
   "language": "python",
   "name": "python3"
  },
  "language_info": {
   "codemirror_mode": {
    "name": "ipython",
    "version": 3
   },
   "file_extension": ".py",
   "mimetype": "text/x-python",
   "name": "python",
   "nbconvert_exporter": "python",
   "pygments_lexer": "ipython3",
   "version": "3.11.3"
  }
 },
 "nbformat": 4,
 "nbformat_minor": 5
}
