{
 "cells": [
  {
   "cell_type": "code",
   "execution_count": 1,
   "id": "8c454815-3baa-4a7c-b7a1-501c8070ea3d",
   "metadata": {},
   "outputs": [
    {
     "name": "stderr",
     "output_type": "stream",
     "text": [
      "/user/home/ko20929/.conda/envs/sktime_latest/lib/python3.11/site-packages/antropy/fractal.py:197: NumbaDeprecationWarning: \u001b[1mThe 'nopython' keyword argument was not supplied to the 'numba.jit' decorator. The implicit default value for this argument is currently False, but it will be changed to True in Numba 0.59.0. See https://numba.readthedocs.io/en/stable/reference/deprecation.html#deprecation-of-object-mode-fall-back-behaviour-when-using-jit for details.\u001b[0m\n",
      "  @jit((types.Array(types.float64, 1, \"C\", readonly=True), types.int32))\n"
     ]
    }
   ],
   "source": [
    "import pandas as pd\n",
    "import mne as mne\n",
    "import os \n",
    "import time\n",
    "import numpy as np\n",
    "import matplotlib.pyplot as plt\n",
    "import joblib\n",
    "import constants\n",
    "from IPython.utils import io\n",
    "import time\n",
    "import sys\n",
    "import yasa\n",
    "from scipy.signal import welch\n",
    "\n",
    "from sklearn.model_selection import train_test_split\n",
    "from sklearn.pipeline import Pipeline\n",
    "from sklearn.model_selection import GroupShuffleSplit\n",
    "\n",
    "\n",
    "from sklearn.tree import DecisionTreeClassifier\n",
    "from sklearn.ensemble import RandomForestClassifier\n",
    "from sklearn.svm import SVC\n",
    "from sklearn.ensemble import AdaBoostClassifier\n",
    "from sklearn.model_selection import GridSearchCV\n",
    "from sklearn.model_selection import GroupKFold\n",
    "\n",
    "#Import my modules\n",
    "import format_eeg_data\n",
    "import constants\n",
    "import eeg_stat_ts\n",
    "import run_expts\n",
    "\n",
    "#TS Fresh Parameter Settings\n",
    "from tsfresh.feature_extraction import ComprehensiveFCParameters\n",
    "from tsfresh.feature_extraction import MinimalFCParameters\n",
    "from tsfresh.feature_extraction import EfficientFCParameters\n",
    "from tsfresh.feature_extraction import extract_features\n",
    "\n",
    "\n",
    "# Set display options to show all rows and columns\n",
    "pd.set_option('display.max_rows', 50)  # Show rows\n",
    "pd.set_option('display.max_columns', 160)  # Show columns"
   ]
  },
  {
   "cell_type": "markdown",
   "id": "49789815-9d6d-4868-bec2-76af8f196a39",
   "metadata": {},
   "source": [
    "#### Define the parameter grids"
   ]
  },
  {
   "cell_type": "code",
   "execution_count": 33,
   "id": "7b2bd19d-bf45-4e75-a3e3-4c730b072c32",
   "metadata": {},
   "outputs": [
    {
     "data": {
      "text/plain": [
       "700"
      ]
     },
     "execution_count": 33,
     "metadata": {},
     "output_type": "execute_result"
    }
   ],
   "source": [
    "7*2*5*2*5"
   ]
  },
  {
   "cell_type": "code",
   "execution_count": 34,
   "id": "90986d9a-f96a-4e73-a08c-c6693d38925e",
   "metadata": {},
   "outputs": [
    {
     "data": {
      "text/plain": [
       "233.33333333333334"
      ]
     },
     "execution_count": 34,
     "metadata": {},
     "output_type": "execute_result"
    }
   ],
   "source": [
    "(700*20) / 60"
   ]
  },
  {
   "cell_type": "code",
   "execution_count": 4,
   "id": "88a42ef9-a148-49f9-bec4-2c1b0f73841a",
   "metadata": {},
   "outputs": [],
   "source": [
    "# Quicker version of param grid - 160 fits \n",
    "RF_param_grid = { \n",
    "    'n_estimators': [1,2,3, 10, 40, 100, 250],\n",
    "    'max_features': [None, 'sqrt'],\n",
    "    'max_depth' : [2,3,5,8, None],\n",
    "    'criterion' :['gini',  'entropy'],\n",
    "    'min_samples_split' : [2,3,4,5]}\n",
    "\n",
    "DT_params =  {\n",
    "    'min_samples_leaf': [1, 2, 3 , 5 ,10],\n",
    "    'max_depth': [1, 2, 3, 5, None],\n",
    "    'criterion': [\"gini\", \"entropy\"]\n",
    "}\n",
    "\n",
    "Ada_grid =  { \n",
    "    'n_estimators': [2, 3, 5, 10, 20, 40, 50, 100],\n",
    "    'learning_rate': [0.01,0.05,  0.1, 0.2, 0.4, 1.0 , 2.0, 10.0],\n",
    "    }\n",
    "\n",
    "# defining parameter range for grid search SVC \n",
    "SVC_grid = {'C': [0.1, 1, 10, 100, 1000], \n",
    "                'gamma': [1, 0.1, 0.01, 0.001, 0.0001],\n",
    "                'kernel': ['linear', 'rbf']} "
   ]
  },
  {
   "cell_type": "markdown",
   "id": "b54db3f7-399c-4e0a-97f4-622aa8bf842e",
   "metadata": {},
   "source": [
    "### Define the classifiers"
   ]
  },
  {
   "cell_type": "code",
   "execution_count": null,
   "id": "73bbf0f5-fb1b-4235-8c09-97a32497e94b",
   "metadata": {},
   "outputs": [],
   "source": [
    "expt_num_list = [1,2,3,4]\n",
    "num_splits_list = [4,5]\n",
    "clf_dicts_list = [DT_dict , RF_dict , Ada_dict , Svc_dict]"
   ]
  },
  {
   "cell_type": "code",
   "execution_count": 25,
   "id": "71088611-ef20-4eff-8d92-17bdf7a001cb",
   "metadata": {},
   "outputs": [],
   "source": [
    "num_splits = 4\n",
    "\n",
    "DT_dict = {'DT' : GridSearchCV( DecisionTreeClassifier(), DT_params , refit = True, verbose = 1, cv = GroupKFold(n_splits = num_splits) ) }\n",
    "RF_dict = {'RF' : GridSearchCV( RandomForestClassifier(), RF_param_grid , refit = True, verbose = 1, cv = GroupKFold(n_splits = num_splits)  ) }\n",
    "Ada_dict = {'Ada' : GridSearchCV( AdaBoostClassifier(), Ada_grid , refit = True, verbose = 1, cv = GroupKFold(n_splits = num_splits) ) }\n",
    "Svc_dict = {'SVC' : GridSearchCV( SVC(), SVC_grid , refit = True, verbose = 1, cv = GroupKFold(n_splits = num_splits) ) }\n",
    "\n",
    "clf_dicts = [DT_dict , RF_dict , Ada_dict , Svc_dict]\n",
    "\n",
    "clf_dict = clf_dicts[0]\n",
    "\n",
    "model = [key for key in clf_dict.keys()][0]"
   ]
  },
  {
   "cell_type": "markdown",
   "id": "d3425d5c-fc06-4468-99f8-e638a8d4bcbe",
   "metadata": {},
   "source": [
    " ### Load the Features , Beta Pli AND Minimal Max BPW + BPW Time Series"
   ]
  },
  {
   "cell_type": "code",
   "execution_count": 8,
   "id": "5b901680-68d4-4f59-99ec-32bf8d16aa99",
   "metadata": {},
   "outputs": [
    {
     "name": "stderr",
     "output_type": "stream",
     "text": [
      "05-Oct-23 14:23:12 | WARNING | Dependency not available for matrix_profile, this feature will be disabled!\n",
      "Feature Extraction: 100%|██████████| 120/120 [00:02<00:00, 47.18it/s]\n"
     ]
    },
    {
     "name": "stdout",
     "output_type": "stream",
     "text": [
      "1950\n",
      "1950\n",
      "1948\n"
     ]
    }
   ],
   "source": [
    "data_type , TS_Fresh_setting, connectivity_setting = 'N1' , 'Minimal' , 'beta'\n",
    "\n",
    "load_path = '/user/home/ko20929/work/RBD_using_custom_package/Data/freq_6_second_files/'\n",
    "load_path_bpw = '/user/home/ko20929/work/RBD_using_custom_package/Data/freq_6_second_files/'\n",
    "load_path_max_freqs = '/user/home/ko20929/work/RBD_using_custom_package/Execute New Experiments/Baseline_Extensions/Gen_New_Features/generated_feats/'\n",
    "\n",
    "loaded_data = {}\n",
    "\n",
    "X_y_groups = {}\n",
    "    \n",
    "X_bpw = pd.read_hdf(load_path_bpw + data_type +  'six_second_freq_df.h5', key='df', mode='r')\n",
    "y = pd.read_hdf(load_path + data_type +  '_y.h5', key='df', mode='r') \n",
    "groups = pd.read_hdf(load_path + data_type +  '_groups.h5', key='df', mode='r')\n",
    "X_bpw, y , groups = X_bpw.reset_index(drop = True) , y.reset_index(drop = True) , groups.reset_index(drop = True)\n",
    "\n",
    "X_max_freqs = pd.read_hdf(load_path_max_freqs + data_type +  'six_second_max_freq_stats_df.h5', key='df', mode='r')\n",
    "X_max_freqs = X_max_freqs.reset_index(drop = True)\n",
    "\n",
    "X = pd.concat([X_bpw , X_max_freqs], axis = 1)\n",
    "\n",
    "#Transform the X into TS_Fresh Features___\n",
    "# 1. Convert to TS_Fresh format Dataframe \n",
    "ts_fresh_df = format_eeg_data.convert_sktime_df_to_ts_fresh_format(X, ts_cols = list(X.columns))\n",
    "\n",
    "# 2. Extract TS_Fresh Features from the dataframe\n",
    "if TS_Fresh_setting == 'Minimal':\n",
    "    settings = MinimalFCParameters()\n",
    "\n",
    "extracted_ts_fresh_df = extract_features(ts_fresh_df, column_id = 'id' , column_sort = 'time',  default_fc_parameters=settings)\n",
    "\n",
    "# 3. Asign extract_ts_fresh_df to the variable X\n",
    "X = extracted_ts_fresh_df.copy()\n",
    "print(len(X.columns))\n",
    "#Drop columns where all values are NA \n",
    "X = X.dropna(axis = 1)\n",
    "print(len(X.columns))\n",
    "\n",
    "#Drop columns where all values are the same\n",
    "# Find columns where all values are the same\n",
    "same_value_columns = X.columns[X.nunique() == 1]\n",
    "# Drop columns with the same values\n",
    "X = X.drop(columns=same_value_columns)\n",
    "print(len(X.columns))\n",
    "\n",
    "#___________load the appropriate connectivity features don't concatenate to non connectivity features until after dictionary generation\n",
    "\n",
    "connectivity_folder = '/user/home/ko20929/work/RBD_using_custom_package/Blue_pebble/Connectivity/'\n",
    "X_connectivity = pd.read_hdf(connectivity_folder + data_type+ '_pli__df.h5')\n",
    "\n",
    "X_connectivity = X_connectivity[[col for col in X_connectivity.columns if connectivity_setting in col]]\n",
    "\n",
    "#Generate a region to features dictionary - this will enable us to run expts regionally as before\n",
    "regional_features_dict = {}\n",
    "region_channel_dict = constants.region_to_channel_dict\n",
    "regions = list(region_channel_dict.keys())\n",
    "for region in regions:\n",
    "    region_features = [col for col in X.columns if region + '_' in col]\n",
    "    if len(region_features) > 0 : \n",
    "        regional_features_dict[region] = region_features + list(X_connectivity.columns)\n",
    "\n",
    "#Now concatenate the regional frequency features dataframe with the connectivity dataframe\n",
    "X = X.reset_index(drop=True)\n",
    "X_connectivity = X_connectivity.reset_index(drop=True)\n",
    "X = pd.concat([X , X_connectivity], axis = 1)\n",
    "\n",
    "#Now you have X , Y , groups and regional_features_dict to use in experiments"
   ]
  },
  {
   "cell_type": "markdown",
   "id": "7168959e-984c-4363-89d4-92d0cc909c3a",
   "metadata": {},
   "source": [
    "### Test fitting & validation score "
   ]
  },
  {
   "cell_type": "code",
   "execution_count": 38,
   "id": "8ce94c5d-0c2c-49b7-8fb7-fa94ffc0a92f",
   "metadata": {},
   "outputs": [],
   "source": [
    "RF_param_grid = { \n",
    "    'n_estimators': [40,100],\n",
    "    'max_features': ['sqrt'],\n",
    "    'max_depth' : [None]\n",
    "}"
   ]
  },
  {
   "cell_type": "code",
   "execution_count": 41,
   "id": "1c583e40-3288-4849-8e65-00eca3ea71c7",
   "metadata": {},
   "outputs": [],
   "source": [
    "# full grid 700 ..... 2 in small grid \n",
    "# So the full grid is about 300*slower than the small grid \n",
    "# 300 * 99 seconds (t2-t1) \n",
    "# 300*100 = 30,000 seconds .... 8.3 hours # Lets put them each on for a day"
   ]
  },
  {
   "cell_type": "code",
   "execution_count": 39,
   "id": "c4460fa7-9051-461e-843e-3cab16cfe327",
   "metadata": {},
   "outputs": [
    {
     "data": {
      "text/plain": [
       "99.12596201896667"
      ]
     },
     "execution_count": 39,
     "metadata": {},
     "output_type": "execute_result"
    }
   ],
   "source": [
    "t1 = time.time()\n",
    "expt_num = 1\n",
    "\n",
    "DT_test_grid =  {'min_samples_leaf': [1, 2], 'max_depth': [4], 'criterion': [\"entropy\"]}\n",
    "clf = GridSearchCV( DecisionTreeClassifier(), DT_test_grid , refit = True, verbose = 0, cv = GroupKFold(n_splits = 3) )\n",
    "\n",
    "\n",
    "clf = GridSearchCV( RandomForestClassifier(), RF_param_grid , refit = True, verbose = 0, cv = GroupKFold(n_splits = 4) )\n",
    "\n",
    "clf_dict = {'RF' : clf }\n",
    "\n",
    "\n",
    "X_expt , y_expt , groups_expt, expt_info = run_expts.generate_expt_x_y_groups(X,y,groups, expt_num)\n",
    "results_df = run_expts.run_mv_tsc(X_expt,y_expt,groups_expt,clf_dict, return_df = True , subset_names_and_cols = regional_features_dict, random_states = [1,2], groups_for_fit = True, best_params = True)\n",
    "\n",
    "t2 = time.time()\n",
    "\n",
    "t2-t1"
   ]
  },
  {
   "cell_type": "code",
   "execution_count": 42,
   "id": "251d2df5-e88b-4dc3-b1f7-c34b3f81464e",
   "metadata": {},
   "outputs": [
    {
     "data": {
      "text/plain": [
       "['hyperparameter_tuning_results/TEST_DT_N1_Minimal_beta_expt1_4_fold_results_df.pkl']"
      ]
     },
     "execution_count": 42,
     "metadata": {},
     "output_type": "execute_result"
    }
   ],
   "source": [
    "folder = 'hyperparameter_tuning_results/'\n",
    "save_name = model + '_' + data_type + '_' + TS_Fresh_setting + '_' + connectivity_setting + '_' + 'expt' + str(expt_num) + '_' +  str(num_splits) + '_fold_results_df.pkl'\n",
    "joblib.dump(results_df , folder + save_name)"
   ]
  },
  {
   "cell_type": "code",
   "execution_count": null,
   "id": "785bb754-5044-4fba-b029-57d9a18c8bab",
   "metadata": {},
   "outputs": [],
   "source": []
  }
 ],
 "metadata": {
  "kernelspec": {
   "display_name": "Python 3 (ipykernel)",
   "language": "python",
   "name": "python3"
  },
  "language_info": {
   "codemirror_mode": {
    "name": "ipython",
    "version": 3
   },
   "file_extension": ".py",
   "mimetype": "text/x-python",
   "name": "python",
   "nbconvert_exporter": "python",
   "pygments_lexer": "ipython3",
   "version": "3.11.3"
  }
 },
 "nbformat": 4,
 "nbformat_minor": 5
}
