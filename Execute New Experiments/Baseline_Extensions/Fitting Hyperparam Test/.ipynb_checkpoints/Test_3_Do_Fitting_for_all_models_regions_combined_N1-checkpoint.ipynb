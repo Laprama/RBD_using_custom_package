{
 "cells": [
  {
   "cell_type": "code",
   "execution_count": 2,
   "id": "8c454815-3baa-4a7c-b7a1-501c8070ea3d",
   "metadata": {},
   "outputs": [
    {
     "name": "stderr",
     "output_type": "stream",
     "text": [
      "/user/home/ko20929/.conda/envs/sktime_latest/lib/python3.11/site-packages/antropy/fractal.py:197: NumbaDeprecationWarning: \u001b[1mThe 'nopython' keyword argument was not supplied to the 'numba.jit' decorator. The implicit default value for this argument is currently False, but it will be changed to True in Numba 0.59.0. See https://numba.readthedocs.io/en/stable/reference/deprecation.html#deprecation-of-object-mode-fall-back-behaviour-when-using-jit for details.\u001b[0m\n",
      "  @jit((types.Array(types.float64, 1, \"C\", readonly=True), types.int32))\n"
     ]
    }
   ],
   "source": [
    "import pandas as pd\n",
    "import mne as mne\n",
    "import os \n",
    "import time\n",
    "import numpy as np\n",
    "import matplotlib.pyplot as plt\n",
    "import joblib\n",
    "import constants\n",
    "from IPython.utils import io\n",
    "import time\n",
    "import sys\n",
    "import yasa\n",
    "from scipy.signal import welch\n",
    "\n",
    "from sklearn.model_selection import train_test_split\n",
    "from sklearn.pipeline import Pipeline\n",
    "from sklearn.model_selection import GroupShuffleSplit\n",
    "\n",
    "\n",
    "from sklearn.tree import DecisionTreeClassifier\n",
    "from sklearn.ensemble import RandomForestClassifier\n",
    "from sklearn.svm import SVC\n",
    "from sklearn.ensemble import AdaBoostClassifier\n",
    "from sklearn.model_selection import GridSearchCV\n",
    "from sklearn.model_selection import GroupKFold\n",
    "\n",
    "#Import my modules\n",
    "import format_eeg_data\n",
    "import constants\n",
    "import eeg_stat_ts\n",
    "import run_expts\n",
    "\n",
    "#TS Fresh Parameter Settings\n",
    "from tsfresh.feature_extraction import ComprehensiveFCParameters\n",
    "from tsfresh.feature_extraction import MinimalFCParameters\n",
    "from tsfresh.feature_extraction import EfficientFCParameters\n",
    "from tsfresh.feature_extraction import extract_features\n",
    "\n",
    "\n",
    "# Set display options to show all rows and columns\n",
    "pd.set_option('display.max_rows', 50)  # Show rows\n",
    "pd.set_option('display.max_columns', 160)  # Show columns"
   ]
  },
  {
   "cell_type": "markdown",
   "id": "49789815-9d6d-4868-bec2-76af8f196a39",
   "metadata": {},
   "source": [
    "#### Define the parameter grids"
   ]
  },
  {
   "cell_type": "code",
   "execution_count": 9,
   "id": "de4af396-cdd8-4c4a-b6b2-30ffecacda01",
   "metadata": {},
   "outputs": [],
   "source": [
    "#Do an SVC grid without normalisation and then afterwards add in normalisation"
   ]
  },
  {
   "cell_type": "code",
   "execution_count": 3,
   "id": "88a42ef9-a148-49f9-bec4-2c1b0f73841a",
   "metadata": {},
   "outputs": [],
   "source": [
    "# Quicker version of param grid - 160 fits \n",
    "RF_param_grid = { \n",
    "    'n_estimators': [1,2,3, 10, 40, 100, 250],\n",
    "    'max_features': [None, 'sqrt'],\n",
    "    'max_depth' : [2,3,5,8, None],\n",
    "    'criterion' :['gini',  'entropy'],\n",
    "    'min_samples_split' : [2,3,4,5]}\n",
    "\n",
    "# Slower Parameter grid for Random Forest - 600 fits\n",
    "param_grid = { \n",
    "    'n_estimators': [10, 30, 100, 200, 500],\n",
    "    'max_features': [None, 'sqrt', 'log2'],\n",
    "    'max_depth' : [3,5,8, None],\n",
    "    'criterion' :['gini', 'entropy'] }\n",
    "\n",
    "DT_params =  {\n",
    "    'min_samples_leaf': [1, 2, 3 , 5 ,10],\n",
    "    'max_depth': [1, 2, 3, 5, None],\n",
    "    'criterion': [\"gini\", \"entropy\"]\n",
    "}\n",
    "\n",
    "Ada_grid =  { \n",
    "    'n_estimators': [2, 3, 5, 10, 20, 40, 50, 100],\n",
    "    'learning_rate': [0.01, 0.1, 0.4, 1.0 , 2.0, 10.0],\n",
    "    }\n",
    "\n",
    "SVC_grid = {}"
   ]
  },
  {
   "cell_type": "code",
   "execution_count": null,
   "id": "aff16f09-c8d4-4ed1-8134-4609704d5229",
   "metadata": {},
   "outputs": [],
   "source": [
    "GridSearchCV( RandomForestClassifier(), simple_param_grid , refit = True, verbose = 1, cv = GroupKFold(n_splits = 4) )"
   ]
  },
  {
   "cell_type": "markdown",
   "id": "d3425d5c-fc06-4468-99f8-e638a8d4bcbe",
   "metadata": {},
   "source": [
    " ### Load the Features , Beta Pli AND Minimal Max BPW + BPW Time Series"
   ]
  },
  {
   "cell_type": "code",
   "execution_count": 8,
   "id": "5b901680-68d4-4f59-99ec-32bf8d16aa99",
   "metadata": {},
   "outputs": [
    {
     "name": "stderr",
     "output_type": "stream",
     "text": [
      "04-Oct-23 17:47:23 | WARNING | Dependency not available for matrix_profile, this feature will be disabled!\n",
      "Feature Extraction: 100%|██████████| 120/120 [00:02<00:00, 52.18it/s]\n"
     ]
    },
    {
     "name": "stdout",
     "output_type": "stream",
     "text": [
      "1950\n",
      "1950\n",
      "1948\n"
     ]
    }
   ],
   "source": [
    "data_type , TS_Fresh_setting, connectivity_setting = 'N1' , 'Minimal' , 'beta'\n",
    "\n",
    "load_path = '/user/home/ko20929/work/RBD_using_custom_package/Data/freq_6_second_files/'\n",
    "load_path_bpw = '/user/home/ko20929/work/RBD_using_custom_package/Data/freq_6_second_files/'\n",
    "load_path_max_freqs = '/user/home/ko20929/work/RBD_using_custom_package/Execute New Experiments/Baseline_Extensions/Gen_New_Features/generated_feats/'\n",
    "\n",
    "loaded_data = {}\n",
    "\n",
    "X_y_groups = {}\n",
    "    \n",
    "X_bpw = pd.read_hdf(load_path_bpw + data_type +  'six_second_freq_df.h5', key='df', mode='r')\n",
    "y = pd.read_hdf(load_path + data_type +  '_y.h5', key='df', mode='r') \n",
    "groups = pd.read_hdf(load_path + data_type +  '_groups.h5', key='df', mode='r')\n",
    "X_bpw, y , groups = X_bpw.reset_index(drop = True) , y.reset_index(drop = True) , groups.reset_index(drop = True)\n",
    "\n",
    "X_max_freqs = pd.read_hdf(load_path_max_freqs + data_type +  'six_second_max_freq_stats_df.h5', key='df', mode='r')\n",
    "X_max_freqs = X_max_freqs.reset_index(drop = True)\n",
    "\n",
    "X = pd.concat([X_bpw , X_max_freqs], axis = 1)\n",
    "\n",
    "#Transform the X into TS_Fresh Features___\n",
    "# 1. Convert to TS_Fresh format Dataframe \n",
    "ts_fresh_df = format_eeg_data.convert_sktime_df_to_ts_fresh_format(X, ts_cols = list(X.columns))\n",
    "\n",
    "# 2. Extract TS_Fresh Features from the dataframe\n",
    "if TS_Fresh_setting == 'Minimal':\n",
    "    settings = MinimalFCParameters()\n",
    "\n",
    "extracted_ts_fresh_df = extract_features(ts_fresh_df, column_id = 'id' , column_sort = 'time',  default_fc_parameters=settings)\n",
    "\n",
    "# 3. Asign extract_ts_fresh_df to the variable X\n",
    "X = extracted_ts_fresh_df.copy()\n",
    "print(len(X.columns))\n",
    "#Drop columns where all values are NA \n",
    "X = X.dropna(axis = 1)\n",
    "print(len(X.columns))\n",
    "\n",
    "#Drop columns where all values are the same\n",
    "# Find columns where all values are the same\n",
    "same_value_columns = X.columns[X.nunique() == 1]\n",
    "# Drop columns with the same values\n",
    "X = X.drop(columns=same_value_columns)\n",
    "print(len(X.columns))\n",
    "\n",
    "#___________load the appropriate connectivity features don't concatenate to non connectivity features until after dictionary generation\n",
    "\n",
    "connectivity_folder = '/user/home/ko20929/work/RBD_using_custom_package/Blue_pebble/Connectivity/'\n",
    "X_connectivity = pd.read_hdf(connectivity_folder + data_type+ '_pli__df.h5')\n",
    "\n",
    "X_connectivity = X_connectivity[[col for col in X_connectivity.columns if connectivity_setting in col]]\n",
    "\n",
    "#Generate a region to features dictionary - this will enable us to run expts regionally as before\n",
    "regional_features_dict = {}\n",
    "region_channel_dict = constants.region_to_channel_dict\n",
    "regions = list(region_channel_dict.keys())\n",
    "for region in regions:\n",
    "    region_features = [col for col in X.columns if region + '_' in col]\n",
    "    if len(region_features) > 0 : \n",
    "        regional_features_dict[region] = region_features + list(X_connectivity.columns)\n",
    "\n",
    "#Now concatenate the regional frequency features dataframe with the connectivity dataframe\n",
    "X = X.reset_index(drop=True)\n",
    "X_connectivity = X_connectivity.reset_index(drop=True)\n",
    "X = pd.concat([X , X_connectivity], axis = 1)\n",
    "\n",
    "#Now you have X , Y , groups and regional_features_dict to use in experiments"
   ]
  },
  {
   "cell_type": "markdown",
   "id": "62357dbe-fe76-4b16-84d9-604adeaf19f7",
   "metadata": {},
   "source": [
    "### Dictionaries"
   ]
  },
  {
   "cell_type": "markdown",
   "id": "7168959e-984c-4363-89d4-92d0cc909c3a",
   "metadata": {},
   "source": [
    "### Test fitting & validation score "
   ]
  },
  {
   "cell_type": "code",
   "execution_count": 5,
   "id": "0b9781fa-9f45-4361-9df0-d8f3aede1d23",
   "metadata": {},
   "outputs": [
    {
     "ename": "NameError",
     "evalue": "name 'X_train' is not defined",
     "output_type": "error",
     "traceback": [
      "\u001b[0;31m---------------------------------------------------------------------------\u001b[0m",
      "\u001b[0;31mNameError\u001b[0m                                 Traceback (most recent call last)",
      "Cell \u001b[0;32mIn[5], line 1\u001b[0m\n\u001b[0;32m----> 1\u001b[0m \u001b[43mX_train\u001b[49m[[col \u001b[38;5;28;01mfor\u001b[39;00m col \u001b[38;5;129;01min\u001b[39;00m X_train\u001b[38;5;241m.\u001b[39mcolumns \u001b[38;5;28;01mif\u001b[39;00m \u001b[38;5;124m'\u001b[39m\u001b[38;5;124mPrefrontal\u001b[39m\u001b[38;5;124m'\u001b[39m \u001b[38;5;129;01min\u001b[39;00m col ] ]\u001b[38;5;241m.\u001b[39mhead()\n",
      "\u001b[0;31mNameError\u001b[0m: name 'X_train' is not defined"
     ]
    }
   ],
   "source": [
    "X_train[[col for col in X_train.columns if 'Prefrontal' in col ] ].head()"
   ]
  },
  {
   "cell_type": "code",
   "execution_count": 14,
   "id": "0ca9b3a2-c5e2-4e23-8e17-439002f22725",
   "metadata": {},
   "outputs": [
    {
     "name": "stdout",
     "output_type": "stream",
     "text": [
      "Fitting 4 folds for each of 120 candidates, totalling 480 fits\n"
     ]
    },
    {
     "data": {
      "text/plain": [
       "13.614602327346802"
      ]
     },
     "execution_count": 14,
     "metadata": {},
     "output_type": "execute_result"
    }
   ],
   "source": [
    "t1 = time.time()\n",
    "\n",
    "X_expt , y_expt , groups_expt, expt_info = run_expts.generate_expt_x_y_groups(X,y,groups, 1 )\n",
    "\n",
    "X_train, X_test, y_train, y_test = train_test_split(X_expt, y_expt, test_size=0.2, random_state=5)\n",
    "\n",
    "# clf = GridSearchCV( RandomForestClassifier(), quick_param_grid , refit = True, verbose = 1, cv = GroupKFold(n_splits = 4) )\n",
    "# clf_2 = GridSearchCV( DecisionTreeClassifier(), DT_params , refit = True, verbose = 1, cv = GroupKFold(n_splits = 4) )\n",
    "\n",
    "clf_3 = GridSearchCV( RandomForestClassifier(), simple_param_grid , refit = True, verbose = 1, cv = GroupKFold(n_splits = 4) )\n",
    "\n",
    "\n",
    "clf_3.fit(X_train[[col for col in X_train.columns if 'Prefrontal' in col ] ], y_train, groups = groups.loc[X_train.index])\n",
    "\n",
    "t2 = time.time()\n",
    "\n",
    "t2-t1"
   ]
  },
  {
   "cell_type": "code",
   "execution_count": 23,
   "id": "5589a2e6-fde0-40a8-8419-8182088f0a7b",
   "metadata": {},
   "outputs": [
    {
     "data": {
      "text/plain": [
       "<matplotlib.collections.PathCollection at 0x7fd6659a5450>"
      ]
     },
     "execution_count": 23,
     "metadata": {},
     "output_type": "execute_result"
    },
    {
     "data": {
      "image/png": "[encoded data removed]",
      "text/plain": [
       "<Figure size 640x480 with 1 Axes>"
      ]
     },
     "metadata": {},
     "output_type": "display_data"
    }
   ],
   "source": [
    "plt.scatter(results_df.param_n_estimators, results_df.mean_test_score)"
   ]
  },
  {
   "cell_type": "code",
   "execution_count": 22,
   "id": "e43ac474-5e4c-4687-9f22-8322546a1826",
   "metadata": {},
   "outputs": [],
   "source": [
    "results_df = pd.DataFrame( clf_3.cv_results_ ).sort_values(by = 'mean_test_score', ascending = False)"
   ]
  },
  {
   "cell_type": "code",
   "execution_count": 16,
   "id": "2c2f972e-1bf1-44f5-a240-568ece2129f8",
   "metadata": {},
   "outputs": [
    {
     "data": {
      "text/plain": [
       "(0.4, 0.8)"
      ]
     },
     "execution_count": 16,
     "metadata": {},
     "output_type": "execute_result"
    },
    {
     "data": {
      "image/png": "[encoded data removed]",
      "text/plain": [
       "<Figure size 640x480 with 1 Axes>"
      ]
     },
     "metadata": {},
     "output_type": "display_data"
    }
   ],
   "source": [
    "plt.scatter([(-0.1 + i*0.005) for i in range(120)], clf_3.cv_results_['mean_test_score'], alpha = 0.5)\n",
    "plt.xlim(-1,1)\n",
    "plt.ylim(0.4,0.8)"
   ]
  },
  {
   "cell_type": "code",
   "execution_count": 12,
   "id": "2e33f0a0-9050-40c2-ae02-4cc7528c8c05",
   "metadata": {},
   "outputs": [
    {
     "data": {
      "text/plain": [
       "(0.4, 0.8)"
      ]
     },
     "execution_count": 12,
     "metadata": {},
     "output_type": "execute_result"
    },
    {
     "data": {
      "image/png": "[encoded data removed]",
      "text/plain": [
       "<Figure size 640x480 with 1 Axes>"
      ]
     },
     "metadata": {},
     "output_type": "display_data"
    }
   ],
   "source": [
    "plt.scatter([(-0.1 + i*0.005) for i in range(50)], clf_2.cv_results_['mean_test_score'], alpha = 0.5)\n",
    "plt.xlim(-1,1)\n",
    "plt.ylim(0.4,0.8)"
   ]
  },
  {
   "cell_type": "code",
   "execution_count": 8,
   "id": "1359b434-4453-4c9e-b8c0-ec3ffb144bc3",
   "metadata": {},
   "outputs": [
    {
     "data": {
      "text/plain": [
       "(0.4, 0.8)"
      ]
     },
     "execution_count": 8,
     "metadata": {},
     "output_type": "execute_result"
    },
    {
     "data": {
      "image/png": "[encoded data removed]",
      "text/plain": [
       "<Figure size 640x480 with 1 Axes>"
      ]
     },
     "metadata": {},
     "output_type": "display_data"
    }
   ],
   "source": [
    "plt.scatter([(-0.1 + i*0.005) for i in range(60)], clf.cv_results_['mean_test_score'], alpha = 0.5)\n",
    "plt.xlim(-1,1)\n",
    "plt.ylim(0.4,0.8)"
   ]
  },
  {
   "cell_type": "markdown",
   "id": "db9c5857-9c2e-43cf-b73a-9bb34d54a257",
   "metadata": {},
   "source": [
    "### Expt 1"
   ]
  },
  {
   "cell_type": "code",
   "execution_count": 19,
   "id": "3574acbc-7eab-47a3-a06c-0526960eb449",
   "metadata": {},
   "outputs": [
    {
     "name": "stdout",
     "output_type": "stream",
     "text": [
      "Fitting 4 folds for each of 60 candidates, totalling 240 fits\n",
      "Fitting 4 folds for each of 60 candidates, totalling 240 fits\n",
      "Fitting 4 folds for each of 60 candidates, totalling 240 fits\n",
      "Fitting 4 folds for each of 60 candidates, totalling 240 fits\n",
      "Fitting 4 folds for each of 60 candidates, totalling 240 fits\n",
      "Fitting 4 folds for each of 60 candidates, totalling 240 fits\n",
      "Fitting 4 folds for each of 60 candidates, totalling 240 fits\n",
      "Fitting 4 folds for each of 60 candidates, totalling 240 fits\n",
      "Fitting 4 folds for each of 60 candidates, totalling 240 fits\n",
      "Fitting 4 folds for each of 60 candidates, totalling 240 fits\n"
     ]
    },
    {
     "data": {
      "text/html": [
       "<div>\n",
       "<style scoped>\n",
       "    .dataframe tbody tr th:only-of-type {\n",
       "        vertical-align: middle;\n",
       "    }\n",
       "\n",
       "    .dataframe tbody tr th {\n",
       "        vertical-align: top;\n",
       "    }\n",
       "\n",
       "    .dataframe thead th {\n",
       "        text-align: right;\n",
       "    }\n",
       "</style>\n",
       "<table border=\"1\" class=\"dataframe\">\n",
       "  <thead>\n",
       "    <tr style=\"text-align: right;\">\n",
       "      <th></th>\n",
       "      <th>random_state</th>\n",
       "      <th>Frontal_RF_acc</th>\n",
       "      <th>Frontal_RF_std</th>\n",
       "    </tr>\n",
       "  </thead>\n",
       "  <tbody>\n",
       "    <tr>\n",
       "      <th>0</th>\n",
       "      <td>1</td>\n",
       "      <td>0.75</td>\n",
       "      <td>0.158114</td>\n",
       "    </tr>\n",
       "    <tr>\n",
       "      <th>1</th>\n",
       "      <td>2</td>\n",
       "      <td>0.60</td>\n",
       "      <td>0.145774</td>\n",
       "    </tr>\n",
       "  </tbody>\n",
       "</table>\n",
       "</div>"
      ],
      "text/plain": [
       "   random_state  Frontal_RF_acc  Frontal_RF_std\n",
       "0             1            0.75        0.158114\n",
       "1             2            0.60        0.145774"
      ]
     },
     "metadata": {},
     "output_type": "display_data"
    },
    {
     "data": {
      "text/plain": [
       "175.22818183898926"
      ]
     },
     "execution_count": 19,
     "metadata": {},
     "output_type": "execute_result"
    }
   ],
   "source": [
    "t1 = time.time()\n",
    "\n",
    "X_expt , y_expt , groups_expt, expt_info = run_expts.generate_expt_x_y_groups(X,y,groups, 1 )\n",
    "\n",
    "results_df = run_expts.run_mv_tsc(X_expt,y_expt,groups_expt, {'RF' :  GridSearchCV( RandomForestClassifier(), quick_param_grid , refit = True, verbose = 1, cv = GroupKFold(n_splits = 4) )}, return_df = True , subset_names_and_cols = Prefrontal_only_dict, random_states = [1,2], groups_for_fit = True, best_params = True)\n",
    "\n",
    "# results_df = run_expts.run_mv_tsc(X_expt,y_expt,groups_expt, {'RF' :   RandomForestClassifier(random_state = 5)}, return_df = True , subset_names_and_cols = Prefrontal_only_dict, random_states = [1,2])\n",
    "\n",
    "\n",
    "res_df = run_expts.generate_subset_acc_std(results_df.drop(columns = [col for col in results_df.columns if 'params' in col]), return_df = True)\n",
    "display(pd.DataFrame(res_df))\n",
    "        \n",
    "t2 = time.time()\n",
    "\n",
    "t2-t1"
   ]
  },
  {
   "cell_type": "code",
   "execution_count": 18,
   "id": "f874a3ed-4281-4f06-857a-62781ca58454",
   "metadata": {},
   "outputs": [
    {
     "data": {
      "text/html": [
       "<div>\n",
       "<style scoped>\n",
       "    .dataframe tbody tr th:only-of-type {\n",
       "        vertical-align: middle;\n",
       "    }\n",
       "\n",
       "    .dataframe tbody tr th {\n",
       "        vertical-align: top;\n",
       "    }\n",
       "\n",
       "    .dataframe thead th {\n",
       "        text-align: right;\n",
       "    }\n",
       "</style>\n",
       "<table border=\"1\" class=\"dataframe\">\n",
       "  <thead>\n",
       "    <tr style=\"text-align: right;\">\n",
       "      <th></th>\n",
       "      <th>random_state</th>\n",
       "      <th>Frontal_RF_acc</th>\n",
       "      <th>Frontal_RF_std</th>\n",
       "    </tr>\n",
       "  </thead>\n",
       "  <tbody>\n",
       "    <tr>\n",
       "      <th>0</th>\n",
       "      <td>1</td>\n",
       "      <td>0.750</td>\n",
       "      <td>0.079057</td>\n",
       "    </tr>\n",
       "    <tr>\n",
       "      <th>1</th>\n",
       "      <td>2</td>\n",
       "      <td>0.675</td>\n",
       "      <td>0.127475</td>\n",
       "    </tr>\n",
       "  </tbody>\n",
       "</table>\n",
       "</div>"
      ],
      "text/plain": [
       "   random_state  Frontal_RF_acc  Frontal_RF_std\n",
       "0             1           0.750        0.079057\n",
       "1             2           0.675        0.127475"
      ]
     },
     "metadata": {},
     "output_type": "display_data"
    },
    {
     "data": {
      "text/plain": [
       "1.1430048942565918"
      ]
     },
     "execution_count": 18,
     "metadata": {},
     "output_type": "execute_result"
    }
   ],
   "source": [
    "t1 = time.time()\n",
    "\n",
    "X_expt , y_expt , groups_expt, expt_info = run_expts.generate_expt_x_y_groups(X,y,groups, 1 )\n",
    "\n",
    "# results_df = run_expts.run_mv_tsc(X_expt,y_expt,groups_expt, {'RF' :  GridSearchCV( RandomForestClassifier(), long_param_grid , refit = True, verbose = 1, cv = GroupKFold(n_splits = 4) )}, return_df = True , subset_names_and_cols = Prefrontal_only_dict, random_states = [1,2], groups_for_fit = True, best_params = True)\n",
    "\n",
    "results_df = run_expts.run_mv_tsc(X_expt,y_expt,groups_expt, {'RF' :   RandomForestClassifier(random_state = 5)}, return_df = True , subset_names_and_cols = Prefrontal_only_dict, random_states = [1,2])\n",
    "\n",
    "\n",
    "res_df = run_expts.generate_subset_acc_std(results_df.drop(columns = [col for col in results_df.columns if 'params' in col]), return_df = True)\n",
    "display(pd.DataFrame(res_df))\n",
    "        \n",
    "t2 = time.time()\n",
    "\n",
    "t2-t1"
   ]
  },
  {
   "cell_type": "markdown",
   "id": "81f937c1-584b-42a6-8710-042747c6aac7",
   "metadata": {},
   "source": [
    "#### Expt 2"
   ]
  },
  {
   "cell_type": "code",
   "execution_count": 21,
   "id": "d39438ec-4a90-44f5-9b5b-5681eea16328",
   "metadata": {},
   "outputs": [],
   "source": [
    "X_expt , y_expt , groups_expt, expt_info = run_expts.generate_expt_x_y_groups(X,y,groups, 2 )"
   ]
  },
  {
   "cell_type": "code",
   "execution_count": 29,
   "id": "5494cb2a-fce0-4f83-8e37-e767b89839d6",
   "metadata": {},
   "outputs": [
    {
     "name": "stdout",
     "output_type": "stream",
     "text": [
      "{'criterion': 'gini', 'max_depth': 2, 'max_features': None, 'n_estimators': 2}\n",
      "{'criterion': 'gini', 'max_depth': 2, 'max_features': 'sqrt', 'n_estimators': 2}\n",
      "{'criterion': 'gini', 'max_depth': 3, 'max_features': None, 'n_estimators': 100}\n",
      "{'criterion': 'gini', 'max_depth': None, 'max_features': 'sqrt', 'n_estimators': 10}\n",
      "{'criterion': 'gini', 'max_depth': 2, 'max_features': None, 'n_estimators': 40}\n",
      "{'criterion': 'gini', 'max_depth': None, 'max_features': 'sqrt', 'n_estimators': 2}\n",
      "{'criterion': 'gini', 'max_depth': 3, 'max_features': None, 'n_estimators': 10}\n",
      "{'criterion': 'gini', 'max_depth': None, 'max_features': None, 'n_estimators': 40}\n",
      "{'criterion': 'gini', 'max_depth': None, 'max_features': None, 'n_estimators': 2}\n",
      "{'criterion': 'gini', 'max_depth': 2, 'max_features': None, 'n_estimators': 100}\n"
     ]
    }
   ],
   "source": [
    "for params in results_df.iloc[0,3] + results_df.iloc[1,3]:\n",
    "    print(params)"
   ]
  },
  {
   "cell_type": "code",
   "execution_count": 25,
   "id": "e6001fad-5306-4f3a-afc7-fbf2a71d8407",
   "metadata": {},
   "outputs": [
    {
     "name": "stdout",
     "output_type": "stream",
     "text": [
      "Fitting 4 folds for each of 120 candidates, totalling 480 fits\n",
      "Fitting 4 folds for each of 120 candidates, totalling 480 fits\n",
      "Fitting 4 folds for each of 120 candidates, totalling 480 fits\n",
      "Fitting 4 folds for each of 120 candidates, totalling 480 fits\n",
      "Fitting 4 folds for each of 120 candidates, totalling 480 fits\n",
      "Fitting 4 folds for each of 120 candidates, totalling 480 fits\n",
      "Fitting 4 folds for each of 120 candidates, totalling 480 fits\n",
      "Fitting 4 folds for each of 120 candidates, totalling 480 fits\n",
      "Fitting 4 folds for each of 120 candidates, totalling 480 fits\n",
      "Fitting 4 folds for each of 120 candidates, totalling 480 fits\n"
     ]
    },
    {
     "data": {
      "text/html": [
       "<div>\n",
       "<style scoped>\n",
       "    .dataframe tbody tr th:only-of-type {\n",
       "        vertical-align: middle;\n",
       "    }\n",
       "\n",
       "    .dataframe tbody tr th {\n",
       "        vertical-align: top;\n",
       "    }\n",
       "\n",
       "    .dataframe thead th {\n",
       "        text-align: right;\n",
       "    }\n",
       "</style>\n",
       "<table border=\"1\" class=\"dataframe\">\n",
       "  <thead>\n",
       "    <tr style=\"text-align: right;\">\n",
       "      <th></th>\n",
       "      <th>random_state</th>\n",
       "      <th>Parietal_RF_acc</th>\n",
       "      <th>Parietal_RF_std</th>\n",
       "    </tr>\n",
       "  </thead>\n",
       "  <tbody>\n",
       "    <tr>\n",
       "      <th>0</th>\n",
       "      <td>1</td>\n",
       "      <td>0.573333</td>\n",
       "      <td>0.097017</td>\n",
       "    </tr>\n",
       "    <tr>\n",
       "      <th>1</th>\n",
       "      <td>2</td>\n",
       "      <td>0.573333</td>\n",
       "      <td>0.197590</td>\n",
       "    </tr>\n",
       "  </tbody>\n",
       "</table>\n",
       "</div>"
      ],
      "text/plain": [
       "   random_state  Parietal_RF_acc  Parietal_RF_std\n",
       "0             1         0.573333         0.097017\n",
       "1             2         0.573333         0.197590"
      ]
     },
     "metadata": {},
     "output_type": "display_data"
    },
    {
     "data": {
      "text/plain": [
       "927.1286325454712"
      ]
     },
     "execution_count": 25,
     "metadata": {},
     "output_type": "execute_result"
    }
   ],
   "source": [
    "t1 = time.time()\n",
    "\n",
    "X_expt , y_expt , groups_expt, expt_info = run_expts.generate_expt_x_y_groups(X,y,groups, 2 )\n",
    "\n",
    "results_df = run_expts.run_mv_tsc(X_expt,y_expt,groups_expt, {'RF' :  GridSearchCV( RandomForestClassifier(), param_grid , refit = True, verbose = 1, cv = GroupKFold(n_splits = 4) )}, return_df = True , subset_names_and_cols = Prefrontal_only_dict, random_states = [1,2], groups_for_fit = True, best_params = True)\n",
    "\n",
    "res_df = run_expts.generate_subset_acc_std(results_df.drop(columns = [col for col in results_df.columns if 'params' in col]), return_df = True)\n",
    "display(pd.DataFrame(res_df))\n",
    "        \n",
    "t2 = time.time()\n",
    "\n",
    "t2-t1"
   ]
  },
  {
   "cell_type": "code",
   "execution_count": 51,
   "id": "b586d6aa-abbe-4730-b396-041a6139e46f",
   "metadata": {},
   "outputs": [
    {
     "name": "stdout",
     "output_type": "stream",
     "text": [
      "{'criterion': 'gini', 'max_depth': 2, 'max_features': None, 'n_estimators': 40}\n",
      "{'criterion': 'gini', 'max_depth': 2, 'max_features': 'sqrt', 'n_estimators': 10}\n",
      "{'criterion': 'gini', 'max_depth': 2, 'max_features': None, 'n_estimators': 10}\n",
      "{'criterion': 'gini', 'max_depth': 2, 'max_features': None, 'n_estimators': 1}\n",
      "{'criterion': 'gini', 'max_depth': None, 'max_features': None, 'n_estimators': 10}\n",
      "{'criterion': 'gini', 'max_depth': 3, 'max_features': None, 'n_estimators': 1}\n",
      "{'criterion': 'gini', 'max_depth': 5, 'max_features': 'sqrt', 'n_estimators': 1}\n",
      "{'criterion': 'gini', 'max_depth': 2, 'max_features': 'sqrt', 'n_estimators': 2}\n",
      "{'criterion': 'gini', 'max_depth': 3, 'max_features': None, 'n_estimators': 10}\n",
      "{'criterion': 'gini', 'max_depth': None, 'max_features': 'sqrt', 'n_estimators': 1}\n"
     ]
    }
   ],
   "source": [
    "for params in results_df.iloc[0,3] + results_df.iloc[1,3]:\n",
    "    print(params)"
   ]
  },
  {
   "cell_type": "markdown",
   "id": "d4c7e558-2445-4ef1-bc7e-1c4c8971fac5",
   "metadata": {},
   "source": [
    "### Decision Tree Expt 2 "
   ]
  },
  {
   "cell_type": "code",
   "execution_count": 44,
   "id": "d69e087a-cc1c-4ee0-abc8-72ce7760d9c4",
   "metadata": {},
   "outputs": [
    {
     "data": {
      "text/html": [
       "<div>\n",
       "<style scoped>\n",
       "    .dataframe tbody tr th:only-of-type {\n",
       "        vertical-align: middle;\n",
       "    }\n",
       "\n",
       "    .dataframe tbody tr th {\n",
       "        vertical-align: top;\n",
       "    }\n",
       "\n",
       "    .dataframe thead th {\n",
       "        text-align: right;\n",
       "    }\n",
       "</style>\n",
       "<table border=\"1\" class=\"dataframe\">\n",
       "  <thead>\n",
       "    <tr style=\"text-align: right;\">\n",
       "      <th></th>\n",
       "      <th>random_state</th>\n",
       "      <th>Prefrontal_Left Temporal_DT_acc</th>\n",
       "      <th>Prefrontal_Left Temporal_DT_std</th>\n",
       "    </tr>\n",
       "  </thead>\n",
       "  <tbody>\n",
       "    <tr>\n",
       "      <th>0</th>\n",
       "      <td>1</td>\n",
       "      <td>0.946429</td>\n",
       "      <td>0.065854</td>\n",
       "    </tr>\n",
       "    <tr>\n",
       "      <th>1</th>\n",
       "      <td>2</td>\n",
       "      <td>0.925000</td>\n",
       "      <td>0.100000</td>\n",
       "    </tr>\n",
       "  </tbody>\n",
       "</table>\n",
       "</div>"
      ],
      "text/plain": [
       "   random_state  Prefrontal_Left Temporal_DT_acc  \\\n",
       "0             1                         0.946429   \n",
       "1             2                         0.925000   \n",
       "\n",
       "   Prefrontal_Left Temporal_DT_std  \n",
       "0                         0.065854  \n",
       "1                         0.100000  "
      ]
     },
     "metadata": {},
     "output_type": "display_data"
    },
    {
     "name": "stdout",
     "output_type": "stream",
     "text": [
      "0.9357142857142857\n"
     ]
    },
    {
     "data": {
      "text/plain": [
       "0.09488415718078613"
      ]
     },
     "execution_count": 44,
     "metadata": {},
     "output_type": "execute_result"
    }
   ],
   "source": [
    "t1 = time.time()\n",
    "\n",
    "X_expt , y_expt , groups_expt, expt_info = run_expts.generate_expt_x_y_groups(X,y,groups, 2 )\n",
    "\n",
    "results_df = run_expts.run_mv_tsc(X_expt,y_expt,groups_expt, {'DT' : DecisionTreeClassifier(random_state = 99) }, return_df = True , subset_names_and_cols = prefrontal_left_temp_dict, random_states = [1,2])\n",
    "\n",
    "res_df = run_expts.generate_subset_acc_std(results_df.drop(columns = [col for col in results_df.columns if 'params' in col]), return_df = True)\n",
    "display(pd.DataFrame(res_df))\n",
    "\n",
    "print(res_df.mean()['Prefrontal_Left Temporal_DT_acc']) \n",
    "\n",
    "t2 = time.time()\n",
    "\n",
    "t2-t1"
   ]
  },
  {
   "cell_type": "markdown",
   "id": "47fa5715-d54e-4466-bf4b-2579cd8f120a",
   "metadata": {},
   "source": [
    "#### Fitted Decision Tree , AdaBoost Expt 2 "
   ]
  },
  {
   "cell_type": "code",
   "execution_count": 30,
   "id": "a9a126f0-f0a0-4f2c-8a17-10b148c88cf2",
   "metadata": {},
   "outputs": [
    {
     "name": "stdout",
     "output_type": "stream",
     "text": [
      "Fitting 4 folds for each of 48 candidates, totalling 192 fits\n",
      "Fitting 4 folds for each of 48 candidates, totalling 192 fits\n",
      "Fitting 4 folds for each of 48 candidates, totalling 192 fits\n",
      "Fitting 4 folds for each of 48 candidates, totalling 192 fits\n",
      "Fitting 4 folds for each of 48 candidates, totalling 192 fits\n",
      "Fitting 4 folds for each of 48 candidates, totalling 192 fits\n",
      "Fitting 4 folds for each of 48 candidates, totalling 192 fits\n",
      "Fitting 4 folds for each of 48 candidates, totalling 192 fits\n",
      "Fitting 4 folds for each of 48 candidates, totalling 192 fits\n",
      "Fitting 4 folds for each of 48 candidates, totalling 192 fits\n"
     ]
    },
    {
     "data": {
      "text/html": [
       "<div>\n",
       "<style scoped>\n",
       "    .dataframe tbody tr th:only-of-type {\n",
       "        vertical-align: middle;\n",
       "    }\n",
       "\n",
       "    .dataframe tbody tr th {\n",
       "        vertical-align: top;\n",
       "    }\n",
       "\n",
       "    .dataframe thead th {\n",
       "        text-align: right;\n",
       "    }\n",
       "</style>\n",
       "<table border=\"1\" class=\"dataframe\">\n",
       "  <thead>\n",
       "    <tr style=\"text-align: right;\">\n",
       "      <th></th>\n",
       "      <th>random_state</th>\n",
       "      <th>Prefrontal_Left Temporal_Ada_acc</th>\n",
       "      <th>Prefrontal_Left Temporal_Ada_std</th>\n",
       "    </tr>\n",
       "  </thead>\n",
       "  <tbody>\n",
       "    <tr>\n",
       "      <th>0</th>\n",
       "      <td>1</td>\n",
       "      <td>0.682143</td>\n",
       "      <td>0.132865</td>\n",
       "    </tr>\n",
       "    <tr>\n",
       "      <th>1</th>\n",
       "      <td>2</td>\n",
       "      <td>0.792857</td>\n",
       "      <td>0.094895</td>\n",
       "    </tr>\n",
       "  </tbody>\n",
       "</table>\n",
       "</div>"
      ],
      "text/plain": [
       "   random_state  Prefrontal_Left Temporal_Ada_acc  \\\n",
       "0             1                          0.682143   \n",
       "1             2                          0.792857   \n",
       "\n",
       "   Prefrontal_Left Temporal_Ada_std  \n",
       "0                          0.132865  \n",
       "1                          0.094895  "
      ]
     },
     "metadata": {},
     "output_type": "display_data"
    },
    {
     "name": "stdout",
     "output_type": "stream",
     "text": [
      "0.7375\n"
     ]
    },
    {
     "data": {
      "text/plain": [
       "74.26678895950317"
      ]
     },
     "execution_count": 30,
     "metadata": {},
     "output_type": "execute_result"
    }
   ],
   "source": [
    "t1 = time.time()\n",
    "\n",
    "X_expt , y_expt , groups_expt, expt_info = run_expts.generate_expt_x_y_groups(X,y,groups, 2 )\n",
    "\n",
    "# results_df = run_expts.run_mv_tsc(X_expt,y_expt,groups_expt, {'DT' : GridSearchCV( DecisionTreeClassifier(), DT_params , refit = True, verbose = 1, cv = GroupKFold(n_splits = 4) ) }, return_df = True , subset_names_and_cols = prefrontal_left_temp_dict, random_states = [1,2], groups_for_fit = True, best_params = True)\n",
    "\n",
    "# results_df = run_expts.run_mv_tsc(X_expt,y_expt,groups_expt, {'Ada' : AdaBoostClassifier() }, return_df = True , subset_names_and_cols = prefrontal_left_temp_dict, random_states = [1,2])\n",
    "\n",
    "results_df = run_expts.run_mv_tsc(X_expt,y_expt,groups_expt, {'Ada' :  GridSearchCV( AdaBoostClassifier(), Ada_grid , refit = True, verbose = 1, cv = GroupKFold(n_splits = 4) )}, return_df = True , subset_names_and_cols = prefrontal_left_temp_dict, random_states = [1,2], groups_for_fit = True, best_params = True)\n",
    "\n",
    "Ada_grid\n",
    "\n",
    "res_df = run_expts.generate_subset_acc_std(results_df.drop(columns = [col for col in results_df.columns if 'params' in col]), return_df = True)\n",
    "display(pd.DataFrame(res_df))\n",
    "\n",
    "print(res_df.mean()['Prefrontal_Left Temporal_Ada_acc']) \n",
    "\n",
    "t2 = time.time()\n",
    "\n",
    "t2-t1"
   ]
  },
  {
   "cell_type": "code",
   "execution_count": 21,
   "id": "adca1d30-c387-4d02-b71b-9761db5ae17a",
   "metadata": {},
   "outputs": [
    {
     "data": {
      "text/plain": [
       "[{'criterion': 'entropy', 'max_depth': 3, 'min_samples_leaf': 3},\n",
       " {'criterion': 'gini', 'max_depth': 1, 'min_samples_leaf': 10},\n",
       " {'criterion': 'gini', 'max_depth': 5, 'min_samples_leaf': 3},\n",
       " {'criterion': 'gini', 'max_depth': 2, 'min_samples_leaf': 2},\n",
       " {'criterion': 'entropy', 'max_depth': 3, 'min_samples_leaf': 1},\n",
       " {'criterion': 'gini', 'max_depth': 5, 'min_samples_leaf': 2},\n",
       " {'criterion': 'gini', 'max_depth': 1, 'min_samples_leaf': 1},\n",
       " {'criterion': 'gini', 'max_depth': 5, 'min_samples_leaf': 1},\n",
       " {'criterion': 'entropy', 'max_depth': None, 'min_samples_leaf': 1},\n",
       " {'criterion': 'entropy', 'max_depth': 1, 'min_samples_leaf': 10}]"
      ]
     },
     "execution_count": 21,
     "metadata": {},
     "output_type": "execute_result"
    }
   ],
   "source": [
    "results_df.iloc[0,3] + results_df.iloc[1,3] "
   ]
  },
  {
   "cell_type": "code",
   "execution_count": null,
   "id": "e2eb1157-5995-4a54-8e9c-6358830c5f32",
   "metadata": {},
   "outputs": [],
   "source": []
  }
 ],
 "metadata": {
  "kernelspec": {
   "display_name": "Python 3 (ipykernel)",
   "language": "python",
   "name": "python3"
  },
  "language_info": {
   "codemirror_mode": {
    "name": "ipython",
    "version": 3
   },
   "file_extension": ".py",
   "mimetype": "text/x-python",
   "name": "python",
   "nbconvert_exporter": "python",
   "pygments_lexer": "ipython3",
   "version": "3.11.3"
  }
 },
 "nbformat": 4,
 "nbformat_minor": 5
}
