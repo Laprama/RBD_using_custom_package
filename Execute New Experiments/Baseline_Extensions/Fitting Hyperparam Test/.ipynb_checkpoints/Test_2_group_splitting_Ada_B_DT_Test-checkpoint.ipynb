{
 "cells": [
  {
   "cell_type": "code",
   "execution_count": 1,
   "id": "8c454815-3baa-4a7c-b7a1-501c8070ea3d",
   "metadata": {},
   "outputs": [
    {
     "name": "stderr",
     "output_type": "stream",
     "text": [
      "/user/home/ko20929/.conda/envs/sktime_latest/lib/python3.11/site-packages/antropy/fractal.py:197: NumbaDeprecationWarning: \u001b[1mThe 'nopython' keyword argument was not supplied to the 'numba.jit' decorator. The implicit default value for this argument is currently False, but it will be changed to True in Numba 0.59.0. See https://numba.readthedocs.io/en/stable/reference/deprecation.html#deprecation-of-object-mode-fall-back-behaviour-when-using-jit for details.\u001b[0m\n",
      "  @jit((types.Array(types.float64, 1, \"C\", readonly=True), types.int32))\n"
     ]
    }
   ],
   "source": [
    "import pandas as pd\n",
    "import mne as mne\n",
    "import os \n",
    "import time\n",
    "import numpy as np\n",
    "import matplotlib.pyplot as plt\n",
    "import joblib\n",
    "import constants\n",
    "from IPython.utils import io\n",
    "import time\n",
    "import sys\n",
    "import yasa\n",
    "from scipy.signal import welch\n",
    "\n",
    "from sklearn.model_selection import train_test_split\n",
    "from sklearn.pipeline import Pipeline\n",
    "from sklearn.model_selection import GroupShuffleSplit\n",
    "\n",
    "\n",
    "from sklearn.tree import DecisionTreeClassifier\n",
    "from sklearn.ensemble import RandomForestClassifier\n",
    "from sklearn.svm import SVC\n",
    "from sklearn.ensemble import AdaBoostClassifier\n",
    "from sklearn.model_selection import GridSearchCV\n",
    "from sklearn.model_selection import GroupKFold\n",
    "\n",
    "#Import my modules\n",
    "import format_eeg_data\n",
    "import constants\n",
    "import eeg_stat_ts\n",
    "import run_expts\n",
    "\n",
    "# Set display options to show all rows and columns\n",
    "pd.set_option('display.max_rows', 50)  # Show rows\n",
    "pd.set_option('display.max_columns', 160)  # Show columns"
   ]
  },
  {
   "cell_type": "code",
   "execution_count": 53,
   "id": "88a42ef9-a148-49f9-bec4-2c1b0f73841a",
   "metadata": {},
   "outputs": [],
   "source": [
    "# Quicker version of param grid - 160 fits \n",
    "quick_param_grid = { \n",
    "    'n_estimators': [1,2, 10, 40, 100, 250],\n",
    "    'max_features': [None, 'sqrt'],\n",
    "    'max_depth' : [2,3,5,8, None],\n",
    "    'criterion' :['gini'] }\n",
    "\n",
    "\n",
    "long_param_grid = { \n",
    "    'n_estimators': [1,2, 10, 40, 100, 250],\n",
    "    'max_features': [None, 'sqrt'],\n",
    "    'max_depth' : [2,3,5,8, None],\n",
    "    'criterion' :['gini',  'entropy'],\n",
    "    'min_samples_split' : [2,3,4,5]\n",
    "}\n",
    "\n",
    "# Slower Parameter grid for Random Forest - 600 fits\n",
    "param_grid = { \n",
    "    'n_estimators': [10, 30, 100, 200, 500],\n",
    "    'max_features': [None, 'sqrt', 'log2'],\n",
    "    'max_depth' : [3,5,8, None],\n",
    "    'criterion' :['gini', 'entropy'] }"
   ]
  },
  {
   "cell_type": "markdown",
   "id": "d3425d5c-fc06-4468-99f8-e638a8d4bcbe",
   "metadata": {},
   "source": [
    " ### Load the static features (Wake data testing)"
   ]
  },
  {
   "cell_type": "code",
   "execution_count": 3,
   "id": "5b901680-68d4-4f59-99ec-32bf8d16aa99",
   "metadata": {},
   "outputs": [],
   "source": [
    "core_path = '/user/home/ko20929/work/RBD_using_custom_package/Execute New Experiments/Baseline_Extensions/Gen_New_Features/generated_feats/'\n",
    "data_types = ['N2', 'N3','REM', 'Wake', 'N1']\n",
    "data_type = 'Wake' # Select data_type to load\n",
    "\n",
    "load_path = core_path + data_type\n",
    "\n",
    "X = pd.read_hdf(load_path + 'six_second_max_freq_stats_df.h5', key='df', mode='r')\n",
    "y = pd.read_hdf(load_path + '_y.h5', key='df', mode='r') \n",
    "groups = pd.read_hdf(load_path + '_groups.h5', key='df', mode='r')  \n",
    "\n",
    "# Replace time sereis data with mean of the data ______________________________________________________________________________________________________\n",
    "\n",
    "# Defining a function to replace time series of values with their mean\n",
    "def function(x):\n",
    "    return x.values.mean()\n",
    "    \n",
    "#Construct the static features\n",
    "static_features_df = X.apply(np.vectorize(function))\n",
    "X = static_features_df.copy()\n",
    "X_full = X.copy()"
   ]
  },
  {
   "cell_type": "markdown",
   "id": "62357dbe-fe76-4b16-84d9-604adeaf19f7",
   "metadata": {},
   "source": [
    "### Dictionaries"
   ]
  },
  {
   "cell_type": "code",
   "execution_count": 4,
   "id": "1c7efb72-e54e-4140-a598-fac2a18ca3c2",
   "metadata": {},
   "outputs": [
    {
     "data": {
      "text/plain": [
       "78"
      ]
     },
     "execution_count": 4,
     "metadata": {},
     "output_type": "execute_result"
    }
   ],
   "source": [
    "#Function to generate the dictionaries\n",
    "\n",
    "def gen_expt_dictionaries(X):\n",
    "    # 1. #Generate region to features dictionary to enable experiments to be run regionally\n",
    "    regional_features_dict = {}\n",
    "    region_channel_dict = constants.region_to_channel_dict\n",
    "    regions = list(region_channel_dict.keys())\n",
    "    for region in regions:\n",
    "        region_features = [col for col in X.columns if '_' + region in col]\n",
    "        if len(region_features) > 0 : \n",
    "            regional_features_dict[region] = region_features\n",
    "\n",
    "    # 2. #Create the combined regions dictionary\n",
    "    regions = list(regional_features_dict.keys())\n",
    "    combined_regions_features_dict = {}\n",
    "    for i, region_1 in enumerate(regions):\n",
    "        for region_2 in regions[i+1:]:\n",
    "            new_key = region_1 + '_' + region_2\n",
    "            combined_regions_features_dict[new_key] = regional_features_dict[region_1] + regional_features_dict[region_2]\n",
    "    \n",
    "    #3. Use all of the features\n",
    "    all_data_dict = {'All_regions' : list(X.columns) , 'All_regions_2' : list(X.columns)}\n",
    "    \n",
    "    return regional_features_dict , combined_regions_features_dict, all_data_dict\n",
    "\n",
    "#Generating the dictionaries\n",
    "regional_features_dict , combined_regions_features_dict, all_data_dict = gen_expt_dictionaries(X_full)\n",
    "\n",
    "#Test_dictionaries \n",
    "prefrontal_left_temp_dict = {}\n",
    "prefrontal_left_temp_dict['Prefrontal_Left Temporal'] = combined_regions_features_dict['Prefrontal_Left Temporal']\n",
    "\n",
    "Prefrontal_only_dict = {'Prefrontal' : [col for col in X.columns if 'Prefrontal' in col] }\n",
    "\n",
    "#Checking how many combined regions there are\n",
    "lens = []\n",
    "for key in combined_regions_features_dict.keys():\n",
    "    lens.append(len(combined_regions_features_dict[key]))\n",
    "len(lens)"
   ]
  },
  {
   "cell_type": "code",
   "execution_count": 22,
   "id": "50a331ef-11d6-433a-a52a-a1cf7a187b46",
   "metadata": {},
   "outputs": [
    {
     "data": {
      "text/plain": [
       "{'Prefrontal_Left Temporal': ['First_Max_Value_Prefrontal',\n",
       "  'First_Max_Freq_Prefrontal',\n",
       "  'Second_Max_Value_Prefrontal',\n",
       "  'Second_Max_Freq_Prefrontal',\n",
       "  'Third_Max_Value_Prefrontal',\n",
       "  'Third_Max_Freq_Prefrontal',\n",
       "  'Fourth_Max_Value_Prefrontal',\n",
       "  'Fourth_Max_Freq_Prefrontal',\n",
       "  'First_Max_Value_Left Temporal',\n",
       "  'First_Max_Freq_Left Temporal',\n",
       "  'Second_Max_Value_Left Temporal',\n",
       "  'Second_Max_Freq_Left Temporal',\n",
       "  'Third_Max_Value_Left Temporal',\n",
       "  'Third_Max_Freq_Left Temporal',\n",
       "  'Fourth_Max_Value_Left Temporal',\n",
       "  'Fourth_Max_Freq_Left Temporal']}"
      ]
     },
     "execution_count": 22,
     "metadata": {},
     "output_type": "execute_result"
    }
   ],
   "source": [
    "prefrontal_left_temp_dict"
   ]
  },
  {
   "cell_type": "markdown",
   "id": "7168959e-984c-4363-89d4-92d0cc909c3a",
   "metadata": {},
   "source": [
    "### Test fitting"
   ]
  },
  {
   "cell_type": "markdown",
   "id": "db9c5857-9c2e-43cf-b73a-9bb34d54a257",
   "metadata": {},
   "source": [
    "### Expt 1"
   ]
  },
  {
   "cell_type": "code",
   "execution_count": 23,
   "id": "f874a3ed-4281-4f06-857a-62781ca58454",
   "metadata": {},
   "outputs": [
    {
     "name": "stdout",
     "output_type": "stream",
     "text": [
      "Fitting 4 folds for each of 50 candidates, totalling 200 fits\n",
      "Fitting 4 folds for each of 50 candidates, totalling 200 fits\n",
      "Fitting 4 folds for each of 50 candidates, totalling 200 fits\n",
      "Fitting 4 folds for each of 50 candidates, totalling 200 fits\n",
      "Fitting 4 folds for each of 50 candidates, totalling 200 fits\n",
      "Fitting 4 folds for each of 50 candidates, totalling 200 fits\n",
      "Fitting 4 folds for each of 50 candidates, totalling 200 fits\n",
      "Fitting 4 folds for each of 50 candidates, totalling 200 fits\n",
      "Fitting 4 folds for each of 50 candidates, totalling 200 fits\n",
      "Fitting 4 folds for each of 50 candidates, totalling 200 fits\n"
     ]
    },
    {
     "data": {
      "text/html": [
       "<div>\n",
       "<style scoped>\n",
       "    .dataframe tbody tr th:only-of-type {\n",
       "        vertical-align: middle;\n",
       "    }\n",
       "\n",
       "    .dataframe tbody tr th {\n",
       "        vertical-align: top;\n",
       "    }\n",
       "\n",
       "    .dataframe thead th {\n",
       "        text-align: right;\n",
       "    }\n",
       "</style>\n",
       "<table border=\"1\" class=\"dataframe\">\n",
       "  <thead>\n",
       "    <tr style=\"text-align: right;\">\n",
       "      <th></th>\n",
       "      <th>random_state</th>\n",
       "      <th>Prefrontal_Left Temporal_RF_acc</th>\n",
       "      <th>Prefrontal_Left Temporal_RF_std</th>\n",
       "    </tr>\n",
       "  </thead>\n",
       "  <tbody>\n",
       "    <tr>\n",
       "      <th>0</th>\n",
       "      <td>1</td>\n",
       "      <td>0.700000</td>\n",
       "      <td>0.066667</td>\n",
       "    </tr>\n",
       "    <tr>\n",
       "      <th>1</th>\n",
       "      <td>2</td>\n",
       "      <td>0.566667</td>\n",
       "      <td>0.169967</td>\n",
       "    </tr>\n",
       "  </tbody>\n",
       "</table>\n",
       "</div>"
      ],
      "text/plain": [
       "   random_state  Prefrontal_Left Temporal_RF_acc  \\\n",
       "0             1                         0.700000   \n",
       "1             2                         0.566667   \n",
       "\n",
       "   Prefrontal_Left Temporal_RF_std  \n",
       "0                         0.066667  \n",
       "1                         0.169967  "
      ]
     },
     "metadata": {},
     "output_type": "display_data"
    },
    {
     "data": {
      "text/plain": [
       "141.73037934303284"
      ]
     },
     "execution_count": 23,
     "metadata": {},
     "output_type": "execute_result"
    }
   ],
   "source": [
    "t1 = time.time()\n",
    "\n",
    "X_expt , y_expt , groups_expt, expt_info = run_expts.generate_expt_x_y_groups(X,y,groups, 1 )\n",
    "\n",
    "results_df = run_expts.run_mv_tsc(X_expt,y_expt,groups_expt, {'RF' :  GridSearchCV( RandomForestClassifier(), long_param_grid , refit = True, verbose = 1, cv = GroupKFold(n_splits = 4) )}, return_df = True , subset_names_and_cols = prefrontal_left_temp_dict, random_states = [1,2], groups_for_fit = True, best_params = True)\n",
    "\n",
    "res_df = run_expts.generate_subset_acc_std(results_df.drop(columns = [col for col in results_df.columns if 'params' in col]), return_df = True)\n",
    "display(pd.DataFrame(res_df))\n",
    "        \n",
    "t2 = time.time()\n",
    "\n",
    "t2-t1"
   ]
  },
  {
   "cell_type": "markdown",
   "id": "81f937c1-584b-42a6-8710-042747c6aac7",
   "metadata": {},
   "source": [
    "#### Expt 2"
   ]
  },
  {
   "cell_type": "code",
   "execution_count": 29,
   "id": "5494cb2a-fce0-4f83-8e37-e767b89839d6",
   "metadata": {},
   "outputs": [
    {
     "name": "stdout",
     "output_type": "stream",
     "text": [
      "{'criterion': 'gini', 'max_depth': 2, 'max_features': None, 'n_estimators': 2}\n",
      "{'criterion': 'gini', 'max_depth': 2, 'max_features': 'sqrt', 'n_estimators': 2}\n",
      "{'criterion': 'gini', 'max_depth': 3, 'max_features': None, 'n_estimators': 100}\n",
      "{'criterion': 'gini', 'max_depth': None, 'max_features': 'sqrt', 'n_estimators': 10}\n",
      "{'criterion': 'gini', 'max_depth': 2, 'max_features': None, 'n_estimators': 40}\n",
      "{'criterion': 'gini', 'max_depth': None, 'max_features': 'sqrt', 'n_estimators': 2}\n",
      "{'criterion': 'gini', 'max_depth': 3, 'max_features': None, 'n_estimators': 10}\n",
      "{'criterion': 'gini', 'max_depth': None, 'max_features': None, 'n_estimators': 40}\n",
      "{'criterion': 'gini', 'max_depth': None, 'max_features': None, 'n_estimators': 2}\n",
      "{'criterion': 'gini', 'max_depth': 2, 'max_features': None, 'n_estimators': 100}\n"
     ]
    }
   ],
   "source": [
    "for params in results_df.iloc[0,3] + results_df.iloc[1,3]:\n",
    "    print(params)"
   ]
  },
  {
   "cell_type": "code",
   "execution_count": 50,
   "id": "e6001fad-5306-4f3a-afc7-fbf2a71d8407",
   "metadata": {},
   "outputs": [
    {
     "name": "stdout",
     "output_type": "stream",
     "text": [
      "Fitting 3 folds for each of 60 candidates, totalling 180 fits\n",
      "Fitting 3 folds for each of 60 candidates, totalling 180 fits\n",
      "Fitting 3 folds for each of 60 candidates, totalling 180 fits\n",
      "Fitting 3 folds for each of 60 candidates, totalling 180 fits\n",
      "Fitting 3 folds for each of 60 candidates, totalling 180 fits\n",
      "Fitting 3 folds for each of 60 candidates, totalling 180 fits\n",
      "Fitting 3 folds for each of 60 candidates, totalling 180 fits\n",
      "Fitting 3 folds for each of 60 candidates, totalling 180 fits\n",
      "Fitting 3 folds for each of 60 candidates, totalling 180 fits\n",
      "Fitting 3 folds for each of 60 candidates, totalling 180 fits\n"
     ]
    },
    {
     "data": {
      "text/html": [
       "<div>\n",
       "<style scoped>\n",
       "    .dataframe tbody tr th:only-of-type {\n",
       "        vertical-align: middle;\n",
       "    }\n",
       "\n",
       "    .dataframe tbody tr th {\n",
       "        vertical-align: top;\n",
       "    }\n",
       "\n",
       "    .dataframe thead th {\n",
       "        text-align: right;\n",
       "    }\n",
       "</style>\n",
       "<table border=\"1\" class=\"dataframe\">\n",
       "  <thead>\n",
       "    <tr style=\"text-align: right;\">\n",
       "      <th></th>\n",
       "      <th>random_state</th>\n",
       "      <th>Prefrontal_Left Temporal_RF_acc</th>\n",
       "      <th>Prefrontal_Left Temporal_RF_std</th>\n",
       "    </tr>\n",
       "  </thead>\n",
       "  <tbody>\n",
       "    <tr>\n",
       "      <th>0</th>\n",
       "      <td>1</td>\n",
       "      <td>0.814286</td>\n",
       "      <td>0.068325</td>\n",
       "    </tr>\n",
       "    <tr>\n",
       "      <th>1</th>\n",
       "      <td>2</td>\n",
       "      <td>0.789286</td>\n",
       "      <td>0.064286</td>\n",
       "    </tr>\n",
       "  </tbody>\n",
       "</table>\n",
       "</div>"
      ],
      "text/plain": [
       "   random_state  Prefrontal_Left Temporal_RF_acc  \\\n",
       "0             1                         0.814286   \n",
       "1             2                         0.789286   \n",
       "\n",
       "   Prefrontal_Left Temporal_RF_std  \n",
       "0                         0.068325  \n",
       "1                         0.064286  "
      ]
     },
     "metadata": {},
     "output_type": "display_data"
    },
    {
     "data": {
      "text/plain": [
       "105.48987793922424"
      ]
     },
     "execution_count": 50,
     "metadata": {},
     "output_type": "execute_result"
    }
   ],
   "source": [
    "t1 = time.time()\n",
    "\n",
    "X_expt , y_expt , groups_expt, expt_info = run_expts.generate_expt_x_y_groups(X,y,groups, 2 )\n",
    "\n",
    "results_df = run_expts.run_mv_tsc(X_expt,y_expt,groups_expt, {'RF' :  GridSearchCV( RandomForestClassifier(), quick_param_grid , refit = True, verbose = 1, cv = GroupKFold(n_splits = 3) )}, return_df = True , subset_names_and_cols = prefrontal_left_temp_dict, random_states = [1,2], groups_for_fit = True, best_params = True)\n",
    "\n",
    "res_df = run_expts.generate_subset_acc_std(results_df.drop(columns = [col for col in results_df.columns if 'params' in col]), return_df = True)\n",
    "display(pd.DataFrame(res_df))\n",
    "        \n",
    "t2 = time.time()\n",
    "\n",
    "t2-t1"
   ]
  },
  {
   "cell_type": "code",
   "execution_count": 51,
   "id": "b586d6aa-abbe-4730-b396-041a6139e46f",
   "metadata": {},
   "outputs": [
    {
     "name": "stdout",
     "output_type": "stream",
     "text": [
      "{'criterion': 'gini', 'max_depth': 2, 'max_features': None, 'n_estimators': 40}\n",
      "{'criterion': 'gini', 'max_depth': 2, 'max_features': 'sqrt', 'n_estimators': 10}\n",
      "{'criterion': 'gini', 'max_depth': 2, 'max_features': None, 'n_estimators': 10}\n",
      "{'criterion': 'gini', 'max_depth': 2, 'max_features': None, 'n_estimators': 1}\n",
      "{'criterion': 'gini', 'max_depth': None, 'max_features': None, 'n_estimators': 10}\n",
      "{'criterion': 'gini', 'max_depth': 3, 'max_features': None, 'n_estimators': 1}\n",
      "{'criterion': 'gini', 'max_depth': 5, 'max_features': 'sqrt', 'n_estimators': 1}\n",
      "{'criterion': 'gini', 'max_depth': 2, 'max_features': 'sqrt', 'n_estimators': 2}\n",
      "{'criterion': 'gini', 'max_depth': 3, 'max_features': None, 'n_estimators': 10}\n",
      "{'criterion': 'gini', 'max_depth': None, 'max_features': 'sqrt', 'n_estimators': 1}\n"
     ]
    }
   ],
   "source": [
    "for params in results_df.iloc[0,3] + results_df.iloc[1,3]:\n",
    "    print(params)"
   ]
  },
  {
   "cell_type": "markdown",
   "id": "d4c7e558-2445-4ef1-bc7e-1c4c8971fac5",
   "metadata": {},
   "source": [
    "### Decision Tree Expt 2 "
   ]
  },
  {
   "cell_type": "code",
   "execution_count": 44,
   "id": "d69e087a-cc1c-4ee0-abc8-72ce7760d9c4",
   "metadata": {},
   "outputs": [
    {
     "data": {
      "text/html": [
       "<div>\n",
       "<style scoped>\n",
       "    .dataframe tbody tr th:only-of-type {\n",
       "        vertical-align: middle;\n",
       "    }\n",
       "\n",
       "    .dataframe tbody tr th {\n",
       "        vertical-align: top;\n",
       "    }\n",
       "\n",
       "    .dataframe thead th {\n",
       "        text-align: right;\n",
       "    }\n",
       "</style>\n",
       "<table border=\"1\" class=\"dataframe\">\n",
       "  <thead>\n",
       "    <tr style=\"text-align: right;\">\n",
       "      <th></th>\n",
       "      <th>random_state</th>\n",
       "      <th>Prefrontal_Left Temporal_DT_acc</th>\n",
       "      <th>Prefrontal_Left Temporal_DT_std</th>\n",
       "    </tr>\n",
       "  </thead>\n",
       "  <tbody>\n",
       "    <tr>\n",
       "      <th>0</th>\n",
       "      <td>1</td>\n",
       "      <td>0.946429</td>\n",
       "      <td>0.065854</td>\n",
       "    </tr>\n",
       "    <tr>\n",
       "      <th>1</th>\n",
       "      <td>2</td>\n",
       "      <td>0.925000</td>\n",
       "      <td>0.100000</td>\n",
       "    </tr>\n",
       "  </tbody>\n",
       "</table>\n",
       "</div>"
      ],
      "text/plain": [
       "   random_state  Prefrontal_Left Temporal_DT_acc  \\\n",
       "0             1                         0.946429   \n",
       "1             2                         0.925000   \n",
       "\n",
       "   Prefrontal_Left Temporal_DT_std  \n",
       "0                         0.065854  \n",
       "1                         0.100000  "
      ]
     },
     "metadata": {},
     "output_type": "display_data"
    },
    {
     "name": "stdout",
     "output_type": "stream",
     "text": [
      "0.9357142857142857\n"
     ]
    },
    {
     "data": {
      "text/plain": [
       "0.09488415718078613"
      ]
     },
     "execution_count": 44,
     "metadata": {},
     "output_type": "execute_result"
    }
   ],
   "source": [
    "t1 = time.time()\n",
    "\n",
    "X_expt , y_expt , groups_expt, expt_info = run_expts.generate_expt_x_y_groups(X,y,groups, 2 )\n",
    "\n",
    "results_df = run_expts.run_mv_tsc(X_expt,y_expt,groups_expt, {'DT' : DecisionTreeClassifier(random_state = 99) }, return_df = True , subset_names_and_cols = prefrontal_left_temp_dict, random_states = [1,2])\n",
    "\n",
    "res_df = run_expts.generate_subset_acc_std(results_df.drop(columns = [col for col in results_df.columns if 'params' in col]), return_df = True)\n",
    "display(pd.DataFrame(res_df))\n",
    "\n",
    "print(res_df.mean()['Prefrontal_Left Temporal_DT_acc']) \n",
    "\n",
    "t2 = time.time()\n",
    "\n",
    "t2-t1"
   ]
  },
  {
   "cell_type": "code",
   "execution_count": null,
   "id": "5314f8ee-3be5-456f-be8f-dc126b2ca4da",
   "metadata": {},
   "outputs": [],
   "source": []
  },
  {
   "cell_type": "code",
   "execution_count": 63,
   "id": "67222e5e-168d-41e1-b15b-15f5ba308798",
   "metadata": {},
   "outputs": [
    {
     "name": "stdout",
     "output_type": "stream",
     "text": [
      "23.833333333333332\n",
      "2.3833333333333333\n"
     ]
    }
   ],
   "source": [
    "# 11.5 seconds for one region \n",
    "# 1 region x 13 regions x 2 (CV twice) x 11 seconds x 5 fold cross validation\n",
    "# 25 minutes estimated run time \n",
    "print( (1*13*2*11*5)/60 )\n",
    "\n",
    "print( (1*78*2*11*5)/(60*60)  )"
   ]
  }
 ],
 "metadata": {
  "kernelspec": {
   "display_name": "Python 3 (ipykernel)",
   "language": "python",
   "name": "python3"
  },
  "language_info": {
   "codemirror_mode": {
    "name": "ipython",
    "version": 3
   },
   "file_extension": ".py",
   "mimetype": "text/x-python",
   "name": "python",
   "nbconvert_exporter": "python",
   "pygments_lexer": "ipython3",
   "version": "3.11.3"
  }
 },
 "nbformat": 4,
 "nbformat_minor": 5
}
