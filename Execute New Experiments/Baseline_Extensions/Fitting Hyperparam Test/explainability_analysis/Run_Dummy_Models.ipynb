{
 "cells": [
  {
   "cell_type": "code",
   "execution_count": 1,
   "id": "cdad43fe-e5e4-4b7d-a314-9201d83aad64",
   "metadata": {},
   "outputs": [
    {
     "name": "stderr",
     "output_type": "stream",
     "text": [
      "/user/home/ko20929/.conda/envs/sktime_latest/lib/python3.11/site-packages/antropy/fractal.py:197: NumbaDeprecationWarning: \u001b[1mThe 'nopython' keyword argument was not supplied to the 'numba.jit' decorator. The implicit default value for this argument is currently False, but it will be changed to True in Numba 0.59.0. See https://numba.readthedocs.io/en/stable/reference/deprecation.html#deprecation-of-object-mode-fall-back-behaviour-when-using-jit for details.\u001b[0m\n",
      "  @jit((types.Array(types.float64, 1, \"C\", readonly=True), types.int32))\n"
     ]
    }
   ],
   "source": [
    "import pandas as pd\n",
    "import mne as mne\n",
    "import os \n",
    "import time\n",
    "import numpy as np\n",
    "import matplotlib.pyplot as plt\n",
    "import joblib\n",
    "import constants\n",
    "from IPython.utils import io\n",
    "import time\n",
    "import sys\n",
    "import yasa\n",
    "from scipy.signal import welch\n",
    "\n",
    "from sklearn.model_selection import train_test_split\n",
    "from sklearn.pipeline import Pipeline\n",
    "from sklearn.model_selection import GroupShuffleSplit\n",
    "\n",
    "\n",
    "from sklearn.tree import DecisionTreeClassifier\n",
    "from sklearn.ensemble import RandomForestClassifier\n",
    "from sklearn.svm import SVC\n",
    "from sklearn.ensemble import AdaBoostClassifier\n",
    "from sklearn.model_selection import GridSearchCV\n",
    "from sklearn.model_selection import GroupKFold\n",
    "\n",
    "#Import my modules\n",
    "import format_eeg_data\n",
    "import constants\n",
    "import eeg_stat_ts\n",
    "import run_expts\n",
    "\n",
    "#TS Fresh Parameter Settings\n",
    "from tsfresh.feature_extraction import ComprehensiveFCParameters\n",
    "from tsfresh.feature_extraction import MinimalFCParameters\n",
    "from tsfresh.feature_extraction import EfficientFCParameters\n",
    "from tsfresh.feature_extraction import extract_features"
   ]
  },
  {
   "cell_type": "code",
   "execution_count": 5,
   "id": "a34d5fbf-76f4-4600-94ad-6201ad4077c7",
   "metadata": {},
   "outputs": [],
   "source": [
    "from sklearn.dummy import DummyClassifier"
   ]
  },
  {
   "cell_type": "code",
   "execution_count": 10,
   "id": "97f77378-78a8-48b2-ab9c-1abab24614ec",
   "metadata": {},
   "outputs": [
    {
     "name": "stdout",
     "output_type": "stream",
     "text": [
      "Dummy_uniform\n",
      "Dummy_prior\n",
      "Dummy_stratified\n"
     ]
    }
   ],
   "source": [
    "for clf_dict in [{'Dummy_uniform' : DummyClassifier(strategy = 'uniform')} , {'Dummy_prior' : DummyClassifier(strategy = 'prior')} , {'Dummy_stratified' : DummyClassifier(strategy = 'stratified')}]:\n",
    "   \n",
    "    print(model)"
   ]
  },
  {
   "cell_type": "code",
   "execution_count": 16,
   "id": "75f0adb5-37b4-4a19-8ff8-246bc3a640dd",
   "metadata": {},
   "outputs": [],
   "source": [
    "# Load the features \n",
    "r_state = 5 \n",
    "\n",
    "results_dfs_dict = {}\n",
    "\n",
    "data_types = ['N1','REM', 'N2', 'N3', 'Wake']\n",
    "\n",
    "for data_type in data_types:\n",
    "    results_dfs_dict[data_type] = {}\n",
    "    \n",
    "    load_path = '/user/home/ko20929/work/RBD_using_custom_package/Data/freq_6_second_files/'\n",
    "    load_path_bpw = '/user/home/ko20929/work/RBD_using_custom_package/Data/freq_6_second_files/'\n",
    "    load_path_max_freqs = '/user/home/ko20929/work/RBD_using_custom_package/Execute New Experiments/Baseline_Extensions/Gen_New_Features/generated_feats/'\n",
    "    \n",
    "    loaded_data = {}\n",
    "    \n",
    "    X_y_groups = {}\n",
    "        \n",
    "    X_bpw = pd.read_hdf(load_path_bpw + data_type +  'six_second_freq_df.h5', key='df', mode='r')\n",
    "    y = pd.read_hdf(load_path + data_type +  '_y.h5', key='df', mode='r') \n",
    "    groups = pd.read_hdf(load_path + data_type +  '_groups.h5', key='df', mode='r')\n",
    "    X_bpw, y , groups = X_bpw.reset_index(drop = True) , y.reset_index(drop = True) , groups.reset_index(drop = True)\n",
    "    \n",
    "    X_max_freqs = pd.read_hdf(load_path_max_freqs + data_type +  'six_second_max_freq_stats_df.h5', key='df', mode='r')\n",
    "    X_max_freqs = X_max_freqs.reset_index(drop = True)\n",
    "    \n",
    "    X = pd.concat([X_bpw , X_max_freqs], axis = 1)\n",
    "    \n",
    "    #Generate a region to features dictionary - this will enable us to run expts regionally as before\n",
    "    regional_features_dict = {}\n",
    "    region_channel_dict = constants.region_to_channel_dict\n",
    "    regions = list(region_channel_dict.keys())\n",
    "    for region in regions:\n",
    "        region_features = [col for col in X.columns if region + '_' in col]\n",
    "        regional_features_dict[region] = region_features\n",
    "    \n",
    "    X_expt , y_expt , groups_expt, expt_info = run_expts.generate_expt_x_y_groups(X,y,groups, 1 )\n",
    "    \n",
    "    for clf_dict in [{'Dummy_uniform' : DummyClassifier(strategy = 'uniform', random_state=r_state)} , {'Dummy_prior' : DummyClassifier(strategy = 'prior', random_state = r_state)} , {'Dummy_stratified' : DummyClassifier(strategy = 'stratified', random_state = 5)}]:\n",
    "        model = list(clf_dict.keys())[0]\n",
    "        results_df = run_expts.run_mv_tsc(X_expt,y_expt,groups_expt, clf_dict , return_df = True , subset_names_and_cols = regional_features_dict, random_states = [1] )\n",
    "        results_dfs_dict[data_type][model] = results_df"
   ]
  },
  {
   "cell_type": "code",
   "execution_count": 17,
   "id": "9d11829d-da22-4e10-b264-c3b5051e97b4",
   "metadata": {},
   "outputs": [
    {
     "data": {
      "text/plain": [
       "['dummy_models_results_dfs_dict.pkl']"
      ]
     },
     "execution_count": 17,
     "metadata": {},
     "output_type": "execute_result"
    }
   ],
   "source": [
    "joblib.dump(results_dfs_dict, 'dummy_models_results_dfs_dict.pkl')"
   ]
  },
  {
   "cell_type": "code",
   "execution_count": 13,
   "id": "98b32dba-3de1-41d3-b837-5137c7f10632",
   "metadata": {},
   "outputs": [
    {
     "data": {
      "text/html": [
       "<div>\n",
       "<style scoped>\n",
       "    .dataframe tbody tr th:only-of-type {\n",
       "        vertical-align: middle;\n",
       "    }\n",
       "\n",
       "    .dataframe tbody tr th {\n",
       "        vertical-align: top;\n",
       "    }\n",
       "\n",
       "    .dataframe thead th {\n",
       "        text-align: right;\n",
       "    }\n",
       "</style>\n",
       "<table border=\"1\" class=\"dataframe\">\n",
       "  <thead>\n",
       "    <tr style=\"text-align: right;\">\n",
       "      <th></th>\n",
       "      <th>random_state</th>\n",
       "      <th>y_true</th>\n",
       "      <th>Prefrontal_Dummy_uniform_y_preds</th>\n",
       "      <th>Frontal_Dummy_uniform_y_preds</th>\n",
       "      <th>Left Frontal_Dummy_uniform_y_preds</th>\n",
       "      <th>Right Frontal_Dummy_uniform_y_preds</th>\n",
       "      <th>Central_Dummy_uniform_y_preds</th>\n",
       "      <th>Left Central_Dummy_uniform_y_preds</th>\n",
       "      <th>Right Central_Dummy_uniform_y_preds</th>\n",
       "      <th>Left Temporal_Dummy_uniform_y_preds</th>\n",
       "      <th>Right Temporal_Dummy_uniform_y_preds</th>\n",
       "      <th>Parietal_Dummy_uniform_y_preds</th>\n",
       "      <th>Left Parietal_Dummy_uniform_y_preds</th>\n",
       "      <th>Right Parietal_Dummy_uniform_y_preds</th>\n",
       "      <th>Occipital_Dummy_uniform_y_preds</th>\n",
       "    </tr>\n",
       "  </thead>\n",
       "  <tbody>\n",
       "    <tr>\n",
       "      <th>0</th>\n",
       "      <td>1</td>\n",
       "      <td>[[0, 0, 0, 0, 0, 0, 1, 1], [0, 0, 0, 1, 1, 1, ...</td>\n",
       "      <td>[[1, 1, 1, 1, 1, 0, 1, 1], [0, 0, 1, 0, 0, 0, ...</td>\n",
       "      <td>[[0, 0, 1, 0, 1, 1, 0, 1], [0, 1, 0, 0, 0, 1, ...</td>\n",
       "      <td>[[0, 1, 1, 0, 1, 1, 0, 1], [1, 0, 1, 1, 1, 1, ...</td>\n",
       "      <td>[[0, 0, 0, 0, 1, 1, 1, 0], [1, 0, 1, 1, 1, 1, ...</td>\n",
       "      <td>[[1, 0, 0, 1, 0, 0, 0, 1], [1, 1, 0, 0, 0, 0, ...</td>\n",
       "      <td>[[1, 1, 0, 1, 1, 0, 1, 1], [0, 1, 0, 1, 1, 0, ...</td>\n",
       "      <td>[[0, 1, 1, 0, 1, 0, 0, 1], [0, 1, 0, 0, 1, 1, ...</td>\n",
       "      <td>[[1, 1, 1, 0, 0, 1, 0, 1], [1, 1, 0, 1, 1, 1, ...</td>\n",
       "      <td>[[0, 0, 1, 1, 0, 1, 1, 0], [0, 0, 1, 1, 1, 1, ...</td>\n",
       "      <td>[[1, 0, 1, 0, 1, 0, 0, 0], [0, 0, 1, 1, 0, 1, ...</td>\n",
       "      <td>[[0, 1, 0, 1, 1, 0, 0, 0], [0, 0, 0, 1, 1, 1, ...</td>\n",
       "      <td>[[0, 0, 0, 1, 1, 0, 1, 0], [0, 1, 0, 0, 1, 1, ...</td>\n",
       "      <td>[[1, 0, 0, 1, 0, 0, 1, 1], [1, 1, 0, 1, 1, 0, ...</td>\n",
       "    </tr>\n",
       "  </tbody>\n",
       "</table>\n",
       "</div>"
      ],
      "text/plain": [
       "   random_state                                             y_true  \\\n",
       "0             1  [[0, 0, 0, 0, 0, 0, 1, 1], [0, 0, 0, 1, 1, 1, ...   \n",
       "\n",
       "                    Prefrontal_Dummy_uniform_y_preds  \\\n",
       "0  [[1, 1, 1, 1, 1, 0, 1, 1], [0, 0, 1, 0, 0, 0, ...   \n",
       "\n",
       "                       Frontal_Dummy_uniform_y_preds  \\\n",
       "0  [[0, 0, 1, 0, 1, 1, 0, 1], [0, 1, 0, 0, 0, 1, ...   \n",
       "\n",
       "                  Left Frontal_Dummy_uniform_y_preds  \\\n",
       "0  [[0, 1, 1, 0, 1, 1, 0, 1], [1, 0, 1, 1, 1, 1, ...   \n",
       "\n",
       "                 Right Frontal_Dummy_uniform_y_preds  \\\n",
       "0  [[0, 0, 0, 0, 1, 1, 1, 0], [1, 0, 1, 1, 1, 1, ...   \n",
       "\n",
       "                       Central_Dummy_uniform_y_preds  \\\n",
       "0  [[1, 0, 0, 1, 0, 0, 0, 1], [1, 1, 0, 0, 0, 0, ...   \n",
       "\n",
       "                  Left Central_Dummy_uniform_y_preds  \\\n",
       "0  [[1, 1, 0, 1, 1, 0, 1, 1], [0, 1, 0, 1, 1, 0, ...   \n",
       "\n",
       "                 Right Central_Dummy_uniform_y_preds  \\\n",
       "0  [[0, 1, 1, 0, 1, 0, 0, 1], [0, 1, 0, 0, 1, 1, ...   \n",
       "\n",
       "                 Left Temporal_Dummy_uniform_y_preds  \\\n",
       "0  [[1, 1, 1, 0, 0, 1, 0, 1], [1, 1, 0, 1, 1, 1, ...   \n",
       "\n",
       "                Right Temporal_Dummy_uniform_y_preds  \\\n",
       "0  [[0, 0, 1, 1, 0, 1, 1, 0], [0, 0, 1, 1, 1, 1, ...   \n",
       "\n",
       "                      Parietal_Dummy_uniform_y_preds  \\\n",
       "0  [[1, 0, 1, 0, 1, 0, 0, 0], [0, 0, 1, 1, 0, 1, ...   \n",
       "\n",
       "                 Left Parietal_Dummy_uniform_y_preds  \\\n",
       "0  [[0, 1, 0, 1, 1, 0, 0, 0], [0, 0, 0, 1, 1, 1, ...   \n",
       "\n",
       "                Right Parietal_Dummy_uniform_y_preds  \\\n",
       "0  [[0, 0, 0, 1, 1, 0, 1, 0], [0, 1, 0, 0, 1, 1, ...   \n",
       "\n",
       "                     Occipital_Dummy_uniform_y_preds  \n",
       "0  [[1, 0, 0, 1, 0, 0, 1, 1], [1, 1, 0, 1, 1, 0, ...  "
      ]
     },
     "execution_count": 13,
     "metadata": {},
     "output_type": "execute_result"
    }
   ],
   "source": [
    "results_dfs_dict['N1']['Dummy_uniform']"
   ]
  }
 ],
 "metadata": {
  "kernelspec": {
   "display_name": "Python 3 (ipykernel)",
   "language": "python",
   "name": "python3"
  },
  "language_info": {
   "codemirror_mode": {
    "name": "ipython",
    "version": 3
   },
   "file_extension": ".py",
   "mimetype": "text/x-python",
   "name": "python",
   "nbconvert_exporter": "python",
   "pygments_lexer": "ipython3",
   "version": "3.11.3"
  }
 },
 "nbformat": 4,
 "nbformat_minor": 5
}
