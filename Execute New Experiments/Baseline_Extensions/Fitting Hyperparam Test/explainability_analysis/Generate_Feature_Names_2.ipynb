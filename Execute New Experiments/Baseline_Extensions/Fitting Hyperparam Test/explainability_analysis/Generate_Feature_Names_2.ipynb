{
 "cells": [
  {
   "cell_type": "code",
   "execution_count": 1,
   "id": "b40a2c14-cba5-4348-83e6-06ccf71f2e36",
   "metadata": {},
   "outputs": [
    {
     "name": "stderr",
     "output_type": "stream",
     "text": [
      "/user/home/ko20929/.conda/envs/sktime_latest/lib/python3.11/site-packages/antropy/fractal.py:197: NumbaDeprecationWarning: \u001b[1mThe 'nopython' keyword argument was not supplied to the 'numba.jit' decorator. The implicit default value for this argument is currently False, but it will be changed to True in Numba 0.59.0. See https://numba.readthedocs.io/en/stable/reference/deprecation.html#deprecation-of-object-mode-fall-back-behaviour-when-using-jit for details.\u001b[0m\n",
      "  @jit((types.Array(types.float64, 1, \"C\", readonly=True), types.int32))\n"
     ]
    }
   ],
   "source": [
    "import pandas as pd\n",
    "import mne as mne\n",
    "import os \n",
    "import time\n",
    "import numpy as np\n",
    "import matplotlib.pyplot as plt\n",
    "import joblib\n",
    "import constants\n",
    "from IPython.utils import io\n",
    "import time\n",
    "import sys\n",
    "import yasa\n",
    "from scipy.signal import welch\n",
    "\n",
    "from sklearn.model_selection import train_test_split\n",
    "from sklearn.pipeline import Pipeline\n",
    "from sklearn.model_selection import GroupShuffleSplit\n",
    "\n",
    "\n",
    "from sklearn.tree import DecisionTreeClassifier\n",
    "from sklearn.ensemble import RandomForestClassifier\n",
    "from sklearn.svm import SVC\n",
    "from sklearn.ensemble import AdaBoostClassifier\n",
    "from sklearn.model_selection import GridSearchCV\n",
    "from sklearn.model_selection import GroupKFold\n",
    "from sklearn.metrics import accuracy_score\n",
    "\n",
    "\n",
    "#Import my modules\n",
    "import format_eeg_data\n",
    "import constants\n",
    "import eeg_stat_ts\n",
    "import run_expts\n",
    "\n",
    "#TS Fresh Parameter Settings\n",
    "from tsfresh.feature_extraction import ComprehensiveFCParameters\n",
    "from tsfresh.feature_extraction import MinimalFCParameters\n",
    "from tsfresh.feature_extraction import EfficientFCParameters\n",
    "from tsfresh.feature_extraction import extract_features"
   ]
  },
  {
   "cell_type": "code",
   "execution_count": 5,
   "id": "d9d054f2-4584-4f7e-a116-6b15403d0f0d",
   "metadata": {},
   "outputs": [
    {
     "name": "stderr",
     "output_type": "stream",
     "text": [
      "19-Nov-23 21:51:05 | WARNING | Dependency not available for matrix_profile, this feature will be disabled!\n",
      "Feature Extraction: 100%|██████████| 160/160 [00:01<00:00, 80.22it/s]\n"
     ]
    },
    {
     "name": "stdout",
     "output_type": "stream",
     "text": [
      "1950\n",
      "1950\n",
      "1948\n"
     ]
    },
    {
     "name": "stderr",
     "output_type": "stream",
     "text": [
      "19-Nov-23 21:51:11 | WARNING | Dependency not available for matrix_profile, this feature will be disabled!\n",
      "Feature Extraction: 100%|██████████| 160/160 [04:40<00:00,  1.75s/it]\n"
     ]
    },
    {
     "name": "stdout",
     "output_type": "stream",
     "text": [
      "151515\n",
      "76570\n",
      "65942\n"
     ]
    },
    {
     "name": "stderr",
     "output_type": "stream",
     "text": [
      "19-Nov-23 21:56:12 | WARNING | Dependency not available for matrix_profile, this feature will be disabled!\n",
      "Feature Extraction: 100%|██████████| 159/159 [00:02<00:00, 71.06it/s]\n"
     ]
    },
    {
     "name": "stdout",
     "output_type": "stream",
     "text": [
      "1950\n",
      "1950\n",
      "1940\n"
     ]
    },
    {
     "name": "stderr",
     "output_type": "stream",
     "text": [
      "19-Nov-23 21:56:20 | WARNING | Dependency not available for matrix_profile, this feature will be disabled!\n",
      "Feature Extraction: 100%|██████████| 159/159 [10:13<00:00,  3.86s/it]\n"
     ]
    },
    {
     "name": "stdout",
     "output_type": "stream",
     "text": [
      "151515\n",
      "110505\n",
      "99779\n"
     ]
    },
    {
     "name": "stderr",
     "output_type": "stream",
     "text": [
      "19-Nov-23 22:06:58 | WARNING | Dependency not available for matrix_profile, this feature will be disabled!\n",
      "Feature Extraction: 100%|██████████| 160/160 [00:02<00:00, 59.87it/s]\n"
     ]
    },
    {
     "name": "stdout",
     "output_type": "stream",
     "text": [
      "1950\n",
      "1950\n",
      "1931\n"
     ]
    },
    {
     "name": "stderr",
     "output_type": "stream",
     "text": [
      "19-Nov-23 22:07:08 | WARNING | Dependency not available for matrix_profile, this feature will be disabled!\n",
      "Feature Extraction: 100%|██████████| 160/160 [29:32<00:00, 11.08s/it] \n"
     ]
    },
    {
     "name": "stdout",
     "output_type": "stream",
     "text": [
      "151515\n",
      "90225\n",
      "79481\n"
     ]
    },
    {
     "name": "stderr",
     "output_type": "stream",
     "text": [
      "19-Nov-23 22:37:04 | WARNING | Dependency not available for matrix_profile, this feature will be disabled!\n",
      "Feature Extraction: 100%|██████████| 160/160 [00:03<00:00, 47.50it/s]\n"
     ]
    },
    {
     "name": "stdout",
     "output_type": "stream",
     "text": [
      "1950\n",
      "1950\n",
      "1927\n"
     ]
    },
    {
     "name": "stderr",
     "output_type": "stream",
     "text": [
      "19-Nov-23 22:37:12 | WARNING | Dependency not available for matrix_profile, this feature will be disabled!\n",
      "Feature Extraction: 100%|██████████| 160/160 [17:54<00:00,  6.72s/it] \n"
     ]
    },
    {
     "name": "stdout",
     "output_type": "stream",
     "text": [
      "151515\n",
      "151060\n",
      "140143\n"
     ]
    },
    {
     "name": "stderr",
     "output_type": "stream",
     "text": [
      "19-Nov-23 22:55:31 | WARNING | Dependency not available for matrix_profile, this feature will be disabled!\n",
      "Feature Extraction: 100%|██████████| 159/159 [00:02<00:00, 68.72it/s] \n"
     ]
    },
    {
     "name": "stdout",
     "output_type": "stream",
     "text": [
      "1950\n",
      "1950\n",
      "1950\n"
     ]
    },
    {
     "name": "stderr",
     "output_type": "stream",
     "text": [
      "19-Nov-23 22:55:38 | WARNING | Dependency not available for matrix_profile, this feature will be disabled!\n",
      "Feature Extraction: 100%|██████████| 159/159 [02:52<00:00,  1.08s/it]\n"
     ]
    },
    {
     "name": "stdout",
     "output_type": "stream",
     "text": [
      "151515\n",
      "64440\n",
      "53294\n"
     ]
    }
   ],
   "source": [
    "data_dict = {}\n",
    "for data_type in ['N1','REM', 'N2', 'N3', 'Wake']:\n",
    "    data_dict[data_type] = {}\n",
    "    for TS_Fresh_setting in ['Minimal', 'Efficient']:\n",
    "        \n",
    "        # Load the features \n",
    "        load_path = '/user/home/ko20929/work/RBD_using_custom_package/Data/freq_6_second_files/'\n",
    "        load_path_bpw = '/user/home/ko20929/work/RBD_using_custom_package/Data/freq_6_second_files/'\n",
    "        load_path_max_freqs = '/user/home/ko20929/work/RBD_using_custom_package/Execute New Experiments/Baseline_Extensions/Gen_New_Features/generated_feats/'\n",
    "        \n",
    "        loaded_data = {}\n",
    "        \n",
    "        X_y_groups = {}\n",
    "            \n",
    "        X_bpw = pd.read_hdf(load_path_bpw + data_type +  'six_second_freq_df.h5', key='df', mode='r')\n",
    "        y = pd.read_hdf(load_path + data_type +  '_y.h5', key='df', mode='r') \n",
    "        groups = pd.read_hdf(load_path + data_type +  '_groups.h5', key='df', mode='r')\n",
    "        X_bpw, y , groups = X_bpw.reset_index(drop = True) , y.reset_index(drop = True) , groups.reset_index(drop = True)\n",
    "        \n",
    "        X_max_freqs = pd.read_hdf(load_path_max_freqs + data_type +  'six_second_max_freq_stats_df.h5', key='df', mode='r')\n",
    "        X_max_freqs = X_max_freqs.reset_index(drop = True)\n",
    "        \n",
    "        X = pd.concat([X_bpw , X_max_freqs], axis = 1)\n",
    "        \n",
    "        #Transform the X into TS_Fresh Features___\n",
    "        # 1. Convert to TS_Fresh format Dataframe \n",
    "        ts_fresh_df = format_eeg_data.convert_sktime_df_to_ts_fresh_format(X, ts_cols = list(X.columns))\n",
    "        \n",
    "    \n",
    "        # 2. Extract TS_Fresh Features from the dataframe____________\n",
    "        if TS_Fresh_setting == 'Minimal':\n",
    "            settings = MinimalFCParameters()\n",
    "        elif TS_Fresh_setting == 'Efficient':\n",
    "            settings = EfficientFCParameters()\n",
    "        else:\n",
    "            raise Exception('No TS Fresh Parameter Setting Set!!')\n",
    "        \n",
    "        extracted_ts_fresh_df = extract_features(ts_fresh_df, column_id = 'id' , column_sort = 'time', default_fc_parameters=settings)\n",
    "        \n",
    "        # 3. Asign extract_ts_fresh_df to the variable X\n",
    "        X = extracted_ts_fresh_df.copy()\n",
    "        print(len(X.columns))\n",
    "        #Drop columns where all values are NA \n",
    "        X = X.dropna(axis = 1)\n",
    "        print(len(X.columns))\n",
    "        \n",
    "        #Drop columns where all values are the same\n",
    "        # Find columns where all values are the same\n",
    "        same_value_columns = X.columns[X.nunique() == 1]\n",
    "        # Drop columns with the same values\n",
    "        X = X.drop(columns=same_value_columns)\n",
    "        print(len(X.columns))\n",
    "    \n",
    "        #Generate a region to features dictionary - this will enable us to run expts regionally as before\n",
    "        regional_features_dict = {}\n",
    "        region_channel_dict = constants.region_to_channel_dict\n",
    "        regions = list(region_channel_dict.keys())\n",
    "        \n",
    "        for region in regions:\n",
    "            region_features = [col for col in X.columns if region + '_' in col]\n",
    "            regional_features_dict[region] = region_features\n",
    "        \n",
    "        #Save first row\n",
    "        X = X.iloc[:1,:]\n",
    "        \n",
    "        data_dict[data_type]['X_' + TS_Fresh_setting] = X\n",
    "        data_dict[data_type]['regional_features_dict'] = regional_features_dict"
   ]
  },
  {
   "cell_type": "code",
   "execution_count": 6,
   "id": "2d2592a8-f9b4-45d2-887e-8bc70020e577",
   "metadata": {},
   "outputs": [
    {
     "data": {
      "text/plain": [
       "['data_dict_2_region_only.pkl']"
      ]
     },
     "execution_count": 6,
     "metadata": {},
     "output_type": "execute_result"
    }
   ],
   "source": [
    "joblib.dump(data_dict, 'data_dict_2_region_only.pkl')"
   ]
  }
 ],
 "metadata": {
  "kernelspec": {
   "display_name": "Python 3 (ipykernel)",
   "language": "python",
   "name": "python3"
  },
  "language_info": {
   "codemirror_mode": {
    "name": "ipython",
    "version": 3
   },
   "file_extension": ".py",
   "mimetype": "text/x-python",
   "name": "python",
   "nbconvert_exporter": "python",
   "pygments_lexer": "ipython3",
   "version": "3.11.3"
  }
 },
 "nbformat": 4,
 "nbformat_minor": 5
}
