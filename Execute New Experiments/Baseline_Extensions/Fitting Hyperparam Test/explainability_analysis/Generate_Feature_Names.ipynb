{
 "cells": [
  {
   "cell_type": "code",
   "execution_count": 1,
   "id": "09785140-6b2e-4545-baf2-77257bf78fea",
   "metadata": {},
   "outputs": [
    {
     "name": "stderr",
     "output_type": "stream",
     "text": [
      "/user/home/ko20929/.conda/envs/sktime_latest/lib/python3.11/site-packages/antropy/fractal.py:197: NumbaDeprecationWarning: \u001b[1mThe 'nopython' keyword argument was not supplied to the 'numba.jit' decorator. The implicit default value for this argument is currently False, but it will be changed to True in Numba 0.59.0. See https://numba.readthedocs.io/en/stable/reference/deprecation.html#deprecation-of-object-mode-fall-back-behaviour-when-using-jit for details.\u001b[0m\n",
      "  @jit((types.Array(types.float64, 1, \"C\", readonly=True), types.int32))\n"
     ]
    }
   ],
   "source": [
    "import pandas as pd\n",
    "import mne as mne\n",
    "import os \n",
    "import time\n",
    "import numpy as np\n",
    "import matplotlib.pyplot as plt\n",
    "import joblib\n",
    "import constants\n",
    "from IPython.utils import io\n",
    "import time\n",
    "import sys\n",
    "import yasa\n",
    "from scipy.signal import welch\n",
    "\n",
    "from sklearn.model_selection import train_test_split\n",
    "from sklearn.pipeline import Pipeline\n",
    "from sklearn.model_selection import GroupShuffleSplit\n",
    "\n",
    "\n",
    "from sklearn.tree import DecisionTreeClassifier\n",
    "from sklearn.ensemble import RandomForestClassifier\n",
    "from sklearn.svm import SVC\n",
    "from sklearn.ensemble import AdaBoostClassifier\n",
    "from sklearn.model_selection import GridSearchCV\n",
    "from sklearn.model_selection import GroupKFold\n",
    "from sklearn.metrics import accuracy_score\n",
    "\n",
    "\n",
    "#Import my modules\n",
    "import format_eeg_data\n",
    "import constants\n",
    "import eeg_stat_ts\n",
    "import run_expts\n",
    "\n",
    "#TS Fresh Parameter Settings\n",
    "from tsfresh.feature_extraction import ComprehensiveFCParameters\n",
    "from tsfresh.feature_extraction import MinimalFCParameters\n",
    "from tsfresh.feature_extraction import EfficientFCParameters\n",
    "from tsfresh.feature_extraction import extract_features"
   ]
  },
  {
   "cell_type": "code",
   "execution_count": 4,
   "id": "165db844-25e6-4bb0-a01b-2e2b92f40d82",
   "metadata": {},
   "outputs": [],
   "source": [
    "TS_Fresh_setting, connectivity_setting = 'Minimal' , 'beta'"
   ]
  },
  {
   "cell_type": "code",
   "execution_count": 13,
   "id": "bd5b9e90-1e8a-4f45-8826-0fb95866b315",
   "metadata": {},
   "outputs": [
    {
     "name": "stderr",
     "output_type": "stream",
     "text": [
      "16-Nov-23 16:59:42 | WARNING | Dependency not available for matrix_profile, this feature will be disabled!\n",
      "Feature Extraction: 100%|██████████| 120/120 [00:02<00:00, 44.67it/s]\n"
     ]
    },
    {
     "name": "stdout",
     "output_type": "stream",
     "text": [
      "1950\n",
      "1950\n",
      "1948\n"
     ]
    },
    {
     "name": "stderr",
     "output_type": "stream",
     "text": [
      "16-Nov-23 16:59:48 | WARNING | Dependency not available for matrix_profile, this feature will be disabled!\n",
      "Feature Extraction: 100%|██████████| 120/120 [00:02<00:00, 50.05it/s]\n"
     ]
    },
    {
     "name": "stdout",
     "output_type": "stream",
     "text": [
      "1950\n",
      "1950\n",
      "1940\n"
     ]
    },
    {
     "name": "stderr",
     "output_type": "stream",
     "text": [
      "16-Nov-23 16:59:56 | WARNING | Dependency not available for matrix_profile, this feature will be disabled!\n",
      "Feature Extraction: 100%|██████████| 120/120 [00:02<00:00, 41.58it/s]\n"
     ]
    },
    {
     "name": "stdout",
     "output_type": "stream",
     "text": [
      "1950\n",
      "1950\n",
      "1931\n"
     ]
    },
    {
     "name": "stderr",
     "output_type": "stream",
     "text": [
      "16-Nov-23 17:00:03 | WARNING | Dependency not available for matrix_profile, this feature will be disabled!\n",
      "Feature Extraction: 100%|██████████| 120/120 [00:02<00:00, 40.33it/s]\n"
     ]
    },
    {
     "name": "stdout",
     "output_type": "stream",
     "text": [
      "1950\n",
      "1950\n",
      "1927\n"
     ]
    },
    {
     "name": "stderr",
     "output_type": "stream",
     "text": [
      "16-Nov-23 17:00:09 | WARNING | Dependency not available for matrix_profile, this feature will be disabled!\n",
      "Feature Extraction: 100%|██████████| 120/120 [00:02<00:00, 58.64it/s]\n"
     ]
    },
    {
     "name": "stdout",
     "output_type": "stream",
     "text": [
      "1950\n",
      "1950\n",
      "1950\n"
     ]
    }
   ],
   "source": [
    "data_dict = {}\n",
    "for data_type in ['N1','REM', 'N2', 'N3', 'Wake']:\n",
    "    data_dict[data_type] = {}\n",
    "    # Load the features \n",
    "    load_path = '/user/home/ko20929/work/RBD_using_custom_package/Data/freq_6_second_files/'\n",
    "    load_path_bpw = '/user/home/ko20929/work/RBD_using_custom_package/Data/freq_6_second_files/'\n",
    "    load_path_max_freqs = '/user/home/ko20929/work/RBD_using_custom_package/Execute New Experiments/Baseline_Extensions/Gen_New_Features/generated_feats/'\n",
    "    \n",
    "    loaded_data = {}\n",
    "    \n",
    "    X_y_groups = {}\n",
    "        \n",
    "    X_bpw = pd.read_hdf(load_path_bpw + data_type +  'six_second_freq_df.h5', key='df', mode='r')\n",
    "    y = pd.read_hdf(load_path + data_type +  '_y.h5', key='df', mode='r') \n",
    "    groups = pd.read_hdf(load_path + data_type +  '_groups.h5', key='df', mode='r')\n",
    "    X_bpw, y , groups = X_bpw.reset_index(drop = True) , y.reset_index(drop = True) , groups.reset_index(drop = True)\n",
    "    \n",
    "    X_max_freqs = pd.read_hdf(load_path_max_freqs + data_type +  'six_second_max_freq_stats_df.h5', key='df', mode='r')\n",
    "    X_max_freqs = X_max_freqs.reset_index(drop = True)\n",
    "    \n",
    "    X = pd.concat([X_bpw , X_max_freqs], axis = 1)\n",
    "    \n",
    "    #Transform the X into TS_Fresh Features___\n",
    "    # 1. Convert to TS_Fresh format Dataframe \n",
    "    ts_fresh_df = format_eeg_data.convert_sktime_df_to_ts_fresh_format(X, ts_cols = list(X.columns))\n",
    "    \n",
    "    # 2. Extract TS_Fresh Features from the dataframe\n",
    "    if TS_Fresh_setting == 'Minimal':\n",
    "        settings = MinimalFCParameters()\n",
    "    \n",
    "    extracted_ts_fresh_df = extract_features(ts_fresh_df, column_id = 'id' , column_sort = 'time', default_fc_parameters=settings)\n",
    "    \n",
    "    # 3. Asign extract_ts_fresh_df to the variable X\n",
    "    X = extracted_ts_fresh_df.copy()\n",
    "    print(len(X.columns))\n",
    "    #Drop columns where all values are NA \n",
    "    X = X.dropna(axis = 1)\n",
    "    print(len(X.columns))\n",
    "    \n",
    "    #Drop columns where all values are the same\n",
    "    # Find columns where all values are the same\n",
    "    same_value_columns = X.columns[X.nunique() == 1]\n",
    "    # Drop columns with the same values\n",
    "    X = X.drop(columns=same_value_columns)\n",
    "    print(len(X.columns))\n",
    "    \n",
    "    #___________load the appropriate connectivity features don't concatenate to non connectivity features until after dictionary generation\n",
    "    \n",
    "    connectivity_folder = '/user/home/ko20929/work/RBD_using_custom_package/Blue_pebble/Connectivity/'\n",
    "    X_connectivity = pd.read_hdf(connectivity_folder + data_type+ '_pli__df.h5')\n",
    "    \n",
    "    X_connectivity = X_connectivity[[col for col in X_connectivity.columns if connectivity_setting in col]]\n",
    "    \n",
    "    #Generate a region to features dictionary - this will enable us to run expts regionally as before\n",
    "    regional_features_dict = {}\n",
    "    region_channel_dict = constants.region_to_channel_dict\n",
    "    regions = list(region_channel_dict.keys())\n",
    "    for region in regions:\n",
    "        region_features = [col for col in X.columns if region + '_' in col]\n",
    "        if len(region_features) > 0 : \n",
    "            regional_features_dict[region] = region_features + list(X_connectivity.columns)\n",
    "    \n",
    "    #Now concatenate the regional frequency features dataframe with the connectivity dataframe\n",
    "    X = X.reset_index(drop=True)\n",
    "    X_connectivity = X_connectivity.reset_index(drop=True)\n",
    "    X = pd.concat([X , X_connectivity], axis = 1)\n",
    "    X = X.iloc[:1,:]\n",
    "    data_dict[data_type]['X'] = X\n",
    "    data_dict[data_type]['regional_features_dict'] = regional_features_dict"
   ]
  },
  {
   "cell_type": "code",
   "execution_count": 19,
   "id": "c8eba22e-7c5a-4d68-9c64-d442e23fb488",
   "metadata": {},
   "outputs": [
    {
     "data": {
      "text/plain": [
       "['data_dict.pkl']"
      ]
     },
     "execution_count": 19,
     "metadata": {},
     "output_type": "execute_result"
    }
   ],
   "source": [
    "joblib.dump(data_dict, 'data_dict.pkl')"
   ]
  },
  {
   "cell_type": "code",
   "execution_count": 20,
   "id": "687061c7-0a99-4571-a755-2bee76a8766b",
   "metadata": {},
   "outputs": [
    {
     "data": {
      "text/plain": [
       "dict_keys(['N1', 'REM', 'N2', 'N3', 'Wake'])"
      ]
     },
     "execution_count": 20,
     "metadata": {},
     "output_type": "execute_result"
    }
   ],
   "source": [
    "data_dict.keys()"
   ]
  },
  {
   "cell_type": "code",
   "execution_count": 21,
   "id": "00ea15df-19b6-4350-85f5-c86b7f7d3e03",
   "metadata": {},
   "outputs": [
    {
     "data": {
      "text/plain": [
       "dict_keys(['X', 'regional_features_dict'])"
      ]
     },
     "execution_count": 21,
     "metadata": {},
     "output_type": "execute_result"
    }
   ],
   "source": [
    "data_dict['N1'].keys()"
   ]
  },
  {
   "cell_type": "code",
   "execution_count": 22,
   "id": "87ed6c8c-53c5-4423-b28c-bbe2b72eb60f",
   "metadata": {},
   "outputs": [
    {
     "data": {
      "text/html": [
       "<div>\n",
       "<style scoped>\n",
       "    .dataframe tbody tr th:only-of-type {\n",
       "        vertical-align: middle;\n",
       "    }\n",
       "\n",
       "    .dataframe tbody tr th {\n",
       "        vertical-align: top;\n",
       "    }\n",
       "\n",
       "    .dataframe thead th {\n",
       "        text-align: right;\n",
       "    }\n",
       "</style>\n",
       "<table border=\"1\" class=\"dataframe\">\n",
       "  <thead>\n",
       "    <tr style=\"text-align: right;\">\n",
       "      <th></th>\n",
       "      <th>Delta_Central__sum_values</th>\n",
       "      <th>Delta_Central__median</th>\n",
       "      <th>Delta_Central__mean</th>\n",
       "      <th>Delta_Central__length</th>\n",
       "      <th>Delta_Central__standard_deviation</th>\n",
       "      <th>Delta_Central__variance</th>\n",
       "      <th>Delta_Central__root_mean_square</th>\n",
       "      <th>Delta_Central__maximum</th>\n",
       "      <th>Delta_Central__absolute_maximum</th>\n",
       "      <th>Delta_Central__minimum</th>\n",
       "      <th>...</th>\n",
       "      <th>beta_PO8_POz</th>\n",
       "      <th>beta_PO8_O1</th>\n",
       "      <th>beta_PO8_O2</th>\n",
       "      <th>beta_PO8_Oz</th>\n",
       "      <th>beta_POz_O1</th>\n",
       "      <th>beta_POz_O2</th>\n",
       "      <th>beta_POz_Oz</th>\n",
       "      <th>beta_O1_O2</th>\n",
       "      <th>beta_O1_Oz</th>\n",
       "      <th>beta_O2_Oz</th>\n",
       "    </tr>\n",
       "  </thead>\n",
       "  <tbody>\n",
       "    <tr>\n",
       "      <th>0</th>\n",
       "      <td>19.637975</td>\n",
       "      <td>0.387197</td>\n",
       "      <td>0.357054</td>\n",
       "      <td>55.0</td>\n",
       "      <td>0.125856</td>\n",
       "      <td>0.01584</td>\n",
       "      <td>0.378586</td>\n",
       "      <td>0.662517</td>\n",
       "      <td>0.662517</td>\n",
       "      <td>0.109404</td>\n",
       "      <td>...</td>\n",
       "      <td>0.26884</td>\n",
       "      <td>0.28482</td>\n",
       "      <td>0.316346</td>\n",
       "      <td>0.264954</td>\n",
       "      <td>0.274887</td>\n",
       "      <td>0.267113</td>\n",
       "      <td>0.249838</td>\n",
       "      <td>0.292593</td>\n",
       "      <td>0.264954</td>\n",
       "      <td>0.239905</td>\n",
       "    </tr>\n",
       "  </tbody>\n",
       "</table>\n",
       "<p>1 rows × 3544 columns</p>\n",
       "</div>"
      ],
      "text/plain": [
       "   Delta_Central__sum_values  Delta_Central__median  Delta_Central__mean  \\\n",
       "0                  19.637975               0.387197             0.357054   \n",
       "\n",
       "   Delta_Central__length  Delta_Central__standard_deviation  \\\n",
       "0                   55.0                           0.125856   \n",
       "\n",
       "   Delta_Central__variance  Delta_Central__root_mean_square  \\\n",
       "0                  0.01584                         0.378586   \n",
       "\n",
       "   Delta_Central__maximum  Delta_Central__absolute_maximum  \\\n",
       "0                0.662517                         0.662517   \n",
       "\n",
       "   Delta_Central__minimum  ...  beta_PO8_POz  beta_PO8_O1  beta_PO8_O2  \\\n",
       "0                0.109404  ...       0.26884      0.28482     0.316346   \n",
       "\n",
       "   beta_PO8_Oz  beta_POz_O1  beta_POz_O2  beta_POz_Oz  beta_O1_O2  beta_O1_Oz  \\\n",
       "0     0.264954     0.274887     0.267113     0.249838    0.292593    0.264954   \n",
       "\n",
       "   beta_O2_Oz  \n",
       "0    0.239905  \n",
       "\n",
       "[1 rows x 3544 columns]"
      ]
     },
     "execution_count": 22,
     "metadata": {},
     "output_type": "execute_result"
    }
   ],
   "source": [
    "data_dict['N1']['X']"
   ]
  },
  {
   "cell_type": "code",
   "execution_count": 78,
   "id": "dd719afb-1c4d-4f18-b266-78c7fb94dfcc",
   "metadata": {},
   "outputs": [
    {
     "data": {
      "text/plain": [
       "3600"
      ]
     },
     "execution_count": 78,
     "metadata": {},
     "output_type": "execute_result"
    }
   ],
   "source": [
    "(15*13*10) + 1650"
   ]
  }
 ],
 "metadata": {
  "kernelspec": {
   "display_name": "Python 3 (ipykernel)",
   "language": "python",
   "name": "python3"
  },
  "language_info": {
   "codemirror_mode": {
    "name": "ipython",
    "version": 3
   },
   "file_extension": ".py",
   "mimetype": "text/x-python",
   "name": "python",
   "nbconvert_exporter": "python",
   "pygments_lexer": "ipython3",
   "version": "3.11.3"
  }
 },
 "nbformat": 4,
 "nbformat_minor": 5
}
