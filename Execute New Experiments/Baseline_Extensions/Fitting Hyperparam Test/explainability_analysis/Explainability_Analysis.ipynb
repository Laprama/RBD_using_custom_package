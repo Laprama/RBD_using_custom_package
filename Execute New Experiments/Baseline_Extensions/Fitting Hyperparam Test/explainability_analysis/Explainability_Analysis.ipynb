{
 "cells": [
  {
   "cell_type": "code",
   "execution_count": 1,
   "id": "edbf9c28-bf66-47a1-91d8-c659f7205ef1",
   "metadata": {},
   "outputs": [
    {
     "name": "stderr",
     "output_type": "stream",
     "text": [
      "/user/home/ko20929/.conda/envs/sktime_latest/lib/python3.11/site-packages/antropy/fractal.py:197: NumbaDeprecationWarning: \u001b[1mThe 'nopython' keyword argument was not supplied to the 'numba.jit' decorator. The implicit default value for this argument is currently False, but it will be changed to True in Numba 0.59.0. See https://numba.readthedocs.io/en/stable/reference/deprecation.html#deprecation-of-object-mode-fall-back-behaviour-when-using-jit for details.\u001b[0m\n",
      "  @jit((types.Array(types.float64, 1, \"C\", readonly=True), types.int32))\n"
     ]
    }
   ],
   "source": [
    "import pandas as pd\n",
    "import mne as mne\n",
    "import os \n",
    "import time\n",
    "import numpy as np\n",
    "import matplotlib.pyplot as plt\n",
    "import joblib\n",
    "import constants\n",
    "from IPython.utils import io\n",
    "import time\n",
    "import sys\n",
    "import yasa\n",
    "from scipy.signal import welch\n",
    "\n",
    "from sklearn.model_selection import train_test_split\n",
    "from sklearn.pipeline import Pipeline\n",
    "from sklearn.model_selection import GroupShuffleSplit\n",
    "\n",
    "\n",
    "from sklearn.tree import DecisionTreeClassifier\n",
    "from sklearn.ensemble import RandomForestClassifier\n",
    "from sklearn.svm import SVC\n",
    "from sklearn.ensemble import AdaBoostClassifier\n",
    "from sklearn.model_selection import GridSearchCV\n",
    "from sklearn.model_selection import GroupKFold\n",
    "from sklearn.metrics import accuracy_score\n",
    "\n",
    "\n",
    "#Import my modules\n",
    "import format_eeg_data\n",
    "import constants\n",
    "import eeg_stat_ts\n",
    "import run_expts\n",
    "\n",
    "#TS Fresh Parameter Settings\n",
    "from tsfresh.feature_extraction import ComprehensiveFCParameters\n",
    "from tsfresh.feature_extraction import MinimalFCParameters\n",
    "from tsfresh.feature_extraction import EfficientFCParameters\n",
    "from tsfresh.feature_extraction import extract_features"
   ]
  },
  {
   "cell_type": "markdown",
   "id": "cee51160-b486-45ed-bc2f-8970fcbb3a60",
   "metadata": {},
   "source": [
    "#### Param Grids"
   ]
  },
  {
   "cell_type": "code",
   "execution_count": 4,
   "id": "ac3974a6-2d97-48dc-88dd-b1b4e5dcf32f",
   "metadata": {},
   "outputs": [],
   "source": [
    "RF_param_grid = { \n",
    "    'n_estimators': [1,2,3, 10, 40,100,250],\n",
    "    'max_features': [None, 'sqrt'],\n",
    "    'max_depth' : [2,3,5,8, None],\n",
    "    'criterion' :['gini',  'entropy'],\n",
    "    'min_samples_split' : [2,3,4,5]}\n",
    "\n",
    "DT_params =  {\n",
    "    'min_samples_leaf': [1, 2, 3 , 5 ,10],\n",
    "    'max_depth': [1, 2, 3, 5, None],\n",
    "    'criterion': [\"gini\", \"entropy\"],\n",
    "    'max_features': [None, 'sqrt']}\n",
    "\n",
    "Ada_grid =  { \n",
    "    'n_estimators': [2, 3, 5, 10, 20, 40, 50, 100],\n",
    "    'learning_rate': [0.01,0.05,  0.1, 0.2, 0.4, 1.0 , 2.0, 10.0]\n",
    "    }\n",
    "\n",
    "\n",
    "SVC_grid = {'C': [0.1, 1, 10, 100, 1000], \n",
    "                'gamma': [1, 0.1, 0.01, 0.001, 0.0001],\n",
    "                'kernel': ['linear', 'rbf']} "
   ]
  },
  {
   "cell_type": "markdown",
   "id": "9a80fdb0-14e3-4aaa-9a42-d41ec52c79dd",
   "metadata": {},
   "source": [
    "#### Construct list of settings for experiments"
   ]
  },
  {
   "cell_type": "code",
   "execution_count": 6,
   "id": "a98b7409-0a4f-40ff-8955-405b262d9596",
   "metadata": {},
   "outputs": [],
   "source": [
    "data_type = 'N1'\n",
    "TS_Fresh_setting, connectivity_setting = 'Minimal' , 'beta'\n",
    "\n",
    "settings = [] \n",
    "\n",
    "for data_type in  ['REM', 'N1', 'N2', 'N3', 'Wake']:\n",
    "    for expt_num in [1,2]:\n",
    "        for num_splits in [4]:\n",
    "            #Define Classifiers , they must be defined after num_splits but before clf_dicts\n",
    "            DT_dict = {'DT' : GridSearchCV( DecisionTreeClassifier(), DT_params , refit = True, verbose = 1, cv = GroupKFold(n_splits = num_splits) ) }\n",
    "            # RF_dict = {'RF' : GridSearchCV( RandomForestClassifier(n_jobs = -1), RF_param_grid , refit = True, verbose = 1, cv = GroupKFold(n_splits = num_splits)  ) }\n",
    "            Ada_dict = {'Ada' : GridSearchCV( AdaBoostClassifier(), Ada_grid , refit = True, verbose = 1, cv = GroupKFold(n_splits = num_splits) ) }\n",
    "            Svc_dict = {'SVC' : GridSearchCV( SVC(), SVC_grid , refit = True, verbose = 1, cv = GroupKFold(n_splits = num_splits) ) }\n",
    "            \n",
    "            for clf_dict in [DT_dict , Ada_dict , Svc_dict]:\n",
    "                settings.append( (data_type, expt_num , num_splits , clf_dict))\n",
    "\n",
    "# data_type, expt_num , num_splits , clf_dict = settings[int(sys.argv[1])]"
   ]
  },
  {
   "cell_type": "markdown",
   "id": "8ed9f430-2b7d-4fa5-af5e-4f10cd71b5af",
   "metadata": {},
   "source": [
    "#### Moving up a level in directory chain"
   ]
  },
  {
   "cell_type": "code",
   "execution_count": 14,
   "id": "f2bbeedf-fce6-4906-8ebb-9c73c61d8a98",
   "metadata": {},
   "outputs": [
    {
     "data": {
      "text/plain": [
       "'..'"
      ]
     },
     "execution_count": 14,
     "metadata": {},
     "output_type": "execute_result"
    }
   ],
   "source": [
    "os.pardir"
   ]
  },
  {
   "cell_type": "code",
   "execution_count": 16,
   "id": "93bbb95f-9b54-4b03-80f4-952fdb8dacda",
   "metadata": {},
   "outputs": [],
   "source": [
    "# Navigate up one level\n",
    "parent_dir = os.path.abspath(os.path.join(os.getcwd(), os.pardir))\n"
   ]
  },
  {
   "cell_type": "markdown",
   "id": "d3004b74-b0cc-473f-8793-8c7f7348e9ed",
   "metadata": {},
   "source": [
    "#### Load and save the single region only (no connectivity) models"
   ]
  },
  {
   "cell_type": "code",
   "execution_count": 3,
   "id": "dae55274-bd6d-408b-bcfa-08053348bcab",
   "metadata": {},
   "outputs": [
    {
     "data": {
      "text/plain": [
       "74.8173315525055"
      ]
     },
     "execution_count": 3,
     "metadata": {},
     "output_type": "execute_result"
    }
   ],
   "source": [
    "t1 = time.time()\n",
    "\n",
    "folder = '../tuned_region_only_models_and_results/run_2'\n",
    "data_types = ['N1','REM', 'N2', 'N3', 'Wake']\n",
    "expt_nums = [1,2]\n",
    "models = ['DT', 'Ada']\n",
    "TS_Fresh_settings = ['Minimal', 'Efficient']\n",
    "num_splits = 4\n",
    "\n",
    "clfs_dicts_loaded = {}\n",
    "results_dfs_loaded = {}\n",
    "\n",
    "for data_type in data_types: \n",
    "    for expt_num in expt_nums:\n",
    "        for model in models:\n",
    "            for TS_Fresh_setting in TS_Fresh_settings:\n",
    "                df_save_name = model + '_' + data_type + '_' + TS_Fresh_setting + '_' + 'expt' + str(expt_num) + '_' +  str(num_splits) + '_fold_results_df.pkl'\n",
    "                results_df = joblib.load(folder + df_save_name)\n",
    "                results_dfs_loaded[data_type + str(expt_num) + model + TS_Fresh_setting] = results_df\n",
    "                \n",
    "                clf_dict_save_name = model + '_' + data_type + '_' + TS_Fresh_setting  + '_' + 'expt' + str(expt_num) + '_' +  str(num_splits) + '_clfs_dict.pkl'\n",
    "                clf_dict = joblib.load(folder + clf_dict_save_name)\n",
    "                clfs_dicts_loaded[data_type + str(expt_num) + model + TS_Fresh_setting] = clf_dict\n",
    "\n",
    "joblib.dump(clfs_dicts_loaded , 'run_2_region_only_no_connectivity_tuned_clfs_dicts_loaded.pkl')\n",
    "joblib.dump(results_dfs_loaded , 'run_2_region_only_no_connectivity_tuned_results_dfs_loaded.pkl')\n",
    "\n",
    "t2 = time.time()\n",
    "\n",
    "t2-t1"
   ]
  },
  {
   "cell_type": "code",
   "execution_count": null,
   "id": "7ba320ed-ba95-4a72-8002-0a627dd6497b",
   "metadata": {},
   "outputs": [],
   "source": [
    "one_they_say = 'run2DT_N1_Minimal_expt1_4_fold_results_df.pkl'\n",
    "actual_name = 'run_2DT_N1_Minimal_expt1_4_fold_results_df.pkl'"
   ]
  },
  {
   "cell_type": "markdown",
   "id": "da5409c6-a85b-40c8-ba07-21e9f78a24f4",
   "metadata": {},
   "source": [
    "#### Load and save the single region only (no connectivity) baseline models"
   ]
  },
  {
   "cell_type": "code",
   "execution_count": 8,
   "id": "11adcd1a-2659-4831-a25a-38b400737a4b",
   "metadata": {},
   "outputs": [
    {
     "data": {
      "text/plain": [
       "23.894187211990356"
      ]
     },
     "execution_count": 8,
     "metadata": {},
     "output_type": "execute_result"
    }
   ],
   "source": [
    "t1 = time.time()\n",
    "\n",
    "folder = '../tuned_region_only_models_and_results/baseline_'\n",
    "data_types = ['N1','REM', 'N2', 'N3', 'Wake']\n",
    "expt_nums = [1,2]\n",
    "models = ['DT', 'Ada']\n",
    "TS_Fresh_settings = ['no_setting']\n",
    "num_splits = 4\n",
    "\n",
    "clfs_dicts_loaded = {}\n",
    "results_dfs_loaded = {}\n",
    "\n",
    "for data_type in data_types: \n",
    "    for expt_num in expt_nums:\n",
    "        for model in models:\n",
    "            for TS_Fresh_setting in TS_Fresh_settings:\n",
    "                df_save_name = model + '_' + data_type + '_' + TS_Fresh_setting + '_' + 'expt' + str(expt_num) + '_' +  str(num_splits) + '_fold_results_df.pkl'\n",
    "                results_df = joblib.load(folder + df_save_name)\n",
    "                results_dfs_loaded[data_type + str(expt_num) + model + TS_Fresh_setting] = results_df\n",
    "                \n",
    "                clf_dict_save_name = model + '_' + data_type + '_' + TS_Fresh_setting  + '_' + 'expt' + str(expt_num) + '_' +  str(num_splits) + '_clfs_dict.pkl'\n",
    "                clf_dict = joblib.load(folder + clf_dict_save_name)\n",
    "                clfs_dicts_loaded[data_type + str(expt_num) + model + TS_Fresh_setting] = clf_dict\n",
    "\n",
    "joblib.dump(clfs_dicts_loaded , 'baseline_region_only_no_connectivity_tuned_clfs_dicts_loaded.pkl')\n",
    "joblib.dump(results_dfs_loaded , 'baseline_region_only_no_connectivity_tuned_results_dfs_loaded.pkl')\n",
    "\n",
    "t2 = time.time()\n",
    "\n",
    "t2-t1"
   ]
  },
  {
   "cell_type": "code",
   "execution_count": null,
   "id": "b0d54127-11db-4896-9cdf-3f279c085cf6",
   "metadata": {},
   "outputs": [],
   "source": [
    "results_dfs_loaded"
   ]
  },
  {
   "cell_type": "markdown",
   "id": "2ba2dfc7-82e5-4da0-bc36-fc75a707b0ba",
   "metadata": {},
   "source": [
    "#### Work out how to load results files"
   ]
  },
  {
   "cell_type": "code",
   "execution_count": 4,
   "id": "e5b22bf8-bee2-4231-8477-d12d7edaf58d",
   "metadata": {},
   "outputs": [],
   "source": [
    "TS_Fresh_setting, connectivity_setting = 'Minimal' , 'beta'"
   ]
  },
  {
   "cell_type": "markdown",
   "id": "5b715c00-7baf-46e3-a869-559d104bb4f1",
   "metadata": {},
   "source": [
    "##### Loading non-tuned dual region models"
   ]
  },
  {
   "cell_type": "code",
   "execution_count": 5,
   "id": "735cf96f-01a0-4e40-84d6-799d4ae47086",
   "metadata": {},
   "outputs": [
    {
     "data": {
      "text/plain": [
       "2.413875102996826"
      ]
     },
     "execution_count": 5,
     "metadata": {},
     "output_type": "execute_result"
    }
   ],
   "source": [
    "t1 = time.time()\n",
    "\n",
    "folder = '../non_tuned_models_and_results/dual_region_'\n",
    "data_types = ['N1','REM', 'N2', 'N3', 'Wake']\n",
    "expt_nums = [1,2,3,4]\n",
    "models = ['DT', 'RF', 'Ada', 'SVC']\n",
    "\n",
    "clfs_dicts_loaded = {}\n",
    "results_dfs_loaded = {}\n",
    "\n",
    "for data_type in data_types: \n",
    "    for expt_num in expt_nums:\n",
    "        for model in models:\n",
    "            df_save_name = model + '_' + data_type + '_' + TS_Fresh_setting + '_' + connectivity_setting + '_' + 'expt' + str(expt_num) + '_results_df.pkl'\n",
    "            # clf_dict_save_name = model + '_' + data_type + '_' + TS_Fresh_setting + '_' + connectivity_setting + '_' + 'expt' + str(expt_num) + '_clfs_dict.pkl'\n",
    "            \n",
    "            results_df = joblib.load(folder + df_save_name)\n",
    "            # clf_dict = joblib.load(folder + clf_dict_save_name)\n",
    "            \n",
    "            # clfs_dicts_loaded[data_type + str(expt_num) + model] = clf_dict\n",
    "            results_dfs_loaded[data_type + str(expt_num) + model] = results_df\n",
    "\n",
    "# joblib.dump(clfs_dicts_loaded , 'non_tuned_clfs_dicts_loaded.pkl')\n",
    "joblib.dump(results_dfs_loaded , 'dual_region_non_tuned_results_dfs_loaded.pkl')\n",
    "\n",
    "\n",
    "t2 = time.time()\n",
    "\n",
    "t2-t1"
   ]
  },
  {
   "cell_type": "markdown",
   "id": "20654b67-900d-48ce-ac71-7009fa10a824",
   "metadata": {},
   "source": [
    "##### Loading tuned dual region models"
   ]
  },
  {
   "cell_type": "code",
   "execution_count": null,
   "id": "c7c20ed6-73e0-4527-b170-fc6a4504cf04",
   "metadata": {},
   "outputs": [],
   "source": [
    "'dual_region_rstate2Ada_N1_Minimal_beta_expt1_4_clfs_dict.pkl'\n",
    "'dual_region_rstate2Ada_N1_Minimal_beta_expt1_4_fold_results_df.pkl'"
   ]
  },
  {
   "cell_type": "code",
   "execution_count": 7,
   "id": "92133110-3834-4b64-9d45-130b1f3b83b0",
   "metadata": {},
   "outputs": [
    {
     "data": {
      "text/html": [
       "<div>\n",
       "<style scoped>\n",
       "    .dataframe tbody tr th:only-of-type {\n",
       "        vertical-align: middle;\n",
       "    }\n",
       "\n",
       "    .dataframe tbody tr th {\n",
       "        vertical-align: top;\n",
       "    }\n",
       "\n",
       "    .dataframe thead th {\n",
       "        text-align: right;\n",
       "    }\n",
       "</style>\n",
       "<table border=\"1\" class=\"dataframe\">\n",
       "  <thead>\n",
       "    <tr style=\"text-align: right;\">\n",
       "      <th></th>\n",
       "      <th>random_state</th>\n",
       "      <th>y_true</th>\n",
       "      <th>Prefrontal_Frontal_DT_y_preds</th>\n",
       "      <th>y_train</th>\n",
       "      <th>Prefrontal_Frontal_DT_best_clf_params</th>\n",
       "      <th>Prefrontal_Frontal_DT_cv_results</th>\n",
       "      <th>Prefrontal_Frontal_DT_y_train_preds</th>\n",
       "      <th>Prefrontal_Left Frontal_DT_y_preds</th>\n",
       "      <th>Prefrontal_Left Frontal_DT_best_clf_params</th>\n",
       "      <th>Prefrontal_Left Frontal_DT_cv_results</th>\n",
       "      <th>...</th>\n",
       "      <th>Left Parietal_Right Parietal_DT_cv_results</th>\n",
       "      <th>Left Parietal_Right Parietal_DT_y_train_preds</th>\n",
       "      <th>Left Parietal_Occipital_DT_y_preds</th>\n",
       "      <th>Left Parietal_Occipital_DT_best_clf_params</th>\n",
       "      <th>Left Parietal_Occipital_DT_cv_results</th>\n",
       "      <th>Left Parietal_Occipital_DT_y_train_preds</th>\n",
       "      <th>Right Parietal_Occipital_DT_y_preds</th>\n",
       "      <th>Right Parietal_Occipital_DT_best_clf_params</th>\n",
       "      <th>Right Parietal_Occipital_DT_cv_results</th>\n",
       "      <th>Right Parietal_Occipital_DT_y_train_preds</th>\n",
       "    </tr>\n",
       "  </thead>\n",
       "  <tbody>\n",
       "    <tr>\n",
       "      <th>0</th>\n",
       "      <td>2</td>\n",
       "      <td>[[0, 0, 0, 1, 1, 1, 1, 1], [0, 0, 0, 0, 1, 1, ...</td>\n",
       "      <td>[[0, 0, 0, 1, 1, 1, 1, 1], [0, 1, 0, 1, 1, 0, ...</td>\n",
       "      <td>[[0, 0, 0, 0, 0, 0, 0, 0, 0, 0, 0, 0, 0, 0, 0,...</td>\n",
       "      <td>[{'criterion': 'gini', 'max_depth': 1, 'max_fe...</td>\n",
       "      <td>mean_fit_time  std_fit_time  mean_score_ti...</td>\n",
       "      <td>[[1, 0, 0, 0, 0, 0, 1, 0, 0, 0, 0, 0, 0, 0, 0,...</td>\n",
       "      <td>[[0, 1, 0, 1, 1, 1, 1, 1], [0, 0, 0, 0, 0, 1, ...</td>\n",
       "      <td>[{'criterion': 'gini', 'max_depth': 3, 'max_fe...</td>\n",
       "      <td>mean_fit_time  std_fit_time  mean_score_ti...</td>\n",
       "      <td>...</td>\n",
       "      <td>mean_fit_time  std_fit_time  mean_score_ti...</td>\n",
       "      <td>[[0, 0, 1, 0, 0, 0, 0, 0, 0, 0, 0, 1, 0, 0, 0,...</td>\n",
       "      <td>[[0, 1, 0, 1, 0, 0, 0, 0], [1, 0, 1, 1, 0, 1, ...</td>\n",
       "      <td>[{'criterion': 'entropy', 'max_depth': 3, 'max...</td>\n",
       "      <td>mean_fit_time  std_fit_time  mean_score_ti...</td>\n",
       "      <td>[[0, 1, 0, 0, 0, 0, 0, 0, 0, 0, 0, 0, 0, 1, 0,...</td>\n",
       "      <td>[[0, 1, 1, 1, 0, 1, 1, 1], [0, 1, 0, 0, 0, 1, ...</td>\n",
       "      <td>[{'criterion': 'gini', 'max_depth': 2, 'max_fe...</td>\n",
       "      <td>mean_fit_time  std_fit_time  mean_score_ti...</td>\n",
       "      <td>[[0, 0, 1, 0, 0, 0, 0, 0, 0, 0, 0, 1, 0, 0, 0,...</td>\n",
       "    </tr>\n",
       "  </tbody>\n",
       "</table>\n",
       "<p>1 rows × 315 columns</p>\n",
       "</div>"
      ],
      "text/plain": [
       "   random_state                                             y_true  \\\n",
       "0             2  [[0, 0, 0, 1, 1, 1, 1, 1], [0, 0, 0, 0, 1, 1, ...   \n",
       "\n",
       "                       Prefrontal_Frontal_DT_y_preds  \\\n",
       "0  [[0, 0, 0, 1, 1, 1, 1, 1], [0, 1, 0, 1, 1, 0, ...   \n",
       "\n",
       "                                             y_train  \\\n",
       "0  [[0, 0, 0, 0, 0, 0, 0, 0, 0, 0, 0, 0, 0, 0, 0,...   \n",
       "\n",
       "               Prefrontal_Frontal_DT_best_clf_params  \\\n",
       "0  [{'criterion': 'gini', 'max_depth': 1, 'max_fe...   \n",
       "\n",
       "                    Prefrontal_Frontal_DT_cv_results  \\\n",
       "0      mean_fit_time  std_fit_time  mean_score_ti...   \n",
       "\n",
       "                 Prefrontal_Frontal_DT_y_train_preds  \\\n",
       "0  [[1, 0, 0, 0, 0, 0, 1, 0, 0, 0, 0, 0, 0, 0, 0,...   \n",
       "\n",
       "                  Prefrontal_Left Frontal_DT_y_preds  \\\n",
       "0  [[0, 1, 0, 1, 1, 1, 1, 1], [0, 0, 0, 0, 0, 1, ...   \n",
       "\n",
       "          Prefrontal_Left Frontal_DT_best_clf_params  \\\n",
       "0  [{'criterion': 'gini', 'max_depth': 3, 'max_fe...   \n",
       "\n",
       "               Prefrontal_Left Frontal_DT_cv_results  ...  \\\n",
       "0      mean_fit_time  std_fit_time  mean_score_ti...  ...   \n",
       "\n",
       "          Left Parietal_Right Parietal_DT_cv_results  \\\n",
       "0      mean_fit_time  std_fit_time  mean_score_ti...   \n",
       "\n",
       "       Left Parietal_Right Parietal_DT_y_train_preds  \\\n",
       "0  [[0, 0, 1, 0, 0, 0, 0, 0, 0, 0, 0, 1, 0, 0, 0,...   \n",
       "\n",
       "                  Left Parietal_Occipital_DT_y_preds  \\\n",
       "0  [[0, 1, 0, 1, 0, 0, 0, 0], [1, 0, 1, 1, 0, 1, ...   \n",
       "\n",
       "          Left Parietal_Occipital_DT_best_clf_params  \\\n",
       "0  [{'criterion': 'entropy', 'max_depth': 3, 'max...   \n",
       "\n",
       "               Left Parietal_Occipital_DT_cv_results  \\\n",
       "0      mean_fit_time  std_fit_time  mean_score_ti...   \n",
       "\n",
       "            Left Parietal_Occipital_DT_y_train_preds  \\\n",
       "0  [[0, 1, 0, 0, 0, 0, 0, 0, 0, 0, 0, 0, 0, 1, 0,...   \n",
       "\n",
       "                 Right Parietal_Occipital_DT_y_preds  \\\n",
       "0  [[0, 1, 1, 1, 0, 1, 1, 1], [0, 1, 0, 0, 0, 1, ...   \n",
       "\n",
       "         Right Parietal_Occipital_DT_best_clf_params  \\\n",
       "0  [{'criterion': 'gini', 'max_depth': 2, 'max_fe...   \n",
       "\n",
       "              Right Parietal_Occipital_DT_cv_results  \\\n",
       "0      mean_fit_time  std_fit_time  mean_score_ti...   \n",
       "\n",
       "           Right Parietal_Occipital_DT_y_train_preds  \n",
       "0  [[0, 0, 1, 0, 0, 0, 0, 0, 0, 0, 0, 1, 0, 0, 0,...  \n",
       "\n",
       "[1 rows x 315 columns]"
      ]
     },
     "execution_count": 7,
     "metadata": {},
     "output_type": "execute_result"
    }
   ],
   "source": [
    "results_df = joblib.load('../tuned_models_and_results/dual_region_rstate2DT_Wake_Minimal_beta_expt2_4_fold_results_df.pkl')\n",
    "results_df"
   ]
  },
  {
   "cell_type": "code",
   "execution_count": 10,
   "id": "4c917d43-7fd4-42f4-856a-9f8b763d44cc",
   "metadata": {},
   "outputs": [
    {
     "data": {
      "text/plain": [
       "2.6148440837860107"
      ]
     },
     "execution_count": 10,
     "metadata": {},
     "output_type": "execute_result"
    }
   ],
   "source": [
    "t1 = time.time()\n",
    "\n",
    "folder = '../tuned_models_and_results/dual_region_rstate'\n",
    "\n",
    "data_types = ['N1','REM', 'N2', 'N3', 'Wake']\n",
    "expt_nums = [1,2]\n",
    "num_splits = 4\n",
    "\n",
    "models = ['DT', 'RF', 'Ada', 'SVC']\n",
    "models = ['DT', 'Ada']\n",
    "\n",
    "\n",
    "clfs_dicts_loaded = {}\n",
    "results_dfs_loaded = {}\n",
    "\n",
    "for data_type in data_types: \n",
    "    for expt_num in expt_nums:\n",
    "        for model in models:\n",
    "            for rstate in [2]:\n",
    "                df_save_name = str(rstate) + model + '_' + data_type + '_' + TS_Fresh_setting + '_' + connectivity_setting + '_' + 'expt' + str(expt_num) + '_' +  str(num_splits) + '_fold_results_df.pkl'\n",
    "                # clf_dict_save_name = model + '_' + data_type + '_' + TS_Fresh_setting + '_' + connectivity_setting + '_' + 'expt' + str(expt_num) + '_clfs_dict.pkl'\n",
    "                \n",
    "                results_df = joblib.load(folder + df_save_name)\n",
    "                # clf_dict = joblib.load(folder + clf_dict_save_name)\n",
    "                \n",
    "                # clfs_dicts_loaded[data_type + str(expt_num) + model] = clf_dict\n",
    "                results_dfs_loaded[data_type + str(expt_num) + model + str(rstate)] = results_df\n",
    "\n",
    "# joblib.dump(clfs_dicts_loaded , 'non_tuned_clfs_dicts_loaded.pkl')\n",
    "joblib.dump(results_dfs_loaded , 'dual_region_tuned_results_dfs_loaded.pkl')\n",
    "\n",
    "\n",
    "t2 = time.time()\n",
    "\n",
    "t2-t1"
   ]
  },
  {
   "cell_type": "markdown",
   "id": "17fc1286-791e-4799-8ad3-4dfc1fde7a45",
   "metadata": {},
   "source": [
    "##### Loading tuned models"
   ]
  },
  {
   "cell_type": "code",
   "execution_count": 23,
   "id": "95bd42f3-80ea-4971-ad31-b925841b311e",
   "metadata": {},
   "outputs": [
    {
     "data": {
      "text/plain": [
       "78.12610149383545"
      ]
     },
     "execution_count": 23,
     "metadata": {},
     "output_type": "execute_result"
    }
   ],
   "source": [
    "t1 = time.time()\n",
    "\n",
    "data_types = ['N1','REM', 'N2', 'N3', 'Wake']\n",
    "expt_nums_tuned = [1,2]\n",
    "models_tuned = ['DT', 'RF', 'Ada']\n",
    "folder = '../tuned_models_and_results/'\n",
    "\n",
    "tuned_clfs_dicts_loaded = {}\n",
    "tuned_results_dfs_loaded = {}\n",
    "\n",
    "for data_type in data_types: \n",
    "    for expt_num in expt_nums_tuned:\n",
    "        for model in models_tuned:\n",
    "            df_save_name = model + '_' + data_type + '_' + TS_Fresh_setting + '_' + connectivity_setting + '_' + 'expt' + str(expt_num) + '_' +  str(num_splits) + '_fold_results_df.pkl'\n",
    "            clf_dict_save_name = model + '_' + data_type + '_' + TS_Fresh_setting + '_' + connectivity_setting + '_' + 'expt' + str(expt_num) + '_' +  str(num_splits) + '_clfs_dict.pkl'\n",
    "            \n",
    "            results_df = joblib.load(folder + df_save_name)\n",
    "            clf_dict = joblib.load(folder + clf_dict_save_name)\n",
    "            clfs_dicts_loaded[data_type + str(expt_num) + model] = clf_dict\n",
    "            results_dfs_loaded[data_type + str(expt_num) + model] = results_df\n",
    "            \n",
    "joblib.dump(clfs_dicts_loaded , 'tuned_clfs_dicts_loaded.pkl')\n",
    "joblib.dump(results_dfs_loaded , 'tuned_results_dfs_loaded.pkl')\n",
    "\n",
    "t2 = time.time()\n",
    "\n",
    "t2-t1"
   ]
  },
  {
   "cell_type": "code",
   "execution_count": 24,
   "id": "527ec0ac-8434-4e29-901b-63bee6746739",
   "metadata": {},
   "outputs": [
    {
     "data": {
      "text/plain": [
       "['tuned_results_dfs_loaded.pkl']"
      ]
     },
     "execution_count": 24,
     "metadata": {},
     "output_type": "execute_result"
    }
   ],
   "source": [
    "joblib.dump(results_dfs_loaded , 'tuned_results_dfs_loaded.pkl')"
   ]
  },
  {
   "cell_type": "markdown",
   "id": "2ff09ff6-cc86-4a50-b09d-cc972219ef32",
   "metadata": {},
   "source": [
    "##### Load features for specified datatype (needed for explainability plots)"
   ]
  },
  {
   "cell_type": "code",
   "execution_count": 51,
   "id": "c28a65a2-b3f7-4ac0-af60-aed9ada2dd5d",
   "metadata": {},
   "outputs": [
    {
     "name": "stderr",
     "output_type": "stream",
     "text": [
      "16-Nov-23 16:30:27 | WARNING | Dependency not available for matrix_profile, this feature will be disabled!\n",
      "Feature Extraction: 100%|██████████| 120/120 [00:03<00:00, 31.85it/s]\n"
     ]
    },
    {
     "name": "stdout",
     "output_type": "stream",
     "text": [
      "1950\n",
      "1950\n",
      "1948\n"
     ]
    }
   ],
   "source": [
    "data_type = 'N1'\n",
    "# Load the features \n",
    "load_path = '/user/home/ko20929/work/RBD_using_custom_package/Data/freq_6_second_files/'\n",
    "load_path_bpw = '/user/home/ko20929/work/RBD_using_custom_package/Data/freq_6_second_files/'\n",
    "load_path_max_freqs = '/user/home/ko20929/work/RBD_using_custom_package/Execute New Experiments/Baseline_Extensions/Gen_New_Features/generated_feats/'\n",
    "\n",
    "loaded_data = {}\n",
    "\n",
    "X_y_groups = {}\n",
    "    \n",
    "X_bpw = pd.read_hdf(load_path_bpw + data_type +  'six_second_freq_df.h5', key='df', mode='r')\n",
    "y = pd.read_hdf(load_path + data_type +  '_y.h5', key='df', mode='r') \n",
    "groups = pd.read_hdf(load_path + data_type +  '_groups.h5', key='df', mode='r')\n",
    "X_bpw, y , groups = X_bpw.reset_index(drop = True) , y.reset_index(drop = True) , groups.reset_index(drop = True)\n",
    "\n",
    "X_max_freqs = pd.read_hdf(load_path_max_freqs + data_type +  'six_second_max_freq_stats_df.h5', key='df', mode='r')\n",
    "X_max_freqs = X_max_freqs.reset_index(drop = True)\n",
    "\n",
    "X = pd.concat([X_bpw , X_max_freqs], axis = 1)\n",
    "\n",
    "#Transform the X into TS_Fresh Features___\n",
    "# 1. Convert to TS_Fresh format Dataframe \n",
    "ts_fresh_df = format_eeg_data.convert_sktime_df_to_ts_fresh_format(X, ts_cols = list(X.columns))\n",
    "\n",
    "# 2. Extract TS_Fresh Features from the dataframe\n",
    "if TS_Fresh_setting == 'Minimal':\n",
    "    settings = MinimalFCParameters()\n",
    "\n",
    "extracted_ts_fresh_df = extract_features(ts_fresh_df, column_id = 'id' , column_sort = 'time', default_fc_parameters=settings)\n",
    "\n",
    "# 3. Asign extract_ts_fresh_df to the variable X\n",
    "X = extracted_ts_fresh_df.copy()\n",
    "print(len(X.columns))\n",
    "#Drop columns where all values are NA \n",
    "X = X.dropna(axis = 1)\n",
    "print(len(X.columns))\n",
    "\n",
    "#Drop columns where all values are the same\n",
    "# Find columns where all values are the same\n",
    "same_value_columns = X.columns[X.nunique() == 1]\n",
    "# Drop columns with the same values\n",
    "X = X.drop(columns=same_value_columns)\n",
    "print(len(X.columns))\n",
    "\n",
    "#___________load the appropriate connectivity features don't concatenate to non connectivity features until after dictionary generation\n",
    "\n",
    "connectivity_folder = '/user/home/ko20929/work/RBD_using_custom_package/Blue_pebble/Connectivity/'\n",
    "X_connectivity = pd.read_hdf(connectivity_folder + data_type+ '_pli__df.h5')\n",
    "\n",
    "X_connectivity = X_connectivity[[col for col in X_connectivity.columns if connectivity_setting in col]]\n",
    "\n",
    "#Generate a region to features dictionary - this will enable us to run expts regionally as before\n",
    "regional_features_dict = {}\n",
    "region_channel_dict = constants.region_to_channel_dict\n",
    "regions = list(region_channel_dict.keys())\n",
    "for region in regions:\n",
    "    region_features = [col for col in X.columns if region + '_' in col]\n",
    "    if len(region_features) > 0 : \n",
    "        regional_features_dict[region] = region_features + list(X_connectivity.columns)\n",
    "\n",
    "#Now concatenate the regional frequency features dataframe with the connectivity dataframe\n",
    "X = X.reset_index(drop=True)\n",
    "X_connectivity = X_connectivity.reset_index(drop=True)\n",
    "X = pd.concat([X , X_connectivity], axis = 1)"
   ]
  },
  {
   "cell_type": "markdown",
   "id": "422ab7fe-af53-4c5f-a5f5-93ea91824ff6",
   "metadata": {},
   "source": [
    "##### Doing the plots for explainability"
   ]
  },
  {
   "cell_type": "code",
   "execution_count": 15,
   "id": "9b292618-92da-4f85-808c-f1a0e7846c4f",
   "metadata": {},
   "outputs": [
    {
     "name": "stdout",
     "output_type": "stream",
     "text": [
      "['Prefrontal', 'Frontal', 'Left Frontal', 'Right Frontal']\n"
     ]
    },
    {
     "data": {
      "text/plain": [
       "'Left Frontal'"
      ]
     },
     "execution_count": 15,
     "metadata": {},
     "output_type": "execute_result"
    }
   ],
   "source": [
    "region_channel_dict = constants.region_to_channel_dict\n",
    "regions = list(region_channel_dict.keys())\n",
    "print(regions[:4] )\n",
    "region = regions[0]\n",
    "regions[2]"
   ]
  },
  {
   "cell_type": "code",
   "execution_count": 30,
   "id": "12c5ef2a-4348-4fbf-8e26-86987a28690e",
   "metadata": {},
   "outputs": [
    {
     "data": {
      "text/plain": [
       "0.11792476415070755"
      ]
     },
     "execution_count": 30,
     "metadata": {},
     "output_type": "execute_result"
    }
   ],
   "source": [
    "np.array(fold_accs_per_region['Left Frontal']).std()"
   ]
  },
  {
   "cell_type": "code",
   "execution_count": 50,
   "id": "766c3b44-6d6a-47d1-8c5e-7713b4c20972",
   "metadata": {},
   "outputs": [
    {
     "data": {
      "text/plain": [
       "[0.5,\n",
       " 0.3625,\n",
       " 0.4875,\n",
       " 0.35,\n",
       " 0.525,\n",
       " 0.5,\n",
       " 0.4875,\n",
       " 0.4875,\n",
       " 0.4875,\n",
       " 0.4375,\n",
       " 0.4375,\n",
       " 0.4625,\n",
       " 0.4]"
      ]
     },
     "execution_count": 50,
     "metadata": {},
     "output_type": "execute_result"
    }
   ],
   "source": [
    "model, expt_num, data_type = 'Ada' , 1 , 'REM'\n",
    "clf_dict = clfs_dicts_loaded[data_type + str(expt_num) + model] \n",
    "results_df = results_dfs_loaded[data_type + str(expt_num) + model]\n",
    "\n",
    "\n",
    "mean_accs_per_region = []\n",
    "fold_accs_per_region = {}\n",
    "\n",
    "clf_name = model\n",
    "for region in regions[:13]:\n",
    "    y_preds = results_df[region+ '_' + clf_name + '_y_preds'][0] + results_df[region+ '_' + clf_name + '_y_preds'][1]\n",
    "    y_true = results_df['y_true'][0] + results_df['y_true'][1]\n",
    "    acc_scores= [accuracy_score(y_preds, y_true) for y_preds, y_true in zip(y_preds,y_true)]\n",
    "\n",
    "    fold_accs_per_region[region] = acc_scores\n",
    "    \n",
    "    mean_accs_per_region.append( np.array(acc_scores).mean() )\n",
    "\n",
    "mean_accs_per_region"
   ]
  },
  {
   "cell_type": "code",
   "execution_count": 26,
   "id": "1f4adb8f-ae27-4644-a2d8-1c261845ed52",
   "metadata": {},
   "outputs": [],
   "source": [
    "\n",
    "\n",
    "# clfs_list = clf_dict[region + '_Ada'][0] + clf_dict[region + '_Ada'][1] \n",
    "# features = list(X[regional_features_dict[region]].columns)\n",
    "# mean_importances = np.array([clf.feature_importances_ for clf in clfs_list]).mean(axis = 0)"
   ]
  },
  {
   "cell_type": "code",
   "execution_count": 63,
   "id": "77f283f4-8e60-4fdf-91c5-9edb0b5ae53f",
   "metadata": {},
   "outputs": [
    {
     "data": {
      "image/png": "[encoded data removed]",
      "text/plain": [
       "<Figure size 2000x1000 with 1 Axes>"
      ]
     },
     "metadata": {},
     "output_type": "display_data"
    }
   ],
   "source": [
    "sorted_idx = mean_importances.argsort()\n",
    "\n",
    "plt.rcParams[\"figure.figsize\"] = plt.rcParamsDefault[\"figure.figsize\"]\n",
    "plt.rcParams[\"figure.figsize\"] = (20,10)\n",
    "plt.barh(X[regional_features_dict[region]].columns[sorted_idx][-30:] , mean_importances[sorted_idx][-30:])\n",
    "plt.xlabel(\"Feature Importance\")\n",
    "plt.tight_layout()"
   ]
  },
  {
   "cell_type": "code",
   "execution_count": null,
   "id": "f86b1aa3-c69e-42ec-9e0d-7f1f3f2e5fc0",
   "metadata": {},
   "outputs": [],
   "source": [
    "fig = plt.figure()\n",
    "fig = plt.figure(figsize=(12,6),dpi=250)"
   ]
  }
 ],
 "metadata": {
  "kernelspec": {
   "display_name": "Python 3 (ipykernel)",
   "language": "python",
   "name": "python3"
  },
  "language_info": {
   "codemirror_mode": {
    "name": "ipython",
    "version": 3
   },
   "file_extension": ".py",
   "mimetype": "text/x-python",
   "name": "python",
   "nbconvert_exporter": "python",
   "pygments_lexer": "ipython3",
   "version": "3.11.3"
  }
 },
 "nbformat": 4,
 "nbformat_minor": 5
}
