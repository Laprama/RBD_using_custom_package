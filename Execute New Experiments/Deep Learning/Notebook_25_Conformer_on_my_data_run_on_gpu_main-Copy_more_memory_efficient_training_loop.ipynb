{
 "cells": [
  {
   "cell_type": "code",
   "execution_count": 4,
   "id": "14e0e248-2af5-435d-9467-11cd73dbb793",
   "metadata": {},
   "outputs": [
    {
     "name": "stderr",
     "output_type": "stream",
     "text": [
      "/user/home/ko20929/miniconda3/envs/sktime_latest/lib/python3.10/site-packages/outdated/utils.py:14: OutdatedPackageWarning: The package yasa is out of date. Your version is 0.6.3, the latest is 0.6.5.\n",
      "Set the environment variable OUTDATED_IGNORE=1 to disable these warnings.\n",
      "  return warn(\n"
     ]
    }
   ],
   "source": [
    "import pandas as pd\n",
    "import mne as mne\n",
    "import os \n",
    "import time\n",
    "import numpy as np\n",
    "import matplotlib.pyplot as plt\n",
    "import joblib\n",
    "import constants\n",
    "from IPython.utils import io\n",
    "import time\n",
    "import sys\n",
    "import yasa\n",
    "from scipy.signal import welch\n",
    "import random\n",
    "from sklearn.model_selection import train_test_split\n",
    "from sklearn.model_selection import GroupKFold\n",
    "\n",
    "from scipy.signal import ShortTimeFFT\n",
    "from scipy.signal.windows import gaussian\n",
    "\n",
    "#Import my modules\n",
    "import format_eeg_data\n",
    "import constants\n",
    "import eeg_stat_ts\n",
    "\n",
    "#Pytorch imports\n",
    "import torch\n",
    "import torch.nn as nn\n",
    "import torch.nn.functional as F\n",
    "from torch.utils.data import DataLoader\n",
    "from torchvision import datasets, transforms\n",
    "\n",
    "#Import Braindecode Model EEG Conformer\n",
    "from braindecode.models import EEGConformer\n",
    "\n",
    "import gc"
   ]
  },
  {
   "cell_type": "code",
   "execution_count": 13,
   "id": "6424f380-4683-4130-b525-59d5943bdf43",
   "metadata": {},
   "outputs": [
    {
     "ename": "SyntaxError",
     "evalue": "invalid syntax (886525217.py, line 2)",
     "output_type": "error",
     "traceback": [
      "\u001b[0;36m  Cell \u001b[0;32mIn[13], line 2\u001b[0;36m\u001b[0m\n\u001b[0;31m    '['N2' , 'N3' , 'REM']'\u001b[0m\n\u001b[0m       ^\u001b[0m\n\u001b[0;31mSyntaxError\u001b[0m\u001b[0;31m:\u001b[0m invalid syntax\n"
     ]
    }
   ],
   "source": [
    "['N1' , 'N2' , 'N3' , 'REM', 'Wake']\n",
    "'['N2' , 'N3' , 'REM']'\n",
    "\n",
    "'[30720, 15360]'\n",
    "'16'"
   ]
  },
  {
   "cell_type": "code",
   "execution_count": 15,
   "id": "ea29bea3-da46-44de-9813-a78b2c31e9db",
   "metadata": {},
   "outputs": [
    {
     "data": {
      "text/plain": [
       "\"['N2', 'N3', 'REM']\""
      ]
     },
     "execution_count": 15,
     "metadata": {},
     "output_type": "execute_result"
    }
   ],
   "source": [
    "str(['N2' , 'N3' , 'REM'])"
   ]
  },
  {
   "cell_type": "code",
   "execution_count": null,
   "id": "83f53127-62e3-40d5-9497-7bb9d21e8a28",
   "metadata": {},
   "outputs": [],
   "source": []
  },
  {
   "cell_type": "code",
   "execution_count": 2,
   "id": "033af89f-f867-4139-abb0-bdb2294c25d5",
   "metadata": {},
   "outputs": [],
   "source": [
    "import ast"
   ]
  },
  {
   "cell_type": "code",
   "execution_count": 12,
   "id": "82343df4-65a8-46fa-9312-2e224ead4d42",
   "metadata": {},
   "outputs": [],
   "source": [
    "# l  e     l"
   ]
  },
  {
   "cell_type": "code",
   "execution_count": 3,
   "id": "85ecbd8a-62d3-4c33-83bf-65fdcc3a1649",
   "metadata": {},
   "outputs": [],
   "source": [
    "arg = '[1,2,3,4]'"
   ]
  },
  {
   "cell_type": "code",
   "execution_count": 7,
   "id": "4f916f5d-7acb-4e62-a3bd-9a53cf0c5a2f",
   "metadata": {},
   "outputs": [
    {
     "name": "stdout",
     "output_type": "stream",
     "text": [
      "Received list: [1, 2, 3, 4]\n"
     ]
    },
    {
     "data": {
      "text/plain": [
       "int"
      ]
     },
     "execution_count": 7,
     "metadata": {},
     "output_type": "execute_result"
    }
   ],
   "source": [
    "list_str = arg\n",
    "input_list = ast.literal_eval(list_str)\n",
    "print(f\"Received list: {input_list}\")\n",
    "type(input_list[0])"
   ]
  },
  {
   "cell_type": "code",
   "execution_count": 6,
   "id": "f2b786eb-3285-4eb3-ab83-e58163e5a1c3",
   "metadata": {},
   "outputs": [
    {
     "data": {
      "text/plain": [
       "14"
      ]
     },
     "execution_count": 6,
     "metadata": {},
     "output_type": "execute_result"
    }
   ],
   "source": [
    "neuro_headset_channels = [\"AF3\", \"F7\", \"F3\", \"FC5\", \"T7\", \"P7\", \"O1\", \"O2\", \"P8\", \"T8\", \"FC6\", \"F4\", \"F8\", \"AF4\"]\n",
    "# These channels are equivalent to the neuro headset channels but for 'our' headset (There is code to generate these in notebook 18) \n",
    "eeg_14_channels = ['AF7', 'F7', 'F3', 'FC5', 'T7', 'P7', 'O1', 'O2', 'P8', 'T8', 'FC6', 'F4', 'F8', 'AF8'] \n",
    "num_channels = len(eeg_14_channels)\n",
    "num_channels"
   ]
  },
  {
   "cell_type": "markdown",
   "id": "1e394f0f-7b4e-4bf2-9541-b8529c03a438",
   "metadata": {
    "jp-MarkdownHeadingCollapsed": true
   },
   "source": [
    "#### Checking model size and batch size"
   ]
  },
  {
   "cell_type": "code",
   "execution_count": 3,
   "id": "6c5f9e6b-5464-4a13-aae0-5f2c1c705f3f",
   "metadata": {},
   "outputs": [],
   "source": [
    "def print_model_size(model):\n",
    "    # Save the model to a temporary file\n",
    "    temp_file_path = 'temp_model.pth'\n",
    "    torch.save(model.state_dict(), temp_file_path)\n",
    "\n",
    "    # Get the size of the file in bytes\n",
    "    model_size = os.path.getsize(temp_file_path)\n",
    "\n",
    "    # Convert bytes to megabytes\n",
    "    model_size_mb = model_size / (1024 * 1024)\n",
    "\n",
    "    print(f\"Model size: {model_size_mb:.2f} MB\")\n",
    "\n",
    "    # Remove the temporary file\n",
    "    os.remove(temp_file_path)"
   ]
  },
  {
   "cell_type": "code",
   "execution_count": 4,
   "id": "a2e90b34-853d-4f11-a638-33260d8beec3",
   "metadata": {},
   "outputs": [
    {
     "ename": "NameError",
     "evalue": "name 'model' is not defined",
     "output_type": "error",
     "traceback": [
      "\u001b[0;31m---------------------------------------------------------------------------\u001b[0m",
      "\u001b[0;31mNameError\u001b[0m                                 Traceback (most recent call last)",
      "Cell \u001b[0;32mIn[4], line 1\u001b[0m\n\u001b[0;32m----> 1\u001b[0m print_model_size(\u001b[43mmodel\u001b[49m)\n",
      "\u001b[0;31mNameError\u001b[0m: name 'model' is not defined"
     ]
    }
   ],
   "source": [
    "print_model_size(model)"
   ]
  },
  {
   "cell_type": "code",
   "execution_count": null,
   "id": "3b68369e-f5ea-4727-a742-e9923f4bf573",
   "metadata": {},
   "outputs": [],
   "source": [
    "param_size = 0\n",
    "for param in model.parameters():\n",
    "    param_size += param.nelement() * param.element_size()\n",
    "buffer_size = 0\n",
    "for buffer in model.buffers():\n",
    "    buffer_size += buffer.nelement() * buffer.element_size()\n",
    "\n",
    "size_all_mb = (param_size + buffer_size) / 1024**2\n",
    "print('model size: {:.3f}MB'.format(size_all_mb))"
   ]
  },
  {
   "cell_type": "code",
   "execution_count": null,
   "id": "5fece74e-d4b7-4c00-a162-72c53be44dc6",
   "metadata": {},
   "outputs": [],
   "source": [
    "def print_tensor_size_in_gb(tensor):\n",
    "    # Get the number of elements in the tensor\n",
    "    num_elements = tensor.numel()\n",
    "    \n",
    "    # Get the size of each element in bytes\n",
    "    element_size = tensor.element_size()\n",
    "    \n",
    "    # Calculate the total size in bytes\n",
    "    total_size_bytes = num_elements * element_size\n",
    "    \n",
    "    # Convert bytes to gigabytes\n",
    "    total_size_gb = total_size_bytes / (1024 ** 3)\n",
    "    \n",
    "    print(f\"Tensor size: {total_size_gb:.2f} GB\")\n"
   ]
  },
  {
   "cell_type": "code",
   "execution_count": null,
   "id": "f8b80e60-f0c5-4f03-9c95-057f5ab9baa3",
   "metadata": {},
   "outputs": [],
   "source": [
    "print_tensor_size_in_gb(X_train_batch)"
   ]
  },
  {
   "cell_type": "code",
   "execution_count": null,
   "id": "8ef0e2c5-6a70-476d-befc-72e156cabdcb",
   "metadata": {},
   "outputs": [],
   "source": [
    "X_train_batch.shape"
   ]
  },
  {
   "cell_type": "code",
   "execution_count": null,
   "id": "b61b881e-0c03-4109-a696-be1e91de8fa6",
   "metadata": {},
   "outputs": [],
   "source": [
    "30720 / 256"
   ]
  },
  {
   "cell_type": "markdown",
   "id": "8a444f6b-553a-4f45-9505-ed246c202f40",
   "metadata": {},
   "source": [
    "### Running the Conformer Model"
   ]
  },
  {
   "cell_type": "code",
   "execution_count": 19,
   "id": "deb5b15c-4235-496d-a33d-5daf66d56c37",
   "metadata": {},
   "outputs": [
    {
     "data": {
      "text/plain": [
       "3840"
      ]
     },
     "execution_count": 19,
     "metadata": {},
     "output_type": "execute_result"
    }
   ],
   "source": [
    "15*256"
   ]
  },
  {
   "cell_type": "code",
   "execution_count": 7,
   "id": "4e21d7be-3edb-4fea-83c3-4495472fc683",
   "metadata": {},
   "outputs": [
    {
     "data": {
      "text/plain": [
       "[15360, 30720, 61440]"
      ]
     },
     "execution_count": 7,
     "metadata": {},
     "output_type": "execute_result"
    }
   ],
   "source": [
    "# 60 seconds , 2 minutes , 4 minutes?\n",
    "[60*256 , 2*60*256 , 4*60*256 ] "
   ]
  },
  {
   "cell_type": "code",
   "execution_count": 17,
   "id": "868ccc81-b844-4901-82e9-6770fdd2aa24",
   "metadata": {
    "scrolled": true
   },
   "outputs": [
    {
     "data": {
      "text/plain": [
       "\"['N1', 'N2', 'N3', 'REM', 'Wake']\""
      ]
     },
     "execution_count": 17,
     "metadata": {},
     "output_type": "execute_result"
    }
   ],
   "source": [
    "str( ['N1' , 'N2' , 'N3' , 'REM', 'Wake'] )"
   ]
  },
  {
   "cell_type": "code",
   "execution_count": 9,
   "id": "3ba83680-b692-4d2d-99b8-5cfd9f51e321",
   "metadata": {},
   "outputs": [
    {
     "name": "stdout",
     "output_type": "stream",
     "text": [
      "14\n"
     ]
    }
   ],
   "source": [
    "neuro_headset_channels = [\"AF3\", \"F7\", \"F3\", \"FC5\", \"T7\", \"P7\", \"O1\", \"O2\", \"P8\", \"T8\", \"FC6\", \"F4\", \"F8\", \"AF4\"]\n",
    "# These channels are equivalent to the neuro headset channels but for 'our' headset (There is code to generate these in notebook 18) \n",
    "eeg_14_channels = ['AF7', 'F7', 'F3', 'FC5', 'T7', 'P7', 'O1', 'O2', 'P8', 'T8', 'FC6', 'F4', 'F8', 'AF8']\n",
    "\n",
    "num_channels = len(eeg_14_channels)\n",
    "\n",
    "print(num_channels)\n",
    "\n",
    "## EEG Conformer code example \n",
    "# model = EEGConformer(\n",
    "#                     n_chans = num_channels,\n",
    "#                     n_outputs = 2 ,\n",
    "#                     n_times=segment_length,\n",
    "#                     att_depth=3,\n",
    "#                     att_heads=5,\n",
    "#                     final_fc_length = 'auto' \n",
    "#                     )\n",
    "\n",
    "# df_list = joblib.load('N2' + '_20_channel_normalised_dataframes.pkl')\n",
    "# df_list_new = [df[eeg_14_channels] for df in df_list]\n",
    "# joblib.dump(df_list_new, 'N2' + '_14_channel_normalised_dataframes.pkl')"
   ]
  },
  {
   "cell_type": "code",
   "execution_count": 6,
   "id": "e1f903ad-7499-4659-af40-0af700ee345e",
   "metadata": {},
   "outputs": [],
   "source": [
    "# 7.5GB GPU Memory used for the 120 second loop \n",
    "# XGB Used for the 60 second loop"
   ]
  },
  {
   "cell_type": "code",
   "execution_count": 8,
   "id": "60a2e4bb-e29d-4fae-b80f-2e23e66be005",
   "metadata": {},
   "outputs": [
    {
     "ename": "NameError",
     "evalue": "name 'X' is not defined",
     "output_type": "error",
     "traceback": [
      "\u001b[0;31m---------------------------------------------------------------------------\u001b[0m",
      "\u001b[0;31mNameError\u001b[0m                                 Traceback (most recent call last)",
      "Cell \u001b[0;32mIn[8], line 1\u001b[0m\n\u001b[0;32m----> 1\u001b[0m \u001b[43mX\u001b[49m\u001b[38;5;241m.\u001b[39mshape\n\u001b[1;32m      2\u001b[0m (\u001b[38;5;241m6027\u001b[39m\u001b[38;5;241m*\u001b[39m\u001b[38;5;241m14\u001b[39m\u001b[38;5;241m*\u001b[39m\u001b[38;5;241m30720\u001b[39m)\n",
      "\u001b[0;31mNameError\u001b[0m: name 'X' is not defined"
     ]
    }
   ],
   "source": [
    "X.shape\n",
    "(6027*14*30720) "
   ]
  },
  {
   "cell_type": "code",
   "execution_count": 5,
   "id": "7da28fff-9abd-4687-ade7-7b4461c35df0",
   "metadata": {},
   "outputs": [],
   "source": [
    "def test_float32_conversion(arr):\n",
    "    # Ensure the input array is of type float64\n",
    "    if arr.dtype != np.float64:\n",
    "        raise ValueError(\"Input array must be of type float64.\")\n",
    "    \n",
    "    # Convert the array to float32\n",
    "    arr_float32 = arr.astype(np.float32)\n",
    "    \n",
    "    # Calculate the absolute and relative differences\n",
    "    absolute_diff = np.abs(arr - arr_float32)\n",
    "    relative_diff = np.abs((arr - arr_float32) / arr)\n",
    "    \n",
    "    # Summary statistics\n",
    "    max_abs_diff = np.max(absolute_diff)\n",
    "    max_rel_diff = np.max(relative_diff)\n",
    "    mean_abs_diff = np.mean(absolute_diff)\n",
    "    mean_rel_diff = np.mean(relative_diff)\n",
    "    \n",
    "    # Output the differences\n",
    "    print(f\"Max Absolute Difference: {max_abs_diff}\")\n",
    "    print(f\"Max Relative Difference: {max_rel_diff}\")\n",
    "    print(f\"Mean Absolute Difference: {mean_abs_diff}\")\n",
    "    print(f\"Mean Relative Difference: {mean_rel_diff}\")\n",
    "    \n",
    "    # Determine if the differences are acceptable\n",
    "    acceptable_threshold = 1e-6  # Define your acceptable threshold\n",
    "    if max_abs_diff < acceptable_threshold:\n",
    "        print(\"Conversion to float32 is likely acceptable.\")\n",
    "    else:\n",
    "        print(\"Conversion to float32 may result in significant precision loss.\")\n"
   ]
  },
  {
   "cell_type": "code",
   "execution_count": 7,
   "id": "6caa70ff-8601-4e3f-ab05-a74d463ef786",
   "metadata": {},
   "outputs": [],
   "source": [
    "# Was going to plot to see which level of precision is required\n",
    "# vals = 200\n",
    "# chan = 1\n",
    "\n",
    "# subset_array_1 , susbset_array_2 = df_list[0].values[:vals,chan], df_list[0].values[:vals,chan]"
   ]
  },
  {
   "cell_type": "code",
   "execution_count": 10,
   "id": "d36a393e-5a7d-4035-884b-4e1550bd1b24",
   "metadata": {},
   "outputs": [],
   "source": [
    "#define key parameters for fitting here - will impact GPU memory usage\n",
    "att_depth=3\n",
    "att_heads=5\n",
    "n_chans = num_channels \n",
    "batch_size = 16"
   ]
  },
  {
   "cell_type": "code",
   "execution_count": 11,
   "id": "ee3b6380-55b1-408d-839c-675b2a508193",
   "metadata": {},
   "outputs": [
    {
     "name": "stdout",
     "output_type": "stream",
     "text": [
      "N2\n",
      "Commencing Training ...\n",
      "1\n"
     ]
    },
    {
     "name": "stderr",
     "output_type": "stream",
     "text": [
      "/user/home/ko20929/miniconda3/envs/sktime_latest/lib/python3.10/site-packages/braindecode/models/base.py:180: UserWarning: LogSoftmax final layer will be removed! Please adjust your loss function accordingly (e.g. CrossEntropyLoss)!\n",
      "  warnings.warn(\"LogSoftmax final layer will be removed! \" +\n"
     ]
    },
    {
     "name": "stdout",
     "output_type": "stream",
     "text": [
      "2\n"
     ]
    },
    {
     "ename": "KeyboardInterrupt",
     "evalue": "",
     "output_type": "error",
     "traceback": [
      "\u001b[0;31m---------------------------------------------------------------------------\u001b[0m",
      "\u001b[0;31mKeyboardInterrupt\u001b[0m                         Traceback (most recent call last)",
      "Cell \u001b[0;32mIn[11], line 263\u001b[0m\n\u001b[1;32m    260\u001b[0m         val_corr \u001b[38;5;241m+\u001b[39m\u001b[38;5;241m=\u001b[39m batch_corr\n\u001b[1;32m    262\u001b[0m         loss \u001b[38;5;241m=\u001b[39m criterion(y_val, y_val_batch)\n\u001b[0;32m--> 263\u001b[0m         val_loss \u001b[38;5;241m+\u001b[39m\u001b[38;5;241m=\u001b[39m \u001b[43mloss\u001b[49m\u001b[38;5;241;43m.\u001b[39;49m\u001b[43mitem\u001b[49m\u001b[43m(\u001b[49m\u001b[43m)\u001b[49m\n\u001b[1;32m    265\u001b[0m val_losses\u001b[38;5;241m.\u001b[39mappend(val_loss)\n\u001b[1;32m    266\u001b[0m val_correct\u001b[38;5;241m.\u001b[39mappend(val_corr)\n",
      "\u001b[0;31mKeyboardInterrupt\u001b[0m: "
     ]
    },
    {
     "data": {
      "image/png": "[encoded data removed]",
      "text/plain": [
       "<Figure size 640x480 with 1 Axes>"
      ]
     },
     "metadata": {},
     "output_type": "display_data"
    },
    {
     "data": {
      "text/plain": [
       "<Figure size 640x480 with 0 Axes>"
      ]
     },
     "metadata": {},
     "output_type": "display_data"
    },
    {
     "data": {
      "image/png": "[encoded data removed]",
      "text/plain": [
       "<Figure size 2400x400 with 1 Axes>"
      ]
     },
     "metadata": {},
     "output_type": "display_data"
    }
   ],
   "source": [
    "t1 = time.time()\n",
    "\n",
    "#1.Load the data ________________________________________________________________________________________\n",
    "# ['Wake', 'N1' , 'N2' , 'N3' , 'REM']\n",
    "\n",
    "for data_type in ['N2', 'N3', 'REM']:\n",
    "    for segment_length in [30720, 15360]:\n",
    "    # for segment_length in [15360]:\n",
    "        \n",
    "        # if data_type == 'N2':\n",
    "        #     df_list = joblib.load(data_type + '_14_channel_normalised_dataframes.pkl')\n",
    "        # else:\n",
    "        #     df_list = joblib.load(data_type + '_20_channel_normalised_dataframes.pkl')\n",
    "            \n",
    "        df_list = joblib.load(data_type + '_20_channel_normalised_dataframes.pkl')\n",
    "        df_list = [df.astype('float32') for df in df_list]\n",
    "        \n",
    "        print(data_type)    \n",
    "        \n",
    "        # 1. generate all path names and class list(s) etc. \n",
    "        folder = '/user/home/ko20929/work/RBD_using_custom_package/Blue_pebble/'\n",
    "        paths = joblib.load(folder + data_type + '_paths.pkl') # keys : ['selected_paths', 's_class_list', 's_night_list', 's_sleep_type', 's_p_id']\n",
    "        \n",
    "        class_label_dict = {'HC': 0 , 'PD' : 1 , 'PD+RBD' : 2 , 'RBD' : 3} #Dictionary used to label the classes for reference\n",
    "        y = np.array([class_label_dict[c_name] for c_name in paths['s_class_list'] ] )\n",
    "        groups = paths['s_p_id']\n",
    "        \n",
    "        wake_dfs_binary = []\n",
    "        y_binary = []\n",
    "        groups_binary = []\n",
    "        \n",
    "        for df , class_label , group in zip(df_list, y, groups):\n",
    "            if class_label in [0,1]:\n",
    "                wake_dfs_binary.append(df)\n",
    "                y_binary.append(class_label)\n",
    "                groups_binary.append(group)\n",
    "        \n",
    "        y_binary = np.array(y_binary)\n",
    "         \n",
    "        # `df_list` is no longer needed beyond this point so we should free up memory\n",
    "        del df_list\n",
    "        gc.collect()\n",
    "        \n",
    "    \n",
    "    #2. Generate 2 second segments of the data______________________________________________________________________ \n",
    "    \n",
    "        #segment_length is user input and overlap is user input at the start of the script\n",
    "        overlap = 0.5\n",
    "        \n",
    "        signal_slices = []\n",
    "        y_slice_labels = []\n",
    "        y_slice_groups = []\n",
    "        \n",
    "        for df, label, group in zip(wake_dfs_binary, y_binary, groups_binary):\n",
    "            \n",
    "            num_segments = int( np.floor(len(df)/segment_length) )\n",
    "            new_specs = []\n",
    "            \n",
    "            for i in np.arange(0,num_segments, 1 - overlap):\n",
    "                if i > num_segments - 1 :\n",
    "                    # I don't want it to try to take an incomplete slice\n",
    "                    # will be an incomplete slice causing errors downstream, needs to stop \n",
    "                    \n",
    "                    break\n",
    "                  \n",
    "                start_index = int( np.floor(i*segment_length) )\n",
    "                end_index = start_index + segment_length\n",
    "                \n",
    "                slice_df = df.iloc[start_index : end_index, :].copy()        \n",
    "                signal_slices.append(slice_df)\n",
    "                \n",
    "                y_slice_labels.append(label)\n",
    "                y_slice_groups.append(group)\n",
    "                \n",
    "        plt.hist(y_slice_labels)\n",
    "\n",
    "        del wake_dfs_binary\n",
    "        gc.collect()\n",
    "    \n",
    "    #3. Select the correct channels ______________________________________________________________________________\n",
    "        \n",
    "        channels_selected = eeg_14_channels # will later move this to the top of the notebook\n",
    "        \n",
    "        # signal_slices, y_slice_labels, y_slice_groups\n",
    "        signal_slices_14_channels = [ df.loc[:, channels_selected].copy() for df in signal_slices ]\n",
    "        \n",
    "        # Make the slices an np array of the correct dimensions\n",
    "        signal_slices_14_channels_np = [df.T.values for df in signal_slices_14_channels]\n",
    "    \n",
    "    #4. Create the network from the paper (REMOVED as I'm using EEG Conformer) \n",
    "    #The model is defined inside the training loop\n",
    "    \n",
    "    \n",
    "    #5. Do Train Validation Splits\n",
    "        # Train and Validation splits only ----> NO TEST\n",
    "        # spectrogram_slices, y_slice_labels and y_slice_groups to work with\n",
    "        train_val_dict = {}\n",
    "        \n",
    "        for value in ['train' , 'val']:\n",
    "            train_val_dict[value] = {}\n",
    "        \n",
    "        X = np.stack(signal_slices_14_channels_np)\n",
    "        y = np.array(y_slice_labels)\n",
    "        groups = np.array( [int(group) for group in y_slice_groups] ) \n",
    "        gkf = GroupKFold(n_splits = 4)\n",
    "        \n",
    "        \n",
    "        # fold = 0\n",
    "        # for train_index, val_index   in gkf.split(X, y, groups*1):\n",
    "        #     fold += 1\n",
    "            \n",
    "        #     X_train, y_train, groups_train  = X[train_index], y[train_index] , groups[train_index]\n",
    "        #     print('passed previous fail point')\n",
    "        #     X_val, y_val, groups_val =  X[val_index], y[val_index] , groups[val_index]   \n",
    "            \n",
    "        #     train_val_dict['train'][fold] = X_train, y_train, groups_train\n",
    "        #     train_val_dict['val'][fold]   = X_val, y_val, groups_val\n",
    "            \n",
    "        #     total_len = len(X) \n",
    "        #     val_percent = 100*(len(X_val) / total_len)\n",
    "        #     train_percent = 100*(len(X_train) / total_len)\n",
    "\n",
    "        \n",
    "        #Output from this section of code is X_train, y_train, groups_train AND X_test, y_test, groups_test \n",
    "        import time\n",
    "    \n",
    "        start_time = time.time()\n",
    "        \n",
    "        seeds = [2]\n",
    "        rows = len(seeds) # Make the figure the right size \n",
    "        \n",
    "        fig = plt.figure()\n",
    "        fig = plt.figure(figsize=(24,4*rows),dpi=100)\n",
    "        \n",
    "        #k is for subplots within the overall figure, it is incremented within the loop\n",
    "        k = 1\n",
    "        print('Commencing Training ...')\n",
    "        \n",
    "        # Test out for 1 fold to start with\n",
    "        \n",
    "        # for fold in [1,2,3,4]:\n",
    "        fold = 0\n",
    "        for train_index, val_index   in gkf.split(X, y, groups*1):\n",
    "            fold += 1\n",
    "            print(fold)\n",
    "            # X_train, y_train, groups_train = train_val_dict['train'][fold]\n",
    "            # X_val, y_val, groups_val = train_val_dict['val'][fold]\n",
    "            \n",
    "            # Directly create X_val and X_train here instead of in a seperate dictionary first\n",
    "            X_train, y_train, groups_train  = X[train_index], y[train_index] , groups[train_index]\n",
    "            X_val, y_val, groups_val =  X[val_index], y[val_index] , groups[val_index]   \n",
    "            \n",
    "            # Creating train and test data loaders\n",
    "            train_data = [ (torch.from_numpy(input_slice).float().view(num_channels,segment_length), val) for input_slice, val in zip(X_train, y_train) ] \n",
    "            train_loader = DataLoader(train_data, batch_size=batch_size, shuffle=True)\n",
    "            \n",
    "            val_data = [ (torch.from_numpy(input_slice).float().view(num_channels,segment_length), val) for input_slice, val in zip(X_val, y_val) ] \n",
    "            val_loader = DataLoader(val_data , batch_size=batch_size, shuffle=False)\n",
    "            \n",
    "           \n",
    "            \n",
    "            \n",
    "            \n",
    "            # for seed in [2,5,15,50]:\n",
    "            for seed in seeds:\n",
    "                # set all seeds \n",
    "                random.seed(seed)\n",
    "                np.random.seed(seed)\n",
    "                torch.manual_seed(seed)\n",
    "                torch.cuda.manual_seed_all(seed) \n",
    "                \n",
    "                device = torch.device(\"cuda\" if torch.cuda.is_available() else \"cpu\")\n",
    "                # print(device) - to check that device is actually cuda\n",
    "                \n",
    "                model = EEGConformer(\n",
    "                    n_chans = num_channels,\n",
    "                    n_outputs = 2 ,\n",
    "                    n_times=segment_length,\n",
    "                    att_depth=att_depth,\n",
    "                    att_heads=att_heads,\n",
    "                    final_fc_length = 'auto' \n",
    "                    )\n",
    "                \n",
    "                model.to(device)\n",
    "                \n",
    "                criterion = torch.nn.NLLLoss()\n",
    "                optimizer = torch.optim.Adam(model.parameters(), lr = 0.001 )\n",
    "    \n",
    "                \n",
    "                epochs = 1\n",
    "                train_losses = []\n",
    "                val_losses = []\n",
    "                test_losses = []\n",
    "                \n",
    "                train_correct = []\n",
    "                val_correct = []\n",
    "                test_correct = []\n",
    "                \n",
    "                for i in range(epochs):\n",
    "                    \n",
    "                    trn_corr = 0\n",
    "                    val_corr = 0\n",
    "                    tst_corr = 0\n",
    "                     \n",
    "                    \n",
    "                    trn_loss = 0\n",
    "                    val_loss = 0\n",
    "                    tst_loss = 0\n",
    "                    \n",
    "                    model.train()\n",
    "                    # Run the training batches\n",
    "                    for b, (X_train_batch, y_train_batch) in enumerate(train_loader):\n",
    "                        # b+=1\n",
    "                \n",
    "                        #Move train data to the GPU\n",
    "                        X_train_batch = X_train_batch.to(device)\n",
    "                        y_train_batch = y_train_batch.to(device)\n",
    "                        \n",
    "                        # Apply the model\n",
    "                        y_pred = model(X_train_batch)  # we don't flatten X-train here\n",
    "                        loss = criterion(y_pred, y_train_batch)\n",
    "                 \n",
    "                        # Tally the number of correct predictions\n",
    "                        predicted = torch.argmax(torch.exp( y_pred.detach() ) ,  dim = 1 ) \n",
    "        \n",
    "                        predicted = predicted.reshape(y_train_batch.shape)\n",
    "                        \n",
    "                        batch_corr = (predicted == y_train_batch).sum()\n",
    "                        trn_corr += batch_corr\n",
    "                        trn_loss += loss.item()\n",
    "                        \n",
    "                        # Update parameters\n",
    "                        optimizer.zero_grad()\n",
    "                        loss.backward()\n",
    "                        optimizer.step()\n",
    "                        \n",
    "                        \n",
    "                    train_losses.append(trn_loss)\n",
    "                    train_correct.append(trn_corr)\n",
    "                \n",
    "                    # Run the validation batches\n",
    "                    # Some of the variables in this loop have the same name as the variables in the above loop... be aware of that plz!\n",
    "                    model.eval()\n",
    "                    with torch.no_grad():\n",
    "                        for b, (X_val_batch, y_val_batch) in enumerate(val_loader):\n",
    "                            # b+=1\n",
    "                            \n",
    "                            #Move train data to the GPU\n",
    "                            X_val_batch = X_val_batch.to(device)\n",
    "                            y_val_batch = y_val_batch.to(device)\n",
    "                \n",
    "                            # Apply the model\n",
    "                            y_val = model(X_val_batch)\n",
    "                \n",
    "                            # Tally the number of correct predictions\n",
    "                            predicted = torch.argmax(y_val.detach(),  dim = 1 ) \n",
    "                            predicted = predicted.reshape(y_val_batch.shape)\n",
    "                            \n",
    "                            batch_corr = (predicted == y_val_batch).sum()\n",
    "                            val_corr += batch_corr\n",
    "                \n",
    "                            loss = criterion(y_val, y_val_batch)\n",
    "                            val_loss += loss.item()\n",
    "                           \n",
    "                    val_losses.append(val_loss)\n",
    "                    val_correct.append(val_corr)\n",
    "                \n",
    "                    \n",
    "                   \n",
    "                \n",
    "                # Plot the outcome from the loop\n",
    "                \n",
    "                ax = fig.add_subplot(rows,4,k)\n",
    "                k+=1\n",
    "                plt.title('fold ' + str(fold), fontsize = 10)\n",
    "                plt.plot([(val.cpu() / len(X_train) ) for val in train_correct], label='training set accuracy')\n",
    "                plt.plot([(val.cpu()/len(X_val) ) for val in val_correct], label='validation set accuracy')\n",
    "                plt.ylabel('accuracy')\n",
    "                plt.xlabel('epochs') \n",
    "                plt.grid()\n",
    "            \n",
    "            \n",
    "            plt.tight_layout()\n",
    "        \n",
    "        \n",
    "        plt.legend()   \n",
    "        plt.tight_layout()\n",
    "\n",
    "        time_segment = str(segment_length/256)\n",
    "        channels_num = str(num_channels)\n",
    "         \n",
    "        \n",
    "        #Add text at the bottom of the figure\n",
    "        # fig.text(0.5, 0, 'This is a caption at the bottom of the figure | Model : ' + str(model) , va='bottom')\n",
    "        cap_line_2 = '\\n' + data_type + '_' + 'Conformer_atth' + str(att_heads) + '_attd' + str(att_depth) + '_' + time_segment + '_secs_' + channels_num + '_channels'\n",
    "        cap_line_3 = '\\n' + str(channels_selected)\n",
    "        \n",
    "        fig.text(0.5, 0, f'\\nDuration: {time.time() - start_time:.0f} seconds' + ' batch size ' + str(batch_size) +cap_line_2+cap_line_3, ha='center', fontsize=9, va='bottom')\n",
    "        \n",
    "        plt.tight_layout(pad = 2.0)\n",
    "    \n",
    "      \n",
    "        # save_name = 'Results/Folder_3/' + data_type + '_' + 'Conformer_window_' + time_segment + '_secs_' + channels_num + '_channels'\n",
    "        save_name = 'Results/Folder_3/' + data_type + '_' + 'Conformer_atth' + str(att_heads) + '_attd' + str(att_depth) + '_' + time_segment + '_secs_' + channels_num + '_channels'\n",
    "        \n",
    "        plt.savefig(save_name +'.png')\n",
    "        \n",
    "        \n",
    "        print(f'\\nDuration: {time.time() - start_time:.0f} seconds') # print the time elapsed  \n",
    "        print('Results Saved, on to next data type ...')\n",
    "        \n",
    "t2 = time.time()\n",
    "\n",
    "t2 - t1"
   ]
  },
  {
   "attachments": {
    "ba2f004e-765f-4c5b-966c-97ed754ea13a.png": {
     "image/png": "[encoded data removed]"
    }
   },
   "cell_type": "markdown",
   "id": "c60880b4-7599-4a04-9310-22697a295b6f",
   "metadata": {},
   "source": [
    "![image.png](attachment:ba2f004e-765f-4c5b-966c-97ed754ea13a.png)"
   ]
  },
  {
   "cell_type": "code",
   "execution_count": null,
   "id": "f0537bb2-f9e0-456f-85a3-21e0a0021aa0",
   "metadata": {},
   "outputs": [],
   "source": [
    "X_train_batch.shape"
   ]
  },
  {
   "cell_type": "markdown",
   "id": "2a99f8bd-c838-4f4e-b688-385ebff1a5c6",
   "metadata": {},
   "source": [
    "Wake 45 seconds took 260 seconds to run <br> \n",
    "Then it got an out of memory error --> OutOfMemoryError: CUDA out of memory. Tried to allocate 1.55 GiB. GPU \n"
   ]
  }
 ],
 "metadata": {
  "kernelspec": {
   "display_name": "Python 3 (ipykernel)",
   "language": "python",
   "name": "python3"
  },
  "language_info": {
   "codemirror_mode": {
    "name": "ipython",
    "version": 3
   },
   "file_extension": ".py",
   "mimetype": "text/x-python",
   "name": "python",
   "nbconvert_exporter": "python",
   "pygments_lexer": "ipython3",
   "version": "3.10.14"
  }
 },
 "nbformat": 4,
 "nbformat_minor": 5
}
