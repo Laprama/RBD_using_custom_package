{
 "cells": [
  {
   "cell_type": "code",
   "execution_count": 2,
   "id": "2232c392-f494-46bd-aaaf-3f568b72d01d",
   "metadata": {},
   "outputs": [
    {
     "name": "stderr",
     "output_type": "stream",
     "text": [
      "/user/home/ko20929/.conda/envs/sktime_latest/lib/python3.11/site-packages/antropy/fractal.py:197: NumbaDeprecationWarning: \u001b[1mThe 'nopython' keyword argument was not supplied to the 'numba.jit' decorator. The implicit default value for this argument is currently False, but it will be changed to True in Numba 0.59.0. See https://numba.readthedocs.io/en/stable/reference/deprecation.html#deprecation-of-object-mode-fall-back-behaviour-when-using-jit for details.\u001b[0m\n",
      "  @jit((types.Array(types.float64, 1, \"C\", readonly=True), types.int32))\n",
      "/user/home/ko20929/.conda/envs/sktime_latest/lib/python3.11/site-packages/outdated/utils.py:14: OutdatedPackageWarning: The package yasa is out of date. Your version is 0.6.3, the latest is 0.6.4.\n",
      "Set the environment variable OUTDATED_IGNORE=1 to disable these warnings.\n",
      "  return warn(\n"
     ]
    }
   ],
   "source": [
    "import pandas as pd\n",
    "import mne as mne\n",
    "import os \n",
    "import time\n",
    "import numpy as np\n",
    "import matplotlib.pyplot as plt\n",
    "import joblib\n",
    "import constants\n",
    "from IPython.utils import io\n",
    "import time\n",
    "import sys\n",
    "import yasa\n",
    "from scipy.signal import welch\n",
    "import random\n",
    "\n",
    "from scipy.signal import ShortTimeFFT\n",
    "from scipy.signal.windows import gaussian\n",
    "\n",
    "#Import my modules\n",
    "import format_eeg_data\n",
    "import constants\n",
    "import eeg_stat_ts\n",
    "\n",
    "#Pytorch imports\n",
    "import torch\n",
    "import torch.nn as nn\n",
    "import torch.nn.functional as F\n",
    "from torch.utils.data import DataLoader\n",
    "from torchvision import datasets, transforms"
   ]
  },
  {
   "cell_type": "markdown",
   "id": "9a0af081-a434-435f-9e80-98c6ec012839",
   "metadata": {},
   "source": [
    "#### 1. Load the data"
   ]
  },
  {
   "cell_type": "code",
   "execution_count": 3,
   "id": "4ab21aa1-26e4-4f3e-8de6-bb75e0096bdf",
   "metadata": {},
   "outputs": [
    {
     "data": {
      "text/plain": [
       "31.468985080718994"
      ]
     },
     "execution_count": 3,
     "metadata": {},
     "output_type": "execute_result"
    }
   ],
   "source": [
    "t1 = time.time()\n",
    "\n",
    "data_type = 'N1'\n",
    "\n",
    "for data_type in ['N1']:\n",
    "    channels = constants.channel_list\n",
    "    \n",
    "    # 1. generate all path names and class list(s) etc. \n",
    "    folder = '/user/home/ko20929/work/RBD_using_custom_package/Blue_pebble/'\n",
    "    paths = joblib.load(folder + data_type + '_paths.pkl') # keys : ['selected_paths', 's_class_list', 's_night_list', 's_sleep_type', 's_p_id']\n",
    "    \n",
    "    # 2. Load corresponding data into dataframes, store in dataframe list\n",
    "    df_list = []\n",
    "    \n",
    "    with io.capture_output() as captured:\n",
    "        for path in paths['selected_paths']:\n",
    "            data_epo = mne.read_epochs(path)\n",
    "            data = data_epo._data * 1e6  # convert signal from V to uV\n",
    "            df_full = data_epo.to_data_frame()\n",
    "            df = df_full[channels].copy()\n",
    "            df_list.append(df)\n",
    "\n",
    "\n",
    "t2 = time.time()\n",
    "\n",
    "t2-t1"
   ]
  },
  {
   "cell_type": "code",
   "execution_count": 4,
   "id": "5ccff24a-6ccf-4988-bae3-c1a66d80609d",
   "metadata": {},
   "outputs": [],
   "source": [
    "class_label_dict = {'HC': 0 , 'PD' : 1 , 'PD+RBD' : 2 , 'RBD' : 3} #Dictionary used to label the classes for reference\n",
    "y = np.array([class_label_dict[c_name] for c_name in paths['s_class_list'] ] )\n",
    "groups = paths['s_p_id']"
   ]
  },
  {
   "cell_type": "code",
   "execution_count": 5,
   "id": "a0989d3f-3aee-4e66-b4cb-ca47093297a0",
   "metadata": {},
   "outputs": [],
   "source": [
    "wake_dfs_binary = []\n",
    "y_binary = []\n",
    "groups_binary = []\n",
    "\n",
    "for df , class_label , group in zip(df_list, y, groups):\n",
    "    if class_label in [0,1]:\n",
    "        wake_dfs_binary.append(df)\n",
    "        y_binary.append(class_label)\n",
    "        groups_binary.append(group)\n",
    "\n",
    "y_binary = np.array(y_binary)"
   ]
  },
  {
   "cell_type": "code",
   "execution_count": 6,
   "id": "85e7b767-bd11-428f-a843-c302d45a05ce",
   "metadata": {},
   "outputs": [],
   "source": [
    "#Minimum sample length is 1 minute but the mean is ~ 3 minutes"
   ]
  },
  {
   "cell_type": "markdown",
   "id": "341b7ec1-3ec4-4556-a627-7abae2705bd1",
   "metadata": {},
   "source": [
    "#### 2. Generate the spectrograms (Prefrontal)"
   ]
  },
  {
   "cell_type": "code",
   "execution_count": 7,
   "id": "cb2a2939-2dfb-4f1e-9ac4-5a8de5fbfdf2",
   "metadata": {},
   "outputs": [
    {
     "data": {
      "text/plain": [
       "['Fp1', 'Fpz', 'Fp2']"
      ]
     },
     "execution_count": 7,
     "metadata": {},
     "output_type": "execute_result"
    }
   ],
   "source": [
    "regions = constants.regions\n",
    "region_channel_dict = constants.region_to_channel_dict\n",
    "channel_list = constants.channel_list\n",
    "region_channel_dict['Prefrontal']"
   ]
  },
  {
   "cell_type": "code",
   "execution_count": 94,
   "id": "87dd2161-bf0d-4d5a-8a54-495983b34fca",
   "metadata": {},
   "outputs": [],
   "source": [
    "#For each dataframe generate a spectrogram\n",
    "regional_spectrograms = []\n",
    "\n",
    "for df in wake_dfs_binary:\n",
    "    \n",
    "    channel_spectrograms = []\n",
    "    for channel in region_channel_dict['Prefrontal']:\n",
    "        \n",
    "        #for each channel generate a spectrogram, then take the mean of the spectrograms to get the regional spectrogram\n",
    "           \n",
    "        eeg_data = df[channel].values \n",
    "\n",
    "        # g_std is standard deviation for Gaussian window in samples\n",
    "        g_std = 200\n",
    "        w = gaussian(g_std*2, std=g_std, sym=True)  # symmetric Gaussian window of total width 50 samples\n",
    "        mfft = max(256 , g_std*2)\n",
    "        \n",
    "        #Perform STFT \n",
    "        SFT = ShortTimeFFT(w, hop=100, fs=256, mfft=mfft, scale_to='magnitude')   \n",
    "        Sx = SFT.stft(eeg_data)  \n",
    "        Sx_abs = abs(Sx)\n",
    "        \n",
    "        #I can obtain the corresponding frequency values for this spectrogram with \n",
    "        frequency_vals = SFT.f\n",
    "        \n",
    "        # I want to snip the frequency values to the range I'm interested in 0-40 Hz\n",
    "        def find_first_above(array, threshold):\n",
    "            for index, value in enumerate(array):\n",
    "                if value > threshold:\n",
    "                    return index\n",
    "            return -1  # Return -1 if no such value is found\n",
    "        \n",
    "        ind = find_first_above(frequency_vals, 40)\n",
    "        \n",
    "        frequency_vals = frequency_vals[:ind+1]\n",
    "        \n",
    "        #To update the time values I need to input the number of vals in the original sequency \n",
    "        num_seq_vals = len(eeg_data)\n",
    "        time_vals = SFT.t(num_seq_vals)\n",
    "        \n",
    "        # snip the spectrogram array to values that are of interest \n",
    "        Sx_abs = Sx_abs[:ind+1 , :]\n",
    "\n",
    "        #Generate the power from the magnitude\n",
    "        Sx_db = 10*np.log10( np.square(Sx_abs))\n",
    "        \n",
    "        channel_spectrograms.append(Sx_db)\n",
    "        # [Sx_db , time_vals , frequency_vals]\n",
    "    \n",
    "    stacked_arrays = np.stack( channel_spectrograms)\n",
    "    mean_spectrogram = np.mean(stacked_arrays, axis = 0)\n",
    "    regional_spectrograms.append(mean_spectrogram)"
   ]
  },
  {
   "cell_type": "code",
   "execution_count": 93,
   "id": "6e04444f-5205-4b3e-81e5-ff4a74964772",
   "metadata": {},
   "outputs": [
    {
     "data": {
      "text/plain": [
       "30.859375"
      ]
     },
     "execution_count": 93,
     "metadata": {},
     "output_type": "execute_result"
    }
   ],
   "source": [
    "time_vals[80]"
   ]
  },
  {
   "cell_type": "markdown",
   "id": "ae23d4cd-9c32-441c-ad40-adcb48e0fea7",
   "metadata": {},
   "source": [
    "#### 3. Generate 1 minute spectrogram slices "
   ]
  },
  {
   "cell_type": "code",
   "execution_count": 95,
   "id": "1c7ed410-690a-49dd-8b95-162c75e6f546",
   "metadata": {},
   "outputs": [
    {
     "data": {
      "text/plain": [
       "(array([705.,   0.,   0.,   0.,   0.,   0.,   0.,   0.,   0., 913.]),\n",
       " array([0. , 0.1, 0.2, 0.3, 0.4, 0.5, 0.6, 0.7, 0.8, 0.9, 1. ]),\n",
       " <BarContainer object of 10 artists>)"
      ]
     },
     "execution_count": 95,
     "metadata": {},
     "output_type": "execute_result"
    },
    {
     "data": {
      "image/png": "[encoded data removed]",
      "text/plain": [
       "<Figure size 640x480 with 1 Axes>"
      ]
     },
     "metadata": {},
     "output_type": "display_data"
    }
   ],
   "source": [
    "# Generate 30 second slices\n",
    "# The 157 for 1 minute is derived from the time_vals axis in the spectrogram\n",
    "segment_length = 110\n",
    "overlap = 0.5 \n",
    "\n",
    "spectrogram_slices = []\n",
    "y_slice_labels = []\n",
    "y_slice_groups = []\n",
    "\n",
    "for spectrogram, label, group in zip(regional_spectrograms, y_binary, groups_binary):\n",
    "    \n",
    "    num_segments = int( np.floor(spectrogram.shape[1]/segment_length) )\n",
    "    new_specs = []\n",
    "    \n",
    "    for i in np.arange(0,num_segments, 1 - overlap):\n",
    "        if i > num_segments - 1 :\n",
    "            # if signal is 4 full minutes, I don't want it to try and take a window from 3.5 minutes to 4.5 minutes\n",
    "            # will be an incomplete slice causing errors downstream, needs to stop \n",
    "            break\n",
    "          \n",
    "        start_index = int( np.floor(i*segment_length) )\n",
    "        end_index = start_index + segment_length\n",
    "        new_spec = spectrogram[: , start_index : end_index]\n",
    "        \n",
    "        spectrogram_slices.append(new_spec)\n",
    "        y_slice_labels.append(label)\n",
    "        y_slice_groups.append(group)\n",
    "        \n",
    "plt.hist(np.array(y_slice_labels) )"
   ]
  },
  {
   "cell_type": "code",
   "execution_count": 70,
   "id": "14193937-a119-42f9-bf94-9d707389a8a9",
   "metadata": {},
   "outputs": [
    {
     "data": {
      "text/plain": [
       "(array([76.,  0.,  0.,  0.,  0.,  0.,  0.,  0.,  0., 52.]),\n",
       " array([0. , 0.1, 0.2, 0.3, 0.4, 0.5, 0.6, 0.7, 0.8, 0.9, 1. ]),\n",
       " <BarContainer object of 10 artists>)"
      ]
     },
     "execution_count": 70,
     "metadata": {},
     "output_type": "execute_result"
    },
    {
     "data": {
      "image/png": "[encoded data removed]",
      "text/plain": [
       "<Figure size 640x480 with 1 Axes>"
      ]
     },
     "metadata": {},
     "output_type": "display_data"
    }
   ],
   "source": [
    "# The 157 for 1 minute is derived from the time_vals axis in the spectrogram\n",
    "overlap = 0.5 \n",
    "\n",
    "spectrogram_slices = []\n",
    "y_slice_labels = []\n",
    "y_slice_groups = []\n",
    "\n",
    "for spectrogram, label, group in zip(regional_spectrograms, y_binary, groups_binary):\n",
    "    \n",
    "    num_segments = int( np.floor(spectrogram.shape[1]/157) )\n",
    "    new_specs = []\n",
    "    \n",
    "    for i in np.arange(0,num_segments, 1 - overlap):\n",
    "        if i > num_segments - 1 :\n",
    "            # if signal is 4 full minutes, I don't want it to try and take a window from 3.5 minutes to 4.5 minutes\n",
    "            # will be an incomplete slice causing errors downstream, needs to stop \n",
    "            break\n",
    "          \n",
    "        start_index = int( np.floor(i*157) )\n",
    "        end_index = start_index + 157\n",
    "        new_spec = spectrogram[: , start_index : end_index]\n",
    "        \n",
    "        spectrogram_slices.append(new_spec)\n",
    "        y_slice_labels.append(label)\n",
    "        y_slice_groups.append(group)\n",
    "        \n",
    "plt.hist(np.array(y_slice_labels) )"
   ]
  },
  {
   "cell_type": "markdown",
   "id": "2882547b-0441-48b8-b240-8f4810e769df",
   "metadata": {},
   "source": [
    "#### 4. Create the CNN"
   ]
  },
  {
   "cell_type": "code",
   "execution_count": 33,
   "id": "68e40dbc-0af4-4fb3-88d1-70d99ac24dbf",
   "metadata": {},
   "outputs": [
    {
     "data": {
      "text/plain": [
       "(64, 110)"
      ]
     },
     "execution_count": 33,
     "metadata": {},
     "output_type": "execute_result"
    }
   ],
   "source": [
    "#I want to dynamically change the shape of the CNN according to the size of the input \n",
    "spectrogram_slices[0].shape"
   ]
  },
  {
   "cell_type": "code",
   "execution_count": 12,
   "id": "911cd2cf-df7f-45a1-a5ad-6bb7186408cc",
   "metadata": {},
   "outputs": [],
   "source": [
    "# Conv layer\n",
    "# 64 x 157 ---> 61 x 154\n",
    "# Max Pool \n",
    "# 16 channels ---> 61 / 4 , 154 / 4 ..... 15.25 x 38.5 ... 15 x 38\n",
    "# Conv layer 15 x 38 ---> 12 x 35 \n",
    "# Max Pool 15 x 38 ---> 3 x 8 "
   ]
  },
  {
   "cell_type": "code",
   "execution_count": 96,
   "id": "6c89bbc1-ab2f-4e00-a3a6-1281f2d2f833",
   "metadata": {},
   "outputs": [
    {
     "data": {
      "text/plain": [
       "8"
      ]
     },
     "execution_count": 96,
     "metadata": {},
     "output_type": "execute_result"
    }
   ],
   "source": [
    "def out_dim(x):\n",
    "    '''\n",
    "    Function to calculate output dimensions for neural network to make it easy for me to define NN for changing window sizes. \n",
    "    Action on width and height dim sizes are currently equivalent\n",
    "    '''\n",
    "    x = x-3 #convolutional filter of size 4 applied \n",
    "    x = int( np.floor(x/4) ) # effect of maxpooling 4 x 4 \n",
    "    x = x-3 #convolutional filter of size 4 applied\n",
    "    x = int( np.floor(x/4) ) # effect of maxpooling 4 x 4 \n",
    "    return x\n",
    "    \n",
    "out_dim(157)"
   ]
  },
  {
   "cell_type": "code",
   "execution_count": 97,
   "id": "70ba85dd-4150-434d-add8-457e1f37c077",
   "metadata": {},
   "outputs": [],
   "source": [
    "class AdaptiveConvolutionalNetwork(nn.Module):\n",
    "    def __init__(self, input_width = 110 , input_height = 64):\n",
    "        super().__init__()\n",
    "        self.conv1 = nn.Conv2d(1,6,4,1)\n",
    "        self.conv2 = nn.Conv2d(6, 16, 4, 1)\n",
    "\n",
    "        self.out_h = out_dim(input_height) \n",
    "        self.out_w = out_dim(input_width)\n",
    "        \n",
    "        self.fc1 = nn.Linear(16*self.out_h*self.out_w, int(np.floor( 16*self.out_h*self.out_w / 2) ))\n",
    "        self.fc2 = nn.Linear(int(np.floor( 16*self.out_h*self.out_w / 2) ), 50)\n",
    "        self.fc3 = nn.Linear(50,1)\n",
    "        \n",
    "    def forward(self, X):\n",
    "        X = F.relu(self.conv1(X))\n",
    "        X = F.max_pool2d(X,4,4)\n",
    "        X = F.relu(self.conv2(X))\n",
    "        X = F.max_pool2d(X,4,4)\n",
    "        \n",
    "        X = X.view(-1, 16*self.out_h*self.out_w)\n",
    "        \n",
    "        X = F.relu(self.fc1(X) )\n",
    "        X = F.relu(self.fc2(X))\n",
    "        X = self.fc3(X)\n",
    "        \n",
    "        # return F.log_softmax(X, dim=1 )\n",
    "        return X"
   ]
  },
  {
   "cell_type": "code",
   "execution_count": 22,
   "id": "685fd477-def9-4f7e-ae95-2a7614231d84",
   "metadata": {},
   "outputs": [],
   "source": [
    "class ConvolutionalNetwork(nn.Module):\n",
    "    def __init__(self):\n",
    "        super().__init__()\n",
    "        self.conv1 = nn.Conv2d(1,6,4,1)\n",
    "        self.conv2 = nn.Conv2d(6, 16, 4, 1)\n",
    "        \n",
    "        self.fc1 = nn.Linear(16*3*8, 200)\n",
    "        self.fc2 = nn.Linear(200, 60)\n",
    "        self.fc3 = nn.Linear(60,1)\n",
    "        \n",
    "    def forward(self, X):\n",
    "        X = F.relu(self.conv1(X))\n",
    "        X = F.max_pool2d(X,4,4)\n",
    "        X = F.relu(self.conv2(X))\n",
    "        X = F.max_pool2d(X,4,4)\n",
    "        \n",
    "        X = X.view(-1, 16*3*8)\n",
    "        \n",
    "        X = F.relu(self.fc1(X) )\n",
    "        X = F.relu(self.fc2(X))\n",
    "        X = self.fc3(X)\n",
    "        \n",
    "        # return F.log_softmax(X, dim=1 )\n",
    "        return X"
   ]
  },
  {
   "cell_type": "markdown",
   "id": "631db843-a3d7-42b8-a2f1-d6b1a2519324",
   "metadata": {},
   "source": [
    "#### 5. Fit the model"
   ]
  },
  {
   "cell_type": "markdown",
   "id": "e8f5382f-c75e-4024-b259-1f14169f5151",
   "metadata": {},
   "source": [
    "##### Trialling splits of the data according to group (participant id)"
   ]
  },
  {
   "cell_type": "code",
   "execution_count": 98,
   "id": "d3ef0b47-efc8-4eec-aee6-20e4b4b93693",
   "metadata": {},
   "outputs": [],
   "source": [
    "from sklearn.model_selection import train_test_split\n",
    "from sklearn.model_selection import GroupKFold"
   ]
  },
  {
   "cell_type": "code",
   "execution_count": 99,
   "id": "6bd7f064",
   "metadata": {},
   "outputs": [
    {
     "data": {
      "text/plain": [
       "array([1102, 1103, 1104, 1105, 1108, 1109, 1110, 1111, 1112, 1113, 1116,\n",
       "       1118, 4403, 4404, 4406, 4407, 4409, 4410])"
      ]
     },
     "execution_count": 99,
     "metadata": {},
     "output_type": "execute_result"
    }
   ],
   "source": [
    "np.unique(groups_train)"
   ]
  },
  {
   "cell_type": "code",
   "execution_count": 100,
   "id": "5c7b0055",
   "metadata": {},
   "outputs": [],
   "source": [
    "# Function to check the condition\n",
    "def check_numbers(arr):\n",
    "    arr = np.unique(arr)\n",
    "    count_1s = sum(str(num).startswith('1') for num in arr)\n",
    "    count_4s = sum(str(num).startswith('4') for num in arr)\n",
    "    \n",
    "    return count_1s >= 2 and count_4s >= 2"
   ]
  },
  {
   "cell_type": "code",
   "execution_count": 101,
   "id": "da50acfb",
   "metadata": {},
   "outputs": [
    {
     "data": {
      "text/plain": [
       "True"
      ]
     },
     "execution_count": 101,
     "metadata": {},
     "output_type": "execute_result"
    }
   ],
   "source": [
    "# Function to check the condition\n",
    "check_numbers(groups_train)"
   ]
  },
  {
   "cell_type": "code",
   "execution_count": 102,
   "id": "ceafc16a",
   "metadata": {},
   "outputs": [
    {
     "data": {
      "text/plain": [
       "array([1101, 1101, 1101, ..., 4411, 4411, 4411])"
      ]
     },
     "execution_count": 102,
     "metadata": {},
     "output_type": "execute_result"
    }
   ],
   "source": [
    "# Function to check the condition\n",
    "\n",
    "groups"
   ]
  },
  {
   "cell_type": "code",
   "execution_count": 103,
   "id": "3d251376-740f-4308-a6df-d60c8d231415",
   "metadata": {},
   "outputs": [
    {
     "name": "stdout",
     "output_type": "stream",
     "text": [
      "fold 1\n",
      "60. | 19. | 20. | \n",
      "[1102 1103 1104 1105 1108 1109 1110 1111 1112 1113 1116 1118 4403 4404\n",
      " 4406 4407 4409 4410]\n",
      "[1101 1106 4405 4408 4411]\n",
      "[1117 1119 4401 4402]\n",
      "__________________________________________________________________________\n",
      "fold 2\n",
      "60. | 20. | 19. | \n",
      "[1102 1103 1104 1105 1108 1109 1110 1111 1112 1113 1116 1117 4403 4404\n",
      " 4406 4407 4409 4410]\n",
      "[1118 1119 4401 4402]\n",
      "[1101 1106 4405 4408 4411]\n",
      "__________________________________________________________________________\n",
      "fold 3\n",
      "59. | 20. | 20. | \n",
      "[1101 1103 1106 1108 1109 1110 1111 1113 1116 1118 4405 4406 4407 4408\n",
      " 4409 4410 4411]\n",
      "[1117 1119 4401 4402]\n",
      "[1102 1104 1105 1112 4403 4404]\n",
      "__________________________________________________________________________\n",
      "fold 4\n",
      "59. | 20. | 20. | \n",
      "[1101 1102 1105 1106 1108 1109 1110 1111 1112 1113 1116 4402 4403 4404\n",
      " 4405 4408 4411]\n",
      "[1104 1117 1119 4401]\n",
      "[1103 1118 4406 4407 4409 4410]\n",
      "__________________________________________________________________________\n",
      "fold 5\n",
      "59. | 20. | 20. | \n",
      "[1101 1102 1103 1104 1105 1106 1112 1117 4403 4404 4405 4406 4407 4408\n",
      " 4409 4410 4411]\n",
      "[1118 1119 4401 4402]\n",
      "[1108 1109 1110 1111 1113 1116]\n",
      "__________________________________________________________________________\n"
     ]
    }
   ],
   "source": [
    "# spectrogram_slices, y_slice_labels and y_slice_groups to work with\n",
    "train_val_test_dict = {}\n",
    "\n",
    "for value in ['train' , 'val', 'test']:\n",
    "    train_val_test_dict[value] = {}\n",
    "\n",
    "X = np.stack(spectrogram_slices)\n",
    "y = np.array(y_slice_labels)\n",
    "groups = np.array( [int(group) for group in y_slice_groups] )\n",
    "\n",
    "gkf = GroupKFold(n_splits = 5) \n",
    "fold = 0\n",
    "\n",
    "for full_train_index, test_index  in gkf.split(X, y, groups*-1):\n",
    "    fold += 1\n",
    "    \n",
    "    X_full_train, y_full_train, groups_full_train = X[full_train_index], y[full_train_index] , groups[full_train_index]\n",
    "    X_test, y_test, groups_test =   X[test_index], y[test_index] , groups[test_index]\n",
    "    \n",
    "    gkf_inner = GroupKFold(n_splits = 4) \n",
    "    for train_index, val_index  in gkf_inner.split(X_full_train, y_full_train, groups_full_train):\n",
    "        X_train, y_train, groups_train = X_full_train[train_index], y_full_train[train_index] , groups_full_train[train_index]\n",
    "        X_val, y_val, groups_val =  X_full_train[val_index], y_full_train[val_index] , groups_full_train[val_index]\n",
    "\n",
    "         \n",
    "        train_val_test_dict['train'][fold] = X_train, y_train, groups_train\n",
    "        train_val_test_dict['val'][fold]   = X_val, y_val, groups_val\n",
    "        break\n",
    "        \n",
    "\n",
    "    \n",
    "    train_val_test_dict['test'][fold]  = X_test, y_test, groups_test\n",
    "    \n",
    "    total_len = len(X) \n",
    "    val_percent = 100*(len(X_val) / total_len)\n",
    "    train_percent = 100*(len(X_train) / total_len)\n",
    "    test_percent = 100*(len(X_test) / total_len)\n",
    "    print('fold ' + str(fold) ) \n",
    "    print( str(train_percent)[:3] + ' | '  + str(val_percent)[:3] + ' | ' + str(test_percent)[:3] + ' | ' )\n",
    "\n",
    "    # testing that the splits are as expected\n",
    "    print( np.unique(groups_train) )\n",
    "    print( np.unique(groups_val) )\n",
    "    print( np.unique(groups_test) ) \n",
    "    \n",
    "    print('__________________________________________________________________________')\n",
    "\n",
    "#Output from this section of code is X_train, y_train, groups_train AND X_test, y_test, groups_test "
   ]
  },
  {
   "cell_type": "markdown",
   "id": "58c701de-c49f-4672-86cf-38279303e6bd",
   "metadata": {},
   "source": [
    "##### Creating data loader"
   ]
  },
  {
   "cell_type": "code",
   "execution_count": 104,
   "id": "5aaf4a70-02f3-4fb6-a649-b8cead5b6127",
   "metadata": {},
   "outputs": [
    {
     "data": {
      "text/plain": [
       "'NVIDIA A100-SXM4-40GB'"
      ]
     },
     "execution_count": 104,
     "metadata": {},
     "output_type": "execute_result"
    }
   ],
   "source": [
    "#Choose which fold _______________________\n",
    "# It is problematic that y_val here is also named in the below training code as y_val\n",
    "fold = 1\n",
    "X_train, y_train, groups_train = train_val_test_dict['train'][fold]\n",
    "X_val, y_val, groups_val = train_val_test_dict['val'][fold] \n",
    "X_test, y_test, groups_test = train_val_test_dict['test'][fold]  \n",
    "\n",
    "# Creating train and test data loaders\n",
    "input_width = 110\n",
    "train_data = [ (torch.from_numpy(spectrogram).float().view(1,64,input_width), val) for spectrogram, val in zip(X_train, y_train) ] \n",
    "train_loader = DataLoader(train_data, batch_size=5, shuffle=True)\n",
    "\n",
    "val_data = [ (torch.from_numpy(spectrogram).float().view(1,64,input_width), val) for spectrogram, val in zip(X_val, y_val) ] \n",
    "val_loader = DataLoader(val_data , batch_size=5, shuffle=False)\n",
    "\n",
    "test_data = [ (torch.from_numpy(spectrogram).float().view(1,64,input_width), val) for spectrogram, val in zip(X_test, y_test) ] \n",
    "test_loader = DataLoader(test_data , batch_size=5, shuffle=False)\n",
    "\n",
    "torch.cuda.get_device_name(0)"
   ]
  },
  {
   "cell_type": "markdown",
   "id": "6f034ea2-68a3-4aee-8432-368722020bcf",
   "metadata": {},
   "source": [
    "##### Fit the model"
   ]
  },
  {
   "cell_type": "code",
   "execution_count": 105,
   "id": "6e683ea7-a3fd-4d82-ae87-f72be01eb193",
   "metadata": {},
   "outputs": [
    {
     "name": "stdout",
     "output_type": "stream",
     "text": [
      "cuda\n"
     ]
    }
   ],
   "source": [
    "device = torch.device(\"cuda\" if torch.cuda.is_available() else \"cpu\")\n",
    "print(device)\n",
    "\n",
    "model = ConvolutionalNetwork()\n",
    "model = AdaptiveConvolutionalNetwork(input_width = input_width)\n",
    "model.to(device)\n",
    "\n",
    "criterion = nn.BCEWithLogitsLoss()\n",
    "optimizer = torch.optim.Adam(model.parameters(), lr = 0.001 )"
   ]
  },
  {
   "cell_type": "code",
   "execution_count": 106,
   "id": "9acdeddc-def2-4259-958e-355c41f9b2c1",
   "metadata": {},
   "outputs": [
    {
     "name": "stdout",
     "output_type": "stream",
     "text": [
      "\n",
      "Duration: 34 seconds\n"
     ]
    }
   ],
   "source": [
    "import time\n",
    "\n",
    "start_time = time.time()\n",
    "\n",
    "epochs = 100\n",
    "train_losses = []\n",
    "val_losses = []\n",
    "test_losses = []\n",
    "\n",
    "train_correct = []\n",
    "val_correct = []\n",
    "test_correct = []\n",
    "\n",
    "for i in range(epochs):\n",
    "    trn_corr = 0\n",
    "    val_corr = 0\n",
    "    tst_corr = 0\n",
    "     \n",
    "    \n",
    "    trn_loss = 0\n",
    "    val_loss = 0\n",
    "    tst_loss = 0\n",
    "    \n",
    "    # Run the training batches\n",
    "    for b, (X_train_batch, y_train_batch) in enumerate(train_loader):\n",
    "        b+=1\n",
    "\n",
    "        #Move train data to the GPU\n",
    "        X_train_batch = X_train_batch.to(device)\n",
    "        y_train_batch = y_train_batch.to(device)\n",
    "        \n",
    "        # Apply the model\n",
    "        y_pred = model(X_train_batch)  # we don't flatten X-train here\n",
    "        loss = criterion(y_pred, y_train_batch.unsqueeze(1).float())\n",
    " \n",
    "        # Tally the number of correct predictions\n",
    "        predicted = torch.round(F.sigmoid(y_pred.detach() ) )\n",
    "        predicted = predicted.reshape(y_train_batch.shape)\n",
    "        \n",
    "        batch_corr = (predicted == y_train_batch).sum()\n",
    "        trn_corr += batch_corr\n",
    "        trn_loss += loss\n",
    "        \n",
    "        # Update parameters\n",
    "        optimizer.zero_grad()\n",
    "        loss.backward()\n",
    "        optimizer.step()\n",
    "        \n",
    "    train_losses.append(trn_loss)\n",
    "    train_correct.append(trn_corr)\n",
    "\n",
    "    # Run the validation batches\n",
    "    # Some of the variables in this loop have the same name as the variables in the above loop... be aware of that plz!\n",
    "    with torch.no_grad():\n",
    "        for b, (X_val_batch, y_val_batch) in enumerate(val_loader):\n",
    "            b+=1\n",
    "            \n",
    "            #Move train data to the GPU\n",
    "            X_val_batch = X_val_batch.to(device)\n",
    "            y_val_batch = y_val_batch.to(device)\n",
    "\n",
    "            # Apply the model\n",
    "            y_val = model(X_val_batch)\n",
    "\n",
    "            # Tally the number of correct predictions\n",
    "            predicted = torch.round(F.sigmoid(y_val.detach() ) )\n",
    "            predicted = predicted.reshape(y_val_batch.shape)\n",
    "            \n",
    "            batch_corr = (predicted == y_val_batch).sum()\n",
    "            val_corr += batch_corr\n",
    "\n",
    "            \n",
    "            loss = criterion(y_val, y_val_batch.unsqueeze(1).float())\n",
    "            val_loss += loss \n",
    "           \n",
    "    val_losses.append(val_loss)\n",
    "    val_correct.append(val_corr)\n",
    "\n",
    "    \n",
    "    # Run the testing batches\n",
    "    # Some of the variables in this loop have the same name as the variables in the above loop... be aware of that plz!\n",
    "    with torch.no_grad():\n",
    "        for b, (X_test_batch, y_test_batch) in enumerate(test_loader):\n",
    "            b+=1\n",
    "            \n",
    "            #Move train data to the GPU\n",
    "            X_test_batch = X_test_batch.to(device)\n",
    "            y_test_batch = y_test_batch.to(device)\n",
    "\n",
    "            # Apply the model\n",
    "            y_val = model(X_test_batch)\n",
    "\n",
    "            # Tally the number of correct predictions\n",
    "            predicted = torch.round(F.sigmoid(y_val.detach() ) )\n",
    "            predicted = predicted.reshape(y_test_batch.shape)\n",
    "            \n",
    "            batch_corr = (predicted == y_test_batch).sum()\n",
    "            tst_corr += batch_corr\n",
    "            \n",
    "            loss = criterion(y_val, y_test_batch.unsqueeze(1).float())\n",
    "            tst_loss += loss \n",
    "           \n",
    "    test_losses.append(tst_loss)\n",
    "    test_correct.append(tst_corr)\n",
    "\n",
    "\n",
    "        \n",
    "        \n",
    "print(f'\\nDuration: {time.time() - start_time:.0f} seconds') # print the time elapsed       "
   ]
  },
  {
   "cell_type": "code",
   "execution_count": 107,
   "id": "7422313c-3a59-4fd1-a7f1-07e79d4e1cbd",
   "metadata": {},
   "outputs": [
    {
     "data": {
      "text/plain": [
       "Text(0.5, 0, 'epochs')"
      ]
     },
     "execution_count": 107,
     "metadata": {},
     "output_type": "execute_result"
    },
    {
     "data": {
      "image/png": "[encoded data removed]",
      "text/plain": [
       "<Figure size 640x480 with 1 Axes>"
      ]
     },
     "metadata": {},
     "output_type": "display_data"
    }
   ],
   "source": [
    "plt.plot([(val.cpu() / len(X_train) ) for val in train_correct], label='training set accuracy')\n",
    "plt.plot([(val.cpu()/len(X_val) ) for val in val_correct], label='validation set accuracy')\n",
    "plt.plot([(val.cpu()/len(X_test) ) for val in test_correct], label='test set accuracy')\n",
    "plt.legend()\n",
    "plt.ylabel('accuracy')\n",
    "plt.xlabel('epochs')"
   ]
  },
  {
   "cell_type": "code",
   "execution_count": 108,
   "id": "d00def1f-dc8d-46b1-8659-0079c27f6313",
   "metadata": {},
   "outputs": [
    {
     "data": {
      "text/plain": [
       "<matplotlib.legend.Legend at 0x7fc0c8a37d10>"
      ]
     },
     "execution_count": 108,
     "metadata": {},
     "output_type": "execute_result"
    },
    {
     "data": {
      "image/png": "[encoded data removed]",
      "text/plain": [
       "<Figure size 640x480 with 1 Axes>"
      ]
     },
     "metadata": {},
     "output_type": "display_data"
    }
   ],
   "source": [
    "plt.plot([val.detach().cpu().numpy() for val in train_losses], label='training loss')\n",
    "\n",
    "plt.legend()"
   ]
  }
 ],
 "metadata": {
  "kernelspec": {
   "display_name": "Python 3 (ipykernel)",
   "language": "python",
   "name": "python3"
  },
  "language_info": {
   "codemirror_mode": {
    "name": "ipython",
    "version": 3
   },
   "file_extension": ".py",
   "mimetype": "text/x-python",
   "name": "python",
   "nbconvert_exporter": "python",
   "pygments_lexer": "ipython3",
   "version": "3.11.3"
  }
 },
 "nbformat": 4,
 "nbformat_minor": 5
}
