{
 "cells": [
  {
   "cell_type": "code",
   "execution_count": 60,
   "id": "2232c392-f494-46bd-aaaf-3f568b72d01d",
   "metadata": {},
   "outputs": [],
   "source": [
    "import pandas as pd\n",
    "import mne as mne\n",
    "import os \n",
    "import time\n",
    "import numpy as np\n",
    "import matplotlib.pyplot as plt\n",
    "import joblib\n",
    "import constants\n",
    "from IPython.utils import io\n",
    "import time\n",
    "import sys\n",
    "import yasa\n",
    "from scipy.signal import welch\n",
    "import random\n",
    "from sklearn.model_selection import train_test_split\n",
    "from sklearn.model_selection import GroupKFold\n",
    "\n",
    "from scipy.signal import ShortTimeFFT\n",
    "from scipy.signal.windows import gaussian\n",
    "\n",
    "#Import my modules\n",
    "import format_eeg_data\n",
    "import constants\n",
    "import eeg_stat_ts\n",
    "\n",
    "#Pytorch imports\n",
    "import torch\n",
    "import torch.nn as nn\n",
    "import torch.nn.functional as F\n",
    "from torch.utils.data import DataLoader\n",
    "from torchvision import datasets, transforms"
   ]
  },
  {
   "cell_type": "code",
   "execution_count": 61,
   "id": "85b2b9a3-84a0-42b1-9c97-579ddea5fa1c",
   "metadata": {},
   "outputs": [
    {
     "data": {
      "text/plain": [
       "'/user/home/ko20929/.local/share/jupyter/runtime/kernel-6bfe2d12-eaa3-4ee3-925d-9ba63e111d66.json'"
      ]
     },
     "execution_count": 61,
     "metadata": {},
     "output_type": "execute_result"
    }
   ],
   "source": [
    "sys.argv[2] #This will be the first user input, second is "
   ]
  },
  {
   "cell_type": "code",
   "execution_count": 93,
   "id": "fd259be6-4bb1-460a-875f-6ffa4542f037",
   "metadata": {},
   "outputs": [
    {
     "data": {
      "text/plain": [
       "0.9"
      ]
     },
     "execution_count": 93,
     "metadata": {},
     "output_type": "execute_result"
    }
   ],
   "source": [
    "float('0.9')"
   ]
  },
  {
   "cell_type": "code",
   "execution_count": 92,
   "id": "3a2acc87-0181-4950-b61b-108e3ee89c83",
   "metadata": {},
   "outputs": [
    {
     "data": {
      "text/plain": [
       "float"
      ]
     },
     "execution_count": 92,
     "metadata": {},
     "output_type": "execute_result"
    }
   ],
   "source": [
    "type(0.9)"
   ]
  },
  {
   "cell_type": "code",
   "execution_count": 91,
   "id": "b854055c-0c4b-4860-a2ef-a57077a18c53",
   "metadata": {},
   "outputs": [],
   "source": [
    "input_string = '[2,4,5,7]'\n",
    "# Strip the brackets and split by comma\n",
    "numbers = input_string.strip('[]').split(',')\n",
    "# Convert each number from string to int\n",
    "numbers = [int(num) for num in numbers]"
   ]
  },
  {
   "cell_type": "code",
   "execution_count": 75,
   "id": "0e48715a-ddbf-45d2-8a34-4f272bf0535b",
   "metadata": {},
   "outputs": [],
   "source": [
    "#Script Inputs : \n",
    "data_type = 'N1' #This is a user input\n",
    "seeds = [50] #This is a user input list\n",
    "overlap = 0.9 #User input\n",
    "region = 'Prefrontal' #user input\n",
    "g_std = 200 #User input\n",
    "window_width = g_std*2 #could be a user input?\n",
    "hop = 100 #Hop in samples is user input\n",
    "segment_length = 80 #User input (I need to edit the code to have this as a user input)\n",
    "folder = 'Results/Folder_1/'"
   ]
  },
  {
   "cell_type": "markdown",
   "id": "9a0af081-a434-435f-9e80-98c6ec012839",
   "metadata": {},
   "source": [
    "#### 1. Load the data"
   ]
  },
  {
   "cell_type": "code",
   "execution_count": 42,
   "id": "492fa1c6-da45-4c55-8366-f0130c37633e",
   "metadata": {},
   "outputs": [],
   "source": [
    "df_list = joblib.load(data_type + '_normalised_dataframes.pkl')\n",
    "# 1. generate all path names and class list(s) etc. \n",
    "folder = '/user/home/ko20929/work/RBD_using_custom_package/Blue_pebble/'\n",
    "paths = joblib.load(folder + data_type + '_paths.pkl') # keys : ['selected_paths', 's_class_list', 's_night_list', 's_sleep_type', 's_p_id']\n",
    "\n",
    "class_label_dict = {'HC': 0 , 'PD' : 1 , 'PD+RBD' : 2 , 'RBD' : 3} #Dictionary used to label the classes for reference\n",
    "y = np.array([class_label_dict[c_name] for c_name in paths['s_class_list'] ] )\n",
    "groups = paths['s_p_id']\n",
    "\n",
    "wake_dfs_binary = []\n",
    "y_binary = []\n",
    "groups_binary = []\n",
    "\n",
    "for df , class_label , group in zip(df_list, y, groups):\n",
    "    if class_label in [0,1]:\n",
    "        wake_dfs_binary.append(df)\n",
    "        y_binary.append(class_label)\n",
    "        groups_binary.append(group)\n",
    "\n",
    "y_binary = np.array(y_binary)"
   ]
  },
  {
   "cell_type": "markdown",
   "id": "341b7ec1-3ec4-4556-a627-7abae2705bd1",
   "metadata": {},
   "source": [
    "#### 2. Generate the spectrograms (Prefrontal)"
   ]
  },
  {
   "cell_type": "code",
   "execution_count": 107,
   "id": "ff306965-baeb-4d34-973b-fe58aa3a6fb0",
   "metadata": {},
   "outputs": [],
   "source": [
    "g_std = 150\n",
    "window_width = g_std*2 "
   ]
  },
  {
   "cell_type": "code",
   "execution_count": 108,
   "id": "87dd2161-bf0d-4d5a-8a54-495983b34fca",
   "metadata": {},
   "outputs": [],
   "source": [
    "regions = constants.regions\n",
    "region_channel_dict = constants.region_to_channel_dict\n",
    "channel_list = constants.channel_list\n",
    "region_channel_dict[region]\n",
    "\n",
    "\n",
    "#For each dataframe generate a spectrogram\n",
    "regional_spectrograms = []\n",
    "\n",
    "for df in wake_dfs_binary:\n",
    "    \n",
    "    channel_spectrograms = []\n",
    "    for channel in region_channel_dict[region]:\n",
    "        \n",
    "        #for each channel generate a spectrogram, then take the mean of the spectrograms to get the regional spectrogram\n",
    "           \n",
    "        eeg_data = df[channel].values \n",
    "\n",
    "        # g_std is standard deviation for Gaussian window in samples\n",
    "        w = gaussian(window_width, std=g_std, sym=True)  # symmetric Gaussian window of total width 'window_width' samples\n",
    "        mfft = max(256 , g_std*2)\n",
    "        \n",
    "        #Perform STFT \n",
    "        SFT = ShortTimeFFT(w, hop=hop, fs=256, mfft=mfft, scale_to='magnitude')   \n",
    "        Sx = SFT.stft(eeg_data)  \n",
    "        Sx_abs = abs(Sx)\n",
    "        \n",
    "        #I can obtain the corresponding frequency values for this spectrogram with \n",
    "        frequency_vals = SFT.f\n",
    "        \n",
    "        # I want to snip the frequency values to the range I'm interested in 0-40 Hz\n",
    "        def find_first_above(array, threshold):\n",
    "            for index, value in enumerate(array):\n",
    "                if value > threshold:\n",
    "                    return index\n",
    "            return -1  # Return -1 if no such value is found\n",
    "        \n",
    "        ind = find_first_above(frequency_vals, 40)\n",
    "        \n",
    "        frequency_vals = frequency_vals[:ind+1]\n",
    "        \n",
    "        #To update the time values I need to input the number of vals in the original sequency \n",
    "        num_seq_vals = len(eeg_data)\n",
    "        time_vals = SFT.t(num_seq_vals)\n",
    "        \n",
    "        # snip the spectrogram array to values that are of interest \n",
    "        Sx_abs = Sx_abs[:ind+1 , :]\n",
    "\n",
    "        #Generate the power from the magnitude\n",
    "        Sx_db = 10*np.log10( np.square(Sx_abs))\n",
    "        \n",
    "        channel_spectrograms.append(Sx_db)\n",
    "        # [Sx_db , time_vals , frequency_vals]\n",
    "    \n",
    "    stacked_arrays = np.stack( channel_spectrograms)\n",
    "    mean_spectrogram = np.mean(stacked_arrays, axis = 0)\n",
    "    regional_spectrograms.append(mean_spectrogram)"
   ]
  },
  {
   "cell_type": "code",
   "execution_count": 109,
   "id": "3142081e-d244-4b26-9eb5-74eb0e031d47",
   "metadata": {},
   "outputs": [],
   "source": [
    "input_height = len(frequency_vals)"
   ]
  },
  {
   "cell_type": "code",
   "execution_count": 110,
   "id": "6e04444f-5205-4b3e-81e5-ff4a74964772",
   "metadata": {},
   "outputs": [
    {
     "data": {
      "text/plain": [
       "30.859375"
      ]
     },
     "execution_count": 110,
     "metadata": {},
     "output_type": "execute_result"
    }
   ],
   "source": [
    "time_vals[80] #This is the length of the segment so I can print this to an output file if necessary - ok? "
   ]
  },
  {
   "cell_type": "markdown",
   "id": "ae23d4cd-9c32-441c-ad40-adcb48e0fea7",
   "metadata": {},
   "source": [
    "#### 3. Generate spectrogram slices (for custom time)"
   ]
  },
  {
   "cell_type": "code",
   "execution_count": 111,
   "id": "1c7ed410-690a-49dd-8b95-162c75e6f546",
   "metadata": {},
   "outputs": [
    {
     "data": {
      "text/plain": [
       "(array([4825.,    0.,    0.,    0.,    0.,    0.,    0.,    0.,    0.,\n",
       "        6265.]),\n",
       " array([0. , 0.1, 0.2, 0.3, 0.4, 0.5, 0.6, 0.7, 0.8, 0.9, 1. ]),\n",
       " <BarContainer object of 10 artists>)"
      ]
     },
     "execution_count": 111,
     "metadata": {},
     "output_type": "execute_result"
    },
    {
     "data": {
      "image/png": "[encoded data removed]",
      "text/plain": [
       "<Figure size 640x480 with 1 Axes>"
      ]
     },
     "metadata": {},
     "output_type": "display_data"
    }
   ],
   "source": [
    "#segment_length is user input and overlap is user input at the start of the script\n",
    "\n",
    "spectrogram_slices = []\n",
    "y_slice_labels = []\n",
    "y_slice_groups = []\n",
    "\n",
    "for spectrogram, label, group in zip(regional_spectrograms, y_binary, groups_binary):\n",
    "    \n",
    "    num_segments = int( np.floor(spectrogram.shape[1]/segment_length) )\n",
    "    new_specs = []\n",
    "    \n",
    "    for i in np.arange(0,num_segments, 1 - overlap):\n",
    "        if i > num_segments - 1 :\n",
    "            # if signal is 4 full minutes, I don't want it to try and take a window from 3.5 minutes to 4.5 minutes\n",
    "            # will be an incomplete slice causing errors downstream, needs to stop \n",
    "            break\n",
    "          \n",
    "        start_index = int( np.floor(i*segment_length) )\n",
    "        end_index = start_index + segment_length\n",
    "        new_spec = spectrogram[: , start_index : end_index]\n",
    "        \n",
    "        spectrogram_slices.append(new_spec)\n",
    "        y_slice_labels.append(label)\n",
    "        y_slice_groups.append(group)\n",
    "        \n",
    "plt.hist(np.array(y_slice_labels) )\n",
    "# plt.savefig('Test_hist.png')"
   ]
  },
  {
   "cell_type": "markdown",
   "id": "2882547b-0441-48b8-b240-8f4810e769df",
   "metadata": {},
   "source": [
    "#### 4. Create the CNN"
   ]
  },
  {
   "cell_type": "code",
   "execution_count": 112,
   "id": "70ba85dd-4150-434d-add8-457e1f37c077",
   "metadata": {},
   "outputs": [],
   "source": [
    "def out_dim(x):\n",
    "    '''\n",
    "    Function to calculate output dimensions for neural network to make it easy for me to define NN for changing window sizes. \n",
    "    Action on width and height dim sizes are currently equivalent\n",
    "    '''\n",
    "    x = x-3 #convolutional filter of size 4 applied \n",
    "    x = int( np.floor(x/4) ) # effect of maxpooling 4 x 4 \n",
    "    x = x-3 #convolutional filter of size 4 applied\n",
    "    x = int( np.floor(x/4) ) # effect of maxpooling 4 x 4 \n",
    "    return x\n",
    "\n",
    "\n",
    "class AdaptiveConvolutionalNetwork(nn.Module):\n",
    "    def __init__(self, input_width = 110 , input_height = 64):\n",
    "        super().__init__()\n",
    "        self.conv1 = nn.Conv2d(1,6,4,1)\n",
    "        self.bn1 = nn.BatchNorm2d(6)  # Batch norm after first conv layer\n",
    "        self.conv2 = nn.Conv2d(6, 16, 4, 1)\n",
    "        self.bn2 = nn.BatchNorm2d(16)  # Batch norm after second conv layer\n",
    "\n",
    "        self.out_h = out_dim(input_height) \n",
    "        self.out_w = out_dim(input_width)\n",
    "        \n",
    "        self.fc1 = nn.Linear(16*self.out_h*self.out_w, int(np.floor( 16*self.out_h*self.out_w / 2) ))\n",
    "        self.bn3 = nn.BatchNorm1d(int(np.floor( 16*self.out_h*self.out_w / 2) ))\n",
    "\n",
    "        \n",
    "        self.fc2 = nn.Linear(int(np.floor( 16*self.out_h*self.out_w / 2) ), 50)\n",
    "        # self.fc3 = nn.Linear(80,10)\n",
    "        # self.fc4 = nn.Linear(10,1)\n",
    "        self.fc3 = nn.Linear(50,1)\n",
    "        \n",
    "    def forward(self, X):\n",
    "        \n",
    "        X = F.relu(self.bn1(self.conv1(X)))\n",
    "        X = nn.Dropout2d(p=0.2)(X) # Dropout after first conv layer\n",
    "        \n",
    "        X = F.max_pool2d(X,4,4)\n",
    "        X = F.relu(self.bn2(self.conv2(X)))\n",
    "        X = nn.Dropout2d(p=0.2)(X) # Dropout after second conv layer\n",
    "\n",
    "        X = F.max_pool2d(X,4,4)\n",
    "\n",
    "        \n",
    "        X = X.view(-1, 16*self.out_h*self.out_w)\n",
    "        X = F.relu(self.bn3(self.fc1(X) ) )\n",
    "        X = nn.Dropout(p=0.15)(X) # Dropout after first FC layer\n",
    "        \n",
    "        X = F.relu(self.fc2(X))\n",
    "        X = nn.Dropout(p=0.15)(X) # Dropout after first FC layer\n",
    "        \n",
    "        # X = F.relu(self.fc3(X) )\n",
    "        X = self.fc3(X)\n",
    "        # X = self.fc4(X) \n",
    "                \n",
    "        # return F.log_softmax(X, dim=1 )\n",
    "        return X"
   ]
  },
  {
   "cell_type": "markdown",
   "id": "631db843-a3d7-42b8-a2f1-d6b1a2519324",
   "metadata": {},
   "source": [
    "#### 5. Fit the model"
   ]
  },
  {
   "cell_type": "code",
   "execution_count": 113,
   "id": "869c64a3-bc9e-41ca-97e9-73dc901ae236",
   "metadata": {},
   "outputs": [
    {
     "name": "stdout",
     "output_type": "stream",
     "text": [
      "fold 1\n",
      "75. | 24. |\n",
      "[1101 1103 1104 1105 1108 1109 1110 1111 1113 1116 1117 1118 1119 4403\n",
      " 4404 4405 4406 4407 4408 4409 4410]\n",
      "[1102 1106 1112 4401 4402 4411]\n",
      "__________________________________________________________________________\n",
      "fold 2\n",
      "75. | 24. |\n",
      "[1102 1103 1104 1105 1106 1108 1109 1110 1111 1112 1113 1116 1117 4401\n",
      " 4402 4403 4404 4405 4407 4409 4411]\n",
      "[1101 1118 1119 4406 4408 4410]\n",
      "__________________________________________________________________________\n",
      "fold 3\n",
      "75. | 24. |\n",
      "[1101 1102 1103 1105 1106 1109 1110 1112 1113 1116 1118 1119 4401 4402\n",
      " 4405 4406 4407 4408 4410 4411]\n",
      "[1104 1108 1111 1117 4403 4404 4409]\n",
      "__________________________________________________________________________\n",
      "fold 4\n",
      "74. | 25. |\n",
      "[1101 1102 1104 1106 1108 1111 1112 1117 1118 1119 4401 4402 4403 4404\n",
      " 4406 4408 4409 4410 4411]\n",
      "[1103 1105 1109 1110 1113 1116 4405 4407]\n",
      "__________________________________________________________________________\n"
     ]
    }
   ],
   "source": [
    "# Train and Validation splits only ----> NO TEST\n",
    "# spectrogram_slices, y_slice_labels and y_slice_groups to work with\n",
    "train_val_dict = {}\n",
    "\n",
    "for value in ['train' , 'val']:\n",
    "    train_val_dict[value] = {}\n",
    "\n",
    "X = np.stack(spectrogram_slices)\n",
    "y = np.array(y_slice_labels)\n",
    "groups = np.array( [int(group) for group in y_slice_groups] )\n",
    "\n",
    "gkf = GroupKFold(n_splits = 4) \n",
    "fold = 0\n",
    "\n",
    "for train_index, val_index   in gkf.split(X, y, groups*1):\n",
    "    fold += 1\n",
    "    \n",
    "    X_train, y_train, groups_train  = X[train_index], y[train_index] , groups[train_index]\n",
    "    X_val, y_val, groups_val =  X[val_index], y[val_index] , groups[val_index]   \n",
    "    \n",
    "    train_val_dict['train'][fold] = X_train, y_train, groups_train\n",
    "    train_val_dict['val'][fold]   = X_val, y_val, groups_val\n",
    "    \n",
    "    total_len = len(X) \n",
    "    val_percent = 100*(len(X_val) / total_len)\n",
    "    train_percent = 100*(len(X_train) / total_len)\n",
    "   \n",
    "    print('fold ' + str(fold) ) \n",
    "    print( str(train_percent)[:3] + ' | '  + str(val_percent)[:3] + ' |' )\n",
    "\n",
    "    # testing that the splits are as expected\n",
    "    print( np.unique(groups_train) )\n",
    "    print( np.unique(groups_val) )\n",
    "    \n",
    "    print('__________________________________________________________________________')\n",
    "\n",
    "#Output from this section of code is X_train, y_train, groups_train AND X_test, y_test, groups_test "
   ]
  },
  {
   "cell_type": "markdown",
   "id": "6f034ea2-68a3-4aee-8432-368722020bcf",
   "metadata": {},
   "source": [
    "##### Fit the model"
   ]
  },
  {
   "cell_type": "code",
   "execution_count": 115,
   "id": "9acdeddc-def2-4259-958e-355c41f9b2c1",
   "metadata": {},
   "outputs": [
    {
     "name": "stdout",
     "output_type": "stream",
     "text": [
      "1\n",
      "2\n",
      "3\n",
      "4\n",
      "\n",
      "Duration: 5 seconds\n"
     ]
    },
    {
     "data": {
      "text/plain": [
       "<Figure size 640x480 with 0 Axes>"
      ]
     },
     "metadata": {},
     "output_type": "display_data"
    },
    {
     "data": {
      "image/png": "[encoded data removed]",
      "text/plain": [
       "<Figure size 2400x400 with 4 Axes>"
      ]
     },
     "metadata": {},
     "output_type": "display_data"
    }
   ],
   "source": [
    "start_time = time.time()\n",
    "\n",
    "rows = len(seeds) # Make the figure the right size \n",
    "\n",
    "fig = plt.figure()\n",
    "fig = plt.figure(figsize=(24,4*rows),dpi=100)\n",
    "\n",
    "# k is for subplots within the overall figure \n",
    "\n",
    "k = 1\n",
    "\n",
    "for fold in [1,2,3,4]:\n",
    "    print(fold)\n",
    "    X_train, y_train, groups_train = train_val_dict['train'][fold]\n",
    "    X_val, y_val, groups_val = train_val_dict['val'][fold]  \n",
    "    \n",
    "    # Creating train and test data loaders\n",
    "    input_width = segment_length\n",
    "    train_data = [ (torch.from_numpy(spectrogram).float().view(1,input_height,input_width), val) for spectrogram, val in zip(X_train, y_train) ] \n",
    "    train_loader = DataLoader(train_data, batch_size=30, shuffle=True)\n",
    "    \n",
    "    val_data = [ (torch.from_numpy(spectrogram).float().view(1,input_height,input_width), val) for spectrogram, val in zip(X_val, y_val) ] \n",
    "    val_loader = DataLoader(val_data , batch_size=30, shuffle=False)\n",
    "    \n",
    "   \n",
    "    \n",
    "    \n",
    "    \n",
    "    # for seed in [2,5,15,50]:\n",
    "    for seed in seeds:\n",
    "        # set all seeds \n",
    "        random.seed(seed)\n",
    "        np.random.seed(seed)\n",
    "        torch.manual_seed(seed)\n",
    "        torch.cuda.manual_seed_all(seed) \n",
    "        \n",
    "        device = torch.device(\"cuda\" if torch.cuda.is_available() else \"cpu\")\n",
    "        # print(device) - to check that device is actually cuda\n",
    "        \n",
    "        model = AdaptiveConvolutionalNetwork(input_width = input_width , input_height = input_height)\n",
    "        model.to(device)\n",
    "        \n",
    "        criterion = nn.BCEWithLogitsLoss()\n",
    "        optimizer = torch.optim.Adam(model.parameters(), lr = 0.001 )\n",
    "\n",
    "        epochs = 1\n",
    "        train_losses = []\n",
    "        val_losses = []\n",
    "        test_losses = []\n",
    "        \n",
    "        train_correct = []\n",
    "        val_correct = []\n",
    "        test_correct = []\n",
    "        \n",
    "        for i in range(epochs):\n",
    "            \n",
    "            trn_corr = 0\n",
    "            val_corr = 0\n",
    "            tst_corr = 0\n",
    "             \n",
    "            \n",
    "            trn_loss = 0\n",
    "            val_loss = 0\n",
    "            tst_loss = 0\n",
    "            \n",
    "            model.train()\n",
    "            # Run the training batches\n",
    "            for b, (X_train_batch, y_train_batch) in enumerate(train_loader):\n",
    "                b+=1\n",
    "        \n",
    "                #Move train data to the GPU\n",
    "                X_train_batch = X_train_batch.to(device)\n",
    "                y_train_batch = y_train_batch.to(device)\n",
    "                \n",
    "                # Apply the model\n",
    "                y_pred = model(X_train_batch)  # we don't flatten X-train here\n",
    "                loss = criterion(y_pred, y_train_batch.unsqueeze(1).float())\n",
    "         \n",
    "                # Tally the number of correct predictions\n",
    "                predicted = torch.round(F.sigmoid(y_pred.detach() ) )\n",
    "                predicted = predicted.reshape(y_train_batch.shape)\n",
    "                \n",
    "                batch_corr = (predicted == y_train_batch).sum()\n",
    "                trn_corr += batch_corr\n",
    "                trn_loss += loss\n",
    "                \n",
    "                # Update parameters\n",
    "                optimizer.zero_grad()\n",
    "                loss.backward()\n",
    "                optimizer.step()\n",
    "                \n",
    "            train_losses.append(trn_loss)\n",
    "            train_correct.append(trn_corr)\n",
    "        \n",
    "            # Run the validation batches\n",
    "            # Some of the variables in this loop have the same name as the variables in the above loop... be aware of that plz!\n",
    "            model.eval()\n",
    "            with torch.no_grad():\n",
    "                for b, (X_val_batch, y_val_batch) in enumerate(val_loader):\n",
    "                    b+=1\n",
    "                    \n",
    "                    #Move train data to the GPU\n",
    "                    X_val_batch = X_val_batch.to(device)\n",
    "                    y_val_batch = y_val_batch.to(device)\n",
    "        \n",
    "                    # Apply the model\n",
    "                    y_val = model(X_val_batch)\n",
    "        \n",
    "                    # Tally the number of correct predictions\n",
    "                    predicted = torch.round(F.sigmoid(y_val.detach() ) )\n",
    "                    predicted = predicted.reshape(y_val_batch.shape)\n",
    "                    \n",
    "                    batch_corr = (predicted == y_val_batch).sum()\n",
    "                    val_corr += batch_corr\n",
    "        \n",
    "                    \n",
    "                    loss = criterion(y_val, y_val_batch.unsqueeze(1).float())\n",
    "                    val_loss += loss \n",
    "                   \n",
    "            val_losses.append(val_loss)\n",
    "            val_correct.append(val_corr)\n",
    "        \n",
    "            \n",
    "           \n",
    "        \n",
    "        # Plot the outcome from the loop\n",
    "        \n",
    "        ax = fig.add_subplot(rows,4,k)\n",
    "        k+=1\n",
    "        plt.title('fold ' + str(fold), fontsize = 10)\n",
    "        plt.plot([(val.cpu() / len(X_train) ) for val in train_correct], label='training set accuracy')\n",
    "        plt.plot([(val.cpu()/len(X_val) ) for val in val_correct], label='validation set accuracy')\n",
    "        plt.ylabel('accuracy')\n",
    "        plt.xlabel('epochs') \n",
    "        plt.grid()\n",
    "    \n",
    "    \n",
    "    plt.tight_layout()\n",
    "\n",
    "\n",
    "plt.legend()   \n",
    "plt.tight_layout()\n",
    "\n",
    "#Add text at the bottom of the figure\n",
    "# fig.text(0.5, 0, 'This is a caption at the bottom of the figure | Model : ' + str(model) , va='bottom')\n",
    "fig.text(0.5, 0, f'\\nDuration: {time.time() - start_time:.0f} seconds' , ha='center', va='bottom')\n",
    "\n",
    "plt.tight_layout(pad = 2.0)\n",
    "\n",
    "save_name = data_type + '_' + region + '_seeds_' + str(seeds) + '_' + 'overlap_' + str(overlap) + '_' + 'window_gstd_' + str(g_std) + '_hop_' + str(hop) + '_segement_length' + '_' + str(time_vals[segment_length])[:5] + '_secs'\n",
    "plt.savefig(folder + save_name +'.png')\n",
    "\n",
    "\n",
    "print(f'\\nDuration: {time.time() - start_time:.0f} seconds') # print the time elapsed       "
   ]
  },
  {
   "cell_type": "code",
   "execution_count": null,
   "id": "85e5a7f4-240f-4275-b212-5105ad7e3b10",
   "metadata": {},
   "outputs": [],
   "source": [
    "data_type = 'N1' #This is a user input\n",
    "seeds = [50] #This is a user input list\n",
    "overlap = 0.9 #User input\n",
    "region = 'Prefrontal' #user input\n",
    "g_std = 200 #User input\n",
    "window_width = g_std*2 #could be a user input?\n",
    "hop = 100 #Hop in samples is user input\n",
    "segment_length = 80 #User input (I need to edit the code to have this as a user input)"
   ]
  },
  {
   "cell_type": "code",
   "execution_count": 87,
   "id": "e8ea4ac7-2ff6-41fa-841f-cd2db6ebb3bf",
   "metadata": {},
   "outputs": [
    {
     "data": {
      "text/plain": [
       "'N1_Prefrontal_seeds_[50]_overlap_0.9_window_gstd_200_hop_100_segement_length_30.85_secs'"
      ]
     },
     "execution_count": 87,
     "metadata": {},
     "output_type": "execute_result"
    }
   ],
   "source": [
    "data_type + '_' + region + '_seeds_' + str(seeds) + '_' + 'overlap_' + str(overlap) + '_' + 'window_gstd_' + str(g_std) + '_hop_' + str(hop) + '_segement_length' + '_' + str(time_vals[segment_length])[:5] + '_secs'"
   ]
  },
  {
   "cell_type": "code",
   "execution_count": 90,
   "id": "c7082069-be2c-4a22-aeac-a94fb61d472f",
   "metadata": {},
   "outputs": [],
   "source": [
    "# Create a text file and write to it\n",
    "file_name = folder + save_name + \".txt\"\n",
    "with open(file_name, 'w') as file:\n",
    "    file.write(save_name)\n",
    "    file.write('\\n')\n",
    "    file.write(str(model) )"
   ]
  },
  {
   "cell_type": "code",
   "execution_count": 50,
   "id": "c79f5dee-ed96-4976-83d9-49a44024fd71",
   "metadata": {},
   "outputs": [],
   "source": [
    "#data_type_hop_str(hop)_Length_str(t)_run.png"
   ]
  },
  {
   "cell_type": "code",
   "execution_count": 51,
   "id": "c977727e-4c02-45dd-944c-20fc90f903c9",
   "metadata": {},
   "outputs": [],
   "source": [
    "#Then in the description I could print the neural network used?"
   ]
  },
  {
   "cell_type": "code",
   "execution_count": null,
   "id": "6a9c5fd6-b474-4da5-a0de-3ef7167388e3",
   "metadata": {},
   "outputs": [],
   "source": [
    "cd '/user/home/ko20929/work/RBD_using_custom_package/Execute New Experiments/Deep Learning/'"
   ]
  }
 ],
 "metadata": {
  "kernelspec": {
   "display_name": "Python 3 (ipykernel)",
   "language": "python",
   "name": "python3"
  },
  "language_info": {
   "codemirror_mode": {
    "name": "ipython",
    "version": 3
   },
   "file_extension": ".py",
   "mimetype": "text/x-python",
   "name": "python",
   "nbconvert_exporter": "python",
   "pygments_lexer": "ipython3",
   "version": "3.11.3"
  }
 },
 "nbformat": 4,
 "nbformat_minor": 5
}
