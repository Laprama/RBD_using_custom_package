{
 "cells": [
  {
   "cell_type": "code",
   "execution_count": 1,
   "id": "14e0e248-2af5-435d-9467-11cd73dbb793",
   "metadata": {},
   "outputs": [
    {
     "name": "stderr",
     "output_type": "stream",
     "text": [
      "/user/home/ko20929/.conda/envs/sktime_latest/lib/python3.11/site-packages/antropy/fractal.py:197: NumbaDeprecationWarning: \u001b[1mThe 'nopython' keyword argument was not supplied to the 'numba.jit' decorator. The implicit default value for this argument is currently False, but it will be changed to True in Numba 0.59.0. See https://numba.readthedocs.io/en/stable/reference/deprecation.html#deprecation-of-object-mode-fall-back-behaviour-when-using-jit for details.\u001b[0m\n",
      "  @jit((types.Array(types.float64, 1, \"C\", readonly=True), types.int32))\n",
      "/user/home/ko20929/.conda/envs/sktime_latest/lib/python3.11/site-packages/outdated/utils.py:14: OutdatedPackageWarning: The package yasa is out of date. Your version is 0.6.3, the latest is 0.6.5.\n",
      "Set the environment variable OUTDATED_IGNORE=1 to disable these warnings.\n",
      "  return warn(\n"
     ]
    }
   ],
   "source": [
    "import pandas as pd\n",
    "import mne as mne\n",
    "import os \n",
    "import time\n",
    "import numpy as np\n",
    "import matplotlib.pyplot as plt\n",
    "import joblib\n",
    "import constants\n",
    "from IPython.utils import io\n",
    "import time\n",
    "import sys\n",
    "import yasa\n",
    "from scipy.signal import welch\n",
    "import random\n",
    "from sklearn.model_selection import train_test_split\n",
    "from sklearn.model_selection import GroupKFold\n",
    "\n",
    "from scipy.signal import ShortTimeFFT\n",
    "from scipy.signal.windows import gaussian\n",
    "\n",
    "#Import my modules\n",
    "import format_eeg_data\n",
    "import constants\n",
    "import eeg_stat_ts\n",
    "\n",
    "#Pytorch imports\n",
    "import torch\n",
    "import torch.nn as nn\n",
    "import torch.nn.functional as F\n",
    "from torch.utils.data import DataLoader\n",
    "from torchvision import datasets, transforms\n",
    "\n",
    "#Import Braindecode Model EEG Conformer\n",
    "from braindecode.models import EEGConformer"
   ]
  },
  {
   "cell_type": "code",
   "execution_count": 9,
   "id": "7a193425-446a-4203-94b8-8f9e3d18a798",
   "metadata": {},
   "outputs": [],
   "source": [
    "for b, (X_val_batch, y_val_batch) in enumerate(val_loader):\n",
    "    pass"
   ]
  },
  {
   "cell_type": "code",
   "execution_count": 11,
   "id": "ff4f2ff3-277a-4f5a-9144-b73159219ef1",
   "metadata": {},
   "outputs": [
    {
     "data": {
      "text/plain": [
       "tensor([[[ 2.4704,  2.3401,  2.5221,  ...,  0.0718,  0.3640,  0.5178],\n",
       "         [ 3.4136,  3.4514,  3.4984,  ..., -1.6790, -1.1459, -0.8734],\n",
       "         [ 2.1068,  2.0461,  1.8693,  ..., -0.9723, -0.6778, -0.5708],\n",
       "         ...,\n",
       "         [-1.3832, -1.6847, -1.6061,  ...,  1.8880,  1.6355,  0.9780],\n",
       "         [-1.1163, -1.6977, -1.9524,  ...,  2.0129,  2.2963,  2.3911],\n",
       "         [-0.8717, -1.3144, -1.1519,  ...,  1.7426,  1.9258,  1.8012]]])"
      ]
     },
     "execution_count": 11,
     "metadata": {},
     "output_type": "execute_result"
    }
   ],
   "source": [
    "X_val_batch[0].view(1, 14 , 1024)"
   ]
  },
  {
   "cell_type": "code",
   "execution_count": 12,
   "id": "c236a0a8-71c5-4f04-a003-ff6e4d28d179",
   "metadata": {},
   "outputs": [
    {
     "ename": "RuntimeError",
     "evalue": "Expected all tensors to be on the same device, but found at least two devices, cpu and cuda:0! (when checking argument for argument weight in method wrapper_CUDA___slow_conv2d_forward)",
     "output_type": "error",
     "traceback": [
      "\u001b[0;31m---------------------------------------------------------------------------\u001b[0m",
      "\u001b[0;31mRuntimeError\u001b[0m                              Traceback (most recent call last)",
      "Cell \u001b[0;32mIn[12], line 1\u001b[0m\n\u001b[0;32m----> 1\u001b[0m \u001b[43mmodel\u001b[49m\u001b[43m(\u001b[49m\u001b[43mX_val_batch\u001b[49m\u001b[43m[\u001b[49m\u001b[38;5;241;43m0\u001b[39;49m\u001b[43m]\u001b[49m\u001b[38;5;241;43m.\u001b[39;49m\u001b[43mview\u001b[49m\u001b[43m(\u001b[49m\u001b[38;5;241;43m1\u001b[39;49m\u001b[43m,\u001b[49m\u001b[43m \u001b[49m\u001b[38;5;241;43m14\u001b[39;49m\u001b[43m,\u001b[49m\u001b[43m \u001b[49m\u001b[38;5;241;43m1024\u001b[39;49m\u001b[43m)\u001b[49m\u001b[43m)\u001b[49m\n",
      "File \u001b[0;32m~/.conda/envs/sktime_latest/lib/python3.11/site-packages/torch/nn/modules/module.py:1532\u001b[0m, in \u001b[0;36mModule._wrapped_call_impl\u001b[0;34m(self, *args, **kwargs)\u001b[0m\n\u001b[1;32m   1530\u001b[0m     \u001b[38;5;28;01mreturn\u001b[39;00m \u001b[38;5;28mself\u001b[39m\u001b[38;5;241m.\u001b[39m_compiled_call_impl(\u001b[38;5;241m*\u001b[39margs, \u001b[38;5;241m*\u001b[39m\u001b[38;5;241m*\u001b[39mkwargs)  \u001b[38;5;66;03m# type: ignore[misc]\u001b[39;00m\n\u001b[1;32m   1531\u001b[0m \u001b[38;5;28;01melse\u001b[39;00m:\n\u001b[0;32m-> 1532\u001b[0m     \u001b[38;5;28;01mreturn\u001b[39;00m \u001b[38;5;28;43mself\u001b[39;49m\u001b[38;5;241;43m.\u001b[39;49m\u001b[43m_call_impl\u001b[49m\u001b[43m(\u001b[49m\u001b[38;5;241;43m*\u001b[39;49m\u001b[43margs\u001b[49m\u001b[43m,\u001b[49m\u001b[43m \u001b[49m\u001b[38;5;241;43m*\u001b[39;49m\u001b[38;5;241;43m*\u001b[39;49m\u001b[43mkwargs\u001b[49m\u001b[43m)\u001b[49m\n",
      "File \u001b[0;32m~/.conda/envs/sktime_latest/lib/python3.11/site-packages/torch/nn/modules/module.py:1541\u001b[0m, in \u001b[0;36mModule._call_impl\u001b[0;34m(self, *args, **kwargs)\u001b[0m\n\u001b[1;32m   1536\u001b[0m \u001b[38;5;66;03m# If we don't have any hooks, we want to skip the rest of the logic in\u001b[39;00m\n\u001b[1;32m   1537\u001b[0m \u001b[38;5;66;03m# this function, and just call forward.\u001b[39;00m\n\u001b[1;32m   1538\u001b[0m \u001b[38;5;28;01mif\u001b[39;00m \u001b[38;5;129;01mnot\u001b[39;00m (\u001b[38;5;28mself\u001b[39m\u001b[38;5;241m.\u001b[39m_backward_hooks \u001b[38;5;129;01mor\u001b[39;00m \u001b[38;5;28mself\u001b[39m\u001b[38;5;241m.\u001b[39m_backward_pre_hooks \u001b[38;5;129;01mor\u001b[39;00m \u001b[38;5;28mself\u001b[39m\u001b[38;5;241m.\u001b[39m_forward_hooks \u001b[38;5;129;01mor\u001b[39;00m \u001b[38;5;28mself\u001b[39m\u001b[38;5;241m.\u001b[39m_forward_pre_hooks\n\u001b[1;32m   1539\u001b[0m         \u001b[38;5;129;01mor\u001b[39;00m _global_backward_pre_hooks \u001b[38;5;129;01mor\u001b[39;00m _global_backward_hooks\n\u001b[1;32m   1540\u001b[0m         \u001b[38;5;129;01mor\u001b[39;00m _global_forward_hooks \u001b[38;5;129;01mor\u001b[39;00m _global_forward_pre_hooks):\n\u001b[0;32m-> 1541\u001b[0m     \u001b[38;5;28;01mreturn\u001b[39;00m \u001b[43mforward_call\u001b[49m\u001b[43m(\u001b[49m\u001b[38;5;241;43m*\u001b[39;49m\u001b[43margs\u001b[49m\u001b[43m,\u001b[49m\u001b[43m \u001b[49m\u001b[38;5;241;43m*\u001b[39;49m\u001b[38;5;241;43m*\u001b[39;49m\u001b[43mkwargs\u001b[49m\u001b[43m)\u001b[49m\n\u001b[1;32m   1543\u001b[0m \u001b[38;5;28;01mtry\u001b[39;00m:\n\u001b[1;32m   1544\u001b[0m     result \u001b[38;5;241m=\u001b[39m \u001b[38;5;28;01mNone\u001b[39;00m\n",
      "File \u001b[0;32m~/.conda/envs/sktime_latest/lib/python3.11/site-packages/braindecode/models/eegconformer.py:165\u001b[0m, in \u001b[0;36mEEGConformer.forward\u001b[0;34m(self, x)\u001b[0m\n\u001b[1;32m    163\u001b[0m \u001b[38;5;28;01mdef\u001b[39;00m \u001b[38;5;21mforward\u001b[39m(\u001b[38;5;28mself\u001b[39m, x: Tensor) \u001b[38;5;241m-\u001b[39m\u001b[38;5;241m>\u001b[39m Tensor:\n\u001b[1;32m    164\u001b[0m     x \u001b[38;5;241m=\u001b[39m torch\u001b[38;5;241m.\u001b[39munsqueeze(x, dim\u001b[38;5;241m=\u001b[39m\u001b[38;5;241m1\u001b[39m)  \u001b[38;5;66;03m# add one extra dimension\u001b[39;00m\n\u001b[0;32m--> 165\u001b[0m     x \u001b[38;5;241m=\u001b[39m \u001b[38;5;28;43mself\u001b[39;49m\u001b[38;5;241;43m.\u001b[39;49m\u001b[43mpatch_embedding\u001b[49m\u001b[43m(\u001b[49m\u001b[43mx\u001b[49m\u001b[43m)\u001b[49m\n\u001b[1;32m    166\u001b[0m     x \u001b[38;5;241m=\u001b[39m \u001b[38;5;28mself\u001b[39m\u001b[38;5;241m.\u001b[39mtransformer(x)\n\u001b[1;32m    167\u001b[0m     x \u001b[38;5;241m=\u001b[39m \u001b[38;5;28mself\u001b[39m\u001b[38;5;241m.\u001b[39mfc(x)\n",
      "File \u001b[0;32m~/.conda/envs/sktime_latest/lib/python3.11/site-packages/torch/nn/modules/module.py:1532\u001b[0m, in \u001b[0;36mModule._wrapped_call_impl\u001b[0;34m(self, *args, **kwargs)\u001b[0m\n\u001b[1;32m   1530\u001b[0m     \u001b[38;5;28;01mreturn\u001b[39;00m \u001b[38;5;28mself\u001b[39m\u001b[38;5;241m.\u001b[39m_compiled_call_impl(\u001b[38;5;241m*\u001b[39margs, \u001b[38;5;241m*\u001b[39m\u001b[38;5;241m*\u001b[39mkwargs)  \u001b[38;5;66;03m# type: ignore[misc]\u001b[39;00m\n\u001b[1;32m   1531\u001b[0m \u001b[38;5;28;01melse\u001b[39;00m:\n\u001b[0;32m-> 1532\u001b[0m     \u001b[38;5;28;01mreturn\u001b[39;00m \u001b[38;5;28;43mself\u001b[39;49m\u001b[38;5;241;43m.\u001b[39;49m\u001b[43m_call_impl\u001b[49m\u001b[43m(\u001b[49m\u001b[38;5;241;43m*\u001b[39;49m\u001b[43margs\u001b[49m\u001b[43m,\u001b[49m\u001b[43m \u001b[49m\u001b[38;5;241;43m*\u001b[39;49m\u001b[38;5;241;43m*\u001b[39;49m\u001b[43mkwargs\u001b[49m\u001b[43m)\u001b[49m\n",
      "File \u001b[0;32m~/.conda/envs/sktime_latest/lib/python3.11/site-packages/torch/nn/modules/module.py:1541\u001b[0m, in \u001b[0;36mModule._call_impl\u001b[0;34m(self, *args, **kwargs)\u001b[0m\n\u001b[1;32m   1536\u001b[0m \u001b[38;5;66;03m# If we don't have any hooks, we want to skip the rest of the logic in\u001b[39;00m\n\u001b[1;32m   1537\u001b[0m \u001b[38;5;66;03m# this function, and just call forward.\u001b[39;00m\n\u001b[1;32m   1538\u001b[0m \u001b[38;5;28;01mif\u001b[39;00m \u001b[38;5;129;01mnot\u001b[39;00m (\u001b[38;5;28mself\u001b[39m\u001b[38;5;241m.\u001b[39m_backward_hooks \u001b[38;5;129;01mor\u001b[39;00m \u001b[38;5;28mself\u001b[39m\u001b[38;5;241m.\u001b[39m_backward_pre_hooks \u001b[38;5;129;01mor\u001b[39;00m \u001b[38;5;28mself\u001b[39m\u001b[38;5;241m.\u001b[39m_forward_hooks \u001b[38;5;129;01mor\u001b[39;00m \u001b[38;5;28mself\u001b[39m\u001b[38;5;241m.\u001b[39m_forward_pre_hooks\n\u001b[1;32m   1539\u001b[0m         \u001b[38;5;129;01mor\u001b[39;00m _global_backward_pre_hooks \u001b[38;5;129;01mor\u001b[39;00m _global_backward_hooks\n\u001b[1;32m   1540\u001b[0m         \u001b[38;5;129;01mor\u001b[39;00m _global_forward_hooks \u001b[38;5;129;01mor\u001b[39;00m _global_forward_pre_hooks):\n\u001b[0;32m-> 1541\u001b[0m     \u001b[38;5;28;01mreturn\u001b[39;00m \u001b[43mforward_call\u001b[49m\u001b[43m(\u001b[49m\u001b[38;5;241;43m*\u001b[39;49m\u001b[43margs\u001b[49m\u001b[43m,\u001b[49m\u001b[43m \u001b[49m\u001b[38;5;241;43m*\u001b[39;49m\u001b[38;5;241;43m*\u001b[39;49m\u001b[43mkwargs\u001b[49m\u001b[43m)\u001b[49m\n\u001b[1;32m   1543\u001b[0m \u001b[38;5;28;01mtry\u001b[39;00m:\n\u001b[1;32m   1544\u001b[0m     result \u001b[38;5;241m=\u001b[39m \u001b[38;5;28;01mNone\u001b[39;00m\n",
      "File \u001b[0;32m~/.conda/envs/sktime_latest/lib/python3.11/site-packages/braindecode/models/eegconformer.py:244\u001b[0m, in \u001b[0;36m_PatchEmbedding.forward\u001b[0;34m(self, x)\u001b[0m\n\u001b[1;32m    243\u001b[0m \u001b[38;5;28;01mdef\u001b[39;00m \u001b[38;5;21mforward\u001b[39m(\u001b[38;5;28mself\u001b[39m, x: Tensor) \u001b[38;5;241m-\u001b[39m\u001b[38;5;241m>\u001b[39m Tensor:\n\u001b[0;32m--> 244\u001b[0m     x \u001b[38;5;241m=\u001b[39m \u001b[38;5;28;43mself\u001b[39;49m\u001b[38;5;241;43m.\u001b[39;49m\u001b[43mshallownet\u001b[49m\u001b[43m(\u001b[49m\u001b[43mx\u001b[49m\u001b[43m)\u001b[49m\n\u001b[1;32m    245\u001b[0m     x \u001b[38;5;241m=\u001b[39m \u001b[38;5;28mself\u001b[39m\u001b[38;5;241m.\u001b[39mprojection(x)\n\u001b[1;32m    246\u001b[0m     \u001b[38;5;28;01mreturn\u001b[39;00m x\n",
      "File \u001b[0;32m~/.conda/envs/sktime_latest/lib/python3.11/site-packages/torch/nn/modules/module.py:1532\u001b[0m, in \u001b[0;36mModule._wrapped_call_impl\u001b[0;34m(self, *args, **kwargs)\u001b[0m\n\u001b[1;32m   1530\u001b[0m     \u001b[38;5;28;01mreturn\u001b[39;00m \u001b[38;5;28mself\u001b[39m\u001b[38;5;241m.\u001b[39m_compiled_call_impl(\u001b[38;5;241m*\u001b[39margs, \u001b[38;5;241m*\u001b[39m\u001b[38;5;241m*\u001b[39mkwargs)  \u001b[38;5;66;03m# type: ignore[misc]\u001b[39;00m\n\u001b[1;32m   1531\u001b[0m \u001b[38;5;28;01melse\u001b[39;00m:\n\u001b[0;32m-> 1532\u001b[0m     \u001b[38;5;28;01mreturn\u001b[39;00m \u001b[38;5;28;43mself\u001b[39;49m\u001b[38;5;241;43m.\u001b[39;49m\u001b[43m_call_impl\u001b[49m\u001b[43m(\u001b[49m\u001b[38;5;241;43m*\u001b[39;49m\u001b[43margs\u001b[49m\u001b[43m,\u001b[49m\u001b[43m \u001b[49m\u001b[38;5;241;43m*\u001b[39;49m\u001b[38;5;241;43m*\u001b[39;49m\u001b[43mkwargs\u001b[49m\u001b[43m)\u001b[49m\n",
      "File \u001b[0;32m~/.conda/envs/sktime_latest/lib/python3.11/site-packages/torch/nn/modules/module.py:1541\u001b[0m, in \u001b[0;36mModule._call_impl\u001b[0;34m(self, *args, **kwargs)\u001b[0m\n\u001b[1;32m   1536\u001b[0m \u001b[38;5;66;03m# If we don't have any hooks, we want to skip the rest of the logic in\u001b[39;00m\n\u001b[1;32m   1537\u001b[0m \u001b[38;5;66;03m# this function, and just call forward.\u001b[39;00m\n\u001b[1;32m   1538\u001b[0m \u001b[38;5;28;01mif\u001b[39;00m \u001b[38;5;129;01mnot\u001b[39;00m (\u001b[38;5;28mself\u001b[39m\u001b[38;5;241m.\u001b[39m_backward_hooks \u001b[38;5;129;01mor\u001b[39;00m \u001b[38;5;28mself\u001b[39m\u001b[38;5;241m.\u001b[39m_backward_pre_hooks \u001b[38;5;129;01mor\u001b[39;00m \u001b[38;5;28mself\u001b[39m\u001b[38;5;241m.\u001b[39m_forward_hooks \u001b[38;5;129;01mor\u001b[39;00m \u001b[38;5;28mself\u001b[39m\u001b[38;5;241m.\u001b[39m_forward_pre_hooks\n\u001b[1;32m   1539\u001b[0m         \u001b[38;5;129;01mor\u001b[39;00m _global_backward_pre_hooks \u001b[38;5;129;01mor\u001b[39;00m _global_backward_hooks\n\u001b[1;32m   1540\u001b[0m         \u001b[38;5;129;01mor\u001b[39;00m _global_forward_hooks \u001b[38;5;129;01mor\u001b[39;00m _global_forward_pre_hooks):\n\u001b[0;32m-> 1541\u001b[0m     \u001b[38;5;28;01mreturn\u001b[39;00m \u001b[43mforward_call\u001b[49m\u001b[43m(\u001b[49m\u001b[38;5;241;43m*\u001b[39;49m\u001b[43margs\u001b[49m\u001b[43m,\u001b[49m\u001b[43m \u001b[49m\u001b[38;5;241;43m*\u001b[39;49m\u001b[38;5;241;43m*\u001b[39;49m\u001b[43mkwargs\u001b[49m\u001b[43m)\u001b[49m\n\u001b[1;32m   1543\u001b[0m \u001b[38;5;28;01mtry\u001b[39;00m:\n\u001b[1;32m   1544\u001b[0m     result \u001b[38;5;241m=\u001b[39m \u001b[38;5;28;01mNone\u001b[39;00m\n",
      "File \u001b[0;32m~/.conda/envs/sktime_latest/lib/python3.11/site-packages/torch/nn/modules/container.py:217\u001b[0m, in \u001b[0;36mSequential.forward\u001b[0;34m(self, input)\u001b[0m\n\u001b[1;32m    215\u001b[0m \u001b[38;5;28;01mdef\u001b[39;00m \u001b[38;5;21mforward\u001b[39m(\u001b[38;5;28mself\u001b[39m, \u001b[38;5;28minput\u001b[39m):\n\u001b[1;32m    216\u001b[0m     \u001b[38;5;28;01mfor\u001b[39;00m module \u001b[38;5;129;01min\u001b[39;00m \u001b[38;5;28mself\u001b[39m:\n\u001b[0;32m--> 217\u001b[0m         \u001b[38;5;28minput\u001b[39m \u001b[38;5;241m=\u001b[39m \u001b[43mmodule\u001b[49m\u001b[43m(\u001b[49m\u001b[38;5;28;43minput\u001b[39;49m\u001b[43m)\u001b[49m\n\u001b[1;32m    218\u001b[0m     \u001b[38;5;28;01mreturn\u001b[39;00m \u001b[38;5;28minput\u001b[39m\n",
      "File \u001b[0;32m~/.conda/envs/sktime_latest/lib/python3.11/site-packages/torch/nn/modules/module.py:1532\u001b[0m, in \u001b[0;36mModule._wrapped_call_impl\u001b[0;34m(self, *args, **kwargs)\u001b[0m\n\u001b[1;32m   1530\u001b[0m     \u001b[38;5;28;01mreturn\u001b[39;00m \u001b[38;5;28mself\u001b[39m\u001b[38;5;241m.\u001b[39m_compiled_call_impl(\u001b[38;5;241m*\u001b[39margs, \u001b[38;5;241m*\u001b[39m\u001b[38;5;241m*\u001b[39mkwargs)  \u001b[38;5;66;03m# type: ignore[misc]\u001b[39;00m\n\u001b[1;32m   1531\u001b[0m \u001b[38;5;28;01melse\u001b[39;00m:\n\u001b[0;32m-> 1532\u001b[0m     \u001b[38;5;28;01mreturn\u001b[39;00m \u001b[38;5;28;43mself\u001b[39;49m\u001b[38;5;241;43m.\u001b[39;49m\u001b[43m_call_impl\u001b[49m\u001b[43m(\u001b[49m\u001b[38;5;241;43m*\u001b[39;49m\u001b[43margs\u001b[49m\u001b[43m,\u001b[49m\u001b[43m \u001b[49m\u001b[38;5;241;43m*\u001b[39;49m\u001b[38;5;241;43m*\u001b[39;49m\u001b[43mkwargs\u001b[49m\u001b[43m)\u001b[49m\n",
      "File \u001b[0;32m~/.conda/envs/sktime_latest/lib/python3.11/site-packages/torch/nn/modules/module.py:1541\u001b[0m, in \u001b[0;36mModule._call_impl\u001b[0;34m(self, *args, **kwargs)\u001b[0m\n\u001b[1;32m   1536\u001b[0m \u001b[38;5;66;03m# If we don't have any hooks, we want to skip the rest of the logic in\u001b[39;00m\n\u001b[1;32m   1537\u001b[0m \u001b[38;5;66;03m# this function, and just call forward.\u001b[39;00m\n\u001b[1;32m   1538\u001b[0m \u001b[38;5;28;01mif\u001b[39;00m \u001b[38;5;129;01mnot\u001b[39;00m (\u001b[38;5;28mself\u001b[39m\u001b[38;5;241m.\u001b[39m_backward_hooks \u001b[38;5;129;01mor\u001b[39;00m \u001b[38;5;28mself\u001b[39m\u001b[38;5;241m.\u001b[39m_backward_pre_hooks \u001b[38;5;129;01mor\u001b[39;00m \u001b[38;5;28mself\u001b[39m\u001b[38;5;241m.\u001b[39m_forward_hooks \u001b[38;5;129;01mor\u001b[39;00m \u001b[38;5;28mself\u001b[39m\u001b[38;5;241m.\u001b[39m_forward_pre_hooks\n\u001b[1;32m   1539\u001b[0m         \u001b[38;5;129;01mor\u001b[39;00m _global_backward_pre_hooks \u001b[38;5;129;01mor\u001b[39;00m _global_backward_hooks\n\u001b[1;32m   1540\u001b[0m         \u001b[38;5;129;01mor\u001b[39;00m _global_forward_hooks \u001b[38;5;129;01mor\u001b[39;00m _global_forward_pre_hooks):\n\u001b[0;32m-> 1541\u001b[0m     \u001b[38;5;28;01mreturn\u001b[39;00m \u001b[43mforward_call\u001b[49m\u001b[43m(\u001b[49m\u001b[38;5;241;43m*\u001b[39;49m\u001b[43margs\u001b[49m\u001b[43m,\u001b[49m\u001b[43m \u001b[49m\u001b[38;5;241;43m*\u001b[39;49m\u001b[38;5;241;43m*\u001b[39;49m\u001b[43mkwargs\u001b[49m\u001b[43m)\u001b[49m\n\u001b[1;32m   1543\u001b[0m \u001b[38;5;28;01mtry\u001b[39;00m:\n\u001b[1;32m   1544\u001b[0m     result \u001b[38;5;241m=\u001b[39m \u001b[38;5;28;01mNone\u001b[39;00m\n",
      "File \u001b[0;32m~/.conda/envs/sktime_latest/lib/python3.11/site-packages/torch/nn/modules/conv.py:460\u001b[0m, in \u001b[0;36mConv2d.forward\u001b[0;34m(self, input)\u001b[0m\n\u001b[1;32m    459\u001b[0m \u001b[38;5;28;01mdef\u001b[39;00m \u001b[38;5;21mforward\u001b[39m(\u001b[38;5;28mself\u001b[39m, \u001b[38;5;28minput\u001b[39m: Tensor) \u001b[38;5;241m-\u001b[39m\u001b[38;5;241m>\u001b[39m Tensor:\n\u001b[0;32m--> 460\u001b[0m     \u001b[38;5;28;01mreturn\u001b[39;00m \u001b[38;5;28;43mself\u001b[39;49m\u001b[38;5;241;43m.\u001b[39;49m\u001b[43m_conv_forward\u001b[49m\u001b[43m(\u001b[49m\u001b[38;5;28;43minput\u001b[39;49m\u001b[43m,\u001b[49m\u001b[43m \u001b[49m\u001b[38;5;28;43mself\u001b[39;49m\u001b[38;5;241;43m.\u001b[39;49m\u001b[43mweight\u001b[49m\u001b[43m,\u001b[49m\u001b[43m \u001b[49m\u001b[38;5;28;43mself\u001b[39;49m\u001b[38;5;241;43m.\u001b[39;49m\u001b[43mbias\u001b[49m\u001b[43m)\u001b[49m\n",
      "File \u001b[0;32m~/.conda/envs/sktime_latest/lib/python3.11/site-packages/torch/nn/modules/conv.py:456\u001b[0m, in \u001b[0;36mConv2d._conv_forward\u001b[0;34m(self, input, weight, bias)\u001b[0m\n\u001b[1;32m    452\u001b[0m \u001b[38;5;28;01mif\u001b[39;00m \u001b[38;5;28mself\u001b[39m\u001b[38;5;241m.\u001b[39mpadding_mode \u001b[38;5;241m!=\u001b[39m \u001b[38;5;124m'\u001b[39m\u001b[38;5;124mzeros\u001b[39m\u001b[38;5;124m'\u001b[39m:\n\u001b[1;32m    453\u001b[0m     \u001b[38;5;28;01mreturn\u001b[39;00m F\u001b[38;5;241m.\u001b[39mconv2d(F\u001b[38;5;241m.\u001b[39mpad(\u001b[38;5;28minput\u001b[39m, \u001b[38;5;28mself\u001b[39m\u001b[38;5;241m.\u001b[39m_reversed_padding_repeated_twice, mode\u001b[38;5;241m=\u001b[39m\u001b[38;5;28mself\u001b[39m\u001b[38;5;241m.\u001b[39mpadding_mode),\n\u001b[1;32m    454\u001b[0m                     weight, bias, \u001b[38;5;28mself\u001b[39m\u001b[38;5;241m.\u001b[39mstride,\n\u001b[1;32m    455\u001b[0m                     _pair(\u001b[38;5;241m0\u001b[39m), \u001b[38;5;28mself\u001b[39m\u001b[38;5;241m.\u001b[39mdilation, \u001b[38;5;28mself\u001b[39m\u001b[38;5;241m.\u001b[39mgroups)\n\u001b[0;32m--> 456\u001b[0m \u001b[38;5;28;01mreturn\u001b[39;00m \u001b[43mF\u001b[49m\u001b[38;5;241;43m.\u001b[39;49m\u001b[43mconv2d\u001b[49m\u001b[43m(\u001b[49m\u001b[38;5;28;43minput\u001b[39;49m\u001b[43m,\u001b[49m\u001b[43m \u001b[49m\u001b[43mweight\u001b[49m\u001b[43m,\u001b[49m\u001b[43m \u001b[49m\u001b[43mbias\u001b[49m\u001b[43m,\u001b[49m\u001b[43m \u001b[49m\u001b[38;5;28;43mself\u001b[39;49m\u001b[38;5;241;43m.\u001b[39;49m\u001b[43mstride\u001b[49m\u001b[43m,\u001b[49m\n\u001b[1;32m    457\u001b[0m \u001b[43m                \u001b[49m\u001b[38;5;28;43mself\u001b[39;49m\u001b[38;5;241;43m.\u001b[39;49m\u001b[43mpadding\u001b[49m\u001b[43m,\u001b[49m\u001b[43m \u001b[49m\u001b[38;5;28;43mself\u001b[39;49m\u001b[38;5;241;43m.\u001b[39;49m\u001b[43mdilation\u001b[49m\u001b[43m,\u001b[49m\u001b[43m \u001b[49m\u001b[38;5;28;43mself\u001b[39;49m\u001b[38;5;241;43m.\u001b[39;49m\u001b[43mgroups\u001b[49m\u001b[43m)\u001b[49m\n",
      "\u001b[0;31mRuntimeError\u001b[0m: Expected all tensors to be on the same device, but found at least two devices, cpu and cuda:0! (when checking argument for argument weight in method wrapper_CUDA___slow_conv2d_forward)"
     ]
    }
   ],
   "source": [
    "model(X_val_batch[0].view(1, 14, 1024))"
   ]
  },
  {
   "cell_type": "code",
   "execution_count": 13,
   "id": "5f64b62e-8923-4982-8737-125a02a6e4a8",
   "metadata": {},
   "outputs": [
    {
     "data": {
      "text/plain": [
       "torch.Size([22, 14, 1024])"
      ]
     },
     "execution_count": 13,
     "metadata": {},
     "output_type": "execute_result"
    }
   ],
   "source": [
    "X_val_batch.shape"
   ]
  },
  {
   "cell_type": "code",
   "execution_count": 3,
   "id": "e544c0a1-129e-41bb-9abd-1de0b7e7eb74",
   "metadata": {},
   "outputs": [
    {
     "name": "stderr",
     "output_type": "stream",
     "text": [
      "/user/home/ko20929/.conda/envs/sktime_latest/lib/python3.11/site-packages/braindecode/models/base.py:180: UserWarning: LogSoftmax final layer will be removed! Please adjust your loss function accordingly (e.g. CrossEntropyLoss)!\n",
      "  warnings.warn(\"LogSoftmax final layer will be removed! \" +\n"
     ]
    }
   ],
   "source": [
    "model_1 = EEGConformer(\n",
    "        n_chans = 14,\n",
    "        n_outputs = 2 ,\n",
    "        n_times=1024 ,\n",
    "        final_fc_length = 'auto',\n",
    "            )\n",
    "\n",
    "model_2 = EEGConformer(\n",
    "        n_chans = 14,\n",
    "        n_outputs = 2 ,\n",
    "        n_times=1024 ,\n",
    "        )\n"
   ]
  },
  {
   "cell_type": "code",
   "execution_count": 16,
   "id": "0b48cb00-bb21-4253-b8ee-44f6de167b72",
   "metadata": {},
   "outputs": [
    {
     "data": {
      "text/plain": [
       "tensor([[-0.5487, -0.8620],\n",
       "        [-0.7736, -0.6187],\n",
       "        [-0.4386, -1.0355],\n",
       "        [-0.7549, -0.6350],\n",
       "        [-0.3795, -1.1526],\n",
       "        [-0.6453, -0.7434],\n",
       "        [-0.6161, -0.7767],\n",
       "        [-0.9590, -0.4833],\n",
       "        [-0.4757, -0.9714],\n",
       "        [-0.6997, -0.6866],\n",
       "        [-0.5454, -0.8666],\n",
       "        [-0.5133, -0.9125],\n",
       "        [-0.8305, -0.5724],\n",
       "        [-0.8876, -0.5304],\n",
       "        [-0.8737, -0.5403],\n",
       "        [-0.5419, -0.8714],\n",
       "        [-0.5822, -0.8180],\n",
       "        [-0.5435, -0.8693],\n",
       "        [-0.5438, -0.8688],\n",
       "        [-0.6473, -0.7412],\n",
       "        [-0.5976, -0.7988],\n",
       "        [-0.5551, -0.8533]], grad_fn=<LogSoftmaxBackward0>)"
      ]
     },
     "execution_count": 16,
     "metadata": {},
     "output_type": "execute_result"
    }
   ],
   "source": [
    "model_1(X_val_batch)"
   ]
  },
  {
   "cell_type": "markdown",
   "id": "b30b4acc-51bf-4c83-98a7-08a3158599eb",
   "metadata": {},
   "source": [
    "I'm copying previous notebook but just swapping the Paper CNN for the EEGConformer <br>\n",
    "At the top of script I should set: <br>\n",
    "Channels <br>\n",
    "Segment Length <br> \n",
    "Data Types <br> \n",
    "Model parameters -> Attention heads , attention depth <br>"
   ]
  },
  {
   "cell_type": "code",
   "execution_count": 49,
   "id": "7bf6280d-a186-4103-9d42-59bcb4cee288",
   "metadata": {},
   "outputs": [],
   "source": [
    "# I think there is a 'shape' bug in the code , I'm not sure exactly what it is \n",
    "# The previous code has 22 channels, 1001 segment length --> This worked \n",
    "# New code has 14 channels, 1024 segment length --> didn't work"
   ]
  },
  {
   "cell_type": "code",
   "execution_count": 5,
   "id": "f2b786eb-3285-4eb3-ab83-e58163e5a1c3",
   "metadata": {},
   "outputs": [],
   "source": [
    "neuro_headset_channels = [\"AF3\", \"F7\", \"F3\", \"FC5\", \"T7\", \"P7\", \"O1\", \"O2\", \"P8\", \"T8\", \"FC6\", \"F4\", \"F8\", \"AF4\"]\n",
    "# These channels are equivalent to the neuro headset channels but for 'our' headset (There is code to generate these in notebook 18) \n",
    "eeg_14_channels = ['AF7', 'F7', 'F3', 'FC5', 'T7', 'P7', 'O1', 'O2', 'P8', 'T8', 'FC6', 'F4', 'F8', 'AF8']  "
   ]
  },
  {
   "cell_type": "code",
   "execution_count": 6,
   "id": "9960cd15-0586-4505-9a74-f3825ebb3e9d",
   "metadata": {},
   "outputs": [
    {
     "data": {
      "text/plain": [
       "14"
      ]
     },
     "execution_count": 6,
     "metadata": {},
     "output_type": "execute_result"
    }
   ],
   "source": [
    "num_channels = len(eeg_14_channels)\n",
    "num_channels"
   ]
  },
  {
   "cell_type": "code",
   "execution_count": 20,
   "id": "504533b6-7652-4dd8-9a89-38e0a7af5319",
   "metadata": {},
   "outputs": [],
   "source": [
    "# The below are currently in the script but need to be taken out to the top (here)\n",
    "segment_length = 10240"
   ]
  },
  {
   "cell_type": "code",
   "execution_count": 19,
   "id": "63c595b9-23f3-4425-b85c-1acb85843d25",
   "metadata": {},
   "outputs": [
    {
     "data": {
      "text/plain": [
       "704"
      ]
     },
     "execution_count": 19,
     "metadata": {},
     "output_type": "execute_result"
    }
   ],
   "source": [
    "22*2*4*4"
   ]
  },
  {
   "cell_type": "code",
   "execution_count": 23,
   "id": "ee3b6380-55b1-408d-839c-675b2a508193",
   "metadata": {},
   "outputs": [
    {
     "name": "stdout",
     "output_type": "stream",
     "text": [
      "N1\n",
      "Commencing Training ...\n",
      "1\n"
     ]
    },
    {
     "name": "stderr",
     "output_type": "stream",
     "text": [
      "/user/home/ko20929/.conda/envs/sktime_latest/lib/python3.11/site-packages/braindecode/models/base.py:180: UserWarning: LogSoftmax final layer will be removed! Please adjust your loss function accordingly (e.g. CrossEntropyLoss)!\n",
      "  warnings.warn(\"LogSoftmax final layer will be removed! \" +\n",
      "/user/home/ko20929/.conda/envs/sktime_latest/lib/python3.11/site-packages/torch/nn/modules/conv.py:456: UserWarning: Plan failed with a cudnnException: CUDNN_BACKEND_EXECUTION_PLAN_DESCRIPTOR: cudnnFinalize Descriptor Failed cudnn_status: CUDNN_STATUS_NOT_SUPPORTED (Triggered internally at ../aten/src/ATen/native/cudnn/Conv_v8.cpp:919.)\n",
      "  return F.conv2d(input, weight, bias, self.stride,\n",
      "/user/home/ko20929/.conda/envs/sktime_latest/lib/python3.11/site-packages/torch/autograd/graph.py:744: UserWarning: Plan failed with a cudnnException: CUDNN_BACKEND_EXECUTION_PLAN_DESCRIPTOR: cudnnFinalize Descriptor Failed cudnn_status: CUDNN_STATUS_NOT_SUPPORTED (Triggered internally at ../aten/src/ATen/native/cudnn/Conv_v8.cpp:919.)\n",
      "  return Variable._execution_engine.run_backward(  # Calls into the C++ engine to run the backward pass\n",
      "/user/home/ko20929/.conda/envs/sktime_latest/lib/python3.11/site-packages/torch/nn/modules/conv.py:456: UserWarning: Plan failed with an OutOfMemoryError: CUDA out of memory. Tried to allocate 22.78 GiB. GPU  (Triggered internally at ../aten/src/ATen/native/cudnn/Conv_v8.cpp:924.)\n",
      "  return F.conv2d(input, weight, bias, self.stride,\n"
     ]
    },
    {
     "name": "stdout",
     "output_type": "stream",
     "text": [
      "\n",
      "Duration: 470 seconds\n",
      "Results Saved, on to next data type ...\n"
     ]
    },
    {
     "data": {
      "text/plain": [
       "495.49735021591187"
      ]
     },
     "execution_count": 23,
     "metadata": {},
     "output_type": "execute_result"
    },
    {
     "data": {
      "image/png": "[encoded data removed]",
      "text/plain": [
       "<Figure size 640x480 with 1 Axes>"
      ]
     },
     "metadata": {},
     "output_type": "display_data"
    },
    {
     "data": {
      "text/plain": [
       "<Figure size 640x480 with 0 Axes>"
      ]
     },
     "metadata": {},
     "output_type": "display_data"
    },
    {
     "data": {
      "image/png": "[encoded data removed]",
      "text/plain": [
       "<Figure size 2400x400 with 1 Axes>"
      ]
     },
     "metadata": {},
     "output_type": "display_data"
    }
   ],
   "source": [
    "t1 = time.time()\n",
    "\n",
    "#1.Load the data ________________________________________________________________________________________\n",
    "\n",
    "for data_type in ['N1']:\n",
    "    df_list = joblib.load(data_type + '_normalised_dataframes.pkl')\n",
    "    \n",
    "    print(data_type)    \n",
    "    \n",
    "    # 1. generate all path names and class list(s) etc. \n",
    "    folder = '/user/home/ko20929/work/RBD_using_custom_package/Blue_pebble/'\n",
    "    paths = joblib.load(folder + data_type + '_paths.pkl') # keys : ['selected_paths', 's_class_list', 's_night_list', 's_sleep_type', 's_p_id']\n",
    "    \n",
    "    class_label_dict = {'HC': 0 , 'PD' : 1 , 'PD+RBD' : 2 , 'RBD' : 3} #Dictionary used to label the classes for reference\n",
    "    y = np.array([class_label_dict[c_name] for c_name in paths['s_class_list'] ] )\n",
    "    groups = paths['s_p_id']\n",
    "    \n",
    "    wake_dfs_binary = []\n",
    "    y_binary = []\n",
    "    groups_binary = []\n",
    "    \n",
    "    for df , class_label , group in zip(df_list, y, groups):\n",
    "        if class_label in [0,1]:\n",
    "            wake_dfs_binary.append(df)\n",
    "            y_binary.append(class_label)\n",
    "            groups_binary.append(group)\n",
    "    \n",
    "    y_binary = np.array(y_binary)\n",
    "\n",
    "#2. Generate 2 second segments of the data______________________________________________________________________ \n",
    "\n",
    "    #segment_length is user input and overlap is user input at the start of the script\n",
    "    overlap = 0.5\n",
    "    \n",
    "    signal_slices = []\n",
    "    y_slice_labels = []\n",
    "    y_slice_groups = []\n",
    "    \n",
    "    for df, label, group in zip(wake_dfs_binary, y_binary, groups_binary):\n",
    "        \n",
    "        num_segments = int( np.floor(len(df)/segment_length) )\n",
    "        new_specs = []\n",
    "        \n",
    "        for i in np.arange(0,num_segments, 1 - overlap):\n",
    "            if i > num_segments - 1 :\n",
    "                # I don't want it to try to take an incomplete slice\n",
    "                # will be an incomplete slice causing errors downstream, needs to stop \n",
    "                \n",
    "                break\n",
    "              \n",
    "            start_index = int( np.floor(i*segment_length) )\n",
    "            end_index = start_index + segment_length\n",
    "            \n",
    "            slice_df = df.iloc[start_index : end_index, :].copy()        \n",
    "            signal_slices.append(slice_df)\n",
    "            \n",
    "            y_slice_labels.append(label)\n",
    "            y_slice_groups.append(group)\n",
    "            \n",
    "    plt.hist(y_slice_labels)\n",
    "\n",
    "#3. Select the correct channels ______________________________________________________________________________\n",
    "    \n",
    "    channels_selected = eeg_14_channels # will later move this to the top of the notebook\n",
    "    \n",
    "    # signal_slices, y_slice_labels, y_slice_groups\n",
    "    signal_slices_14_channels = [ df.loc[:, channels_selected].copy() for df in signal_slices ]\n",
    "    \n",
    "    # Make the slices an np array of the correct dimensions\n",
    "    signal_slices_14_channels_np = [df.T.values for df in signal_slices_14_channels]\n",
    "\n",
    "#4. Create the network from the paper (REMOVED as I'm using EEG Conformer) \n",
    "#The model is defined inside the training loop\n",
    "\n",
    "\n",
    "#5. Do Train Validation Splits\n",
    "    # Train and Validation splits only ----> NO TEST\n",
    "    # spectrogram_slices, y_slice_labels and y_slice_groups to work with\n",
    "    train_val_dict = {}\n",
    "    \n",
    "    for value in ['train' , 'val']:\n",
    "        train_val_dict[value] = {}\n",
    "    \n",
    "    X = np.stack(signal_slices_14_channels_np)\n",
    "    y = np.array(y_slice_labels)\n",
    "    groups = np.array( [int(group) for group in y_slice_groups] )\n",
    "    \n",
    "    gkf = GroupKFold(n_splits = 4) \n",
    "    fold = 0\n",
    "    \n",
    "    for train_index, val_index   in gkf.split(X, y, groups*1):\n",
    "        fold += 1\n",
    "        \n",
    "        X_train, y_train, groups_train  = X[train_index], y[train_index] , groups[train_index]\n",
    "        X_val, y_val, groups_val =  X[val_index], y[val_index] , groups[val_index]   \n",
    "        \n",
    "        train_val_dict['train'][fold] = X_train, y_train, groups_train\n",
    "        train_val_dict['val'][fold]   = X_val, y_val, groups_val\n",
    "        \n",
    "        total_len = len(X) \n",
    "        val_percent = 100*(len(X_val) / total_len)\n",
    "        train_percent = 100*(len(X_train) / total_len)\n",
    "        \n",
    "        # Commented out the printing here\n",
    "        # print('fold ' + str(fold) ) \n",
    "        # print( str(train_percent)[:3] + ' | '  + str(val_percent)[:3] + ' |' )\n",
    "    \n",
    "        # # testing that the splits are as expected\n",
    "        # print( np.unique(groups_train) )\n",
    "        # print( np.unique(groups_val) )\n",
    "        \n",
    "        # print('__________________________________________________________________________')\n",
    "    \n",
    "    #Output from this section of code is X_train, y_train, groups_train AND X_test, y_test, groups_test \n",
    "    import time\n",
    "\n",
    "    start_time = time.time()\n",
    "    \n",
    "    seeds = [2]\n",
    "    rows = len(seeds) # Make the figure the right size \n",
    "    \n",
    "    fig = plt.figure()\n",
    "    fig = plt.figure(figsize=(24,4*rows),dpi=100)\n",
    "    \n",
    "    # k is for subplots within the overall figure \n",
    "    \n",
    "    k = 1\n",
    "    print('Commencing Training ...')\n",
    "    # Test out for 1 fold to start with\n",
    "    \n",
    "    for fold in [1]:\n",
    "        print(fold)\n",
    "        X_train, y_train, groups_train = train_val_dict['train'][fold]\n",
    "        X_val, y_val, groups_val = train_val_dict['val'][fold]  \n",
    "        \n",
    "        # Creating train and test data loaders\n",
    "        train_data = [ (torch.from_numpy(input_slice).float().view(num_channels,segment_length), val) for input_slice, val in zip(X_train, y_train) ] \n",
    "        train_loader = DataLoader(train_data, batch_size=30, shuffle=True)\n",
    "        \n",
    "        val_data = [ (torch.from_numpy(input_slice).float().view(num_channels,segment_length), val) for input_slice, val in zip(X_val, y_val) ] \n",
    "        val_loader = DataLoader(val_data , batch_size=30, shuffle=False)\n",
    "        \n",
    "       \n",
    "        \n",
    "        \n",
    "        \n",
    "        # for seed in [2,5,15,50]:\n",
    "        for seed in seeds:\n",
    "            # set all seeds \n",
    "            random.seed(seed)\n",
    "            np.random.seed(seed)\n",
    "            torch.manual_seed(seed)\n",
    "            torch.cuda.manual_seed_all(seed) \n",
    "            \n",
    "            device = torch.device(\"cuda\" if torch.cuda.is_available() else \"cpu\")\n",
    "            # print(device) - to check that device is actually cuda\n",
    "            \n",
    "            model = EEGConformer(\n",
    "                n_chans = 14,\n",
    "                n_outputs = 2 ,\n",
    "                n_times=segment_length,\n",
    "                final_fc_length = 'auto' \n",
    "                )\n",
    "            \n",
    "            model.to(device)\n",
    "            \n",
    "            criterion = torch.nn.NLLLoss()\n",
    "            optimizer = torch.optim.Adam(model.parameters(), lr = 0.001 )\n",
    "\n",
    "            \n",
    "            epochs = 40\n",
    "            train_losses = []\n",
    "            val_losses = []\n",
    "            test_losses = []\n",
    "            \n",
    "            train_correct = []\n",
    "            val_correct = []\n",
    "            test_correct = []\n",
    "            \n",
    "            for i in range(epochs):\n",
    "                \n",
    "                trn_corr = 0\n",
    "                val_corr = 0\n",
    "                tst_corr = 0\n",
    "                 \n",
    "                \n",
    "                trn_loss = 0\n",
    "                val_loss = 0\n",
    "                tst_loss = 0\n",
    "                \n",
    "                model.train()\n",
    "                # Run the training batches\n",
    "                for b, (X_train_batch, y_train_batch) in enumerate(train_loader):\n",
    "                    b+=1\n",
    "            \n",
    "                    #Move train data to the GPU\n",
    "                    X_train_batch = X_train_batch.to(device)\n",
    "                    y_train_batch = y_train_batch.to(device)\n",
    "                    \n",
    "                    # Apply the model\n",
    "                    y_pred = model(X_train_batch)  # we don't flatten X-train here\n",
    "                    loss = criterion(y_pred, y_train_batch)\n",
    "             \n",
    "                    # Tally the number of correct predictions\n",
    "                    predicted = torch.argmax(torch.exp( y_pred.detach() ) ,  dim = 1 ) \n",
    "    \n",
    "                    predicted = predicted.reshape(y_train_batch.shape)\n",
    "                    \n",
    "                    batch_corr = (predicted == y_train_batch).sum()\n",
    "                    trn_corr += batch_corr\n",
    "                    trn_loss += loss\n",
    "                    \n",
    "                    # Update parameters\n",
    "                    optimizer.zero_grad()\n",
    "                    loss.backward()\n",
    "                    optimizer.step()\n",
    "                    \n",
    "                train_losses.append(trn_loss)\n",
    "                train_correct.append(trn_corr)\n",
    "            \n",
    "                # Run the validation batches\n",
    "                # Some of the variables in this loop have the same name as the variables in the above loop... be aware of that plz!\n",
    "                model.eval()\n",
    "                with torch.no_grad():\n",
    "                    for b, (X_val_batch, y_val_batch) in enumerate(val_loader):\n",
    "                        b+=1\n",
    "                        \n",
    "                        #Move train data to the GPU\n",
    "                        X_val_batch = X_val_batch.to(device)\n",
    "                        y_val_batch = y_val_batch.to(device)\n",
    "            \n",
    "                        # Apply the model\n",
    "                        y_val = model(X_val_batch)\n",
    "            \n",
    "                        # Tally the number of correct predictions\n",
    "                        predicted = torch.argmax(y_val.detach(),  dim = 1 ) \n",
    "                        predicted = predicted.reshape(y_val_batch.shape)\n",
    "                        \n",
    "                        batch_corr = (predicted == y_val_batch).sum()\n",
    "                        val_corr += batch_corr\n",
    "            \n",
    "                        loss = criterion(y_val, y_val_batch)\n",
    "                        val_loss += loss \n",
    "                       \n",
    "                val_losses.append(val_loss)\n",
    "                val_correct.append(val_corr)\n",
    "            \n",
    "                \n",
    "               \n",
    "            \n",
    "            # Plot the outcome from the loop\n",
    "            \n",
    "            ax = fig.add_subplot(rows,4,k)\n",
    "            k+=1\n",
    "            plt.title('fold ' + str(fold), fontsize = 10)\n",
    "            plt.plot([(val.cpu() / len(X_train) ) for val in train_correct], label='training set accuracy')\n",
    "            plt.plot([(val.cpu()/len(X_val) ) for val in val_correct], label='validation set accuracy')\n",
    "            plt.ylabel('accuracy')\n",
    "            plt.xlabel('epochs') \n",
    "            plt.grid()\n",
    "        \n",
    "        \n",
    "        plt.tight_layout()\n",
    "    \n",
    "    \n",
    "    plt.legend()   \n",
    "    plt.tight_layout()\n",
    "    \n",
    "    #Add text at the bottom of the figure\n",
    "    # fig.text(0.5, 0, 'This is a caption at the bottom of the figure | Model : ' + str(model) , va='bottom')\n",
    "    fig.text(0.5, 0, f'\\nDuration: {time.time() - start_time:.0f} seconds' , ha='center', va='bottom')\n",
    "    \n",
    "    plt.tight_layout(pad = 2.0)\n",
    "    \n",
    "    save_name = 'Results/Folder_3/' + data_type + '_' + 'Conformer_Test'\n",
    "    plt.savefig(save_name +'.png')\n",
    "        \n",
    "    \n",
    "    print(f'\\nDuration: {time.time() - start_time:.0f} seconds') # print the time elapsed  \n",
    "    print('Results Saved, on to next data type ...')\n",
    "    \n",
    "t2 = time.time()\n",
    "\n",
    "t2 - t1"
   ]
  },
  {
   "cell_type": "code",
   "execution_count": null,
   "id": "0f2a2518-b3ca-4699-83e9-745d31b80c2e",
   "metadata": {},
   "outputs": [],
   "source": []
  }
 ],
 "metadata": {
  "kernelspec": {
   "display_name": "Python 3 (ipykernel)",
   "language": "python",
   "name": "python3"
  },
  "language_info": {
   "codemirror_mode": {
    "name": "ipython",
    "version": 3
   },
   "file_extension": ".py",
   "mimetype": "text/x-python",
   "name": "python",
   "nbconvert_exporter": "python",
   "pygments_lexer": "ipython3",
   "version": "3.11.3"
  }
 },
 "nbformat": 4,
 "nbformat_minor": 5
}
