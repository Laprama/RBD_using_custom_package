{
 "cells": [
  {
   "cell_type": "code",
   "execution_count": 85,
   "id": "58422c3e-5036-4a17-87f2-1e239fb0c4c5",
   "metadata": {},
   "outputs": [],
   "source": [
    "from braindecode.datasets import MOABBDataset\n",
    "from braindecode.preprocessing import ( exponential_moving_standardize, preprocess, Preprocessor,)\n",
    "import numpy as np\n",
    "import matplotlib.pyplot as plt"
   ]
  },
  {
   "cell_type": "code",
   "execution_count": 2,
   "id": "9795a293-d8ca-40af-953d-d35948d054ed",
   "metadata": {},
   "outputs": [
    {
     "name": "stderr",
     "output_type": "stream",
     "text": [
      "BNCI2014001 has been renamed to BNCI2014_001. BNCI2014001 will be removed in version 1.1.\n",
      "The dataset class name 'BNCI2014001' must be an abbreviation of its code 'BNCI2014-001'. See moabb.datasets.base.is_abbrev for more information.\n",
      "/user/home/ko20929/.conda/envs/sktime_latest/lib/python3.11/site-packages/moabb/datasets/download.py:55: RuntimeWarning: Setting non-standard config type: \"MNE_DATASETS_BNCI_PATH\"\n",
      "  set_config(key, get_config(\"MNE_DATA\"))\n",
      "Downloading data from 'http://bnci-horizon-2020.eu/database/data-sets/001-2014/A03T.mat' to file '/user/home/ko20929/mne_data_test/MNE-bnci-data/database/data-sets/001-2014/A03T.mat'.\n",
      "/user/home/ko20929/.conda/envs/sktime_latest/lib/python3.11/site-packages/urllib3/connectionpool.py:1063: InsecureRequestWarning: Unverified HTTPS request is being made to host 'lampx.tugraz.at'. Adding certificate verification is strongly advised. See: https://urllib3.readthedocs.io/en/1.26.x/advanced-usage.html#ssl-warnings\n",
      "  warnings.warn(\n",
      "100%|█████████████████████████████████████| 44.1M/44.1M [00:00<00:00, 34.5GB/s]\n",
      "SHA256 hash of downloaded file: 7e731ee8b681d5da6ecb11ae1d4e64b1653c7f15aad5d6b7620b25ce53141e80\n",
      "Use this value as the 'known_hash' argument of 'pooch.retrieve' to ensure that the file hasn't changed if it is downloaded again in the future.\n",
      "Downloading data from 'http://bnci-horizon-2020.eu/database/data-sets/001-2014/A03E.mat' to file '/user/home/ko20929/mne_data_test/MNE-bnci-data/database/data-sets/001-2014/A03E.mat'.\n",
      "/user/home/ko20929/.conda/envs/sktime_latest/lib/python3.11/site-packages/urllib3/connectionpool.py:1063: InsecureRequestWarning: Unverified HTTPS request is being made to host 'lampx.tugraz.at'. Adding certificate verification is strongly advised. See: https://urllib3.readthedocs.io/en/1.26.x/advanced-usage.html#ssl-warnings\n",
      "  warnings.warn(\n",
      "100%|█████████████████████████████████████| 42.3M/42.3M [00:00<00:00, 53.1GB/s]\n",
      "SHA256 hash of downloaded file: d4229267ec7624fa8bd3af5cbebac17f415f7c722de6cb676748f8cb3b717d97\n",
      "Use this value as the 'known_hash' argument of 'pooch.retrieve' to ensure that the file hasn't changed if it is downloaded again in the future.\n"
     ]
    }
   ],
   "source": [
    "subject_id = 3\n",
    "dataset = MOABBDataset(dataset_name=\"BNCI2014001\", subject_ids=[subject_id])"
   ]
  },
  {
   "cell_type": "code",
   "execution_count": 6,
   "id": "ad0f2f65-b523-4fb2-83a0-5c50f4d462cb",
   "metadata": {},
   "outputs": [],
   "source": [
    "low_cut_hz = 4.0  # low cut frequency for filtering\n",
    "high_cut_hz = 38.0  # high cut frequency for filtering\n",
    "# Parameters for exponential moving standardization\n",
    "factor_new = 1e-3\n",
    "init_block_size = 1000"
   ]
  },
  {
   "cell_type": "code",
   "execution_count": 7,
   "id": "e0517a99-7be2-4d87-afdb-40a89fd8f8b2",
   "metadata": {},
   "outputs": [
    {
     "name": "stderr",
     "output_type": "stream",
     "text": [
      "/user/home/ko20929/.conda/envs/sktime_latest/lib/python3.11/site-packages/braindecode/preprocessing/preprocess.py:55: UserWarning: Preprocessing choices with lambda functions cannot be saved.\n",
      "  warn('Preprocessing choices with lambda functions cannot be saved.')\n"
     ]
    }
   ],
   "source": [
    "preprocessors = [\n",
    "    Preprocessor(\"pick_types\", eeg=True, meg=False, stim=False),  # Keep EEG sensors\n",
    "    Preprocessor(\n",
    "        lambda data, factor: np.multiply(data, factor),  # Convert from V to uV\n",
    "        factor=1e6,\n",
    "    ),\n",
    "    Preprocessor(\"filter\", l_freq=low_cut_hz, h_freq=high_cut_hz),  # Bandpass filter\n",
    "    Preprocessor(\n",
    "        exponential_moving_standardize,  # Exponential moving standardization\n",
    "        factor_new=factor_new,\n",
    "        init_block_size=init_block_size,\n",
    "    ),\n",
    "]"
   ]
  },
  {
   "cell_type": "code",
   "execution_count": 8,
   "id": "ed5a7ea6-016b-4109-a86a-8d5b0cfe49fa",
   "metadata": {},
   "outputs": [
    {
     "name": "stdout",
     "output_type": "stream",
     "text": [
      "NOTE: pick_types() is a legacy function. New code should use inst.pick(...).\n",
      "NOTE: pick_types() is a legacy function. New code should use inst.pick(...).\n",
      "Filtering raw data in 1 contiguous segment\n",
      "Filtering raw data in 1 contiguous segment\n",
      "Setting up band-pass filter from 4 - 38 Hz\n",
      "Setting up band-pass filter from 4 - 38 Hz\n",
      "\n",
      "FIR filter parameters\n",
      "---------------------\n",
      "\n",
      "Designing a one-pass, zero-phase, non-causal bandpass filter:\n",
      "FIR filter parameters\n",
      "- Windowed time-domain design (firwin) method\n",
      "---------------------\n",
      "- Hamming window with 0.0194 passband ripple and 53 dB stopband attenuation\n",
      "Designing a one-pass, zero-phase, non-causal bandpass filter:\n",
      "- Windowed time-domain design (firwin) method\n",
      "- Hamming window with 0.0194 passband ripple and 53 dB stopband attenuation\n",
      "- Lower passband edge: 4.00\n",
      "- Lower transition bandwidth: 2.00 Hz (-6 dB cutoff frequency: 3.00 Hz)\n",
      "- Lower passband edge: 4.00\n",
      "- Lower transition bandwidth: 2.00 Hz (-6 dB cutoff frequency: 3.00 Hz)\n",
      "- Upper passband edge: 38.00 Hz\n",
      "- Upper transition bandwidth: 9.50 Hz (-6 dB cutoff frequency: 42.75 Hz)\n",
      "- Upper passband edge: 38.00 Hz\n",
      "- Upper transition bandwidth: 9.50 Hz (-6 dB cutoff frequency: 42.75 Hz)\n",
      "- Filter length: 413 samples (1.652 s)\n",
      "\n",
      "- Filter length: 413 samples (1.652 s)\n",
      "\n"
     ]
    },
    {
     "name": "stderr",
     "output_type": "stream",
     "text": [
      "[Parallel(n_jobs=1)]: Done  17 tasks      | elapsed:    0.2s\n",
      "[Parallel(n_jobs=1)]: Done  17 tasks      | elapsed:    0.2s\n"
     ]
    },
    {
     "name": "stdout",
     "output_type": "stream",
     "text": [
      "NOTE: pick_types() is a legacy function. New code should use inst.pick(...).\n",
      "Filtering raw data in 1 contiguous segment\n",
      "Setting up band-pass filter from 4 - 38 Hz\n",
      "\n",
      "FIR filter parameters\n",
      "---------------------\n",
      "Designing a one-pass, zero-phase, non-causal bandpass filter:\n",
      "- Windowed time-domain design (firwin) method\n",
      "- Hamming window with 0.0194 passband ripple and 53 dB stopband attenuation\n",
      "- Lower passband edge: 4.00\n",
      "- Lower transition bandwidth: 2.00 Hz (-6 dB cutoff frequency: 3.00 Hz)\n",
      "- Upper passband edge: 38.00 Hz\n",
      "- Upper transition bandwidth: 9.50 Hz (-6 dB cutoff frequency: 42.75 Hz)\n",
      "- Filter length: 413 samples (1.652 s)\n",
      "\n",
      "NOTE: pick_types() is a legacy function. New code should use inst.pick(...).\n",
      "Filtering raw data in 1 contiguous segment\n",
      "Setting up band-pass filter from 4 - 38 Hz\n",
      "\n",
      "FIR filter parameters\n",
      "---------------------\n",
      "Designing a one-pass, zero-phase, non-causal bandpass filter:\n",
      "- Windowed time-domain design (firwin) method\n",
      "- Hamming window with 0.0194 passband ripple and 53 dB stopband attenuation\n",
      "- Lower passband edge: 4.00\n",
      "- Lower transition bandwidth: 2.00 Hz (-6 dB cutoff frequency: 3.00 Hz)\n",
      "- Upper passband edge: 38.00 Hz\n",
      "- Upper transition bandwidth: 9.50 Hz (-6 dB cutoff frequency: 42.75 Hz)\n",
      "- Filter length: 413 samples (1.652 s)\n",
      "\n"
     ]
    },
    {
     "name": "stderr",
     "output_type": "stream",
     "text": [
      "[Parallel(n_jobs=1)]: Done  17 tasks      | elapsed:    0.2s\n",
      "[Parallel(n_jobs=1)]: Done  17 tasks      | elapsed:    0.2s\n"
     ]
    },
    {
     "name": "stdout",
     "output_type": "stream",
     "text": [
      "NOTE: pick_types() is a legacy function. New code should use inst.pick(...).\n",
      "Filtering raw data in 1 contiguous segment\n",
      "Setting up band-pass filter from 4 - 38 Hz\n",
      "\n",
      "FIR filter parameters\n",
      "---------------------\n",
      "Designing a one-pass, zero-phase, non-causal bandpass filter:\n",
      "- Windowed time-domain design (firwin) method\n",
      "- Hamming window with 0.0194 passband ripple and 53 dB stopband attenuation\n",
      "- Lower passband edge: 4.00\n",
      "- Lower transition bandwidth: 2.00 Hz (-6 dB cutoff frequency: 3.00 Hz)\n",
      "- Upper passband edge: 38.00 Hz\n",
      "- Upper transition bandwidth: 9.50 Hz (-6 dB cutoff frequency: 42.75 Hz)\n",
      "- Filter length: 413 samples (1.652 s)\n",
      "\n",
      "NOTE: pick_types() is a legacy function. New code should use inst.pick(...).\n",
      "Filtering raw data in 1 contiguous segment\n",
      "Setting up band-pass filter from 4 - 38 Hz\n",
      "\n",
      "FIR filter parameters\n",
      "---------------------\n",
      "Designing a one-pass, zero-phase, non-causal bandpass filter:\n",
      "- Windowed time-domain design (firwin) method\n",
      "- Hamming window with 0.0194 passband ripple and 53 dB stopband attenuation\n",
      "- Lower passband edge: 4.00\n",
      "- Lower transition bandwidth: 2.00 Hz (-6 dB cutoff frequency: 3.00 Hz)\n",
      "- Upper passband edge: 38.00 Hz\n",
      "- Upper transition bandwidth: 9.50 Hz (-6 dB cutoff frequency: 42.75 Hz)\n",
      "- Filter length: 413 samples (1.652 s)\n",
      "\n"
     ]
    },
    {
     "name": "stderr",
     "output_type": "stream",
     "text": [
      "[Parallel(n_jobs=1)]: Done  17 tasks      | elapsed:    0.2s\n",
      "[Parallel(n_jobs=1)]: Done  17 tasks      | elapsed:    0.2s\n"
     ]
    },
    {
     "name": "stdout",
     "output_type": "stream",
     "text": [
      "NOTE: pick_types() is a legacy function. New code should use inst.pick(...).\n",
      "Filtering raw data in 1 contiguous segment\n",
      "Setting up band-pass filter from 4 - 38 Hz\n",
      "\n",
      "FIR filter parameters\n",
      "---------------------\n",
      "Designing a one-pass, zero-phase, non-causal bandpass filter:\n",
      "- Windowed time-domain design (firwin) method\n",
      "- Hamming window with 0.0194 passband ripple and 53 dB stopband attenuation\n",
      "- Lower passband edge: 4.00\n",
      "- Lower transition bandwidth: 2.00 Hz (-6 dB cutoff frequency: 3.00 Hz)\n",
      "- Upper passband edge: 38.00 Hz\n",
      "- Upper transition bandwidth: 9.50 Hz (-6 dB cutoff frequency: 42.75 Hz)\n",
      "- Filter length: 413 samples (1.652 s)\n",
      "\n"
     ]
    },
    {
     "name": "stderr",
     "output_type": "stream",
     "text": [
      "[Parallel(n_jobs=1)]: Done  17 tasks      | elapsed:    0.2s\n"
     ]
    },
    {
     "name": "stdout",
     "output_type": "stream",
     "text": [
      "NOTE: pick_types() is a legacy function. New code should use inst.pick(...).\n",
      "Filtering raw data in 1 contiguous segment\n",
      "Setting up band-pass filter from 4 - 38 Hz\n",
      "\n",
      "FIR filter parameters\n",
      "---------------------\n",
      "Designing a one-pass, zero-phase, non-causal bandpass filter:\n",
      "- Windowed time-domain design (firwin) method\n",
      "- Hamming window with 0.0194 passband ripple and 53 dB stopband attenuation\n",
      "- Lower passband edge: 4.00\n",
      "- Lower transition bandwidth: 2.00 Hz (-6 dB cutoff frequency: 3.00 Hz)\n",
      "- Upper passband edge: 38.00 Hz\n",
      "- Upper transition bandwidth: 9.50 Hz (-6 dB cutoff frequency: 42.75 Hz)\n",
      "- Filter length: 413 samples (1.652 s)\n",
      "\n"
     ]
    },
    {
     "name": "stderr",
     "output_type": "stream",
     "text": [
      "[Parallel(n_jobs=1)]: Done  17 tasks      | elapsed:    0.2s\n"
     ]
    },
    {
     "name": "stdout",
     "output_type": "stream",
     "text": [
      "NOTE: pick_types() is a legacy function. New code should use inst.pick(...).\n",
      "Filtering raw data in 1 contiguous segment\n",
      "Setting up band-pass filter from 4 - 38 Hz\n",
      "\n",
      "FIR filter parameters\n",
      "---------------------\n",
      "Designing a one-pass, zero-phase, non-causal bandpass filter:\n",
      "- Windowed time-domain design (firwin) method\n",
      "- Hamming window with 0.0194 passband ripple and 53 dB stopband attenuation\n",
      "- Lower passband edge: 4.00\n",
      "- Lower transition bandwidth: 2.00 Hz (-6 dB cutoff frequency: 3.00 Hz)\n",
      "- Upper passband edge: 38.00 Hz\n",
      "- Upper transition bandwidth: 9.50 Hz (-6 dB cutoff frequency: 42.75 Hz)\n",
      "- Filter length: 413 samples (1.652 s)\n",
      "\n",
      "NOTE: pick_types() is a legacy function. New code should use inst.pick(...).\n"
     ]
    },
    {
     "name": "stderr",
     "output_type": "stream",
     "text": [
      "[Parallel(n_jobs=1)]: Done  17 tasks      | elapsed:    0.2s\n"
     ]
    },
    {
     "name": "stdout",
     "output_type": "stream",
     "text": [
      "Filtering raw data in 1 contiguous segment\n",
      "Setting up band-pass filter from 4 - 38 Hz\n",
      "\n",
      "FIR filter parameters\n",
      "---------------------\n",
      "Designing a one-pass, zero-phase, non-causal bandpass filter:\n",
      "- Windowed time-domain design (firwin) method\n",
      "- Hamming window with 0.0194 passband ripple and 53 dB stopband attenuation\n",
      "- Lower passband edge: 4.00\n",
      "- Lower transition bandwidth: 2.00 Hz (-6 dB cutoff frequency: 3.00 Hz)\n",
      "- Upper passband edge: 38.00 Hz\n",
      "- Upper transition bandwidth: 9.50 Hz (-6 dB cutoff frequency: 42.75 Hz)\n",
      "- Filter length: 413 samples (1.652 s)\n",
      "\n"
     ]
    },
    {
     "name": "stderr",
     "output_type": "stream",
     "text": [
      "[Parallel(n_jobs=1)]: Done  17 tasks      | elapsed:    0.2s\n"
     ]
    },
    {
     "name": "stdout",
     "output_type": "stream",
     "text": [
      "NOTE: pick_types() is a legacy function. New code should use inst.pick(...).\n",
      "Filtering raw data in 1 contiguous segment\n",
      "Setting up band-pass filter from 4 - 38 Hz\n",
      "\n",
      "FIR filter parameters\n",
      "---------------------\n",
      "Designing a one-pass, zero-phase, non-causal bandpass filter:\n",
      "- Windowed time-domain design (firwin) method\n",
      "- Hamming window with 0.0194 passband ripple and 53 dB stopband attenuation\n",
      "- Lower passband edge: 4.00\n",
      "- Lower transition bandwidth: 2.00 Hz (-6 dB cutoff frequency: 3.00 Hz)\n",
      "- Upper passband edge: 38.00 Hz\n",
      "- Upper transition bandwidth: 9.50 Hz (-6 dB cutoff frequency: 42.75 Hz)\n",
      "- Filter length: 413 samples (1.652 s)\n",
      "\n"
     ]
    },
    {
     "name": "stderr",
     "output_type": "stream",
     "text": [
      "[Parallel(n_jobs=1)]: Done  17 tasks      | elapsed:    0.2s\n"
     ]
    },
    {
     "name": "stdout",
     "output_type": "stream",
     "text": [
      "NOTE: pick_types() is a legacy function. New code should use inst.pick(...).\n",
      "Filtering raw data in 1 contiguous segment\n",
      "Setting up band-pass filter from 4 - 38 Hz\n",
      "\n",
      "FIR filter parameters\n",
      "---------------------\n",
      "Designing a one-pass, zero-phase, non-causal bandpass filter:\n",
      "- Windowed time-domain design (firwin) method\n",
      "- Hamming window with 0.0194 passband ripple and 53 dB stopband attenuation\n",
      "- Lower passband edge: 4.00\n",
      "- Lower transition bandwidth: 2.00 Hz (-6 dB cutoff frequency: 3.00 Hz)\n",
      "- Upper passband edge: 38.00 Hz\n",
      "- Upper transition bandwidth: 9.50 Hz (-6 dB cutoff frequency: 42.75 Hz)\n",
      "- Filter length: 413 samples (1.652 s)\n",
      "\n"
     ]
    },
    {
     "name": "stderr",
     "output_type": "stream",
     "text": [
      "[Parallel(n_jobs=1)]: Done  17 tasks      | elapsed:    0.2s\n"
     ]
    },
    {
     "data": {
      "text/plain": [
       "<braindecode.datasets.moabb.MOABBDataset at 0x7f66e460d590>"
      ]
     },
     "execution_count": 8,
     "metadata": {},
     "output_type": "execute_result"
    }
   ],
   "source": [
    "# Preprocess the data\n",
    "preprocess(dataset, preprocessors, n_jobs=-1)"
   ]
  },
  {
   "cell_type": "code",
   "execution_count": 99,
   "id": "250fd989-678f-4e53-9d86-109ef4a29dc1",
   "metadata": {},
   "outputs": [
    {
     "ename": "AttributeError",
     "evalue": "'BNCI2014_001' object has no attribute 'datasets'",
     "output_type": "error",
     "traceback": [
      "\u001b[0;31m---------------------------------------------------------------------------\u001b[0m",
      "\u001b[0;31mAttributeError\u001b[0m                            Traceback (most recent call last)",
      "Cell \u001b[0;32mIn[99], line 5\u001b[0m\n\u001b[1;32m      3\u001b[0m trial_start_offset_seconds \u001b[38;5;241m=\u001b[39m \u001b[38;5;241m-\u001b[39m\u001b[38;5;241m0.5\u001b[39m\n\u001b[1;32m      4\u001b[0m \u001b[38;5;66;03m# Extract sampling frequency, check that they are same in all datasets\u001b[39;00m\n\u001b[0;32m----> 5\u001b[0m sfreq \u001b[38;5;241m=\u001b[39m \u001b[43mdataset\u001b[49m\u001b[38;5;241;43m.\u001b[39;49m\u001b[43mdatasets\u001b[49m[\u001b[38;5;241m0\u001b[39m]\u001b[38;5;241m.\u001b[39mraw\u001b[38;5;241m.\u001b[39minfo[\u001b[38;5;124m\"\u001b[39m\u001b[38;5;124msfreq\u001b[39m\u001b[38;5;124m\"\u001b[39m]\n\u001b[1;32m      6\u001b[0m \u001b[38;5;28;01massert\u001b[39;00m \u001b[38;5;28mall\u001b[39m([ds\u001b[38;5;241m.\u001b[39mraw\u001b[38;5;241m.\u001b[39minfo[\u001b[38;5;124m\"\u001b[39m\u001b[38;5;124msfreq\u001b[39m\u001b[38;5;124m\"\u001b[39m] \u001b[38;5;241m==\u001b[39m sfreq \u001b[38;5;28;01mfor\u001b[39;00m ds \u001b[38;5;129;01min\u001b[39;00m dataset\u001b[38;5;241m.\u001b[39mdatasets])\n\u001b[1;32m      7\u001b[0m \u001b[38;5;66;03m# Calculate the window start offset in samples.\u001b[39;00m\n",
      "\u001b[0;31mAttributeError\u001b[0m: 'BNCI2014_001' object has no attribute 'datasets'"
     ]
    }
   ],
   "source": [
    "from braindecode.preprocessing import create_windows_from_events\n",
    "\n",
    "trial_start_offset_seconds = -0.5\n",
    "# Extract sampling frequency, check that they are same in all datasets\n",
    "sfreq = dataset.datasets[0].raw.info[\"sfreq\"]\n",
    "assert all([ds.raw.info[\"sfreq\"] == sfreq for ds in dataset.datasets])\n",
    "# Calculate the window start offset in samples.\n",
    "trial_start_offset_samples = int(trial_start_offset_seconds * sfreq)\n",
    "\n",
    "# Create windows using braindecode function for this. It needs parameters to\n",
    "# define how windows should be used.\n",
    "windows_dataset = create_windows_from_events(\n",
    "    dataset,\n",
    "    trial_start_offset_samples=trial_start_offset_samples,\n",
    "    trial_stop_offset_samples=0,\n",
    "    preload=True,\n",
    ")"
   ]
  },
  {
   "cell_type": "code",
   "execution_count": 16,
   "id": "6e08b113-98f8-4dbf-acd1-c3ee77b7a01d",
   "metadata": {},
   "outputs": [
    {
     "data": {
      "text/plain": [
       "braindecode.datasets.base.BaseConcatDataset"
      ]
     },
     "execution_count": 16,
     "metadata": {},
     "output_type": "execute_result"
    }
   ],
   "source": [
    "type(windows_dataset)"
   ]
  },
  {
   "cell_type": "code",
   "execution_count": 17,
   "id": "5e79c32c-2852-4857-a0f8-b5de68ba918d",
   "metadata": {},
   "outputs": [
    {
     "data": {
      "text/html": [
       "<div>\n",
       "<style scoped>\n",
       "    .dataframe tbody tr th:only-of-type {\n",
       "        vertical-align: middle;\n",
       "    }\n",
       "\n",
       "    .dataframe tbody tr th {\n",
       "        vertical-align: top;\n",
       "    }\n",
       "\n",
       "    .dataframe thead th {\n",
       "        text-align: right;\n",
       "    }\n",
       "</style>\n",
       "<table border=\"1\" class=\"dataframe\">\n",
       "  <thead>\n",
       "    <tr style=\"text-align: right;\">\n",
       "      <th></th>\n",
       "      <th>subject</th>\n",
       "      <th>session</th>\n",
       "      <th>run</th>\n",
       "    </tr>\n",
       "  </thead>\n",
       "  <tbody>\n",
       "    <tr>\n",
       "      <th>0</th>\n",
       "      <td>3</td>\n",
       "      <td>0train</td>\n",
       "      <td>0</td>\n",
       "    </tr>\n",
       "    <tr>\n",
       "      <th>1</th>\n",
       "      <td>3</td>\n",
       "      <td>0train</td>\n",
       "      <td>1</td>\n",
       "    </tr>\n",
       "    <tr>\n",
       "      <th>2</th>\n",
       "      <td>3</td>\n",
       "      <td>0train</td>\n",
       "      <td>2</td>\n",
       "    </tr>\n",
       "    <tr>\n",
       "      <th>3</th>\n",
       "      <td>3</td>\n",
       "      <td>0train</td>\n",
       "      <td>3</td>\n",
       "    </tr>\n",
       "    <tr>\n",
       "      <th>4</th>\n",
       "      <td>3</td>\n",
       "      <td>0train</td>\n",
       "      <td>4</td>\n",
       "    </tr>\n",
       "    <tr>\n",
       "      <th>5</th>\n",
       "      <td>3</td>\n",
       "      <td>0train</td>\n",
       "      <td>5</td>\n",
       "    </tr>\n",
       "    <tr>\n",
       "      <th>6</th>\n",
       "      <td>3</td>\n",
       "      <td>1test</td>\n",
       "      <td>0</td>\n",
       "    </tr>\n",
       "    <tr>\n",
       "      <th>7</th>\n",
       "      <td>3</td>\n",
       "      <td>1test</td>\n",
       "      <td>1</td>\n",
       "    </tr>\n",
       "    <tr>\n",
       "      <th>8</th>\n",
       "      <td>3</td>\n",
       "      <td>1test</td>\n",
       "      <td>2</td>\n",
       "    </tr>\n",
       "    <tr>\n",
       "      <th>9</th>\n",
       "      <td>3</td>\n",
       "      <td>1test</td>\n",
       "      <td>3</td>\n",
       "    </tr>\n",
       "    <tr>\n",
       "      <th>10</th>\n",
       "      <td>3</td>\n",
       "      <td>1test</td>\n",
       "      <td>4</td>\n",
       "    </tr>\n",
       "    <tr>\n",
       "      <th>11</th>\n",
       "      <td>3</td>\n",
       "      <td>1test</td>\n",
       "      <td>5</td>\n",
       "    </tr>\n",
       "  </tbody>\n",
       "</table>\n",
       "</div>"
      ],
      "text/plain": [
       "    subject session run\n",
       "0         3  0train   0\n",
       "1         3  0train   1\n",
       "2         3  0train   2\n",
       "3         3  0train   3\n",
       "4         3  0train   4\n",
       "5         3  0train   5\n",
       "6         3   1test   0\n",
       "7         3   1test   1\n",
       "8         3   1test   2\n",
       "9         3   1test   3\n",
       "10        3   1test   4\n",
       "11        3   1test   5"
      ]
     },
     "execution_count": 17,
     "metadata": {},
     "output_type": "execute_result"
    }
   ],
   "source": [
    "windows_dataset.description"
   ]
  },
  {
   "cell_type": "code",
   "execution_count": 20,
   "id": "a9aa3545-e6c0-4f35-81e9-66b9933b6ca8",
   "metadata": {},
   "outputs": [],
   "source": [
    "splitted = windows_dataset.split(\"session\")\n",
    "train_set = splitted['0train']  # Session train\n",
    "test_set = splitted['1test']  # Session evaluation"
   ]
  },
  {
   "cell_type": "code",
   "execution_count": 15,
   "id": "f6b636a4-cce0-4ee2-ba80-b8c3e54de306",
   "metadata": {},
   "outputs": [
    {
     "data": {
      "text/plain": [
       "{'0train': <braindecode.datasets.base.BaseConcatDataset at 0x7f65d14ea090>,\n",
       " '1test': <braindecode.datasets.base.BaseConcatDataset at 0x7f65dce27950>}"
      ]
     },
     "execution_count": 15,
     "metadata": {},
     "output_type": "execute_result"
    }
   ],
   "source": [
    "splitted"
   ]
  },
  {
   "cell_type": "code",
   "execution_count": 87,
   "id": "9b4c943a-18dd-4a08-9e8e-3d21791578f5",
   "metadata": {},
   "outputs": [
    {
     "data": {
      "text/html": [
       "<div>\n",
       "<style scoped>\n",
       "    .dataframe tbody tr th:only-of-type {\n",
       "        vertical-align: middle;\n",
       "    }\n",
       "\n",
       "    .dataframe tbody tr th {\n",
       "        vertical-align: top;\n",
       "    }\n",
       "\n",
       "    .dataframe thead th {\n",
       "        text-align: right;\n",
       "    }\n",
       "</style>\n",
       "<table border=\"1\" class=\"dataframe\">\n",
       "  <thead>\n",
       "    <tr style=\"text-align: right;\">\n",
       "      <th></th>\n",
       "      <th>i_window_in_trial</th>\n",
       "      <th>i_start_in_trial</th>\n",
       "      <th>i_stop_in_trial</th>\n",
       "      <th>target</th>\n",
       "      <th>subject</th>\n",
       "      <th>session</th>\n",
       "      <th>run</th>\n",
       "    </tr>\n",
       "  </thead>\n",
       "  <tbody>\n",
       "    <tr>\n",
       "      <th>0</th>\n",
       "      <td>0</td>\n",
       "      <td>625</td>\n",
       "      <td>1750</td>\n",
       "      <td>1</td>\n",
       "      <td>3</td>\n",
       "      <td>0train</td>\n",
       "      <td>0</td>\n",
       "    </tr>\n",
       "    <tr>\n",
       "      <th>1</th>\n",
       "      <td>0</td>\n",
       "      <td>2628</td>\n",
       "      <td>3753</td>\n",
       "      <td>2</td>\n",
       "      <td>3</td>\n",
       "      <td>0train</td>\n",
       "      <td>0</td>\n",
       "    </tr>\n",
       "    <tr>\n",
       "      <th>2</th>\n",
       "      <td>0</td>\n",
       "      <td>4546</td>\n",
       "      <td>5671</td>\n",
       "      <td>2</td>\n",
       "      <td>3</td>\n",
       "      <td>0train</td>\n",
       "      <td>0</td>\n",
       "    </tr>\n",
       "    <tr>\n",
       "      <th>3</th>\n",
       "      <td>0</td>\n",
       "      <td>6498</td>\n",
       "      <td>7623</td>\n",
       "      <td>1</td>\n",
       "      <td>3</td>\n",
       "      <td>0train</td>\n",
       "      <td>0</td>\n",
       "    </tr>\n",
       "    <tr>\n",
       "      <th>4</th>\n",
       "      <td>0</td>\n",
       "      <td>8506</td>\n",
       "      <td>9631</td>\n",
       "      <td>2</td>\n",
       "      <td>3</td>\n",
       "      <td>0train</td>\n",
       "      <td>0</td>\n",
       "    </tr>\n",
       "    <tr>\n",
       "      <th>...</th>\n",
       "      <td>...</td>\n",
       "      <td>...</td>\n",
       "      <td>...</td>\n",
       "      <td>...</td>\n",
       "      <td>...</td>\n",
       "      <td>...</td>\n",
       "      <td>...</td>\n",
       "    </tr>\n",
       "    <tr>\n",
       "      <th>43</th>\n",
       "      <td>0</td>\n",
       "      <td>87125</td>\n",
       "      <td>88250</td>\n",
       "      <td>0</td>\n",
       "      <td>3</td>\n",
       "      <td>0train</td>\n",
       "      <td>5</td>\n",
       "    </tr>\n",
       "    <tr>\n",
       "      <th>44</th>\n",
       "      <td>0</td>\n",
       "      <td>89031</td>\n",
       "      <td>90156</td>\n",
       "      <td>3</td>\n",
       "      <td>3</td>\n",
       "      <td>0train</td>\n",
       "      <td>5</td>\n",
       "    </tr>\n",
       "    <tr>\n",
       "      <th>45</th>\n",
       "      <td>0</td>\n",
       "      <td>90959</td>\n",
       "      <td>92084</td>\n",
       "      <td>0</td>\n",
       "      <td>3</td>\n",
       "      <td>0train</td>\n",
       "      <td>5</td>\n",
       "    </tr>\n",
       "    <tr>\n",
       "      <th>46</th>\n",
       "      <td>0</td>\n",
       "      <td>93073</td>\n",
       "      <td>94198</td>\n",
       "      <td>1</td>\n",
       "      <td>3</td>\n",
       "      <td>0train</td>\n",
       "      <td>5</td>\n",
       "    </tr>\n",
       "    <tr>\n",
       "      <th>47</th>\n",
       "      <td>0</td>\n",
       "      <td>95132</td>\n",
       "      <td>96257</td>\n",
       "      <td>0</td>\n",
       "      <td>3</td>\n",
       "      <td>0train</td>\n",
       "      <td>5</td>\n",
       "    </tr>\n",
       "  </tbody>\n",
       "</table>\n",
       "<p>288 rows × 7 columns</p>\n",
       "</div>"
      ],
      "text/plain": [
       "    i_window_in_trial  i_start_in_trial  i_stop_in_trial  target  subject  \\\n",
       "0                   0               625             1750       1        3   \n",
       "1                   0              2628             3753       2        3   \n",
       "2                   0              4546             5671       2        3   \n",
       "3                   0              6498             7623       1        3   \n",
       "4                   0              8506             9631       2        3   \n",
       "..                ...               ...              ...     ...      ...   \n",
       "43                  0             87125            88250       0        3   \n",
       "44                  0             89031            90156       3        3   \n",
       "45                  0             90959            92084       0        3   \n",
       "46                  0             93073            94198       1        3   \n",
       "47                  0             95132            96257       0        3   \n",
       "\n",
       "   session run  \n",
       "0   0train   0  \n",
       "1   0train   0  \n",
       "2   0train   0  \n",
       "3   0train   0  \n",
       "4   0train   0  \n",
       "..     ...  ..  \n",
       "43  0train   5  \n",
       "44  0train   5  \n",
       "45  0train   5  \n",
       "46  0train   5  \n",
       "47  0train   5  \n",
       "\n",
       "[288 rows x 7 columns]"
      ]
     },
     "execution_count": 87,
     "metadata": {},
     "output_type": "execute_result"
    }
   ],
   "source": [
    "train_set.get_metadata()"
   ]
  },
  {
   "cell_type": "code",
   "execution_count": 93,
   "id": "1735e27c-2548-4dce-9e7b-6ac0d6af08ff",
   "metadata": {},
   "outputs": [
    {
     "data": {
      "text/plain": [
       "(22, 1125)"
      ]
     },
     "execution_count": 93,
     "metadata": {},
     "output_type": "execute_result"
    }
   ],
   "source": [
    "train_set[0][0].shape"
   ]
  },
  {
   "cell_type": "markdown",
   "id": "f5663127-11a5-443a-b1f4-cd0640299218",
   "metadata": {},
   "source": [
    "#### Second Way of Importing Data"
   ]
  },
  {
   "cell_type": "code",
   "execution_count": 94,
   "id": "5333b90f-7834-4560-bc15-5b6fae50ce5c",
   "metadata": {},
   "outputs": [],
   "source": [
    "import moabb\n",
    "from moabb.datasets import BNCI2014_001"
   ]
  },
  {
   "cell_type": "code",
   "execution_count": 95,
   "id": "f25cd330-a603-4f6f-bad1-d4711031e83c",
   "metadata": {},
   "outputs": [],
   "source": [
    "dataset = BNCI2014_001()"
   ]
  },
  {
   "cell_type": "code",
   "execution_count": 96,
   "id": "2df960a1-d737-4114-b263-85c49a8c2c2e",
   "metadata": {},
   "outputs": [
    {
     "data": {
      "text/plain": [
       "[1, 2, 3, 4, 5, 6, 7, 8, 9]"
      ]
     },
     "execution_count": 96,
     "metadata": {},
     "output_type": "execute_result"
    }
   ],
   "source": [
    "dataset.subject_list "
   ]
  },
  {
   "cell_type": "code",
   "execution_count": 98,
   "id": "14f9bb04-5090-4e14-b062-6ec5d6287967",
   "metadata": {},
   "outputs": [
    {
     "name": "stderr",
     "output_type": "stream",
     "text": [
      "Downloading data from 'http://bnci-horizon-2020.eu/database/data-sets/001-2014/A02T.mat' to file '/user/home/ko20929/mne_data_test/MNE-bnci-data/database/data-sets/001-2014/A02T.mat'.\n",
      "/user/home/ko20929/.conda/envs/sktime_latest/lib/python3.11/site-packages/urllib3/connectionpool.py:1063: InsecureRequestWarning: Unverified HTTPS request is being made to host 'lampx.tugraz.at'. Adding certificate verification is strongly advised. See: https://urllib3.readthedocs.io/en/1.26.x/advanced-usage.html#ssl-warnings\n",
      "  warnings.warn(\n",
      "100%|█████████████████████████████████████| 43.1M/43.1M [00:00<00:00, 36.6GB/s]\n",
      "SHA256 hash of downloaded file: 5ddd5cb520b1692c3ba1363f48d98f58f0e46f3699ee50d749947950fc39db27\n",
      "Use this value as the 'known_hash' argument of 'pooch.retrieve' to ensure that the file hasn't changed if it is downloaded again in the future.\n",
      "Downloading data from 'http://bnci-horizon-2020.eu/database/data-sets/001-2014/A02E.mat' to file '/user/home/ko20929/mne_data_test/MNE-bnci-data/database/data-sets/001-2014/A02E.mat'.\n",
      "/user/home/ko20929/.conda/envs/sktime_latest/lib/python3.11/site-packages/urllib3/connectionpool.py:1063: InsecureRequestWarning: Unverified HTTPS request is being made to host 'lampx.tugraz.at'. Adding certificate verification is strongly advised. See: https://urllib3.readthedocs.io/en/1.26.x/advanced-usage.html#ssl-warnings\n",
      "  warnings.warn(\n",
      " 65%|███████████████████████▉             | 28.6M/44.2M [00:13<00:08, 1.87MB/s]"
     ]
    },
    {
     "ename": "KeyboardInterrupt",
     "evalue": "",
     "output_type": "error",
     "traceback": [
      "\u001b[0;31m---------------------------------------------------------------------------\u001b[0m",
      "\u001b[0;31mKeyboardInterrupt\u001b[0m                         Traceback (most recent call last)",
      "Cell \u001b[0;32mIn[98], line 1\u001b[0m\n\u001b[0;32m----> 1\u001b[0m sessions \u001b[38;5;241m=\u001b[39m \u001b[43mdataset\u001b[49m\u001b[38;5;241;43m.\u001b[39;49m\u001b[43mget_data\u001b[49m\u001b[43m(\u001b[49m\u001b[43msubjects\u001b[49m\u001b[38;5;241;43m=\u001b[39;49m\u001b[43m[\u001b[49m\u001b[38;5;241;43m1\u001b[39;49m\u001b[43m,\u001b[49m\u001b[38;5;241;43m2\u001b[39;49m\u001b[43m]\u001b[49m\u001b[43m)\u001b[49m\n",
      "File \u001b[0;32m~/.conda/envs/sktime_latest/lib/python3.11/site-packages/moabb/datasets/base.py:343\u001b[0m, in \u001b[0;36mBaseDataset.get_data\u001b[0;34m(self, subjects, cache_config, process_pipeline)\u001b[0m\n\u001b[1;32m    341\u001b[0m     \u001b[38;5;28;01mif\u001b[39;00m subject \u001b[38;5;129;01mnot\u001b[39;00m \u001b[38;5;129;01min\u001b[39;00m \u001b[38;5;28mself\u001b[39m\u001b[38;5;241m.\u001b[39msubject_list:\n\u001b[1;32m    342\u001b[0m         \u001b[38;5;28;01mraise\u001b[39;00m \u001b[38;5;167;01mValueError\u001b[39;00m(\u001b[38;5;124m\"\u001b[39m\u001b[38;5;124mInvalid subject \u001b[39m\u001b[38;5;132;01m{:d}\u001b[39;00m\u001b[38;5;124m given\u001b[39m\u001b[38;5;124m\"\u001b[39m\u001b[38;5;241m.\u001b[39mformat(subject))\n\u001b[0;32m--> 343\u001b[0m     data[subject] \u001b[38;5;241m=\u001b[39m \u001b[38;5;28;43mself\u001b[39;49m\u001b[38;5;241;43m.\u001b[39;49m\u001b[43m_get_single_subject_data_using_cache\u001b[49m\u001b[43m(\u001b[49m\n\u001b[1;32m    344\u001b[0m \u001b[43m        \u001b[49m\u001b[43msubject\u001b[49m\u001b[43m,\u001b[49m\n\u001b[1;32m    345\u001b[0m \u001b[43m        \u001b[49m\u001b[43mcache_config\u001b[49m\u001b[43m,\u001b[49m\n\u001b[1;32m    346\u001b[0m \u001b[43m        \u001b[49m\u001b[43mprocess_pipeline\u001b[49m\u001b[43m,\u001b[49m\n\u001b[1;32m    347\u001b[0m \u001b[43m    \u001b[49m\u001b[43m)\u001b[49m\n\u001b[1;32m    348\u001b[0m check_subject_names(data)\n\u001b[1;32m    349\u001b[0m check_session_names(data)\n",
      "File \u001b[0;32m~/.conda/envs/sktime_latest/lib/python3.11/site-packages/moabb/datasets/base.py:437\u001b[0m, in \u001b[0;36mBaseDataset._get_single_subject_data_using_cache\u001b[0;34m(self, subject, cache_config, process_pipeline)\u001b[0m\n\u001b[1;32m    435\u001b[0m \u001b[38;5;66;03m# Load and eventually overwrite:\u001b[39;00m\n\u001b[1;32m    436\u001b[0m \u001b[38;5;28;01mif\u001b[39;00m \u001b[38;5;28mlen\u001b[39m(cached_steps) \u001b[38;5;241m==\u001b[39m \u001b[38;5;241m0\u001b[39m:  \u001b[38;5;66;03m# last option: we don't use cache\u001b[39;00m\n\u001b[0;32m--> 437\u001b[0m     sessions_data \u001b[38;5;241m=\u001b[39m \u001b[38;5;28;43mself\u001b[39;49m\u001b[38;5;241;43m.\u001b[39;49m\u001b[43m_get_single_subject_data\u001b[49m\u001b[43m(\u001b[49m\u001b[43msubject\u001b[49m\u001b[43m)\u001b[49m\n\u001b[1;32m    438\u001b[0m     \u001b[38;5;28;01massert\u001b[39;00m sessions_data \u001b[38;5;129;01mis\u001b[39;00m \u001b[38;5;129;01mnot\u001b[39;00m \u001b[38;5;28;01mNone\u001b[39;00m  \u001b[38;5;66;03m# should not happen\u001b[39;00m\n\u001b[1;32m    439\u001b[0m \u001b[38;5;28;01melse\u001b[39;00m:\n",
      "File \u001b[0;32m~/.conda/envs/sktime_latest/lib/python3.11/site-packages/moabb/datasets/bnci.py:738\u001b[0m, in \u001b[0;36mMNEBNCI._get_single_subject_data\u001b[0;34m(self, subject)\u001b[0m\n\u001b[1;32m    736\u001b[0m \u001b[38;5;28;01mdef\u001b[39;00m \u001b[38;5;21m_get_single_subject_data\u001b[39m(\u001b[38;5;28mself\u001b[39m, subject):\n\u001b[1;32m    737\u001b[0m \u001b[38;5;250m    \u001b[39m\u001b[38;5;124;03m\"\"\"Return data for a single subject.\"\"\"\u001b[39;00m\n\u001b[0;32m--> 738\u001b[0m     sessions \u001b[38;5;241m=\u001b[39m \u001b[43mload_data\u001b[49m\u001b[43m(\u001b[49m\u001b[43msubject\u001b[49m\u001b[38;5;241;43m=\u001b[39;49m\u001b[43msubject\u001b[49m\u001b[43m,\u001b[49m\u001b[43m \u001b[49m\u001b[43mdataset\u001b[49m\u001b[38;5;241;43m=\u001b[39;49m\u001b[38;5;28;43mself\u001b[39;49m\u001b[38;5;241;43m.\u001b[39;49m\u001b[43mcode\u001b[49m\u001b[43m,\u001b[49m\u001b[43m \u001b[49m\u001b[43mverbose\u001b[49m\u001b[38;5;241;43m=\u001b[39;49m\u001b[38;5;28;43;01mFalse\u001b[39;49;00m\u001b[43m)\u001b[49m\n\u001b[1;32m    739\u001b[0m     \u001b[38;5;28;01mreturn\u001b[39;00m sessions\n",
      "File \u001b[0;32m<decorator-gen-460>:10\u001b[0m, in \u001b[0;36mload_data\u001b[0;34m(subject, dataset, path, force_update, update_path, base_url, only_filenames, verbose)\u001b[0m\n",
      "File \u001b[0;32m~/.conda/envs/sktime_latest/lib/python3.11/site-packages/moabb/datasets/bnci.py:111\u001b[0m, in \u001b[0;36mload_data\u001b[0;34m(subject, dataset, path, force_update, update_path, base_url, only_filenames, verbose)\u001b[0m\n\u001b[1;32m    105\u001b[0m \u001b[38;5;28;01mif\u001b[39;00m dataset \u001b[38;5;129;01mnot\u001b[39;00m \u001b[38;5;129;01min\u001b[39;00m dataset_list\u001b[38;5;241m.\u001b[39mkeys():\n\u001b[1;32m    106\u001b[0m     \u001b[38;5;28;01mraise\u001b[39;00m \u001b[38;5;167;01mValueError\u001b[39;00m(\n\u001b[1;32m    107\u001b[0m         \u001b[38;5;124m\"\u001b[39m\u001b[38;5;124mDataset \u001b[39m\u001b[38;5;124m'\u001b[39m\u001b[38;5;132;01m%s\u001b[39;00m\u001b[38;5;124m'\u001b[39m\u001b[38;5;124m is not a valid BNCI dataset ID. \u001b[39m\u001b[38;5;124m\"\u001b[39m\n\u001b[1;32m    108\u001b[0m         \u001b[38;5;124m\"\u001b[39m\u001b[38;5;124mValid dataset are \u001b[39m\u001b[38;5;132;01m%s\u001b[39;00m\u001b[38;5;124m.\u001b[39m\u001b[38;5;124m\"\u001b[39m \u001b[38;5;241m%\u001b[39m (dataset, \u001b[38;5;124m\"\u001b[39m\u001b[38;5;124m, \u001b[39m\u001b[38;5;124m\"\u001b[39m\u001b[38;5;241m.\u001b[39mjoin(dataset_list\u001b[38;5;241m.\u001b[39mkeys()))\n\u001b[1;32m    109\u001b[0m     )\n\u001b[0;32m--> 111\u001b[0m \u001b[38;5;28;01mreturn\u001b[39;00m \u001b[43mdataset_list\u001b[49m\u001b[43m[\u001b[49m\u001b[43mdataset\u001b[49m\u001b[43m]\u001b[49m\u001b[43m(\u001b[49m\n\u001b[1;32m    112\u001b[0m \u001b[43m    \u001b[49m\u001b[43msubject\u001b[49m\u001b[43m,\u001b[49m\n\u001b[1;32m    113\u001b[0m \u001b[43m    \u001b[49m\u001b[43mpath\u001b[49m\u001b[43m,\u001b[49m\n\u001b[1;32m    114\u001b[0m \u001b[43m    \u001b[49m\u001b[43mforce_update\u001b[49m\u001b[43m,\u001b[49m\n\u001b[1;32m    115\u001b[0m \u001b[43m    \u001b[49m\u001b[43mupdate_path\u001b[49m\u001b[43m,\u001b[49m\n\u001b[1;32m    116\u001b[0m \u001b[43m    \u001b[49m\u001b[43mbaseurl_list\u001b[49m\u001b[43m[\u001b[49m\u001b[43mdataset\u001b[49m\u001b[43m]\u001b[49m\u001b[43m,\u001b[49m\n\u001b[1;32m    117\u001b[0m \u001b[43m    \u001b[49m\u001b[43monly_filenames\u001b[49m\u001b[43m,\u001b[49m\n\u001b[1;32m    118\u001b[0m \u001b[43m    \u001b[49m\u001b[43mverbose\u001b[49m\u001b[43m,\u001b[49m\n\u001b[1;32m    119\u001b[0m \u001b[43m\u001b[49m\u001b[43m)\u001b[49m\n",
      "File \u001b[0;32m<decorator-gen-461>:10\u001b[0m, in \u001b[0;36m_load_data_001_2014\u001b[0;34m(subject, path, force_update, update_path, base_url, only_filenames, verbose)\u001b[0m\n",
      "File \u001b[0;32m~/.conda/envs/sktime_latest/lib/python3.11/site-packages/moabb/datasets/bnci.py:149\u001b[0m, in \u001b[0;36m_load_data_001_2014\u001b[0;34m(subject, path, force_update, update_path, base_url, only_filenames, verbose)\u001b[0m\n\u001b[1;32m    147\u001b[0m \u001b[38;5;28;01mfor\u001b[39;00m session_idx, r \u001b[38;5;129;01min\u001b[39;00m \u001b[38;5;28menumerate\u001b[39m([\u001b[38;5;124m\"\u001b[39m\u001b[38;5;124mT\u001b[39m\u001b[38;5;124m\"\u001b[39m, \u001b[38;5;124m\"\u001b[39m\u001b[38;5;124mE\u001b[39m\u001b[38;5;124m\"\u001b[39m]):\n\u001b[1;32m    148\u001b[0m     url \u001b[38;5;241m=\u001b[39m \u001b[38;5;124m\"\u001b[39m\u001b[38;5;132;01m{u}\u001b[39;00m\u001b[38;5;124m001-2014/A\u001b[39m\u001b[38;5;132;01m{s:02d}\u001b[39;00m\u001b[38;5;132;01m{r}\u001b[39;00m\u001b[38;5;124m.mat\u001b[39m\u001b[38;5;124m\"\u001b[39m\u001b[38;5;241m.\u001b[39mformat(u\u001b[38;5;241m=\u001b[39mbase_url, s\u001b[38;5;241m=\u001b[39msubject, r\u001b[38;5;241m=\u001b[39mr)\n\u001b[0;32m--> 149\u001b[0m     filename \u001b[38;5;241m=\u001b[39m \u001b[43mdata_path\u001b[49m\u001b[43m(\u001b[49m\u001b[43murl\u001b[49m\u001b[43m,\u001b[49m\u001b[43m \u001b[49m\u001b[43mpath\u001b[49m\u001b[43m,\u001b[49m\u001b[43m \u001b[49m\u001b[43mforce_update\u001b[49m\u001b[43m,\u001b[49m\u001b[43m \u001b[49m\u001b[43mupdate_path\u001b[49m\u001b[43m)\u001b[49m\n\u001b[1;32m    150\u001b[0m     filenames \u001b[38;5;241m+\u001b[39m\u001b[38;5;241m=\u001b[39m filename\n\u001b[1;32m    151\u001b[0m     \u001b[38;5;28;01mif\u001b[39;00m only_filenames:\n",
      "File \u001b[0;32m~/.conda/envs/sktime_latest/lib/python3.11/site-packages/moabb/datasets/bnci.py:20\u001b[0m, in \u001b[0;36mdata_path\u001b[0;34m(url, path, force_update, update_path, verbose)\u001b[0m\n\u001b[1;32m     19\u001b[0m \u001b[38;5;28;01mdef\u001b[39;00m \u001b[38;5;21mdata_path\u001b[39m(url, path\u001b[38;5;241m=\u001b[39m\u001b[38;5;28;01mNone\u001b[39;00m, force_update\u001b[38;5;241m=\u001b[39m\u001b[38;5;28;01mFalse\u001b[39;00m, update_path\u001b[38;5;241m=\u001b[39m\u001b[38;5;28;01mNone\u001b[39;00m, verbose\u001b[38;5;241m=\u001b[39m\u001b[38;5;28;01mNone\u001b[39;00m):\n\u001b[0;32m---> 20\u001b[0m     \u001b[38;5;28;01mreturn\u001b[39;00m [\u001b[43mdl\u001b[49m\u001b[38;5;241;43m.\u001b[39;49m\u001b[43mdata_dl\u001b[49m\u001b[43m(\u001b[49m\u001b[43murl\u001b[49m\u001b[43m,\u001b[49m\u001b[43m \u001b[49m\u001b[38;5;124;43m\"\u001b[39;49m\u001b[38;5;124;43mBNCI\u001b[39;49m\u001b[38;5;124;43m\"\u001b[39;49m\u001b[43m,\u001b[49m\u001b[43m \u001b[49m\u001b[43mpath\u001b[49m\u001b[43m,\u001b[49m\u001b[43m \u001b[49m\u001b[43mforce_update\u001b[49m\u001b[43m,\u001b[49m\u001b[43m \u001b[49m\u001b[43mverbose\u001b[49m\u001b[43m)\u001b[49m]\n",
      "File \u001b[0;32m<decorator-gen-459>:12\u001b[0m, in \u001b[0;36mdata_dl\u001b[0;34m(url, sign, path, force_update, verbose)\u001b[0m\n",
      "File \u001b[0;32m~/.conda/envs/sktime_latest/lib/python3.11/site-packages/moabb/datasets/download.py:155\u001b[0m, in \u001b[0;36mdata_dl\u001b[0;34m(url, sign, path, force_update, verbose)\u001b[0m\n\u001b[1;32m    153\u001b[0m \u001b[38;5;28;01melse\u001b[39;00m:\n\u001b[1;32m    154\u001b[0m     known_hash \u001b[38;5;241m=\u001b[39m file_hash(\u001b[38;5;28mstr\u001b[39m(destination))\n\u001b[0;32m--> 155\u001b[0m dlpath \u001b[38;5;241m=\u001b[39m \u001b[43mretrieve\u001b[49m\u001b[43m(\u001b[49m\n\u001b[1;32m    156\u001b[0m \u001b[43m    \u001b[49m\u001b[43murl\u001b[49m\u001b[43m,\u001b[49m\n\u001b[1;32m    157\u001b[0m \u001b[43m    \u001b[49m\u001b[43mknown_hash\u001b[49m\u001b[43m,\u001b[49m\n\u001b[1;32m    158\u001b[0m \u001b[43m    \u001b[49m\u001b[43mfname\u001b[49m\u001b[38;5;241;43m=\u001b[39;49m\u001b[43mPath\u001b[49m\u001b[43m(\u001b[49m\u001b[43murl\u001b[49m\u001b[43m)\u001b[49m\u001b[38;5;241;43m.\u001b[39;49m\u001b[43mname\u001b[49m\u001b[43m,\u001b[49m\n\u001b[1;32m    159\u001b[0m \u001b[43m    \u001b[49m\u001b[43mpath\u001b[49m\u001b[38;5;241;43m=\u001b[39;49m\u001b[38;5;28;43mstr\u001b[39;49m\u001b[43m(\u001b[49m\u001b[43mdestination\u001b[49m\u001b[38;5;241;43m.\u001b[39;49m\u001b[43mparent\u001b[49m\u001b[43m)\u001b[49m\u001b[43m,\u001b[49m\n\u001b[1;32m    160\u001b[0m \u001b[43m    \u001b[49m\u001b[43mprogressbar\u001b[49m\u001b[38;5;241;43m=\u001b[39;49m\u001b[38;5;28;43;01mTrue\u001b[39;49;00m\u001b[43m,\u001b[49m\n\u001b[1;32m    161\u001b[0m \u001b[43m    \u001b[49m\u001b[43mdownloader\u001b[49m\u001b[38;5;241;43m=\u001b[39;49m\u001b[43mdownloader\u001b[49m\u001b[43m,\u001b[49m\n\u001b[1;32m    162\u001b[0m \u001b[43m\u001b[49m\u001b[43m)\u001b[49m\n\u001b[1;32m    163\u001b[0m \u001b[38;5;28;01mreturn\u001b[39;00m dlpath\n",
      "File \u001b[0;32m~/.conda/envs/sktime_latest/lib/python3.11/site-packages/pooch/core.py:239\u001b[0m, in \u001b[0;36mretrieve\u001b[0;34m(url, known_hash, fname, path, processor, downloader, progressbar)\u001b[0m\n\u001b[1;32m    236\u001b[0m \u001b[38;5;28;01mif\u001b[39;00m downloader \u001b[38;5;129;01mis\u001b[39;00m \u001b[38;5;28;01mNone\u001b[39;00m:\n\u001b[1;32m    237\u001b[0m     downloader \u001b[38;5;241m=\u001b[39m choose_downloader(url, progressbar\u001b[38;5;241m=\u001b[39mprogressbar)\n\u001b[0;32m--> 239\u001b[0m \u001b[43mstream_download\u001b[49m\u001b[43m(\u001b[49m\u001b[43murl\u001b[49m\u001b[43m,\u001b[49m\u001b[43m \u001b[49m\u001b[43mfull_path\u001b[49m\u001b[43m,\u001b[49m\u001b[43m \u001b[49m\u001b[43mknown_hash\u001b[49m\u001b[43m,\u001b[49m\u001b[43m \u001b[49m\u001b[43mdownloader\u001b[49m\u001b[43m,\u001b[49m\u001b[43m \u001b[49m\u001b[43mpooch\u001b[49m\u001b[38;5;241;43m=\u001b[39;49m\u001b[38;5;28;43;01mNone\u001b[39;49;00m\u001b[43m)\u001b[49m\n\u001b[1;32m    241\u001b[0m \u001b[38;5;28;01mif\u001b[39;00m known_hash \u001b[38;5;129;01mis\u001b[39;00m \u001b[38;5;28;01mNone\u001b[39;00m:\n\u001b[1;32m    242\u001b[0m     get_logger()\u001b[38;5;241m.\u001b[39minfo(\n\u001b[1;32m    243\u001b[0m         \u001b[38;5;124m\"\u001b[39m\u001b[38;5;124mSHA256 hash of downloaded file: \u001b[39m\u001b[38;5;132;01m%s\u001b[39;00m\u001b[38;5;130;01m\\n\u001b[39;00m\u001b[38;5;124m\"\u001b[39m\n\u001b[1;32m    244\u001b[0m         \u001b[38;5;124m\"\u001b[39m\u001b[38;5;124mUse this value as the \u001b[39m\u001b[38;5;124m'\u001b[39m\u001b[38;5;124mknown_hash\u001b[39m\u001b[38;5;124m'\u001b[39m\u001b[38;5;124m argument of \u001b[39m\u001b[38;5;124m'\u001b[39m\u001b[38;5;124mpooch.retrieve\u001b[39m\u001b[38;5;124m'\u001b[39m\u001b[38;5;124m\"\u001b[39m\n\u001b[0;32m   (...)\u001b[0m\n\u001b[1;32m    247\u001b[0m         file_hash(\u001b[38;5;28mstr\u001b[39m(full_path)),\n\u001b[1;32m    248\u001b[0m     )\n",
      "File \u001b[0;32m~/.conda/envs/sktime_latest/lib/python3.11/site-packages/pooch/core.py:803\u001b[0m, in \u001b[0;36mstream_download\u001b[0;34m(url, fname, known_hash, downloader, pooch, retry_if_failed)\u001b[0m\n\u001b[1;32m    799\u001b[0m \u001b[38;5;28;01mtry\u001b[39;00m:\n\u001b[1;32m    800\u001b[0m     \u001b[38;5;66;03m# Stream the file to a temporary so that we can safely check its\u001b[39;00m\n\u001b[1;32m    801\u001b[0m     \u001b[38;5;66;03m# hash before overwriting the original.\u001b[39;00m\n\u001b[1;32m    802\u001b[0m     \u001b[38;5;28;01mwith\u001b[39;00m temporary_file(path\u001b[38;5;241m=\u001b[39m\u001b[38;5;28mstr\u001b[39m(fname\u001b[38;5;241m.\u001b[39mparent)) \u001b[38;5;28;01mas\u001b[39;00m tmp:\n\u001b[0;32m--> 803\u001b[0m         \u001b[43mdownloader\u001b[49m\u001b[43m(\u001b[49m\u001b[43murl\u001b[49m\u001b[43m,\u001b[49m\u001b[43m \u001b[49m\u001b[43mtmp\u001b[49m\u001b[43m,\u001b[49m\u001b[43m \u001b[49m\u001b[43mpooch\u001b[49m\u001b[43m)\u001b[49m\n\u001b[1;32m    804\u001b[0m         hash_matches(tmp, known_hash, strict\u001b[38;5;241m=\u001b[39m\u001b[38;5;28;01mTrue\u001b[39;00m, source\u001b[38;5;241m=\u001b[39m\u001b[38;5;28mstr\u001b[39m(fname\u001b[38;5;241m.\u001b[39mname))\n\u001b[1;32m    805\u001b[0m         shutil\u001b[38;5;241m.\u001b[39mmove(tmp, \u001b[38;5;28mstr\u001b[39m(fname))\n",
      "File \u001b[0;32m~/.conda/envs/sktime_latest/lib/python3.11/site-packages/pooch/downloaders.py:226\u001b[0m, in \u001b[0;36mHTTPDownloader.__call__\u001b[0;34m(self, url, output_file, pooch, check_only)\u001b[0m\n\u001b[1;32m    224\u001b[0m     progress \u001b[38;5;241m=\u001b[39m \u001b[38;5;28mself\u001b[39m\u001b[38;5;241m.\u001b[39mprogressbar\n\u001b[1;32m    225\u001b[0m     progress\u001b[38;5;241m.\u001b[39mtotal \u001b[38;5;241m=\u001b[39m total\n\u001b[0;32m--> 226\u001b[0m \u001b[38;5;28;01mfor\u001b[39;00m chunk \u001b[38;5;129;01min\u001b[39;00m content:\n\u001b[1;32m    227\u001b[0m     \u001b[38;5;28;01mif\u001b[39;00m chunk:\n\u001b[1;32m    228\u001b[0m         output_file\u001b[38;5;241m.\u001b[39mwrite(chunk)\n",
      "File \u001b[0;32m~/.conda/envs/sktime_latest/lib/python3.11/site-packages/requests/models.py:816\u001b[0m, in \u001b[0;36mResponse.iter_content.<locals>.generate\u001b[0;34m()\u001b[0m\n\u001b[1;32m    814\u001b[0m \u001b[38;5;28;01mif\u001b[39;00m \u001b[38;5;28mhasattr\u001b[39m(\u001b[38;5;28mself\u001b[39m\u001b[38;5;241m.\u001b[39mraw, \u001b[38;5;124m\"\u001b[39m\u001b[38;5;124mstream\u001b[39m\u001b[38;5;124m\"\u001b[39m):\n\u001b[1;32m    815\u001b[0m     \u001b[38;5;28;01mtry\u001b[39;00m:\n\u001b[0;32m--> 816\u001b[0m         \u001b[38;5;28;01myield from\u001b[39;00m \u001b[38;5;28mself\u001b[39m\u001b[38;5;241m.\u001b[39mraw\u001b[38;5;241m.\u001b[39mstream(chunk_size, decode_content\u001b[38;5;241m=\u001b[39m\u001b[38;5;28;01mTrue\u001b[39;00m)\n\u001b[1;32m    817\u001b[0m     \u001b[38;5;28;01mexcept\u001b[39;00m ProtocolError \u001b[38;5;28;01mas\u001b[39;00m e:\n\u001b[1;32m    818\u001b[0m         \u001b[38;5;28;01mraise\u001b[39;00m ChunkedEncodingError(e)\n",
      "File \u001b[0;32m~/.conda/envs/sktime_latest/lib/python3.11/site-packages/urllib3/response.py:628\u001b[0m, in \u001b[0;36mHTTPResponse.stream\u001b[0;34m(self, amt, decode_content)\u001b[0m\n\u001b[1;32m    626\u001b[0m \u001b[38;5;28;01melse\u001b[39;00m:\n\u001b[1;32m    627\u001b[0m     \u001b[38;5;28;01mwhile\u001b[39;00m \u001b[38;5;129;01mnot\u001b[39;00m is_fp_closed(\u001b[38;5;28mself\u001b[39m\u001b[38;5;241m.\u001b[39m_fp):\n\u001b[0;32m--> 628\u001b[0m         data \u001b[38;5;241m=\u001b[39m \u001b[38;5;28;43mself\u001b[39;49m\u001b[38;5;241;43m.\u001b[39;49m\u001b[43mread\u001b[49m\u001b[43m(\u001b[49m\u001b[43mamt\u001b[49m\u001b[38;5;241;43m=\u001b[39;49m\u001b[43mamt\u001b[49m\u001b[43m,\u001b[49m\u001b[43m \u001b[49m\u001b[43mdecode_content\u001b[49m\u001b[38;5;241;43m=\u001b[39;49m\u001b[43mdecode_content\u001b[49m\u001b[43m)\u001b[49m\n\u001b[1;32m    630\u001b[0m         \u001b[38;5;28;01mif\u001b[39;00m data:\n\u001b[1;32m    631\u001b[0m             \u001b[38;5;28;01myield\u001b[39;00m data\n",
      "File \u001b[0;32m~/.conda/envs/sktime_latest/lib/python3.11/site-packages/urllib3/response.py:567\u001b[0m, in \u001b[0;36mHTTPResponse.read\u001b[0;34m(self, amt, decode_content, cache_content)\u001b[0m\n\u001b[1;32m    564\u001b[0m fp_closed \u001b[38;5;241m=\u001b[39m \u001b[38;5;28mgetattr\u001b[39m(\u001b[38;5;28mself\u001b[39m\u001b[38;5;241m.\u001b[39m_fp, \u001b[38;5;124m\"\u001b[39m\u001b[38;5;124mclosed\u001b[39m\u001b[38;5;124m\"\u001b[39m, \u001b[38;5;28;01mFalse\u001b[39;00m)\n\u001b[1;32m    566\u001b[0m \u001b[38;5;28;01mwith\u001b[39;00m \u001b[38;5;28mself\u001b[39m\u001b[38;5;241m.\u001b[39m_error_catcher():\n\u001b[0;32m--> 567\u001b[0m     data \u001b[38;5;241m=\u001b[39m \u001b[38;5;28;43mself\u001b[39;49m\u001b[38;5;241;43m.\u001b[39;49m\u001b[43m_fp_read\u001b[49m\u001b[43m(\u001b[49m\u001b[43mamt\u001b[49m\u001b[43m)\u001b[49m \u001b[38;5;28;01mif\u001b[39;00m \u001b[38;5;129;01mnot\u001b[39;00m fp_closed \u001b[38;5;28;01melse\u001b[39;00m \u001b[38;5;124mb\u001b[39m\u001b[38;5;124m\"\u001b[39m\u001b[38;5;124m\"\u001b[39m\n\u001b[1;32m    568\u001b[0m     \u001b[38;5;28;01mif\u001b[39;00m amt \u001b[38;5;129;01mis\u001b[39;00m \u001b[38;5;28;01mNone\u001b[39;00m:\n\u001b[1;32m    569\u001b[0m         flush_decoder \u001b[38;5;241m=\u001b[39m \u001b[38;5;28;01mTrue\u001b[39;00m\n",
      "File \u001b[0;32m~/.conda/envs/sktime_latest/lib/python3.11/site-packages/urllib3/response.py:533\u001b[0m, in \u001b[0;36mHTTPResponse._fp_read\u001b[0;34m(self, amt)\u001b[0m\n\u001b[1;32m    530\u001b[0m     \u001b[38;5;28;01mreturn\u001b[39;00m buffer\u001b[38;5;241m.\u001b[39mgetvalue()\n\u001b[1;32m    531\u001b[0m \u001b[38;5;28;01melse\u001b[39;00m:\n\u001b[1;32m    532\u001b[0m     \u001b[38;5;66;03m# StringIO doesn't like amt=None\u001b[39;00m\n\u001b[0;32m--> 533\u001b[0m     \u001b[38;5;28;01mreturn\u001b[39;00m \u001b[38;5;28;43mself\u001b[39;49m\u001b[38;5;241;43m.\u001b[39;49m\u001b[43m_fp\u001b[49m\u001b[38;5;241;43m.\u001b[39;49m\u001b[43mread\u001b[49m\u001b[43m(\u001b[49m\u001b[43mamt\u001b[49m\u001b[43m)\u001b[49m \u001b[38;5;28;01mif\u001b[39;00m amt \u001b[38;5;129;01mis\u001b[39;00m \u001b[38;5;129;01mnot\u001b[39;00m \u001b[38;5;28;01mNone\u001b[39;00m \u001b[38;5;28;01melse\u001b[39;00m \u001b[38;5;28mself\u001b[39m\u001b[38;5;241m.\u001b[39m_fp\u001b[38;5;241m.\u001b[39mread()\n",
      "File \u001b[0;32m~/.conda/envs/sktime_latest/lib/python3.11/http/client.py:466\u001b[0m, in \u001b[0;36mHTTPResponse.read\u001b[0;34m(self, amt)\u001b[0m\n\u001b[1;32m    463\u001b[0m \u001b[38;5;28;01mif\u001b[39;00m \u001b[38;5;28mself\u001b[39m\u001b[38;5;241m.\u001b[39mlength \u001b[38;5;129;01mis\u001b[39;00m \u001b[38;5;129;01mnot\u001b[39;00m \u001b[38;5;28;01mNone\u001b[39;00m \u001b[38;5;129;01mand\u001b[39;00m amt \u001b[38;5;241m>\u001b[39m \u001b[38;5;28mself\u001b[39m\u001b[38;5;241m.\u001b[39mlength:\n\u001b[1;32m    464\u001b[0m     \u001b[38;5;66;03m# clip the read to the \"end of response\"\u001b[39;00m\n\u001b[1;32m    465\u001b[0m     amt \u001b[38;5;241m=\u001b[39m \u001b[38;5;28mself\u001b[39m\u001b[38;5;241m.\u001b[39mlength\n\u001b[0;32m--> 466\u001b[0m s \u001b[38;5;241m=\u001b[39m \u001b[38;5;28mself\u001b[39m\u001b[38;5;241m.\u001b[39mfp\u001b[38;5;241m.\u001b[39mread(amt)\n\u001b[1;32m    467\u001b[0m \u001b[38;5;28;01mif\u001b[39;00m \u001b[38;5;129;01mnot\u001b[39;00m s \u001b[38;5;129;01mand\u001b[39;00m amt:\n\u001b[1;32m    468\u001b[0m     \u001b[38;5;66;03m# Ideally, we would raise IncompleteRead if the content-length\u001b[39;00m\n\u001b[1;32m    469\u001b[0m     \u001b[38;5;66;03m# wasn't satisfied, but it might break compatibility.\u001b[39;00m\n\u001b[1;32m    470\u001b[0m     \u001b[38;5;28mself\u001b[39m\u001b[38;5;241m.\u001b[39m_close_conn()\n",
      "File \u001b[0;32m~/.conda/envs/sktime_latest/lib/python3.11/socket.py:706\u001b[0m, in \u001b[0;36mSocketIO.readinto\u001b[0;34m(self, b)\u001b[0m\n\u001b[1;32m    704\u001b[0m \u001b[38;5;28;01mwhile\u001b[39;00m \u001b[38;5;28;01mTrue\u001b[39;00m:\n\u001b[1;32m    705\u001b[0m     \u001b[38;5;28;01mtry\u001b[39;00m:\n\u001b[0;32m--> 706\u001b[0m         \u001b[38;5;28;01mreturn\u001b[39;00m \u001b[38;5;28;43mself\u001b[39;49m\u001b[38;5;241;43m.\u001b[39;49m\u001b[43m_sock\u001b[49m\u001b[38;5;241;43m.\u001b[39;49m\u001b[43mrecv_into\u001b[49m\u001b[43m(\u001b[49m\u001b[43mb\u001b[49m\u001b[43m)\u001b[49m\n\u001b[1;32m    707\u001b[0m     \u001b[38;5;28;01mexcept\u001b[39;00m timeout:\n\u001b[1;32m    708\u001b[0m         \u001b[38;5;28mself\u001b[39m\u001b[38;5;241m.\u001b[39m_timeout_occurred \u001b[38;5;241m=\u001b[39m \u001b[38;5;28;01mTrue\u001b[39;00m\n",
      "File \u001b[0;32m~/.conda/envs/sktime_latest/lib/python3.11/ssl.py:1278\u001b[0m, in \u001b[0;36mSSLSocket.recv_into\u001b[0;34m(self, buffer, nbytes, flags)\u001b[0m\n\u001b[1;32m   1274\u001b[0m     \u001b[38;5;28;01mif\u001b[39;00m flags \u001b[38;5;241m!=\u001b[39m \u001b[38;5;241m0\u001b[39m:\n\u001b[1;32m   1275\u001b[0m         \u001b[38;5;28;01mraise\u001b[39;00m \u001b[38;5;167;01mValueError\u001b[39;00m(\n\u001b[1;32m   1276\u001b[0m           \u001b[38;5;124m\"\u001b[39m\u001b[38;5;124mnon-zero flags not allowed in calls to recv_into() on \u001b[39m\u001b[38;5;132;01m%s\u001b[39;00m\u001b[38;5;124m\"\u001b[39m \u001b[38;5;241m%\u001b[39m\n\u001b[1;32m   1277\u001b[0m           \u001b[38;5;28mself\u001b[39m\u001b[38;5;241m.\u001b[39m\u001b[38;5;18m__class__\u001b[39m)\n\u001b[0;32m-> 1278\u001b[0m     \u001b[38;5;28;01mreturn\u001b[39;00m \u001b[38;5;28;43mself\u001b[39;49m\u001b[38;5;241;43m.\u001b[39;49m\u001b[43mread\u001b[49m\u001b[43m(\u001b[49m\u001b[43mnbytes\u001b[49m\u001b[43m,\u001b[49m\u001b[43m \u001b[49m\u001b[43mbuffer\u001b[49m\u001b[43m)\u001b[49m\n\u001b[1;32m   1279\u001b[0m \u001b[38;5;28;01melse\u001b[39;00m:\n\u001b[1;32m   1280\u001b[0m     \u001b[38;5;28;01mreturn\u001b[39;00m \u001b[38;5;28msuper\u001b[39m()\u001b[38;5;241m.\u001b[39mrecv_into(buffer, nbytes, flags)\n",
      "File \u001b[0;32m~/.conda/envs/sktime_latest/lib/python3.11/ssl.py:1134\u001b[0m, in \u001b[0;36mSSLSocket.read\u001b[0;34m(self, len, buffer)\u001b[0m\n\u001b[1;32m   1132\u001b[0m \u001b[38;5;28;01mtry\u001b[39;00m:\n\u001b[1;32m   1133\u001b[0m     \u001b[38;5;28;01mif\u001b[39;00m buffer \u001b[38;5;129;01mis\u001b[39;00m \u001b[38;5;129;01mnot\u001b[39;00m \u001b[38;5;28;01mNone\u001b[39;00m:\n\u001b[0;32m-> 1134\u001b[0m         \u001b[38;5;28;01mreturn\u001b[39;00m \u001b[38;5;28;43mself\u001b[39;49m\u001b[38;5;241;43m.\u001b[39;49m\u001b[43m_sslobj\u001b[49m\u001b[38;5;241;43m.\u001b[39;49m\u001b[43mread\u001b[49m\u001b[43m(\u001b[49m\u001b[38;5;28;43mlen\u001b[39;49m\u001b[43m,\u001b[49m\u001b[43m \u001b[49m\u001b[43mbuffer\u001b[49m\u001b[43m)\u001b[49m\n\u001b[1;32m   1135\u001b[0m     \u001b[38;5;28;01melse\u001b[39;00m:\n\u001b[1;32m   1136\u001b[0m         \u001b[38;5;28;01mreturn\u001b[39;00m \u001b[38;5;28mself\u001b[39m\u001b[38;5;241m.\u001b[39m_sslobj\u001b[38;5;241m.\u001b[39mread(\u001b[38;5;28mlen\u001b[39m)\n",
      "\u001b[0;31mKeyboardInterrupt\u001b[0m: "
     ]
    },
    {
     "name": "stderr",
     "output_type": "stream",
     "text": [
      " 65%|███████████████████████▉             | 28.6M/44.2M [00:29<00:08, 1.87MB/s]"
     ]
    }
   ],
   "source": [
    "sessions = dataset.get_data(subjects=[1,2])"
   ]
  },
  {
   "cell_type": "code",
   "execution_count": 35,
   "id": "df918791-07b2-4e90-a311-7e6513380a80",
   "metadata": {},
   "outputs": [
    {
     "data": {
      "text/plain": [
       "dict_keys([1])"
      ]
     },
     "execution_count": 35,
     "metadata": {},
     "output_type": "execute_result"
    }
   ],
   "source": [
    "sessions.keys()"
   ]
  },
  {
   "cell_type": "code",
   "execution_count": 38,
   "id": "6c05c026-bdfd-4732-995d-1c6933f8152b",
   "metadata": {},
   "outputs": [
    {
     "data": {
      "text/plain": [
       "dict_keys(['0train', '1test'])"
      ]
     },
     "execution_count": 38,
     "metadata": {},
     "output_type": "execute_result"
    }
   ],
   "source": [
    "sessions[1].keys()"
   ]
  },
  {
   "cell_type": "code",
   "execution_count": 84,
   "id": "07f52b1d-ea25-4fb0-bf0d-82d684b6db82",
   "metadata": {},
   "outputs": [],
   "source": [
    "ch_names = sessions[1]['0train']['0'].info['ch_names'][:22]"
   ]
  },
  {
   "cell_type": "code",
   "execution_count": 46,
   "id": "8b238974-3bc1-4b9f-99c9-9550f368710b",
   "metadata": {},
   "outputs": [],
   "source": [
    "from moabb.paradigms import LeftRightImagery\n",
    "paradigm = LeftRightImagery()"
   ]
  },
  {
   "cell_type": "code",
   "execution_count": 104,
   "id": "93dbd4b2-eb02-4816-9c6f-b29b6df17610",
   "metadata": {},
   "outputs": [
    {
     "data": {
      "text/plain": [
       "array(['right_hand', 'left_hand', 'left_hand', 'right_hand', 'right_hand',\n",
       "       'left_hand', 'left_hand', 'left_hand', 'right_hand', 'right_hand',\n",
       "       'left_hand', 'left_hand', 'left_hand', 'right_hand', 'left_hand',\n",
       "       'right_hand', 'right_hand', 'left_hand', 'right_hand', 'left_hand',\n",
       "       'right_hand', 'right_hand', 'right_hand', 'left_hand', 'left_hand',\n",
       "       'left_hand', 'right_hand', 'left_hand', 'left_hand', 'right_hand',\n",
       "       'left_hand', 'left_hand', 'right_hand', 'left_hand', 'right_hand',\n",
       "       'right_hand', 'left_hand', 'right_hand', 'left_hand', 'left_hand',\n",
       "       'right_hand', 'left_hand', 'right_hand', 'right_hand',\n",
       "       'right_hand', 'right_hand', 'right_hand', 'left_hand',\n",
       "       'right_hand', 'left_hand', 'left_hand', 'left_hand', 'right_hand',\n",
       "       'right_hand', 'left_hand', 'right_hand', 'left_hand', 'right_hand',\n",
       "       'left_hand', 'right_hand', 'right_hand', 'right_hand', 'left_hand',\n",
       "       'left_hand', 'right_hand', 'left_hand', 'right_hand', 'right_hand',\n",
       "       'left_hand', 'left_hand', 'right_hand', 'left_hand', 'right_hand',\n",
       "       'left_hand', 'left_hand', 'right_hand', 'left_hand', 'left_hand',\n",
       "       'left_hand', 'right_hand', 'right_hand', 'right_hand',\n",
       "       'right_hand', 'left_hand', 'right_hand', 'right_hand',\n",
       "       'right_hand', 'left_hand', 'left_hand', 'left_hand', 'left_hand',\n",
       "       'left_hand', 'right_hand', 'left_hand', 'right_hand', 'right_hand',\n",
       "       'left_hand', 'right_hand', 'left_hand', 'left_hand', 'right_hand',\n",
       "       'right_hand', 'right_hand', 'left_hand', 'right_hand',\n",
       "       'right_hand', 'right_hand', 'right_hand', 'right_hand',\n",
       "       'left_hand', 'right_hand', 'right_hand', 'left_hand', 'left_hand',\n",
       "       'left_hand', 'left_hand', 'left_hand', 'left_hand', 'right_hand',\n",
       "       'left_hand', 'left_hand', 'right_hand', 'right_hand', 'left_hand',\n",
       "       'right_hand', 'right_hand', 'right_hand', 'right_hand',\n",
       "       'right_hand', 'left_hand', 'left_hand', 'left_hand', 'left_hand',\n",
       "       'right_hand', 'right_hand', 'left_hand', 'left_hand', 'left_hand',\n",
       "       'right_hand', 'right_hand', 'left_hand', 'left_hand', 'right_hand',\n",
       "       'left_hand', 'left_hand', 'right_hand', 'right_hand', 'left_hand',\n",
       "       'right_hand', 'left_hand', 'right_hand', 'right_hand', 'left_hand',\n",
       "       'right_hand', 'left_hand', 'left_hand', 'right_hand', 'left_hand',\n",
       "       'left_hand', 'left_hand', 'left_hand', 'right_hand', 'left_hand',\n",
       "       'right_hand', 'right_hand', 'left_hand', 'right_hand',\n",
       "       'right_hand', 'right_hand', 'left_hand', 'left_hand', 'right_hand',\n",
       "       'right_hand', 'left_hand', 'left_hand', 'left_hand', 'right_hand',\n",
       "       'right_hand', 'left_hand', 'left_hand', 'left_hand', 'right_hand',\n",
       "       'left_hand', 'right_hand', 'right_hand', 'left_hand', 'right_hand',\n",
       "       'left_hand', 'right_hand', 'right_hand', 'right_hand', 'left_hand',\n",
       "       'left_hand', 'left_hand', 'right_hand', 'left_hand', 'left_hand',\n",
       "       'right_hand', 'left_hand', 'left_hand', 'right_hand', 'left_hand',\n",
       "       'right_hand', 'right_hand', 'left_hand', 'right_hand', 'left_hand',\n",
       "       'left_hand', 'right_hand', 'left_hand', 'right_hand', 'right_hand',\n",
       "       'right_hand', 'right_hand', 'right_hand', 'left_hand',\n",
       "       'right_hand', 'left_hand', 'left_hand', 'left_hand', 'right_hand',\n",
       "       'right_hand', 'left_hand', 'right_hand', 'left_hand', 'right_hand',\n",
       "       'left_hand', 'right_hand', 'right_hand', 'right_hand', 'left_hand',\n",
       "       'left_hand', 'right_hand', 'left_hand', 'right_hand', 'right_hand',\n",
       "       'left_hand', 'left_hand', 'right_hand', 'left_hand', 'right_hand',\n",
       "       'left_hand', 'left_hand', 'right_hand', 'left_hand', 'left_hand',\n",
       "       'left_hand', 'right_hand', 'right_hand', 'right_hand',\n",
       "       'right_hand', 'left_hand', 'right_hand', 'right_hand',\n",
       "       'right_hand', 'left_hand', 'left_hand', 'left_hand', 'left_hand',\n",
       "       'left_hand', 'right_hand', 'left_hand', 'right_hand', 'right_hand',\n",
       "       'left_hand', 'right_hand', 'left_hand', 'left_hand', 'right_hand',\n",
       "       'right_hand', 'right_hand', 'left_hand', 'right_hand',\n",
       "       'right_hand', 'right_hand', 'right_hand', 'right_hand',\n",
       "       'left_hand', 'right_hand', 'right_hand', 'left_hand', 'left_hand',\n",
       "       'left_hand', 'left_hand', 'left_hand', 'left_hand', 'right_hand',\n",
       "       'left_hand', 'left_hand', 'right_hand', 'right_hand', 'left_hand',\n",
       "       'right_hand', 'left_hand', 'right_hand', 'right_hand', 'left_hand',\n",
       "       'right_hand', 'left_hand', 'left_hand', 'right_hand', 'left_hand',\n",
       "       'left_hand', 'left_hand', 'left_hand', 'right_hand', 'left_hand',\n",
       "       'right_hand', 'right_hand', 'left_hand', 'right_hand',\n",
       "       'right_hand', 'right_hand', 'left_hand', 'left_hand', 'right_hand',\n",
       "       'right_hand', 'left_hand', 'left_hand', 'left_hand', 'right_hand',\n",
       "       'right_hand', 'left_hand', 'left_hand', 'left_hand', 'right_hand',\n",
       "       'left_hand', 'right_hand', 'right_hand', 'left_hand', 'right_hand',\n",
       "       'left_hand', 'right_hand', 'right_hand', 'right_hand', 'left_hand',\n",
       "       'left_hand', 'left_hand', 'right_hand', 'left_hand', 'left_hand',\n",
       "       'right_hand', 'left_hand', 'left_hand', 'right_hand', 'left_hand',\n",
       "       'right_hand', 'right_hand', 'left_hand', 'right_hand', 'left_hand',\n",
       "       'left_hand', 'right_hand', 'left_hand', 'right_hand', 'right_hand',\n",
       "       'right_hand', 'right_hand', 'right_hand', 'left_hand',\n",
       "       'right_hand', 'left_hand', 'left_hand', 'left_hand', 'right_hand',\n",
       "       'right_hand', 'left_hand', 'right_hand', 'left_hand', 'right_hand',\n",
       "       'left_hand', 'right_hand', 'right_hand', 'right_hand', 'left_hand',\n",
       "       'left_hand', 'right_hand', 'left_hand', 'right_hand', 'right_hand',\n",
       "       'left_hand', 'left_hand', 'right_hand', 'left_hand', 'right_hand',\n",
       "       'left_hand', 'left_hand', 'right_hand', 'left_hand', 'left_hand',\n",
       "       'left_hand', 'right_hand', 'right_hand', 'right_hand',\n",
       "       'right_hand', 'left_hand', 'right_hand', 'right_hand',\n",
       "       'right_hand', 'left_hand', 'left_hand', 'left_hand', 'left_hand',\n",
       "       'left_hand', 'right_hand', 'left_hand', 'right_hand', 'right_hand',\n",
       "       'left_hand', 'right_hand', 'left_hand', 'left_hand', 'right_hand',\n",
       "       'right_hand', 'right_hand', 'left_hand', 'right_hand',\n",
       "       'right_hand', 'right_hand', 'right_hand', 'right_hand',\n",
       "       'left_hand', 'right_hand', 'right_hand', 'left_hand', 'left_hand',\n",
       "       'left_hand', 'left_hand', 'left_hand', 'left_hand', 'right_hand',\n",
       "       'left_hand', 'left_hand', 'right_hand', 'right_hand', 'left_hand',\n",
       "       'right_hand', 'left_hand', 'right_hand', 'right_hand', 'left_hand',\n",
       "       'right_hand', 'left_hand', 'left_hand', 'right_hand', 'left_hand',\n",
       "       'left_hand', 'left_hand', 'left_hand', 'right_hand', 'left_hand',\n",
       "       'right_hand', 'right_hand', 'left_hand', 'right_hand',\n",
       "       'right_hand', 'right_hand', 'left_hand', 'left_hand', 'right_hand',\n",
       "       'right_hand', 'left_hand', 'left_hand', 'left_hand', 'right_hand',\n",
       "       'right_hand', 'left_hand', 'left_hand', 'left_hand', 'right_hand',\n",
       "       'left_hand', 'right_hand', 'right_hand', 'left_hand', 'right_hand',\n",
       "       'left_hand', 'right_hand', 'right_hand', 'right_hand', 'left_hand',\n",
       "       'left_hand', 'left_hand', 'right_hand', 'left_hand', 'left_hand',\n",
       "       'right_hand', 'left_hand', 'left_hand', 'right_hand', 'left_hand',\n",
       "       'right_hand', 'right_hand', 'left_hand', 'right_hand', 'left_hand',\n",
       "       'left_hand', 'right_hand', 'left_hand', 'right_hand', 'right_hand',\n",
       "       'right_hand', 'right_hand', 'right_hand', 'left_hand',\n",
       "       'right_hand', 'left_hand', 'left_hand', 'left_hand', 'right_hand',\n",
       "       'right_hand', 'left_hand', 'right_hand', 'left_hand', 'right_hand',\n",
       "       'left_hand', 'right_hand', 'right_hand', 'right_hand', 'left_hand',\n",
       "       'left_hand', 'right_hand', 'left_hand', 'right_hand', 'right_hand',\n",
       "       'left_hand', 'left_hand', 'right_hand', 'left_hand', 'right_hand',\n",
       "       'left_hand', 'left_hand', 'right_hand', 'left_hand', 'left_hand',\n",
       "       'left_hand', 'right_hand', 'right_hand', 'right_hand',\n",
       "       'right_hand', 'left_hand', 'right_hand', 'right_hand',\n",
       "       'right_hand', 'left_hand', 'left_hand', 'left_hand', 'left_hand',\n",
       "       'left_hand', 'right_hand', 'left_hand', 'right_hand', 'right_hand',\n",
       "       'left_hand', 'right_hand', 'left_hand', 'left_hand', 'right_hand',\n",
       "       'right_hand', 'right_hand', 'left_hand', 'right_hand',\n",
       "       'right_hand', 'right_hand', 'right_hand', 'right_hand',\n",
       "       'left_hand', 'right_hand', 'right_hand', 'left_hand', 'left_hand',\n",
       "       'left_hand', 'left_hand', 'left_hand', 'left_hand', 'right_hand',\n",
       "       'left_hand'], dtype='<U10')"
      ]
     },
     "execution_count": 104,
     "metadata": {},
     "output_type": "execute_result"
    }
   ],
   "source": [
    "labels"
   ]
  },
  {
   "cell_type": "code",
   "execution_count": 100,
   "id": "910b6471-e037-4f42-a180-001c598c8bbc",
   "metadata": {},
   "outputs": [
    {
     "name": "stderr",
     "output_type": "stream",
     "text": [
      "/user/home/ko20929/.conda/envs/sktime_latest/lib/python3.11/site-packages/moabb/datasets/preprocessing.py:279: UserWarning: warnEpochs <Epochs |  24 events (all good), 2 – 6 s, baseline off, ~4.1 MB, data loaded,\n",
      " 'left_hand': 12\n",
      " 'right_hand': 12>\n",
      "  warn(f\"warnEpochs {epochs}\")\n",
      "/user/home/ko20929/.conda/envs/sktime_latest/lib/python3.11/site-packages/moabb/datasets/preprocessing.py:279: UserWarning: warnEpochs <Epochs |  24 events (all good), 2 – 6 s, baseline off, ~4.1 MB, data loaded,\n",
      " 'left_hand': 12\n",
      " 'right_hand': 12>\n",
      "  warn(f\"warnEpochs {epochs}\")\n",
      "/user/home/ko20929/.conda/envs/sktime_latest/lib/python3.11/site-packages/moabb/datasets/preprocessing.py:279: UserWarning: warnEpochs <Epochs |  24 events (all good), 2 – 6 s, baseline off, ~4.1 MB, data loaded,\n",
      " 'left_hand': 12\n",
      " 'right_hand': 12>\n",
      "  warn(f\"warnEpochs {epochs}\")\n",
      "/user/home/ko20929/.conda/envs/sktime_latest/lib/python3.11/site-packages/moabb/datasets/preprocessing.py:279: UserWarning: warnEpochs <Epochs |  24 events (all good), 2 – 6 s, baseline off, ~4.1 MB, data loaded,\n",
      " 'left_hand': 12\n",
      " 'right_hand': 12>\n",
      "  warn(f\"warnEpochs {epochs}\")\n",
      "/user/home/ko20929/.conda/envs/sktime_latest/lib/python3.11/site-packages/moabb/datasets/preprocessing.py:279: UserWarning: warnEpochs <Epochs |  24 events (all good), 2 – 6 s, baseline off, ~4.1 MB, data loaded,\n",
      " 'left_hand': 12\n",
      " 'right_hand': 12>\n",
      "  warn(f\"warnEpochs {epochs}\")\n",
      "/user/home/ko20929/.conda/envs/sktime_latest/lib/python3.11/site-packages/moabb/datasets/preprocessing.py:279: UserWarning: warnEpochs <Epochs |  24 events (all good), 2 – 6 s, baseline off, ~4.1 MB, data loaded,\n",
      " 'left_hand': 12\n",
      " 'right_hand': 12>\n",
      "  warn(f\"warnEpochs {epochs}\")\n",
      "/user/home/ko20929/.conda/envs/sktime_latest/lib/python3.11/site-packages/moabb/datasets/preprocessing.py:279: UserWarning: warnEpochs <Epochs |  24 events (all good), 2 – 6 s, baseline off, ~4.1 MB, data loaded,\n",
      " 'left_hand': 12\n",
      " 'right_hand': 12>\n",
      "  warn(f\"warnEpochs {epochs}\")\n",
      "/user/home/ko20929/.conda/envs/sktime_latest/lib/python3.11/site-packages/moabb/datasets/preprocessing.py:279: UserWarning: warnEpochs <Epochs |  24 events (all good), 2 – 6 s, baseline off, ~4.1 MB, data loaded,\n",
      " 'left_hand': 12\n",
      " 'right_hand': 12>\n",
      "  warn(f\"warnEpochs {epochs}\")\n",
      "/user/home/ko20929/.conda/envs/sktime_latest/lib/python3.11/site-packages/moabb/datasets/preprocessing.py:279: UserWarning: warnEpochs <Epochs |  24 events (all good), 2 – 6 s, baseline off, ~4.1 MB, data loaded,\n",
      " 'left_hand': 12\n",
      " 'right_hand': 12>\n",
      "  warn(f\"warnEpochs {epochs}\")\n",
      "/user/home/ko20929/.conda/envs/sktime_latest/lib/python3.11/site-packages/moabb/datasets/preprocessing.py:279: UserWarning: warnEpochs <Epochs |  24 events (all good), 2 – 6 s, baseline off, ~4.1 MB, data loaded,\n",
      " 'left_hand': 12\n",
      " 'right_hand': 12>\n",
      "  warn(f\"warnEpochs {epochs}\")\n",
      "/user/home/ko20929/.conda/envs/sktime_latest/lib/python3.11/site-packages/moabb/datasets/preprocessing.py:279: UserWarning: warnEpochs <Epochs |  24 events (all good), 2 – 6 s, baseline off, ~4.1 MB, data loaded,\n",
      " 'left_hand': 12\n",
      " 'right_hand': 12>\n",
      "  warn(f\"warnEpochs {epochs}\")\n",
      "/user/home/ko20929/.conda/envs/sktime_latest/lib/python3.11/site-packages/moabb/datasets/preprocessing.py:279: UserWarning: warnEpochs <Epochs |  24 events (all good), 2 – 6 s, baseline off, ~4.1 MB, data loaded,\n",
      " 'left_hand': 12\n",
      " 'right_hand': 12>\n",
      "  warn(f\"warnEpochs {epochs}\")\n",
      "/user/home/ko20929/.conda/envs/sktime_latest/lib/python3.11/site-packages/sklearn/preprocessing/_function_transformer.py:379: FutureWarning: The current default of copy=False will change to copy=True in 1.7. Set the value of copy explicitly to avoid this warning\n",
      "  return func(X, **(kw_args if kw_args else {}))\n",
      "/user/home/ko20929/.conda/envs/sktime_latest/lib/python3.11/site-packages/sklearn/preprocessing/_function_transformer.py:379: FutureWarning: The current default of copy=False will change to copy=True in 1.7. Set the value of copy explicitly to avoid this warning\n",
      "  return func(X, **(kw_args if kw_args else {}))\n",
      "/user/home/ko20929/.conda/envs/sktime_latest/lib/python3.11/site-packages/sklearn/preprocessing/_function_transformer.py:379: FutureWarning: The current default of copy=False will change to copy=True in 1.7. Set the value of copy explicitly to avoid this warning\n",
      "  return func(X, **(kw_args if kw_args else {}))\n",
      "/user/home/ko20929/.conda/envs/sktime_latest/lib/python3.11/site-packages/sklearn/preprocessing/_function_transformer.py:379: FutureWarning: The current default of copy=False will change to copy=True in 1.7. Set the value of copy explicitly to avoid this warning\n",
      "  return func(X, **(kw_args if kw_args else {}))\n",
      "/user/home/ko20929/.conda/envs/sktime_latest/lib/python3.11/site-packages/sklearn/preprocessing/_function_transformer.py:379: FutureWarning: The current default of copy=False will change to copy=True in 1.7. Set the value of copy explicitly to avoid this warning\n",
      "  return func(X, **(kw_args if kw_args else {}))\n",
      "/user/home/ko20929/.conda/envs/sktime_latest/lib/python3.11/site-packages/sklearn/preprocessing/_function_transformer.py:379: FutureWarning: The current default of copy=False will change to copy=True in 1.7. Set the value of copy explicitly to avoid this warning\n",
      "  return func(X, **(kw_args if kw_args else {}))\n",
      "/user/home/ko20929/.conda/envs/sktime_latest/lib/python3.11/site-packages/sklearn/preprocessing/_function_transformer.py:379: FutureWarning: The current default of copy=False will change to copy=True in 1.7. Set the value of copy explicitly to avoid this warning\n",
      "  return func(X, **(kw_args if kw_args else {}))\n",
      "/user/home/ko20929/.conda/envs/sktime_latest/lib/python3.11/site-packages/sklearn/preprocessing/_function_transformer.py:379: FutureWarning: The current default of copy=False will change to copy=True in 1.7. Set the value of copy explicitly to avoid this warning\n",
      "  return func(X, **(kw_args if kw_args else {}))\n",
      "/user/home/ko20929/.conda/envs/sktime_latest/lib/python3.11/site-packages/sklearn/preprocessing/_function_transformer.py:379: FutureWarning: The current default of copy=False will change to copy=True in 1.7. Set the value of copy explicitly to avoid this warning\n",
      "  return func(X, **(kw_args if kw_args else {}))\n",
      "/user/home/ko20929/.conda/envs/sktime_latest/lib/python3.11/site-packages/sklearn/preprocessing/_function_transformer.py:379: FutureWarning: The current default of copy=False will change to copy=True in 1.7. Set the value of copy explicitly to avoid this warning\n",
      "  return func(X, **(kw_args if kw_args else {}))\n",
      "/user/home/ko20929/.conda/envs/sktime_latest/lib/python3.11/site-packages/sklearn/preprocessing/_function_transformer.py:379: FutureWarning: The current default of copy=False will change to copy=True in 1.7. Set the value of copy explicitly to avoid this warning\n",
      "  return func(X, **(kw_args if kw_args else {}))\n",
      "/user/home/ko20929/.conda/envs/sktime_latest/lib/python3.11/site-packages/sklearn/preprocessing/_function_transformer.py:379: FutureWarning: The current default of copy=False will change to copy=True in 1.7. Set the value of copy explicitly to avoid this warning\n",
      "  return func(X, **(kw_args if kw_args else {}))\n",
      "/user/home/ko20929/.conda/envs/sktime_latest/lib/python3.11/site-packages/moabb/datasets/preprocessing.py:279: UserWarning: warnEpochs <Epochs |  24 events (all good), 2 – 6 s, baseline off, ~4.1 MB, data loaded,\n",
      " 'left_hand': 12\n",
      " 'right_hand': 12>\n",
      "  warn(f\"warnEpochs {epochs}\")\n",
      "/user/home/ko20929/.conda/envs/sktime_latest/lib/python3.11/site-packages/moabb/datasets/preprocessing.py:279: UserWarning: warnEpochs <Epochs |  24 events (all good), 2 – 6 s, baseline off, ~4.1 MB, data loaded,\n",
      " 'left_hand': 12\n",
      " 'right_hand': 12>\n",
      "  warn(f\"warnEpochs {epochs}\")\n",
      "/user/home/ko20929/.conda/envs/sktime_latest/lib/python3.11/site-packages/moabb/datasets/preprocessing.py:279: UserWarning: warnEpochs <Epochs |  24 events (all good), 2 – 6 s, baseline off, ~4.1 MB, data loaded,\n",
      " 'left_hand': 12\n",
      " 'right_hand': 12>\n",
      "  warn(f\"warnEpochs {epochs}\")\n",
      "/user/home/ko20929/.conda/envs/sktime_latest/lib/python3.11/site-packages/moabb/datasets/preprocessing.py:279: UserWarning: warnEpochs <Epochs |  24 events (all good), 2 – 6 s, baseline off, ~4.1 MB, data loaded,\n",
      " 'left_hand': 12\n",
      " 'right_hand': 12>\n",
      "  warn(f\"warnEpochs {epochs}\")\n",
      "/user/home/ko20929/.conda/envs/sktime_latest/lib/python3.11/site-packages/moabb/datasets/preprocessing.py:279: UserWarning: warnEpochs <Epochs |  24 events (all good), 2 – 6 s, baseline off, ~4.1 MB, data loaded,\n",
      " 'left_hand': 12\n",
      " 'right_hand': 12>\n",
      "  warn(f\"warnEpochs {epochs}\")\n",
      "/user/home/ko20929/.conda/envs/sktime_latest/lib/python3.11/site-packages/moabb/datasets/preprocessing.py:279: UserWarning: warnEpochs <Epochs |  24 events (all good), 2 – 6 s, baseline off, ~4.1 MB, data loaded,\n",
      " 'left_hand': 12\n",
      " 'right_hand': 12>\n",
      "  warn(f\"warnEpochs {epochs}\")\n",
      "/user/home/ko20929/.conda/envs/sktime_latest/lib/python3.11/site-packages/moabb/datasets/preprocessing.py:279: UserWarning: warnEpochs <Epochs |  24 events (all good), 2 – 6 s, baseline off, ~4.1 MB, data loaded,\n",
      " 'left_hand': 12\n",
      " 'right_hand': 12>\n",
      "  warn(f\"warnEpochs {epochs}\")\n",
      "/user/home/ko20929/.conda/envs/sktime_latest/lib/python3.11/site-packages/moabb/datasets/preprocessing.py:279: UserWarning: warnEpochs <Epochs |  24 events (all good), 2 – 6 s, baseline off, ~4.1 MB, data loaded,\n",
      " 'left_hand': 12\n",
      " 'right_hand': 12>\n",
      "  warn(f\"warnEpochs {epochs}\")\n",
      "/user/home/ko20929/.conda/envs/sktime_latest/lib/python3.11/site-packages/moabb/datasets/preprocessing.py:279: UserWarning: warnEpochs <Epochs |  24 events (all good), 2 – 6 s, baseline off, ~4.1 MB, data loaded,\n",
      " 'left_hand': 12\n",
      " 'right_hand': 12>\n",
      "  warn(f\"warnEpochs {epochs}\")\n",
      "/user/home/ko20929/.conda/envs/sktime_latest/lib/python3.11/site-packages/moabb/datasets/preprocessing.py:279: UserWarning: warnEpochs <Epochs |  24 events (all good), 2 – 6 s, baseline off, ~4.1 MB, data loaded,\n",
      " 'left_hand': 12\n",
      " 'right_hand': 12>\n",
      "  warn(f\"warnEpochs {epochs}\")\n",
      "/user/home/ko20929/.conda/envs/sktime_latest/lib/python3.11/site-packages/moabb/datasets/preprocessing.py:279: UserWarning: warnEpochs <Epochs |  24 events (all good), 2 – 6 s, baseline off, ~4.1 MB, data loaded,\n",
      " 'left_hand': 12\n",
      " 'right_hand': 12>\n",
      "  warn(f\"warnEpochs {epochs}\")\n",
      "/user/home/ko20929/.conda/envs/sktime_latest/lib/python3.11/site-packages/moabb/datasets/preprocessing.py:279: UserWarning: warnEpochs <Epochs |  24 events (all good), 2 – 6 s, baseline off, ~4.1 MB, data loaded,\n",
      " 'left_hand': 12\n",
      " 'right_hand': 12>\n",
      "  warn(f\"warnEpochs {epochs}\")\n",
      "/user/home/ko20929/.conda/envs/sktime_latest/lib/python3.11/site-packages/sklearn/preprocessing/_function_transformer.py:379: FutureWarning: The current default of copy=False will change to copy=True in 1.7. Set the value of copy explicitly to avoid this warning\n",
      "  return func(X, **(kw_args if kw_args else {}))\n",
      "/user/home/ko20929/.conda/envs/sktime_latest/lib/python3.11/site-packages/sklearn/preprocessing/_function_transformer.py:379: FutureWarning: The current default of copy=False will change to copy=True in 1.7. Set the value of copy explicitly to avoid this warning\n",
      "  return func(X, **(kw_args if kw_args else {}))\n",
      "/user/home/ko20929/.conda/envs/sktime_latest/lib/python3.11/site-packages/sklearn/preprocessing/_function_transformer.py:379: FutureWarning: The current default of copy=False will change to copy=True in 1.7. Set the value of copy explicitly to avoid this warning\n",
      "  return func(X, **(kw_args if kw_args else {}))\n",
      "/user/home/ko20929/.conda/envs/sktime_latest/lib/python3.11/site-packages/sklearn/preprocessing/_function_transformer.py:379: FutureWarning: The current default of copy=False will change to copy=True in 1.7. Set the value of copy explicitly to avoid this warning\n",
      "  return func(X, **(kw_args if kw_args else {}))\n",
      "/user/home/ko20929/.conda/envs/sktime_latest/lib/python3.11/site-packages/sklearn/preprocessing/_function_transformer.py:379: FutureWarning: The current default of copy=False will change to copy=True in 1.7. Set the value of copy explicitly to avoid this warning\n",
      "  return func(X, **(kw_args if kw_args else {}))\n",
      "/user/home/ko20929/.conda/envs/sktime_latest/lib/python3.11/site-packages/sklearn/preprocessing/_function_transformer.py:379: FutureWarning: The current default of copy=False will change to copy=True in 1.7. Set the value of copy explicitly to avoid this warning\n",
      "  return func(X, **(kw_args if kw_args else {}))\n",
      "/user/home/ko20929/.conda/envs/sktime_latest/lib/python3.11/site-packages/sklearn/preprocessing/_function_transformer.py:379: FutureWarning: The current default of copy=False will change to copy=True in 1.7. Set the value of copy explicitly to avoid this warning\n",
      "  return func(X, **(kw_args if kw_args else {}))\n",
      "/user/home/ko20929/.conda/envs/sktime_latest/lib/python3.11/site-packages/sklearn/preprocessing/_function_transformer.py:379: FutureWarning: The current default of copy=False will change to copy=True in 1.7. Set the value of copy explicitly to avoid this warning\n",
      "  return func(X, **(kw_args if kw_args else {}))\n",
      "/user/home/ko20929/.conda/envs/sktime_latest/lib/python3.11/site-packages/sklearn/preprocessing/_function_transformer.py:379: FutureWarning: The current default of copy=False will change to copy=True in 1.7. Set the value of copy explicitly to avoid this warning\n",
      "  return func(X, **(kw_args if kw_args else {}))\n",
      "/user/home/ko20929/.conda/envs/sktime_latest/lib/python3.11/site-packages/sklearn/preprocessing/_function_transformer.py:379: FutureWarning: The current default of copy=False will change to copy=True in 1.7. Set the value of copy explicitly to avoid this warning\n",
      "  return func(X, **(kw_args if kw_args else {}))\n",
      "/user/home/ko20929/.conda/envs/sktime_latest/lib/python3.11/site-packages/sklearn/preprocessing/_function_transformer.py:379: FutureWarning: The current default of copy=False will change to copy=True in 1.7. Set the value of copy explicitly to avoid this warning\n",
      "  return func(X, **(kw_args if kw_args else {}))\n",
      "/user/home/ko20929/.conda/envs/sktime_latest/lib/python3.11/site-packages/sklearn/preprocessing/_function_transformer.py:379: FutureWarning: The current default of copy=False will change to copy=True in 1.7. Set the value of copy explicitly to avoid this warning\n",
      "  return func(X, **(kw_args if kw_args else {}))\n"
     ]
    }
   ],
   "source": [
    "X, labels, meta = paradigm.get_data(dataset=dataset, subjects=[1,3])"
   ]
  },
  {
   "cell_type": "code",
   "execution_count": 102,
   "id": "7bd70f60-84fe-4626-890b-06d1d23b103a",
   "metadata": {},
   "outputs": [
    {
     "data": {
      "text/plain": [
       "(576, 22, 1001)"
      ]
     },
     "execution_count": 102,
     "metadata": {},
     "output_type": "execute_result"
    }
   ],
   "source": [
    "X.shape"
   ]
  },
  {
   "cell_type": "code",
   "execution_count": 103,
   "id": "8fcc3fd9-bbcd-4ed3-8c65-53e8a930b5a7",
   "metadata": {},
   "outputs": [
    {
     "data": {
      "text/plain": [
       "False"
      ]
     },
     "execution_count": 103,
     "metadata": {},
     "output_type": "execute_result"
    }
   ],
   "source": [
    "np.any(np.isnan(X))"
   ]
  },
  {
   "cell_type": "code",
   "execution_count": 77,
   "id": "45478409-5396-485c-b38c-8ad2005e70a0",
   "metadata": {},
   "outputs": [
    {
     "data": {
      "text/plain": [
       "[<matplotlib.lines.Line2D at 0x7f65d4b98d90>]"
      ]
     },
     "execution_count": 77,
     "metadata": {},
     "output_type": "execute_result"
    },
    {
     "data": {
      "image/png": "[encoded data removed]",
      "text/plain": [
       "<Figure size 640x480 with 1 Axes>"
      ]
     },
     "metadata": {},
     "output_type": "display_data"
    }
   ],
   "source": [
    "plt.plot(range(len(X[0][0])), X[3][6])"
   ]
  },
  {
   "cell_type": "code",
   "execution_count": 56,
   "id": "0b4f2d68-d339-40dc-ba92-ced141fe2edc",
   "metadata": {},
   "outputs": [
    {
     "data": {
      "text/plain": [
       "array(['right_hand', 'left_hand', 'left_hand', 'right_hand', 'right_hand',\n",
       "       'left_hand', 'left_hand', 'left_hand', 'right_hand', 'right_hand',\n",
       "       'left_hand', 'left_hand', 'left_hand', 'right_hand', 'left_hand',\n",
       "       'right_hand', 'right_hand', 'left_hand', 'right_hand', 'left_hand',\n",
       "       'right_hand', 'right_hand', 'right_hand', 'left_hand', 'left_hand',\n",
       "       'left_hand', 'right_hand', 'left_hand', 'left_hand', 'right_hand',\n",
       "       'left_hand', 'left_hand', 'right_hand', 'left_hand', 'right_hand',\n",
       "       'right_hand', 'left_hand', 'right_hand', 'left_hand', 'left_hand',\n",
       "       'right_hand', 'left_hand', 'right_hand', 'right_hand',\n",
       "       'right_hand', 'right_hand', 'right_hand', 'left_hand',\n",
       "       'right_hand', 'left_hand', 'left_hand', 'left_hand', 'right_hand',\n",
       "       'right_hand', 'left_hand', 'right_hand', 'left_hand', 'right_hand',\n",
       "       'left_hand', 'right_hand', 'right_hand', 'right_hand', 'left_hand',\n",
       "       'left_hand', 'right_hand', 'left_hand', 'right_hand', 'right_hand',\n",
       "       'left_hand', 'left_hand', 'right_hand', 'left_hand', 'right_hand',\n",
       "       'left_hand', 'left_hand', 'right_hand', 'left_hand', 'left_hand',\n",
       "       'left_hand', 'right_hand', 'right_hand', 'right_hand',\n",
       "       'right_hand', 'left_hand', 'right_hand', 'right_hand',\n",
       "       'right_hand', 'left_hand', 'left_hand', 'left_hand', 'left_hand',\n",
       "       'left_hand', 'right_hand', 'left_hand', 'right_hand', 'right_hand',\n",
       "       'left_hand', 'right_hand', 'left_hand', 'left_hand', 'right_hand',\n",
       "       'right_hand', 'right_hand', 'left_hand', 'right_hand',\n",
       "       'right_hand', 'right_hand', 'right_hand', 'right_hand',\n",
       "       'left_hand', 'right_hand', 'right_hand', 'left_hand', 'left_hand',\n",
       "       'left_hand', 'left_hand', 'left_hand', 'left_hand', 'right_hand',\n",
       "       'left_hand', 'left_hand', 'right_hand', 'right_hand', 'left_hand',\n",
       "       'right_hand', 'right_hand', 'right_hand', 'right_hand',\n",
       "       'right_hand', 'left_hand', 'left_hand', 'left_hand', 'left_hand',\n",
       "       'right_hand', 'right_hand', 'left_hand', 'left_hand', 'left_hand',\n",
       "       'right_hand', 'right_hand', 'left_hand', 'left_hand', 'right_hand',\n",
       "       'left_hand', 'left_hand', 'right_hand', 'right_hand', 'left_hand',\n",
       "       'right_hand', 'left_hand', 'right_hand', 'right_hand', 'left_hand',\n",
       "       'right_hand', 'left_hand', 'left_hand', 'right_hand', 'left_hand',\n",
       "       'left_hand', 'left_hand', 'left_hand', 'right_hand', 'left_hand',\n",
       "       'right_hand', 'right_hand', 'left_hand', 'right_hand',\n",
       "       'right_hand', 'right_hand', 'left_hand', 'left_hand', 'right_hand',\n",
       "       'right_hand', 'left_hand', 'left_hand', 'left_hand', 'right_hand',\n",
       "       'right_hand', 'left_hand', 'left_hand', 'left_hand', 'right_hand',\n",
       "       'left_hand', 'right_hand', 'right_hand', 'left_hand', 'right_hand',\n",
       "       'left_hand', 'right_hand', 'right_hand', 'right_hand', 'left_hand',\n",
       "       'left_hand', 'left_hand', 'right_hand', 'left_hand', 'left_hand',\n",
       "       'right_hand', 'left_hand', 'left_hand', 'right_hand', 'left_hand',\n",
       "       'right_hand', 'right_hand', 'left_hand', 'right_hand', 'left_hand',\n",
       "       'left_hand', 'right_hand', 'left_hand', 'right_hand', 'right_hand',\n",
       "       'right_hand', 'right_hand', 'right_hand', 'left_hand',\n",
       "       'right_hand', 'left_hand', 'left_hand', 'left_hand', 'right_hand',\n",
       "       'right_hand', 'left_hand', 'right_hand', 'left_hand', 'right_hand',\n",
       "       'left_hand', 'right_hand', 'right_hand', 'right_hand', 'left_hand',\n",
       "       'left_hand', 'right_hand', 'left_hand', 'right_hand', 'right_hand',\n",
       "       'left_hand', 'left_hand', 'right_hand', 'left_hand', 'right_hand',\n",
       "       'left_hand', 'left_hand', 'right_hand', 'left_hand', 'left_hand',\n",
       "       'left_hand', 'right_hand', 'right_hand', 'right_hand',\n",
       "       'right_hand', 'left_hand', 'right_hand', 'right_hand',\n",
       "       'right_hand', 'left_hand', 'left_hand', 'left_hand', 'left_hand',\n",
       "       'left_hand', 'right_hand', 'left_hand', 'right_hand', 'right_hand',\n",
       "       'left_hand', 'right_hand', 'left_hand', 'left_hand', 'right_hand',\n",
       "       'right_hand', 'right_hand', 'left_hand', 'right_hand',\n",
       "       'right_hand', 'right_hand', 'right_hand', 'right_hand',\n",
       "       'left_hand', 'right_hand', 'right_hand', 'left_hand', 'left_hand',\n",
       "       'left_hand', 'left_hand', 'left_hand', 'left_hand', 'right_hand',\n",
       "       'left_hand'], dtype='<U10')"
      ]
     },
     "execution_count": 56,
     "metadata": {},
     "output_type": "execute_result"
    }
   ],
   "source": [
    "labels"
   ]
  },
  {
   "cell_type": "code",
   "execution_count": 55,
   "id": "380f0fdf-07c2-4cfb-82be-1639fb4ca375",
   "metadata": {},
   "outputs": [
    {
     "data": {
      "text/plain": [
       "<Axes: >"
      ]
     },
     "execution_count": 55,
     "metadata": {},
     "output_type": "execute_result"
    },
    {
     "data": {
      "image/png": "[encoded data removed]",
      "text/plain": [
       "<Figure size 640x480 with 1 Axes>"
      ]
     },
     "metadata": {},
     "output_type": "display_data"
    }
   ],
   "source": [
    "meta.subject.hist()"
   ]
  },
  {
   "cell_type": "code",
   "execution_count": null,
   "id": "994f75af-fc34-4453-8137-d793df990fc6",
   "metadata": {},
   "outputs": [],
   "source": []
  }
 ],
 "metadata": {
  "kernelspec": {
   "display_name": "Python 3 (ipykernel)",
   "language": "python",
   "name": "python3"
  },
  "language_info": {
   "codemirror_mode": {
    "name": "ipython",
    "version": 3
   },
   "file_extension": ".py",
   "mimetype": "text/x-python",
   "name": "python",
   "nbconvert_exporter": "python",
   "pygments_lexer": "ipython3",
   "version": "3.11.3"
  }
 },
 "nbformat": 4,
 "nbformat_minor": 5
}
