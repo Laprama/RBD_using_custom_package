{
 "cells": [
  {
   "cell_type": "code",
   "execution_count": 4,
   "id": "2b6e480c",
   "metadata": {},
   "outputs": [],
   "source": [
    "from IPython.utils import io\n",
    "import pandas as pd\n",
    "import os\n",
    "from pathlib import Path\n",
    "from matplotlib import pyplot as plt\n",
    "from scipy.signal import find_peaks\n",
    "import numpy as np\n",
    "import seaborn as sns\n",
    "import time\n",
    "import joblib\n",
    "from os.path import exists\n",
    "import shutil\n",
    "import sys\n",
    "import time\n",
    "\n",
    "from sklearn.model_selection import train_test_split\n",
    "#From my EEG package \n",
    "import run_expts"
   ]
  },
  {
   "cell_type": "code",
   "execution_count": 2,
   "id": "8995b0ac",
   "metadata": {},
   "outputs": [
    {
     "data": {
      "text/plain": [
       "5.604693174362183"
      ]
     },
     "execution_count": 2,
     "metadata": {},
     "output_type": "execute_result"
    }
   ],
   "source": [
    "#Directory containing all main experiment folders\n",
    "core_path = '/export/sphere/ebirah/ko20929/RBD_files/notebooks/frequency_analysis/constructed_data/band_power_time_series/expt_dfs/'\n",
    "\n",
    "folders = ['N1_customised_40_expt_files', 'N2_120_expt_files_v2', 'N3_82_expt_files', 'REM_19_expt_files', 'EC_8_expts',\n",
    "           'N1_full_expts', 'N2_full_expts', 'N3_full_expts', 'REM_full_expts', 'EC_full_expts']\n",
    "data = {}\n",
    "\n",
    "t1 = time.time()\n",
    "\n",
    "for folder in folders:\n",
    "    load_path = core_path + folder + '/'\n",
    "    \n",
    "    data[folder] = pd.read_hdf(load_path + 'X.h5', key='df', mode='r')\n",
    "    \n",
    "t2 = time.time()\n",
    "\n",
    "t2-t1"
   ]
  },
  {
   "cell_type": "code",
   "execution_count": 17,
   "id": "5ae175c7",
   "metadata": {},
   "outputs": [
    {
     "data": {
      "text/plain": [
       "0.030000000000000002"
      ]
     },
     "execution_count": 17,
     "metadata": {},
     "output_type": "execute_result"
    }
   ],
   "source": [
    "t1 = time.time()\n",
    "t2 = time.time()\n",
    "\n",
    "time_taken = str(round(t2 - t1, 5))\n",
    "\n",
    "float(time_taken)*1000"
   ]
  },
  {
   "cell_type": "code",
   "execution_count": null,
   "id": "11f4e4d1",
   "metadata": {},
   "outputs": [],
   "source": [
    "'N2_full_expts'"
   ]
  },
  {
   "cell_type": "code",
   "execution_count": null,
   "id": "f2a938b5",
   "metadata": {},
   "outputs": [],
   "source": [
    "'N2_120_expt_files_v2'"
   ]
  },
  {
   "cell_type": "code",
   "execution_count": 6,
   "id": "69c0ca7f",
   "metadata": {},
   "outputs": [
    {
     "data": {
      "text/plain": [
       "65"
      ]
     },
     "execution_count": 6,
     "metadata": {},
     "output_type": "execute_result"
    }
   ],
   "source": [
    "len(data['N2_120_expt_files_v2'])"
   ]
  },
  {
   "cell_type": "code",
   "execution_count": 5,
   "id": "af960c16",
   "metadata": {},
   "outputs": [
    {
     "data": {
      "text/plain": [
       "71"
      ]
     },
     "execution_count": 5,
     "metadata": {},
     "output_type": "execute_result"
    }
   ],
   "source": [
    "len(data['N2_full_expts'])"
   ]
  },
  {
   "cell_type": "code",
   "execution_count": null,
   "id": "98c9bec1",
   "metadata": {},
   "outputs": [],
   "source": []
  }
 ],
 "metadata": {
  "kernelspec": {
   "display_name": "Python 3 (ipykernel)",
   "language": "python",
   "name": "python3"
  },
  "language_info": {
   "codemirror_mode": {
    "name": "ipython",
    "version": 3
   },
   "file_extension": ".py",
   "mimetype": "text/x-python",
   "name": "python",
   "nbconvert_exporter": "python",
   "pygments_lexer": "ipython3",
   "version": "3.11.3"
  }
 },
 "nbformat": 4,
 "nbformat_minor": 5
}
