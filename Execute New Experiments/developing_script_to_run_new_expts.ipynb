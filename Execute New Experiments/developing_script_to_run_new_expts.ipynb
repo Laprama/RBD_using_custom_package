{
 "cells": [
  {
   "cell_type": "code",
   "execution_count": 1,
   "id": "260f183c",
   "metadata": {},
   "outputs": [],
   "source": [
    "from IPython.utils import io\n",
    "import pandas as pd\n",
    "import os\n",
    "from pathlib import Path\n",
    "from matplotlib import pyplot as plt\n",
    "from scipy.signal import find_peaks\n",
    "import numpy as np\n",
    "import seaborn as sns\n",
    "import time\n",
    "import joblib\n",
    "from os.path import exists\n",
    "import shutil\n",
    "import sys\n",
    "import time\n",
    "\n",
    "from sklearn.model_selection import train_test_split\n",
    "#From my EEG package \n",
    "import run_expts"
   ]
  },
  {
   "cell_type": "code",
   "execution_count": 2,
   "id": "b53febe8",
   "metadata": {},
   "outputs": [
    {
     "name": "stderr",
     "output_type": "stream",
     "text": [
      "2023-05-08 23:28:10.128483: I tensorflow/core/util/port.cc:110] oneDNN custom operations are on. You may see slightly different numerical results due to floating-point round-off errors from different computation orders. To turn them off, set the environment variable `TF_ENABLE_ONEDNN_OPTS=0`.\n",
      "2023-05-08 23:28:10.130991: I tensorflow/tsl/cuda/cudart_stub.cc:28] Could not find cuda drivers on your machine, GPU will not be used.\n",
      "2023-05-08 23:28:10.181212: I tensorflow/tsl/cuda/cudart_stub.cc:28] Could not find cuda drivers on your machine, GPU will not be used.\n",
      "2023-05-08 23:28:10.182128: I tensorflow/core/platform/cpu_feature_guard.cc:182] This TensorFlow binary is optimized to use available CPU instructions in performance-critical operations.\n",
      "To enable the following instructions: AVX2 AVX512F AVX512_VNNI FMA, in other operations, rebuild TensorFlow with the appropriate compiler flags.\n",
      "2023-05-08 23:28:11.013760: W tensorflow/compiler/tf2tensorrt/utils/py_utils.cc:38] TF-TRT Warning: Could not find TensorRT\n"
     ]
    }
   ],
   "source": [
    "from sktime.classification.interval_based import CanonicalIntervalForest\n",
    "from sktime.classification.interval_based import DrCIF\n",
    "from sktime.classification.hybrid import HIVECOTEV2\n",
    "from sktime.classification.kernel_based import RocketClassifier\n",
    "from sktime.classification.deep_learning import InceptionTimeClassifier"
   ]
  },
  {
   "cell_type": "code",
   "execution_count": 6,
   "id": "2e7d39f9",
   "metadata": {},
   "outputs": [],
   "source": [
    "clf = RocketClassifier(use_multivariate = 'yes')\n",
    "clf = HIVECOTEV2(time_limit_in_minutes=1)\n",
    "clf = CanonicalIntervalForest()\n",
    "clf = DrCIF() \n",
    "clf = InceptionTimeClassifier()"
   ]
  },
  {
   "cell_type": "code",
   "execution_count": null,
   "id": "e7a04819",
   "metadata": {},
   "outputs": [],
   "source": [
    "#Now I will write code as if we already have the clf"
   ]
  },
  {
   "cell_type": "code",
   "execution_count": 8,
   "id": "304573c5",
   "metadata": {},
   "outputs": [],
   "source": [
    "#New Results Folder is called Results"
   ]
  },
  {
   "cell_type": "code",
   "execution_count": null,
   "id": "9580e504",
   "metadata": {},
   "outputs": [],
   "source": [
    "#Save_path = clf_name + expt_type + folder[:-4]"
   ]
  },
  {
   "cell_type": "code",
   "execution_count": null,
   "id": "b8256cf4",
   "metadata": {},
   "outputs": [],
   "source": [
    "save_path = clf_name + expt_type_ + str(num) + '_' + folder "
   ]
  },
  {
   "cell_type": "code",
   "execution_count": 7,
   "id": "b4096459",
   "metadata": {},
   "outputs": [],
   "source": [
    "# clfs = {'Rocket' : RocketClassifier(use_multivariate = 'yes'), 'HIVECOTE2' : HIVECOTEV2(time_limit_in_minutes=5) , \n",
    "#         'C_I_F' : CanonicalIntervalForest() , 'Dr_C_I_F' : DrCIF(), 'Inception_Time' : InceptionTimeClassifier() }"
   ]
  },
  {
   "cell_type": "code",
   "execution_count": 3,
   "id": "f019bdda",
   "metadata": {},
   "outputs": [],
   "source": [
    "classifier_list  = [{'Rocket': RocketClassifier(use_multivariate='yes')},\n",
    " {'HIVECOTE2': HIVECOTEV2(time_limit_in_minutes=5)},\n",
    " {'C_I_F': CanonicalIntervalForest()},\n",
    " {'Dr_C_I_F': DrCIF()},\n",
    " {'Inception_Time': InceptionTimeClassifier()}]   "
   ]
  },
  {
   "cell_type": "code",
   "execution_count": 4,
   "id": "9d4f2ede",
   "metadata": {},
   "outputs": [],
   "source": [
    "clf = classifier_list[int(sys.argv[1])]\n",
    "clf = classifier_list[int(0)]\n",
    "clf_name = list(clf.keys())[0]"
   ]
  },
  {
   "cell_type": "code",
   "execution_count": 5,
   "id": "88635e9a",
   "metadata": {},
   "outputs": [
    {
     "name": "stdout",
     "output_type": "stream",
     "text": [
      "commencing first experiment sir....!\n"
     ]
    },
    {
     "ename": "KeyboardInterrupt",
     "evalue": "",
     "output_type": "error",
     "traceback": [
      "\u001b[0;31m---------------------------------------------------------------------------\u001b[0m",
      "\u001b[0;31mKeyboardInterrupt\u001b[0m                         Traceback (most recent call last)",
      "Cell \u001b[0;32mIn[5], line 22\u001b[0m\n\u001b[1;32m     20\u001b[0m save_path \u001b[38;5;241m=\u001b[39m clf_name \u001b[38;5;241m+\u001b[39m \u001b[38;5;124m'\u001b[39m\u001b[38;5;124mexpt_type_\u001b[39m\u001b[38;5;124m'\u001b[39m \u001b[38;5;241m+\u001b[39m \u001b[38;5;28mstr\u001b[39m(num) \u001b[38;5;241m+\u001b[39m \u001b[38;5;124m'\u001b[39m\u001b[38;5;124m_\u001b[39m\u001b[38;5;124m'\u001b[39m \u001b[38;5;241m+\u001b[39m folder \n\u001b[1;32m     21\u001b[0m \u001b[38;5;28mprint\u001b[39m(\u001b[38;5;124m'\u001b[39m\u001b[38;5;124mcommencing first experiment sir....!\u001b[39m\u001b[38;5;124m'\u001b[39m)\n\u001b[0;32m---> 22\u001b[0m run_expts\u001b[38;5;241m.\u001b[39mrun_mv_tsc(X_expt ,y_expt , groups_expt, clf, save_path, random_states \u001b[38;5;241m=\u001b[39m [\u001b[38;5;241m13\u001b[39m , \u001b[38;5;241m37\u001b[39m])\n\u001b[1;32m     24\u001b[0m t2 \u001b[38;5;241m=\u001b[39m time\u001b[38;5;241m.\u001b[39mtime()\n\u001b[1;32m     26\u001b[0m \u001b[38;5;28mprint\u001b[39m(t2 \u001b[38;5;241m-\u001b[39m t1)\n",
      "File \u001b[0;32m/export/sphere/ebirah/ko20929/eeg_package/src/run_expts.py:228\u001b[0m, in \u001b[0;36mrun_mv_tsc\u001b[0;34m(X_full, y, groups, clfs, save_path, return_df, subset_names_and_cols, random_states)\u001b[0m\n\u001b[1;32m    226\u001b[0m             acc , mean, y_pred_arrays , y_true_arrays \u001b[38;5;241m=\u001b[39m run_column_ensemble_cv_clf(X, y , groups , clf , rand_state \u001b[38;5;241m=\u001b[39m rand_state)\n\u001b[1;32m    227\u001b[0m         \u001b[38;5;28;01melse\u001b[39;00m:\n\u001b[0;32m--> 228\u001b[0m             acc , mean, y_pred_arrays , y_true_arrays \u001b[38;5;241m=\u001b[39m run_clf_with_CV(X, y , groups , clf , rand_state \u001b[38;5;241m=\u001b[39m rand_state)\n\u001b[1;32m    230\u001b[0m         raw_results_df_dict[subset_name \u001b[38;5;241m+\u001b[39m \u001b[38;5;124m'\u001b[39m\u001b[38;5;124m_\u001b[39m\u001b[38;5;124m'\u001b[39m\u001b[38;5;241m+\u001b[39m key \u001b[38;5;241m+\u001b[39m \u001b[38;5;124m'\u001b[39m\u001b[38;5;124m_\u001b[39m\u001b[38;5;124m'\u001b[39m \u001b[38;5;241m+\u001b[39m \u001b[38;5;124m'\u001b[39m\u001b[38;5;124my_preds\u001b[39m\u001b[38;5;124m'\u001b[39m]\u001b[38;5;241m.\u001b[39mappend(y_pred_arrays)\n\u001b[1;32m    232\u001b[0m raw_results_df_dict[\u001b[38;5;124m'\u001b[39m\u001b[38;5;124my_true\u001b[39m\u001b[38;5;124m'\u001b[39m]\u001b[38;5;241m.\u001b[39mappend(y_true_arrays)\n",
      "File \u001b[0;32m/export/sphere/ebirah/ko20929/eeg_package/src/run_expts.py:150\u001b[0m, in \u001b[0;36mrun_clf_with_CV\u001b[0;34m(X, y, groups, clf, rand_state)\u001b[0m\n\u001b[1;32m    146\u001b[0m y_train, y_test \u001b[38;5;241m=\u001b[39m y\u001b[38;5;241m.\u001b[39miloc[train_index], y\u001b[38;5;241m.\u001b[39miloc[test_index]\n\u001b[1;32m    149\u001b[0m clf\u001b[38;5;241m.\u001b[39mfit(X_train, y_train)\n\u001b[0;32m--> 150\u001b[0m y_preds \u001b[38;5;241m=\u001b[39m clf\u001b[38;5;241m.\u001b[39mpredict(X_test)\n\u001b[1;32m    152\u001b[0m y_pred_arrays\u001b[38;5;241m.\u001b[39mappend(y_preds)\n\u001b[1;32m    153\u001b[0m y_true_arrays\u001b[38;5;241m.\u001b[39mappend(y_test)\n",
      "File \u001b[0;32m/export/sphere/ebirah/ko20929/miniconda3/envs/sktime_latest/lib/python3.11/site-packages/sktime/classification/base.py:241\u001b[0m, in \u001b[0;36mBaseClassifier.predict\u001b[0;34m(self, X)\u001b[0m\n\u001b[1;32m    238\u001b[0m     \u001b[38;5;28;01mreturn\u001b[39;00m \u001b[38;5;28mself\u001b[39m\u001b[38;5;241m.\u001b[39m_single_class_y_pred(X, method\u001b[38;5;241m=\u001b[39m\u001b[38;5;124m\"\u001b[39m\u001b[38;5;124mpredict\u001b[39m\u001b[38;5;124m\"\u001b[39m)\n\u001b[1;32m    240\u001b[0m \u001b[38;5;66;03m# call internal _predict_proba\u001b[39;00m\n\u001b[0;32m--> 241\u001b[0m \u001b[38;5;28;01mreturn\u001b[39;00m \u001b[38;5;28mself\u001b[39m\u001b[38;5;241m.\u001b[39m_predict(X)\n",
      "File \u001b[0;32m/export/sphere/ebirah/ko20929/miniconda3/envs/sktime_latest/lib/python3.11/site-packages/sktime/classification/_delegate.py:96\u001b[0m, in \u001b[0;36m_DelegatedClassifier._predict\u001b[0;34m(self, X)\u001b[0m\n\u001b[1;32m     70\u001b[0m \u001b[38;5;124;03m\"\"\"Predict labels for sequences in X.\u001b[39;00m\n\u001b[1;32m     71\u001b[0m \n\u001b[1;32m     72\u001b[0m \u001b[38;5;124;03mprivate _predict containing the core logic, called from predict\u001b[39;00m\n\u001b[0;32m   (...)\u001b[0m\n\u001b[1;32m     93\u001b[0m \u001b[38;5;124;03m    indices correspond to instance indices in X\u001b[39;00m\n\u001b[1;32m     94\u001b[0m \u001b[38;5;124;03m\"\"\"\u001b[39;00m\n\u001b[1;32m     95\u001b[0m estimator \u001b[38;5;241m=\u001b[39m \u001b[38;5;28mself\u001b[39m\u001b[38;5;241m.\u001b[39m_get_delegate()\n\u001b[0;32m---> 96\u001b[0m \u001b[38;5;28;01mreturn\u001b[39;00m estimator\u001b[38;5;241m.\u001b[39mpredict(X\u001b[38;5;241m=\u001b[39mX)\n",
      "File \u001b[0;32m/export/sphere/ebirah/ko20929/miniconda3/envs/sktime_latest/lib/python3.11/site-packages/sktime/classification/base.py:241\u001b[0m, in \u001b[0;36mBaseClassifier.predict\u001b[0;34m(self, X)\u001b[0m\n\u001b[1;32m    238\u001b[0m     \u001b[38;5;28;01mreturn\u001b[39;00m \u001b[38;5;28mself\u001b[39m\u001b[38;5;241m.\u001b[39m_single_class_y_pred(X, method\u001b[38;5;241m=\u001b[39m\u001b[38;5;124m\"\u001b[39m\u001b[38;5;124mpredict\u001b[39m\u001b[38;5;124m\"\u001b[39m)\n\u001b[1;32m    240\u001b[0m \u001b[38;5;66;03m# call internal _predict_proba\u001b[39;00m\n\u001b[0;32m--> 241\u001b[0m \u001b[38;5;28;01mreturn\u001b[39;00m \u001b[38;5;28mself\u001b[39m\u001b[38;5;241m.\u001b[39m_predict(X)\n",
      "File \u001b[0;32m/export/sphere/ebirah/ko20929/miniconda3/envs/sktime_latest/lib/python3.11/site-packages/sktime/classification/compose/_pipeline.py:544\u001b[0m, in \u001b[0;36mSklearnClassifierPipeline._predict\u001b[0;34m(self, X)\u001b[0m\n\u001b[1;32m    531\u001b[0m \u001b[38;5;28;01mdef\u001b[39;00m \u001b[38;5;21m_predict\u001b[39m(\u001b[38;5;28mself\u001b[39m, X) \u001b[38;5;241m-\u001b[39m\u001b[38;5;241m>\u001b[39m np\u001b[38;5;241m.\u001b[39mndarray:\n\u001b[1;32m    532\u001b[0m     \u001b[38;5;124;03m\"\"\"Predict labels for sequences in X.\u001b[39;00m\n\u001b[1;32m    533\u001b[0m \n\u001b[1;32m    534\u001b[0m \u001b[38;5;124;03m    core logic\u001b[39;00m\n\u001b[0;32m   (...)\u001b[0m\n\u001b[1;32m    542\u001b[0m \u001b[38;5;124;03m    y : predictions of labels for X, np.ndarray\u001b[39;00m\n\u001b[1;32m    543\u001b[0m \u001b[38;5;124;03m    \"\"\"\u001b[39;00m\n\u001b[0;32m--> 544\u001b[0m     Xt \u001b[38;5;241m=\u001b[39m \u001b[38;5;28mself\u001b[39m\u001b[38;5;241m.\u001b[39mtransformers_\u001b[38;5;241m.\u001b[39mtransform(X\u001b[38;5;241m=\u001b[39mX)\n\u001b[1;32m    545\u001b[0m     Xt_sklearn \u001b[38;5;241m=\u001b[39m \u001b[38;5;28mself\u001b[39m\u001b[38;5;241m.\u001b[39m_convert_X_to_sklearn(Xt)\n\u001b[1;32m    546\u001b[0m     \u001b[38;5;28;01mreturn\u001b[39;00m \u001b[38;5;28mself\u001b[39m\u001b[38;5;241m.\u001b[39mclassifier_\u001b[38;5;241m.\u001b[39mpredict(Xt_sklearn)\n",
      "File \u001b[0;32m/export/sphere/ebirah/ko20929/miniconda3/envs/sktime_latest/lib/python3.11/site-packages/sktime/transformations/base.py:536\u001b[0m, in \u001b[0;36mBaseTransformer.transform\u001b[0;34m(self, X, y)\u001b[0m\n\u001b[1;32m    533\u001b[0m X_inner, y_inner, metadata \u001b[38;5;241m=\u001b[39m \u001b[38;5;28mself\u001b[39m\u001b[38;5;241m.\u001b[39m_check_X_y(X\u001b[38;5;241m=\u001b[39mX, y\u001b[38;5;241m=\u001b[39my, return_metadata\u001b[38;5;241m=\u001b[39m\u001b[38;5;28;01mTrue\u001b[39;00m)\n\u001b[1;32m    535\u001b[0m \u001b[38;5;28;01mif\u001b[39;00m \u001b[38;5;129;01mnot\u001b[39;00m \u001b[38;5;28misinstance\u001b[39m(X_inner, VectorizedDF):\n\u001b[0;32m--> 536\u001b[0m     Xt \u001b[38;5;241m=\u001b[39m \u001b[38;5;28mself\u001b[39m\u001b[38;5;241m.\u001b[39m_transform(X\u001b[38;5;241m=\u001b[39mX_inner, y\u001b[38;5;241m=\u001b[39my_inner)\n\u001b[1;32m    537\u001b[0m \u001b[38;5;28;01melse\u001b[39;00m:\n\u001b[1;32m    538\u001b[0m     \u001b[38;5;66;03m# otherwise we call the vectorized version of predict\u001b[39;00m\n\u001b[1;32m    539\u001b[0m     Xt \u001b[38;5;241m=\u001b[39m \u001b[38;5;28mself\u001b[39m\u001b[38;5;241m.\u001b[39m_vectorize(\u001b[38;5;124m\"\u001b[39m\u001b[38;5;124mtransform\u001b[39m\u001b[38;5;124m\"\u001b[39m, X\u001b[38;5;241m=\u001b[39mX_inner, y\u001b[38;5;241m=\u001b[39my_inner)\n",
      "File \u001b[0;32m/export/sphere/ebirah/ko20929/miniconda3/envs/sktime_latest/lib/python3.11/site-packages/sktime/transformations/compose/_pipeline.py:304\u001b[0m, in \u001b[0;36mTransformerPipeline._transform\u001b[0;34m(self, X, y)\u001b[0m\n\u001b[1;32m    302\u001b[0m \u001b[38;5;28;01mfor\u001b[39;00m _, transformer \u001b[38;5;129;01min\u001b[39;00m \u001b[38;5;28mself\u001b[39m\u001b[38;5;241m.\u001b[39msteps_:\n\u001b[1;32m    303\u001b[0m     \u001b[38;5;28;01mif\u001b[39;00m \u001b[38;5;129;01mnot\u001b[39;00m \u001b[38;5;28mself\u001b[39m\u001b[38;5;241m.\u001b[39mget_tag(\u001b[38;5;124m\"\u001b[39m\u001b[38;5;124mfit_is_empty\u001b[39m\u001b[38;5;124m\"\u001b[39m, \u001b[38;5;28;01mFalse\u001b[39;00m):\n\u001b[0;32m--> 304\u001b[0m         Xt \u001b[38;5;241m=\u001b[39m transformer\u001b[38;5;241m.\u001b[39mtransform(X\u001b[38;5;241m=\u001b[39mXt, y\u001b[38;5;241m=\u001b[39my)\n\u001b[1;32m    305\u001b[0m     \u001b[38;5;28;01melse\u001b[39;00m:\n\u001b[1;32m    306\u001b[0m         Xt \u001b[38;5;241m=\u001b[39m transformer\u001b[38;5;241m.\u001b[39mfit_transform(X\u001b[38;5;241m=\u001b[39mXt, y\u001b[38;5;241m=\u001b[39my)\n",
      "File \u001b[0;32m/export/sphere/ebirah/ko20929/miniconda3/envs/sktime_latest/lib/python3.11/site-packages/sktime/transformations/base.py:533\u001b[0m, in \u001b[0;36mBaseTransformer.transform\u001b[0;34m(self, X, y)\u001b[0m\n\u001b[1;32m    530\u001b[0m \u001b[38;5;28mself\u001b[39m\u001b[38;5;241m.\u001b[39mcheck_is_fitted()\n\u001b[1;32m    532\u001b[0m \u001b[38;5;66;03m# input check and conversion for X/y\u001b[39;00m\n\u001b[0;32m--> 533\u001b[0m X_inner, y_inner, metadata \u001b[38;5;241m=\u001b[39m \u001b[38;5;28mself\u001b[39m\u001b[38;5;241m.\u001b[39m_check_X_y(X\u001b[38;5;241m=\u001b[39mX, y\u001b[38;5;241m=\u001b[39my, return_metadata\u001b[38;5;241m=\u001b[39m\u001b[38;5;28;01mTrue\u001b[39;00m)\n\u001b[1;32m    535\u001b[0m \u001b[38;5;28;01mif\u001b[39;00m \u001b[38;5;129;01mnot\u001b[39;00m \u001b[38;5;28misinstance\u001b[39m(X_inner, VectorizedDF):\n\u001b[1;32m    536\u001b[0m     Xt \u001b[38;5;241m=\u001b[39m \u001b[38;5;28mself\u001b[39m\u001b[38;5;241m.\u001b[39m_transform(X\u001b[38;5;241m=\u001b[39mX_inner, y\u001b[38;5;241m=\u001b[39my_inner)\n",
      "File \u001b[0;32m/export/sphere/ebirah/ko20929/miniconda3/envs/sktime_latest/lib/python3.11/site-packages/sktime/transformations/base.py:1024\u001b[0m, in \u001b[0;36mBaseTransformer._check_X_y\u001b[0;34m(self, X, y, return_metadata)\u001b[0m\n\u001b[1;32m   1017\u001b[0m     \u001b[38;5;66;03m# then pass to case 1, which we've reduced to, X now has inner scitype\u001b[39;00m\n\u001b[1;32m   1018\u001b[0m \n\u001b[1;32m   1019\u001b[0m \u001b[38;5;66;03m# case 1. scitype of X is supported internally\u001b[39;00m\n\u001b[1;32m   1020\u001b[0m \u001b[38;5;66;03m# case in [\"case 1: scitype supported\", \"case 2: higher scitype supported\"]\u001b[39;00m\n\u001b[1;32m   1021\u001b[0m \u001b[38;5;66;03m#   and does not require vectorization because of cols (multivariate)\u001b[39;00m\n\u001b[1;32m   1022\u001b[0m \u001b[38;5;28;01mif\u001b[39;00m \u001b[38;5;129;01mnot\u001b[39;00m requires_vectorization:\n\u001b[1;32m   1023\u001b[0m     \u001b[38;5;66;03m# converts X\u001b[39;00m\n\u001b[0;32m-> 1024\u001b[0m     X_inner \u001b[38;5;241m=\u001b[39m convert_to(\n\u001b[1;32m   1025\u001b[0m         X,\n\u001b[1;32m   1026\u001b[0m         to_type\u001b[38;5;241m=\u001b[39mX_inner_mtype,\n\u001b[1;32m   1027\u001b[0m         store\u001b[38;5;241m=\u001b[39mmetadata[\u001b[38;5;124m\"\u001b[39m\u001b[38;5;124m_converter_store_X\u001b[39m\u001b[38;5;124m\"\u001b[39m],\n\u001b[1;32m   1028\u001b[0m         store_behaviour\u001b[38;5;241m=\u001b[39m\u001b[38;5;124m\"\u001b[39m\u001b[38;5;124mreset\u001b[39m\u001b[38;5;124m\"\u001b[39m,\n\u001b[1;32m   1029\u001b[0m     )\n\u001b[1;32m   1031\u001b[0m     \u001b[38;5;66;03m# converts y, returns None if y is None\u001b[39;00m\n\u001b[1;32m   1032\u001b[0m     \u001b[38;5;28;01mif\u001b[39;00m y_inner_mtype \u001b[38;5;241m!=\u001b[39m [\u001b[38;5;124m\"\u001b[39m\u001b[38;5;124mNone\u001b[39m\u001b[38;5;124m\"\u001b[39m] \u001b[38;5;129;01mand\u001b[39;00m y \u001b[38;5;129;01mis\u001b[39;00m \u001b[38;5;129;01mnot\u001b[39;00m \u001b[38;5;28;01mNone\u001b[39;00m:\n",
      "File \u001b[0;32m/export/sphere/ebirah/ko20929/miniconda3/envs/sktime_latest/lib/python3.11/site-packages/sktime/datatypes/_convert.py:263\u001b[0m, in \u001b[0;36mconvert_to\u001b[0;34m(obj, to_type, as_scitype, store, store_behaviour)\u001b[0m\n\u001b[1;32m    257\u001b[0m             \u001b[38;5;28;01mraise\u001b[39;00m \u001b[38;5;167;01mTypeError\u001b[39;00m(\n\u001b[1;32m    258\u001b[0m                 \u001b[38;5;124m\"\u001b[39m\u001b[38;5;124mto_type contains no mtype compatible with the scitype of obj,\u001b[39m\u001b[38;5;124m\"\u001b[39m\n\u001b[1;32m    259\u001b[0m                 \u001b[38;5;124mf\u001b[39m\u001b[38;5;124m\"\u001b[39m\u001b[38;5;124mwhich is \u001b[39m\u001b[38;5;132;01m{\u001b[39;00mas_scitype\u001b[38;5;132;01m}\u001b[39;00m\u001b[38;5;124m\"\u001b[39m\n\u001b[1;32m    260\u001b[0m             )\n\u001b[1;32m    261\u001b[0m         to_type \u001b[38;5;241m=\u001b[39m same_scitype_mtypes[\u001b[38;5;241m0\u001b[39m]\n\u001b[0;32m--> 263\u001b[0m converted_obj \u001b[38;5;241m=\u001b[39m convert(\n\u001b[1;32m    264\u001b[0m     obj\u001b[38;5;241m=\u001b[39mobj,\n\u001b[1;32m    265\u001b[0m     from_type\u001b[38;5;241m=\u001b[39mfrom_type,\n\u001b[1;32m    266\u001b[0m     to_type\u001b[38;5;241m=\u001b[39mto_type,\n\u001b[1;32m    267\u001b[0m     as_scitype\u001b[38;5;241m=\u001b[39mas_scitype,\n\u001b[1;32m    268\u001b[0m     store\u001b[38;5;241m=\u001b[39mstore,\n\u001b[1;32m    269\u001b[0m     store_behaviour\u001b[38;5;241m=\u001b[39mstore_behaviour,\n\u001b[1;32m    270\u001b[0m )\n\u001b[1;32m    272\u001b[0m \u001b[38;5;28;01mreturn\u001b[39;00m converted_obj\n",
      "File \u001b[0;32m/export/sphere/ebirah/ko20929/miniconda3/envs/sktime_latest/lib/python3.11/site-packages/sktime/datatypes/_convert.py:172\u001b[0m, in \u001b[0;36mconvert\u001b[0;34m(obj, from_type, to_type, as_scitype, store, store_behaviour)\u001b[0m\n\u001b[1;32m    167\u001b[0m \u001b[38;5;28;01melse\u001b[39;00m:\n\u001b[1;32m    168\u001b[0m     \u001b[38;5;28;01mraise\u001b[39;00m \u001b[38;5;167;01mRuntimeError\u001b[39;00m(\n\u001b[1;32m    169\u001b[0m         \u001b[38;5;124m\"\u001b[39m\u001b[38;5;124mbug: unrechable condition error, store_behaviour has unexpected value\u001b[39m\u001b[38;5;124m\"\u001b[39m\n\u001b[1;32m    170\u001b[0m     )\n\u001b[0;32m--> 172\u001b[0m converted_obj \u001b[38;5;241m=\u001b[39m convert_dict[key](obj, store\u001b[38;5;241m=\u001b[39mstore)\n\u001b[1;32m    174\u001b[0m \u001b[38;5;28;01mreturn\u001b[39;00m converted_obj\n",
      "File \u001b[0;32m/export/sphere/ebirah/ko20929/miniconda3/envs/sktime_latest/lib/python3.11/site-packages/sktime/datatypes/_series/_convert.py:115\u001b[0m, in \u001b[0;36mconvert_MvS_to_np_as_Series\u001b[0;34m(obj, store)\u001b[0m\n\u001b[1;32m    112\u001b[0m \u001b[38;5;28;01mif\u001b[39;00m \u001b[38;5;129;01mnot\u001b[39;00m \u001b[38;5;28misinstance\u001b[39m(obj, pd\u001b[38;5;241m.\u001b[39mDataFrame):\n\u001b[1;32m    113\u001b[0m     \u001b[38;5;28;01mraise\u001b[39;00m \u001b[38;5;167;01mTypeError\u001b[39;00m(\u001b[38;5;124m\"\u001b[39m\u001b[38;5;124minput must be a pd.DataFrame\u001b[39m\u001b[38;5;124m\"\u001b[39m)\n\u001b[0;32m--> 115\u001b[0m obj \u001b[38;5;241m=\u001b[39m _coerce_df_dtypes(obj)\n\u001b[1;32m    117\u001b[0m \u001b[38;5;28;01mif\u001b[39;00m \u001b[38;5;28misinstance\u001b[39m(store, \u001b[38;5;28mdict\u001b[39m):\n\u001b[1;32m    118\u001b[0m     store[\u001b[38;5;124m\"\u001b[39m\u001b[38;5;124mcolumns\u001b[39m\u001b[38;5;124m\"\u001b[39m] \u001b[38;5;241m=\u001b[39m obj\u001b[38;5;241m.\u001b[39mcolumns\n",
      "File \u001b[0;32m/export/sphere/ebirah/ko20929/miniconda3/envs/sktime_latest/lib/python3.11/site-packages/sktime/datatypes/_convert_utils/_coerce.py:35\u001b[0m, in \u001b[0;36m_coerce_df_dtypes\u001b[0;34m(obj)\u001b[0m\n\u001b[1;32m     32\u001b[0m     \u001b[38;5;28;01mreturn\u001b[39;00m obj\n\u001b[1;32m     34\u001b[0m \u001b[38;5;28;01mif\u001b[39;00m \u001b[38;5;28misinstance\u001b[39m(obj, pd\u001b[38;5;241m.\u001b[39mDataFrame):\n\u001b[0;32m---> 35\u001b[0m     nullable_cols \u001b[38;5;241m=\u001b[39m [\n\u001b[1;32m     36\u001b[0m         col \u001b[38;5;28;01mfor\u001b[39;00m col \u001b[38;5;129;01min\u001b[39;00m obj\u001b[38;5;241m.\u001b[39mcolumns \u001b[38;5;28;01mif\u001b[39;00m _is_nullable_numeric(obj\u001b[38;5;241m.\u001b[39mdtypes[col])\n\u001b[1;32m     37\u001b[0m     ]\n\u001b[1;32m     38\u001b[0m     \u001b[38;5;28;01mif\u001b[39;00m \u001b[38;5;28mlen\u001b[39m(nullable_cols) \u001b[38;5;241m>\u001b[39m \u001b[38;5;241m0\u001b[39m:\n\u001b[1;32m     39\u001b[0m         obj \u001b[38;5;241m=\u001b[39m obj\u001b[38;5;241m.\u001b[39mastype({col: \u001b[38;5;124m\"\u001b[39m\u001b[38;5;124mfloat\u001b[39m\u001b[38;5;124m\"\u001b[39m \u001b[38;5;28;01mfor\u001b[39;00m col \u001b[38;5;129;01min\u001b[39;00m nullable_cols})\n",
      "File \u001b[0;32m/export/sphere/ebirah/ko20929/miniconda3/envs/sktime_latest/lib/python3.11/site-packages/sktime/datatypes/_convert_utils/_coerce.py:36\u001b[0m, in \u001b[0;36m<listcomp>\u001b[0;34m(.0)\u001b[0m\n\u001b[1;32m     32\u001b[0m     \u001b[38;5;28;01mreturn\u001b[39;00m obj\n\u001b[1;32m     34\u001b[0m \u001b[38;5;28;01mif\u001b[39;00m \u001b[38;5;28misinstance\u001b[39m(obj, pd\u001b[38;5;241m.\u001b[39mDataFrame):\n\u001b[1;32m     35\u001b[0m     nullable_cols \u001b[38;5;241m=\u001b[39m [\n\u001b[0;32m---> 36\u001b[0m         col \u001b[38;5;28;01mfor\u001b[39;00m col \u001b[38;5;129;01min\u001b[39;00m obj\u001b[38;5;241m.\u001b[39mcolumns \u001b[38;5;28;01mif\u001b[39;00m _is_nullable_numeric(obj\u001b[38;5;241m.\u001b[39mdtypes[col])\n\u001b[1;32m     37\u001b[0m     ]\n\u001b[1;32m     38\u001b[0m     \u001b[38;5;28;01mif\u001b[39;00m \u001b[38;5;28mlen\u001b[39m(nullable_cols) \u001b[38;5;241m>\u001b[39m \u001b[38;5;241m0\u001b[39m:\n\u001b[1;32m     39\u001b[0m         obj \u001b[38;5;241m=\u001b[39m obj\u001b[38;5;241m.\u001b[39mastype({col: \u001b[38;5;124m\"\u001b[39m\u001b[38;5;124mfloat\u001b[39m\u001b[38;5;124m\"\u001b[39m \u001b[38;5;28;01mfor\u001b[39;00m col \u001b[38;5;129;01min\u001b[39;00m nullable_cols})\n",
      "File \u001b[0;32m/export/sphere/ebirah/ko20929/miniconda3/envs/sktime_latest/lib/python3.11/site-packages/sktime/datatypes/_convert_utils/_coerce.py:9\u001b[0m, in \u001b[0;36m_is_nullable_numeric\u001b[0;34m(dtype)\u001b[0m\n\u001b[1;32m      4\u001b[0m __author__ \u001b[38;5;241m=\u001b[39m [\u001b[38;5;124m\"\u001b[39m\u001b[38;5;124mfkiraly\u001b[39m\u001b[38;5;124m\"\u001b[39m]\n\u001b[1;32m      6\u001b[0m \u001b[38;5;28;01mimport\u001b[39;00m \u001b[38;5;21;01mpandas\u001b[39;00m \u001b[38;5;28;01mas\u001b[39;00m \u001b[38;5;21;01mpd\u001b[39;00m\n\u001b[0;32m----> 9\u001b[0m \u001b[38;5;28;01mdef\u001b[39;00m \u001b[38;5;21m_is_nullable_numeric\u001b[39m(dtype):\n\u001b[1;32m     11\u001b[0m     \u001b[38;5;28;01mreturn\u001b[39;00m dtype \u001b[38;5;129;01min\u001b[39;00m [\u001b[38;5;124m\"\u001b[39m\u001b[38;5;124mInt64\u001b[39m\u001b[38;5;124m\"\u001b[39m, \u001b[38;5;124m\"\u001b[39m\u001b[38;5;124mFloat64\u001b[39m\u001b[38;5;124m\"\u001b[39m, \u001b[38;5;124m\"\u001b[39m\u001b[38;5;124mboolean\u001b[39m\u001b[38;5;124m\"\u001b[39m]\n\u001b[1;32m     14\u001b[0m \u001b[38;5;28;01mdef\u001b[39;00m \u001b[38;5;21m_coerce_df_dtypes\u001b[39m(obj):\n",
      "\u001b[0;31mKeyboardInterrupt\u001b[0m: "
     ]
    }
   ],
   "source": [
    "#Directory containing all main experiment folders\n",
    "core_path = '/export/sphere/ebirah/ko20929/RBD_files/notebooks/frequency_analysis/constructed_data/band_power_time_series/expt_dfs/'\n",
    "\n",
    "folders = ['N1_customised_40_expt_files', 'N2_120_expt_files_v2', 'N3_82_expt_files', 'REM_19_expt_files', 'EC_8_expts',\n",
    "           'N1_full_expts', 'N2_full_expts', 'N3_full_expts', 'REM_full_expts', 'EC_full_expts']\n",
    "\n",
    "t1 = time.time()\n",
    "\n",
    "for folder in folders:\n",
    "    load_path = core_path + folder + '/'\n",
    "\n",
    "    X = pd.read_hdf(load_path + 'X.h5', key='df', mode='r')\n",
    "    y = pd.read_hdf(load_path + 'y_full.h5', key='df', mode='r') \n",
    "    groups = pd.read_hdf(load_path + 'groups.h5', key='df', mode='r')  \n",
    "\n",
    "    for num in [1,2]:\n",
    "        #1.Generate expt specific X,y,groups\n",
    "        X_expt , y_expt , groups_expt, expt_info = run_expts.generate_expt_x_y_groups(X,y,groups,num)\n",
    "\n",
    "        save_path = clf_name + 'expt_type_' + str(num) + '_' + folder \n",
    "        print('commencing first experiment sir....!')\n",
    "        run_expts.run_mv_tsc(X_expt ,y_expt , groups_expt, clf, save_path, random_states = [13 , 37])\n",
    "        \n",
    "        t2 = time.time()\n",
    "        \n",
    "        print(t2 - t1)"
   ]
  },
  {
   "cell_type": "code",
   "execution_count": null,
   "id": "668da6ee",
   "metadata": {},
   "outputs": [],
   "source": []
  }
 ],
 "metadata": {
  "kernelspec": {
   "display_name": "Python 3 (ipykernel)",
   "language": "python",
   "name": "python3"
  },
  "language_info": {
   "codemirror_mode": {
    "name": "ipython",
    "version": 3
   },
   "file_extension": ".py",
   "mimetype": "text/x-python",
   "name": "python",
   "nbconvert_exporter": "python",
   "pygments_lexer": "ipython3",
   "version": "3.11.3"
  }
 },
 "nbformat": 4,
 "nbformat_minor": 5
}
