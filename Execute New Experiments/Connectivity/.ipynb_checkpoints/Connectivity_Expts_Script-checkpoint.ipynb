{
 "cells": [
  {
   "cell_type": "code",
   "execution_count": 2,
   "id": "6a6cc899-9299-4499-953e-3d4239b45cc7",
   "metadata": {},
   "outputs": [],
   "source": [
    "import pandas as pd\n",
    "import mne as mne\n",
    "import os \n",
    "import time\n",
    "import numpy as np\n",
    "import matplotlib.pyplot as plt\n",
    "import joblib\n",
    "import constants\n",
    "from IPython.utils import io\n",
    "import time\n",
    "import sys\n",
    "import yasa\n",
    "from scipy.signal import welch\n",
    "\n",
    "from sklearn.model_selection import train_test_split\n",
    "from sklearn.ensemble import RandomForestClassifier\n",
    "from sklearn.ensemble import AdaBoostClassifier\n",
    "from sklearn.svm import SVC\n",
    "\n",
    "from sklearn.metrics import accuracy_score\n",
    "\n",
    "#Import my modules\n",
    "import format_eeg_data\n",
    "import constants\n",
    "import eeg_stat_ts\n",
    "import run_expts\n",
    "\n",
    "\n",
    "from mne_connectivity import spectral_connectivity_epochs\n",
    "from mne.datasets import sample\n",
    "import seaborn as sns\n",
    "\n",
    "from scipy.signal import welch\n",
    "import yasa\n",
    "import constants\n",
    "import numpy as np"
   ]
  },
  {
   "cell_type": "code",
   "execution_count": 8,
   "id": "90bbb65d-52bb-421c-bc61-b930821e9a64",
   "metadata": {},
   "outputs": [
    {
     "ename": "ValueError",
     "evalue": "invalid literal for int() with base 10: '-f'",
     "output_type": "error",
     "traceback": [
      "\u001b[0;31m---------------------------------------------------------------------------\u001b[0m",
      "\u001b[0;31mValueError\u001b[0m                                Traceback (most recent call last)",
      "Cell \u001b[0;32mIn[8], line 1\u001b[0m\n\u001b[0;32m----> 1\u001b[0m \u001b[38;5;28;43mint\u001b[39;49m\u001b[43m(\u001b[49m\u001b[43msys\u001b[49m\u001b[38;5;241;43m.\u001b[39;49m\u001b[43margv\u001b[49m\u001b[43m[\u001b[49m\u001b[38;5;241;43m1\u001b[39;49m\u001b[43m]\u001b[49m\u001b[43m)\u001b[49m\n",
      "\u001b[0;31mValueError\u001b[0m: invalid literal for int() with base 10: '-f'"
     ]
    }
   ],
   "source": [
    "int(sys.argv[1])"
   ]
  },
  {
   "cell_type": "code",
   "execution_count": 7,
   "id": "96ef7e35-12c8-48a6-af13-874efa19814f",
   "metadata": {},
   "outputs": [
    {
     "ename": "NameError",
     "evalue": "name 'data_type' is not defined",
     "output_type": "error",
     "traceback": [
      "\u001b[0;31m---------------------------------------------------------------------------\u001b[0m",
      "\u001b[0;31mNameError\u001b[0m                                 Traceback (most recent call last)",
      "Cell \u001b[0;32mIn[7], line 7\u001b[0m\n\u001b[1;32m      5\u001b[0m \u001b[38;5;66;03m#Load the data\u001b[39;00m\n\u001b[1;32m      6\u001b[0m folder \u001b[38;5;241m=\u001b[39m \u001b[38;5;124m'\u001b[39m\u001b[38;5;124m/user/home/ko20929/work/RBD_using_custom_package/Blue_pebble/Connectivity/\u001b[39m\u001b[38;5;124m'\u001b[39m\n\u001b[0;32m----> 7\u001b[0m X \u001b[38;5;241m=\u001b[39m pd\u001b[38;5;241m.\u001b[39mread_hdf(folder \u001b[38;5;241m+\u001b[39m \u001b[43mdata_type\u001b[49m\u001b[38;5;241m+\u001b[39m \u001b[38;5;124m'\u001b[39m\u001b[38;5;124m_coherence_df.h5\u001b[39m\u001b[38;5;124m'\u001b[39m)\n\u001b[1;32m      8\u001b[0m X \u001b[38;5;241m=\u001b[39m X\u001b[38;5;241m.\u001b[39mreset_index(drop \u001b[38;5;241m=\u001b[39m \u001b[38;5;28;01mTrue\u001b[39;00m)\n\u001b[1;32m      9\u001b[0m y \u001b[38;5;241m=\u001b[39m pd\u001b[38;5;241m.\u001b[39mread_hdf(\u001b[38;5;124m'\u001b[39m\u001b[38;5;124m/user/home/ko20929/work/RBD_using_custom_package/Blue_pebble/C_22_data/Full_dfs/\u001b[39m\u001b[38;5;124m'\u001b[39m \u001b[38;5;241m+\u001b[39m data_type \u001b[38;5;241m+\u001b[39m \u001b[38;5;124m'\u001b[39m\u001b[38;5;124m_y.h5\u001b[39m\u001b[38;5;124m'\u001b[39m)\n",
      "\u001b[0;31mNameError\u001b[0m: name 'data_type' is not defined"
     ]
    }
   ],
   "source": [
    "#Define power band names\n",
    "power_bands = {'delta' : (0.5,4) , 'theta' : (4,8) , 'alpha' : (8,12) , 'sigma' : (12,16) , 'beta' : (16,30) , 'gamma' : (30,40) }\n",
    "power_band_names = [val for val in power_bands.keys()]\n",
    "\n",
    "#Load the data\n",
    "folder = '/user/home/ko20929/work/RBD_using_custom_package/Blue_pebble/Connectivity/'\n",
    "X = pd.read_hdf(folder + data_type+ '_coherence_df.h5')\n",
    "X = X.reset_index(drop = True)\n",
    "y = pd.read_hdf('/user/home/ko20929/work/RBD_using_custom_package/Blue_pebble/C_22_data/Full_dfs/' + data_type + '_y.h5')\n",
    "groups = pd.read_hdf('/user/home/ko20929/work/RBD_using_custom_package/Blue_pebble/C_22_data/Full_dfs/' + data_type + '_groups.h5')\n",
    "\n",
    "#Define subsets of features to be used in Experiments\n",
    "subsets_dict = {}\n",
    "for p_band in power_band_names:\n",
    "    subsets_dict[p_band] = [col for col in X.columns if p_band in col]\n",
    "subsets_dict['all_features'] = [col for col in X.columns]"
   ]
  },
  {
   "cell_type": "code",
   "execution_count": 4,
   "id": "eaf018fe-624e-4cf9-b464-30769acf6dc3",
   "metadata": {},
   "outputs": [],
   "source": [
    "power_bands = {'delta' : (0.5,4) , 'theta' : (4,8) , 'alpha' : (8,12) , 'sigma' : (12,16) , 'beta' : (16,30) , 'gamma' : (30,40) }\n",
    "power_band_names = [val for val in power_bands.keys()]"
   ]
  },
  {
   "cell_type": "code",
   "execution_count": 5,
   "id": "cd7018ee-5f7c-46c4-9c10-b2c45fb891e3",
   "metadata": {},
   "outputs": [
    {
     "ename": "NameError",
     "evalue": "name 'X' is not defined",
     "output_type": "error",
     "traceback": [
      "\u001b[0;31m---------------------------------------------------------------------------\u001b[0m",
      "\u001b[0;31mNameError\u001b[0m                                 Traceback (most recent call last)",
      "Cell \u001b[0;32mIn[5], line 3\u001b[0m\n\u001b[1;32m      1\u001b[0m subsets_dict \u001b[38;5;241m=\u001b[39m {}\n\u001b[1;32m      2\u001b[0m \u001b[38;5;28;01mfor\u001b[39;00m p_band \u001b[38;5;129;01min\u001b[39;00m power_band_names:\n\u001b[0;32m----> 3\u001b[0m     subsets_dict[p_band] \u001b[38;5;241m=\u001b[39m [col \u001b[38;5;28;01mfor\u001b[39;00m col \u001b[38;5;129;01min\u001b[39;00m \u001b[43mX\u001b[49m\u001b[38;5;241m.\u001b[39mcolumns \u001b[38;5;28;01mif\u001b[39;00m p_band \u001b[38;5;129;01min\u001b[39;00m col]\n\u001b[1;32m      4\u001b[0m subsets_dict[\u001b[38;5;124m'\u001b[39m\u001b[38;5;124mall_features\u001b[39m\u001b[38;5;124m'\u001b[39m] \u001b[38;5;241m=\u001b[39m [col \u001b[38;5;28;01mfor\u001b[39;00m col \u001b[38;5;129;01min\u001b[39;00m X\u001b[38;5;241m.\u001b[39mcolumns]\n",
      "\u001b[0;31mNameError\u001b[0m: name 'X' is not defined"
     ]
    }
   ],
   "source": [
    "subsets_dict = {}\n",
    "for p_band in power_band_names:\n",
    "    subsets_dict[p_band] = [col for col in X.columns if p_band in col]\n",
    "subsets_dict['all_features'] = [col for col in X.columns]"
   ]
  },
  {
   "cell_type": "code",
   "execution_count": null,
   "id": "0d090d72-130b-4ca2-b7fa-34e69fcb323d",
   "metadata": {},
   "outputs": [],
   "source": []
  }
 ],
 "metadata": {
  "kernelspec": {
   "display_name": "Python 3 (ipykernel)",
   "language": "python",
   "name": "python3"
  },
  "language_info": {
   "codemirror_mode": {
    "name": "ipython",
    "version": 3
   },
   "file_extension": ".py",
   "mimetype": "text/x-python",
   "name": "python",
   "nbconvert_exporter": "python",
   "pygments_lexer": "ipython3",
   "version": "3.11.3"
  }
 },
 "nbformat": 4,
 "nbformat_minor": 5
}
