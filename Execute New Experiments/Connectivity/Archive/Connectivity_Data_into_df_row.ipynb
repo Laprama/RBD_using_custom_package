{
 "cells": [
  {
   "cell_type": "code",
   "execution_count": 1,
   "id": "596b1453-e23a-40dd-890a-1f506c1a351b",
   "metadata": {},
   "outputs": [
    {
     "name": "stderr",
     "output_type": "stream",
     "text": [
      "/user/home/ko20929/.conda/envs/sktime_latest/lib/python3.11/site-packages/antropy/fractal.py:197: NumbaDeprecationWarning: The 'nopython' keyword argument was not supplied to the 'numba.jit' decorator. The implicit default value for this argument is currently False, but it will be changed to True in Numba 0.59.0. See https://numba.readthedocs.io/en/stable/reference/deprecation.html#deprecation-of-object-mode-fall-back-behaviour-when-using-jit for details.\n",
      "  @jit((types.Array(types.float64, 1, \"C\", readonly=True), types.int32))\n"
     ]
    }
   ],
   "source": [
    "import pandas as pd\n",
    "import mne as mne\n",
    "import os \n",
    "import time\n",
    "import numpy as np\n",
    "import matplotlib.pyplot as plt\n",
    "import joblib\n",
    "import constants\n",
    "from IPython.utils import io\n",
    "import time\n",
    "import sys\n",
    "import yasa\n",
    "from scipy.signal import welch\n",
    "\n",
    "#Import my modules\n",
    "import format_eeg_data\n",
    "import constants\n",
    "import eeg_stat_ts\n",
    "\n",
    "from mne_connectivity import spectral_connectivity_epochs\n",
    "from mne.datasets import sample\n",
    "import seaborn as sns\n",
    "\n",
    "from scipy.signal import welch\n",
    "import yasa\n",
    "import constants\n",
    "import numpy as np"
   ]
  },
  {
   "cell_type": "code",
   "execution_count": 50,
   "id": "c5731edb-d204-494a-bcb7-04fa1616e2ca",
   "metadata": {},
   "outputs": [],
   "source": [
    "['selected_paths', 's_class_list', 's_night_list', 's_sleep_type', 's_p_id']\n",
    "# data_type in ['Wake','N1', 'N2', 'N3', 'REM']:\n",
    "data_type = 'Wake'\n",
    "paths = joblib.load('/user/home/ko20929/work/RBD_using_custom_package/Blue_pebble/' + data_type + '_paths.pkl')"
   ]
  },
  {
   "cell_type": "code",
   "execution_count": 75,
   "id": "5f146da7-40aa-4456-b2fd-34a9012ff80a",
   "metadata": {},
   "outputs": [],
   "source": [
    "%%capture captured_output\n",
    "\n",
    "t1 = time.time()\n",
    "\n",
    "connectivity_df_list = []\n",
    "\n",
    "for path in paths['selected_paths']:\n",
    "    #1. Load the data \n",
    "    channels = constants.channel_list\n",
    "    \n",
    "    \n",
    "    print(path)\n",
    "    data_epo = mne.read_epochs(path)\n",
    "    df_full = data_epo.to_data_frame()\n",
    "    \n",
    "    # 2. Define the power bands\n",
    "    \n",
    "    power_bands = {'delta' : (0.5,4) , 'theta' : (4,8) , 'alpha' : (8,12) , 'sigma' : (12,16) , 'beta' : (16,30) , 'gamma' : (30,40) }\n",
    "    \n",
    "    fmin = [float(val[0]) for val in power_bands.values()]\n",
    "    fmax = [float(val[1]) for val in power_bands.values()]\n",
    "    \n",
    "    #generate coherence data across electrodes\n",
    "    con_pli =  spectral_connectivity_epochs(data_epo , method='coh' , sfreq=256,fmin=fmin, fmax=fmax, faverage=True)\n",
    "    \n",
    "    #3. Generate all of the power band dataframes for that sample and add to power_band_coherence_dfs dictionary\n",
    "    power_band_coherence_dfs = {}\n",
    "    for power_band_index, power_band in enumerate(list(power_bands.keys())):\n",
    "        \n",
    "        channel_names = channels\n",
    "        connectivity_data = con_pli.get_data('dense')[:, : , power_band_index]\n",
    "        \n",
    "        channel_data = connectivity_data\n",
    "        \n",
    "        # Create an empty DataFrame\n",
    "        df = pd.DataFrame(index=channel_names, columns=channel_names)\n",
    "        \n",
    "        # Fill the DataFrame with connectivity values\n",
    "        for i in range(len(channel_names)):\n",
    "            for j in range(len(channel_names)):\n",
    "                channel_1 = channel_names[i]\n",
    "                channel_2 = channel_names[j]\n",
    "                connectivity_value = channel_data[i, j]\n",
    "                df.loc[channel_1, channel_2] = connectivity_value\n",
    "                df.loc[channel_2, channel_1] = connectivity_value\n",
    "        \n",
    "        df = df.apply(pd.to_numeric)\n",
    "        \n",
    "        power_band_coherence_dfs[power_band] = df\n",
    "    \n",
    "    new_df_row = {}\n",
    "    \n",
    "    #4. Go through all of the power_bands and add data as a column for a new dataframe with power_band + channel_1 + channel_2 as feature(s) \n",
    "    for power_band in list(power_bands.keys()):\n",
    "        print(power_band)\n",
    "        df = power_band_coherence_dfs[power_band]\n",
    "        for i, channel in enumerate(channels):\n",
    "            for channel_2 in channels[i+1:]:\n",
    "                val = df.loc[channel, channel_2]\n",
    "                new_df_row[power_band + '_' + channel + '_' + channel_2] = [val]\n",
    "    \n",
    "    new_df = pd.DataFrame.from_dict(new_df_row, orient = 'columns')\n",
    "\n",
    "    connectivity_df_list.append(new_df)\n",
    "\n",
    "t2 = time.time()"
   ]
  },
  {
   "cell_type": "code",
   "execution_count": 77,
   "id": "2c849f5c-683e-4793-bbca-b25df59c7675",
   "metadata": {},
   "outputs": [],
   "source": [
    "wake_connectivity_df = pd.concat(connectivity_df_list)"
   ]
  },
  {
   "cell_type": "code",
   "execution_count": 79,
   "id": "8374142f-13d4-4a33-8a11-898009960d15",
   "metadata": {},
   "outputs": [],
   "source": [
    "folder = '/user/home/ko20929/work/RBD_using_custom_package/Blue_pebble/Connectivity/'\n",
    "wake_connectivity_df = pd.concat(connectivity_df_list)\n",
    "wake_connectivity_df.to_hdf(folder + 'Wake_coherence_df.h5' , key = 'df' , mode = 'w')"
   ]
  },
  {
   "cell_type": "code",
   "execution_count": null,
   "id": "1e56c992-b9d4-48d3-a067-c39c99ece5e5",
   "metadata": {},
   "outputs": [],
   "source": []
  },
  {
   "cell_type": "code",
   "execution_count": null,
   "id": "8cfe6685-c6e4-4350-92ee-f15b23132d4a",
   "metadata": {},
   "outputs": [],
   "source": []
  }
 ],
 "metadata": {
  "kernelspec": {
   "display_name": "Python 3 (ipykernel)",
   "language": "python",
   "name": "python3"
  },
  "language_info": {
   "codemirror_mode": {
    "name": "ipython",
    "version": 3
   },
   "file_extension": ".py",
   "mimetype": "text/x-python",
   "name": "python",
   "nbconvert_exporter": "python",
   "pygments_lexer": "ipython3",
   "version": "3.11.3"
  }
 },
 "nbformat": 4,
 "nbformat_minor": 5
}
