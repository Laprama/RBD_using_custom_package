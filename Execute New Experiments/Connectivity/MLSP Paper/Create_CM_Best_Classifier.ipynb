{
 "cells": [
  {
   "cell_type": "code",
   "execution_count": 1,
   "id": "ebdc039c-da1e-430b-94b2-c913024cf8df",
   "metadata": {},
   "outputs": [
    {
     "name": "stderr",
     "output_type": "stream",
     "text": [
      "/user/home/ko20929/.conda/envs/sktime_latest/lib/python3.11/site-packages/antropy/fractal.py:197: NumbaDeprecationWarning: \u001b[1mThe 'nopython' keyword argument was not supplied to the 'numba.jit' decorator. The implicit default value for this argument is currently False, but it will be changed to True in Numba 0.59.0. See https://numba.readthedocs.io/en/stable/reference/deprecation.html#deprecation-of-object-mode-fall-back-behaviour-when-using-jit for details.\u001b[0m\n",
      "  @jit((types.Array(types.float64, 1, \"C\", readonly=True), types.int32))\n",
      "/user/home/ko20929/.conda/envs/sktime_latest/lib/python3.11/site-packages/outdated/utils.py:14: OutdatedPackageWarning: The package yasa is out of date. Your version is 0.6.3, the latest is 0.6.4.\n",
      "Set the environment variable OUTDATED_IGNORE=1 to disable these warnings.\n",
      "  return warn(\n"
     ]
    }
   ],
   "source": [
    "import pandas as pd\n",
    "import mne as mne\n",
    "import os \n",
    "import time\n",
    "import numpy as np\n",
    "import matplotlib.pyplot as plt\n",
    "import joblib\n",
    "import constants\n",
    "from IPython.utils import io\n",
    "import time\n",
    "import sys\n",
    "import yasa\n",
    "from scipy.signal import welch\n",
    "\n",
    "from sklearn.model_selection import train_test_split\n",
    "from sklearn.pipeline import Pipeline\n",
    "from sklearn.model_selection import GroupShuffleSplit\n",
    "\n",
    "\n",
    "from sklearn.tree import DecisionTreeClassifier\n",
    "from sklearn.ensemble import RandomForestClassifier\n",
    "from sklearn.svm import SVC\n",
    "from sklearn.ensemble import AdaBoostClassifier\n",
    "\n",
    "#Import my modules\n",
    "import format_eeg_data\n",
    "import constants\n",
    "import eeg_stat_ts\n",
    "import run_expts\n",
    "\n",
    "# Using Load results 1 as a base - here I load all of the results to create necessary tables and do statistical significance tests\n",
    "import calculate_results #This module will help me to calculate the per fold metrics\n",
    "\n",
    "# Set display options to show all rows and columns\n",
    "pd.set_option('display.max_rows', 50)  # Show rows\n",
    "pd.set_option('display.max_columns', 160)  # Show columns"
   ]
  },
  {
   "cell_type": "code",
   "execution_count": 9,
   "id": "5a435bf9-c45b-471a-a0ca-6170957a1d0d",
   "metadata": {},
   "outputs": [],
   "source": [
    "%%capture\n",
    "data_types = ['REM', 'N1', 'N2', 'N3', 'Wake']\n",
    "\n",
    "folder = '/user/home/ko20929/work/RBD_using_custom_package/Execute New Experiments/Connectivity/view_combined_results/'\n",
    "\n",
    "f_names = ['bpw_plus_max_freqMinimal_connectivity_pli_gamma.pkl',\n",
    " 'bpw_plus_max_freqMinimal_connectivity_pli_delta.pkl',\n",
    " 'bpw_plus_max_freqMinimal_connectivity_pli_sigma.pkl',\n",
    " 'bpw_plus_max_freqMinimal_connectivity_pli_alpha.pkl',\n",
    " 'bpw_plus_max_freqMinimal_connectivity_pli_beta.pkl',\n",
    " 'bpw_plus_max_freqMinimal_connectivity_pli_theta.pkl']\n",
    "\n",
    "bands = [ 'gamma', 'delta', 'sigma', 'alpha' , 'beta' , 'theta']\n",
    "\n",
    "\n",
    "# Create summary results dictionary that will be filled and populated\n",
    "summary_results_dict = {}\n",
    "summary_results_dict['band'] = []\n",
    "# for data_type in data_types:\n",
    "for data_type in ['N1']:\n",
    "    summary_results_dict[data_type + '_model'] = []\n",
    "    summary_results_dict[data_type + '_acc'] = []\n",
    "    summary_results_dict[data_type + '_acc' + '_std'] = []\n",
    "\n",
    "error_list = []\n",
    "\n",
    "# for band in bands:\n",
    "for band in ['gamma']:    \n",
    "    summary_results_dict['band'].append(band)\n",
    "    f_name = 'bpw_plus_max_freqMinimal_connectivity_pli_' + band + '.pkl' \n",
    "    load_path = folder + f_name\n",
    "    results_dict = joblib.load(folder + f_name)[1]\n",
    "\n",
    "\n",
    "    \n",
    "    # for data_type in data_types:\n",
    "    for data_type in ['N1']:\n",
    "        try:\n",
    "            \n",
    "            results_df = results_dict[data_type]['regions_combined']\n",
    "\n",
    "            results_df = results_df[ ['random_state', 'y_true'] + [col for col in results_df.columns if 'Ada' in col] ]\n",
    "            \n",
    "            # raw_results[method][data_type] = results_df\n",
    "\n",
    "        \n",
    "            \n",
    "            res_df = run_expts.generate_subset_acc_std(results_df, return_df = True)\n",
    "            # This will get you best performing Ada Model and Value for each band for each data type\n",
    "            best_acc = res_df.mean(axis = 0)[1:].max()\n",
    "            best_model = res_df.mean(axis = 0)[1:].idxmax()\n",
    "\n",
    "            #Use the summary res_df to identify best model, keep raw results of best model to calculate the true std\n",
    "            results_df_trimmed = results_df[ list(results_df.columns)[:2] + [col for col in results_df.columns if best_model[:-4] in col] ]\n",
    "            per_fold_metrics = calculate_results.calc_per_fold_metrics(results_df_trimmed)\n",
    "            overalled_weighted_df = calculate_results.overall_weighted_metrics(per_fold_metrics)\n",
    "            \n",
    "            std_val = overalled_weighted_df[best_model + '_std'].values[0]\n",
    "\n",
    "            summary_results_dict[data_type + '_model'].append(best_model[:-10])\n",
    "            summary_results_dict[data_type + '_acc'].append(best_acc)\n",
    "            summary_results_dict[data_type + '_acc' + '_std'].append(std_val)\n",
    "        except:\n",
    "            error_list.append(band, data_type)"
   ]
  },
  {
   "cell_type": "code",
   "execution_count": 10,
   "id": "5500b7d8-80c1-44e4-bb8f-a1aadec877de",
   "metadata": {},
   "outputs": [
    {
     "data": {
      "text/html": [
       "<div>\n",
       "<style scoped>\n",
       "    .dataframe tbody tr th:only-of-type {\n",
       "        vertical-align: middle;\n",
       "    }\n",
       "\n",
       "    .dataframe tbody tr th {\n",
       "        vertical-align: top;\n",
       "    }\n",
       "\n",
       "    .dataframe thead th {\n",
       "        text-align: right;\n",
       "    }\n",
       "</style>\n",
       "<table border=\"1\" class=\"dataframe\">\n",
       "  <thead>\n",
       "    <tr style=\"text-align: right;\">\n",
       "      <th></th>\n",
       "      <th>band</th>\n",
       "      <th>N1_model</th>\n",
       "      <th>N1_acc</th>\n",
       "      <th>N1_acc_std</th>\n",
       "    </tr>\n",
       "  </thead>\n",
       "  <tbody>\n",
       "    <tr>\n",
       "      <th>0</th>\n",
       "      <td>gamma</td>\n",
       "      <td>Frontal_Occipital</td>\n",
       "      <td>0.913</td>\n",
       "      <td>0.081</td>\n",
       "    </tr>\n",
       "  </tbody>\n",
       "</table>\n",
       "</div>"
      ],
      "text/plain": [
       "    band           N1_model  N1_acc  N1_acc_std\n",
       "0  gamma  Frontal_Occipital   0.913       0.081"
      ]
     },
     "execution_count": 10,
     "metadata": {},
     "output_type": "execute_result"
    }
   ],
   "source": [
    "summary_results_df = pd.DataFrame(summary_results_dict)\n",
    "summary_results_df = summary_results_df.round(3)\n",
    "summary_results_df"
   ]
  },
  {
   "cell_type": "code",
   "execution_count": 28,
   "id": "e9f9096d-ba85-41c0-8c1c-8800613ab275",
   "metadata": {},
   "outputs": [
    {
     "data": {
      "text/html": [
       "<div>\n",
       "<style scoped>\n",
       "    .dataframe tbody tr th:only-of-type {\n",
       "        vertical-align: middle;\n",
       "    }\n",
       "\n",
       "    .dataframe tbody tr th {\n",
       "        vertical-align: top;\n",
       "    }\n",
       "\n",
       "    .dataframe thead th {\n",
       "        text-align: right;\n",
       "    }\n",
       "</style>\n",
       "<table border=\"1\" class=\"dataframe\">\n",
       "  <thead>\n",
       "    <tr style=\"text-align: right;\">\n",
       "      <th></th>\n",
       "      <th>random_state</th>\n",
       "      <th>y_true</th>\n",
       "      <th>Frontal_Occipital_Ada_B_y_preds</th>\n",
       "    </tr>\n",
       "  </thead>\n",
       "  <tbody>\n",
       "    <tr>\n",
       "      <th>0</th>\n",
       "      <td>1</td>\n",
       "      <td>[[0, 0, 0, 0, 0, 0, 1, 1], [0, 0, 0, 1, 1, 1, ...</td>\n",
       "      <td>[[0, 0, 0, 0, 0, 0, 1, 0], [0, 0, 0, 1, 1, 0, ...</td>\n",
       "    </tr>\n",
       "    <tr>\n",
       "      <th>1</th>\n",
       "      <td>2</td>\n",
       "      <td>[[0, 0, 0, 0, 0, 0, 0, 1], [0, 0, 0, 0, 1, 1, ...</td>\n",
       "      <td>[[0, 0, 0, 0, 0, 0, 0, 1], [0, 0, 0, 0, 1, 1, ...</td>\n",
       "    </tr>\n",
       "  </tbody>\n",
       "</table>\n",
       "</div>"
      ],
      "text/plain": [
       "   random_state                                             y_true  \\\n",
       "0             1  [[0, 0, 0, 0, 0, 0, 1, 1], [0, 0, 0, 1, 1, 1, ...   \n",
       "1             2  [[0, 0, 0, 0, 0, 0, 0, 1], [0, 0, 0, 0, 1, 1, ...   \n",
       "\n",
       "                     Frontal_Occipital_Ada_B_y_preds  \n",
       "0  [[0, 0, 0, 0, 0, 0, 1, 0], [0, 0, 0, 1, 1, 0, ...  \n",
       "1  [[0, 0, 0, 0, 0, 0, 0, 1], [0, 0, 0, 0, 1, 1, ...  "
      ]
     },
     "execution_count": 28,
     "metadata": {},
     "output_type": "execute_result"
    }
   ],
   "source": [
    "results_df = results_df_trimmed.iloc[:, :3]\n",
    "results_df"
   ]
  },
  {
   "cell_type": "code",
   "execution_count": 44,
   "id": "ad4d9292-d7fc-4399-bd1b-7b8eb9c3c360",
   "metadata": {},
   "outputs": [
    {
     "data": {
      "text/plain": [
       "[array([0, 0, 0, 0, 0, 0, 1, 0]),\n",
       " array([0, 0, 0, 1, 1, 0, 1, 1]),\n",
       " array([0, 0, 0, 0, 1, 1, 1, 1]),\n",
       " array([0, 0, 0, 0, 0, 1, 1, 1]),\n",
       " array([0, 0, 0, 0, 0, 0, 0, 0]),\n",
       " array([0, 0, 0, 0, 0, 0, 0, 1]),\n",
       " array([0, 0, 0, 0, 1, 1, 1, 1]),\n",
       " array([0, 0, 0, 0, 0, 1, 1, 0]),\n",
       " array([0, 0, 0, 0, 0, 1, 1, 1]),\n",
       " array([1, 0, 0, 0, 0, 1, 1, 0])]"
      ]
     },
     "execution_count": 44,
     "metadata": {},
     "output_type": "execute_result"
    }
   ],
   "source": [
    "results_df.Frontal_Occipital_Ada_B_y_preds.values[0] + results_df.Frontal_Occipital_Ada_B_y_preds.values[1]"
   ]
  },
  {
   "cell_type": "code",
   "execution_count": 27,
   "id": "f5bb4348-7b57-41c3-8fc4-b445d38419d0",
   "metadata": {},
   "outputs": [],
   "source": [
    "from sklearn.metrics import confusion_matrix, ConfusionMatrixDisplay"
   ]
  },
  {
   "cell_type": "code",
   "execution_count": 45,
   "id": "fcac531c-22d5-41cf-b40c-6f5f6ef28cc9",
   "metadata": {},
   "outputs": [],
   "source": [
    "y_true = np.concatenate( [ arr.values for arr in results_df.y_true.values[0] + results_df.y_true.values[1] ] )\n",
    "y_preds = np.concatenate(results_df.Frontal_Occipital_Ada_B_y_preds.values[0] + results_df.Frontal_Occipital_Ada_B_y_preds.values[1] )"
   ]
  },
  {
   "cell_type": "code",
   "execution_count": null,
   "id": "d389edb0-4d6f-4184-a34d-befeb95aab0a",
   "metadata": {},
   "outputs": [],
   "source": [
    "plt.savefig"
   ]
  },
  {
   "cell_type": "code",
   "execution_count": 63,
   "id": "6559bf90-9da3-4a68-9ce1-3f6945842710",
   "metadata": {},
   "outputs": [
    {
     "data": {
      "image/png": "[encoded data removed]",
      "text/plain": [
       "<Figure size 640x480 with 2 Axes>"
      ]
     },
     "metadata": {},
     "output_type": "display_data"
    }
   ],
   "source": [
    "cm = confusion_matrix(y_true, y_preds)\n",
    "disp = ConfusionMatrixDisplay(confusion_matrix=cm,\n",
    "                               display_labels= ['HC' , 'PD'])\n",
    "disp.plot( xticks_rotation=45, cmap=plt.cm.Blues)\n",
    "plt.title('N1 PLI and Stat. Features combined classifier', pad = 10)\n",
    "\n",
    "plt.xlabel('Predicted label', fontsize=12)  # Increase x-axis label size\n",
    "plt.ylabel('True label', fontsize=12)  # Increase y-axis label size\n",
    "\n",
    "# Increase tick labels size\n",
    "plt.xticks(fontsize=11)  # Increase x-axis tick label size\n",
    "plt.yticks(fontsize=11)  # Increase y-axis tick label size\n",
    "plt.savefig('CM_best_clf.png', dpi = 200, bbox_inches=\"tight\")"
   ]
  },
  {
   "cell_type": "code",
   "execution_count": null,
   "id": "85551b0c-6371-4fe3-a7bd-a2aa972cd91e",
   "metadata": {},
   "outputs": [],
   "source": []
  }
 ],
 "metadata": {
  "kernelspec": {
   "display_name": "Python 3 (ipykernel)",
   "language": "python",
   "name": "python3"
  },
  "language_info": {
   "codemirror_mode": {
    "name": "ipython",
    "version": 3
   },
   "file_extension": ".py",
   "mimetype": "text/x-python",
   "name": "python",
   "nbconvert_exporter": "python",
   "pygments_lexer": "ipython3",
   "version": "3.11.3"
  }
 },
 "nbformat": 4,
 "nbformat_minor": 5
}
