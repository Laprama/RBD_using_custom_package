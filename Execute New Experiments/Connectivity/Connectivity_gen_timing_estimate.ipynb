{
 "cells": [
  {
   "cell_type": "code",
   "execution_count": 1,
   "id": "0cbe0d77-92d7-4728-973e-2646d06576c1",
   "metadata": {},
   "outputs": [
    {
     "name": "stderr",
     "output_type": "stream",
     "text": [
      "/user/home/ko20929/.conda/envs/sktime_latest/lib/python3.11/site-packages/antropy/fractal.py:197: NumbaDeprecationWarning: The 'nopython' keyword argument was not supplied to the 'numba.jit' decorator. The implicit default value for this argument is currently False, but it will be changed to True in Numba 0.59.0. See https://numba.readthedocs.io/en/stable/reference/deprecation.html#deprecation-of-object-mode-fall-back-behaviour-when-using-jit for details.\n",
      "  @jit((types.Array(types.float64, 1, \"C\", readonly=True), types.int32))\n"
     ]
    }
   ],
   "source": [
    "import pandas as pd\n",
    "import mne as mne\n",
    "import os \n",
    "import time\n",
    "import numpy as np\n",
    "import matplotlib.pyplot as plt\n",
    "import joblib\n",
    "import constants\n",
    "from IPython.utils import io\n",
    "import time\n",
    "import sys\n",
    "import yasa\n",
    "from scipy.signal import welch\n",
    "\n",
    "from sklearn.model_selection import train_test_split\n",
    "from sklearn.ensemble import RandomForestClassifier\n",
    "\n",
    "from sklearn.metrics import accuracy_score\n",
    "\n",
    "#Import my modules\n",
    "import format_eeg_data\n",
    "import constants\n",
    "import eeg_stat_ts\n",
    "import run_expts\n",
    "\n",
    "\n",
    "from mne_connectivity import spectral_connectivity_epochs\n",
    "from mne.datasets import sample\n",
    "import seaborn as sns\n",
    "\n",
    "from scipy.signal import welch\n",
    "import yasa\n",
    "import constants\n",
    "import numpy as np"
   ]
  },
  {
   "cell_type": "code",
   "execution_count": 4,
   "id": "15bcf878-f565-4a02-806e-4f8e3461b24a",
   "metadata": {},
   "outputs": [],
   "source": [
    "data_types = ['N1', 'N2' , 'N3' , 'REM']\n",
    "data_type = 'N2'\n",
    "paths = joblib.load('/user/home/ko20929/work/RBD_using_custom_package/Blue_pebble/' + data_type + '_paths.pkl')"
   ]
  },
  {
   "cell_type": "code",
   "execution_count": 14,
   "id": "9ed46f95-0046-4d09-95d3-4decf9e0f2e6",
   "metadata": {},
   "outputs": [],
   "source": [
    "%%capture captured_output\n",
    "t1 = time.time()\n",
    "len_epochs = []\n",
    "for path in paths['selected_paths']:\n",
    "    data_epo = mne.read_epochs(path)\n",
    "    df_full = data_epo.to_data_frame()\n",
    "    len_epochs.append(len(df_full))\n",
    "\n",
    "t2 = time.time()"
   ]
  },
  {
   "cell_type": "code",
   "execution_count": 20,
   "id": "3b149141-115b-4e73-98c0-59f4c1411789",
   "metadata": {},
   "outputs": [
    {
     "data": {
      "text/plain": [
       "Text(0.5, 1.0, 'Length of N2 data in epochs')"
      ]
     },
     "execution_count": 20,
     "metadata": {},
     "output_type": "execute_result"
    },
    {
     "data": {
      "image/png": "[encoded data removed]",
      "text/plain": [
       "<Figure size 640x480 with 1 Axes>"
      ]
     },
     "metadata": {},
     "output_type": "display_data"
    }
   ],
   "source": [
    "plt.hist([val  / (30*256) for val in len_epochs])\n",
    "plt.title('Length of N2 data in epochs') "
   ]
  },
  {
   "cell_type": "code",
   "execution_count": 43,
   "id": "4bafb21b-13cb-4d6d-8382-4c5ee10e375d",
   "metadata": {},
   "outputs": [
    {
     "data": {
      "text/plain": [
       "[33, 0, 1, 34, 25, 62, 35]"
      ]
     },
     "execution_count": 43,
     "metadata": {},
     "output_type": "execute_result"
    }
   ],
   "source": [
    "epoch_lengths = [val  / (30*256) for val in len_epochs]\n",
    "selected_epoch_lengths = [10.0 , 33.0, 48.0, 56.0, 72.0 , 120.0, 142.0]\n",
    "selected_indices = [epoch_lengths.index(val) for val in selected_epoch_lengths]\n",
    "selected_indices"
   ]
  },
  {
   "cell_type": "code",
   "execution_count": 47,
   "id": "ea4d18ed-d932-40b8-b6a4-8a29aa5645e0",
   "metadata": {},
   "outputs": [
    {
     "name": "stdout",
     "output_type": "stream",
     "text": [
      "Reading /user/work/ko20929/fif_files/N2_data/RBD_2206_Night 1_N2.fif ...\n",
      "    Read a total of 1 projection items:\n",
      "        Average EEG reference (1 x 55) active\n",
      "    Found the data of interest:\n",
      "        t =       0.00 ...   29996.09 ms\n",
      "        0 CTF compensation matrices available\n",
      "Not setting metadata\n",
      "10 matching events found\n",
      "No baseline correction applied\n",
      "Created an SSP operator (subspace dimension = 1)\n",
      "1 projection items activated\n"
     ]
    },
    {
     "name": "stderr",
     "output_type": "stream",
     "text": [
      "/tmp/ipykernel_127903/964056680.py:1: RuntimeWarning: This filename (/user/work/ko20929/fif_files/N2_data/RBD_2206_Night 1_N2.fif) does not conform to MNE naming conventions. All epochs files should end with -epo.fif, -epo.fif.gz, _epo.fif or _epo.fif.gz\n",
      "  mne.read_epochs(paths['selected_paths'][path_num])\n"
     ]
    },
    {
     "data": {
      "text/html": [
       "<table class=\"table table-hover table-striped table-sm table-responsive small\">\n",
       "    <tr>\n",
       "        <th>Number of events</th>\n",
       "        <td>10</td>\n",
       "    </tr>\n",
       "    <tr>\n",
       "        <th>Events</th>\n",
       "        \n",
       "        <td>N2: 10</td>\n",
       "        \n",
       "    </tr>\n",
       "    <tr>\n",
       "        <th>Time range</th>\n",
       "        <td>0.000 – 29.996 s</td>\n",
       "    </tr>\n",
       "    <tr>\n",
       "        <th>Baseline</th>\n",
       "        <td>off</td>\n",
       "    </tr>\n",
       "</table>"
      ],
      "text/plain": [
       "<EpochsFIF |  10 events (all good), 0 – 29.9961 s, baseline off, ~33.5 MB, data loaded,\n",
       " 'N2': 10>"
      ]
     },
     "execution_count": 47,
     "metadata": {},
     "output_type": "execute_result"
    }
   ],
   "source": [
    "mne.read_epochs(paths['selected_paths'][path_num])"
   ]
  },
  {
   "cell_type": "code",
   "execution_count": 49,
   "id": "fd17eeee-94b4-409d-852b-dc5fe49d78df",
   "metadata": {},
   "outputs": [],
   "source": [
    "%%capture captured_output\n",
    "\n",
    "times = []\n",
    "\n",
    "for path_num in selected_indices:\n",
    "    t1 = time.time()\n",
    "    connectivity_df_list = []\n",
    "    for path in [paths['selected_paths'][path_num]]:\n",
    "        #1. Load the data \n",
    "        channels = constants.channel_list\n",
    "        \n",
    "        print(path)\n",
    "        data_epo = mne.read_epochs(path)\n",
    "        df_full = data_epo.to_data_frame()\n",
    "        \n",
    "        # 2. Define the power bands\n",
    "        \n",
    "        power_bands = {'delta' : (0.5,4) , 'theta' : (4,8) , 'alpha' : (8,12) , 'sigma' : (12,16) , 'beta' : (16,30) , 'gamma' : (30,40) }\n",
    "        \n",
    "        fmin = [float(val[0]) for val in power_bands.values()]\n",
    "        fmax = [float(val[1]) for val in power_bands.values()]\n",
    "        \n",
    "        #generate coherence data across electrodes\n",
    "        con_pli =  spectral_connectivity_epochs(data_epo , method='coh' , sfreq=256,fmin=fmin, fmax=fmax, faverage=True)\n",
    "        \n",
    "        #3. Generate all of the power band dataframes for that sample and add to power_band_coherence_dfs dictionary\n",
    "        power_band_coherence_dfs = {}\n",
    "        for power_band_index, power_band in enumerate(list(power_bands.keys())):\n",
    "            \n",
    "            channel_names = channels\n",
    "            connectivity_data = con_pli.get_data('dense')[:, : , power_band_index]\n",
    "            \n",
    "            channel_data = connectivity_data\n",
    "            \n",
    "            # Create an empty DataFrame\n",
    "            df = pd.DataFrame(index=channel_names, columns=channel_names)\n",
    "            \n",
    "            # Fill the DataFrame with connectivity values\n",
    "            for i in range(len(channel_names)):\n",
    "                for j in range(len(channel_names)):\n",
    "                    channel_1 = channel_names[i]\n",
    "                    channel_2 = channel_names[j]\n",
    "                    connectivity_value = channel_data[i, j]\n",
    "                    df.loc[channel_1, channel_2] = connectivity_value\n",
    "                    df.loc[channel_2, channel_1] = connectivity_value\n",
    "            \n",
    "            df = df.apply(pd.to_numeric)\n",
    "            \n",
    "            power_band_coherence_dfs[power_band] = df\n",
    "        \n",
    "        new_df_row = {}\n",
    "        \n",
    "        #4. Go through all of the power_bands and add data as a column for a new dataframe with power_band + channel_1 + channel_2 as feature(s) \n",
    "        for power_band in list(power_bands.keys()):\n",
    "            print(power_band)\n",
    "            df = power_band_coherence_dfs[power_band]\n",
    "            for i, channel in enumerate(channels):\n",
    "                for channel_2 in channels[i+1:]:\n",
    "                    val = df.loc[channel, channel_2]\n",
    "                    new_df_row[power_band + '_' + channel + '_' + channel_2] = [val]\n",
    "        \n",
    "        new_df = pd.DataFrame.from_dict(new_df_row, orient = 'columns')\n",
    "    \n",
    "        connectivity_df_list.append(new_df)\n",
    "\n",
    "    t2 = time.time()\n",
    "    print(t2-t1)\n",
    "    times.append(t2-t1)\n"
   ]
  },
  {
   "cell_type": "code",
   "execution_count": null,
   "id": "c78e16d3-15fa-488a-9841-c3862d777fe2",
   "metadata": {},
   "outputs": [],
   "source": [
    "6018294"
   ]
  },
  {
   "cell_type": "code",
   "execution_count": 70,
   "id": "ea21a2b6-0081-4a53-90ee-1d8d39a7a682",
   "metadata": {},
   "outputs": [
    {
     "data": {
      "text/plain": [
       "28.4"
      ]
     },
     "execution_count": 70,
     "metadata": {},
     "output_type": "execute_result"
    }
   ],
   "source": [
    "(30*0.8*71) / 60"
   ]
  },
  {
   "cell_type": "code",
   "execution_count": 63,
   "id": "ca5ae9a0-e479-4a1f-b1fc-c9d23ba2c7ce",
   "metadata": {},
   "outputs": [
    {
     "data": {
      "text/plain": [
       "284.0"
      ]
     },
     "execution_count": 63,
     "metadata": {},
     "output_type": "execute_result"
    }
   ],
   "source": [
    "( (300*0.8 )*71 ) / 60"
   ]
  },
  {
   "cell_type": "code",
   "execution_count": 65,
   "id": "c650d4dd-db5a-423d-87e5-48485d8b0126",
   "metadata": {},
   "outputs": [
    {
     "data": {
      "text/plain": [
       "4.733333333333333"
      ]
     },
     "execution_count": 65,
     "metadata": {},
     "output_type": "execute_result"
    }
   ],
   "source": [
    "284 / 60 "
   ]
  },
  {
   "cell_type": "code",
   "execution_count": 66,
   "id": "95392caf-aee1-48db-90f0-ccca00b4d42f",
   "metadata": {},
   "outputs": [
    {
     "data": {
      "text/plain": [
       "'-f'"
      ]
     },
     "execution_count": 66,
     "metadata": {},
     "output_type": "execute_result"
    }
   ],
   "source": [
    "sys.argv[1]"
   ]
  },
  {
   "cell_type": "code",
   "execution_count": 59,
   "id": "aa438f44-1ea0-4b89-bad3-1489426f9095",
   "metadata": {},
   "outputs": [
    {
     "data": {
      "image/png": "[encoded data removed]",
      "text/plain": [
       "<Figure size 640x480 with 1 Axes>"
      ]
     },
     "metadata": {},
     "output_type": "display_data"
    }
   ],
   "source": [
    "plt.scatter(selected_epoch_lengths, times)\n",
    "plt.plot(selected_epoch_lengths[:6], selected_epoch_lengths[:6])\n",
    "plt.plot(np.array(selected_epoch_lengths), np.array(selected_epoch_lengths) *0.58)\n",
    "plt.grid()"
   ]
  },
  {
   "cell_type": "code",
   "execution_count": null,
   "id": "94afbeb9-9e59-4310-ad04-9de0bb72c39d",
   "metadata": {},
   "outputs": [],
   "source": []
  }
 ],
 "metadata": {
  "kernelspec": {
   "display_name": "Python 3 (ipykernel)",
   "language": "python",
   "name": "python3"
  },
  "language_info": {
   "codemirror_mode": {
    "name": "ipython",
    "version": 3
   },
   "file_extension": ".py",
   "mimetype": "text/x-python",
   "name": "python",
   "nbconvert_exporter": "python",
   "pygments_lexer": "ipython3",
   "version": "3.11.3"
  }
 },
 "nbformat": 4,
 "nbformat_minor": 5
}
