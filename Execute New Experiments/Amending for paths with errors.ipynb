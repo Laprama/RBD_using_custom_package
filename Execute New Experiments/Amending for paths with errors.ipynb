{
 "cells": [
  {
   "cell_type": "code",
   "execution_count": 1,
   "id": "a6533db8",
   "metadata": {},
   "outputs": [
    {
     "name": "stderr",
     "output_type": "stream",
     "text": [
      "/export/sphere/ebirah/ko20929/miniconda3/envs/sktime_latest/lib/python3.11/site-packages/antropy/fractal.py:197: NumbaDeprecationWarning: The 'nopython' keyword argument was not supplied to the 'numba.jit' decorator. The implicit default value for this argument is currently False, but it will be changed to True in Numba 0.59.0. See https://numba.readthedocs.io/en/stable/reference/deprecation.html#deprecation-of-object-mode-fall-back-behaviour-when-using-jit for details.\n",
      "  @jit((types.Array(types.float64, 1, \"C\", readonly=True), types.int32))\n"
     ]
    }
   ],
   "source": [
    "from IPython.utils import io\n",
    "import pandas as pd\n",
    "import os\n",
    "from pathlib import Path\n",
    "from matplotlib import pyplot as plt\n",
    "from scipy.signal import find_peaks\n",
    "import numpy as np\n",
    "import seaborn as sns\n",
    "import time\n",
    "import joblib\n",
    "from os.path import exists\n",
    "import shutil\n",
    "import sys\n",
    "import time\n",
    "import mne\n",
    "\n",
    "from sklearn.model_selection import train_test_split\n",
    "#From my EEG package \n",
    "import run_expts\n",
    "import format_eeg_data\n",
    "import constants\n",
    "import eeg_stat_ts\n",
    "\n",
    "#Let me see as many results as I want to see\n",
    "pd.set_option('display.max_rows', 500)\n",
    "pd.set_option('display.max_columns', 500)\n",
    "\n",
    "from sktime.classification.feature_based import Catch22Classifier\n",
    "from sklearn.ensemble import RandomForestClassifier\n",
    "from sktime.datasets import load_unit_test\n",
    "from sktime.transformations.panel.catch22 import Catch22"
   ]
  },
  {
   "cell_type": "code",
   "execution_count": 2,
   "id": "9e8a4462",
   "metadata": {},
   "outputs": [],
   "source": [
    "paths , class_list, sleep_night_list , sleep_type_list , participant_id_list = constants.generate_paths_and_info()"
   ]
  },
  {
   "cell_type": "code",
   "execution_count": 3,
   "id": "d66f02f2",
   "metadata": {},
   "outputs": [
    {
     "data": {
      "text/plain": [
       "340"
      ]
     },
     "execution_count": 3,
     "metadata": {},
     "output_type": "execute_result"
    }
   ],
   "source": [
    "len(paths)"
   ]
  },
  {
   "cell_type": "code",
   "execution_count": 9,
   "id": "1c007ba2",
   "metadata": {},
   "outputs": [],
   "source": [
    "from IPython.utils import io"
   ]
  },
  {
   "cell_type": "code",
   "execution_count": 18,
   "id": "a9cf2f98",
   "metadata": {},
   "outputs": [],
   "source": [
    "test_paths = ['/export/sphere/ebirah/ko20929/RBD_files/All_data/N1_data/HC_1101_Night 2_N1.fif',\n",
    " '/export/sphere/ebirah/ko20929/RBD_files/All_data/N2_data/HC_1101_Night 2_N2.fif',\n",
    " '/export/sphere/ebirah/ko20929/RBD_files/All_data/N3_data/HC_1101_Night 2_N3.fif', 'lelnn']"
   ]
  },
  {
   "cell_type": "code",
   "execution_count": 19,
   "id": "ada09e3f",
   "metadata": {},
   "outputs": [
    {
     "name": "stdout",
     "output_type": "stream",
     "text": [
      "1.3666703701019287\n"
     ]
    }
   ],
   "source": [
    "t1 = time.time()\n",
    "error_paths = []\n",
    "with io.capture_output() as captured:\n",
    "    for path in test_paths:\n",
    "        try:\n",
    "            data_epo = mne.read_epochs(path)\n",
    "        except: \n",
    "            error_paths.append(path)\n",
    "t2 = time.time()\n",
    "\n",
    "print(t2-t1)"
   ]
  },
  {
   "cell_type": "code",
   "execution_count": 21,
   "id": "1dfbd330",
   "metadata": {},
   "outputs": [
    {
     "name": "stdout",
     "output_type": "stream",
     "text": [
      "3\n"
     ]
    }
   ],
   "source": [
    "for path in error_paths:\n",
    "    print(test_paths.index(path))"
   ]
  },
  {
   "cell_type": "code",
   "execution_count": 24,
   "id": "95d3b3e3",
   "metadata": {},
   "outputs": [],
   "source": [
    "#For each value in error paths \n",
    "#Find the index in path list \n",
    "#Remove from path list and all other lists \n",
    "\n",
    "#REPEAT"
   ]
  },
  {
   "cell_type": "code",
   "execution_count": 27,
   "id": "c9acf0b3",
   "metadata": {},
   "outputs": [
    {
     "ename": "IndexError",
     "evalue": "pop index out of range",
     "output_type": "error",
     "traceback": [
      "\u001b[0;31m---------------------------------------------------------------------------\u001b[0m",
      "\u001b[0;31mIndexError\u001b[0m                                Traceback (most recent call last)",
      "Cell \u001b[0;32mIn[27], line 3\u001b[0m\n\u001b[1;32m      1\u001b[0m test_list \u001b[38;5;241m=\u001b[39m [\u001b[38;5;241m0\u001b[39m,\u001b[38;5;241m1\u001b[39m,\u001b[38;5;241m2\u001b[39m,\u001b[38;5;124m'\u001b[39m\u001b[38;5;124m3\u001b[39m\u001b[38;5;124m'\u001b[39m,\u001b[38;5;241m9\u001b[39m, \u001b[38;5;241m3\u001b[39m, \u001b[38;5;241m1\u001b[39m,\u001b[38;5;241m0\u001b[39m]\n\u001b[0;32m----> 3\u001b[0m test_list\u001b[38;5;241m.\u001b[39mpop(\u001b[38;5;241m9\u001b[39m)\n\u001b[1;32m      5\u001b[0m test_list\n",
      "\u001b[0;31mIndexError\u001b[0m: pop index out of range"
     ]
    }
   ],
   "source": [
    "test_list = [0,1,2,'3',9, 3, 1,0]\n",
    "\n",
    "test_list.pop(9)\n",
    "\n",
    "test_list"
   ]
  },
  {
   "cell_type": "code",
   "execution_count": null,
   "id": "d4c66d95",
   "metadata": {},
   "outputs": [],
   "source": []
  }
 ],
 "metadata": {
  "kernelspec": {
   "display_name": "Python 3 (ipykernel)",
   "language": "python",
   "name": "python3"
  },
  "language_info": {
   "codemirror_mode": {
    "name": "ipython",
    "version": 3
   },
   "file_extension": ".py",
   "mimetype": "text/x-python",
   "name": "python",
   "nbconvert_exporter": "python",
   "pygments_lexer": "ipython3",
   "version": "3.11.3"
  }
 },
 "nbformat": 4,
 "nbformat_minor": 5
}
