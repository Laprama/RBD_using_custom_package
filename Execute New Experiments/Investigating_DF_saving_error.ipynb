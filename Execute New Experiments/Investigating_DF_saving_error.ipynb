{
 "cells": [
  {
   "cell_type": "code",
   "execution_count": 1,
   "id": "e8d6be6a",
   "metadata": {},
   "outputs": [
    {
     "name": "stderr",
     "output_type": "stream",
     "text": [
      "/export/sphere/ebirah/ko20929/miniconda3/envs/sktime_latest/lib/python3.11/site-packages/antropy/fractal.py:197: NumbaDeprecationWarning: The 'nopython' keyword argument was not supplied to the 'numba.jit' decorator. The implicit default value for this argument is currently False, but it will be changed to True in Numba 0.59.0. See https://numba.readthedocs.io/en/stable/reference/deprecation.html#deprecation-of-object-mode-fall-back-behaviour-when-using-jit for details.\n",
      "  @jit((types.Array(types.float64, 1, \"C\", readonly=True), types.int32))\n"
     ]
    }
   ],
   "source": [
    "from IPython.utils import io\n",
    "import pandas as pd\n",
    "import os\n",
    "from pathlib import Path\n",
    "from matplotlib import pyplot as plt\n",
    "from scipy.signal import find_peaks\n",
    "import numpy as np\n",
    "import seaborn as sns\n",
    "import time\n",
    "import joblib\n",
    "from os.path import exists\n",
    "import shutil\n",
    "import sys\n",
    "import time\n",
    "import mne\n",
    "\n",
    "from sklearn.model_selection import train_test_split\n",
    "#From my EEG package \n",
    "import run_expts\n",
    "import format_eeg_data\n",
    "import constants\n",
    "import eeg_stat_ts\n",
    "\n",
    "#Let me see as many results as I want to see\n",
    "pd.set_option('display.max_rows', 500)\n",
    "pd.set_option('display.max_columns', 500)"
   ]
  },
  {
   "cell_type": "code",
   "execution_count": 63,
   "id": "9ab9c261",
   "metadata": {},
   "outputs": [
    {
     "data": {
      "text/plain": [
       "['paths_test.pkl']"
      ]
     },
     "execution_count": 63,
     "metadata": {},
     "output_type": "execute_result"
    }
   ],
   "source": [
    "paths_dict = {}\n",
    "paths_dict['selected_paths'] = selected_paths\n",
    "paths_dict['s_class_list'] = s_class_list\n",
    "paths_dict['s_night_list'] = s_night_list\n",
    "paths_dict['s_sleep_type'] = s_sleep_type\n",
    "paths_dict['s_p_id'] = s_p_id\n",
    "joblib.dump(paths_dict, 'paths_test.pkl')"
   ]
  },
  {
   "cell_type": "code",
   "execution_count": 67,
   "id": "46853f76",
   "metadata": {},
   "outputs": [
    {
     "data": {
      "text/plain": [
       "0.0017931461334228516"
      ]
     },
     "execution_count": 67,
     "metadata": {},
     "output_type": "execute_result"
    }
   ],
   "source": [
    "t1 = time.time()\n",
    "\n",
    "loaded_dict = joblib.load('paths_test.pkl')\n",
    "selected_paths = loaded_dict['selected_paths']\n",
    "s_class_list = loaded_dict['s_class_list']\n",
    "s_night_list = loaded_dict['s_night_list']\n",
    "s_sleep_type = loaded_dict['s_sleep_type'] \n",
    "s_p_id = loaded_dict['s_p_id']\n",
    "\n",
    "t2 = time.time()\n",
    "\n",
    "t2-t1"
   ]
  },
  {
   "cell_type": "code",
   "execution_count": 56,
   "id": "b2d0e676",
   "metadata": {},
   "outputs": [],
   "source": [
    "#So saving the file tops out at around 5,744,640 total time series length x 57 columns\n",
    "\n",
    "#This is what we call csb"
   ]
  },
  {
   "cell_type": "code",
   "execution_count": 53,
   "id": "57d62208",
   "metadata": {
    "scrolled": true
   },
   "outputs": [
    {
     "data": {
      "text/plain": [
       "5744640"
      ]
     },
     "execution_count": 53,
     "metadata": {},
     "output_type": "execute_result"
    }
   ],
   "source": [
    "eeg_data_df['length'] = eeg_data_df['Fp1'].apply(len)\n",
    "eeg_data_df['length'].iloc[:4].sum()"
   ]
  },
  {
   "cell_type": "code",
   "execution_count": null,
   "id": "70505098",
   "metadata": {},
   "outputs": [],
   "source": [
    "eeg_data_df.iloc[:10 , :]"
   ]
  },
  {
   "cell_type": "code",
   "execution_count": null,
   "id": "3056283f",
   "metadata": {},
   "outputs": [],
   "source": [
    "eeg_data_df.iloc[:10 , :]"
   ]
  },
  {
   "cell_type": "code",
   "execution_count": 52,
   "id": "75b7a52c",
   "metadata": {},
   "outputs": [
    {
     "name": "stderr",
     "output_type": "stream",
     "text": [
      "/tmp/ipykernel_940390/3501965306.py:1: PerformanceWarning: \n",
      "your performance may suffer as PyTables will pickle object types that it cannot\n",
      "map directly to c-types [inferred_type->mixed,key->block0_values] [items->Index(['Fp1', 'Fpz', 'Fp2', 'F1', 'Fz', 'F2', 'AF7', 'F7', 'F5', 'F3', 'AF8',\n",
      "       'F8', 'F6', 'F4', 'FCz', 'FC1', 'FC2', 'Cz', 'C1', 'C2', 'CP1', 'CP2',\n",
      "       'FC5', 'FC3', 'C5', 'C3', 'CP5', 'CP3', 'FC6', 'FC4', 'C6', 'C4', 'CP6',\n",
      "       'CP4', 'TP7', 'T7', 'FT7', 'FT9', 'TP8', 'T8', 'FT8', 'FT10', 'P1',\n",
      "       'P2', 'Pz', 'P3', 'P5', 'P7', 'PO7', 'P4', 'P6', 'P8', 'PO8', 'POz',\n",
      "       'O1', 'O2', 'Oz'],\n",
      "      dtype='object')]\n",
      "\n",
      "  eeg_data_df.iloc[:4 , :57].to_hdf('test_saving_eeg_data_df.h5' , key = 'df', mode = 'w')\n"
     ]
    },
    {
     "ename": "OverflowError",
     "evalue": "value too large to convert to int",
     "output_type": "error",
     "traceback": [
      "\u001b[0;31m---------------------------------------------------------------------------\u001b[0m",
      "\u001b[0;31mOverflowError\u001b[0m                             Traceback (most recent call last)",
      "Cell \u001b[0;32mIn[52], line 1\u001b[0m\n\u001b[0;32m----> 1\u001b[0m eeg_data_df\u001b[38;5;241m.\u001b[39miloc[:\u001b[38;5;241m4\u001b[39m , :\u001b[38;5;241m57\u001b[39m]\u001b[38;5;241m.\u001b[39mto_hdf(\u001b[38;5;124m'\u001b[39m\u001b[38;5;124mtest_saving_eeg_data_df.h5\u001b[39m\u001b[38;5;124m'\u001b[39m , key \u001b[38;5;241m=\u001b[39m \u001b[38;5;124m'\u001b[39m\u001b[38;5;124mdf\u001b[39m\u001b[38;5;124m'\u001b[39m, mode \u001b[38;5;241m=\u001b[39m \u001b[38;5;124m'\u001b[39m\u001b[38;5;124mw\u001b[39m\u001b[38;5;124m'\u001b[39m)\n",
      "File \u001b[0;32m/export/sphere/ebirah/ko20929/miniconda3/envs/sktime_latest/lib/python3.11/site-packages/pandas/core/generic.py:2799\u001b[0m, in \u001b[0;36mNDFrame.to_hdf\u001b[0;34m(self, path_or_buf, key, mode, complevel, complib, append, format, index, min_itemsize, nan_rep, dropna, data_columns, errors, encoding)\u001b[0m\n\u001b[1;32m   2795\u001b[0m \u001b[38;5;28;01mfrom\u001b[39;00m \u001b[38;5;21;01mpandas\u001b[39;00m\u001b[38;5;21;01m.\u001b[39;00m\u001b[38;5;21;01mio\u001b[39;00m \u001b[38;5;28;01mimport\u001b[39;00m pytables\n\u001b[1;32m   2797\u001b[0m \u001b[38;5;66;03m# Argument 3 to \"to_hdf\" has incompatible type \"NDFrame\"; expected\u001b[39;00m\n\u001b[1;32m   2798\u001b[0m \u001b[38;5;66;03m# \"Union[DataFrame, Series]\" [arg-type]\u001b[39;00m\n\u001b[0;32m-> 2799\u001b[0m pytables\u001b[38;5;241m.\u001b[39mto_hdf(\n\u001b[1;32m   2800\u001b[0m     path_or_buf,\n\u001b[1;32m   2801\u001b[0m     key,\n\u001b[1;32m   2802\u001b[0m     \u001b[38;5;28mself\u001b[39m,  \u001b[38;5;66;03m# type: ignore[arg-type]\u001b[39;00m\n\u001b[1;32m   2803\u001b[0m     mode\u001b[38;5;241m=\u001b[39mmode,\n\u001b[1;32m   2804\u001b[0m     complevel\u001b[38;5;241m=\u001b[39mcomplevel,\n\u001b[1;32m   2805\u001b[0m     complib\u001b[38;5;241m=\u001b[39mcomplib,\n\u001b[1;32m   2806\u001b[0m     append\u001b[38;5;241m=\u001b[39mappend,\n\u001b[1;32m   2807\u001b[0m     \u001b[38;5;28mformat\u001b[39m\u001b[38;5;241m=\u001b[39m\u001b[38;5;28mformat\u001b[39m,\n\u001b[1;32m   2808\u001b[0m     index\u001b[38;5;241m=\u001b[39mindex,\n\u001b[1;32m   2809\u001b[0m     min_itemsize\u001b[38;5;241m=\u001b[39mmin_itemsize,\n\u001b[1;32m   2810\u001b[0m     nan_rep\u001b[38;5;241m=\u001b[39mnan_rep,\n\u001b[1;32m   2811\u001b[0m     dropna\u001b[38;5;241m=\u001b[39mdropna,\n\u001b[1;32m   2812\u001b[0m     data_columns\u001b[38;5;241m=\u001b[39mdata_columns,\n\u001b[1;32m   2813\u001b[0m     errors\u001b[38;5;241m=\u001b[39merrors,\n\u001b[1;32m   2814\u001b[0m     encoding\u001b[38;5;241m=\u001b[39mencoding,\n\u001b[1;32m   2815\u001b[0m )\n",
      "File \u001b[0;32m/export/sphere/ebirah/ko20929/miniconda3/envs/sktime_latest/lib/python3.11/site-packages/pandas/io/pytables.py:301\u001b[0m, in \u001b[0;36mto_hdf\u001b[0;34m(path_or_buf, key, value, mode, complevel, complib, append, format, index, min_itemsize, nan_rep, dropna, data_columns, errors, encoding)\u001b[0m\n\u001b[1;32m    297\u001b[0m \u001b[38;5;28;01mif\u001b[39;00m \u001b[38;5;28misinstance\u001b[39m(path_or_buf, \u001b[38;5;28mstr\u001b[39m):\n\u001b[1;32m    298\u001b[0m     \u001b[38;5;28;01mwith\u001b[39;00m HDFStore(\n\u001b[1;32m    299\u001b[0m         path_or_buf, mode\u001b[38;5;241m=\u001b[39mmode, complevel\u001b[38;5;241m=\u001b[39mcomplevel, complib\u001b[38;5;241m=\u001b[39mcomplib\n\u001b[1;32m    300\u001b[0m     ) \u001b[38;5;28;01mas\u001b[39;00m store:\n\u001b[0;32m--> 301\u001b[0m         f(store)\n\u001b[1;32m    302\u001b[0m \u001b[38;5;28;01melse\u001b[39;00m:\n\u001b[1;32m    303\u001b[0m     f(path_or_buf)\n",
      "File \u001b[0;32m/export/sphere/ebirah/ko20929/miniconda3/envs/sktime_latest/lib/python3.11/site-packages/pandas/io/pytables.py:283\u001b[0m, in \u001b[0;36mto_hdf.<locals>.<lambda>\u001b[0;34m(store)\u001b[0m\n\u001b[1;32m    269\u001b[0m     f \u001b[38;5;241m=\u001b[39m \u001b[38;5;28;01mlambda\u001b[39;00m store: store\u001b[38;5;241m.\u001b[39mappend(\n\u001b[1;32m    270\u001b[0m         key,\n\u001b[1;32m    271\u001b[0m         value,\n\u001b[0;32m   (...)\u001b[0m\n\u001b[1;32m    279\u001b[0m         encoding\u001b[38;5;241m=\u001b[39mencoding,\n\u001b[1;32m    280\u001b[0m     )\n\u001b[1;32m    281\u001b[0m \u001b[38;5;28;01melse\u001b[39;00m:\n\u001b[1;32m    282\u001b[0m     \u001b[38;5;66;03m# NB: dropna is not passed to `put`\u001b[39;00m\n\u001b[0;32m--> 283\u001b[0m     f \u001b[38;5;241m=\u001b[39m \u001b[38;5;28;01mlambda\u001b[39;00m store: store\u001b[38;5;241m.\u001b[39mput(\n\u001b[1;32m    284\u001b[0m         key,\n\u001b[1;32m    285\u001b[0m         value,\n\u001b[1;32m    286\u001b[0m         \u001b[38;5;28mformat\u001b[39m\u001b[38;5;241m=\u001b[39m\u001b[38;5;28mformat\u001b[39m,\n\u001b[1;32m    287\u001b[0m         index\u001b[38;5;241m=\u001b[39mindex,\n\u001b[1;32m    288\u001b[0m         min_itemsize\u001b[38;5;241m=\u001b[39mmin_itemsize,\n\u001b[1;32m    289\u001b[0m         nan_rep\u001b[38;5;241m=\u001b[39mnan_rep,\n\u001b[1;32m    290\u001b[0m         data_columns\u001b[38;5;241m=\u001b[39mdata_columns,\n\u001b[1;32m    291\u001b[0m         errors\u001b[38;5;241m=\u001b[39merrors,\n\u001b[1;32m    292\u001b[0m         encoding\u001b[38;5;241m=\u001b[39mencoding,\n\u001b[1;32m    293\u001b[0m         dropna\u001b[38;5;241m=\u001b[39mdropna,\n\u001b[1;32m    294\u001b[0m     )\n\u001b[1;32m    296\u001b[0m path_or_buf \u001b[38;5;241m=\u001b[39m stringify_path(path_or_buf)\n\u001b[1;32m    297\u001b[0m \u001b[38;5;28;01mif\u001b[39;00m \u001b[38;5;28misinstance\u001b[39m(path_or_buf, \u001b[38;5;28mstr\u001b[39m):\n",
      "File \u001b[0;32m/export/sphere/ebirah/ko20929/miniconda3/envs/sktime_latest/lib/python3.11/site-packages/pandas/io/pytables.py:1123\u001b[0m, in \u001b[0;36mHDFStore.put\u001b[0;34m(self, key, value, format, index, append, complib, complevel, min_itemsize, nan_rep, data_columns, encoding, errors, track_times, dropna)\u001b[0m\n\u001b[1;32m   1121\u001b[0m     \u001b[38;5;28mformat\u001b[39m \u001b[38;5;241m=\u001b[39m get_option(\u001b[38;5;124m\"\u001b[39m\u001b[38;5;124mio.hdf.default_format\u001b[39m\u001b[38;5;124m\"\u001b[39m) \u001b[38;5;129;01mor\u001b[39;00m \u001b[38;5;124m\"\u001b[39m\u001b[38;5;124mfixed\u001b[39m\u001b[38;5;124m\"\u001b[39m\n\u001b[1;32m   1122\u001b[0m \u001b[38;5;28mformat\u001b[39m \u001b[38;5;241m=\u001b[39m \u001b[38;5;28mself\u001b[39m\u001b[38;5;241m.\u001b[39m_validate_format(\u001b[38;5;28mformat\u001b[39m)\n\u001b[0;32m-> 1123\u001b[0m \u001b[38;5;28mself\u001b[39m\u001b[38;5;241m.\u001b[39m_write_to_group(\n\u001b[1;32m   1124\u001b[0m     key,\n\u001b[1;32m   1125\u001b[0m     value,\n\u001b[1;32m   1126\u001b[0m     \u001b[38;5;28mformat\u001b[39m\u001b[38;5;241m=\u001b[39m\u001b[38;5;28mformat\u001b[39m,\n\u001b[1;32m   1127\u001b[0m     index\u001b[38;5;241m=\u001b[39mindex,\n\u001b[1;32m   1128\u001b[0m     append\u001b[38;5;241m=\u001b[39mappend,\n\u001b[1;32m   1129\u001b[0m     complib\u001b[38;5;241m=\u001b[39mcomplib,\n\u001b[1;32m   1130\u001b[0m     complevel\u001b[38;5;241m=\u001b[39mcomplevel,\n\u001b[1;32m   1131\u001b[0m     min_itemsize\u001b[38;5;241m=\u001b[39mmin_itemsize,\n\u001b[1;32m   1132\u001b[0m     nan_rep\u001b[38;5;241m=\u001b[39mnan_rep,\n\u001b[1;32m   1133\u001b[0m     data_columns\u001b[38;5;241m=\u001b[39mdata_columns,\n\u001b[1;32m   1134\u001b[0m     encoding\u001b[38;5;241m=\u001b[39mencoding,\n\u001b[1;32m   1135\u001b[0m     errors\u001b[38;5;241m=\u001b[39merrors,\n\u001b[1;32m   1136\u001b[0m     track_times\u001b[38;5;241m=\u001b[39mtrack_times,\n\u001b[1;32m   1137\u001b[0m     dropna\u001b[38;5;241m=\u001b[39mdropna,\n\u001b[1;32m   1138\u001b[0m )\n",
      "File \u001b[0;32m/export/sphere/ebirah/ko20929/miniconda3/envs/sktime_latest/lib/python3.11/site-packages/pandas/io/pytables.py:1776\u001b[0m, in \u001b[0;36mHDFStore._write_to_group\u001b[0;34m(self, key, value, format, axes, index, append, complib, complevel, fletcher32, min_itemsize, chunksize, expectedrows, dropna, nan_rep, data_columns, encoding, errors, track_times)\u001b[0m\n\u001b[1;32m   1773\u001b[0m     \u001b[38;5;28;01mraise\u001b[39;00m \u001b[38;5;167;01mValueError\u001b[39;00m(\u001b[38;5;124m\"\u001b[39m\u001b[38;5;124mCompression not supported on Fixed format stores\u001b[39m\u001b[38;5;124m\"\u001b[39m)\n\u001b[1;32m   1775\u001b[0m \u001b[38;5;66;03m# write the object\u001b[39;00m\n\u001b[0;32m-> 1776\u001b[0m s\u001b[38;5;241m.\u001b[39mwrite(\n\u001b[1;32m   1777\u001b[0m     obj\u001b[38;5;241m=\u001b[39mvalue,\n\u001b[1;32m   1778\u001b[0m     axes\u001b[38;5;241m=\u001b[39maxes,\n\u001b[1;32m   1779\u001b[0m     append\u001b[38;5;241m=\u001b[39mappend,\n\u001b[1;32m   1780\u001b[0m     complib\u001b[38;5;241m=\u001b[39mcomplib,\n\u001b[1;32m   1781\u001b[0m     complevel\u001b[38;5;241m=\u001b[39mcomplevel,\n\u001b[1;32m   1782\u001b[0m     fletcher32\u001b[38;5;241m=\u001b[39mfletcher32,\n\u001b[1;32m   1783\u001b[0m     min_itemsize\u001b[38;5;241m=\u001b[39mmin_itemsize,\n\u001b[1;32m   1784\u001b[0m     chunksize\u001b[38;5;241m=\u001b[39mchunksize,\n\u001b[1;32m   1785\u001b[0m     expectedrows\u001b[38;5;241m=\u001b[39mexpectedrows,\n\u001b[1;32m   1786\u001b[0m     dropna\u001b[38;5;241m=\u001b[39mdropna,\n\u001b[1;32m   1787\u001b[0m     nan_rep\u001b[38;5;241m=\u001b[39mnan_rep,\n\u001b[1;32m   1788\u001b[0m     data_columns\u001b[38;5;241m=\u001b[39mdata_columns,\n\u001b[1;32m   1789\u001b[0m     track_times\u001b[38;5;241m=\u001b[39mtrack_times,\n\u001b[1;32m   1790\u001b[0m )\n\u001b[1;32m   1792\u001b[0m \u001b[38;5;28;01mif\u001b[39;00m \u001b[38;5;28misinstance\u001b[39m(s, Table) \u001b[38;5;129;01mand\u001b[39;00m index:\n\u001b[1;32m   1793\u001b[0m     s\u001b[38;5;241m.\u001b[39mcreate_index(columns\u001b[38;5;241m=\u001b[39mindex)\n",
      "File \u001b[0;32m/export/sphere/ebirah/ko20929/miniconda3/envs/sktime_latest/lib/python3.11/site-packages/pandas/io/pytables.py:3256\u001b[0m, in \u001b[0;36mBlockManagerFixed.write\u001b[0;34m(self, obj, **kwargs)\u001b[0m\n\u001b[1;32m   3253\u001b[0m \u001b[38;5;28;01mfor\u001b[39;00m i, blk \u001b[38;5;129;01min\u001b[39;00m \u001b[38;5;28menumerate\u001b[39m(data\u001b[38;5;241m.\u001b[39mblocks):\n\u001b[1;32m   3254\u001b[0m     \u001b[38;5;66;03m# I have no idea why, but writing values before items fixed #2299\u001b[39;00m\n\u001b[1;32m   3255\u001b[0m     blk_items \u001b[38;5;241m=\u001b[39m data\u001b[38;5;241m.\u001b[39mitems\u001b[38;5;241m.\u001b[39mtake(blk\u001b[38;5;241m.\u001b[39mmgr_locs)\n\u001b[0;32m-> 3256\u001b[0m     \u001b[38;5;28mself\u001b[39m\u001b[38;5;241m.\u001b[39mwrite_array(\u001b[38;5;124mf\u001b[39m\u001b[38;5;124m\"\u001b[39m\u001b[38;5;124mblock\u001b[39m\u001b[38;5;132;01m{\u001b[39;00mi\u001b[38;5;132;01m}\u001b[39;00m\u001b[38;5;124m_values\u001b[39m\u001b[38;5;124m\"\u001b[39m, blk\u001b[38;5;241m.\u001b[39mvalues, items\u001b[38;5;241m=\u001b[39mblk_items)\n\u001b[1;32m   3257\u001b[0m     \u001b[38;5;28mself\u001b[39m\u001b[38;5;241m.\u001b[39mwrite_index(\u001b[38;5;124mf\u001b[39m\u001b[38;5;124m\"\u001b[39m\u001b[38;5;124mblock\u001b[39m\u001b[38;5;132;01m{\u001b[39;00mi\u001b[38;5;132;01m}\u001b[39;00m\u001b[38;5;124m_items\u001b[39m\u001b[38;5;124m\"\u001b[39m, blk_items)\n",
      "File \u001b[0;32m/export/sphere/ebirah/ko20929/miniconda3/envs/sktime_latest/lib/python3.11/site-packages/pandas/io/pytables.py:3100\u001b[0m, in \u001b[0;36mGenericFixed.write_array\u001b[0;34m(self, key, obj, items)\u001b[0m\n\u001b[1;32m   3097\u001b[0m         warnings\u001b[38;5;241m.\u001b[39mwarn(ws, PerformanceWarning, stacklevel\u001b[38;5;241m=\u001b[39mfind_stack_level())\n\u001b[1;32m   3099\u001b[0m     vlarr \u001b[38;5;241m=\u001b[39m \u001b[38;5;28mself\u001b[39m\u001b[38;5;241m.\u001b[39m_handle\u001b[38;5;241m.\u001b[39mcreate_vlarray(\u001b[38;5;28mself\u001b[39m\u001b[38;5;241m.\u001b[39mgroup, key, _tables()\u001b[38;5;241m.\u001b[39mObjectAtom())\n\u001b[0;32m-> 3100\u001b[0m     vlarr\u001b[38;5;241m.\u001b[39mappend(value)\n\u001b[1;32m   3102\u001b[0m \u001b[38;5;28;01melif\u001b[39;00m is_datetime64_dtype(value\u001b[38;5;241m.\u001b[39mdtype):\n\u001b[1;32m   3103\u001b[0m     \u001b[38;5;28mself\u001b[39m\u001b[38;5;241m.\u001b[39m_handle\u001b[38;5;241m.\u001b[39mcreate_array(\u001b[38;5;28mself\u001b[39m\u001b[38;5;241m.\u001b[39mgroup, key, value\u001b[38;5;241m.\u001b[39mview(\u001b[38;5;124m\"\u001b[39m\u001b[38;5;124mi8\u001b[39m\u001b[38;5;124m\"\u001b[39m))\n",
      "File \u001b[0;32m/export/sphere/ebirah/ko20929/miniconda3/envs/sktime_latest/lib/python3.11/site-packages/tables/vlarray.py:528\u001b[0m, in \u001b[0;36mVLArray.append\u001b[0;34m(self, sequence)\u001b[0m\n\u001b[1;32m    525\u001b[0m     nobjects \u001b[38;5;241m=\u001b[39m \u001b[38;5;241m0\u001b[39m\n\u001b[1;32m    526\u001b[0m     nparr \u001b[38;5;241m=\u001b[39m \u001b[38;5;28;01mNone\u001b[39;00m\n\u001b[0;32m--> 528\u001b[0m \u001b[38;5;28mself\u001b[39m\u001b[38;5;241m.\u001b[39m_append(nparr, nobjects)\n\u001b[1;32m    529\u001b[0m \u001b[38;5;28mself\u001b[39m\u001b[38;5;241m.\u001b[39mnrows \u001b[38;5;241m+\u001b[39m\u001b[38;5;241m=\u001b[39m \u001b[38;5;241m1\u001b[39m\n",
      "File \u001b[0;32m/export/sphere/ebirah/ko20929/miniconda3/envs/sktime_latest/lib/python3.11/site-packages/tables/hdf5extension.pyx:2029\u001b[0m, in \u001b[0;36mtables.hdf5extension.VLArray._append\u001b[0;34m()\u001b[0m\n",
      "\u001b[0;31mOverflowError\u001b[0m: value too large to convert to int"
     ]
    }
   ],
   "source": [
    "eeg_data_df.iloc[:4 , :57].to_hdf('test_saving_eeg_data_df.h5' , key = 'df', mode = 'w')"
   ]
  },
  {
   "cell_type": "code",
   "execution_count": 5,
   "id": "05e6e441",
   "metadata": {},
   "outputs": [
    {
     "name": "stderr",
     "output_type": "stream",
     "text": [
      "/tmp/ipykernel_940390/2839641101.py:1: PerformanceWarning: \n",
      "your performance may suffer as PyTables will pickle object types that it cannot\n",
      "map directly to c-types [inferred_type->mixed,key->block0_values] [items->Index(['Fp1', 'Fpz', 'Fp2', 'F1', 'Fz', 'F2', 'AF7', 'F7', 'F5', 'F3', 'AF8',\n",
      "       'F8', 'F6', 'F4', 'FCz', 'FC1', 'FC2', 'Cz', 'C1', 'C2', 'CP1', 'CP2',\n",
      "       'FC5', 'FC3', 'C5', 'C3', 'CP5', 'CP3', 'FC6', 'FC4', 'C6', 'C4', 'CP6',\n",
      "       'CP4', 'TP7', 'T7', 'FT7', 'FT9', 'TP8', 'T8', 'FT8', 'FT10', 'P1',\n",
      "       'P2', 'Pz', 'P3', 'P5', 'P7', 'PO7', 'P4', 'P6', 'P8', 'PO8', 'POz',\n",
      "       'O1', 'O2', 'Oz'],\n",
      "      dtype='object')]\n",
      "\n",
      "  eeg_data_df.to_hdf('test_saving_eeg_data_df.h5' , key = 'df', mode = 'w')\n"
     ]
    },
    {
     "ename": "OverflowError",
     "evalue": "value too large to convert to int",
     "output_type": "error",
     "traceback": [
      "\u001b[0;31m---------------------------------------------------------------------------\u001b[0m",
      "\u001b[0;31mOverflowError\u001b[0m                             Traceback (most recent call last)",
      "Cell \u001b[0;32mIn[5], line 1\u001b[0m\n\u001b[0;32m----> 1\u001b[0m eeg_data_df\u001b[38;5;241m.\u001b[39mto_hdf(\u001b[38;5;124m'\u001b[39m\u001b[38;5;124mtest_saving_eeg_data_df.h5\u001b[39m\u001b[38;5;124m'\u001b[39m , key \u001b[38;5;241m=\u001b[39m \u001b[38;5;124m'\u001b[39m\u001b[38;5;124mdf\u001b[39m\u001b[38;5;124m'\u001b[39m, mode \u001b[38;5;241m=\u001b[39m \u001b[38;5;124m'\u001b[39m\u001b[38;5;124mw\u001b[39m\u001b[38;5;124m'\u001b[39m)\n",
      "File \u001b[0;32m/export/sphere/ebirah/ko20929/miniconda3/envs/sktime_latest/lib/python3.11/site-packages/pandas/core/generic.py:2799\u001b[0m, in \u001b[0;36mNDFrame.to_hdf\u001b[0;34m(self, path_or_buf, key, mode, complevel, complib, append, format, index, min_itemsize, nan_rep, dropna, data_columns, errors, encoding)\u001b[0m\n\u001b[1;32m   2795\u001b[0m \u001b[38;5;28;01mfrom\u001b[39;00m \u001b[38;5;21;01mpandas\u001b[39;00m\u001b[38;5;21;01m.\u001b[39;00m\u001b[38;5;21;01mio\u001b[39;00m \u001b[38;5;28;01mimport\u001b[39;00m pytables\n\u001b[1;32m   2797\u001b[0m \u001b[38;5;66;03m# Argument 3 to \"to_hdf\" has incompatible type \"NDFrame\"; expected\u001b[39;00m\n\u001b[1;32m   2798\u001b[0m \u001b[38;5;66;03m# \"Union[DataFrame, Series]\" [arg-type]\u001b[39;00m\n\u001b[0;32m-> 2799\u001b[0m pytables\u001b[38;5;241m.\u001b[39mto_hdf(\n\u001b[1;32m   2800\u001b[0m     path_or_buf,\n\u001b[1;32m   2801\u001b[0m     key,\n\u001b[1;32m   2802\u001b[0m     \u001b[38;5;28mself\u001b[39m,  \u001b[38;5;66;03m# type: ignore[arg-type]\u001b[39;00m\n\u001b[1;32m   2803\u001b[0m     mode\u001b[38;5;241m=\u001b[39mmode,\n\u001b[1;32m   2804\u001b[0m     complevel\u001b[38;5;241m=\u001b[39mcomplevel,\n\u001b[1;32m   2805\u001b[0m     complib\u001b[38;5;241m=\u001b[39mcomplib,\n\u001b[1;32m   2806\u001b[0m     append\u001b[38;5;241m=\u001b[39mappend,\n\u001b[1;32m   2807\u001b[0m     \u001b[38;5;28mformat\u001b[39m\u001b[38;5;241m=\u001b[39m\u001b[38;5;28mformat\u001b[39m,\n\u001b[1;32m   2808\u001b[0m     index\u001b[38;5;241m=\u001b[39mindex,\n\u001b[1;32m   2809\u001b[0m     min_itemsize\u001b[38;5;241m=\u001b[39mmin_itemsize,\n\u001b[1;32m   2810\u001b[0m     nan_rep\u001b[38;5;241m=\u001b[39mnan_rep,\n\u001b[1;32m   2811\u001b[0m     dropna\u001b[38;5;241m=\u001b[39mdropna,\n\u001b[1;32m   2812\u001b[0m     data_columns\u001b[38;5;241m=\u001b[39mdata_columns,\n\u001b[1;32m   2813\u001b[0m     errors\u001b[38;5;241m=\u001b[39merrors,\n\u001b[1;32m   2814\u001b[0m     encoding\u001b[38;5;241m=\u001b[39mencoding,\n\u001b[1;32m   2815\u001b[0m )\n",
      "File \u001b[0;32m/export/sphere/ebirah/ko20929/miniconda3/envs/sktime_latest/lib/python3.11/site-packages/pandas/io/pytables.py:301\u001b[0m, in \u001b[0;36mto_hdf\u001b[0;34m(path_or_buf, key, value, mode, complevel, complib, append, format, index, min_itemsize, nan_rep, dropna, data_columns, errors, encoding)\u001b[0m\n\u001b[1;32m    297\u001b[0m \u001b[38;5;28;01mif\u001b[39;00m \u001b[38;5;28misinstance\u001b[39m(path_or_buf, \u001b[38;5;28mstr\u001b[39m):\n\u001b[1;32m    298\u001b[0m     \u001b[38;5;28;01mwith\u001b[39;00m HDFStore(\n\u001b[1;32m    299\u001b[0m         path_or_buf, mode\u001b[38;5;241m=\u001b[39mmode, complevel\u001b[38;5;241m=\u001b[39mcomplevel, complib\u001b[38;5;241m=\u001b[39mcomplib\n\u001b[1;32m    300\u001b[0m     ) \u001b[38;5;28;01mas\u001b[39;00m store:\n\u001b[0;32m--> 301\u001b[0m         f(store)\n\u001b[1;32m    302\u001b[0m \u001b[38;5;28;01melse\u001b[39;00m:\n\u001b[1;32m    303\u001b[0m     f(path_or_buf)\n",
      "File \u001b[0;32m/export/sphere/ebirah/ko20929/miniconda3/envs/sktime_latest/lib/python3.11/site-packages/pandas/io/pytables.py:283\u001b[0m, in \u001b[0;36mto_hdf.<locals>.<lambda>\u001b[0;34m(store)\u001b[0m\n\u001b[1;32m    269\u001b[0m     f \u001b[38;5;241m=\u001b[39m \u001b[38;5;28;01mlambda\u001b[39;00m store: store\u001b[38;5;241m.\u001b[39mappend(\n\u001b[1;32m    270\u001b[0m         key,\n\u001b[1;32m    271\u001b[0m         value,\n\u001b[0;32m   (...)\u001b[0m\n\u001b[1;32m    279\u001b[0m         encoding\u001b[38;5;241m=\u001b[39mencoding,\n\u001b[1;32m    280\u001b[0m     )\n\u001b[1;32m    281\u001b[0m \u001b[38;5;28;01melse\u001b[39;00m:\n\u001b[1;32m    282\u001b[0m     \u001b[38;5;66;03m# NB: dropna is not passed to `put`\u001b[39;00m\n\u001b[0;32m--> 283\u001b[0m     f \u001b[38;5;241m=\u001b[39m \u001b[38;5;28;01mlambda\u001b[39;00m store: store\u001b[38;5;241m.\u001b[39mput(\n\u001b[1;32m    284\u001b[0m         key,\n\u001b[1;32m    285\u001b[0m         value,\n\u001b[1;32m    286\u001b[0m         \u001b[38;5;28mformat\u001b[39m\u001b[38;5;241m=\u001b[39m\u001b[38;5;28mformat\u001b[39m,\n\u001b[1;32m    287\u001b[0m         index\u001b[38;5;241m=\u001b[39mindex,\n\u001b[1;32m    288\u001b[0m         min_itemsize\u001b[38;5;241m=\u001b[39mmin_itemsize,\n\u001b[1;32m    289\u001b[0m         nan_rep\u001b[38;5;241m=\u001b[39mnan_rep,\n\u001b[1;32m    290\u001b[0m         data_columns\u001b[38;5;241m=\u001b[39mdata_columns,\n\u001b[1;32m    291\u001b[0m         errors\u001b[38;5;241m=\u001b[39merrors,\n\u001b[1;32m    292\u001b[0m         encoding\u001b[38;5;241m=\u001b[39mencoding,\n\u001b[1;32m    293\u001b[0m         dropna\u001b[38;5;241m=\u001b[39mdropna,\n\u001b[1;32m    294\u001b[0m     )\n\u001b[1;32m    296\u001b[0m path_or_buf \u001b[38;5;241m=\u001b[39m stringify_path(path_or_buf)\n\u001b[1;32m    297\u001b[0m \u001b[38;5;28;01mif\u001b[39;00m \u001b[38;5;28misinstance\u001b[39m(path_or_buf, \u001b[38;5;28mstr\u001b[39m):\n",
      "File \u001b[0;32m/export/sphere/ebirah/ko20929/miniconda3/envs/sktime_latest/lib/python3.11/site-packages/pandas/io/pytables.py:1123\u001b[0m, in \u001b[0;36mHDFStore.put\u001b[0;34m(self, key, value, format, index, append, complib, complevel, min_itemsize, nan_rep, data_columns, encoding, errors, track_times, dropna)\u001b[0m\n\u001b[1;32m   1121\u001b[0m     \u001b[38;5;28mformat\u001b[39m \u001b[38;5;241m=\u001b[39m get_option(\u001b[38;5;124m\"\u001b[39m\u001b[38;5;124mio.hdf.default_format\u001b[39m\u001b[38;5;124m\"\u001b[39m) \u001b[38;5;129;01mor\u001b[39;00m \u001b[38;5;124m\"\u001b[39m\u001b[38;5;124mfixed\u001b[39m\u001b[38;5;124m\"\u001b[39m\n\u001b[1;32m   1122\u001b[0m \u001b[38;5;28mformat\u001b[39m \u001b[38;5;241m=\u001b[39m \u001b[38;5;28mself\u001b[39m\u001b[38;5;241m.\u001b[39m_validate_format(\u001b[38;5;28mformat\u001b[39m)\n\u001b[0;32m-> 1123\u001b[0m \u001b[38;5;28mself\u001b[39m\u001b[38;5;241m.\u001b[39m_write_to_group(\n\u001b[1;32m   1124\u001b[0m     key,\n\u001b[1;32m   1125\u001b[0m     value,\n\u001b[1;32m   1126\u001b[0m     \u001b[38;5;28mformat\u001b[39m\u001b[38;5;241m=\u001b[39m\u001b[38;5;28mformat\u001b[39m,\n\u001b[1;32m   1127\u001b[0m     index\u001b[38;5;241m=\u001b[39mindex,\n\u001b[1;32m   1128\u001b[0m     append\u001b[38;5;241m=\u001b[39mappend,\n\u001b[1;32m   1129\u001b[0m     complib\u001b[38;5;241m=\u001b[39mcomplib,\n\u001b[1;32m   1130\u001b[0m     complevel\u001b[38;5;241m=\u001b[39mcomplevel,\n\u001b[1;32m   1131\u001b[0m     min_itemsize\u001b[38;5;241m=\u001b[39mmin_itemsize,\n\u001b[1;32m   1132\u001b[0m     nan_rep\u001b[38;5;241m=\u001b[39mnan_rep,\n\u001b[1;32m   1133\u001b[0m     data_columns\u001b[38;5;241m=\u001b[39mdata_columns,\n\u001b[1;32m   1134\u001b[0m     encoding\u001b[38;5;241m=\u001b[39mencoding,\n\u001b[1;32m   1135\u001b[0m     errors\u001b[38;5;241m=\u001b[39merrors,\n\u001b[1;32m   1136\u001b[0m     track_times\u001b[38;5;241m=\u001b[39mtrack_times,\n\u001b[1;32m   1137\u001b[0m     dropna\u001b[38;5;241m=\u001b[39mdropna,\n\u001b[1;32m   1138\u001b[0m )\n",
      "File \u001b[0;32m/export/sphere/ebirah/ko20929/miniconda3/envs/sktime_latest/lib/python3.11/site-packages/pandas/io/pytables.py:1776\u001b[0m, in \u001b[0;36mHDFStore._write_to_group\u001b[0;34m(self, key, value, format, axes, index, append, complib, complevel, fletcher32, min_itemsize, chunksize, expectedrows, dropna, nan_rep, data_columns, encoding, errors, track_times)\u001b[0m\n\u001b[1;32m   1773\u001b[0m     \u001b[38;5;28;01mraise\u001b[39;00m \u001b[38;5;167;01mValueError\u001b[39;00m(\u001b[38;5;124m\"\u001b[39m\u001b[38;5;124mCompression not supported on Fixed format stores\u001b[39m\u001b[38;5;124m\"\u001b[39m)\n\u001b[1;32m   1775\u001b[0m \u001b[38;5;66;03m# write the object\u001b[39;00m\n\u001b[0;32m-> 1776\u001b[0m s\u001b[38;5;241m.\u001b[39mwrite(\n\u001b[1;32m   1777\u001b[0m     obj\u001b[38;5;241m=\u001b[39mvalue,\n\u001b[1;32m   1778\u001b[0m     axes\u001b[38;5;241m=\u001b[39maxes,\n\u001b[1;32m   1779\u001b[0m     append\u001b[38;5;241m=\u001b[39mappend,\n\u001b[1;32m   1780\u001b[0m     complib\u001b[38;5;241m=\u001b[39mcomplib,\n\u001b[1;32m   1781\u001b[0m     complevel\u001b[38;5;241m=\u001b[39mcomplevel,\n\u001b[1;32m   1782\u001b[0m     fletcher32\u001b[38;5;241m=\u001b[39mfletcher32,\n\u001b[1;32m   1783\u001b[0m     min_itemsize\u001b[38;5;241m=\u001b[39mmin_itemsize,\n\u001b[1;32m   1784\u001b[0m     chunksize\u001b[38;5;241m=\u001b[39mchunksize,\n\u001b[1;32m   1785\u001b[0m     expectedrows\u001b[38;5;241m=\u001b[39mexpectedrows,\n\u001b[1;32m   1786\u001b[0m     dropna\u001b[38;5;241m=\u001b[39mdropna,\n\u001b[1;32m   1787\u001b[0m     nan_rep\u001b[38;5;241m=\u001b[39mnan_rep,\n\u001b[1;32m   1788\u001b[0m     data_columns\u001b[38;5;241m=\u001b[39mdata_columns,\n\u001b[1;32m   1789\u001b[0m     track_times\u001b[38;5;241m=\u001b[39mtrack_times,\n\u001b[1;32m   1790\u001b[0m )\n\u001b[1;32m   1792\u001b[0m \u001b[38;5;28;01mif\u001b[39;00m \u001b[38;5;28misinstance\u001b[39m(s, Table) \u001b[38;5;129;01mand\u001b[39;00m index:\n\u001b[1;32m   1793\u001b[0m     s\u001b[38;5;241m.\u001b[39mcreate_index(columns\u001b[38;5;241m=\u001b[39mindex)\n",
      "File \u001b[0;32m/export/sphere/ebirah/ko20929/miniconda3/envs/sktime_latest/lib/python3.11/site-packages/pandas/io/pytables.py:3256\u001b[0m, in \u001b[0;36mBlockManagerFixed.write\u001b[0;34m(self, obj, **kwargs)\u001b[0m\n\u001b[1;32m   3253\u001b[0m \u001b[38;5;28;01mfor\u001b[39;00m i, blk \u001b[38;5;129;01min\u001b[39;00m \u001b[38;5;28menumerate\u001b[39m(data\u001b[38;5;241m.\u001b[39mblocks):\n\u001b[1;32m   3254\u001b[0m     \u001b[38;5;66;03m# I have no idea why, but writing values before items fixed #2299\u001b[39;00m\n\u001b[1;32m   3255\u001b[0m     blk_items \u001b[38;5;241m=\u001b[39m data\u001b[38;5;241m.\u001b[39mitems\u001b[38;5;241m.\u001b[39mtake(blk\u001b[38;5;241m.\u001b[39mmgr_locs)\n\u001b[0;32m-> 3256\u001b[0m     \u001b[38;5;28mself\u001b[39m\u001b[38;5;241m.\u001b[39mwrite_array(\u001b[38;5;124mf\u001b[39m\u001b[38;5;124m\"\u001b[39m\u001b[38;5;124mblock\u001b[39m\u001b[38;5;132;01m{\u001b[39;00mi\u001b[38;5;132;01m}\u001b[39;00m\u001b[38;5;124m_values\u001b[39m\u001b[38;5;124m\"\u001b[39m, blk\u001b[38;5;241m.\u001b[39mvalues, items\u001b[38;5;241m=\u001b[39mblk_items)\n\u001b[1;32m   3257\u001b[0m     \u001b[38;5;28mself\u001b[39m\u001b[38;5;241m.\u001b[39mwrite_index(\u001b[38;5;124mf\u001b[39m\u001b[38;5;124m\"\u001b[39m\u001b[38;5;124mblock\u001b[39m\u001b[38;5;132;01m{\u001b[39;00mi\u001b[38;5;132;01m}\u001b[39;00m\u001b[38;5;124m_items\u001b[39m\u001b[38;5;124m\"\u001b[39m, blk_items)\n",
      "File \u001b[0;32m/export/sphere/ebirah/ko20929/miniconda3/envs/sktime_latest/lib/python3.11/site-packages/pandas/io/pytables.py:3100\u001b[0m, in \u001b[0;36mGenericFixed.write_array\u001b[0;34m(self, key, obj, items)\u001b[0m\n\u001b[1;32m   3097\u001b[0m         warnings\u001b[38;5;241m.\u001b[39mwarn(ws, PerformanceWarning, stacklevel\u001b[38;5;241m=\u001b[39mfind_stack_level())\n\u001b[1;32m   3099\u001b[0m     vlarr \u001b[38;5;241m=\u001b[39m \u001b[38;5;28mself\u001b[39m\u001b[38;5;241m.\u001b[39m_handle\u001b[38;5;241m.\u001b[39mcreate_vlarray(\u001b[38;5;28mself\u001b[39m\u001b[38;5;241m.\u001b[39mgroup, key, _tables()\u001b[38;5;241m.\u001b[39mObjectAtom())\n\u001b[0;32m-> 3100\u001b[0m     vlarr\u001b[38;5;241m.\u001b[39mappend(value)\n\u001b[1;32m   3102\u001b[0m \u001b[38;5;28;01melif\u001b[39;00m is_datetime64_dtype(value\u001b[38;5;241m.\u001b[39mdtype):\n\u001b[1;32m   3103\u001b[0m     \u001b[38;5;28mself\u001b[39m\u001b[38;5;241m.\u001b[39m_handle\u001b[38;5;241m.\u001b[39mcreate_array(\u001b[38;5;28mself\u001b[39m\u001b[38;5;241m.\u001b[39mgroup, key, value\u001b[38;5;241m.\u001b[39mview(\u001b[38;5;124m\"\u001b[39m\u001b[38;5;124mi8\u001b[39m\u001b[38;5;124m\"\u001b[39m))\n",
      "File \u001b[0;32m/export/sphere/ebirah/ko20929/miniconda3/envs/sktime_latest/lib/python3.11/site-packages/tables/vlarray.py:528\u001b[0m, in \u001b[0;36mVLArray.append\u001b[0;34m(self, sequence)\u001b[0m\n\u001b[1;32m    525\u001b[0m     nobjects \u001b[38;5;241m=\u001b[39m \u001b[38;5;241m0\u001b[39m\n\u001b[1;32m    526\u001b[0m     nparr \u001b[38;5;241m=\u001b[39m \u001b[38;5;28;01mNone\u001b[39;00m\n\u001b[0;32m--> 528\u001b[0m \u001b[38;5;28mself\u001b[39m\u001b[38;5;241m.\u001b[39m_append(nparr, nobjects)\n\u001b[1;32m    529\u001b[0m \u001b[38;5;28mself\u001b[39m\u001b[38;5;241m.\u001b[39mnrows \u001b[38;5;241m+\u001b[39m\u001b[38;5;241m=\u001b[39m \u001b[38;5;241m1\u001b[39m\n",
      "File \u001b[0;32m/export/sphere/ebirah/ko20929/miniconda3/envs/sktime_latest/lib/python3.11/site-packages/tables/hdf5extension.pyx:2029\u001b[0m, in \u001b[0;36mtables.hdf5extension.VLArray._append\u001b[0;34m()\u001b[0m\n",
      "\u001b[0;31mOverflowError\u001b[0m: value too large to convert to int"
     ]
    }
   ],
   "source": [
    "eeg_data_df.to_hdf('test_saving_eeg_data_df.h5' , key = 'df', mode = 'w')"
   ]
  },
  {
   "cell_type": "code",
   "execution_count": null,
   "id": "d299a026",
   "metadata": {},
   "outputs": [],
   "source": [
    "folder = 'eeg_data/'\n",
    "\n",
    "try:\n",
    "    eeg_data_df.to_hdf(eeg_data_df, folder + data_type + '_eeg_data_df.h5' , key = 'df', mode = 'w')\n",
    "except:\n",
    "    print('Erorr triggered for ' + data_type + '_eeg_data_df.h5')\n",
    "    pass\n",
    "\n",
    "groups.to_hdf(folder + data_type + '_groups.h5' , key = 's', mode = 'w')\n",
    "class_list.to_hdf(folder + data_type + '_class_list.h5' , key = 's', mode = 'w')\n",
    "y.to_hdf(folder + data_type + '_y.h5' , key = 's', mode = 'w')"
   ]
  },
  {
   "cell_type": "markdown",
   "id": "79f52d0f",
   "metadata": {},
   "source": [
    "### Now write the code that organically only creates a subset of the features together at a time to then recombine later"
   ]
  },
  {
   "cell_type": "code",
   "execution_count": 57,
   "id": "c583a966",
   "metadata": {},
   "outputs": [
    {
     "data": {
      "text/plain": [
       "256.0"
      ]
     },
     "execution_count": 57,
     "metadata": {},
     "output_type": "execute_result"
    }
   ],
   "source": [
    "691200 / (45*60)"
   ]
  },
  {
   "cell_type": "code",
   "execution_count": 60,
   "id": "da9f7da3",
   "metadata": {},
   "outputs": [
    {
     "data": {
      "text/plain": [
       "1.425"
      ]
     },
     "execution_count": 60,
     "metadata": {},
     "output_type": "execute_result"
    }
   ],
   "source": [
    "(1.5*57) / 60"
   ]
  },
  {
   "cell_type": "code",
   "execution_count": null,
   "id": "bb8feaf6",
   "metadata": {},
   "outputs": [],
   "source": [
    "#This is basically 90 mins per individual sample .... So let's write some code to run it 71 samples in parallel for N2 dataframe"
   ]
  },
  {
   "cell_type": "code",
   "execution_count": null,
   "id": "d2d55335",
   "metadata": {},
   "outputs": [],
   "source": []
  }
 ],
 "metadata": {
  "kernelspec": {
   "display_name": "Python 3 (ipykernel)",
   "language": "python",
   "name": "python3"
  },
  "language_info": {
   "codemirror_mode": {
    "name": "ipython",
    "version": 3
   },
   "file_extension": ".py",
   "mimetype": "text/x-python",
   "name": "python",
   "nbconvert_exporter": "python",
   "pygments_lexer": "ipython3",
   "version": "3.11.3"
  }
 },
 "nbformat": 4,
 "nbformat_minor": 5
}
