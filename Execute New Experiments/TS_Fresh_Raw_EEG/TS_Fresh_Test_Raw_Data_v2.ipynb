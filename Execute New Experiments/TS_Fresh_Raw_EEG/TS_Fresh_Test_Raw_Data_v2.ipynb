{
 "cells": [
  {
   "cell_type": "code",
   "execution_count": 1,
   "id": "940ede61-f1a2-4c0f-b3b9-e495d531a9f6",
   "metadata": {},
   "outputs": [
    {
     "name": "stderr",
     "output_type": "stream",
     "text": [
      "/user/home/ko20929/.conda/envs/sktime_latest/lib/python3.11/site-packages/antropy/fractal.py:197: NumbaDeprecationWarning: \u001b[1mThe 'nopython' keyword argument was not supplied to the 'numba.jit' decorator. The implicit default value for this argument is currently False, but it will be changed to True in Numba 0.59.0. See https://numba.readthedocs.io/en/stable/reference/deprecation.html#deprecation-of-object-mode-fall-back-behaviour-when-using-jit for details.\u001b[0m\n",
      "  @jit((types.Array(types.float64, 1, \"C\", readonly=True), types.int32))\n"
     ]
    }
   ],
   "source": [
    "import pandas as pd\n",
    "import mne as mne\n",
    "import os \n",
    "import time\n",
    "import numpy as np\n",
    "import matplotlib.pyplot as plt\n",
    "import joblib\n",
    "import constants\n",
    "from IPython.utils import io\n",
    "import time\n",
    "import sys\n",
    "import yasa\n",
    "from scipy.signal import welch\n",
    "\n",
    "from sklearn.model_selection import train_test_split\n",
    "\n",
    "from sklearn.ensemble import RandomForestClassifier\n",
    "from sklearn.tree import DecisionTreeClassifier\n",
    "from sklearn.svm import SVC\n",
    "from sklearn.ensemble import AdaBoostClassifier\n",
    "\n",
    "from sklearn.metrics import accuracy_score\n",
    "\n",
    "#Import my modules\n",
    "import format_eeg_data\n",
    "import constants\n",
    "import eeg_stat_ts\n",
    "import run_expts\n",
    "import custom_ts_length\n",
    "\n",
    "#TS Fresh Parameter Settings\n",
    "from tsfresh.feature_extraction import ComprehensiveFCParameters\n",
    "from tsfresh.feature_extraction import MinimalFCParameters\n",
    "from tsfresh.feature_extraction import EfficientFCParameters\n",
    "from tsfresh.feature_extraction import extract_features\n",
    "\n",
    "# Set display options to show all rows and columns\n",
    "pd.set_option('display.max_rows', 50)  # Show rows\n",
    "pd.set_option('display.max_columns', 160)  # Show columns"
   ]
  },
  {
   "cell_type": "code",
   "execution_count": 2,
   "id": "47b19c1d-1fd7-484f-b51d-a1abb21f9bb3",
   "metadata": {},
   "outputs": [],
   "source": [
    "%%capture captured_output\n",
    "#generate all path names and class list(s) etc. \n",
    "channels = constants.channel_list\n",
    "paths , class_list, sleep_night_list , sleep_type_list , participant_id_list = constants.generate_paths_and_info(blue_pebble = True)"
   ]
  },
  {
   "cell_type": "code",
   "execution_count": 8,
   "id": "2acd2753-2272-40ad-9cc3-fd228e42acb3",
   "metadata": {},
   "outputs": [],
   "source": [
    "%%capture captured_output\n",
    "\n",
    "t1 = time.time()\n",
    "\n",
    "folder = '/user/home/ko20929/work/RBD_using_custom_package/Blue_pebble/'\n",
    "data_type = ['Wake', 'N1', 'N2','N3', 'REM'][0]\n",
    "paths = joblib.load(folder + data_type + '_paths.pkl')\n",
    "\n",
    "#Load each raw dataframe and convert into a row for the larger dataframe \n",
    "overall_dfs_rows = []\n",
    "\n",
    "for path in paths['selected_paths']:\n",
    "    data_epo = mne.read_epochs(path)\n",
    "    df_full = data_epo.to_data_frame()\n",
    "\n",
    "    #Convert the dataframe into a row\n",
    "    new_row = {}\n",
    "    for col in df_full.columns: #iterate through feature columns   \n",
    "        series = df_full[col] #This gives you the series that you want to append to the new dataframe\n",
    "        new_row[str(col)] = series\n",
    "    \n",
    "    overall_dfs_rows.append(new_row)\n",
    "\n",
    "df_all_samples = pd.DataFrame(overall_dfs_rows)\n",
    "\n",
    "t2 = time.time()\n",
    "\n",
    "time_taken = t2 - t1 #takes around 10 seconds for the Wake Data"
   ]
  },
  {
   "cell_type": "code",
   "execution_count": 11,
   "id": "4a9ddc88-4382-4d10-b486-b58be60a54aa",
   "metadata": {},
   "outputs": [],
   "source": [
    "# df_all_samples.head()"
   ]
  },
  {
   "cell_type": "markdown",
   "id": "24203057-974a-4f2c-b996-b698cf213704",
   "metadata": {},
   "source": [
    "#### Do TSFresh Feature Extraction on the raw signal"
   ]
  },
  {
   "cell_type": "code",
   "execution_count": 17,
   "id": "4f116e39-1df1-4e19-b420-cee03f89d10f",
   "metadata": {},
   "outputs": [
    {
     "data": {
      "text/plain": [
       "10.094746112823486"
      ]
     },
     "execution_count": 17,
     "metadata": {},
     "output_type": "execute_result"
    }
   ],
   "source": [
    "t1 = time.time()\n",
    "#Choose how many minutes of the Raw EEG data you actually want to use\n",
    "mins = 5\n",
    "\n",
    "\n",
    "for mins in [1,2,3,4,5]:\n",
    "    new_length = 256*60*mins #convert minutes to the number of data points\n",
    "    df_snipped = custom_ts_length.customise_df_ts_length(df_all_samples, new_length, impute = True)\n",
    "    df_snipped = df_snipped.drop(columns = ['time', 'condition', 'epoch'] )\n",
    "\n",
    "\n",
    "t2 = time.time()\n",
    "\n",
    "t2-t1"
   ]
  },
  {
   "cell_type": "code",
   "execution_count": 20,
   "id": "35b5c54a-89e6-4e17-ac6f-4e4e7d7cca77",
   "metadata": {},
   "outputs": [],
   "source": [
    "#Convert into TS_Fresh format Dataframe so that TS Fresh statistics can be calculated\n",
    "ts_fresh_df = format_eeg_data.convert_sktime_df_to_ts_fresh_format(df_snipped, ts_cols = list(df_snipped.columns))"
   ]
  },
  {
   "cell_type": "code",
   "execution_count": 47,
   "id": "04132a5f-931a-4d3d-8a68-580b7f68c82f",
   "metadata": {},
   "outputs": [
    {
     "name": "stderr",
     "output_type": "stream",
     "text": [
      "14-Dec-23 15:55:51 | WARNING | Dependency not available for matrix_profile, this feature will be disabled!\n",
      "14-Dec-23 15:55:55 | WARNING | Dependency not available for matrix_profile, this feature will be disabled!\n",
      "14-Dec-23 15:56:00 | WARNING | Dependency not available for matrix_profile, this feature will be disabled!\n",
      "14-Dec-23 15:56:06 | WARNING | Dependency not available for matrix_profile, this feature will be disabled!\n",
      "14-Dec-23 15:56:14 | WARNING | Dependency not available for matrix_profile, this feature will be disabled!\n",
      "14-Dec-23 15:56:23 | WARNING | Dependency not available for matrix_profile, this feature will be disabled!\n",
      "14-Dec-23 15:56:33 | WARNING | Dependency not available for matrix_profile, this feature will be disabled!\n",
      "14-Dec-23 15:56:45 | WARNING | Dependency not available for matrix_profile, this feature will be disabled!\n",
      "14-Dec-23 15:56:58 | WARNING | Dependency not available for matrix_profile, this feature will be disabled!\n",
      "14-Dec-23 15:57:12 | WARNING | Dependency not available for matrix_profile, this feature will be disabled!\n",
      "14-Dec-23 15:57:28 | WARNING | Dependency not available for matrix_profile, this feature will be disabled!\n",
      "14-Dec-23 15:57:45 | WARNING | Dependency not available for matrix_profile, this feature will be disabled!\n"
     ]
    }
   ],
   "source": [
    "%%capture captured_output\n",
    "\n",
    "\n",
    "#2. Extract TS_Fresh Features from the dataframe\n",
    "\n",
    "timings_dict = {}\n",
    "timings_dict['times'] = []\n",
    "timings_dict['n_channels'] = []\n",
    "\n",
    "for i in range(1,57,5):\n",
    "    \n",
    "    t1 = time.time()\n",
    "    \n",
    "    subset_df = ts_fresh_df.iloc[:, :1 + i].copy()\n",
    "    subset_df['time'] = ts_fresh_df['time']\n",
    "    \n",
    "    settings = MinimalFCParameters()\n",
    "    # settings = EfficientFCParameters()\n",
    "    \n",
    "    extracted_ts_fresh_df = extract_features(subset_df, column_id = 'id' , column_sort = 'time',  default_fc_parameters=settings)\n",
    "\n",
    "    t2 = time.time()\n",
    "    time_taken = t2-t1\n",
    "    \n",
    "    timings_dict['times'].append(time_taken)\n",
    "    \n",
    "    timings_dict['n_channels'].append(i)\n",
    "    print(str(i) + '  done..!')"
   ]
  },
  {
   "cell_type": "markdown",
   "id": "cfdbcd4b-83ab-4848-8883-522d87e73cc3",
   "metadata": {},
   "source": [
    "### Time Taken vs Num Channels for 5 minutes of Raw EEG data and 55 samples (linear relationship)"
   ]
  },
  {
   "cell_type": "code",
   "execution_count": 53,
   "id": "d77c8f83-0a11-4ed1-98c8-692128d8bb03",
   "metadata": {},
   "outputs": [],
   "source": [
    "from sklearn.linear_model import LinearRegression"
   ]
  },
  {
   "cell_type": "code",
   "execution_count": 63,
   "id": "c7200054-7261-4acf-9f18-cf1d2b55f4b6",
   "metadata": {},
   "outputs": [
    {
     "data": {
      "text/plain": [
       "array([0.27263844])"
      ]
     },
     "execution_count": 63,
     "metadata": {},
     "output_type": "execute_result"
    }
   ],
   "source": [
    "X = np.array( copied_dict['n_channels'] ).reshape(-1,1)\n",
    "y = np.array( copied_dict['times'] )\n",
    "reg = LinearRegression().fit(X, y)\n",
    "reg.score(X, y)\n",
    "reg.coef_"
   ]
  },
  {
   "cell_type": "code",
   "execution_count": 65,
   "id": "af37d447-1831-4def-aa2f-5b7913413ee4",
   "metadata": {},
   "outputs": [
    {
     "data": {
      "text/plain": [
       "3.218890228582712"
      ]
     },
     "execution_count": 65,
     "metadata": {},
     "output_type": "execute_result"
    }
   ],
   "source": [
    "reg.intercept_"
   ]
  },
  {
   "cell_type": "code",
   "execution_count": 69,
   "id": "89f37791-4a2d-4b5f-b0c7-88c6ce56f541",
   "metadata": {},
   "outputs": [
    {
     "data": {
      "text/plain": [
       "Text(0.5, 0, 'Num Channels')"
      ]
     },
     "execution_count": 69,
     "metadata": {},
     "output_type": "execute_result"
    },
    {
     "data": {
      "image/png": "[encoded data removed]",
      "text/plain": [
       "<Figure size 640x480 with 1 Axes>"
      ]
     },
     "metadata": {},
     "output_type": "display_data"
    }
   ],
   "source": [
    "# copied_dict = timings_dict.copy()\n",
    "plt.title('Run time (seconds) vs Num Channels')\n",
    "\n",
    "plt.scatter(copied_dict['n_channels'], copied_dict['times'])\n",
    "plt.plot(copied_dict['n_channels'], copied_dict['times'])\n",
    "plt.plot([i for i in range(0,57,1)], [ (reg.coef_*i + reg.intercept_) for i in range(0,57,1)], label = 'regression')\n",
    "plt.legend()\n",
    "\n",
    "plt.ylabel('Run time (seconds)')\n",
    "plt.xlabel('Num Channels')"
   ]
  }
 ],
 "metadata": {
  "kernelspec": {
   "display_name": "Python 3 (ipykernel)",
   "language": "python",
   "name": "python3"
  },
  "language_info": {
   "codemirror_mode": {
    "name": "ipython",
    "version": 3
   },
   "file_extension": ".py",
   "mimetype": "text/x-python",
   "name": "python",
   "nbconvert_exporter": "python",
   "pygments_lexer": "ipython3",
   "version": "3.11.3"
  }
 },
 "nbformat": 4,
 "nbformat_minor": 5
}
