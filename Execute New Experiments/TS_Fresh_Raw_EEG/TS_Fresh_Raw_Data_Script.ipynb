{
 "cells": [
  {
   "cell_type": "code",
   "execution_count": 1,
   "id": "ac4f3878-d3ce-4795-99f4-63a32e0a7d5a",
   "metadata": {
    "scrolled": true
   },
   "outputs": [
    {
     "name": "stderr",
     "output_type": "stream",
     "text": [
      "/user/home/ko20929/.conda/envs/sktime_latest/lib/python3.11/site-packages/antropy/fractal.py:197: NumbaDeprecationWarning: \u001b[1mThe 'nopython' keyword argument was not supplied to the 'numba.jit' decorator. The implicit default value for this argument is currently False, but it will be changed to True in Numba 0.59.0. See https://numba.readthedocs.io/en/stable/reference/deprecation.html#deprecation-of-object-mode-fall-back-behaviour-when-using-jit for details.\u001b[0m\n",
      "  @jit((types.Array(types.float64, 1, \"C\", readonly=True), types.int32))\n"
     ]
    }
   ],
   "source": [
    "import pandas as pd\n",
    "import mne as mne\n",
    "import os \n",
    "import time\n",
    "import numpy as np\n",
    "import matplotlib.pyplot as plt\n",
    "import joblib\n",
    "import constants\n",
    "from IPython.utils import io\n",
    "import time\n",
    "import sys\n",
    "import yasa\n",
    "from scipy.signal import welch\n",
    "\n",
    "from sklearn.model_selection import train_test_split\n",
    "\n",
    "from sklearn.ensemble import RandomForestClassifier\n",
    "from sklearn.tree import DecisionTreeClassifier\n",
    "from sklearn.svm import SVC\n",
    "from sklearn.ensemble import AdaBoostClassifier\n",
    "\n",
    "from sklearn.metrics import accuracy_score\n",
    "\n",
    "#Import my modules\n",
    "import format_eeg_data\n",
    "import constants\n",
    "import eeg_stat_ts\n",
    "import run_expts\n",
    "import custom_ts_length\n",
    "\n",
    "#TS Fresh Parameter Settings\n",
    "from tsfresh.feature_extraction import ComprehensiveFCParameters\n",
    "from tsfresh.feature_extraction import MinimalFCParameters\n",
    "from tsfresh.feature_extraction import EfficientFCParameters\n",
    "from tsfresh.feature_extraction import extract_features\n",
    "\n",
    "# Set display options to show all rows and columns\n",
    "pd.set_option('display.max_rows', 50)  # Show rows\n",
    "pd.set_option('display.max_columns', 160)  # Show columns"
   ]
  },
  {
   "cell_type": "code",
   "execution_count": 2,
   "id": "fa642e08-7815-4b72-8b6e-debf40ab50bf",
   "metadata": {},
   "outputs": [],
   "source": [
    "input_num = 0 #this determines the data type via -> ['Wake', 'N1', 'N2','N3', 'REM'][input_num]\n",
    "input_num = int(sys.argv[1]) #This will be input to the script"
   ]
  },
  {
   "cell_type": "code",
   "execution_count": 3,
   "id": "fbb683bf-0991-4cf4-811b-aaf0ad9e7510",
   "metadata": {},
   "outputs": [],
   "source": [
    "save_folder = '/user/home/ko20929/work/RBD_using_custom_package/Execute New Experiments/TS_Fresh_Raw_EEG/Data/'"
   ]
  },
  {
   "cell_type": "code",
   "execution_count": null,
   "id": "9a41cc9a-530b-4a0f-a613-8bbd9c969200",
   "metadata": {},
   "outputs": [],
   "source": [
    "#generate all path names and class list(s) etc. \n",
    "channels = constants.channel_list\n",
    "paths , class_list, sleep_night_list , sleep_type_list , participant_id_list = constants.generate_paths_and_info(blue_pebble = True)"
   ]
  },
  {
   "cell_type": "code",
   "execution_count": 11,
   "id": "2505ef94-bf5d-4499-a99a-e2fb63f0aeca",
   "metadata": {},
   "outputs": [
    {
     "name": "stdout",
     "output_type": "stream",
     "text": [
      "Reading /user/work/ko20929/fif_files/Wakeful_data_2/HC_1101_Night 3_ec.fif ...\n",
      "    Found the data of interest:\n",
      "        t =       0.00 ...   29996.09 ms\n",
      "        0 CTF compensation matrices available\n",
      "Not setting metadata\n",
      "6 matching events found\n",
      "No baseline correction applied\n",
      "0 projection items activated\n"
     ]
    },
    {
     "name": "stderr",
     "output_type": "stream",
     "text": [
      "/tmp/ipykernel_185691/3078738400.py:9: RuntimeWarning: This filename (/user/work/ko20929/fif_files/Wakeful_data_2/HC_1101_Night 3_ec.fif) does not conform to MNE naming conventions. All epochs files should end with -epo.fif, -epo.fif.gz, _epo.fif or _epo.fif.gz\n",
      "  data_epo = mne.read_epochs(path)\n"
     ]
    },
    {
     "name": "stdout",
     "output_type": "stream",
     "text": [
      "Reading /user/work/ko20929/fif_files/Wakeful_data_2/HC_1102_Night 2_ec.fif ...\n",
      "    Found the data of interest:\n",
      "        t =       0.00 ...   19996.09 ms\n",
      "        0 CTF compensation matrices available\n",
      "Not setting metadata\n",
      "14 matching events found\n",
      "No baseline correction applied\n",
      "0 projection items activated\n"
     ]
    },
    {
     "name": "stderr",
     "output_type": "stream",
     "text": [
      "/tmp/ipykernel_185691/3078738400.py:9: RuntimeWarning: This filename (/user/work/ko20929/fif_files/Wakeful_data_2/HC_1102_Night 2_ec.fif) does not conform to MNE naming conventions. All epochs files should end with -epo.fif, -epo.fif.gz, _epo.fif or _epo.fif.gz\n",
      "  data_epo = mne.read_epochs(path)\n"
     ]
    },
    {
     "name": "stdout",
     "output_type": "stream",
     "text": [
      "Reading /user/work/ko20929/fif_files/Wakeful_data_2/HC_1103_Night 2_ec.fif ...\n",
      "    Found the data of interest:\n",
      "        t =       0.00 ...   19996.09 ms\n",
      "        0 CTF compensation matrices available\n",
      "Not setting metadata\n",
      "10 matching events found\n",
      "No baseline correction applied\n",
      "0 projection items activated\n"
     ]
    },
    {
     "name": "stderr",
     "output_type": "stream",
     "text": [
      "/tmp/ipykernel_185691/3078738400.py:9: RuntimeWarning: This filename (/user/work/ko20929/fif_files/Wakeful_data_2/HC_1103_Night 2_ec.fif) does not conform to MNE naming conventions. All epochs files should end with -epo.fif, -epo.fif.gz, _epo.fif or _epo.fif.gz\n",
      "  data_epo = mne.read_epochs(path)\n"
     ]
    },
    {
     "name": "stdout",
     "output_type": "stream",
     "text": [
      "Reading /user/work/ko20929/fif_files/Wakeful_data_2/HC_1104_Night 2_ec.fif ...\n",
      "    Found the data of interest:\n",
      "        t =       0.00 ...   19996.09 ms\n",
      "        0 CTF compensation matrices available\n",
      "Not setting metadata\n",
      "5 matching events found\n",
      "No baseline correction applied\n",
      "0 projection items activated\n",
      "Reading /user/work/ko20929/fif_files/Wakeful_data_2/HC_1105_Night 2_ec.fif ...\n",
      "    Found the data of interest:\n",
      "        t =       0.00 ...   19996.09 ms\n",
      "        0 CTF compensation matrices available\n"
     ]
    },
    {
     "name": "stderr",
     "output_type": "stream",
     "text": [
      "/tmp/ipykernel_185691/3078738400.py:9: RuntimeWarning: This filename (/user/work/ko20929/fif_files/Wakeful_data_2/HC_1104_Night 2_ec.fif) does not conform to MNE naming conventions. All epochs files should end with -epo.fif, -epo.fif.gz, _epo.fif or _epo.fif.gz\n",
      "  data_epo = mne.read_epochs(path)\n",
      "/tmp/ipykernel_185691/3078738400.py:9: RuntimeWarning: This filename (/user/work/ko20929/fif_files/Wakeful_data_2/HC_1105_Night 2_ec.fif) does not conform to MNE naming conventions. All epochs files should end with -epo.fif, -epo.fif.gz, _epo.fif or _epo.fif.gz\n",
      "  data_epo = mne.read_epochs(path)\n"
     ]
    },
    {
     "name": "stdout",
     "output_type": "stream",
     "text": [
      "Not setting metadata\n",
      "9 matching events found\n",
      "No baseline correction applied\n",
      "0 projection items activated\n",
      "Reading /user/work/ko20929/fif_files/Wakeful_data_2/HC_1106_Night 2_ec.fif ...\n",
      "    Found the data of interest:\n",
      "        t =       0.00 ...   19996.09 ms\n",
      "        0 CTF compensation matrices available\n",
      "Not setting metadata\n",
      "8 matching events found\n",
      "No baseline correction applied\n",
      "0 projection items activated\n"
     ]
    },
    {
     "name": "stderr",
     "output_type": "stream",
     "text": [
      "/tmp/ipykernel_185691/3078738400.py:9: RuntimeWarning: This filename (/user/work/ko20929/fif_files/Wakeful_data_2/HC_1106_Night 2_ec.fif) does not conform to MNE naming conventions. All epochs files should end with -epo.fif, -epo.fif.gz, _epo.fif or _epo.fif.gz\n",
      "  data_epo = mne.read_epochs(path)\n"
     ]
    },
    {
     "name": "stdout",
     "output_type": "stream",
     "text": [
      "Reading /user/work/ko20929/fif_files/Wakeful_data_2/HC_1108_Night 2_ec.fif ...\n",
      "    Found the data of interest:\n",
      "        t =       0.00 ...   19996.09 ms\n",
      "        0 CTF compensation matrices available\n",
      "Not setting metadata\n",
      "9 matching events found\n",
      "No baseline correction applied\n",
      "0 projection items activated\n"
     ]
    },
    {
     "name": "stderr",
     "output_type": "stream",
     "text": [
      "/tmp/ipykernel_185691/3078738400.py:9: RuntimeWarning: This filename (/user/work/ko20929/fif_files/Wakeful_data_2/HC_1108_Night 2_ec.fif) does not conform to MNE naming conventions. All epochs files should end with -epo.fif, -epo.fif.gz, _epo.fif or _epo.fif.gz\n",
      "  data_epo = mne.read_epochs(path)\n"
     ]
    },
    {
     "name": "stdout",
     "output_type": "stream",
     "text": [
      "Reading /user/work/ko20929/fif_files/Wakeful_data_2/HC_1109_Night 2_ec.fif ...\n",
      "    Found the data of interest:\n",
      "        t =       0.00 ...   19996.09 ms\n",
      "        0 CTF compensation matrices available\n",
      "Not setting metadata\n",
      "13 matching events found\n",
      "No baseline correction applied\n",
      "0 projection items activated\n"
     ]
    },
    {
     "name": "stderr",
     "output_type": "stream",
     "text": [
      "/tmp/ipykernel_185691/3078738400.py:9: RuntimeWarning: This filename (/user/work/ko20929/fif_files/Wakeful_data_2/HC_1109_Night 2_ec.fif) does not conform to MNE naming conventions. All epochs files should end with -epo.fif, -epo.fif.gz, _epo.fif or _epo.fif.gz\n",
      "  data_epo = mne.read_epochs(path)\n"
     ]
    },
    {
     "name": "stdout",
     "output_type": "stream",
     "text": [
      "Reading /user/work/ko20929/fif_files/Wakeful_data_2/HC_1110_Night 2_ec.fif ...\n",
      "    Found the data of interest:\n",
      "        t =       0.00 ...   19996.09 ms\n",
      "        0 CTF compensation matrices available\n",
      "Not setting metadata\n",
      "12 matching events found\n",
      "No baseline correction applied\n",
      "0 projection items activated\n"
     ]
    },
    {
     "name": "stderr",
     "output_type": "stream",
     "text": [
      "/tmp/ipykernel_185691/3078738400.py:9: RuntimeWarning: This filename (/user/work/ko20929/fif_files/Wakeful_data_2/HC_1110_Night 2_ec.fif) does not conform to MNE naming conventions. All epochs files should end with -epo.fif, -epo.fif.gz, _epo.fif or _epo.fif.gz\n",
      "  data_epo = mne.read_epochs(path)\n"
     ]
    },
    {
     "name": "stdout",
     "output_type": "stream",
     "text": [
      "Reading /user/work/ko20929/fif_files/Wakeful_data_2/HC_1111_Night 2_ec.fif ...\n",
      "    Found the data of interest:\n",
      "        t =       0.00 ...   19996.09 ms\n",
      "        0 CTF compensation matrices available\n",
      "Not setting metadata\n",
      "12 matching events found\n",
      "No baseline correction applied\n",
      "0 projection items activated\n"
     ]
    },
    {
     "name": "stderr",
     "output_type": "stream",
     "text": [
      "/tmp/ipykernel_185691/3078738400.py:9: RuntimeWarning: This filename (/user/work/ko20929/fif_files/Wakeful_data_2/HC_1111_Night 2_ec.fif) does not conform to MNE naming conventions. All epochs files should end with -epo.fif, -epo.fif.gz, _epo.fif or _epo.fif.gz\n",
      "  data_epo = mne.read_epochs(path)\n"
     ]
    },
    {
     "name": "stdout",
     "output_type": "stream",
     "text": [
      "Reading /user/work/ko20929/fif_files/Wakeful_data_2/HC_1112_Night 1_ec.fif ...\n",
      "    Found the data of interest:\n",
      "        t =       0.00 ...   19996.09 ms\n",
      "        0 CTF compensation matrices available\n",
      "Not setting metadata\n",
      "11 matching events found\n",
      "No baseline correction applied\n",
      "0 projection items activated\n"
     ]
    },
    {
     "name": "stderr",
     "output_type": "stream",
     "text": [
      "/tmp/ipykernel_185691/3078738400.py:9: RuntimeWarning: This filename (/user/work/ko20929/fif_files/Wakeful_data_2/HC_1112_Night 1_ec.fif) does not conform to MNE naming conventions. All epochs files should end with -epo.fif, -epo.fif.gz, _epo.fif or _epo.fif.gz\n",
      "  data_epo = mne.read_epochs(path)\n"
     ]
    },
    {
     "name": "stdout",
     "output_type": "stream",
     "text": [
      "Reading /user/work/ko20929/fif_files/Wakeful_data_2/HC_1113_Night 1_ec.fif ...\n",
      "    Found the data of interest:\n",
      "        t =       0.00 ...   19996.09 ms\n",
      "        0 CTF compensation matrices available\n",
      "Not setting metadata\n",
      "13 matching events found\n",
      "No baseline correction applied\n",
      "0 projection items activated\n"
     ]
    },
    {
     "name": "stderr",
     "output_type": "stream",
     "text": [
      "/tmp/ipykernel_185691/3078738400.py:9: RuntimeWarning: This filename (/user/work/ko20929/fif_files/Wakeful_data_2/HC_1113_Night 1_ec.fif) does not conform to MNE naming conventions. All epochs files should end with -epo.fif, -epo.fif.gz, _epo.fif or _epo.fif.gz\n",
      "  data_epo = mne.read_epochs(path)\n"
     ]
    },
    {
     "name": "stdout",
     "output_type": "stream",
     "text": [
      "Reading /user/work/ko20929/fif_files/Wakeful_data_2/HC_1114_Night 2_ec.fif ...\n",
      "    Found the data of interest:\n",
      "        t =       0.00 ...   19996.09 ms\n",
      "        0 CTF compensation matrices available\n",
      "Not setting metadata\n",
      "8 matching events found\n",
      "No baseline correction applied\n",
      "0 projection items activated\n"
     ]
    },
    {
     "name": "stderr",
     "output_type": "stream",
     "text": [
      "/tmp/ipykernel_185691/3078738400.py:9: RuntimeWarning: This filename (/user/work/ko20929/fif_files/Wakeful_data_2/HC_1114_Night 2_ec.fif) does not conform to MNE naming conventions. All epochs files should end with -epo.fif, -epo.fif.gz, _epo.fif or _epo.fif.gz\n",
      "  data_epo = mne.read_epochs(path)\n"
     ]
    },
    {
     "name": "stdout",
     "output_type": "stream",
     "text": [
      "Reading /user/work/ko20929/fif_files/Wakeful_data_2/HC_1115_Night 2_ec.fif ...\n",
      "    Found the data of interest:\n",
      "        t =       0.00 ...   19996.09 ms\n",
      "        0 CTF compensation matrices available\n",
      "Not setting metadata\n",
      "8 matching events found\n",
      "No baseline correction applied\n",
      "0 projection items activated\n"
     ]
    },
    {
     "name": "stderr",
     "output_type": "stream",
     "text": [
      "/tmp/ipykernel_185691/3078738400.py:9: RuntimeWarning: This filename (/user/work/ko20929/fif_files/Wakeful_data_2/HC_1115_Night 2_ec.fif) does not conform to MNE naming conventions. All epochs files should end with -epo.fif, -epo.fif.gz, _epo.fif or _epo.fif.gz\n",
      "  data_epo = mne.read_epochs(path)\n"
     ]
    },
    {
     "name": "stdout",
     "output_type": "stream",
     "text": [
      "Reading /user/work/ko20929/fif_files/Wakeful_data_2/HC_1116_Night 2_ec.fif ...\n",
      "    Found the data of interest:\n",
      "        t =       0.00 ...   19996.09 ms\n",
      "        0 CTF compensation matrices available\n",
      "Not setting metadata\n",
      "10 matching events found\n",
      "No baseline correction applied\n",
      "0 projection items activated\n"
     ]
    },
    {
     "name": "stderr",
     "output_type": "stream",
     "text": [
      "/tmp/ipykernel_185691/3078738400.py:9: RuntimeWarning: This filename (/user/work/ko20929/fif_files/Wakeful_data_2/HC_1116_Night 2_ec.fif) does not conform to MNE naming conventions. All epochs files should end with -epo.fif, -epo.fif.gz, _epo.fif or _epo.fif.gz\n",
      "  data_epo = mne.read_epochs(path)\n"
     ]
    },
    {
     "name": "stdout",
     "output_type": "stream",
     "text": [
      "Reading /user/work/ko20929/fif_files/Wakeful_data_2/HC_1117_Night 2_ec.fif ...\n",
      "    Found the data of interest:\n",
      "        t =       0.00 ...   19996.09 ms\n",
      "        0 CTF compensation matrices available\n",
      "Not setting metadata\n",
      "7 matching events found\n",
      "No baseline correction applied\n",
      "0 projection items activated\n"
     ]
    },
    {
     "name": "stderr",
     "output_type": "stream",
     "text": [
      "/tmp/ipykernel_185691/3078738400.py:9: RuntimeWarning: This filename (/user/work/ko20929/fif_files/Wakeful_data_2/HC_1117_Night 2_ec.fif) does not conform to MNE naming conventions. All epochs files should end with -epo.fif, -epo.fif.gz, _epo.fif or _epo.fif.gz\n",
      "  data_epo = mne.read_epochs(path)\n",
      "/tmp/ipykernel_185691/3078738400.py:9: RuntimeWarning: This filename (/user/work/ko20929/fif_files/Wakeful_data_2/HC_1118_Night 2_ec.fif) does not conform to MNE naming conventions. All epochs files should end with -epo.fif, -epo.fif.gz, _epo.fif or _epo.fif.gz\n",
      "  data_epo = mne.read_epochs(path)\n"
     ]
    },
    {
     "name": "stdout",
     "output_type": "stream",
     "text": [
      "Reading /user/work/ko20929/fif_files/Wakeful_data_2/HC_1118_Night 2_ec.fif ...\n",
      "    Found the data of interest:\n",
      "        t =       0.00 ...   19996.09 ms\n",
      "        0 CTF compensation matrices available\n",
      "Not setting metadata\n",
      "9 matching events found\n",
      "No baseline correction applied\n",
      "0 projection items activated\n",
      "Reading /user/work/ko20929/fif_files/Wakeful_data_2/HC_1119_Night 2_ec.fif ...\n",
      "    Found the data of interest:\n",
      "        t =       0.00 ...   19996.09 ms\n",
      "        0 CTF compensation matrices available\n",
      "Not setting metadata\n",
      "11 matching events found\n",
      "No baseline correction applied\n",
      "0 projection items activated\n"
     ]
    },
    {
     "name": "stderr",
     "output_type": "stream",
     "text": [
      "/tmp/ipykernel_185691/3078738400.py:9: RuntimeWarning: This filename (/user/work/ko20929/fif_files/Wakeful_data_2/HC_1119_Night 2_ec.fif) does not conform to MNE naming conventions. All epochs files should end with -epo.fif, -epo.fif.gz, _epo.fif or _epo.fif.gz\n",
      "  data_epo = mne.read_epochs(path)\n"
     ]
    },
    {
     "name": "stdout",
     "output_type": "stream",
     "text": [
      "Reading /user/work/ko20929/fif_files/Wakeful_data_2/RBD_2201_Night 2_ec.fif ...\n",
      "    Found the data of interest:\n",
      "        t =       0.00 ...   19996.09 ms\n",
      "        0 CTF compensation matrices available\n",
      "Not setting metadata\n",
      "11 matching events found\n",
      "No baseline correction applied\n",
      "0 projection items activated\n"
     ]
    },
    {
     "name": "stderr",
     "output_type": "stream",
     "text": [
      "/tmp/ipykernel_185691/3078738400.py:9: RuntimeWarning: This filename (/user/work/ko20929/fif_files/Wakeful_data_2/RBD_2201_Night 2_ec.fif) does not conform to MNE naming conventions. All epochs files should end with -epo.fif, -epo.fif.gz, _epo.fif or _epo.fif.gz\n",
      "  data_epo = mne.read_epochs(path)\n"
     ]
    },
    {
     "name": "stdout",
     "output_type": "stream",
     "text": [
      "Reading /user/work/ko20929/fif_files/Wakeful_data_2/RBD_2202_Night 3_ec.fif ...\n",
      "    Found the data of interest:\n",
      "        t =       0.00 ...   19996.09 ms\n",
      "        0 CTF compensation matrices available\n",
      "Not setting metadata\n",
      "11 matching events found\n",
      "No baseline correction applied\n",
      "0 projection items activated\n"
     ]
    },
    {
     "name": "stderr",
     "output_type": "stream",
     "text": [
      "/tmp/ipykernel_185691/3078738400.py:9: RuntimeWarning: This filename (/user/work/ko20929/fif_files/Wakeful_data_2/RBD_2202_Night 3_ec.fif) does not conform to MNE naming conventions. All epochs files should end with -epo.fif, -epo.fif.gz, _epo.fif or _epo.fif.gz\n",
      "  data_epo = mne.read_epochs(path)\n"
     ]
    },
    {
     "name": "stdout",
     "output_type": "stream",
     "text": [
      "Reading /user/work/ko20929/fif_files/Wakeful_data_2/RBD_2203_Night 3_ec.fif ...\n",
      "    Found the data of interest:\n",
      "        t =       0.00 ...   19996.09 ms\n",
      "        0 CTF compensation matrices available\n",
      "Not setting metadata\n",
      "13 matching events found\n",
      "No baseline correction applied\n"
     ]
    },
    {
     "name": "stderr",
     "output_type": "stream",
     "text": [
      "/tmp/ipykernel_185691/3078738400.py:9: RuntimeWarning: This filename (/user/work/ko20929/fif_files/Wakeful_data_2/RBD_2203_Night 3_ec.fif) does not conform to MNE naming conventions. All epochs files should end with -epo.fif, -epo.fif.gz, _epo.fif or _epo.fif.gz\n",
      "  data_epo = mne.read_epochs(path)\n"
     ]
    },
    {
     "name": "stdout",
     "output_type": "stream",
     "text": [
      "0 projection items activated\n",
      "Reading /user/work/ko20929/fif_files/Wakeful_data_2/RBD_2204_Night 1_ec.fif ...\n",
      "    Found the data of interest:\n",
      "        t =       0.00 ...   19996.09 ms\n",
      "        0 CTF compensation matrices available\n",
      "Not setting metadata\n",
      "14 matching events found\n",
      "No baseline correction applied\n",
      "0 projection items activated\n"
     ]
    },
    {
     "name": "stderr",
     "output_type": "stream",
     "text": [
      "/tmp/ipykernel_185691/3078738400.py:9: RuntimeWarning: This filename (/user/work/ko20929/fif_files/Wakeful_data_2/RBD_2204_Night 1_ec.fif) does not conform to MNE naming conventions. All epochs files should end with -epo.fif, -epo.fif.gz, _epo.fif or _epo.fif.gz\n",
      "  data_epo = mne.read_epochs(path)\n"
     ]
    },
    {
     "name": "stdout",
     "output_type": "stream",
     "text": [
      "Reading /user/work/ko20929/fif_files/Wakeful_data_2/RBD_2204_Night 2_ec.fif ...\n",
      "    Found the data of interest:\n",
      "        t =       0.00 ...   19996.09 ms\n",
      "        0 CTF compensation matrices available\n",
      "Not setting metadata\n",
      "9 matching events found\n",
      "No baseline correction applied\n",
      "0 projection items activated\n"
     ]
    },
    {
     "name": "stderr",
     "output_type": "stream",
     "text": [
      "/tmp/ipykernel_185691/3078738400.py:9: RuntimeWarning: This filename (/user/work/ko20929/fif_files/Wakeful_data_2/RBD_2204_Night 2_ec.fif) does not conform to MNE naming conventions. All epochs files should end with -epo.fif, -epo.fif.gz, _epo.fif or _epo.fif.gz\n",
      "  data_epo = mne.read_epochs(path)\n"
     ]
    },
    {
     "name": "stdout",
     "output_type": "stream",
     "text": [
      "Reading /user/work/ko20929/fif_files/Wakeful_data_2/RBD_2205_Night 2_ec.fif ...\n",
      "    Found the data of interest:\n",
      "        t =       0.00 ...   19996.09 ms\n",
      "        0 CTF compensation matrices available\n",
      "Not setting metadata\n",
      "10 matching events found\n",
      "No baseline correction applied\n",
      "0 projection items activated\n"
     ]
    },
    {
     "name": "stderr",
     "output_type": "stream",
     "text": [
      "/tmp/ipykernel_185691/3078738400.py:9: RuntimeWarning: This filename (/user/work/ko20929/fif_files/Wakeful_data_2/RBD_2205_Night 2_ec.fif) does not conform to MNE naming conventions. All epochs files should end with -epo.fif, -epo.fif.gz, _epo.fif or _epo.fif.gz\n",
      "  data_epo = mne.read_epochs(path)\n"
     ]
    },
    {
     "name": "stdout",
     "output_type": "stream",
     "text": [
      "Reading /user/work/ko20929/fif_files/Wakeful_data_2/RBD_2206_Night 2_ec.fif ...\n",
      "    Found the data of interest:\n",
      "        t =       0.00 ...   19996.09 ms\n",
      "        0 CTF compensation matrices available\n",
      "Not setting metadata\n",
      "13 matching events found\n",
      "No baseline correction applied\n",
      "0 projection items activated\n"
     ]
    },
    {
     "name": "stderr",
     "output_type": "stream",
     "text": [
      "/tmp/ipykernel_185691/3078738400.py:9: RuntimeWarning: This filename (/user/work/ko20929/fif_files/Wakeful_data_2/RBD_2206_Night 2_ec.fif) does not conform to MNE naming conventions. All epochs files should end with -epo.fif, -epo.fif.gz, _epo.fif or _epo.fif.gz\n",
      "  data_epo = mne.read_epochs(path)\n"
     ]
    },
    {
     "name": "stdout",
     "output_type": "stream",
     "text": [
      "Reading /user/work/ko20929/fif_files/Wakeful_data_2/RBD_2207_Night 2_ec.fif ...\n",
      "    Found the data of interest:\n",
      "        t =       0.00 ...   19996.09 ms\n",
      "        0 CTF compensation matrices available\n",
      "Not setting metadata\n",
      "12 matching events found\n",
      "No baseline correction applied\n",
      "0 projection items activated\n"
     ]
    },
    {
     "name": "stderr",
     "output_type": "stream",
     "text": [
      "/tmp/ipykernel_185691/3078738400.py:9: RuntimeWarning: This filename (/user/work/ko20929/fif_files/Wakeful_data_2/RBD_2207_Night 2_ec.fif) does not conform to MNE naming conventions. All epochs files should end with -epo.fif, -epo.fif.gz, _epo.fif or _epo.fif.gz\n",
      "  data_epo = mne.read_epochs(path)\n"
     ]
    },
    {
     "name": "stdout",
     "output_type": "stream",
     "text": [
      "Reading /user/work/ko20929/fif_files/Wakeful_data_2/RBD_2208_Night 3_ec.fif ...\n",
      "    Found the data of interest:\n",
      "        t =       0.00 ...   19996.09 ms\n",
      "        0 CTF compensation matrices available\n",
      "Not setting metadata\n",
      "14 matching events found\n",
      "No baseline correction applied\n",
      "0 projection items activated\n"
     ]
    },
    {
     "name": "stderr",
     "output_type": "stream",
     "text": [
      "/tmp/ipykernel_185691/3078738400.py:9: RuntimeWarning: This filename (/user/work/ko20929/fif_files/Wakeful_data_2/RBD_2208_Night 3_ec.fif) does not conform to MNE naming conventions. All epochs files should end with -epo.fif, -epo.fif.gz, _epo.fif or _epo.fif.gz\n",
      "  data_epo = mne.read_epochs(path)\n"
     ]
    },
    {
     "name": "stdout",
     "output_type": "stream",
     "text": [
      "Reading /user/work/ko20929/fif_files/Wakeful_data_2/RBD_2209_Night 3_ec.fif ...\n",
      "    Found the data of interest:\n",
      "        t =       0.00 ...   19996.09 ms\n",
      "        0 CTF compensation matrices available\n",
      "Not setting metadata\n",
      "12 matching events found\n",
      "No baseline correction applied\n",
      "0 projection items activated\n"
     ]
    },
    {
     "name": "stderr",
     "output_type": "stream",
     "text": [
      "/tmp/ipykernel_185691/3078738400.py:9: RuntimeWarning: This filename (/user/work/ko20929/fif_files/Wakeful_data_2/RBD_2209_Night 3_ec.fif) does not conform to MNE naming conventions. All epochs files should end with -epo.fif, -epo.fif.gz, _epo.fif or _epo.fif.gz\n",
      "  data_epo = mne.read_epochs(path)\n"
     ]
    },
    {
     "name": "stdout",
     "output_type": "stream",
     "text": [
      "Reading /user/work/ko20929/fif_files/Wakeful_data_2/RBD_2210_Night 3_ec.fif ...\n",
      "    Found the data of interest:\n",
      "        t =       0.00 ...   19996.09 ms\n",
      "        0 CTF compensation matrices available\n",
      "Not setting metadata\n",
      "8 matching events found\n",
      "No baseline correction applied\n",
      "0 projection items activated\n"
     ]
    },
    {
     "name": "stderr",
     "output_type": "stream",
     "text": [
      "/tmp/ipykernel_185691/3078738400.py:9: RuntimeWarning: This filename (/user/work/ko20929/fif_files/Wakeful_data_2/RBD_2210_Night 3_ec.fif) does not conform to MNE naming conventions. All epochs files should end with -epo.fif, -epo.fif.gz, _epo.fif or _epo.fif.gz\n",
      "  data_epo = mne.read_epochs(path)\n"
     ]
    },
    {
     "name": "stdout",
     "output_type": "stream",
     "text": [
      "Reading /user/work/ko20929/fif_files/Wakeful_data_2/RBD_2211_Night 2_ec.fif ...\n",
      "    Found the data of interest:\n",
      "        t =       0.00 ...   19996.09 ms\n",
      "        0 CTF compensation matrices available\n",
      "Not setting metadata\n",
      "15 matching events found\n",
      "No baseline correction applied\n",
      "0 projection items activated\n"
     ]
    },
    {
     "name": "stderr",
     "output_type": "stream",
     "text": [
      "/tmp/ipykernel_185691/3078738400.py:9: RuntimeWarning: This filename (/user/work/ko20929/fif_files/Wakeful_data_2/RBD_2211_Night 2_ec.fif) does not conform to MNE naming conventions. All epochs files should end with -epo.fif, -epo.fif.gz, _epo.fif or _epo.fif.gz\n",
      "  data_epo = mne.read_epochs(path)\n"
     ]
    },
    {
     "name": "stdout",
     "output_type": "stream",
     "text": [
      "Reading /user/work/ko20929/fif_files/Wakeful_data_2/RBD_2211_Night 3_ec.fif ...\n",
      "    Found the data of interest:\n",
      "        t =       0.00 ...   19996.09 ms\n",
      "        0 CTF compensation matrices available\n",
      "Not setting metadata\n",
      "11 matching events found\n",
      "No baseline correction applied\n",
      "0 projection items activated\n"
     ]
    },
    {
     "name": "stderr",
     "output_type": "stream",
     "text": [
      "/tmp/ipykernel_185691/3078738400.py:9: RuntimeWarning: This filename (/user/work/ko20929/fif_files/Wakeful_data_2/RBD_2211_Night 3_ec.fif) does not conform to MNE naming conventions. All epochs files should end with -epo.fif, -epo.fif.gz, _epo.fif or _epo.fif.gz\n",
      "  data_epo = mne.read_epochs(path)\n"
     ]
    },
    {
     "name": "stdout",
     "output_type": "stream",
     "text": [
      "Reading /user/work/ko20929/fif_files/Wakeful_data_2/RBD_2212_Night 3_ec.fif ...\n",
      "    Found the data of interest:\n",
      "        t =       0.00 ...   19996.09 ms\n",
      "        0 CTF compensation matrices available\n",
      "Not setting metadata\n",
      "14 matching events found\n",
      "No baseline correction applied\n",
      "0 projection items activated\n"
     ]
    },
    {
     "name": "stderr",
     "output_type": "stream",
     "text": [
      "/tmp/ipykernel_185691/3078738400.py:9: RuntimeWarning: This filename (/user/work/ko20929/fif_files/Wakeful_data_2/RBD_2212_Night 3_ec.fif) does not conform to MNE naming conventions. All epochs files should end with -epo.fif, -epo.fif.gz, _epo.fif or _epo.fif.gz\n",
      "  data_epo = mne.read_epochs(path)\n"
     ]
    },
    {
     "name": "stdout",
     "output_type": "stream",
     "text": [
      "Reading /user/work/ko20929/fif_files/Wakeful_data_2/RBD_2213_Night 3_ec.fif ...\n",
      "    Found the data of interest:\n",
      "        t =       0.00 ...   19996.09 ms\n",
      "        0 CTF compensation matrices available\n",
      "Not setting metadata\n",
      "15 matching events found\n",
      "No baseline correction applied\n",
      "0 projection items activated\n"
     ]
    },
    {
     "name": "stderr",
     "output_type": "stream",
     "text": [
      "/tmp/ipykernel_185691/3078738400.py:9: RuntimeWarning: This filename (/user/work/ko20929/fif_files/Wakeful_data_2/RBD_2213_Night 3_ec.fif) does not conform to MNE naming conventions. All epochs files should end with -epo.fif, -epo.fif.gz, _epo.fif or _epo.fif.gz\n",
      "  data_epo = mne.read_epochs(path)\n"
     ]
    },
    {
     "name": "stdout",
     "output_type": "stream",
     "text": [
      "Reading /user/work/ko20929/fif_files/Wakeful_data_2/RBD_2214_Night 3_ec.fif ...\n",
      "    Found the data of interest:\n",
      "        t =       0.00 ...   19996.09 ms\n",
      "        0 CTF compensation matrices available\n",
      "Not setting metadata\n",
      "4 matching events found\n",
      "No baseline correction applied\n",
      "0 projection items activated\n",
      "Reading /user/work/ko20929/fif_files/Wakeful_data_2/RBD_2215_Night 2_ec.fif ...\n",
      "    Found the data of interest:\n",
      "        t =       0.00 ...   19996.09 ms\n",
      "        0 CTF compensation matrices available\n"
     ]
    },
    {
     "name": "stderr",
     "output_type": "stream",
     "text": [
      "/tmp/ipykernel_185691/3078738400.py:9: RuntimeWarning: This filename (/user/work/ko20929/fif_files/Wakeful_data_2/RBD_2214_Night 3_ec.fif) does not conform to MNE naming conventions. All epochs files should end with -epo.fif, -epo.fif.gz, _epo.fif or _epo.fif.gz\n",
      "  data_epo = mne.read_epochs(path)\n",
      "/tmp/ipykernel_185691/3078738400.py:9: RuntimeWarning: This filename (/user/work/ko20929/fif_files/Wakeful_data_2/RBD_2215_Night 2_ec.fif) does not conform to MNE naming conventions. All epochs files should end with -epo.fif, -epo.fif.gz, _epo.fif or _epo.fif.gz\n",
      "  data_epo = mne.read_epochs(path)\n"
     ]
    },
    {
     "name": "stdout",
     "output_type": "stream",
     "text": [
      "Not setting metadata\n",
      "16 matching events found\n",
      "No baseline correction applied\n",
      "0 projection items activated\n",
      "Reading /user/work/ko20929/fif_files/Wakeful_data_2/RBD_2216_Night 3_ec.fif ...\n",
      "    Found the data of interest:\n",
      "        t =       0.00 ...   19996.09 ms\n",
      "        0 CTF compensation matrices available\n",
      "Not setting metadata\n",
      "10 matching events found\n",
      "No baseline correction applied\n",
      "0 projection items activated\n"
     ]
    },
    {
     "name": "stderr",
     "output_type": "stream",
     "text": [
      "/tmp/ipykernel_185691/3078738400.py:9: RuntimeWarning: This filename (/user/work/ko20929/fif_files/Wakeful_data_2/RBD_2216_Night 3_ec.fif) does not conform to MNE naming conventions. All epochs files should end with -epo.fif, -epo.fif.gz, _epo.fif or _epo.fif.gz\n",
      "  data_epo = mne.read_epochs(path)\n"
     ]
    },
    {
     "name": "stdout",
     "output_type": "stream",
     "text": [
      "Reading /user/work/ko20929/fif_files/Wakeful_data_2/PD_4401_Night 2_ec.fif ...\n",
      "    Found the data of interest:\n",
      "        t =       0.00 ...   19996.09 ms\n",
      "        0 CTF compensation matrices available\n",
      "Not setting metadata\n",
      "9 matching events found\n",
      "No baseline correction applied\n",
      "0 projection items activated\n"
     ]
    },
    {
     "name": "stderr",
     "output_type": "stream",
     "text": [
      "/tmp/ipykernel_185691/3078738400.py:9: RuntimeWarning: This filename (/user/work/ko20929/fif_files/Wakeful_data_2/PD_4401_Night 2_ec.fif) does not conform to MNE naming conventions. All epochs files should end with -epo.fif, -epo.fif.gz, _epo.fif or _epo.fif.gz\n",
      "  data_epo = mne.read_epochs(path)\n"
     ]
    },
    {
     "name": "stdout",
     "output_type": "stream",
     "text": [
      "Reading /user/work/ko20929/fif_files/Wakeful_data_2/PD_4401_Night 3_ec.fif ...\n",
      "    Found the data of interest:\n",
      "        t =       0.00 ...   19996.09 ms\n",
      "        0 CTF compensation matrices available\n",
      "Not setting metadata\n",
      "12 matching events found\n",
      "No baseline correction applied\n",
      "0 projection items activated\n"
     ]
    },
    {
     "name": "stderr",
     "output_type": "stream",
     "text": [
      "/tmp/ipykernel_185691/3078738400.py:9: RuntimeWarning: This filename (/user/work/ko20929/fif_files/Wakeful_data_2/PD_4401_Night 3_ec.fif) does not conform to MNE naming conventions. All epochs files should end with -epo.fif, -epo.fif.gz, _epo.fif or _epo.fif.gz\n",
      "  data_epo = mne.read_epochs(path)\n"
     ]
    },
    {
     "name": "stdout",
     "output_type": "stream",
     "text": [
      "Reading /user/work/ko20929/fif_files/Wakeful_data_2/PD_4402_Night 2_ec.fif ...\n",
      "    Found the data of interest:\n",
      "        t =       0.00 ...   19996.09 ms\n",
      "        0 CTF compensation matrices available\n",
      "Not setting metadata\n",
      "14 matching events found\n",
      "No baseline correction applied\n",
      "0 projection items activated\n"
     ]
    },
    {
     "name": "stderr",
     "output_type": "stream",
     "text": [
      "/tmp/ipykernel_185691/3078738400.py:9: RuntimeWarning: This filename (/user/work/ko20929/fif_files/Wakeful_data_2/PD_4402_Night 2_ec.fif) does not conform to MNE naming conventions. All epochs files should end with -epo.fif, -epo.fif.gz, _epo.fif or _epo.fif.gz\n",
      "  data_epo = mne.read_epochs(path)\n"
     ]
    },
    {
     "name": "stdout",
     "output_type": "stream",
     "text": [
      "Reading /user/work/ko20929/fif_files/Wakeful_data_2/PD_4404_Night 1_ec.fif ...\n",
      "    Found the data of interest:\n",
      "        t =       0.00 ...   19996.09 ms\n",
      "        0 CTF compensation matrices available\n",
      "Not setting metadata\n",
      "14 matching events found\n",
      "No baseline correction applied\n",
      "0 projection items activated\n"
     ]
    },
    {
     "name": "stderr",
     "output_type": "stream",
     "text": [
      "/tmp/ipykernel_185691/3078738400.py:9: RuntimeWarning: This filename (/user/work/ko20929/fif_files/Wakeful_data_2/PD_4404_Night 1_ec.fif) does not conform to MNE naming conventions. All epochs files should end with -epo.fif, -epo.fif.gz, _epo.fif or _epo.fif.gz\n",
      "  data_epo = mne.read_epochs(path)\n"
     ]
    },
    {
     "name": "stdout",
     "output_type": "stream",
     "text": [
      "Reading /user/work/ko20929/fif_files/Wakeful_data_2/PD_4404_Night 2_ec.fif ...\n",
      "    Found the data of interest:\n",
      "        t =       0.00 ...   19996.09 ms\n",
      "        0 CTF compensation matrices available\n",
      "Not setting metadata\n",
      "3 matching events found\n",
      "No baseline correction applied\n",
      "0 projection items activated\n",
      "Reading /user/work/ko20929/fif_files/Wakeful_data_2/PD_4405_Night 2_ec.fif ...\n",
      "    Found the data of interest:\n",
      "        t =       0.00 ...   19996.09 ms\n",
      "        0 CTF compensation matrices available\n"
     ]
    },
    {
     "name": "stderr",
     "output_type": "stream",
     "text": [
      "/tmp/ipykernel_185691/3078738400.py:9: RuntimeWarning: This filename (/user/work/ko20929/fif_files/Wakeful_data_2/PD_4404_Night 2_ec.fif) does not conform to MNE naming conventions. All epochs files should end with -epo.fif, -epo.fif.gz, _epo.fif or _epo.fif.gz\n",
      "  data_epo = mne.read_epochs(path)\n",
      "/tmp/ipykernel_185691/3078738400.py:9: RuntimeWarning: This filename (/user/work/ko20929/fif_files/Wakeful_data_2/PD_4405_Night 2_ec.fif) does not conform to MNE naming conventions. All epochs files should end with -epo.fif, -epo.fif.gz, _epo.fif or _epo.fif.gz\n",
      "  data_epo = mne.read_epochs(path)\n"
     ]
    },
    {
     "name": "stdout",
     "output_type": "stream",
     "text": [
      "Not setting metadata\n",
      "9 matching events found\n",
      "No baseline correction applied\n",
      "0 projection items activated\n",
      "Reading /user/work/ko20929/fif_files/Wakeful_data_2/PD_4406_Night 1_ec.fif ...\n",
      "    Found the data of interest:\n",
      "        t =       0.00 ...   19996.09 ms\n",
      "        0 CTF compensation matrices available\n",
      "Not setting metadata\n",
      "8 matching events found\n",
      "No baseline correction applied\n",
      "0 projection items activated\n"
     ]
    },
    {
     "name": "stderr",
     "output_type": "stream",
     "text": [
      "/tmp/ipykernel_185691/3078738400.py:9: RuntimeWarning: This filename (/user/work/ko20929/fif_files/Wakeful_data_2/PD_4406_Night 1_ec.fif) does not conform to MNE naming conventions. All epochs files should end with -epo.fif, -epo.fif.gz, _epo.fif or _epo.fif.gz\n",
      "  data_epo = mne.read_epochs(path)\n"
     ]
    },
    {
     "name": "stdout",
     "output_type": "stream",
     "text": [
      "Reading /user/work/ko20929/fif_files/Wakeful_data_2/PD_4407_Night 2_ec.fif ...\n",
      "    Found the data of interest:\n",
      "        t =       0.00 ...   19996.09 ms\n",
      "        0 CTF compensation matrices available\n",
      "Not setting metadata\n",
      "7 matching events found\n",
      "No baseline correction applied\n",
      "0 projection items activated\n"
     ]
    },
    {
     "name": "stderr",
     "output_type": "stream",
     "text": [
      "/tmp/ipykernel_185691/3078738400.py:9: RuntimeWarning: This filename (/user/work/ko20929/fif_files/Wakeful_data_2/PD_4407_Night 2_ec.fif) does not conform to MNE naming conventions. All epochs files should end with -epo.fif, -epo.fif.gz, _epo.fif or _epo.fif.gz\n",
      "  data_epo = mne.read_epochs(path)\n"
     ]
    },
    {
     "name": "stdout",
     "output_type": "stream",
     "text": [
      "Reading /user/work/ko20929/fif_files/Wakeful_data_2/PD_4408_Night 1_ec.fif ...\n",
      "    Found the data of interest:\n",
      "        t =       0.00 ...   19996.09 ms\n",
      "        0 CTF compensation matrices available\n",
      "Not setting metadata\n",
      "11 matching events found\n",
      "No baseline correction applied\n",
      "0 projection items activated\n"
     ]
    },
    {
     "name": "stderr",
     "output_type": "stream",
     "text": [
      "/tmp/ipykernel_185691/3078738400.py:9: RuntimeWarning: This filename (/user/work/ko20929/fif_files/Wakeful_data_2/PD_4408_Night 1_ec.fif) does not conform to MNE naming conventions. All epochs files should end with -epo.fif, -epo.fif.gz, _epo.fif or _epo.fif.gz\n",
      "  data_epo = mne.read_epochs(path)\n"
     ]
    },
    {
     "name": "stdout",
     "output_type": "stream",
     "text": [
      "Reading /user/work/ko20929/fif_files/Wakeful_data_2/PD_4409_Night 2_ec.fif ...\n",
      "    Found the data of interest:\n",
      "        t =       0.00 ...   19996.09 ms\n",
      "        0 CTF compensation matrices available\n",
      "Not setting metadata\n",
      "10 matching events found\n",
      "No baseline correction applied\n",
      "0 projection items activated\n"
     ]
    },
    {
     "name": "stderr",
     "output_type": "stream",
     "text": [
      "/tmp/ipykernel_185691/3078738400.py:9: RuntimeWarning: This filename (/user/work/ko20929/fif_files/Wakeful_data_2/PD_4409_Night 2_ec.fif) does not conform to MNE naming conventions. All epochs files should end with -epo.fif, -epo.fif.gz, _epo.fif or _epo.fif.gz\n",
      "  data_epo = mne.read_epochs(path)\n"
     ]
    },
    {
     "name": "stdout",
     "output_type": "stream",
     "text": [
      "Reading /user/work/ko20929/fif_files/Wakeful_data_2/PD_4410_Night 2_ec.fif ...\n",
      "    Found the data of interest:\n",
      "        t =       0.00 ...   19996.09 ms\n",
      "        0 CTF compensation matrices available\n",
      "Not setting metadata\n",
      "8 matching events found\n",
      "No baseline correction applied\n",
      "0 projection items activated\n"
     ]
    },
    {
     "name": "stderr",
     "output_type": "stream",
     "text": [
      "/tmp/ipykernel_185691/3078738400.py:9: RuntimeWarning: This filename (/user/work/ko20929/fif_files/Wakeful_data_2/PD_4410_Night 2_ec.fif) does not conform to MNE naming conventions. All epochs files should end with -epo.fif, -epo.fif.gz, _epo.fif or _epo.fif.gz\n",
      "  data_epo = mne.read_epochs(path)\n"
     ]
    },
    {
     "name": "stdout",
     "output_type": "stream",
     "text": [
      "Reading /user/work/ko20929/fif_files/Wakeful_data_2/PD_4411_Night 2_ec.fif ...\n",
      "    Found the data of interest:\n",
      "        t =       0.00 ...   19996.09 ms\n",
      "        0 CTF compensation matrices available\n",
      "Not setting metadata\n",
      "14 matching events found\n",
      "No baseline correction applied\n",
      "0 projection items activated\n"
     ]
    },
    {
     "name": "stderr",
     "output_type": "stream",
     "text": [
      "/tmp/ipykernel_185691/3078738400.py:9: RuntimeWarning: This filename (/user/work/ko20929/fif_files/Wakeful_data_2/PD_4411_Night 2_ec.fif) does not conform to MNE naming conventions. All epochs files should end with -epo.fif, -epo.fif.gz, _epo.fif or _epo.fif.gz\n",
      "  data_epo = mne.read_epochs(path)\n"
     ]
    },
    {
     "name": "stdout",
     "output_type": "stream",
     "text": [
      "Reading /user/work/ko20929/fif_files/Wakeful_data_2/PD+RBD_3301_Night 3_ec.fif ...\n",
      "    Found the data of interest:\n",
      "        t =       0.00 ...   19996.09 ms\n",
      "        0 CTF compensation matrices available\n",
      "Not setting metadata\n",
      "12 matching events found\n",
      "No baseline correction applied\n",
      "0 projection items activated\n"
     ]
    },
    {
     "name": "stderr",
     "output_type": "stream",
     "text": [
      "/tmp/ipykernel_185691/3078738400.py:9: RuntimeWarning: This filename (/user/work/ko20929/fif_files/Wakeful_data_2/PD+RBD_3301_Night 3_ec.fif) does not conform to MNE naming conventions. All epochs files should end with -epo.fif, -epo.fif.gz, _epo.fif or _epo.fif.gz\n",
      "  data_epo = mne.read_epochs(path)\n"
     ]
    },
    {
     "name": "stdout",
     "output_type": "stream",
     "text": [
      "Reading /user/work/ko20929/fif_files/Wakeful_data_2/PD+RBD_3302_Night 3_ec.fif ...\n",
      "    Found the data of interest:\n",
      "        t =       0.00 ...   19996.09 ms\n",
      "        0 CTF compensation matrices available\n",
      "Not setting metadata\n",
      "9 matching events found\n",
      "No baseline correction applied\n",
      "0 projection items activated\n"
     ]
    },
    {
     "name": "stderr",
     "output_type": "stream",
     "text": [
      "/tmp/ipykernel_185691/3078738400.py:9: RuntimeWarning: This filename (/user/work/ko20929/fif_files/Wakeful_data_2/PD+RBD_3302_Night 3_ec.fif) does not conform to MNE naming conventions. All epochs files should end with -epo.fif, -epo.fif.gz, _epo.fif or _epo.fif.gz\n",
      "  data_epo = mne.read_epochs(path)\n"
     ]
    },
    {
     "name": "stdout",
     "output_type": "stream",
     "text": [
      "Reading /user/work/ko20929/fif_files/Wakeful_data_2/PD+RBD_3303_Night 2_ec.fif ...\n",
      "    Found the data of interest:\n",
      "        t =       0.00 ...   19996.09 ms\n",
      "        0 CTF compensation matrices available\n",
      "Not setting metadata\n",
      "15 matching events found\n",
      "No baseline correction applied\n"
     ]
    },
    {
     "name": "stderr",
     "output_type": "stream",
     "text": [
      "/tmp/ipykernel_185691/3078738400.py:9: RuntimeWarning: This filename (/user/work/ko20929/fif_files/Wakeful_data_2/PD+RBD_3303_Night 2_ec.fif) does not conform to MNE naming conventions. All epochs files should end with -epo.fif, -epo.fif.gz, _epo.fif or _epo.fif.gz\n",
      "  data_epo = mne.read_epochs(path)\n"
     ]
    },
    {
     "name": "stdout",
     "output_type": "stream",
     "text": [
      "0 projection items activated\n",
      "Reading /user/work/ko20929/fif_files/Wakeful_data_2/PD+RBD_3304_Night 2_ec.fif ...\n",
      "    Found the data of interest:\n",
      "        t =       0.00 ...   19996.09 ms\n",
      "        0 CTF compensation matrices available\n",
      "Not setting metadata\n",
      "13 matching events found\n",
      "No baseline correction applied\n",
      "0 projection items activated\n"
     ]
    },
    {
     "name": "stderr",
     "output_type": "stream",
     "text": [
      "/tmp/ipykernel_185691/3078738400.py:9: RuntimeWarning: This filename (/user/work/ko20929/fif_files/Wakeful_data_2/PD+RBD_3304_Night 2_ec.fif) does not conform to MNE naming conventions. All epochs files should end with -epo.fif, -epo.fif.gz, _epo.fif or _epo.fif.gz\n",
      "  data_epo = mne.read_epochs(path)\n"
     ]
    },
    {
     "name": "stdout",
     "output_type": "stream",
     "text": [
      "Reading /user/work/ko20929/fif_files/Wakeful_data_2/PD+RBD_3304_Night 3_ec.fif ...\n",
      "    Found the data of interest:\n",
      "        t =       0.00 ...   19996.09 ms\n",
      "        0 CTF compensation matrices available\n",
      "Not setting metadata\n",
      "14 matching events found\n",
      "No baseline correction applied\n",
      "0 projection items activated\n"
     ]
    },
    {
     "name": "stderr",
     "output_type": "stream",
     "text": [
      "/tmp/ipykernel_185691/3078738400.py:9: RuntimeWarning: This filename (/user/work/ko20929/fif_files/Wakeful_data_2/PD+RBD_3304_Night 3_ec.fif) does not conform to MNE naming conventions. All epochs files should end with -epo.fif, -epo.fif.gz, _epo.fif or _epo.fif.gz\n",
      "  data_epo = mne.read_epochs(path)\n"
     ]
    },
    {
     "name": "stdout",
     "output_type": "stream",
     "text": [
      "Reading /user/work/ko20929/fif_files/Wakeful_data_2/PD+RBD_3305_Night 2_ec.fif ...\n",
      "    Found the data of interest:\n",
      "        t =       0.00 ...   19996.09 ms\n",
      "        0 CTF compensation matrices available\n",
      "Not setting metadata\n",
      "11 matching events found\n",
      "No baseline correction applied\n",
      "0 projection items activated\n"
     ]
    },
    {
     "name": "stderr",
     "output_type": "stream",
     "text": [
      "/tmp/ipykernel_185691/3078738400.py:9: RuntimeWarning: This filename (/user/work/ko20929/fif_files/Wakeful_data_2/PD+RBD_3305_Night 2_ec.fif) does not conform to MNE naming conventions. All epochs files should end with -epo.fif, -epo.fif.gz, _epo.fif or _epo.fif.gz\n",
      "  data_epo = mne.read_epochs(path)\n"
     ]
    },
    {
     "name": "stdout",
     "output_type": "stream",
     "text": [
      "Reading /user/work/ko20929/fif_files/Wakeful_data_2/PD+RBD_3306_Night 1_ec.fif ...\n",
      "    Found the data of interest:\n",
      "        t =       0.00 ...   19996.09 ms\n",
      "        0 CTF compensation matrices available\n",
      "Not setting metadata\n",
      "15 matching events found\n",
      "No baseline correction applied\n",
      "0 projection items activated\n"
     ]
    },
    {
     "name": "stderr",
     "output_type": "stream",
     "text": [
      "/tmp/ipykernel_185691/3078738400.py:9: RuntimeWarning: This filename (/user/work/ko20929/fif_files/Wakeful_data_2/PD+RBD_3306_Night 1_ec.fif) does not conform to MNE naming conventions. All epochs files should end with -epo.fif, -epo.fif.gz, _epo.fif or _epo.fif.gz\n",
      "  data_epo = mne.read_epochs(path)\n"
     ]
    },
    {
     "name": "stdout",
     "output_type": "stream",
     "text": [
      "Reading /user/work/ko20929/fif_files/Wakeful_data_2/PD+RBD_3306_Night 2_ec.fif ...\n",
      "    Found the data of interest:\n",
      "        t =       0.00 ...   19996.09 ms\n",
      "        0 CTF compensation matrices available\n",
      "Not setting metadata\n",
      "13 matching events found\n",
      "No baseline correction applied\n",
      "0 projection items activated\n"
     ]
    },
    {
     "name": "stderr",
     "output_type": "stream",
     "text": [
      "/tmp/ipykernel_185691/3078738400.py:9: RuntimeWarning: This filename (/user/work/ko20929/fif_files/Wakeful_data_2/PD+RBD_3306_Night 2_ec.fif) does not conform to MNE naming conventions. All epochs files should end with -epo.fif, -epo.fif.gz, _epo.fif or _epo.fif.gz\n",
      "  data_epo = mne.read_epochs(path)\n"
     ]
    }
   ],
   "source": [
    "folder = '/user/home/ko20929/work/RBD_using_custom_package/Blue_pebble/'\n",
    "data_type = ['Wake', 'N1', 'N2','N3', 'REM'][input_num]\n",
    "paths = joblib.load(folder + data_type + '_paths.pkl')\n",
    "\n",
    "#Load each raw dataframe and convert into a row for the larger dataframe \n",
    "overall_dfs_rows = []\n",
    "\n",
    "for path in paths['selected_paths']:\n",
    "    data_epo = mne.read_epochs(path)\n",
    "    df_full = data_epo.to_data_frame()\n",
    "\n",
    "    #Convert the dataframe into a row\n",
    "    new_row = {}\n",
    "    for col in df_full.columns: #iterate through feature columns   \n",
    "        series = df_full[col] #This gives you the series that you want to append to the new dataframe\n",
    "        new_row[str(col)] = series\n",
    "    \n",
    "    overall_dfs_rows.append(new_row)\n",
    "\n",
    "df_all_samples = pd.DataFrame(overall_dfs_rows)\n"
   ]
  },
  {
   "cell_type": "code",
   "execution_count": null,
   "id": "a6f4b6f5-eea1-4bb9-8d2f-4b8942c37019",
   "metadata": {},
   "outputs": [],
   "source": [
    "#Choose how many minutes of the Raw EEG data you actually want to use\n",
    "mins = 10\n",
    "new_length = 256*60*mins #convert minutes to the number of data points\n",
    "df_snipped = custom_ts_length.customise_df_ts_length(df_all_samples, new_length, impute = False)\n",
    "df_snipped = df_snipped.drop(columns = ['time', 'condition', 'epoch'] )"
   ]
  },
  {
   "cell_type": "code",
   "execution_count": null,
   "id": "d8caf9e2-c091-4d11-8457-b4fb931aef33",
   "metadata": {},
   "outputs": [],
   "source": [
    "# convert into TS_Fresh format Dataframe so that TS Fresh statistics can be calculated\n",
    "ts_fresh_df = format_eeg_data.convert_sktime_df_to_ts_fresh_format(df_snipped, ts_cols = list(df_snipped.columns))"
   ]
  },
  {
   "cell_type": "code",
   "execution_count": null,
   "id": "ec615930-3b87-4d1e-aeb6-75e601ac5886",
   "metadata": {},
   "outputs": [],
   "source": [
    "setting = MinimalFCParameters()\n",
    "setting = EfficientFCParameters()"
   ]
  },
  {
   "cell_type": "code",
   "execution_count": null,
   "id": "a511fafb-5772-41ce-bc53-b78440bccb05",
   "metadata": {},
   "outputs": [],
   "source": [
    "t1 = time.time()\n",
    "extracted_ts_fresh_df = extract_features(subset_df, column_id = 'id' , column_sort = 'time',  default_fc_parameters=setting, n_jobs = 3)\n",
    "t2 = time.time()"
   ]
  },
  {
   "cell_type": "code",
   "execution_count": 14,
   "id": "c295f653-3749-4348-8baf-4e78ca030184",
   "metadata": {},
   "outputs": [],
   "source": [
    "save_name = 'TS_Fresh_Stats_10_min_' + data_type + '.pkl'\n",
    "save_name = 'Test_' + save_name\n",
    "save_name = save_folder + save_name"
   ]
  },
  {
   "cell_type": "code",
   "execution_count": 15,
   "id": "534c624f-be40-436a-89d5-dba4289b78dd",
   "metadata": {},
   "outputs": [
    {
     "data": {
      "text/plain": [
       "['/user/home/ko20929/work/RBD_using_custom_package/Execute New Experiments/TS_Fresh_Raw_EEG/Data/Test_TS_Fresh_Stats_10_min_Wake.pkl']"
      ]
     },
     "execution_count": 15,
     "metadata": {},
     "output_type": "execute_result"
    }
   ],
   "source": [
    "joblib.dump(df_all_samples, save_name)"
   ]
  },
  {
   "cell_type": "code",
   "execution_count": 9,
   "id": "99e01af5-1aba-4596-ac30-a45d48335582",
   "metadata": {},
   "outputs": [
    {
     "ename": "NameError",
     "evalue": "name 't2' is not defined",
     "output_type": "error",
     "traceback": [
      "\u001b[0;31m---------------------------------------------------------------------------\u001b[0m",
      "\u001b[0;31mNameError\u001b[0m                                 Traceback (most recent call last)",
      "Cell \u001b[0;32mIn[9], line 1\u001b[0m\n\u001b[0;32m----> 1\u001b[0m time_taken \u001b[38;5;241m=\u001b[39m \u001b[43mt2\u001b[49m\u001b[38;5;241m-\u001b[39mt1\n\u001b[1;32m      2\u001b[0m \u001b[38;5;28mprint\u001b[39m(time_taken)\n",
      "\u001b[0;31mNameError\u001b[0m: name 't2' is not defined"
     ]
    }
   ],
   "source": [
    "time_taken = t2-t1\n",
    "print(time_taken)"
   ]
  },
  {
   "cell_type": "code",
   "execution_count": null,
   "id": "cb028b00-b080-4300-b67e-e4f4fedeee18",
   "metadata": {},
   "outputs": [],
   "source": []
  }
 ],
 "metadata": {
  "kernelspec": {
   "display_name": "Python 3 (ipykernel)",
   "language": "python",
   "name": "python3"
  },
  "language_info": {
   "codemirror_mode": {
    "name": "ipython",
    "version": 3
   },
   "file_extension": ".py",
   "mimetype": "text/x-python",
   "name": "python",
   "nbconvert_exporter": "python",
   "pygments_lexer": "ipython3",
   "version": "3.11.3"
  }
 },
 "nbformat": 4,
 "nbformat_minor": 5
}
