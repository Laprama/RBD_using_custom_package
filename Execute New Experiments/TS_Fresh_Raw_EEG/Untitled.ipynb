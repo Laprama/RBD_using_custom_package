{
 "cells": [
  {
   "cell_type": "code",
   "execution_count": 1,
   "id": "b6bd2d85-e8d1-461a-9404-62fb9c00da83",
   "metadata": {},
   "outputs": [
    {
     "data": {
      "text/plain": [
       "45.833333333333336"
      ]
     },
     "execution_count": 1,
     "metadata": {},
     "output_type": "execute_result"
    }
   ],
   "source": [
    "(10*5*55)/60"
   ]
  },
  {
   "cell_type": "code",
   "execution_count": null,
   "id": "04e44bc9-45e3-49cb-a1a3-669e594cb8dd",
   "metadata": {},
   "outputs": [],
   "source": [
    "# Current job was at approximately 20% when at 10 mins on the stopwatch (~11 mins irl?)"
   ]
  },
  {
   "cell_type": "code",
   "execution_count": null,
   "id": "ea0df3df-d4ff-4bc6-b761-53bd2a93cc1d",
   "metadata": {},
   "outputs": [],
   "source": [
    "n_jobs = 55 "
   ]
  }
 ],
 "metadata": {
  "kernelspec": {
   "display_name": "Python 3 (ipykernel)",
   "language": "python",
   "name": "python3"
  },
  "language_info": {
   "codemirror_mode": {
    "name": "ipython",
    "version": 3
   },
   "file_extension": ".py",
   "mimetype": "text/x-python",
   "name": "python",
   "nbconvert_exporter": "python",
   "pygments_lexer": "ipython3",
   "version": "3.11.3"
  }
 },
 "nbformat": 4,
 "nbformat_minor": 5
}
