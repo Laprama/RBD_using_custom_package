{
 "cells": [
  {
   "cell_type": "code",
   "execution_count": 1,
   "id": "260f183c",
   "metadata": {},
   "outputs": [],
   "source": [
    "from IPython.utils import io\n",
    "import pandas as pd\n",
    "import os\n",
    "from pathlib import Path\n",
    "from matplotlib import pyplot as plt\n",
    "from scipy.signal import find_peaks\n",
    "import numpy as np\n",
    "import seaborn as sns\n",
    "import time\n",
    "import joblib\n",
    "from os.path import exists\n",
    "import shutil\n",
    "\n",
    "from sklearn.model_selection import train_test_split\n",
    "#From my EEG package \n",
    "import run_expts"
   ]
  },
  {
   "cell_type": "code",
   "execution_count": 5,
   "id": "b53febe8",
   "metadata": {},
   "outputs": [],
   "source": [
    "from sktime.classification.interval_based import CanonicalIntervalForest\n",
    "from sktime.classification.interval_based import DrCIF\n",
    "from sktime.classification.hybrid import HIVECOTEV2\n",
    "from sktime.classification.kernel_based import RocketClassifier\n",
    "from sktime.classification.deep_learning import InceptionTimeClassifier"
   ]
  },
  {
   "cell_type": "code",
   "execution_count": 7,
   "id": "f8aab20a",
   "metadata": {},
   "outputs": [],
   "source": [
    "#I'll give HIVECOTE 15 minutes"
   ]
  },
  {
   "cell_type": "code",
   "execution_count": 2,
   "id": "535c8cbd",
   "metadata": {},
   "outputs": [
    {
     "name": "stdout",
     "output_type": "stream",
     "text": [
      "N2_120_expt_files_v2\n"
     ]
    }
   ],
   "source": [
    "#Directory containing all main experiment folders\n",
    "core_path = '/export/sphere/ebirah/ko20929/RBD_files/notebooks/frequency_analysis/constructed_data/band_power_time_series/expt_dfs/'\n",
    "\n",
    "folders = ['N1_customised_40_expt_files', 'N2_120_expt_files_v2', 'N3_82_expt_files', 'REM_19_expt_files', 'EC_8_expts',\n",
    "           'N1_full_expts', 'N2_full_expts', 'N3_full_expts', 'REM_full_expts', 'EC_full_expts']\n",
    "\n",
    "#Load data for desired folder \n",
    "folder = folders[1]\n",
    "print(folder)\n",
    "load_path = core_path + folder + '/'\n",
    "\n",
    "X = pd.read_hdf(load_path + 'X.h5', key='df', mode='r')\n",
    "y = pd.read_hdf(load_path + 'y_full.h5', key='df', mode='r') \n",
    "groups = pd.read_hdf(load_path + 'groups.h5', key='df', mode='r')  \n",
    "\n",
    "#Make the data into binary experiment so that it's easier \n",
    "X,y,groups, expt_info = run_expts.generate_expt_x_y_groups(X,y,groups, 1)"
   ]
  },
  {
   "cell_type": "code",
   "execution_count": 6,
   "id": "2e7d39f9",
   "metadata": {},
   "outputs": [],
   "source": [
    "clf = RocketClassifier(use_multivariate = 'yes')\n",
    "clf = HIVECOTEV2(time_limit_in_minutes=1)\n",
    "clf = CanonicalIntervalForest()\n",
    "clf = DrCIF() \n",
    "clf = InceptionTimeClassifier()"
   ]
  },
  {
   "cell_type": "code",
   "execution_count": null,
   "id": "e7a04819",
   "metadata": {},
   "outputs": [],
   "source": [
    "#Now I will write code as if we already have the clf"
   ]
  },
  {
   "cell_type": "code",
   "execution_count": 8,
   "id": "304573c5",
   "metadata": {},
   "outputs": [],
   "source": [
    "#New Results Folder is called Results"
   ]
  },
  {
   "cell_type": "code",
   "execution_count": null,
   "id": "9580e504",
   "metadata": {},
   "outputs": [],
   "source": [
    "#Save_path = clf_name + expt_type + folder[:-4]"
   ]
  },
  {
   "cell_type": "code",
   "execution_count": null,
   "id": "b8256cf4",
   "metadata": {},
   "outputs": [],
   "source": [
    "save_path = clf_name + expt_type_ + str(num) + '_' + folder "
   ]
  },
  {
   "cell_type": "code",
   "execution_count": 15,
   "id": "b4096459",
   "metadata": {},
   "outputs": [],
   "source": [
    "clfs = {'Rocket' : RocketClassifier(use_multivariate = 'yes'), 'HIVECOTE2' : HIVECOTEV2(time_limit_in_minutes=5) , \n",
    "        'C_I_F' : CanonicalIntervalForest() , 'Dr_C_I_F' : DrCIF(), 'Inception_Time' : InceptionTimeClassifier() }"
   ]
  },
  {
   "cell_type": "code",
   "execution_count": null,
   "id": "88635e9a",
   "metadata": {},
   "outputs": [],
   "source": [
    "#Directory containing all main experiment folders\n",
    "core_path = '/export/sphere/ebirah/ko20929/RBD_files/notebooks/frequency_analysis/constructed_data/band_power_time_series/expt_dfs/'\n",
    "\n",
    "folders = ['N1_customised_40_expt_files', 'N2_120_expt_files_v2', 'N3_82_expt_files', 'REM_19_expt_files', 'EC_8_expts',\n",
    "           'N1_full_expts', 'N2_full_expts', 'N3_full_expts', 'REM_full_expts', 'EC_full_expts']\n",
    "\n",
    "for folder in folders:\n",
    "    load_path = core_path + folder + '/'\n",
    "\n",
    "    X = pd.read_hdf(load_path + 'X.h5', key='df', mode='r')\n",
    "    y = pd.read_hdf(load_path + 'y_full.h5', key='df', mode='r') \n",
    "    groups = pd.read_hdf(load_path + 'groups.h5', key='df', mode='r')  \n",
    "\n",
    "    for num in [1,2]:\n",
    "        #1.Generate expt specific X,y,groups\n",
    "        X_expt , y_expt , groups_expt, expt_info = run_expts.generate_expt_x_y_groups(X,y,groups,num)\n",
    "\n",
    "        save_path = clf_name + expt_type_ + str(num) + '_' + folder \n",
    "        \n",
    "        run_expts.run_mv_tsc(X_expt ,y_expt , groups_expt, random_states = [13 , 37])"
   ]
  }
 ],
 "metadata": {
  "kernelspec": {
   "display_name": "Python 3 (ipykernel)",
   "language": "python",
   "name": "python3"
  },
  "language_info": {
   "codemirror_mode": {
    "name": "ipython",
    "version": 3
   },
   "file_extension": ".py",
   "mimetype": "text/x-python",
   "name": "python",
   "nbconvert_exporter": "python",
   "pygments_lexer": "ipython3",
   "version": "3.11.3"
  }
 },
 "nbformat": 4,
 "nbformat_minor": 5
}
