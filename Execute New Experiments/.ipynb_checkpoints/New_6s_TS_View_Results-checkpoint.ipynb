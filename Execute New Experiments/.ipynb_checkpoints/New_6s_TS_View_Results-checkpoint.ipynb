{
 "cells": [
  {
   "cell_type": "code",
   "execution_count": 11,
   "id": "7c66a8e3",
   "metadata": {},
   "outputs": [],
   "source": [
    "from IPython.utils import io\n",
    "import pandas as pd\n",
    "import os\n",
    "from pathlib import Path\n",
    "from matplotlib import pyplot as plt\n",
    "from scipy.signal import find_peaks\n",
    "import numpy as np\n",
    "import seaborn as sns\n",
    "import time\n",
    "import joblib\n",
    "from os.path import exists\n",
    "import shutil\n",
    "import sys\n",
    "import time\n",
    "\n",
    "from sklearn.model_selection import train_test_split\n",
    "\n",
    "#From my EEG package \n",
    "import run_expts\n",
    "import constants\n",
    "\n",
    "#Let me see as many results as I want to see\n",
    "pd.set_option('display.max_rows', 500)\n",
    "pd.set_option('display.max_columns', 500)"
   ]
  },
  {
   "cell_type": "code",
   "execution_count": null,
   "id": "ddc7ba29",
   "metadata": {},
   "outputs": [],
   "source": [
    "classifier_list  = [{'C_I_F': CanonicalIntervalForest()}, {'Dr_C_I_F': DrCIF()}]   "
   ]
  },
  {
   "cell_type": "code",
   "execution_count": null,
   "id": "4cccba89",
   "metadata": {},
   "outputs": [],
   "source": [
    "# expt_1_N3_C_I_F_int_df.h5\n",
    "# expt_1_N3_Dr_C_I_F_raw_clfs_results.h5"
   ]
  },
  {
   "cell_type": "code",
   "execution_count": 3,
   "id": "b7fb3956",
   "metadata": {},
   "outputs": [],
   "source": [
    "data_types = ['Wake' , 'N1' , 'N2' , 'N3' , 'REM']\n",
    "\n",
    "expt_num = [1,2,3,4]\n",
    "\n",
    "clf_list = ['Rocket', 'C_I_F' , 'Dr_C_I_F']\n",
    "\n",
    "#Results dictionary structure : {model : {expt_type : {folder : results_df }}}\n",
    "results_dict = {}\n",
    "for clf in clf_list:\n",
    "    results_dict[clf] = {1 : {} , 2 : {} , 3: {} , 4 : {}}\n",
    "\n",
    "files_not_found = []\n",
    "\n",
    "for num in [1,2,3,4]:\n",
    "    for datatype in data_types:\n",
    "        for clf in clf_list:\n",
    "            try:\n",
    "                if clf == 'Rocket':\n",
    "                    save_path = 'Results/Results_3/' + 'expt_' + str(num) + '_' + datatype + '_raw_clfs_results.h5'\n",
    "                else:\n",
    "                    save_path = 'Results/Results_3/' +  'expt_' + str(num) + '_' + datatype + '_' + clf + '_raw_clfs_results.h5'\n",
    "                    \n",
    "#                 file_name = 'expt_' + str(num) + '_' + datatype + '_raw_clfs_results.h5'\n",
    "                results_df = pd.read_hdf(save_path , key='df', mode='r')\n",
    "            except FileNotFoundError:\n",
    "                files_not_found.append(save_path)\n",
    "                continue\n",
    "                \n",
    "            res_df = run_expts.generate_subset_acc_std(results_df, return_df = True)           \n",
    "            results_dict[clf][num][datatype] = res_df"
   ]
  },
  {
   "cell_type": "code",
   "execution_count": 6,
   "id": "79c0964c",
   "metadata": {
    "scrolled": true
   },
   "outputs": [
    {
     "name": "stdout",
     "output_type": "stream",
     "text": [
      "Expt Type: 1\n",
      "['Wake', 'N1', 'N2', 'N3', 'REM']\n",
      "Expt Type: 2\n",
      "Wake\n"
     ]
    },
    {
     "data": {
      "text/html": [
       "<div>\n",
       "<style scoped>\n",
       "    .dataframe tbody tr th:only-of-type {\n",
       "        vertical-align: middle;\n",
       "    }\n",
       "\n",
       "    .dataframe tbody tr th {\n",
       "        vertical-align: top;\n",
       "    }\n",
       "\n",
       "    .dataframe thead th {\n",
       "        text-align: right;\n",
       "    }\n",
       "</style>\n",
       "<table border=\"1\" class=\"dataframe\">\n",
       "  <thead>\n",
       "    <tr style=\"text-align: right;\">\n",
       "      <th></th>\n",
       "      <th>random_state</th>\n",
       "      <th>Right Parietal_ROCKET_acc</th>\n",
       "    </tr>\n",
       "  </thead>\n",
       "  <tbody>\n",
       "    <tr>\n",
       "      <th>0</th>\n",
       "      <td>1</td>\n",
       "      <td>0.628571</td>\n",
       "    </tr>\n",
       "    <tr>\n",
       "      <th>1</th>\n",
       "      <td>2</td>\n",
       "      <td>0.777778</td>\n",
       "    </tr>\n",
       "  </tbody>\n",
       "</table>\n",
       "</div>"
      ],
      "text/plain": [
       "   random_state  Right Parietal_ROCKET_acc\n",
       "0             1                   0.628571\n",
       "1             2                   0.777778"
      ]
     },
     "metadata": {},
     "output_type": "display_data"
    },
    {
     "name": "stdout",
     "output_type": "stream",
     "text": [
      "['N1', 'N2', 'N3', 'REM']\n",
      "Expt Type: 1\n",
      "['Wake', 'N1', 'N2', 'N3', 'REM']\n",
      "Expt Type: 2\n",
      "Wake\n"
     ]
    },
    {
     "data": {
      "text/html": [
       "<div>\n",
       "<style scoped>\n",
       "    .dataframe tbody tr th:only-of-type {\n",
       "        vertical-align: middle;\n",
       "    }\n",
       "\n",
       "    .dataframe tbody tr th {\n",
       "        vertical-align: top;\n",
       "    }\n",
       "\n",
       "    .dataframe thead th {\n",
       "        text-align: right;\n",
       "    }\n",
       "</style>\n",
       "<table border=\"1\" class=\"dataframe\">\n",
       "  <thead>\n",
       "    <tr style=\"text-align: right;\">\n",
       "      <th></th>\n",
       "      <th>random_state</th>\n",
       "      <th>Right Frontal_C_I_F_acc</th>\n",
       "    </tr>\n",
       "  </thead>\n",
       "  <tbody>\n",
       "    <tr>\n",
       "      <th>0</th>\n",
       "      <td>1</td>\n",
       "      <td>0.739286</td>\n",
       "    </tr>\n",
       "    <tr>\n",
       "      <th>1</th>\n",
       "      <td>2</td>\n",
       "      <td>0.755556</td>\n",
       "    </tr>\n",
       "  </tbody>\n",
       "</table>\n",
       "</div>"
      ],
      "text/plain": [
       "   random_state  Right Frontal_C_I_F_acc\n",
       "0             1                 0.739286\n",
       "1             2                 0.755556"
      ]
     },
     "metadata": {},
     "output_type": "display_data"
    },
    {
     "name": "stdout",
     "output_type": "stream",
     "text": [
      "['N1', 'N2', 'N3', 'REM']\n",
      "Expt Type: 1\n",
      "['N1', 'N2', 'N3', 'REM']\n",
      "Expt Type: 2\n",
      "['N1', 'N2', 'N3', 'REM']\n"
     ]
    }
   ],
   "source": [
    "for clf in ['Rocket', 'C_I_F' , 'Dr_C_I_F']:\n",
    "    for num in [1,2]:\n",
    "        print('Expt Type: ' + str(num))\n",
    "        not_displayed = []\n",
    "        for key in list(results_dict[clf][num].keys() ):\n",
    "            df = results_dict[clf][num][key].copy()\n",
    "            cols_to_drop = [col for col in df.columns if df[col].mean() < 0.7]\n",
    "            df = df.drop(cols_to_drop, axis = 1 )\n",
    "            if len(df.columns) < 2:\n",
    "                not_displayed.append(key)\n",
    "                continue\n",
    "            print(key)\n",
    "            display(df)\n",
    "        print(not_displayed)"
   ]
  },
  {
   "cell_type": "markdown",
   "id": "e0835707",
   "metadata": {},
   "source": [
    "## Put the data in a dataframe structure that can easily be plotted"
   ]
  },
  {
   "cell_type": "code",
   "execution_count": 12,
   "id": "5de5a151",
   "metadata": {},
   "outputs": [],
   "source": [
    "#Defining the dataframe dictionary to be filled up\n",
    "\n",
    "expt_info = [ '1. PD vs HC', '2. (PD , PD+RBD) vs HC', '3. (PD + PD&RBD) vs HC vs RBD  multiclass', \n",
    "             '4. PD vs PD+RBD vs RBD vs HC  multiclass' ]\n",
    "\n",
    "df_cols = ['Expt_type num', 'Folder', 'Classifier Name', 'Classifier', 'EEG Type',\n",
    "       'Brain Region', 'Accuracy', 'Accuracy_std', 'TS processing']\n",
    "\n",
    "df_dict = {}\n",
    "for col in df_cols:\n",
    "    df_dict[col] = []\n",
    "\n",
    "regions = constants.regions"
   ]
  },
  {
   "cell_type": "code",
   "execution_count": 13,
   "id": "79f9f93f",
   "metadata": {},
   "outputs": [
    {
     "ename": "SyntaxError",
     "evalue": "invalid syntax (16918708.py, line 1)",
     "output_type": "error",
     "traceback": [
      "\u001b[0;36m  Cell \u001b[0;32mIn[13], line 1\u001b[0;36m\u001b[0m\n\u001b[0;31m    data_types =\u001b[0m\n\u001b[0m                 ^\u001b[0m\n\u001b[0;31mSyntaxError\u001b[0m\u001b[0;31m:\u001b[0m invalid syntax\n"
     ]
    }
   ],
   "source": [
    "data_types = \n",
    "results_dict[clf][num][datatype]"
   ]
  },
  {
   "cell_type": "code",
   "execution_count": 14,
   "id": "fdaf81a7",
   "metadata": {},
   "outputs": [],
   "source": [
    "proc = 'shorter_expts'\n",
    "for clf in clf_list:\n",
    "    #Go through EEG types\n",
    "    for eeg_type in ['Wake' , 'N1' , 'N2' , 'N3' , 'REM']:\n",
    "               \n",
    "        for expt_num in [1,2,3,4]:\n",
    "            #Fill up the results_dict with the appropriate values\n",
    "            #Grab accuracy and std performance for each region\n",
    "            try:\n",
    "                mean_df = pd.DataFrame(results_dict[clf][expt_num][eeg_type_res].mean(axis = 0) ).T\n",
    "            \n",
    "            except KeyError:\n",
    "                continue\n",
    "            for region in regions:\n",
    "                #For each region take mean accuracy and std\n",
    "                region_cols = [col for col in mean_df.columns if region in col]\n",
    "                acc_col = [col for col in region_cols if 'acc' in col]\n",
    "                std_col = [col for col in region_cols if 'std' in col]\n",
    "                region_acc = mean_df[acc_col].values[0][0]\n",
    "                region_acc_std = mean_df[std_col].values[0][0]\n",
    "                \n",
    "                #Now fill up the dataframe\n",
    "                df_dict['Expt_type num'].append(expt_num)\n",
    "                df_dict['Folder'].append(eeg_type_res)\n",
    "                df_dict['Classifier Name'].append(clf)\n",
    "                df_dict['Classifier'].append(clf)\n",
    "                df_dict['EEG Type'].append(eeg_type)\n",
    "                df_dict['Brain Region'].append(region)\n",
    "                df_dict['Accuracy'].append(region_acc)\n",
    "                df_dict['Accuracy_std'].append(region_acc_std)\n",
    "                df_dict['TS processing'].append(proc)\n",
    "\n",
    "results_df = pd.DataFrame(df_dict)"
   ]
  },
  {
   "cell_type": "raw",
   "id": "3f751c84",
   "metadata": {},
   "source": []
  }
 ],
 "metadata": {
  "kernelspec": {
   "display_name": "Python 3 (ipykernel)",
   "language": "python",
   "name": "python3"
  },
  "language_info": {
   "codemirror_mode": {
    "name": "ipython",
    "version": 3
   },
   "file_extension": ".py",
   "mimetype": "text/x-python",
   "name": "python",
   "nbconvert_exporter": "python",
   "pygments_lexer": "ipython3",
   "version": "3.11.3"
  }
 },
 "nbformat": 4,
 "nbformat_minor": 5
}
