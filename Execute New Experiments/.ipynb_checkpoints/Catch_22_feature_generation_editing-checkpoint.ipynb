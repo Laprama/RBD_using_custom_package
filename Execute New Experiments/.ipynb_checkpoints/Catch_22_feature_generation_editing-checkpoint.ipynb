{
 "cells": [
  {
   "cell_type": "code",
   "execution_count": 3,
   "id": "0fc36b38",
   "metadata": {},
   "outputs": [],
   "source": [
    "from IPython.utils import io\n",
    "import pandas as pd\n",
    "import os\n",
    "from pathlib import Path\n",
    "from matplotlib import pyplot as plt\n",
    "from scipy.signal import find_peaks\n",
    "import numpy as np\n",
    "import seaborn as sns\n",
    "import time\n",
    "import joblib\n",
    "from os.path import exists\n",
    "import shutil\n",
    "import sys\n",
    "import time\n",
    "import mne\n",
    "\n",
    "from sklearn.model_selection import train_test_split\n",
    "#From my EEG package \n",
    "import run_expts\n",
    "import format_eeg_data\n",
    "import constants\n",
    "import eeg_stat_ts\n",
    "\n",
    "#Let me see as many results as I want to see\n",
    "pd.set_option('display.max_rows', 500)\n",
    "pd.set_option('display.max_columns', 500)\n",
    "\n",
    "from sktime.classification.feature_based import Catch22Classifier\n",
    "from sklearn.ensemble import RandomForestClassifier\n",
    "from sktime.datasets import load_unit_test\n",
    "from sktime.transformations.panel.catch22 import Catch22"
   ]
  },
  {
   "cell_type": "code",
   "execution_count": 4,
   "id": "c5d76225",
   "metadata": {},
   "outputs": [],
   "source": [
    "feature_list = ['DN_HistogramMode_5', 'DN_HistogramMode_10', 'SB_BinaryStats_diff_longstretch0', 'DN_OutlierInclude_p_001_mdrmd', 'DN_OutlierInclude_n_001_mdrmd', \n",
    " 'CO_f1ecac', 'CO_FirstMin_ac', 'SP_Summaries_welch_rect_area_5_1', 'SP_Summaries_welch_rect_centroid', 'FC_LocalSimple_mean3_stderr', 'CO_trev_1_num', \n",
    " 'CO_HistogramAMI_even_2_5', 'IN_AutoMutualInfoStats_40_gaussian_fmmi', 'MD_hrv_classic_pnn40', 'SB_BinaryStats_mean_longstretch1', 'SB_MotifThree_quantile_hh',\n",
    " 'FC_LocalSimple_mean1_tauresrat', 'CO_Embed2_Dist_tau_d_expfit_meandiff', 'SC_FluctAnal_2_dfa_50_1_2_logi_prop_r1', 'SC_FluctAnal_2_rsrangefit_50_1_logi_prop_r1', \n",
    " 'SB_TransitionMatrix_3ac_sumdiagcov', 'PD_PeriodicityWang_th0_01' , 'StandardDeviation' , 'Mean']\n",
    "\n",
    "transformer = Catch22(features = feature_list , catch24 = True )"
   ]
  },
  {
   "cell_type": "code",
   "execution_count": 64,
   "id": "9ee36e0d",
   "metadata": {
    "scrolled": true
   },
   "outputs": [
    {
     "name": "stdout",
     "output_type": "stream",
     "text": [
      "Generating Catch22 features for N2 data\n"
     ]
    },
    {
     "data": {
      "text/plain": [
       "1111.2260336875916"
      ]
     },
     "execution_count": 64,
     "metadata": {},
     "output_type": "execute_result"
    }
   ],
   "source": [
    "# for data_type in ['REM', 'N1', 'N2', 'N3', 'Wake']:\n",
    "t1 = time.time()\n",
    "\n",
    "for data_type in ['N2']:\n",
    "\n",
    "    print('Generating Catch22 features for ' + data_type + ' data')\n",
    "    \n",
    "    transformer = Catch22(features = feature_list , catch24 = True )\n",
    "    channels = constants.channel_list\n",
    "    paths , class_list, sleep_night_list , sleep_type_list , participant_id_list = constants.generate_paths_and_info()\n",
    "\n",
    "    #1. select the appropriate paths and supplementary information - store in lists\n",
    "    selected_paths , s_class_list , s_night_list , s_sleep_type , s_p_id = [], [], [], [], []\n",
    "\n",
    "\n",
    "    for path , class_name, night , p_id in zip(paths, class_list, sleep_night_list, participant_id_list ):\n",
    "        if data_type in path:\n",
    "            selected_paths.append(path) \n",
    "            s_class_list.append(class_name)\n",
    "            s_night_list.append(night)\n",
    "            s_sleep_type.append(data_type)\n",
    "            s_p_id.append(p_id)\n",
    "\n",
    "    #2. Load corresponding data into dataframes , store in dataframe list\n",
    "    df_list = []\n",
    "    error_paths = []\n",
    "    with io.capture_output() as captured:\n",
    "        for path in selected_paths:\n",
    "            try:\n",
    "                data_epo = mne.read_epochs(path)\n",
    "                data = data_epo._data * 1e6  # convert signal from V to uV\n",
    "                df_full = data_epo.to_data_frame()\n",
    "                df = df_full[channels].copy()\n",
    "                df_list.append(df)\n",
    "            except:\n",
    "                #error with loading data\n",
    "                error_paths.append(path)\n",
    "                \n",
    "    #Remove paths with errors from lists \n",
    "    for path in error_paths:\n",
    "        path_index = selected_paths.index(path)\n",
    "        #pop that index from all lists\n",
    "        selected_paths.pop(path_index) \n",
    "        s_class_list.pop(path_index)\n",
    "        s_night_list.pop(path_index)\n",
    "        s_sleep_type.pop(path_index)\n",
    "        s_p_id.pop(path_index)\n",
    "\n",
    "            \n",
    "    #Now we have the 57 channel EEG data in df's in df_list and corresponding supplementary information in the lists \n",
    "    #Selected_paths , s_class_list , s_night_list , s_sleep_type , s_p_id\n",
    "\n",
    "    #3. Load all of the data into a single dataframe with each cell containing a time series \n",
    "    ts_row_list = []\n",
    "\n",
    "    for df in df_list:\n",
    "        row = {}\n",
    "        for col in df.columns:\n",
    "            row[col] = df[col]\n",
    "        ts_row_list.append(row)\n",
    "        \n",
    "    #All of the main pieces of data to save \n",
    "    eeg_data_df = pd.DataFrame.from_records(ts_row_list)\n",
    "    groups = pd.Series(s_p_id)\n",
    "    class_list = pd.Series(s_class_list)\n",
    "    y = class_list.map({'HC': 0 , 'PD' : 1 , 'PD+RBD' : 2 , 'RBD' : 3})\n",
    "\n",
    "    \n",
    "    #For now I am commenting out all of the below\n",
    "    \n",
    "#     #4. Transform the dataframe _______________________________________________________________________________________\n",
    "#     transformed_df = transformer.fit_transform(eeg_data_df)\n",
    "\n",
    "#     #Generate the rename mapping dictionary to rename the transformed dataframe using more appropriate names____________________\n",
    "#     transformed_names = transformed_df.columns\n",
    "#     channel_names = eeg_data_df.columns\n",
    "#     new_names = [channel + '_' + feature for channel in channel_names for feature in feature_list] #This is hard to follow but it is correct\n",
    "\n",
    "#     rename_mapping_dict = {}\n",
    "#     for old_name, new_name in zip(transformed_names,new_names):\n",
    "#         rename_mapping_dict[old_name] = new_name\n",
    "        \n",
    "#     final_transformed_df = transformed_df.rename(rename_mapping_dict, axis=1)\n",
    "\n",
    "\n",
    "#     #5. Save everything in the appropriate place ---->  final_transformed_df, groups , y\n",
    "#     folder = 'Catch_22_features/'\n",
    "#     final_transformed_df.to_hdf(folder + data_type + '_c_22_feautures.h5' , key = 'df', mode = 'w')\n",
    "#     groups.to_hdf(folder + data_type + '_groups.h5' , key = 'df', mode = 'w')\n",
    "#     y.to_hdf(folder + data_type + '_y.h5' , key = 'df', mode = 'w')\n",
    "\n",
    "t2 = time.time()\n",
    "t2-t1"
   ]
  },
  {
   "cell_type": "code",
   "execution_count": null,
   "id": "e6bf804e",
   "metadata": {},
   "outputs": [],
   "source": []
  },
  {
   "cell_type": "code",
   "execution_count": null,
   "id": "50f07de1",
   "metadata": {},
   "outputs": [
    {
     "name": "stderr",
     "output_type": "stream",
     "text": [
      "/tmp/ipykernel_3354859/996261360.py:1: PerformanceWarning: \n",
      "your performance may suffer as PyTables will pickle object types that it cannot\n",
      "map directly to c-types [inferred_type->mixed,key->block0_values] [items->Index(['Fp1', 'Fpz', 'Fp2', 'F1', 'Fz', 'F2', 'AF7', 'F7', 'F5', 'F3', 'AF8',\n",
      "       'F8', 'F6', 'F4', 'FCz', 'FC1', 'FC2', 'Cz', 'C1', 'C2', 'CP1', 'CP2',\n",
      "       'FC5', 'FC3', 'C5', 'C3', 'CP5', 'CP3', 'FC6', 'FC4', 'C6', 'C4', 'CP6',\n",
      "       'CP4', 'TP7', 'T7', 'FT7', 'FT9', 'TP8', 'T8', 'FT8', 'FT10', 'P1',\n",
      "       'P2', 'Pz', 'P3', 'P5', 'P7', 'PO7', 'P4', 'P6', 'P8', 'PO8', 'POz',\n",
      "       'O1', 'O2', 'Oz'],\n",
      "      dtype='object')]\n",
      "\n",
      "  eeg_data_df.to_hdf('all_n2_eeg_data_to_see_size.h5', key='df', mode='w')\n"
     ]
    }
   ],
   "source": [
    "eeg_data_df.to_hdf('all_n2_eeg_data_to_see_size.h5', key='df', mode='w')  "
   ]
  },
  {
   "cell_type": "code",
   "execution_count": 65,
   "id": "e939081e",
   "metadata": {},
   "outputs": [
    {
     "data": {
      "text/plain": [
       "18.516666666666666"
      ]
     },
     "execution_count": 65,
     "metadata": {},
     "output_type": "execute_result"
    }
   ],
   "source": [
    "1111 / 60"
   ]
  },
  {
   "cell_type": "code",
   "execution_count": null,
   "id": "76c36468",
   "metadata": {},
   "outputs": [],
   "source": [
    "# I want to see how the time scales with the number of samples \n",
    "eeg_data_subset = eeg_data_df.iloc[:, :5].copy()\n",
    "for i in range(len(eeg_data_subset)):\n",
    "    print( len(eeg_data_subset.iloc[i,0]) /691200 )"
   ]
  },
  {
   "cell_type": "code",
   "execution_count": 25,
   "id": "74368aed",
   "metadata": {},
   "outputs": [
    {
     "data": {
      "text/plain": [
       "552960.0"
      ]
     },
     "execution_count": 25,
     "metadata": {},
     "output_type": "execute_result"
    }
   ],
   "source": [
    "0.8*691200"
   ]
  },
  {
   "cell_type": "code",
   "execution_count": 31,
   "id": "1db72a9b",
   "metadata": {},
   "outputs": [
    {
     "data": {
      "text/plain": [
       "45.0"
      ]
     },
     "execution_count": 31,
     "metadata": {},
     "output_type": "execute_result"
    }
   ],
   "source": [
    "(691200 /256) / 60"
   ]
  },
  {
   "cell_type": "code",
   "execution_count": 32,
   "id": "21712677",
   "metadata": {},
   "outputs": [],
   "source": [
    "#Most rows have at least 552960.0 length"
   ]
  },
  {
   "cell_type": "code",
   "execution_count": null,
   "id": "76f9f466",
   "metadata": {},
   "outputs": [],
   "source": [
    "transformed_df = transformer.fit_transform(eeg_data_df)"
   ]
  },
  {
   "cell_type": "code",
   "execution_count": 33,
   "id": "90f4512a",
   "metadata": {},
   "outputs": [],
   "source": [
    "import custom_ts_length"
   ]
  },
  {
   "cell_type": "code",
   "execution_count": 35,
   "id": "e55ad1a1",
   "metadata": {},
   "outputs": [
    {
     "data": {
      "text/plain": [
       "9.282590389251709"
      ]
     },
     "execution_count": 35,
     "metadata": {},
     "output_type": "execute_result"
    }
   ],
   "source": [
    "t1 = time.time()\n",
    "length_aligned_sub_df = custom_ts_length.customise_df_ts_length(eeg_data_subset,691200 ) \n",
    "t2 = time.time()\n",
    "\n",
    "t2-t1"
   ]
  },
  {
   "cell_type": "code",
   "execution_count": 55,
   "id": "58ea1c51",
   "metadata": {},
   "outputs": [],
   "source": [
    "channel_sample_combos = [(1, 1), (1, 4), (1, 8), (2, 1), (2, 4), (2, 8), (4, 1),\n",
    "                         (4, 4), (4, 8) , (1,12) , (2,12) , (4,12)]"
   ]
  },
  {
   "cell_type": "code",
   "execution_count": 52,
   "id": "cbc0502a",
   "metadata": {},
   "outputs": [
    {
     "data": {
      "text/plain": [
       "[(1, 1), (1, 4), (1, 8), (2, 1), (2, 4), (2, 8), (4, 1), (4, 4), (4, 8)]"
      ]
     },
     "execution_count": 52,
     "metadata": {},
     "output_type": "execute_result"
    }
   ],
   "source": [
    "channel_sample_combos = []\n",
    "for channels in [1,2,4]:\n",
    "    for samples in [1 , 4 , 8]:\n",
    "        channel_sample_combos.append((channels,samples))\n",
    "        \n",
    "channel_sample_combos\n",
    "        "
   ]
  },
  {
   "cell_type": "code",
   "execution_count": 47,
   "id": "38dca215",
   "metadata": {},
   "outputs": [
    {
     "data": {
      "text/html": [
       "<div>\n",
       "<style scoped>\n",
       "    .dataframe tbody tr th:only-of-type {\n",
       "        vertical-align: middle;\n",
       "    }\n",
       "\n",
       "    .dataframe tbody tr th {\n",
       "        vertical-align: top;\n",
       "    }\n",
       "\n",
       "    .dataframe thead th {\n",
       "        text-align: right;\n",
       "    }\n",
       "</style>\n",
       "<table border=\"1\" class=\"dataframe\">\n",
       "  <thead>\n",
       "    <tr style=\"text-align: right;\">\n",
       "      <th></th>\n",
       "      <th>0</th>\n",
       "      <th>1</th>\n",
       "      <th>2</th>\n",
       "      <th>3</th>\n",
       "      <th>4</th>\n",
       "      <th>5</th>\n",
       "      <th>6</th>\n",
       "      <th>7</th>\n",
       "      <th>8</th>\n",
       "      <th>9</th>\n",
       "      <th>10</th>\n",
       "      <th>11</th>\n",
       "      <th>12</th>\n",
       "      <th>13</th>\n",
       "      <th>14</th>\n",
       "      <th>15</th>\n",
       "      <th>16</th>\n",
       "      <th>17</th>\n",
       "      <th>18</th>\n",
       "      <th>19</th>\n",
       "      <th>20</th>\n",
       "      <th>21</th>\n",
       "      <th>22</th>\n",
       "      <th>23</th>\n",
       "    </tr>\n",
       "  </thead>\n",
       "  <tbody>\n",
       "    <tr>\n",
       "      <th>0</th>\n",
       "      <td>-1.42967</td>\n",
       "      <td>1.686842</td>\n",
       "      <td>275.0</td>\n",
       "      <td>0.029949</td>\n",
       "      <td>0.021746</td>\n",
       "      <td>12.0</td>\n",
       "      <td>20.0</td>\n",
       "      <td>21.870507</td>\n",
       "      <td>0.085729</td>\n",
       "      <td>2.265151</td>\n",
       "      <td>0.014482</td>\n",
       "      <td>0.229335</td>\n",
       "      <td>19.0</td>\n",
       "      <td>0.972831</td>\n",
       "      <td>32.0</td>\n",
       "      <td>1.567436</td>\n",
       "      <td>0.013216</td>\n",
       "      <td>0.101543</td>\n",
       "      <td>0.44</td>\n",
       "      <td>0.52</td>\n",
       "      <td>0.00001</td>\n",
       "      <td>31.0</td>\n",
       "      <td>4.793582</td>\n",
       "      <td>-0.004732</td>\n",
       "    </tr>\n",
       "  </tbody>\n",
       "</table>\n",
       "</div>"
      ],
      "text/plain": [
       "        0         1      2         3         4     5     6          7   \\\n",
       "0 -1.42967  1.686842  275.0  0.029949  0.021746  12.0  20.0  21.870507   \n",
       "\n",
       "         8         9         10        11    12        13    14        15  \\\n",
       "0  0.085729  2.265151  0.014482  0.229335  19.0  0.972831  32.0  1.567436   \n",
       "\n",
       "         16        17    18    19       20    21        22        23  \n",
       "0  0.013216  0.101543  0.44  0.52  0.00001  31.0  4.793582 -0.004732  "
      ]
     },
     "execution_count": 47,
     "metadata": {},
     "output_type": "execute_result"
    }
   ],
   "source": [
    "samples = 1\n",
    "channels = 1 \n",
    "\n",
    "transformed_df = transformer.fit_transform(length_aligned_sub_df.iloc[:samples, :channels])\n",
    "\n",
    "transformed_df"
   ]
  },
  {
   "cell_type": "code",
   "execution_count": 13,
   "id": "2c19460f",
   "metadata": {},
   "outputs": [
    {
     "data": {
      "text/plain": [
       "1190400"
      ]
     },
     "execution_count": 13,
     "metadata": {},
     "output_type": "execute_result"
    }
   ],
   "source": [
    "len(eeg_data_df.iloc[2,0])"
   ]
  },
  {
   "cell_type": "code",
   "execution_count": 17,
   "id": "1ff1c666",
   "metadata": {},
   "outputs": [
    {
     "data": {
      "text/plain": [
       "76.64835164835165"
      ]
     },
     "execution_count": 17,
     "metadata": {},
     "output_type": "execute_result"
    }
   ],
   "source": [
    "( 1190400 / 698880 ) * 45"
   ]
  },
  {
   "cell_type": "code",
   "execution_count": 11,
   "id": "213f9b78",
   "metadata": {},
   "outputs": [
    {
     "data": {
      "text/plain": [
       "45.5"
      ]
     },
     "execution_count": 11,
     "metadata": {},
     "output_type": "execute_result"
    }
   ],
   "source": [
    "( 698880 / 256 ) / 60"
   ]
  },
  {
   "cell_type": "code",
   "execution_count": 19,
   "id": "2fdb1304",
   "metadata": {},
   "outputs": [
    {
     "data": {
      "text/plain": [
       "2.5"
      ]
     },
     "execution_count": 19,
     "metadata": {},
     "output_type": "execute_result"
    }
   ],
   "source": [
    "( 300 / 2 ) / 60"
   ]
  },
  {
   "cell_type": "code",
   "execution_count": 14,
   "id": "075773c0",
   "metadata": {},
   "outputs": [
    {
     "data": {
      "text/plain": [
       "52.5"
      ]
     },
     "execution_count": 14,
     "metadata": {},
     "output_type": "execute_result"
    }
   ],
   "source": [
    "105 / 2"
   ]
  },
  {
   "cell_type": "code",
   "execution_count": 15,
   "id": "2af83a27",
   "metadata": {},
   "outputs": [],
   "source": [
    "# 73 minutes also popular G "
   ]
  },
  {
   "cell_type": "code",
   "execution_count": 59,
   "id": "510ad251",
   "metadata": {},
   "outputs": [
    {
     "data": {
      "text/plain": [
       "14.710275"
      ]
     },
     "execution_count": 59,
     "metadata": {},
     "output_type": "execute_result"
    }
   ],
   "source": [
    "3.33 * (93*72*57)/(60*60*24)"
   ]
  },
  {
   "cell_type": "code",
   "execution_count": 63,
   "id": "e34dc44c",
   "metadata": {},
   "outputs": [
    {
     "data": {
      "text/plain": [
       "1.4725"
      ]
     },
     "execution_count": 63,
     "metadata": {},
     "output_type": "execute_result"
    }
   ],
   "source": [
    "(93*1*57) / (60*60)"
   ]
  },
  {
   "cell_type": "code",
   "execution_count": null,
   "id": "6b9d2ecd",
   "metadata": {},
   "outputs": [],
   "source": [
    "# 3 hours to do 2 samples ? "
   ]
  },
  {
   "cell_type": "code",
   "execution_count": null,
   "id": "3b3c4f31",
   "metadata": {},
   "outputs": [],
   "source": []
  },
  {
   "cell_type": "code",
   "execution_count": null,
   "id": "264de4b3",
   "metadata": {},
   "outputs": [],
   "source": []
  }
 ],
 "metadata": {
  "kernelspec": {
   "display_name": "Python 3 (ipykernel)",
   "language": "python",
   "name": "python3"
  },
  "language_info": {
   "codemirror_mode": {
    "name": "ipython",
    "version": 3
   },
   "file_extension": ".py",
   "mimetype": "text/x-python",
   "name": "python",
   "nbconvert_exporter": "python",
   "pygments_lexer": "ipython3",
   "version": "3.11.3"
  }
 },
 "nbformat": 4,
 "nbformat_minor": 5
}
