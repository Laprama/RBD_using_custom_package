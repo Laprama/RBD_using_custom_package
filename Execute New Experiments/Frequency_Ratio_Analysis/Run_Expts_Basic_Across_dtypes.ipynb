{
 "cells": [
  {
   "cell_type": "markdown",
   "id": "f5364817-d7e4-48b5-904b-cab1c68ac572",
   "metadata": {
    "jp-MarkdownHeadingCollapsed": true
   },
   "source": [
    "#### Load Modules"
   ]
  },
  {
   "cell_type": "code",
   "execution_count": 2,
   "id": "ead18483-fa41-4271-8ac2-0000b5477536",
   "metadata": {},
   "outputs": [
    {
     "name": "stderr",
     "output_type": "stream",
     "text": [
      "/user/home/ko20929/.conda/envs/sktime_latest/lib/python3.11/site-packages/antropy/fractal.py:197: NumbaDeprecationWarning: \u001b[1mThe 'nopython' keyword argument was not supplied to the 'numba.jit' decorator. The implicit default value for this argument is currently False, but it will be changed to True in Numba 0.59.0. See https://numba.readthedocs.io/en/stable/reference/deprecation.html#deprecation-of-object-mode-fall-back-behaviour-when-using-jit for details.\u001b[0m\n",
      "  @jit((types.Array(types.float64, 1, \"C\", readonly=True), types.int32))\n",
      "/user/home/ko20929/.conda/envs/sktime_latest/lib/python3.11/site-packages/outdated/utils.py:14: OutdatedPackageWarning: The package yasa is out of date. Your version is 0.6.3, the latest is 0.6.4.\n",
      "Set the environment variable OUTDATED_IGNORE=1 to disable these warnings.\n",
      "  return warn(\n"
     ]
    }
   ],
   "source": [
    "import pandas as pd\n",
    "import mne as mne\n",
    "import os \n",
    "import time\n",
    "import numpy as np\n",
    "import matplotlib.pyplot as plt\n",
    "import joblib\n",
    "import constants\n",
    "from IPython.utils import io\n",
    "import time\n",
    "import sys\n",
    "import yasa\n",
    "from scipy.signal import welch\n",
    "import random \n",
    "\n",
    "#Import my modules\n",
    "import run_expts\n",
    "import format_eeg_data\n",
    "import constants\n",
    "import eeg_stat_ts\n",
    "\n",
    "#Import classifiers \n",
    "from sklearn.ensemble import RandomForestClassifier\n",
    "from sklearn.svm import SVC\n",
    "from sklearn.ensemble import AdaBoostClassifier\n",
    "from sklearn.tree import DecisionTreeClassifier"
   ]
  },
  {
   "cell_type": "markdown",
   "id": "e03889ca-f69f-4959-ac0d-eff803a27a3c",
   "metadata": {},
   "source": [
    "#### Load Data"
   ]
  },
  {
   "cell_type": "code",
   "execution_count": 23,
   "id": "fd585fa4-da4d-48c0-bf2b-f99a5838aaae",
   "metadata": {},
   "outputs": [],
   "source": [
    "#Load Wake Data + Sleep data combined\n",
    "y = joblib.load('y_concat.pkl')\n",
    "groups = joblib.load('groups_concat.pkl')\n",
    "X = joblib.load('concat_df.pkl')"
   ]
  },
  {
   "cell_type": "code",
   "execution_count": 24,
   "id": "917c9a96-6289-4f49-bd42-64b91c24a925",
   "metadata": {},
   "outputs": [],
   "source": [
    "#Load Sleep data combined\n",
    "y = joblib.load('y_sleep_concat.pkl')\n",
    "groups = joblib.load('groups_sleep_concat.pkl')\n",
    "X = joblib.load('sleep_concat_df.pkl')"
   ]
  },
  {
   "cell_type": "code",
   "execution_count": 4,
   "id": "c68bf73d-630a-4b28-b8e4-9d25a6046382",
   "metadata": {},
   "outputs": [
    {
     "data": {
      "text/plain": [
       "y_REM\n",
       "0    25\n",
       "3    22\n",
       "1    14\n",
       "2     6\n",
       "Name: count, dtype: int64"
      ]
     },
     "execution_count": 4,
     "metadata": {},
     "output_type": "execute_result"
    }
   ],
   "source": [
    "y.value_counts()"
   ]
  },
  {
   "cell_type": "markdown",
   "id": "ca071128-a478-4942-87ae-6da3487a5e0a",
   "metadata": {},
   "source": [
    "#### Run expts using X , y , groups"
   ]
  },
  {
   "cell_type": "code",
   "execution_count": 5,
   "id": "0b0b5263-1036-4425-85f1-cf5344f0fc13",
   "metadata": {},
   "outputs": [],
   "source": [
    "clf_dict = {'RF' : RandomForestClassifier(random_state = 5) , 'SVC' : SVC(), 'Ada_B' : AdaBoostClassifier(random_state = 5) , 'DT' : DecisionTreeClassifier()}"
   ]
  },
  {
   "cell_type": "code",
   "execution_count": 6,
   "id": "62616f7d-939a-40fb-a308-95ec9e50a7f1",
   "metadata": {},
   "outputs": [
    {
     "data": {
      "text/plain": [
       "572"
      ]
     },
     "execution_count": 6,
     "metadata": {},
     "output_type": "execute_result"
    }
   ],
   "source": [
    "#Generate a region to features dictionary - this will enable us to run expts regionally as before\n",
    "regional_features_dict = {}\n",
    "region_channel_dict = constants.region_to_channel_dict\n",
    "regions = list(region_channel_dict.keys())\n",
    "\n",
    "sum = 0\n",
    "\n",
    "for region in regions: \n",
    "    region_cols = [col for col in X.columns if '_' + region + '_' in col]\n",
    "    regional_features_dict[region] = region_cols\n",
    "    sum += len(region_cols)\n",
    "\n",
    "sum"
   ]
  },
  {
   "cell_type": "markdown",
   "id": "89a1a87b-d111-4964-a476-7e39953ce42f",
   "metadata": {},
   "source": [
    "##### Custom Region - Features dictionary. Randomly reduce features"
   ]
  },
  {
   "cell_type": "code",
   "execution_count": 65,
   "id": "69d4e40a-5b21-4428-9d13-f2430fd1a300",
   "metadata": {},
   "outputs": [],
   "source": [
    "# Generate a region to features dictionary\n",
    "# This dictionary will trim the number of features from each data type randomly to see if this helps classification\n",
    "\n",
    "data_types = ['N1' , 'N2', 'N3','REM']\n",
    "data_types = ['N1'] \n",
    "\n",
    "regional_features_dict = {}\n",
    "region_channel_dict = constants.region_to_channel_dict\n",
    "regions = list(region_channel_dict.keys())\n",
    "\n",
    "sum = 0\n",
    "\n",
    "for region in regions: \n",
    "    region_cols = [col for col in X.columns if '_' + region + '_' in col]\n",
    "    selected_cols = []\n",
    "    for data_type in data_types:\n",
    "        data_type_cols = [col for col in region_cols if data_type in col]\n",
    "        selected_cols = data_type_cols\n",
    "        # random_selection = random.sample(data_type_cols, 8)\n",
    "        # selected_cols += random_selection\n",
    "    \n",
    "    regional_features_dict[region] = selected_cols\n",
    "    sum += len(region_cols)\n"
   ]
  },
  {
   "cell_type": "markdown",
   "id": "630044b7-9cc3-4278-8824-af224be4423e",
   "metadata": {},
   "source": [
    "##### Run the experiments"
   ]
  },
  {
   "cell_type": "code",
   "execution_count": 66,
   "id": "ec1878cf-68ea-4879-a397-2c0a987d7acd",
   "metadata": {},
   "outputs": [
    {
     "name": "stdout",
     "output_type": "stream",
     "text": [
      "11\n",
      "11\n",
      "11\n",
      "11\n",
      "11\n",
      "11\n",
      "11\n",
      "11\n",
      "11\n",
      "11\n",
      "11\n",
      "11\n",
      "11\n"
     ]
    }
   ],
   "source": [
    "for key in regional_features_dict.keys():\n",
    "    print(len(regional_features_dict[key]) )"
   ]
  },
  {
   "cell_type": "code",
   "execution_count": 54,
   "id": "7745c11f-6c9c-49a7-b096-aa59bc97f461",
   "metadata": {},
   "outputs": [
    {
     "data": {
      "text/plain": [
       "y_REM\n",
       "0    25\n",
       "1    20\n",
       "Name: count, dtype: int64"
      ]
     },
     "execution_count": 54,
     "metadata": {},
     "output_type": "execute_result"
    }
   ],
   "source": [
    "y_expt.value_counts()"
   ]
  },
  {
   "cell_type": "code",
   "execution_count": 67,
   "id": "77a4fc44-23f9-430f-a988-8adc2b03c9b0",
   "metadata": {},
   "outputs": [
    {
     "data": {
      "text/plain": [
       "19.816067695617676"
      ]
     },
     "execution_count": 67,
     "metadata": {},
     "output_type": "execute_result"
    }
   ],
   "source": [
    "t1 = time.time()\n",
    "\n",
    "#1.Generate expt specific X,y,groups\n",
    "X_expt , y_expt , groups_expt, expt_info = run_expts.generate_expt_x_y_groups(X,y,groups, 2 )\n",
    "results_df = run_expts.run_mv_tsc(X_expt,y_expt,groups_expt, clf_dict , return_df = True , subset_names_and_cols = regional_features_dict, random_states = [1,2] )\n",
    "\n",
    "t2 = time.time()\n",
    "\n",
    "t2 - t1"
   ]
  },
  {
   "cell_type": "code",
   "execution_count": 68,
   "id": "54feefeb-9c5f-470c-a757-7638ecd6da6c",
   "metadata": {},
   "outputs": [
    {
     "data": {
      "text/html": [
       "<div>\n",
       "<style scoped>\n",
       "    .dataframe tbody tr th:only-of-type {\n",
       "        vertical-align: middle;\n",
       "    }\n",
       "\n",
       "    .dataframe tbody tr th {\n",
       "        vertical-align: top;\n",
       "    }\n",
       "\n",
       "    .dataframe thead th {\n",
       "        text-align: right;\n",
       "    }\n",
       "</style>\n",
       "<table border=\"1\" class=\"dataframe\">\n",
       "  <thead>\n",
       "    <tr style=\"text-align: right;\">\n",
       "      <th></th>\n",
       "      <th>random_state</th>\n",
       "      <th>y_true</th>\n",
       "      <th>Prefrontal_RF_y_preds</th>\n",
       "      <th>Prefrontal_SVC_y_preds</th>\n",
       "      <th>Prefrontal_Ada_B_y_preds</th>\n",
       "      <th>Prefrontal_DT_y_preds</th>\n",
       "      <th>Frontal_RF_y_preds</th>\n",
       "      <th>Frontal_SVC_y_preds</th>\n",
       "      <th>Frontal_Ada_B_y_preds</th>\n",
       "      <th>Frontal_DT_y_preds</th>\n",
       "      <th>...</th>\n",
       "      <th>Left Parietal_Ada_B_y_preds</th>\n",
       "      <th>Left Parietal_DT_y_preds</th>\n",
       "      <th>Right Parietal_RF_y_preds</th>\n",
       "      <th>Right Parietal_SVC_y_preds</th>\n",
       "      <th>Right Parietal_Ada_B_y_preds</th>\n",
       "      <th>Right Parietal_DT_y_preds</th>\n",
       "      <th>Occipital_RF_y_preds</th>\n",
       "      <th>Occipital_SVC_y_preds</th>\n",
       "      <th>Occipital_Ada_B_y_preds</th>\n",
       "      <th>Occipital_DT_y_preds</th>\n",
       "    </tr>\n",
       "  </thead>\n",
       "  <tbody>\n",
       "    <tr>\n",
       "      <th>0</th>\n",
       "      <td>1</td>\n",
       "      <td>[[0, 0, 0, 0, 0, 0, 0, 0, 0], [0, 0, 0, 0, 1, ...</td>\n",
       "      <td>[[1, 1, 0, 1, 1, 0, 0, 0, 0], [1, 0, 0, 0, 0, ...</td>\n",
       "      <td>[[1, 1, 1, 1, 1, 1, 1, 1, 1], [0, 0, 0, 0, 0, ...</td>\n",
       "      <td>[[1, 1, 0, 1, 1, 0, 0, 0, 1], [1, 0, 1, 0, 0, ...</td>\n",
       "      <td>[[1, 1, 0, 1, 1, 0, 0, 0, 1], [1, 1, 1, 0, 0, ...</td>\n",
       "      <td>[[1, 1, 0, 1, 0, 1, 1, 1, 1], [1, 1, 1, 0, 0, ...</td>\n",
       "      <td>[[1, 1, 1, 1, 1, 1, 1, 1, 1], [0, 0, 0, 0, 0, ...</td>\n",
       "      <td>[[1, 1, 0, 0, 0, 1, 0, 1, 1], [1, 1, 1, 1, 0, ...</td>\n",
       "      <td>[[1, 1, 0, 1, 1, 1, 0, 1, 1], [0, 0, 0, 0, 0, ...</td>\n",
       "      <td>...</td>\n",
       "      <td>[[0, 1, 1, 1, 0, 1, 1, 0, 0], [1, 1, 1, 0, 0, ...</td>\n",
       "      <td>[[0, 1, 1, 1, 1, 0, 1, 1, 1], [1, 1, 1, 0, 1, ...</td>\n",
       "      <td>[[0, 1, 1, 1, 1, 1, 0, 1, 1], [0, 1, 1, 0, 1, ...</td>\n",
       "      <td>[[1, 1, 1, 1, 1, 1, 1, 1, 1], [0, 0, 0, 0, 0, ...</td>\n",
       "      <td>[[0, 1, 0, 0, 0, 0, 0, 0, 1], [0, 1, 1, 0, 0, ...</td>\n",
       "      <td>[[1, 0, 0, 1, 0, 0, 0, 0, 1], [0, 0, 0, 0, 1, ...</td>\n",
       "      <td>[[1, 1, 1, 1, 1, 1, 1, 1, 1], [1, 1, 1, 0, 0, ...</td>\n",
       "      <td>[[1, 1, 1, 1, 1, 1, 1, 1, 1], [0, 0, 0, 0, 0, ...</td>\n",
       "      <td>[[1, 1, 1, 1, 0, 0, 1, 0, 1], [1, 1, 1, 0, 0, ...</td>\n",
       "      <td>[[1, 0, 1, 1, 1, 0, 0, 1, 1], [1, 1, 1, 0, 0, ...</td>\n",
       "    </tr>\n",
       "    <tr>\n",
       "      <th>1</th>\n",
       "      <td>2</td>\n",
       "      <td>[[0, 0, 0, 0, 0, 1, 1, 1, 1], [0, 0, 0, 0, 0, ...</td>\n",
       "      <td>[[1, 0, 1, 0, 0, 0, 1, 1, 1], [1, 1, 0, 0, 1, ...</td>\n",
       "      <td>[[0, 0, 0, 0, 0, 1, 0, 0, 1], [0, 1, 0, 0, 0, ...</td>\n",
       "      <td>[[0, 0, 1, 1, 0, 0, 1, 0, 1], [0, 1, 0, 1, 1, ...</td>\n",
       "      <td>[[0, 0, 1, 1, 0, 1, 1, 1, 1], [0, 1, 0, 0, 0, ...</td>\n",
       "      <td>[[1, 1, 0, 0, 1, 0, 1, 1, 1], [0, 0, 0, 0, 0, ...</td>\n",
       "      <td>[[0, 0, 0, 0, 0, 0, 0, 0, 0], [0, 0, 0, 0, 0, ...</td>\n",
       "      <td>[[1, 1, 0, 0, 1, 0, 1, 1, 1], [0, 0, 0, 1, 0, ...</td>\n",
       "      <td>[[1, 1, 0, 0, 1, 0, 1, 1, 1], [0, 0, 0, 0, 0, ...</td>\n",
       "      <td>...</td>\n",
       "      <td>[[1, 1, 1, 0, 0, 1, 1, 1, 1], [0, 0, 0, 1, 1, ...</td>\n",
       "      <td>[[0, 1, 1, 0, 0, 1, 0, 0, 1], [0, 1, 1, 1, 1, ...</td>\n",
       "      <td>[[0, 1, 1, 0, 0, 1, 1, 0, 1], [1, 1, 1, 1, 1, ...</td>\n",
       "      <td>[[0, 0, 0, 0, 0, 0, 0, 0, 1], [1, 1, 1, 0, 0, ...</td>\n",
       "      <td>[[0, 1, 0, 0, 0, 1, 0, 0, 1], [1, 1, 1, 1, 1, ...</td>\n",
       "      <td>[[1, 1, 1, 1, 0, 1, 1, 0, 1], [1, 1, 1, 0, 0, ...</td>\n",
       "      <td>[[1, 1, 1, 0, 0, 1, 0, 0, 1], [1, 0, 1, 1, 1, ...</td>\n",
       "      <td>[[0, 0, 0, 0, 0, 0, 0, 0, 1], [1, 1, 0, 0, 0, ...</td>\n",
       "      <td>[[1, 1, 1, 0, 0, 1, 0, 0, 1], [1, 0, 1, 1, 1, ...</td>\n",
       "      <td>[[1, 0, 1, 0, 0, 1, 0, 1, 1], [1, 1, 0, 1, 1, ...</td>\n",
       "    </tr>\n",
       "  </tbody>\n",
       "</table>\n",
       "<p>2 rows × 54 columns</p>\n",
       "</div>"
      ],
      "text/plain": [
       "   random_state                                             y_true  \\\n",
       "0             1  [[0, 0, 0, 0, 0, 0, 0, 0, 0], [0, 0, 0, 0, 1, ...   \n",
       "1             2  [[0, 0, 0, 0, 0, 1, 1, 1, 1], [0, 0, 0, 0, 0, ...   \n",
       "\n",
       "                               Prefrontal_RF_y_preds  \\\n",
       "0  [[1, 1, 0, 1, 1, 0, 0, 0, 0], [1, 0, 0, 0, 0, ...   \n",
       "1  [[1, 0, 1, 0, 0, 0, 1, 1, 1], [1, 1, 0, 0, 1, ...   \n",
       "\n",
       "                              Prefrontal_SVC_y_preds  \\\n",
       "0  [[1, 1, 1, 1, 1, 1, 1, 1, 1], [0, 0, 0, 0, 0, ...   \n",
       "1  [[0, 0, 0, 0, 0, 1, 0, 0, 1], [0, 1, 0, 0, 0, ...   \n",
       "\n",
       "                            Prefrontal_Ada_B_y_preds  \\\n",
       "0  [[1, 1, 0, 1, 1, 0, 0, 0, 1], [1, 0, 1, 0, 0, ...   \n",
       "1  [[0, 0, 1, 1, 0, 0, 1, 0, 1], [0, 1, 0, 1, 1, ...   \n",
       "\n",
       "                               Prefrontal_DT_y_preds  \\\n",
       "0  [[1, 1, 0, 1, 1, 0, 0, 0, 1], [1, 1, 1, 0, 0, ...   \n",
       "1  [[0, 0, 1, 1, 0, 1, 1, 1, 1], [0, 1, 0, 0, 0, ...   \n",
       "\n",
       "                                  Frontal_RF_y_preds  \\\n",
       "0  [[1, 1, 0, 1, 0, 1, 1, 1, 1], [1, 1, 1, 0, 0, ...   \n",
       "1  [[1, 1, 0, 0, 1, 0, 1, 1, 1], [0, 0, 0, 0, 0, ...   \n",
       "\n",
       "                                 Frontal_SVC_y_preds  \\\n",
       "0  [[1, 1, 1, 1, 1, 1, 1, 1, 1], [0, 0, 0, 0, 0, ...   \n",
       "1  [[0, 0, 0, 0, 0, 0, 0, 0, 0], [0, 0, 0, 0, 0, ...   \n",
       "\n",
       "                               Frontal_Ada_B_y_preds  \\\n",
       "0  [[1, 1, 0, 0, 0, 1, 0, 1, 1], [1, 1, 1, 1, 0, ...   \n",
       "1  [[1, 1, 0, 0, 1, 0, 1, 1, 1], [0, 0, 0, 1, 0, ...   \n",
       "\n",
       "                                  Frontal_DT_y_preds  ...  \\\n",
       "0  [[1, 1, 0, 1, 1, 1, 0, 1, 1], [0, 0, 0, 0, 0, ...  ...   \n",
       "1  [[1, 1, 0, 0, 1, 0, 1, 1, 1], [0, 0, 0, 0, 0, ...  ...   \n",
       "\n",
       "                         Left Parietal_Ada_B_y_preds  \\\n",
       "0  [[0, 1, 1, 1, 0, 1, 1, 0, 0], [1, 1, 1, 0, 0, ...   \n",
       "1  [[1, 1, 1, 0, 0, 1, 1, 1, 1], [0, 0, 0, 1, 1, ...   \n",
       "\n",
       "                            Left Parietal_DT_y_preds  \\\n",
       "0  [[0, 1, 1, 1, 1, 0, 1, 1, 1], [1, 1, 1, 0, 1, ...   \n",
       "1  [[0, 1, 1, 0, 0, 1, 0, 0, 1], [0, 1, 1, 1, 1, ...   \n",
       "\n",
       "                           Right Parietal_RF_y_preds  \\\n",
       "0  [[0, 1, 1, 1, 1, 1, 0, 1, 1], [0, 1, 1, 0, 1, ...   \n",
       "1  [[0, 1, 1, 0, 0, 1, 1, 0, 1], [1, 1, 1, 1, 1, ...   \n",
       "\n",
       "                          Right Parietal_SVC_y_preds  \\\n",
       "0  [[1, 1, 1, 1, 1, 1, 1, 1, 1], [0, 0, 0, 0, 0, ...   \n",
       "1  [[0, 0, 0, 0, 0, 0, 0, 0, 1], [1, 1, 1, 0, 0, ...   \n",
       "\n",
       "                        Right Parietal_Ada_B_y_preds  \\\n",
       "0  [[0, 1, 0, 0, 0, 0, 0, 0, 1], [0, 1, 1, 0, 0, ...   \n",
       "1  [[0, 1, 0, 0, 0, 1, 0, 0, 1], [1, 1, 1, 1, 1, ...   \n",
       "\n",
       "                           Right Parietal_DT_y_preds  \\\n",
       "0  [[1, 0, 0, 1, 0, 0, 0, 0, 1], [0, 0, 0, 0, 1, ...   \n",
       "1  [[1, 1, 1, 1, 0, 1, 1, 0, 1], [1, 1, 1, 0, 0, ...   \n",
       "\n",
       "                                Occipital_RF_y_preds  \\\n",
       "0  [[1, 1, 1, 1, 1, 1, 1, 1, 1], [1, 1, 1, 0, 0, ...   \n",
       "1  [[1, 1, 1, 0, 0, 1, 0, 0, 1], [1, 0, 1, 1, 1, ...   \n",
       "\n",
       "                               Occipital_SVC_y_preds  \\\n",
       "0  [[1, 1, 1, 1, 1, 1, 1, 1, 1], [0, 0, 0, 0, 0, ...   \n",
       "1  [[0, 0, 0, 0, 0, 0, 0, 0, 1], [1, 1, 0, 0, 0, ...   \n",
       "\n",
       "                             Occipital_Ada_B_y_preds  \\\n",
       "0  [[1, 1, 1, 1, 0, 0, 1, 0, 1], [1, 1, 1, 0, 0, ...   \n",
       "1  [[1, 1, 1, 0, 0, 1, 0, 0, 1], [1, 0, 1, 1, 1, ...   \n",
       "\n",
       "                                Occipital_DT_y_preds  \n",
       "0  [[1, 0, 1, 1, 1, 0, 0, 1, 1], [1, 1, 1, 0, 0, ...  \n",
       "1  [[1, 0, 1, 0, 0, 1, 0, 1, 1], [1, 1, 0, 1, 1, ...  \n",
       "\n",
       "[2 rows x 54 columns]"
      ]
     },
     "execution_count": 68,
     "metadata": {},
     "output_type": "execute_result"
    }
   ],
   "source": [
    "results_df"
   ]
  },
  {
   "cell_type": "code",
   "execution_count": 69,
   "id": "b639d96b-db32-4e8a-8ef4-e98c331bf33a",
   "metadata": {},
   "outputs": [],
   "source": [
    "res_df = run_expts.generate_subset_acc_std(results_df, return_df = True)"
   ]
  },
  {
   "cell_type": "code",
   "execution_count": 70,
   "id": "e633b8cc-4ca2-4c6b-b4cd-daf3fa606418",
   "metadata": {},
   "outputs": [
    {
     "data": {
      "text/html": [
       "<div>\n",
       "<style scoped>\n",
       "    .dataframe tbody tr th:only-of-type {\n",
       "        vertical-align: middle;\n",
       "    }\n",
       "\n",
       "    .dataframe tbody tr th {\n",
       "        vertical-align: top;\n",
       "    }\n",
       "\n",
       "    .dataframe thead th {\n",
       "        text-align: right;\n",
       "    }\n",
       "</style>\n",
       "<table border=\"1\" class=\"dataframe\">\n",
       "  <thead>\n",
       "    <tr style=\"text-align: right;\">\n",
       "      <th></th>\n",
       "      <th>Prefrontal_DT_acc</th>\n",
       "      <th>Frontal_DT_acc</th>\n",
       "      <th>Left Frontal_DT_acc</th>\n",
       "      <th>Right Frontal_DT_acc</th>\n",
       "      <th>Central_DT_acc</th>\n",
       "      <th>Left Central_DT_acc</th>\n",
       "      <th>Right Central_DT_acc</th>\n",
       "      <th>Left Temporal_DT_acc</th>\n",
       "      <th>Right Temporal_DT_acc</th>\n",
       "      <th>Parietal_DT_acc</th>\n",
       "      <th>Left Parietal_DT_acc</th>\n",
       "      <th>Right Parietal_DT_acc</th>\n",
       "      <th>Occipital_DT_acc</th>\n",
       "    </tr>\n",
       "  </thead>\n",
       "  <tbody>\n",
       "    <tr>\n",
       "      <th>0</th>\n",
       "      <td>0.533333</td>\n",
       "      <td>0.444444</td>\n",
       "      <td>0.355556</td>\n",
       "      <td>0.455556</td>\n",
       "      <td>0.444444</td>\n",
       "      <td>0.466667</td>\n",
       "      <td>0.466667</td>\n",
       "      <td>0.277778</td>\n",
       "      <td>0.4</td>\n",
       "      <td>0.444444</td>\n",
       "      <td>0.455556</td>\n",
       "      <td>0.455556</td>\n",
       "      <td>0.488889</td>\n",
       "    </tr>\n",
       "  </tbody>\n",
       "</table>\n",
       "</div>"
      ],
      "text/plain": [
       "   Prefrontal_DT_acc  Frontal_DT_acc  Left Frontal_DT_acc  \\\n",
       "0           0.533333        0.444444             0.355556   \n",
       "\n",
       "   Right Frontal_DT_acc  Central_DT_acc  Left Central_DT_acc  \\\n",
       "0              0.455556        0.444444             0.466667   \n",
       "\n",
       "   Right Central_DT_acc  Left Temporal_DT_acc  Right Temporal_DT_acc  \\\n",
       "0              0.466667              0.277778                    0.4   \n",
       "\n",
       "   Parietal_DT_acc  Left Parietal_DT_acc  Right Parietal_DT_acc  \\\n",
       "0         0.444444              0.455556               0.455556   \n",
       "\n",
       "   Occipital_DT_acc  \n",
       "0          0.488889  "
      ]
     },
     "metadata": {},
     "output_type": "display_data"
    },
    {
     "data": {
      "text/html": [
       "<div>\n",
       "<style scoped>\n",
       "    .dataframe tbody tr th:only-of-type {\n",
       "        vertical-align: middle;\n",
       "    }\n",
       "\n",
       "    .dataframe tbody tr th {\n",
       "        vertical-align: top;\n",
       "    }\n",
       "\n",
       "    .dataframe thead th {\n",
       "        text-align: right;\n",
       "    }\n",
       "</style>\n",
       "<table border=\"1\" class=\"dataframe\">\n",
       "  <thead>\n",
       "    <tr style=\"text-align: right;\">\n",
       "      <th></th>\n",
       "      <th>Prefrontal_RF_acc</th>\n",
       "      <th>Frontal_RF_acc</th>\n",
       "      <th>Left Frontal_RF_acc</th>\n",
       "      <th>Right Frontal_RF_acc</th>\n",
       "      <th>Central_RF_acc</th>\n",
       "      <th>Left Central_RF_acc</th>\n",
       "      <th>Right Central_RF_acc</th>\n",
       "      <th>Left Temporal_RF_acc</th>\n",
       "      <th>Right Temporal_RF_acc</th>\n",
       "      <th>Parietal_RF_acc</th>\n",
       "      <th>Left Parietal_RF_acc</th>\n",
       "      <th>Right Parietal_RF_acc</th>\n",
       "      <th>Occipital_RF_acc</th>\n",
       "    </tr>\n",
       "  </thead>\n",
       "  <tbody>\n",
       "    <tr>\n",
       "      <th>0</th>\n",
       "      <td>0.522222</td>\n",
       "      <td>0.4</td>\n",
       "      <td>0.366667</td>\n",
       "      <td>0.422222</td>\n",
       "      <td>0.355556</td>\n",
       "      <td>0.366667</td>\n",
       "      <td>0.477778</td>\n",
       "      <td>0.255556</td>\n",
       "      <td>0.411111</td>\n",
       "      <td>0.4</td>\n",
       "      <td>0.5</td>\n",
       "      <td>0.366667</td>\n",
       "      <td>0.411111</td>\n",
       "    </tr>\n",
       "  </tbody>\n",
       "</table>\n",
       "</div>"
      ],
      "text/plain": [
       "   Prefrontal_RF_acc  Frontal_RF_acc  Left Frontal_RF_acc  \\\n",
       "0           0.522222             0.4             0.366667   \n",
       "\n",
       "   Right Frontal_RF_acc  Central_RF_acc  Left Central_RF_acc  \\\n",
       "0              0.422222        0.355556             0.366667   \n",
       "\n",
       "   Right Central_RF_acc  Left Temporal_RF_acc  Right Temporal_RF_acc  \\\n",
       "0              0.477778              0.255556               0.411111   \n",
       "\n",
       "   Parietal_RF_acc  Left Parietal_RF_acc  Right Parietal_RF_acc  \\\n",
       "0              0.4                   0.5               0.366667   \n",
       "\n",
       "   Occipital_RF_acc  \n",
       "0          0.411111  "
      ]
     },
     "metadata": {},
     "output_type": "display_data"
    },
    {
     "data": {
      "text/html": [
       "<div>\n",
       "<style scoped>\n",
       "    .dataframe tbody tr th:only-of-type {\n",
       "        vertical-align: middle;\n",
       "    }\n",
       "\n",
       "    .dataframe tbody tr th {\n",
       "        vertical-align: top;\n",
       "    }\n",
       "\n",
       "    .dataframe thead th {\n",
       "        text-align: right;\n",
       "    }\n",
       "</style>\n",
       "<table border=\"1\" class=\"dataframe\">\n",
       "  <thead>\n",
       "    <tr style=\"text-align: right;\">\n",
       "      <th></th>\n",
       "      <th>Prefrontal_SVC_acc</th>\n",
       "      <th>Frontal_SVC_acc</th>\n",
       "      <th>Left Frontal_SVC_acc</th>\n",
       "      <th>Right Frontal_SVC_acc</th>\n",
       "      <th>Central_SVC_acc</th>\n",
       "      <th>Left Central_SVC_acc</th>\n",
       "      <th>Right Central_SVC_acc</th>\n",
       "      <th>Left Temporal_SVC_acc</th>\n",
       "      <th>Right Temporal_SVC_acc</th>\n",
       "      <th>Parietal_SVC_acc</th>\n",
       "      <th>Left Parietal_SVC_acc</th>\n",
       "      <th>Right Parietal_SVC_acc</th>\n",
       "      <th>Occipital_SVC_acc</th>\n",
       "    </tr>\n",
       "  </thead>\n",
       "  <tbody>\n",
       "    <tr>\n",
       "      <th>0</th>\n",
       "      <td>0.477778</td>\n",
       "      <td>0.411111</td>\n",
       "      <td>0.4</td>\n",
       "      <td>0.433333</td>\n",
       "      <td>0.4</td>\n",
       "      <td>0.422222</td>\n",
       "      <td>0.422222</td>\n",
       "      <td>0.433333</td>\n",
       "      <td>0.422222</td>\n",
       "      <td>0.466667</td>\n",
       "      <td>0.466667</td>\n",
       "      <td>0.455556</td>\n",
       "      <td>0.455556</td>\n",
       "    </tr>\n",
       "  </tbody>\n",
       "</table>\n",
       "</div>"
      ],
      "text/plain": [
       "   Prefrontal_SVC_acc  Frontal_SVC_acc  Left Frontal_SVC_acc  \\\n",
       "0            0.477778         0.411111                   0.4   \n",
       "\n",
       "   Right Frontal_SVC_acc  Central_SVC_acc  Left Central_SVC_acc  \\\n",
       "0               0.433333              0.4              0.422222   \n",
       "\n",
       "   Right Central_SVC_acc  Left Temporal_SVC_acc  Right Temporal_SVC_acc  \\\n",
       "0               0.422222               0.433333                0.422222   \n",
       "\n",
       "   Parietal_SVC_acc  Left Parietal_SVC_acc  Right Parietal_SVC_acc  \\\n",
       "0          0.466667               0.466667                0.455556   \n",
       "\n",
       "   Occipital_SVC_acc  \n",
       "0           0.455556  "
      ]
     },
     "metadata": {},
     "output_type": "display_data"
    },
    {
     "data": {
      "text/html": [
       "<div>\n",
       "<style scoped>\n",
       "    .dataframe tbody tr th:only-of-type {\n",
       "        vertical-align: middle;\n",
       "    }\n",
       "\n",
       "    .dataframe tbody tr th {\n",
       "        vertical-align: top;\n",
       "    }\n",
       "\n",
       "    .dataframe thead th {\n",
       "        text-align: right;\n",
       "    }\n",
       "</style>\n",
       "<table border=\"1\" class=\"dataframe\">\n",
       "  <thead>\n",
       "    <tr style=\"text-align: right;\">\n",
       "      <th></th>\n",
       "      <th>Prefrontal_Ada_B_acc</th>\n",
       "      <th>Frontal_Ada_B_acc</th>\n",
       "      <th>Left Frontal_Ada_B_acc</th>\n",
       "      <th>Right Frontal_Ada_B_acc</th>\n",
       "      <th>Central_Ada_B_acc</th>\n",
       "      <th>Left Central_Ada_B_acc</th>\n",
       "      <th>Right Central_Ada_B_acc</th>\n",
       "      <th>Left Temporal_Ada_B_acc</th>\n",
       "      <th>Right Temporal_Ada_B_acc</th>\n",
       "      <th>Parietal_Ada_B_acc</th>\n",
       "      <th>Left Parietal_Ada_B_acc</th>\n",
       "      <th>Right Parietal_Ada_B_acc</th>\n",
       "      <th>Occipital_Ada_B_acc</th>\n",
       "    </tr>\n",
       "  </thead>\n",
       "  <tbody>\n",
       "    <tr>\n",
       "      <th>0</th>\n",
       "      <td>0.477778</td>\n",
       "      <td>0.444444</td>\n",
       "      <td>0.288889</td>\n",
       "      <td>0.344444</td>\n",
       "      <td>0.444444</td>\n",
       "      <td>0.5</td>\n",
       "      <td>0.466667</td>\n",
       "      <td>0.333333</td>\n",
       "      <td>0.377778</td>\n",
       "      <td>0.422222</td>\n",
       "      <td>0.433333</td>\n",
       "      <td>0.377778</td>\n",
       "      <td>0.4</td>\n",
       "    </tr>\n",
       "  </tbody>\n",
       "</table>\n",
       "</div>"
      ],
      "text/plain": [
       "   Prefrontal_Ada_B_acc  Frontal_Ada_B_acc  Left Frontal_Ada_B_acc  \\\n",
       "0              0.477778           0.444444                0.288889   \n",
       "\n",
       "   Right Frontal_Ada_B_acc  Central_Ada_B_acc  Left Central_Ada_B_acc  \\\n",
       "0                 0.344444           0.444444                     0.5   \n",
       "\n",
       "   Right Central_Ada_B_acc  Left Temporal_Ada_B_acc  Right Temporal_Ada_B_acc  \\\n",
       "0                 0.466667                 0.333333                  0.377778   \n",
       "\n",
       "   Parietal_Ada_B_acc  Left Parietal_Ada_B_acc  Right Parietal_Ada_B_acc  \\\n",
       "0            0.422222                 0.433333                  0.377778   \n",
       "\n",
       "   Occipital_Ada_B_acc  \n",
       "0                  0.4  "
      ]
     },
     "metadata": {},
     "output_type": "display_data"
    }
   ],
   "source": [
    "display(pd.DataFrame(res_df[[col for col in res_df.columns if 'acc' in col and 'DT' in col]].mean(axis = 0)).T )\n",
    "display(pd.DataFrame(res_df[[col for col in res_df.columns if 'acc' in col and 'RF' in col]].mean(axis = 0)).T)\n",
    "display(pd.DataFrame(res_df[[col for col in res_df.columns if 'acc' in col and 'SVC' in col]].mean(axis = 0)).T)\n",
    "display(pd.DataFrame(res_df[[col for col in res_df.columns if 'acc' in col and 'Ada_B' in col]].mean(axis = 0)).T)"
   ]
  },
  {
   "cell_type": "code",
   "execution_count": null,
   "id": "56dac102-ddc9-4045-baf7-4207884b3960",
   "metadata": {},
   "outputs": [],
   "source": []
  }
 ],
 "metadata": {
  "kernelspec": {
   "display_name": "Python 3 (ipykernel)",
   "language": "python",
   "name": "python3"
  },
  "language_info": {
   "codemirror_mode": {
    "name": "ipython",
    "version": 3
   },
   "file_extension": ".py",
   "mimetype": "text/x-python",
   "name": "python",
   "nbconvert_exporter": "python",
   "pygments_lexer": "ipython3",
   "version": "3.11.3"
  }
 },
 "nbformat": 4,
 "nbformat_minor": 5
}
