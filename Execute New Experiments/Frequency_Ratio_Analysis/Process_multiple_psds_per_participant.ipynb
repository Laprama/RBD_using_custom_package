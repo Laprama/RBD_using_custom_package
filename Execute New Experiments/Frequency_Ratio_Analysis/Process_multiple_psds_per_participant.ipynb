{
 "cells": [
  {
   "cell_type": "code",
   "execution_count": 1,
   "id": "ec447413-0cb9-4802-ad53-f7aab90b9d97",
   "metadata": {},
   "outputs": [
    {
     "name": "stderr",
     "output_type": "stream",
     "text": [
      "/user/home/ko20929/.conda/envs/sktime_latest/lib/python3.11/site-packages/antropy/fractal.py:197: NumbaDeprecationWarning: \u001b[1mThe 'nopython' keyword argument was not supplied to the 'numba.jit' decorator. The implicit default value for this argument is currently False, but it will be changed to True in Numba 0.59.0. See https://numba.readthedocs.io/en/stable/reference/deprecation.html#deprecation-of-object-mode-fall-back-behaviour-when-using-jit for details.\u001b[0m\n",
      "  @jit((types.Array(types.float64, 1, \"C\", readonly=True), types.int32))\n",
      "/user/home/ko20929/.conda/envs/sktime_latest/lib/python3.11/site-packages/outdated/utils.py:14: OutdatedPackageWarning: The package yasa is out of date. Your version is 0.6.3, the latest is 0.6.4.\n",
      "Set the environment variable OUTDATED_IGNORE=1 to disable these warnings.\n",
      "  return warn(\n"
     ]
    }
   ],
   "source": [
    "import pandas as pd\n",
    "import mne as mne\n",
    "import os \n",
    "import time\n",
    "import numpy as np\n",
    "import matplotlib.pyplot as plt\n",
    "import joblib\n",
    "import constants\n",
    "from IPython.utils import io\n",
    "import time\n",
    "import sys\n",
    "import yasa\n",
    "from scipy.signal import welch\n",
    "\n",
    "#Import my modules\n",
    "import format_eeg_data\n",
    "import constants\n",
    "import eeg_stat_ts"
   ]
  },
  {
   "cell_type": "code",
   "execution_count": 49,
   "id": "5b18938d-477c-4482-97b9-09a52f5ea430",
   "metadata": {},
   "outputs": [
    {
     "name": "stdout",
     "output_type": "stream",
     "text": [
      "Wake  done!\n",
      "N3  done!\n",
      "REM  done!\n",
      "N1  done!\n",
      "N2  done!\n"
     ]
    }
   ],
   "source": [
    "data_types = ['N2', 'N3','REM', 'N1', 'Wake']\n",
    "data_types = ['Wake','N3','REM', 'N1','N2']\n",
    "\n",
    "for data_type in data_types:\n",
    "    \n",
    "    # 1. generate all path names and class list(s) etc. \n",
    "    folder = '/user/home/ko20929/work/RBD_using_custom_package/Blue_pebble/'\n",
    "    paths = joblib.load(folder + data_type + '_paths.pkl')\n",
    "    ts_df = pd.read_hdf('Multiple_PSDs_Per_Participant/' + data_type + 'multiple_psds_per_person.h5' , key = 'df')\n",
    "    \n",
    "    groups = pd.Series(paths['s_p_id'])\n",
    "    s_class_list = pd.Series(paths['s_class_list'])\n",
    "    y = s_class_list.map({'HC': 0 , 'PD' : 1 , 'PD+RBD' : 2 , 'RBD' : 3}) \n",
    "    \n",
    "    ts_df['y'] = y \n",
    "    ts_df['groups'] = groups\n",
    "    \n",
    "    final_df = {}\n",
    "    for col in list(ts_df.columns):\n",
    "        final_df[col] = []\n",
    "    \n",
    "    for ind in ts_df.index:\n",
    "        row = ts_df.loc[ind]\n",
    "        for col in ts_df.columns:\n",
    "            if col in ['y','groups']:\n",
    "                series = row['39.0_Right Temporal'] #this is to get the number of elements to populate y and groups vector with\n",
    "                val = row[col]\n",
    "                final_df[col]+= [val for i in range(len(series)) ]\n",
    "            else:\n",
    "                series = row[col]\n",
    "                final_df[col] += list(series.values)\n",
    "    \n",
    "    final_df = pd.DataFrame(final_df)\n",
    "    final_df.to_hdf(data_type + 'processed_multiple_psds_per_person.h5' , key = 'df', mode = 'w')\n",
    "    print(data_type + '  done!')"
   ]
  }
 ],
 "metadata": {
  "kernelspec": {
   "display_name": "Python 3 (ipykernel)",
   "language": "python",
   "name": "python3"
  },
  "language_info": {
   "codemirror_mode": {
    "name": "ipython",
    "version": 3
   },
   "file_extension": ".py",
   "mimetype": "text/x-python",
   "name": "python",
   "nbconvert_exporter": "python",
   "pygments_lexer": "ipython3",
   "version": "3.11.3"
  }
 },
 "nbformat": 4,
 "nbformat_minor": 5
}
