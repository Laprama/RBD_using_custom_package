{
 "cells": [
  {
   "cell_type": "code",
   "execution_count": 1,
   "id": "70ff6fb3-c2de-443d-b4c1-d915e186d3c0",
   "metadata": {},
   "outputs": [],
   "source": [
    "###In this version I will calculate ALL features and put them in a single dataframe\n",
    "#THEN loop through the dataframe of features to see wag1 in classification"
   ]
  },
  {
   "cell_type": "code",
   "execution_count": 1,
   "id": "f4d83d85-6f05-4b01-8ec4-c4bd64fd2aec",
   "metadata": {},
   "outputs": [],
   "source": [
    "import time\n",
    "t1 = time.time()"
   ]
  },
  {
   "cell_type": "code",
   "execution_count": 2,
   "id": "f2dae7ab-f793-4e6e-a737-a88be1032f94",
   "metadata": {},
   "outputs": [
    {
     "name": "stderr",
     "output_type": "stream",
     "text": [
      "/user/home/ko20929/.conda/envs/sktime_latest/lib/python3.11/site-packages/antropy/fractal.py:197: NumbaDeprecationWarning: \u001b[1mThe 'nopython' keyword argument was not supplied to the 'numba.jit' decorator. The implicit default value for this argument is currently False, but it will be changed to True in Numba 0.59.0. See https://numba.readthedocs.io/en/stable/reference/deprecation.html#deprecation-of-object-mode-fall-back-behaviour-when-using-jit for details.\u001b[0m\n",
      "  @jit((types.Array(types.float64, 1, \"C\", readonly=True), types.int32))\n",
      "/user/home/ko20929/.conda/envs/sktime_latest/lib/python3.11/site-packages/outdated/utils.py:14: OutdatedPackageWarning: The package yasa is out of date. Your version is 0.6.3, the latest is 0.6.4.\n",
      "Set the environment variable OUTDATED_IGNORE=1 to disable these warnings.\n",
      "  return warn(\n"
     ]
    }
   ],
   "source": [
    "import pandas as pd\n",
    "import mne as mne\n",
    "import os \n",
    "import time\n",
    "import numpy as np\n",
    "import matplotlib.pyplot as plt\n",
    "import joblib\n",
    "import constants\n",
    "from IPython.utils import io\n",
    "import time\n",
    "import sys\n",
    "import yasa\n",
    "from scipy.signal import welch\n",
    "\n",
    "## Use decision tree as a rough way for splitting based on that feature\n",
    "from sklearn.tree import DecisionTreeClassifier\n",
    "from sklearn.metrics import balanced_accuracy_score\n",
    "from sklearn.metrics import accuracy_score\n",
    "from sklearn import tree\n",
    "\n",
    "#Import my modules\n",
    "import format_eeg_data\n",
    "import constants\n",
    "import eeg_stat_ts\n",
    "import run_expts\n",
    "\n",
    "pd.set_option('display.max_columns', 100)\n",
    "pd.set_option('display.max_rows', 100)"
   ]
  },
  {
   "cell_type": "markdown",
   "id": "7ae1a738-c174-403c-90b4-d336ca62a831",
   "metadata": {},
   "source": [
    "### Load the PSD Data and take a single region (Central)"
   ]
  },
  {
   "cell_type": "code",
   "execution_count": 3,
   "id": "ff63c342-1a84-4dd4-864f-d44611ecdba2",
   "metadata": {},
   "outputs": [],
   "source": [
    "data_type = 'N1'\n",
    "df = joblib.load(os.path.join(os.path.abspath('..'), data_type + '_psd_normalised_data.pkl') )\n",
    "\n",
    "single_region_df = df[[col for col in df.columns if col.endswith('_Central')]]\n",
    "frequency_vals  = np.arange(0.5,40.125, 0.125)\n",
    "single_region_df.columns = frequency_vals\n",
    "\n",
    "folder = '/user/home/ko20929/work/RBD_using_custom_package/Blue_pebble/'\n",
    "paths = joblib.load(folder + data_type + '_paths.pkl')\n",
    "\n",
    "groups = pd.Series(paths['s_p_id'])\n",
    "s_class_list = pd.Series(paths['s_class_list'])\n",
    "y = s_class_list.map({'HC': 0 , 'PD' : 1 , 'PD+RBD' : 2 , 'RBD' : 3})"
   ]
  },
  {
   "cell_type": "code",
   "execution_count": 4,
   "id": "3ec6dd88-abd1-48af-a92c-0865fe89c386",
   "metadata": {},
   "outputs": [],
   "source": [
    "width_slide_list = [(0.5,0.5)] \n",
    "for window_width in range(1, 15 ):\n",
    "    width_slide_list.append((window_width, 0.5) )"
   ]
  },
  {
   "cell_type": "markdown",
   "id": "61030c9d-5264-4ae6-94ec-a00b3eeeb622",
   "metadata": {},
   "source": [
    "### Set the window width in hz and window slide in hz"
   ]
  },
  {
   "cell_type": "code",
   "execution_count": 5,
   "id": "8f4946f1-cac9-46cd-a1b0-1dfeeac67dc9",
   "metadata": {},
   "outputs": [
    {
     "data": {
      "text/plain": [
       "0.6458842754364014"
      ]
     },
     "execution_count": 5,
     "metadata": {},
     "output_type": "execute_result"
    }
   ],
   "source": [
    "t3 = time.time()\n",
    "\n",
    "results_dfs = []\n",
    "feature_dfs = []\n",
    "\n",
    "j = 0 #counter to populate feature dict dataframes\n",
    "\n",
    "for window_width_hz, window_slide_hz in width_slide_list:\n",
    "    description = 'window width : ' + str(window_width_hz) + ' .  window stride : ' + str(window_slide_hz)\n",
    "    \n",
    "    #1.Set Window width in Hz and Window Slide in Hz\n",
    "    # window_width_hz = 3\n",
    "    window_len = (window_width_hz/0.125)+1\n",
    "    assert window_len%1 == 0\n",
    "    window_len = int(window_len)\n",
    "    \n",
    "    # window_slide_hz = 0.5 \n",
    "    window_slide_len = window_slide_hz/0.125 \n",
    "    assert window_slide_len%1 == 0\n",
    "    window_slide_len = int(window_slide_len)\n",
    "    \n",
    "    \n",
    "    #2.Calculate band values and store in dataframe calculated_df\n",
    "    \n",
    "    # Start of the window is the middle_freq value minus window_width_hz/2 \n",
    "    # End of the window is the middle freq value plus window_width_hz/2\n",
    "    window_len\n",
    "    \n",
    "    middle_freq = []\n",
    "    final_cols = []\n",
    "    \n",
    "    i = 0\n",
    "    while i < len(frequency_vals) - window_len:\n",
    "        middle_freq.append( frequency_vals[i:i+window_len].mean() )\n",
    "        band_vals = single_region_df.iloc[:,i:i+window_len].mean(axis = 1) #For every row calculate the mean for the appropriate elements\n",
    "        \n",
    "        final_cols.append(band_vals)\n",
    "        \n",
    "        # scaled_psd.append( psd_values[i:i+factor].mean() )\n",
    "        i+= window_slide_len\n",
    "    \n",
    "    calculated_df = pd.DataFrame(final_cols).T\n",
    "    calculated_df.columns = middle_freq\n",
    "    \n",
    "    calculated_df.columns = [ str(col) + '_width_' + str(window_width_hz) for col in calculated_df.columns]\n",
    "    \n",
    "    \n",
    "    #3.Calculate Information Gain Based on Features\n",
    "    #Change to binary HC vs PD / PD+RBD ---> Generate expt specific X,y,groups \n",
    "    expt_num = 1\n",
    "    X_expt , y_expt , groups_expt, expt_info = run_expts.generate_expt_x_y_groups(calculated_df,y,groups,expt_num)\n",
    "\n",
    "    feature_dfs.append(X_expt)\n",
    "        \n",
    "t4 = time.time()\n",
    "t4-t3"
   ]
  },
  {
   "cell_type": "code",
   "execution_count": 14,
   "id": "f50f48bc-cc0b-4c7a-923e-d7fdf265725f",
   "metadata": {},
   "outputs": [],
   "source": [
    "X_expt_concatenated = pd.concat(feature_dfs, axis=1)\n",
    "y_expt \n",
    "\n",
    "cols_list = list(X_expt_concatenated.columns)\n",
    "\n",
    "col_combos = []\n",
    "\n",
    "for col_1 in cols_list:\n",
    "    for col_2 in cols_list:\n",
    "        col_combos.append([ col_1 , col_2 ] )\n",
    "        "
   ]
  },
  {
   "cell_type": "code",
   "execution_count": 122,
   "id": "f29970b6-bfbf-4bb5-b12f-79e65ce03bef",
   "metadata": {},
   "outputs": [
    {
     "data": {
      "text/plain": [
       "473851"
      ]
     },
     "execution_count": 122,
     "metadata": {},
     "output_type": "execute_result"
    }
   ],
   "source": [
    "from math import comb\n"
   ]
  },
  {
   "cell_type": "code",
   "execution_count": 126,
   "id": "1cb5cc5d-e07c-4c87-b1d5-8c5bec351d69",
   "metadata": {},
   "outputs": [
    {
     "data": {
      "text/plain": [
       "153527724"
      ]
     },
     "execution_count": 126,
     "metadata": {},
     "output_type": "execute_result"
    }
   ],
   "source": [
    "comb(974, 3)"
   ]
  },
  {
   "cell_type": "code",
   "execution_count": 127,
   "id": "2aed4dfa-741f-4a6c-b32d-a40569830a41",
   "metadata": {},
   "outputs": [
    {
     "data": {
      "text/plain": [
       "153.527724"
      ]
     },
     "execution_count": 127,
     "metadata": {},
     "output_type": "execute_result"
    }
   ],
   "source": [
    "153527724 / 1000000"
   ]
  },
  {
   "cell_type": "code",
   "execution_count": 125,
   "id": "becbf1f1-e31b-4ed8-9b73-98270753afdb",
   "metadata": {},
   "outputs": [
    {
     "data": {
      "text/plain": [
       "18.717114499999997"
      ]
     },
     "execution_count": 125,
     "metadata": {},
     "output_type": "execute_result"
    }
   ],
   "source": [
    " ( (473851 / 100000)*237 ) / 60"
   ]
  },
  {
   "cell_type": "code",
   "execution_count": 123,
   "id": "54ac7177-2cfb-4753-821e-894c135d3135",
   "metadata": {},
   "outputs": [
    {
     "data": {
      "text/plain": [
       "2.0020554984583763"
      ]
     },
     "execution_count": 123,
     "metadata": {},
     "output_type": "execute_result"
    }
   ],
   "source": [
    "len(col_combos)/ comb(974, 2)"
   ]
  },
  {
   "cell_type": "code",
   "execution_count": 120,
   "id": "809169f5-fe64-4f8d-8c8b-c6e5ad057752",
   "metadata": {},
   "outputs": [
    {
     "data": {
      "text/plain": [
       "974"
      ]
     },
     "execution_count": 120,
     "metadata": {},
     "output_type": "execute_result"
    }
   ],
   "source": [
    "len(cols_list)"
   ]
  },
  {
   "cell_type": "markdown",
   "id": "f8ac3796-2cb9-445c-98ef-63943f2d9223",
   "metadata": {},
   "source": [
    "#### Reduce redundancy in col_combos list"
   ]
  },
  {
   "cell_type": "code",
   "execution_count": 117,
   "id": "21fc4149-bb92-40cb-92d5-78189b92e09a",
   "metadata": {},
   "outputs": [],
   "source": [
    "col_combos_2 = []\n",
    "for col_1 in cols_list:\n",
    "    ind = cols_list.index(col_1)\n",
    "    for col_2 in cols_list[ind+1:]:\n",
    "        col_combos_2.append([ col_1 , col_2 ] )"
   ]
  },
  {
   "cell_type": "code",
   "execution_count": 119,
   "id": "44a97ef7-0d40-44af-b6a9-ee8b3df5d659",
   "metadata": {},
   "outputs": [
    {
     "data": {
      "text/plain": [
       "473851"
      ]
     },
     "execution_count": 119,
     "metadata": {},
     "output_type": "execute_result"
    }
   ],
   "source": [
    "len(col_combos_2)"
   ]
  },
  {
   "cell_type": "code",
   "execution_count": 111,
   "id": "11f12939-8ac9-4e0e-91d1-468cb1892b89",
   "metadata": {},
   "outputs": [
    {
     "data": {
      "text/plain": [
       "948676"
      ]
     },
     "execution_count": 111,
     "metadata": {},
     "output_type": "execute_result"
    }
   ],
   "source": [
    "974*974"
   ]
  },
  {
   "cell_type": "markdown",
   "id": "2d2de9b1-7c3a-4647-a2e8-ce30d4d16874",
   "metadata": {},
   "source": [
    "#### Fit models using the column combos"
   ]
  },
  {
   "cell_type": "code",
   "execution_count": 19,
   "id": "8adca9a0-54ff-4fd3-a6e2-7a1f9e2789ed",
   "metadata": {},
   "outputs": [],
   "source": [
    "from sklearn.linear_model import RidgeClassifier"
   ]
  },
  {
   "cell_type": "code",
   "execution_count": 52,
   "id": "9815a1c1-eaa6-486f-a3e6-752f93c430cc",
   "metadata": {},
   "outputs": [
    {
     "data": {
      "text/plain": [
       "0.625"
      ]
     },
     "execution_count": 52,
     "metadata": {},
     "output_type": "execute_result"
    }
   ],
   "source": [
    "X_selected = X_expt_concatenated[ ['10.0_width_4','2.25_width_0.5'] ]\n",
    "clf = RidgeClassifier(alpha = 0.001).fit(X_selected, y_expt)\n",
    "score = accuracy_score(y_expt,  clf.predict(X_selected))\n",
    "score"
   ]
  },
  {
   "cell_type": "code",
   "execution_count": 54,
   "id": "4cede0ea-7fe6-4251-8137-0baf85466176",
   "metadata": {},
   "outputs": [],
   "source": [
    "from sklearn.discriminant_analysis import LinearDiscriminantAnalysis"
   ]
  },
  {
   "cell_type": "code",
   "execution_count": 56,
   "id": "0e397f38-de70-42d1-81b3-60d21a84df7c",
   "metadata": {},
   "outputs": [
    {
     "data": {
      "text/plain": [
       "0.75"
      ]
     },
     "execution_count": 56,
     "metadata": {},
     "output_type": "execute_result"
    }
   ],
   "source": [
    "clf = LinearDiscriminantAnalysis()\n",
    "clf.fit(X_selected, y_expt)\n",
    "accuracy_score( clf.predict(X_selected) , y_expt)"
   ]
  },
  {
   "cell_type": "markdown",
   "id": "7271f988-34f3-4d6c-a266-e2d9f7d099e3",
   "metadata": {},
   "source": [
    "100,000 took four minutes"
   ]
  },
  {
   "cell_type": "code",
   "execution_count": 84,
   "id": "45e6b91f-cc11-40c1-a946-a8b46fc564a3",
   "metadata": {},
   "outputs": [
    {
     "data": {
      "text/plain": [
       "236.6117582321167"
      ]
     },
     "execution_count": 84,
     "metadata": {},
     "output_type": "execute_result"
    }
   ],
   "source": [
    "t1 = time.time()\n",
    "\n",
    "scores = []\n",
    "for col_combo in col_combos[:100000] : \n",
    "    X_selected = X_expt_concatenated[ col_combo ]\n",
    "    # clf = RidgeClassifier().fit(X_selected, y_expt)\n",
    "    clf = LinearDiscriminantAnalysis().fit(X_selected, y_expt)\n",
    "    score = accuracy_score(y_expt,  clf.predict(X_selected))\n",
    "    scores.append(score)\n",
    "\n",
    "t2 = time.time()\n",
    "\n",
    "t2-t1"
   ]
  },
  {
   "cell_type": "code",
   "execution_count": 97,
   "id": "68b42171-af16-4133-9ca8-4d779a34bdfd",
   "metadata": {},
   "outputs": [
    {
     "data": {
      "text/plain": [
       "0.875"
      ]
     },
     "execution_count": 97,
     "metadata": {},
     "output_type": "execute_result"
    }
   ],
   "source": [
    "np.array(scores).max()"
   ]
  },
  {
   "cell_type": "code",
   "execution_count": 107,
   "id": "76df1947-313d-4045-8aee-981fd6591d06",
   "metadata": {},
   "outputs": [
    {
     "data": {
      "text/plain": [
       "0.875"
      ]
     },
     "execution_count": 107,
     "metadata": {},
     "output_type": "execute_result"
    }
   ],
   "source": [
    "scores[30569]"
   ]
  },
  {
   "cell_type": "code",
   "execution_count": 108,
   "id": "964cd9ac-4a65-49be-ad52-714a217009c8",
   "metadata": {},
   "outputs": [
    {
     "data": {
      "text/plain": [
       "['16.25_width_0.5', '3.5_width_5']"
      ]
     },
     "execution_count": 108,
     "metadata": {},
     "output_type": "execute_result"
    }
   ],
   "source": [
    "col_combos[30569]"
   ]
  },
  {
   "cell_type": "code",
   "execution_count": 106,
   "id": "34f1ba61-080a-4e52-b495-cdb75677816b",
   "metadata": {},
   "outputs": [
    {
     "data": {
      "text/plain": [
       "<matplotlib.collections.PathCollection at 0x7f698116f4d0>"
      ]
     },
     "execution_count": 106,
     "metadata": {},
     "output_type": "execute_result"
    },
    {
     "data": {
      "image/png": "[encoded data removed]",
      "text/plain": [
       "<Figure size 640x480 with 1 Axes>"
      ]
     },
     "metadata": {},
     "output_type": "display_data"
    }
   ],
   "source": [
    "start = 30569 \n",
    "end = 30571\n",
    "plt.scatter([i for i in range(len(scores))][start:end], scores[start:end])"
   ]
  },
  {
   "cell_type": "code",
   "execution_count": 98,
   "id": "bffc6931-d792-4a76-b3b1-69bec7ed8e7b",
   "metadata": {},
   "outputs": [
    {
     "data": {
      "image/png": "[encoded data removed]",
      "text/plain": [
       "<Figure size 640x480 with 1 Axes>"
      ]
     },
     "metadata": {},
     "output_type": "display_data"
    }
   ],
   "source": [
    "plt.scatter([i for i in range(len(scores))], scores)\n",
    "plt.grid()"
   ]
  },
  {
   "cell_type": "markdown",
   "id": "c67c0eb8-34a7-43c5-b33d-c2e106fb254b",
   "metadata": {},
   "source": [
    "#### Do a plot based on the best two features to see how good they are"
   ]
  },
  {
   "cell_type": "code",
   "execution_count": 68,
   "id": "ac30c8b3-4ba8-4ffb-8976-6b95a4eb31e8",
   "metadata": {},
   "outputs": [],
   "source": [
    "#Decent for N1 plt.scatter(feats_dict[3][1]['4.0_width_2'], feats_dict[4][1]['2.5_width_3'] , c = y_expt.values )"
   ]
  },
  {
   "cell_type": "code",
   "execution_count": 109,
   "id": "f5731a76-e496-4d39-97d2-42cd5bed12dc",
   "metadata": {},
   "outputs": [
    {
     "data": {
      "image/png": "[encoded data removed]",
      "text/plain": [
       "<Figure size 640x480 with 1 Axes>"
      ]
     },
     "metadata": {},
     "output_type": "display_data"
    }
   ],
   "source": [
    "plt.scatter(X_expt_concatenated['16.25_width_0.5'], X_expt_concatenated['3.5_width_5'] , c = y_expt.values )\n",
    "plt.xlabel('2.25_width_0.5')\n",
    "plt.ylabel('9.5_width_1')\n",
    "plt.grid()"
   ]
  },
  {
   "cell_type": "code",
   "execution_count": 83,
   "id": "25ebe796-d80d-427a-9a3d-f807a8cb72e7",
   "metadata": {},
   "outputs": [
    {
     "data": {
      "image/png": "[encoded data removed]",
      "text/plain": [
       "<Figure size 640x480 with 1 Axes>"
      ]
     },
     "metadata": {},
     "output_type": "display_data"
    }
   ],
   "source": [
    "plt.scatter(X_expt_concatenated['10.0_width_4'], X_expt_concatenated['2.25_width_0.5'] , c = y_expt.values )\n",
    "plt.xlabel('2.25_width_0.5')\n",
    "plt.ylabel('9.5_width_1')\n",
    "plt.grid()"
   ]
  },
  {
   "cell_type": "code",
   "execution_count": null,
   "id": "da2db1db-bcd3-4c43-8e9e-1bd2a7753781",
   "metadata": {},
   "outputs": [],
   "source": []
  },
  {
   "cell_type": "markdown",
   "id": "72015b35-9078-4bee-ba14-708bfc7bb2eb",
   "metadata": {},
   "source": [
    "https://stackoverflow.com/questions/4739360/any-easy-way-to-plot-a-3d-scatter-in-python-that-i-can-rotate-around"
   ]
  }
 ],
 "metadata": {
  "kernelspec": {
   "display_name": "Python 3 (ipykernel)",
   "language": "python",
   "name": "python3"
  },
  "language_info": {
   "codemirror_mode": {
    "name": "ipython",
    "version": 3
   },
   "file_extension": ".py",
   "mimetype": "text/x-python",
   "name": "python",
   "nbconvert_exporter": "python",
   "pygments_lexer": "ipython3",
   "version": "3.11.3"
  }
 },
 "nbformat": 4,
 "nbformat_minor": 5
}
