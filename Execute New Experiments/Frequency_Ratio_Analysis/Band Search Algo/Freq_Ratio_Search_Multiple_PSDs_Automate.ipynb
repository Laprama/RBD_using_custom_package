{
 "cells": [
  {
   "cell_type": "code",
   "execution_count": 11,
   "id": "6d1c4ea0-3d28-49ae-a7e8-a5a51ff5aca3",
   "metadata": {},
   "outputs": [],
   "source": [
    "import pandas as pd\n",
    "import mne as mne\n",
    "import os \n",
    "import time\n",
    "import numpy as np\n",
    "import matplotlib.pyplot as plt\n",
    "import joblib\n",
    "import constants\n",
    "from IPython.utils import io\n",
    "import time\n",
    "import sys\n",
    "import yasa\n",
    "from scipy.signal import welch\n",
    "from constants import regions\n",
    "\n",
    "#Import Tree Modules\n",
    "from sklearn.tree import DecisionTreeClassifier\n",
    "from sklearn.metrics import accuracy_score\n",
    "from sklearn.tree import plot_tree\n",
    "\n",
    "#Import my modules\n",
    "import format_eeg_data\n",
    "import constants\n",
    "import eeg_stat_ts\n",
    "import run_expts"
   ]
  },
  {
   "cell_type": "markdown",
   "id": "a76a9b10-0b5e-447b-8665-8d67c691886c",
   "metadata": {
    "jp-MarkdownHeadingCollapsed": true
   },
   "source": [
    "#### Create df_ratios dataframe"
   ]
  },
  {
   "cell_type": "code",
   "execution_count": 3,
   "id": "6af9d1ab-4ee1-40ae-9cd9-8f04a8dd0b8d",
   "metadata": {},
   "outputs": [],
   "source": [
    "sys.argv[1] = 4\n",
    "sys.argv[2] = 2\n",
    "\n",
    "reduced_slide_list = [ (0.5, 0.5), (1, 0.5), (2, 0.5), (3, 0.5), (4, 0.5), (6, 0.5), (8, 0.5), (10, 1), (12, 1), (14, 1)]\n",
    "super_reduced_slide_list = [ (0.5, 0.5), (1, 0.5), (2, 0.5), (4, 1), (6, 1), (8, 1), (10,1), (14, 1) ] "
   ]
  },
  {
   "cell_type": "code",
   "execution_count": 4,
   "id": "3b906784-e62d-430d-b15f-c90e7d24e439",
   "metadata": {},
   "outputs": [
    {
     "name": "stdout",
     "output_type": "stream",
     "text": [
      "Prefrontaldone!\n"
     ]
    }
   ],
   "source": [
    "d_num = int( sys.argv[1] )\n",
    "data_type = ['N2', 'N3','REM', 'Wake', 'N1'][3]\n",
    "\n",
    "\n",
    "expt_num = int( sys.argv[2] )\n",
    "\n",
    "#2. Load the data based on data type ___________________________________________________________\n",
    "df = pd.read_hdf(os.path.join(os.path.abspath('..'),'Multiple_PSDs_Per_Participant/' + data_type + 'processed_multiple_psds_per_person.h5') , key = 'df')\n",
    "\n",
    "y = df['y'].copy()\n",
    "groups = df['groups'].copy()\n",
    "\n",
    "df = df.drop(columns = ['groups', 'y'])\n",
    "\n",
    "regional_dfs = {}\n",
    "\n",
    "for region in ['Prefrontal']:\n",
    "    \n",
    "    single_region_df = df[[col for col in df.columns if col.endswith('_' + region)]]\n",
    "    frequency_vals  = np.arange(0.5,40.125, 0.125)\n",
    "    single_region_df.columns = frequency_vals\n",
    "    \n",
    "    folder = '/user/home/ko20929/work/RBD_using_custom_package/Blue_pebble/'\n",
    "    # paths = joblib.load(folder + data_type + '_paths.pkl')\n",
    "    \n",
    "    # groups = pd.Series(paths['s_p_id'])\n",
    "    # s_class_list = pd.Series(paths['s_class_list'])\n",
    "    # y = s_class_list.map({'HC': 0 , 'PD' : 1 , 'PD+RBD' : 2 , 'RBD' : 3})\n",
    "    \n",
    "    #3 Generate the frequency band search space ____________________________________________________\n",
    "    width_slide_list = [(0.5,0.5)] \n",
    "    for window_width in range(1, 15 ):\n",
    "        width_slide_list.append((window_width, 0.5) )\n",
    "    \n",
    "    #4 Calculate all of the features ________________________________________________________________\n",
    "    feature_dfs = []\n",
    "    \n",
    "    for window_width_hz, window_slide_hz in super_reduced_slide_list:\n",
    "        description = 'window width : ' + str(window_width_hz) + ' .  window stride : ' + str(window_slide_hz)\n",
    "        \n",
    "        #1.Set Window width in Hz and Window Slide in Hz\n",
    "        # window_width_hz = 3\n",
    "        window_len = (window_width_hz/0.125)+1\n",
    "        assert window_len%1 == 0\n",
    "        window_len = int(window_len)\n",
    "        \n",
    "        # window_slide_hz = 0.5 \n",
    "        window_slide_len = window_slide_hz/0.125 \n",
    "        assert window_slide_len%1 == 0\n",
    "        window_slide_len = int(window_slide_len)\n",
    "        \n",
    "        \n",
    "        #2.Calculate band values and store in dataframe calculated_df\n",
    "        \n",
    "        # Start of the window is the middle_freq value minus window_width_hz/2 \n",
    "        # End of the window is the middle freq value plus window_width_hz/2\n",
    "        window_len\n",
    "        \n",
    "        middle_freq = []\n",
    "        final_cols = []\n",
    "        \n",
    "        i = 0\n",
    "        while i < len(frequency_vals) - window_len:\n",
    "            middle_freq.append( frequency_vals[i:i+window_len].mean() )\n",
    "            band_vals = single_region_df.iloc[:,i:i+window_len].mean(axis = 1) #For every row calculate the mean for the appropriate elements\n",
    "            \n",
    "            final_cols.append(band_vals)\n",
    "            \n",
    "            # scaled_psd.append( psd_values[i:i+factor].mean() )\n",
    "            i+= window_slide_len\n",
    "        \n",
    "        calculated_df = pd.DataFrame(final_cols).T\n",
    "        calculated_df.columns = middle_freq\n",
    "        \n",
    "        calculated_df.columns = [ str(col) + '_width_' + str(window_width_hz) for col in calculated_df.columns]\n",
    "        \n",
    "        \n",
    "        #3.Calculate Information Gain Based on Features\n",
    "        #Change to binary HC vs PD / PD+RBD ---> Generate expt specific X,y,groups \n",
    "        X_expt , y_expt , groups_expt, expt_info = run_expts.generate_expt_x_y_groups(calculated_df,y,groups,expt_num)\n",
    "    \n",
    "        feature_dfs.append(X_expt)\n",
    "            \n",
    "    #5 Concatenate all feature_dfs into a single dataframe_________________________________________________________________\n",
    "    X_expt_concatenated = pd.concat(feature_dfs, axis=1)\n",
    "\n",
    "    #6 Calculate Frequency Ratio Columns\n",
    "    calculated_cols = []\n",
    "    col_names = []\n",
    "    \n",
    "    X_expt_ratios = X_expt_concatenated.copy() \n",
    "    \n",
    "    for col_1 in X_expt_concatenated.columns:\n",
    "        for col_2 in X_expt_concatenated.columns:\n",
    "            if col_1 == col_2:\n",
    "                pass\n",
    "            else:\n",
    "                new_col = col_1 + '/' + col_2  \n",
    "                col_names.append(new_col)\n",
    "                calculated_cols.append( X_expt_concatenated[col_1]/X_expt_concatenated[col_2] )\n",
    "    \n",
    "    df_ratios = pd.concat(calculated_cols, axis = 1)\n",
    "    df_ratios.columns = col_names\n",
    "    df_ratios_and_freq = pd.concat([df_ratios, X_expt_concatenated], axis = 1)\n",
    "    regional_dfs[region] = df_ratios_and_freq.copy()\n",
    "    print(region + 'done!')"
   ]
  },
  {
   "cell_type": "code",
   "execution_count": 6,
   "id": "52fefc8b-f6d3-4109-ab5d-db0dc703a4f7",
   "metadata": {},
   "outputs": [],
   "source": []
  },
  {
   "cell_type": "markdown",
   "id": "d0ea10ab-8e82-4559-8319-7456748d5dac",
   "metadata": {},
   "source": [
    "#### Plot trees and do scatter plot"
   ]
  },
  {
   "cell_type": "code",
   "execution_count": 14,
   "id": "d9105df9-c4de-459b-89bf-f3a64bda5b7c",
   "metadata": {},
   "outputs": [
    {
     "name": "stdout",
     "output_type": "stream",
     "text": [
      "0.7844611528822055\n"
     ]
    },
    {
     "data": {
      "text/plain": [
       "13.826528549194336"
      ]
     },
     "execution_count": 14,
     "metadata": {},
     "output_type": "execute_result"
    },
    {
     "data": {
      "image/png": "[encoded data removed]",
      "text/plain": [
       "<Figure size 640x480 with 1 Axes>"
      ]
     },
     "metadata": {},
     "output_type": "display_data"
    }
   ],
   "source": [
    "t1 = time.time()\n",
    "\n",
    "region = 'Prefrontal'\n",
    "DT = DecisionTreeClassifier(criterion = 'entropy', max_depth=1)\n",
    "X = regional_dfs[region] \n",
    "\n",
    "DT.fit(X, y_expt)\n",
    "score = accuracy_score(y_expt,  DT.predict(X) )\n",
    "print(score)\n",
    "plot_tree(DT, feature_names = list( X.columns ) )\n",
    "\n",
    "t2 = time.time()\n",
    "\n",
    "t2-t1"
   ]
  },
  {
   "cell_type": "code",
   "execution_count": 21,
   "id": "3b2b37d1-d97b-46cb-bcc1-a9d5f6e87614",
   "metadata": {},
   "outputs": [],
   "source": [
    "clf = DT"
   ]
  },
  {
   "cell_type": "code",
   "execution_count": 20,
   "id": "f54c7c86-e710-473e-a9b1-3e496bbf3cb2",
   "metadata": {},
   "outputs": [
    {
     "data": {
      "text/plain": [
       "-1"
      ]
     },
     "execution_count": 20,
     "metadata": {},
     "output_type": "execute_result"
    }
   ],
   "source": [
    "DT.tree_.children_left[-1]"
   ]
  },
  {
   "cell_type": "code",
   "execution_count": 23,
   "id": "91ab71e7-34a4-4b3d-af74-07d028c20799",
   "metadata": {},
   "outputs": [
    {
     "data": {
      "text/plain": [
       "array([ 0.01066068, -2.        , -2.        ])"
      ]
     },
     "execution_count": 23,
     "metadata": {},
     "output_type": "execute_result"
    }
   ],
   "source": [
    "clf.tree_.threshold"
   ]
  },
  {
   "cell_type": "markdown",
   "id": "4d4ce7ed-25a5-4cb3-b0fc-9955a02b7e00",
   "metadata": {},
   "source": [
    "### My idea for feature search function"
   ]
  },
  {
   "cell_type": "code",
   "execution_count": null,
   "id": "7dba38a3-758b-4236-bc35-74d3cdc11480",
   "metadata": {},
   "outputs": [],
   "source": [
    "# Search to split on a single feature \n",
    "# Except - the split is based on the 'largest' approximately pure node you can create on each feature\n",
    "# Largest = 'Most unique samples' \n",
    "# Purity = Total Samples --> % which class   ..... OR total unique samples --> % which class"
   ]
  },
  {
   "cell_type": "markdown",
   "id": "13b65f15-6131-4518-bc4a-0426a27b208e",
   "metadata": {},
   "source": [
    "https://anderfernandez.com/en/blog/code-decision-tree-python-from-scratch/"
   ]
  },
  {
   "cell_type": "code",
   "execution_count": 24,
   "id": "d9ee8d9e-c58c-4b8d-873f-262bb7eaec87",
   "metadata": {},
   "outputs": [],
   "source": [
    "# Go to the section on 'How to calculate the best split for a variable'"
   ]
  },
  {
   "cell_type": "code",
   "execution_count": null,
   "id": "c5724580-b261-4e34-884c-5e11d937bbde",
   "metadata": {},
   "outputs": [],
   "source": [
    "# What will my score for a split be? \n",
    "# Purity x Size? "
   ]
  }
 ],
 "metadata": {
  "kernelspec": {
   "display_name": "Python 3 (ipykernel)",
   "language": "python",
   "name": "python3"
  },
  "language_info": {
   "codemirror_mode": {
    "name": "ipython",
    "version": 3
   },
   "file_extension": ".py",
   "mimetype": "text/x-python",
   "name": "python",
   "nbconvert_exporter": "python",
   "pygments_lexer": "ipython3",
   "version": "3.11.3"
  }
 },
 "nbformat": 4,
 "nbformat_minor": 5
}
