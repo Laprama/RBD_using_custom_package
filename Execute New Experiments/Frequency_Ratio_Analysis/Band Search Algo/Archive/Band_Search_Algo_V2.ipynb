{
 "cells": [
  {
   "cell_type": "code",
   "execution_count": 11,
   "id": "f4d83d85-6f05-4b01-8ec4-c4bd64fd2aec",
   "metadata": {},
   "outputs": [],
   "source": [
    "import time\n",
    "t1 = time.time()"
   ]
  },
  {
   "cell_type": "code",
   "execution_count": 12,
   "id": "f2dae7ab-f793-4e6e-a737-a88be1032f94",
   "metadata": {
    "scrolled": true
   },
   "outputs": [],
   "source": [
    "import pandas as pd\n",
    "import mne as mne\n",
    "import os \n",
    "import time\n",
    "import numpy as np\n",
    "import matplotlib.pyplot as plt\n",
    "import joblib\n",
    "import constants\n",
    "from IPython.utils import io\n",
    "import time\n",
    "import sys\n",
    "import yasa\n",
    "from scipy.signal import welch\n",
    "\n",
    "## Use decision tree as a rough way for splitting based on that feature\n",
    "from sklearn.tree import DecisionTreeClassifier\n",
    "from sklearn.metrics import accuracy_score\n",
    "from sklearn import tree\n",
    "\n",
    "#Import my modules\n",
    "import format_eeg_data\n",
    "import constants\n",
    "import eeg_stat_ts\n",
    "import run_expts"
   ]
  },
  {
   "cell_type": "markdown",
   "id": "7ae1a738-c174-403c-90b4-d336ca62a831",
   "metadata": {},
   "source": [
    "#### Load the PSD Data and take a single region (Central)"
   ]
  },
  {
   "cell_type": "code",
   "execution_count": 13,
   "id": "ff63c342-1a84-4dd4-864f-d44611ecdba2",
   "metadata": {},
   "outputs": [],
   "source": [
    "data_type = 'Wake'\n",
    "df = joblib.load('Wake' + '_psd_normalised_data.pkl')\n",
    "\n",
    "single_region_df = df[[col for col in df.columns if col.endswith('_Central')]]\n",
    "frequency_vals  = np.arange(0.5,40.125, 0.125)\n",
    "single_region_df.columns = frequency_vals\n",
    "\n",
    "folder = '/user/home/ko20929/work/RBD_using_custom_package/Blue_pebble/'\n",
    "paths = joblib.load(folder + data_type + '_paths.pkl')\n",
    "\n",
    "groups = pd.Series(paths['s_p_id'])\n",
    "s_class_list = pd.Series(paths['s_class_list'])\n",
    "y = s_class_list.map({'HC': 0 , 'PD' : 1 , 'PD+RBD' : 2 , 'RBD' : 3})"
   ]
  },
  {
   "cell_type": "markdown",
   "id": "61030c9d-5264-4ae6-94ec-a00b3eeeb622",
   "metadata": {},
   "source": [
    "#### Set the window width in hz and window slide in hz"
   ]
  },
  {
   "cell_type": "code",
   "execution_count": 14,
   "id": "045748c3-1c6c-4c8f-95e7-9080596ed269",
   "metadata": {},
   "outputs": [],
   "source": [
    "window_width_hz = 3\n",
    "window_len = (window_width_hz/0.125)+1\n",
    "assert window_len%1 == 0\n",
    "window_len = int(window_len)\n",
    "\n",
    "window_slide_hz = 0.5 \n",
    "window_slide_len = window_slide_hz/0.125 \n",
    "assert window_slide_len%1 == 0\n",
    "window_slide_len = int(window_slide_len)"
   ]
  },
  {
   "cell_type": "markdown",
   "id": "4faa43f5-e5bf-4f81-910f-ad9524b676b9",
   "metadata": {},
   "source": [
    "#### Calculate all band values and store in dataframe calculated_df"
   ]
  },
  {
   "cell_type": "code",
   "execution_count": 15,
   "id": "474e39c1-22be-4297-a2f4-f353cf642d27",
   "metadata": {},
   "outputs": [],
   "source": [
    "# Start of the window is the middle_freq value minus window_width_hz/2 \n",
    "# End of the window is the middle freq value plus window_width_hz/2\n",
    "window_len\n",
    "\n",
    "middle_freq = []\n",
    "final_cols = []\n",
    "\n",
    "i = 0\n",
    "while i < len(frequency_vals) - window_len:\n",
    "    middle_freq.append( frequency_vals[i:i+window_len].mean() )\n",
    "    band_vals = single_region_df.iloc[:,i:i+window_len].mean(axis = 1) #For every row calculate the mean for the appropriate elements\n",
    "    \n",
    "    final_cols.append(band_vals)\n",
    "    \n",
    "    # scaled_psd.append( psd_values[i:i+factor].mean() )\n",
    "    i+= window_slide_len\n",
    "\n",
    "calculated_df = pd.DataFrame(final_cols).T\n",
    "calculated_df.columns = middle_freq\n",
    "\n",
    "calculated_df.columns = [ str(col) + '_width_' + str(window_width_hz) for col in calculated_df.columns]"
   ]
  },
  {
   "cell_type": "code",
   "execution_count": 16,
   "id": "b084268c-48d2-4fd8-9431-76237c0e05df",
   "metadata": {},
   "outputs": [
    {
     "data": {
      "text/html": [
       "<div>\n",
       "<style scoped>\n",
       "    .dataframe tbody tr th:only-of-type {\n",
       "        vertical-align: middle;\n",
       "    }\n",
       "\n",
       "    .dataframe tbody tr th {\n",
       "        vertical-align: top;\n",
       "    }\n",
       "\n",
       "    .dataframe thead th {\n",
       "        text-align: right;\n",
       "    }\n",
       "</style>\n",
       "<table border=\"1\" class=\"dataframe\">\n",
       "  <thead>\n",
       "    <tr style=\"text-align: right;\">\n",
       "      <th></th>\n",
       "      <th>2.0_width_3</th>\n",
       "      <th>2.5_width_3</th>\n",
       "      <th>3.0_width_3</th>\n",
       "      <th>3.5_width_3</th>\n",
       "      <th>4.0_width_3</th>\n",
       "      <th>4.5_width_3</th>\n",
       "      <th>5.0_width_3</th>\n",
       "      <th>5.5_width_3</th>\n",
       "      <th>6.0_width_3</th>\n",
       "      <th>6.5_width_3</th>\n",
       "      <th>...</th>\n",
       "      <th>33.5_width_3</th>\n",
       "      <th>34.0_width_3</th>\n",
       "      <th>34.5_width_3</th>\n",
       "      <th>35.0_width_3</th>\n",
       "      <th>35.5_width_3</th>\n",
       "      <th>36.0_width_3</th>\n",
       "      <th>36.5_width_3</th>\n",
       "      <th>37.0_width_3</th>\n",
       "      <th>37.5_width_3</th>\n",
       "      <th>38.0_width_3</th>\n",
       "    </tr>\n",
       "  </thead>\n",
       "  <tbody>\n",
       "    <tr>\n",
       "      <th>0</th>\n",
       "      <td>0.005054</td>\n",
       "      <td>0.004244</td>\n",
       "      <td>0.003319</td>\n",
       "      <td>0.002832</td>\n",
       "      <td>0.002673</td>\n",
       "      <td>0.002595</td>\n",
       "      <td>0.002990</td>\n",
       "      <td>0.006028</td>\n",
       "      <td>0.012796</td>\n",
       "      <td>0.014166</td>\n",
       "      <td>...</td>\n",
       "      <td>0.000412</td>\n",
       "      <td>0.000405</td>\n",
       "      <td>0.000389</td>\n",
       "      <td>0.000375</td>\n",
       "      <td>0.000353</td>\n",
       "      <td>0.000330</td>\n",
       "      <td>0.000298</td>\n",
       "      <td>0.000257</td>\n",
       "      <td>0.000225</td>\n",
       "      <td>0.000201</td>\n",
       "    </tr>\n",
       "    <tr>\n",
       "      <th>1</th>\n",
       "      <td>0.007785</td>\n",
       "      <td>0.005690</td>\n",
       "      <td>0.004934</td>\n",
       "      <td>0.004599</td>\n",
       "      <td>0.004427</td>\n",
       "      <td>0.004366</td>\n",
       "      <td>0.005352</td>\n",
       "      <td>0.010822</td>\n",
       "      <td>0.019879</td>\n",
       "      <td>0.022397</td>\n",
       "      <td>...</td>\n",
       "      <td>0.000104</td>\n",
       "      <td>0.000102</td>\n",
       "      <td>0.000099</td>\n",
       "      <td>0.000097</td>\n",
       "      <td>0.000095</td>\n",
       "      <td>0.000091</td>\n",
       "      <td>0.000090</td>\n",
       "      <td>0.000088</td>\n",
       "      <td>0.000087</td>\n",
       "      <td>0.000085</td>\n",
       "    </tr>\n",
       "    <tr>\n",
       "      <th>2</th>\n",
       "      <td>0.012496</td>\n",
       "      <td>0.010247</td>\n",
       "      <td>0.007398</td>\n",
       "      <td>0.005944</td>\n",
       "      <td>0.005293</td>\n",
       "      <td>0.004890</td>\n",
       "      <td>0.004658</td>\n",
       "      <td>0.004788</td>\n",
       "      <td>0.005148</td>\n",
       "      <td>0.006142</td>\n",
       "      <td>...</td>\n",
       "      <td>0.000208</td>\n",
       "      <td>0.000202</td>\n",
       "      <td>0.000197</td>\n",
       "      <td>0.000187</td>\n",
       "      <td>0.000183</td>\n",
       "      <td>0.000173</td>\n",
       "      <td>0.000170</td>\n",
       "      <td>0.000167</td>\n",
       "      <td>0.000160</td>\n",
       "      <td>0.000156</td>\n",
       "    </tr>\n",
       "  </tbody>\n",
       "</table>\n",
       "<p>3 rows × 73 columns</p>\n",
       "</div>"
      ],
      "text/plain": [
       "   2.0_width_3  2.5_width_3  3.0_width_3  3.5_width_3  4.0_width_3  \\\n",
       "0     0.005054     0.004244     0.003319     0.002832     0.002673   \n",
       "1     0.007785     0.005690     0.004934     0.004599     0.004427   \n",
       "2     0.012496     0.010247     0.007398     0.005944     0.005293   \n",
       "\n",
       "   4.5_width_3  5.0_width_3  5.5_width_3  6.0_width_3  6.5_width_3  ...  \\\n",
       "0     0.002595     0.002990     0.006028     0.012796     0.014166  ...   \n",
       "1     0.004366     0.005352     0.010822     0.019879     0.022397  ...   \n",
       "2     0.004890     0.004658     0.004788     0.005148     0.006142  ...   \n",
       "\n",
       "   33.5_width_3  34.0_width_3  34.5_width_3  35.0_width_3  35.5_width_3  \\\n",
       "0      0.000412      0.000405      0.000389      0.000375      0.000353   \n",
       "1      0.000104      0.000102      0.000099      0.000097      0.000095   \n",
       "2      0.000208      0.000202      0.000197      0.000187      0.000183   \n",
       "\n",
       "   36.0_width_3  36.5_width_3  37.0_width_3  37.5_width_3  38.0_width_3  \n",
       "0      0.000330      0.000298      0.000257      0.000225      0.000201  \n",
       "1      0.000091      0.000090      0.000088      0.000087      0.000085  \n",
       "2      0.000173      0.000170      0.000167      0.000160      0.000156  \n",
       "\n",
       "[3 rows x 73 columns]"
      ]
     },
     "execution_count": 16,
     "metadata": {},
     "output_type": "execute_result"
    }
   ],
   "source": [
    "calculated_df.head(3)"
   ]
  },
  {
   "cell_type": "markdown",
   "id": "c67c0eb8-34a7-43c5-b33d-c2e106fb254b",
   "metadata": {},
   "source": [
    "#### Calculate Information Gain Based on features"
   ]
  },
  {
   "cell_type": "code",
   "execution_count": 17,
   "id": "2f842d07-a68b-4263-a51b-50a5927511d3",
   "metadata": {
    "scrolled": true
   },
   "outputs": [
    {
     "data": {
      "text/html": [
       "<div>\n",
       "<style scoped>\n",
       "    .dataframe tbody tr th:only-of-type {\n",
       "        vertical-align: middle;\n",
       "    }\n",
       "\n",
       "    .dataframe tbody tr th {\n",
       "        vertical-align: top;\n",
       "    }\n",
       "\n",
       "    .dataframe thead th {\n",
       "        text-align: right;\n",
       "    }\n",
       "</style>\n",
       "<table border=\"1\" class=\"dataframe\">\n",
       "  <thead>\n",
       "    <tr style=\"text-align: right;\">\n",
       "      <th></th>\n",
       "      <th>Score</th>\n",
       "    </tr>\n",
       "    <tr>\n",
       "      <th>Index</th>\n",
       "      <th></th>\n",
       "    </tr>\n",
       "  </thead>\n",
       "  <tbody>\n",
       "    <tr>\n",
       "      <th>3.5_width_3</th>\n",
       "      <td>0.684211</td>\n",
       "    </tr>\n",
       "    <tr>\n",
       "      <th>4.5_width_3</th>\n",
       "      <td>0.684211</td>\n",
       "    </tr>\n",
       "    <tr>\n",
       "      <th>12.0_width_3</th>\n",
       "      <td>0.657895</td>\n",
       "    </tr>\n",
       "    <tr>\n",
       "      <th>10.5_width_3</th>\n",
       "      <td>0.657895</td>\n",
       "    </tr>\n",
       "    <tr>\n",
       "      <th>28.5_width_3</th>\n",
       "      <td>0.631579</td>\n",
       "    </tr>\n",
       "    <tr>\n",
       "      <th>12.5_width_3</th>\n",
       "      <td>0.631579</td>\n",
       "    </tr>\n",
       "    <tr>\n",
       "      <th>2.5_width_3</th>\n",
       "      <td>0.631579</td>\n",
       "    </tr>\n",
       "    <tr>\n",
       "      <th>27.0_width_3</th>\n",
       "      <td>0.631579</td>\n",
       "    </tr>\n",
       "    <tr>\n",
       "      <th>27.5_width_3</th>\n",
       "      <td>0.631579</td>\n",
       "    </tr>\n",
       "    <tr>\n",
       "      <th>28.0_width_3</th>\n",
       "      <td>0.631579</td>\n",
       "    </tr>\n",
       "  </tbody>\n",
       "</table>\n",
       "</div>"
      ],
      "text/plain": [
       "                 Score\n",
       "Index                 \n",
       "3.5_width_3   0.684211\n",
       "4.5_width_3   0.684211\n",
       "12.0_width_3  0.657895\n",
       "10.5_width_3  0.657895\n",
       "28.5_width_3  0.631579\n",
       "12.5_width_3  0.631579\n",
       "2.5_width_3   0.631579\n",
       "27.0_width_3  0.631579\n",
       "27.5_width_3  0.631579\n",
       "28.0_width_3  0.631579"
      ]
     },
     "execution_count": 17,
     "metadata": {},
     "output_type": "execute_result"
    }
   ],
   "source": [
    "#1.Change to binary HC vs PD / PD+RBD ---> Generate expt specific X,y,groups \n",
    "expt_num = 2\n",
    "X_expt , y_expt , groups_expt, expt_info = run_expts.generate_expt_x_y_groups(calculated_df,y,groups,expt_num)\n",
    "\n",
    "\n",
    "#2.Calculate a score for each feature (Band) -> How well does a decision tree of depth 1 split based on only that feature\n",
    "scores_dict = {}\n",
    "for col in X_expt.columns:\n",
    "    DT = DecisionTreeClassifier(max_depth=1, random_state = 5)\n",
    "    DT.fit(X_expt[[col]], y_expt)\n",
    "    score = accuracy_score( DT.predict(X_expt[[col]]), y_expt)\n",
    "    scores_dict[col] = score\n",
    "\n",
    "#3.Create scores dataframe -> df_results\n",
    "df_results = pd.DataFrame(list(scores_dict.items()), columns=['Index', 'Score'])\n",
    "df_results.set_index('Index', inplace=True)\n",
    "df_results = df_results.sort_values(by = 'Score' , ascending  = False)\n",
    "df_results.head(10)"
   ]
  },
  {
   "cell_type": "markdown",
   "id": "ed9be8aa-b14b-4563-925a-af14f469410c",
   "metadata": {},
   "source": [
    "#### Do a test plot to show the effectiveness of the algorithm"
   ]
  },
  {
   "cell_type": "code",
   "execution_count": 18,
   "id": "d6f6c9df-b6ba-49b8-ac5c-fd8005047a19",
   "metadata": {},
   "outputs": [
    {
     "data": {
      "text/plain": [
       "<matplotlib.collections.PathCollection at 0x7f9d7671bd50>"
      ]
     },
     "execution_count": 18,
     "metadata": {},
     "output_type": "execute_result"
    },
    {
     "data": {
      "image/png": "[encoded data removed]",
      "text/plain": [
       "<Figure size 640x480 with 1 Axes>"
      ]
     },
     "metadata": {},
     "output_type": "display_data"
    }
   ],
   "source": [
    "plt.scatter(X_expt[df_results.index[0]] , X_expt[df_results.index[1]]  , c = y_expt.values)"
   ]
  },
  {
   "cell_type": "code",
   "execution_count": 19,
   "id": "c11d2d03-a48a-4ce3-830a-577b8d2e3267",
   "metadata": {},
   "outputs": [],
   "source": [
    "t2 = time.time()"
   ]
  },
  {
   "cell_type": "code",
   "execution_count": 20,
   "id": "a5f9a03d-8672-4289-88c9-8461df6c1779",
   "metadata": {},
   "outputs": [
    {
     "data": {
      "text/plain": [
       "0.6009171009063721"
      ]
     },
     "execution_count": 20,
     "metadata": {},
     "output_type": "execute_result"
    }
   ],
   "source": [
    "t2-t1"
   ]
  }
 ],
 "metadata": {
  "kernelspec": {
   "display_name": "Python 3 (ipykernel)",
   "language": "python",
   "name": "python3"
  },
  "language_info": {
   "codemirror_mode": {
    "name": "ipython",
    "version": 3
   },
   "file_extension": ".py",
   "mimetype": "text/x-python",
   "name": "python",
   "nbconvert_exporter": "python",
   "pygments_lexer": "ipython3",
   "version": "3.11.3"
  }
 },
 "nbformat": 4,
 "nbformat_minor": 5
}
