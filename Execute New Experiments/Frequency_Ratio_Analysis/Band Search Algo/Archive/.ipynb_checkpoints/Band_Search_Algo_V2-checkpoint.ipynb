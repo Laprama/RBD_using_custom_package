{
 "cells": [
  {
   "cell_type": "code",
   "execution_count": 105,
   "id": "f2dae7ab-f793-4e6e-a737-a88be1032f94",
   "metadata": {
    "scrolled": true
   },
   "outputs": [],
   "source": [
    "import pandas as pd\n",
    "import mne as mne\n",
    "import os \n",
    "import time\n",
    "import numpy as np\n",
    "import matplotlib.pyplot as plt\n",
    "import joblib\n",
    "import constants\n",
    "from IPython.utils import io\n",
    "import time\n",
    "import sys\n",
    "import yasa\n",
    "from scipy.signal import welch\n",
    "\n",
    "#Import my modules\n",
    "import format_eeg_data\n",
    "import constants\n",
    "import eeg_stat_ts\n",
    "import run_expts"
   ]
  },
  {
   "cell_type": "code",
   "execution_count": 106,
   "id": "ff63c342-1a84-4dd4-864f-d44611ecdba2",
   "metadata": {},
   "outputs": [],
   "source": [
    "data_type = 'Wake'\n",
    "df = joblib.load('Wake' + '_psd_normalised_data.pkl')\n",
    "single_region_df = df[[col for col in df.columns if col.endswith('_Central')]]"
   ]
  },
  {
   "cell_type": "code",
   "execution_count": 107,
   "id": "12d6fe3a-6458-43c2-b8e7-51a690568fb5",
   "metadata": {},
   "outputs": [],
   "source": [
    "folder = '/user/home/ko20929/work/RBD_using_custom_package/Blue_pebble/'\n",
    "paths = joblib.load(folder + data_type + '_paths.pkl')\n",
    "\n",
    "groups = pd.Series(paths['s_p_id'])\n",
    "s_class_list = pd.Series(paths['s_class_list'])\n",
    "y = s_class_list.map({'HC': 0 , 'PD' : 1 , 'PD+RBD' : 2 , 'RBD' : 3})"
   ]
  },
  {
   "cell_type": "code",
   "execution_count": 108,
   "id": "1bd2a7f4-4e85-431b-9a31-6e518aa3d29e",
   "metadata": {},
   "outputs": [],
   "source": [
    "frequency_vals  = np.arange(0.5,40.125, 0.125)\n",
    "single_region_df.columns = frequency_vals"
   ]
  },
  {
   "cell_type": "code",
   "execution_count": 109,
   "id": "045748c3-1c6c-4c8f-95e7-9080596ed269",
   "metadata": {},
   "outputs": [],
   "source": [
    "window_width_hz = 0.5 \n",
    "window_len = (window_width_hz/0.125)+1\n",
    "assert window_len%1 == 0\n",
    "window_len = int(window_len)\n",
    "\n",
    "window_slide_hz = 0.25 \n",
    "window_slide_len = window_slide_hz/0.125 \n",
    "assert window_slide_len%1 == 0\n",
    "window_slide_len = int(window_slide_len)"
   ]
  },
  {
   "cell_type": "markdown",
   "id": "a9cab6e1-685c-44c3-9858-a63186bbc1e8",
   "metadata": {},
   "source": [
    "##### Window code to calculate middle_freq value only"
   ]
  },
  {
   "cell_type": "code",
   "execution_count": 110,
   "id": "c217303f-5be2-4d5d-9ad4-eb9c06c81257",
   "metadata": {},
   "outputs": [],
   "source": [
    "# Start of the window is the middle_freq value minus window_width_hz/2 \n",
    "# End of the window is the middle freq value plus window_width_hz/2\n",
    "\n",
    "factor = window_len\n",
    "middle_freq = []\n",
    "\n",
    "i = 0\n",
    "\n",
    "while i < len(frequency_vals) - factor:\n",
    "    middle_freq.append( frequency_vals[i:i+factor].mean() )\n",
    "    # scaled_psd.append( psd_values[i:i+factor].mean() )\n",
    "    i+= window_slide_len"
   ]
  },
  {
   "cell_type": "markdown",
   "id": "4faa43f5-e5bf-4f81-910f-ad9524b676b9",
   "metadata": {},
   "source": [
    "#### Adapt window code to calculate features as well as middle freq band value "
   ]
  },
  {
   "cell_type": "code",
   "execution_count": 111,
   "id": "cb2cef80-74df-4cfa-ba3e-db68be4420e4",
   "metadata": {},
   "outputs": [],
   "source": [
    "# plt.scatter(frequency_vals, single_region_df.iloc[0,:].values)"
   ]
  },
  {
   "cell_type": "code",
   "execution_count": 112,
   "id": "474e39c1-22be-4297-a2f4-f353cf642d27",
   "metadata": {},
   "outputs": [],
   "source": [
    "# Start of the window is the middle_freq value minus window_width_hz/2 \n",
    "# End of the window is the middle freq value plus window_width_hz/2\n",
    "factor = window_len\n",
    "middle_freq = []\n",
    "\n",
    "final_cols = []\n",
    "\n",
    "i = 0\n",
    "while i < len(frequency_vals) - factor:\n",
    "    middle_freq.append( frequency_vals[i:i+factor].mean() )\n",
    "    band_vals = single_region_df.iloc[:,i:i+factor].mean(axis = 1) #For every row calculate the mean for the appropriate elements\n",
    "    \n",
    "    final_cols.append(band_vals)\n",
    "    \n",
    "    # scaled_psd.append( psd_values[i:i+factor].mean() )\n",
    "    i+= window_slide_len"
   ]
  },
  {
   "cell_type": "code",
   "execution_count": 113,
   "id": "b084268c-48d2-4fd8-9431-76237c0e05df",
   "metadata": {},
   "outputs": [],
   "source": [
    "calculated_df = pd.DataFrame(final_cols).T\n",
    "calculated_df.columns = middle_freq"
   ]
  },
  {
   "cell_type": "code",
   "execution_count": 114,
   "id": "74ddb8a2-8b76-4eb5-a3c2-9e5fdd8c58a0",
   "metadata": {},
   "outputs": [
    {
     "data": {
      "text/html": [
       "<div>\n",
       "<style scoped>\n",
       "    .dataframe tbody tr th:only-of-type {\n",
       "        vertical-align: middle;\n",
       "    }\n",
       "\n",
       "    .dataframe tbody tr th {\n",
       "        vertical-align: top;\n",
       "    }\n",
       "\n",
       "    .dataframe thead th {\n",
       "        text-align: right;\n",
       "    }\n",
       "</style>\n",
       "<table border=\"1\" class=\"dataframe\">\n",
       "  <thead>\n",
       "    <tr style=\"text-align: right;\">\n",
       "      <th></th>\n",
       "      <th>0.75</th>\n",
       "      <th>1.00</th>\n",
       "      <th>1.25</th>\n",
       "      <th>1.50</th>\n",
       "      <th>1.75</th>\n",
       "      <th>2.00</th>\n",
       "      <th>2.25</th>\n",
       "      <th>2.50</th>\n",
       "      <th>2.75</th>\n",
       "      <th>3.00</th>\n",
       "      <th>...</th>\n",
       "      <th>37.25</th>\n",
       "      <th>37.50</th>\n",
       "      <th>37.75</th>\n",
       "      <th>38.00</th>\n",
       "      <th>38.25</th>\n",
       "      <th>38.50</th>\n",
       "      <th>38.75</th>\n",
       "      <th>39.00</th>\n",
       "      <th>39.25</th>\n",
       "      <th>39.50</th>\n",
       "    </tr>\n",
       "  </thead>\n",
       "  <tbody>\n",
       "    <tr>\n",
       "      <th>0</th>\n",
       "      <td>0.007566</td>\n",
       "      <td>0.008346</td>\n",
       "      <td>0.007335</td>\n",
       "      <td>0.005967</td>\n",
       "      <td>0.004628</td>\n",
       "      <td>0.003965</td>\n",
       "      <td>0.003849</td>\n",
       "      <td>0.003939</td>\n",
       "      <td>0.003896</td>\n",
       "      <td>0.003358</td>\n",
       "      <td>...</td>\n",
       "      <td>0.000237</td>\n",
       "      <td>0.000222</td>\n",
       "      <td>0.000208</td>\n",
       "      <td>0.000208</td>\n",
       "      <td>0.000180</td>\n",
       "      <td>0.000155</td>\n",
       "      <td>0.000162</td>\n",
       "      <td>0.000168</td>\n",
       "      <td>0.000166</td>\n",
       "      <td>0.000157</td>\n",
       "    </tr>\n",
       "    <tr>\n",
       "      <th>1</th>\n",
       "      <td>0.017061</td>\n",
       "      <td>0.016225</td>\n",
       "      <td>0.008519</td>\n",
       "      <td>0.006948</td>\n",
       "      <td>0.006011</td>\n",
       "      <td>0.005354</td>\n",
       "      <td>0.004851</td>\n",
       "      <td>0.004852</td>\n",
       "      <td>0.004753</td>\n",
       "      <td>0.004378</td>\n",
       "      <td>...</td>\n",
       "      <td>0.000086</td>\n",
       "      <td>0.000087</td>\n",
       "      <td>0.000088</td>\n",
       "      <td>0.000089</td>\n",
       "      <td>0.000087</td>\n",
       "      <td>0.000083</td>\n",
       "      <td>0.000078</td>\n",
       "      <td>0.000075</td>\n",
       "      <td>0.000079</td>\n",
       "      <td>0.000081</td>\n",
       "    </tr>\n",
       "    <tr>\n",
       "      <th>2</th>\n",
       "      <td>0.019729</td>\n",
       "      <td>0.022333</td>\n",
       "      <td>0.021835</td>\n",
       "      <td>0.017598</td>\n",
       "      <td>0.012176</td>\n",
       "      <td>0.009920</td>\n",
       "      <td>0.007918</td>\n",
       "      <td>0.006910</td>\n",
       "      <td>0.006821</td>\n",
       "      <td>0.006859</td>\n",
       "      <td>...</td>\n",
       "      <td>0.000161</td>\n",
       "      <td>0.000154</td>\n",
       "      <td>0.000153</td>\n",
       "      <td>0.000158</td>\n",
       "      <td>0.000159</td>\n",
       "      <td>0.000145</td>\n",
       "      <td>0.000151</td>\n",
       "      <td>0.000152</td>\n",
       "      <td>0.000148</td>\n",
       "      <td>0.000148</td>\n",
       "    </tr>\n",
       "  </tbody>\n",
       "</table>\n",
       "<p>3 rows × 156 columns</p>\n",
       "</div>"
      ],
      "text/plain": [
       "      0.75      1.00      1.25      1.50      1.75      2.00      2.25   \\\n",
       "0  0.007566  0.008346  0.007335  0.005967  0.004628  0.003965  0.003849   \n",
       "1  0.017061  0.016225  0.008519  0.006948  0.006011  0.005354  0.004851   \n",
       "2  0.019729  0.022333  0.021835  0.017598  0.012176  0.009920  0.007918   \n",
       "\n",
       "      2.50      2.75      3.00   ...     37.25     37.50     37.75     38.00  \\\n",
       "0  0.003939  0.003896  0.003358  ...  0.000237  0.000222  0.000208  0.000208   \n",
       "1  0.004852  0.004753  0.004378  ...  0.000086  0.000087  0.000088  0.000089   \n",
       "2  0.006910  0.006821  0.006859  ...  0.000161  0.000154  0.000153  0.000158   \n",
       "\n",
       "      38.25     38.50     38.75     39.00     39.25     39.50  \n",
       "0  0.000180  0.000155  0.000162  0.000168  0.000166  0.000157  \n",
       "1  0.000087  0.000083  0.000078  0.000075  0.000079  0.000081  \n",
       "2  0.000159  0.000145  0.000151  0.000152  0.000148  0.000148  \n",
       "\n",
       "[3 rows x 156 columns]"
      ]
     },
     "execution_count": 114,
     "metadata": {},
     "output_type": "execute_result"
    }
   ],
   "source": [
    "calculated_df.head(3)"
   ]
  },
  {
   "cell_type": "markdown",
   "id": "c67c0eb8-34a7-43c5-b33d-c2e106fb254b",
   "metadata": {},
   "source": [
    "#### Calculate Information Gain Based on features"
   ]
  },
  {
   "cell_type": "code",
   "execution_count": 115,
   "id": "ad1db4e4-6c1f-43b7-a4a5-5dc911ec4d18",
   "metadata": {},
   "outputs": [],
   "source": [
    "## Use decision tree as a rough way for splitting based on that feature\n",
    "from sklearn.tree import DecisionTreeClassifier\n",
    "from sklearn.metrics import accuracy_score\n",
    "from sklearn import tree"
   ]
  },
  {
   "cell_type": "code",
   "execution_count": 116,
   "id": "2f842d07-a68b-4263-a51b-50a5927511d3",
   "metadata": {},
   "outputs": [],
   "source": [
    "#1.Generate expt specific X,y,groups - Lets do Binary Experiments\n",
    "expt_num = 2\n",
    "X_expt , y_expt , groups_expt, expt_info = run_expts.generate_expt_x_y_groups(calculated_df,y,groups,expt_num)\n",
    "X_expt.columns = [ str(col) + '_width_0.5' for col in X_expt.columns]"
   ]
  },
  {
   "cell_type": "code",
   "execution_count": 117,
   "id": "6e547872-1319-4bf4-af41-93b1167a3968",
   "metadata": {},
   "outputs": [],
   "source": [
    "scores_dict = {}\n",
    "for col in X_expt.columns:\n",
    "    DT = DecisionTreeClassifier(max_depth=1, random_state = 5)\n",
    "    DT.fit(X_expt[[col]], y_expt)\n",
    "    score = accuracy_score( DT.predict(X_expt[[col]]), y_expt)\n",
    "    scores_dict[col] = score"
   ]
  },
  {
   "cell_type": "code",
   "execution_count": 119,
   "id": "d6104119-15ca-4743-ba78-ca1f819352a2",
   "metadata": {},
   "outputs": [
    {
     "data": {
      "text/html": [
       "<div>\n",
       "<style scoped>\n",
       "    .dataframe tbody tr th:only-of-type {\n",
       "        vertical-align: middle;\n",
       "    }\n",
       "\n",
       "    .dataframe tbody tr th {\n",
       "        vertical-align: top;\n",
       "    }\n",
       "\n",
       "    .dataframe thead th {\n",
       "        text-align: right;\n",
       "    }\n",
       "</style>\n",
       "<table border=\"1\" class=\"dataframe\">\n",
       "  <thead>\n",
       "    <tr style=\"text-align: right;\">\n",
       "      <th></th>\n",
       "      <th>Score</th>\n",
       "    </tr>\n",
       "    <tr>\n",
       "      <th>Index</th>\n",
       "      <th></th>\n",
       "    </tr>\n",
       "  </thead>\n",
       "  <tbody>\n",
       "    <tr>\n",
       "      <th>2.0_width_0.5</th>\n",
       "      <td>0.710526</td>\n",
       "    </tr>\n",
       "    <tr>\n",
       "      <th>0.75_width_0.5</th>\n",
       "      <td>0.684211</td>\n",
       "    </tr>\n",
       "    <tr>\n",
       "      <th>4.25_width_0.5</th>\n",
       "      <td>0.684211</td>\n",
       "    </tr>\n",
       "    <tr>\n",
       "      <th>4.75_width_0.5</th>\n",
       "      <td>0.684211</td>\n",
       "    </tr>\n",
       "    <tr>\n",
       "      <th>3.0_width_0.5</th>\n",
       "      <td>0.684211</td>\n",
       "    </tr>\n",
       "    <tr>\n",
       "      <th>3.5_width_0.5</th>\n",
       "      <td>0.684211</td>\n",
       "    </tr>\n",
       "    <tr>\n",
       "      <th>3.75_width_0.5</th>\n",
       "      <td>0.684211</td>\n",
       "    </tr>\n",
       "    <tr>\n",
       "      <th>4.0_width_0.5</th>\n",
       "      <td>0.684211</td>\n",
       "    </tr>\n",
       "    <tr>\n",
       "      <th>12.5_width_0.5</th>\n",
       "      <td>0.657895</td>\n",
       "    </tr>\n",
       "    <tr>\n",
       "      <th>8.25_width_0.5</th>\n",
       "      <td>0.657895</td>\n",
       "    </tr>\n",
       "  </tbody>\n",
       "</table>\n",
       "</div>"
      ],
      "text/plain": [
       "                   Score\n",
       "Index                   \n",
       "2.0_width_0.5   0.710526\n",
       "0.75_width_0.5  0.684211\n",
       "4.25_width_0.5  0.684211\n",
       "4.75_width_0.5  0.684211\n",
       "3.0_width_0.5   0.684211\n",
       "3.5_width_0.5   0.684211\n",
       "3.75_width_0.5  0.684211\n",
       "4.0_width_0.5   0.684211\n",
       "12.5_width_0.5  0.657895\n",
       "8.25_width_0.5  0.657895"
      ]
     },
     "execution_count": 119,
     "metadata": {},
     "output_type": "execute_result"
    }
   ],
   "source": [
    "df_results = pd.DataFrame(list(scores_dict.items()), columns=['Index', 'Score'])\n",
    "df_results.set_index('Index', inplace=True)\n",
    "df_results = df_results.sort_values(by = 'Score' , ascending  = False)\n",
    "df_results.head(10)"
   ]
  },
  {
   "cell_type": "code",
   "execution_count": 121,
   "id": "ee788ee3-18d4-4fda-bf76-55c0d7e6fa33",
   "metadata": {},
   "outputs": [
    {
     "data": {
      "text/plain": [
       "'2.0_width_0.5'"
      ]
     },
     "execution_count": 121,
     "metadata": {},
     "output_type": "execute_result"
    }
   ],
   "source": [
    "df_results.index[0]"
   ]
  },
  {
   "cell_type": "markdown",
   "id": "ed9be8aa-b14b-4563-925a-af14f469410c",
   "metadata": {},
   "source": [
    "#### Do a test plot to show the effectiveness of the algorithm"
   ]
  },
  {
   "cell_type": "code",
   "execution_count": 127,
   "id": "40d4817a-c176-4e9d-86bf-863a95082f2e",
   "metadata": {},
   "outputs": [
    {
     "data": {
      "text/plain": [
       "array([0, 0, 0, 0, 0, 0, 0, 0, 0, 0, 0, 0, 0, 0, 0, 0, 0, 0, 1, 1, 1, 1,\n",
       "       1, 1, 1, 1, 1, 1, 1, 1, 1, 1, 1, 1, 1, 1, 1, 1])"
      ]
     },
     "execution_count": 127,
     "metadata": {},
     "output_type": "execute_result"
    }
   ],
   "source": [
    "y_expt.values"
   ]
  },
  {
   "cell_type": "code",
   "execution_count": 125,
   "id": "d6f6c9df-b6ba-49b8-ac5c-fd8005047a19",
   "metadata": {},
   "outputs": [
    {
     "data": {
      "text/plain": [
       "<matplotlib.collections.PathCollection at 0x7f82bcea0c10>"
      ]
     },
     "execution_count": 125,
     "metadata": {},
     "output_type": "execute_result"
    },
    {
     "data": {
      "image/png": "[encoded data removed]",
      "text/plain": [
       "<Figure size 640x480 with 1 Axes>"
      ]
     },
     "metadata": {},
     "output_type": "display_data"
    }
   ],
   "source": [
    "plt.scatter(X_expt[df_results.index[0]] , X_expt[ '4.75_width_0.5' ] , c = y_expt.values)"
   ]
  }
 ],
 "metadata": {
  "kernelspec": {
   "display_name": "Python 3 (ipykernel)",
   "language": "python",
   "name": "python3"
  },
  "language_info": {
   "codemirror_mode": {
    "name": "ipython",
    "version": 3
   },
   "file_extension": ".py",
   "mimetype": "text/x-python",
   "name": "python",
   "nbconvert_exporter": "python",
   "pygments_lexer": "ipython3",
   "version": "3.11.3"
  }
 },
 "nbformat": 4,
 "nbformat_minor": 5
}
