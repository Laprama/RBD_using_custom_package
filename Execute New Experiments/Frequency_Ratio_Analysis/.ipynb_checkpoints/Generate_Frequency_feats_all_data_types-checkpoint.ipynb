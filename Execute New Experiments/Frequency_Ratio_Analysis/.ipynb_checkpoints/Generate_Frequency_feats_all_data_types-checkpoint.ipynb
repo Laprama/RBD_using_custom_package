{
 "cells": [
  {
   "cell_type": "code",
   "execution_count": 1,
   "id": "304a48a2-0412-46d7-92a7-a4ee39dc494b",
   "metadata": {},
   "outputs": [
    {
     "name": "stderr",
     "output_type": "stream",
     "text": [
      "/user/home/ko20929/.conda/envs/sktime_latest/lib/python3.11/site-packages/antropy/fractal.py:197: NumbaDeprecationWarning: \u001b[1mThe 'nopython' keyword argument was not supplied to the 'numba.jit' decorator. The implicit default value for this argument is currently False, but it will be changed to True in Numba 0.59.0. See https://numba.readthedocs.io/en/stable/reference/deprecation.html#deprecation-of-object-mode-fall-back-behaviour-when-using-jit for details.\u001b[0m\n",
      "  @jit((types.Array(types.float64, 1, \"C\", readonly=True), types.int32))\n",
      "/user/home/ko20929/.conda/envs/sktime_latest/lib/python3.11/site-packages/outdated/utils.py:14: OutdatedPackageWarning: The package yasa is out of date. Your version is 0.6.3, the latest is 0.6.4.\n",
      "Set the environment variable OUTDATED_IGNORE=1 to disable these warnings.\n",
      "  return warn(\n"
     ]
    }
   ],
   "source": [
    "import pandas as pd\n",
    "import mne as mne\n",
    "import os \n",
    "import time\n",
    "import numpy as np\n",
    "import matplotlib.pyplot as plt\n",
    "import joblib\n",
    "import constants\n",
    "from IPython.utils import io\n",
    "import time\n",
    "import sys\n",
    "import yasa\n",
    "from scipy.signal import welch\n",
    "\n",
    "#Import my modules\n",
    "import format_eeg_data\n",
    "import constants\n",
    "import eeg_stat_ts"
   ]
  },
  {
   "cell_type": "code",
   "execution_count": null,
   "id": "76fbb290-1a54-4fbc-a48f-4d26ebc84e3e",
   "metadata": {},
   "outputs": [],
   "source": [
    "data_types = ['N2', 'N3','REM', 'Wake', 'N1']\n",
    "\n",
    "for data_type in data_types:\n",
    "    t1 = time.time()\n",
    "    channels = constants.channel_list\n",
    "    \n",
    "    # 1. generate all path names and class list(s) etc. \n",
    "    folder = '/user/home/ko20929/work/RBD_using_custom_package/Blue_pebble/'\n",
    "    paths = joblib.load(folder + data_type + '_paths.pkl') # keys : ['selected_paths', 's_class_list', 's_night_list', 's_sleep_type', 's_p_id']\n",
    "    \n",
    "    # 2. Load corresponding data into dataframes, store in dataframe list\n",
    "    df_list = []\n",
    "    error_paths = []\n",
    "    \n",
    "    with io.capture_output() as captured:\n",
    "        for path in paths['selected_paths']:\n",
    "            data_epo = mne.read_epochs(path)\n",
    "            data = data_epo._data * 1e6  # convert signal from V to uV\n",
    "            df_full = data_epo.to_data_frame()\n",
    "            df = df_full[channels].copy()\n",
    "            df_list.append(df)\n",
    "    \n",
    "    ts_row_list = []\n",
    "\n",
    "    for df in df_list:\n",
    "        #1. Calculate bpw values\n",
    "        bpw_df = eeg_stat_ts.gen_band_power_vals_and_freq_ratios(df, list(df.columns), win_s = 8)    \n",
    "        bpw_df['window_no.'] = 0\n",
    "        #2. Convert bpw per channel into bpw per region\n",
    "        regional_df = eeg_stat_ts.convert_chan_stats_to_region(bpw_df, constants.channel_list , constants.region_to_channel_dict)\n",
    "        #4. Convert into a single row of a new dataframe where each cell is a series\n",
    "        new_row = eeg_stat_ts.dataframe_to_ts_row(regional_df, list(regional_df.columns[:-1]), time_steps = False )\n",
    "        ts_row_list.append(new_row)\n",
    "        \n",
    "    ts_df = pd.DataFrame.from_records(ts_row_list)\n",
    "    joblib.dump(ts_df, data_type + '_frequency_data.pkl')\n",
    "    \n",
    "    t2 = time.time()\n",
    "    time_taken = t2-t1\n",
    "    print(data_type + ' done, ' + str(time_taken) + ' seconds')"
   ]
  }
 ],
 "metadata": {
  "kernelspec": {
   "display_name": "Python 3 (ipykernel)",
   "language": "python",
   "name": "python3"
  },
  "language_info": {
   "codemirror_mode": {
    "name": "ipython",
    "version": 3
   },
   "file_extension": ".py",
   "mimetype": "text/x-python",
   "name": "python",
   "nbconvert_exporter": "python",
   "pygments_lexer": "ipython3",
   "version": "3.11.3"
  }
 },
 "nbformat": 4,
 "nbformat_minor": 5
}
