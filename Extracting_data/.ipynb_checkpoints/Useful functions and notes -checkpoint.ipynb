{
 "cells": [
  {
   "cell_type": "code",
   "execution_count": 1,
   "id": "6801f7ab",
   "metadata": {},
   "outputs": [],
   "source": [
    "# Assorted useful functions and notes"
   ]
  },
  {
   "cell_type": "code",
   "execution_count": 2,
   "id": "410690d2",
   "metadata": {},
   "outputs": [],
   "source": [
    "regions = ['Prefrontal', 'Frontal', 'Left Frontal', 'Right Frontal', 'Central', 'Left Central', 'Right Central',\n",
    "        'Left Temporal', 'Right Temporal', 'Parietal', 'Left Parietal', 'Right Parietal', 'Occipital']"
   ]
  },
  {
   "cell_type": "code",
   "execution_count": 3,
   "id": "152538ff",
   "metadata": {},
   "outputs": [],
   "source": [
    "# This dictionary tells you what the y labels mean , 0 is healthy , 1 is Parkinsons Disease etc..\n",
    "# Dictionary used to construct y labels for classes ______________________________________________________________________________________________________\n",
    "class_label_dict = {'HC': 0 , 'PD' : 1 , 'PD+RBD' : 2 , 'RBD' : 3} #Dictionary used to label the classes for reference"
   ]
  },
  {
   "cell_type": "code",
   "execution_count": 5,
   "id": "40617191",
   "metadata": {},
   "outputs": [],
   "source": [
    "#Each participant has a participant ID , these participant ID's are in the 'groups' series, you probably\n",
    "# won't need to use this\n",
    "#How to convert participant ID to class name, do not confuse with the above dictionary____________________________________________________________________\n",
    "# For example participant ID 1101 is a HC participant because p_id starts with 1 but it has class label 0 because HC maps to 0 in the above dictionary\n",
    "p_id_to_class_name_dict = {'1' : 'HC' , '2':'RBD' , '3': 'PD+RBD' , '4': 'PD'}"
   ]
  },
  {
   "cell_type": "code",
   "execution_count": 6,
   "id": "1f8db0ee",
   "metadata": {},
   "outputs": [],
   "source": [
    "#This function is used to generate X, y and groups for a specific experiment type \n",
    "# For example if you input X_full, y , group, expt_typ = 1 \n",
    "# Then you have selected PD vs HC \n",
    "# So the function will return you X, y , groups with only the PD and HC participants selected\n",
    "\n",
    "def generate_expt_x_y_groups(X_input , y_input , groups_input , expt_type):\n",
    "    '''Purpose of this function is to generate X (features) and y (labels) for the specific experiment that is going to be run   \n",
    "        Four experiments:\n",
    "        1. PD vs HC\n",
    "        2. (PD , PD+RBD) vs HC\n",
    "        3. (PD + PD&RBD) vs HC vs RBD ? multiclass (not yet done)\n",
    "        4. PD vs PD+RBD vs RBD vs HC ... multiclass\n",
    "       \n",
    "       Input : \n",
    "       X (dataframe) , y (dataframe) , groups (series) , expt (integer) \n",
    "       \n",
    "       Output: \n",
    "       X , y , groups  (all configured for the specified experiment) , expt_info  ('tells you what the experiment is')\n",
    "       \n",
    "    '''\n",
    "    X, y , groups = X_input.copy() , y_input.copy() , groups_input.copy()\n",
    "    \n",
    "    # class_label_dict = {'HC': 0 , 'PD' : 1 , 'PD+RBD' : 2 , 'RBD' : 3} Dictionary used to label the classes for reference\n",
    "        \n",
    "    #Return this incase I want to use in caption generation etc..\n",
    "    expt_info = [ '1. PD vs HC' , '2. (PD , PD+RBD) vs HC' , '3. (PD + PD&RBD) vs HC vs RBD  multiclass' , '4. PD vs PD+RBD vs RBD vs HC  multiclass'    ]\n",
    "    expt_info = expt_info[expt_type - 1]\n",
    "    \n",
    "    if expt_type == 1:\n",
    "        #Make this a binary problem of PD vs Healthy Control\n",
    "        y_subset = y.loc[ (y==0) | (y ==1)]\n",
    "        X_subset = X.loc[y_subset.index]\n",
    "        groups_subset = groups.loc[y_subset.index]\n",
    "\n",
    "    elif expt_type == 2 :\n",
    "        # # #Label 'PD+RBD' group as 'PD'\n",
    "        y[y == 2] = 1\n",
    "\n",
    "        #Make this a binary problem of (PD ,  PD+RBD) vs Healthy Control\n",
    "        y_subset = y.loc[ (y==0) | (y ==1)]\n",
    "        X_subset = X.loc[y_subset.index]\n",
    "        groups_subset = groups.loc[y_subset.index]\n",
    "\n",
    "    elif expt_type == 3 :\n",
    "        # Multiclass, group PD and PD+RBD together:- (PD & PD+RBD) vs RBD vs HC\n",
    "        #Change PD+RBD lables to PD\n",
    "        y[y == 2] = 1\n",
    "        X_subset = X.copy()\n",
    "        y_subset = y.copy()\n",
    "        groups_subset = groups.loc[y_subset.index]\n",
    "\n",
    "    elif expt_type == 4: \n",
    "        # Multiclass, include all classes as they are :- PD vs PD+RBD vs RBD vs HC\n",
    "        X_subset = X.copy()\n",
    "        y_subset = y.copy()\n",
    "        groups_subset = groups.loc[y_subset.index]\n",
    "        \n",
    "    \n",
    "    return X_subset, y_subset , groups_subset , expt_info\n"
   ]
  }
 ],
 "metadata": {
  "kernelspec": {
   "display_name": "Python 3 (ipykernel)",
   "language": "python",
   "name": "python3"
  },
  "language_info": {
   "codemirror_mode": {
    "name": "ipython",
    "version": 3
   },
   "file_extension": ".py",
   "mimetype": "text/x-python",
   "name": "python",
   "nbconvert_exporter": "python",
   "pygments_lexer": "ipython3",
   "version": "3.10.5"
  }
 },
 "nbformat": 4,
 "nbformat_minor": 5
}
