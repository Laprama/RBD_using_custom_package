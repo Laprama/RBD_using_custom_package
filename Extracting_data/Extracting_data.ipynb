{
 "cells": [
  {
   "cell_type": "code",
   "execution_count": 1,
   "id": "29ba704a",
   "metadata": {},
   "outputs": [
    {
     "ename": "ImportError",
     "evalue": "cannot import name 'MrSEQLClassifier' from 'sktime.classification.shapelet_based' (/export/sphere/ebirah/ko20929/miniconda3/envs/sktime_latest/lib/python3.11/site-packages/sktime/classification/shapelet_based/__init__.py)",
     "output_type": "error",
     "traceback": [
      "\u001b[0;31m---------------------------------------------------------------------------\u001b[0m",
      "\u001b[0;31mImportError\u001b[0m                               Traceback (most recent call last)",
      "Cell \u001b[0;32mIn[1], line 16\u001b[0m\n\u001b[1;32m     13\u001b[0m \u001b[38;5;28;01mimport\u001b[39;00m \u001b[38;5;21;01mshutil\u001b[39;00m\n\u001b[1;32m     15\u001b[0m \u001b[38;5;66;03m#Modules from my package \u001b[39;00m\n\u001b[0;32m---> 16\u001b[0m \u001b[38;5;28;01mimport\u001b[39;00m \u001b[38;5;21;01mrun_expts\u001b[39;00m\n",
      "File \u001b[0;32m/export/sphere/ebirah/ko20929/eeg_package/src/run_expts.py:13\u001b[0m\n\u001b[1;32m     10\u001b[0m \u001b[38;5;28;01mfrom\u001b[39;00m \u001b[38;5;21;01msklearn\u001b[39;00m\u001b[38;5;21;01m.\u001b[39;00m\u001b[38;5;21;01mmodel_selection\u001b[39;00m \u001b[38;5;28;01mimport\u001b[39;00m GroupShuffleSplit\n\u001b[1;32m     11\u001b[0m \u001b[38;5;28;01mimport\u001b[39;00m \u001b[38;5;21;01mwarnings\u001b[39;00m\n\u001b[0;32m---> 13\u001b[0m \u001b[38;5;28;01mfrom\u001b[39;00m \u001b[38;5;21;01msktime\u001b[39;00m\u001b[38;5;21;01m.\u001b[39;00m\u001b[38;5;21;01mclassification\u001b[39;00m\u001b[38;5;21;01m.\u001b[39;00m\u001b[38;5;21;01mshapelet_based\u001b[39;00m \u001b[38;5;28;01mimport\u001b[39;00m MrSEQLClassifier\n\u001b[1;32m     14\u001b[0m \u001b[38;5;28;01mfrom\u001b[39;00m \u001b[38;5;21;01msktime\u001b[39;00m\u001b[38;5;21;01m.\u001b[39;00m\u001b[38;5;21;01mclassification\u001b[39;00m\u001b[38;5;21;01m.\u001b[39;00m\u001b[38;5;21;01mcompose\u001b[39;00m \u001b[38;5;28;01mimport\u001b[39;00m ColumnEnsembleClassifier\n\u001b[1;32m     15\u001b[0m \u001b[38;5;28;01mfrom\u001b[39;00m \u001b[38;5;21;01msktime\u001b[39;00m\u001b[38;5;21;01m.\u001b[39;00m\u001b[38;5;21;01mtransformations\u001b[39;00m\u001b[38;5;21;01m.\u001b[39;00m\u001b[38;5;21;01mpanel\u001b[39;00m\u001b[38;5;21;01m.\u001b[39;00m\u001b[38;5;21;01mcompose\u001b[39;00m \u001b[38;5;28;01mimport\u001b[39;00m ColumnConcatenator\n",
      "\u001b[0;31mImportError\u001b[0m: cannot import name 'MrSEQLClassifier' from 'sktime.classification.shapelet_based' (/export/sphere/ebirah/ko20929/miniconda3/envs/sktime_latest/lib/python3.11/site-packages/sktime/classification/shapelet_based/__init__.py)"
     ]
    }
   ],
   "source": [
    "#Sktime imports\n",
    "from IPython.utils import io\n",
    "import pandas as pd\n",
    "import os\n",
    "from pathlib import Path\n",
    "from matplotlib import pyplot as plt\n",
    "from scipy.signal import find_peaks\n",
    "import numpy as np\n",
    "import seaborn as sns\n",
    "import time\n",
    "import joblib\n",
    "from os.path import exists\n",
    "import shutil\n",
    "\n",
    "#Modules from my package \n",
    "import run_expts"
   ]
  },
  {
   "cell_type": "code",
   "execution_count": 12,
   "id": "02ff3a9c",
   "metadata": {},
   "outputs": [],
   "source": [
    "# Extracted path \n",
    "extracted_path = '/export/sphere/ebirah/ko20929/RBD_using_custom_package/Extracting_data/'\n",
    "\n",
    "#Directory containing all main experiment folders\n",
    "core_path = '/export/sphere/ebirah/ko20929/RBD_files/notebooks/frequency_analysis/constructed_data/band_power_time_series/expt_dfs/'\n",
    "\n",
    "#1. Record the type of data stored in each main experiment folder\n",
    "main_expt_folders_config_dict = {'N2_120_expt_files' : {'EEG Type' : 'N2' , 'TS processing' : 'Shorter_experiments'}\n",
    "                     ,'N3_82_expt_files' : {'EEG Type' : 'N3' , 'TS processing' : 'Shorter_experiments'}\n",
    "                     ,'REM_19_expt_files' : {'EEG Type' : 'REM' , 'TS processing' : 'Shorter_experiments'}\n",
    "                     ,'N1_8 expt_files'  : {'EEG Type' : 'N1' , 'TS processing' : 'Shorter_experiments'}\n",
    "                     ,'N2_120_expt_files_v2' : {'EEG Type' : 'N2' , 'TS processing' : 'Shorter_experiments'}\n",
    "                     ,'N1_customised_40_expt_files' : {'EEG Type' : 'N1' , 'TS processing' : 'Shorter_experiments'}\n",
    "                     ,'EC_8_expts' : {'EEG Type' : 'EC_W' , 'TS processing' : 'Shorter_experiments'}\n",
    "                     ,'N1_full_expts' : {'EEG Type' : 'N1' , 'TS processing' : 'Full Length experiments'}\n",
    "                     ,'N2_full_expts': {'EEG Type' : 'N2' , 'TS processing' : 'Full Length experiments'}\n",
    "                     ,'N3_full_expts' : {'EEG Type' : 'N3' , 'TS processing' : 'Full Length experiments'}\n",
    "                     ,'REM_full_expts': {'EEG Type' : 'REM' , 'TS processing' : 'Full Length experiments'}\n",
    "                     ,'EC_full_expts' : {'EEG Type' : 'EC_W' , 'TS processing' : 'Full Length experiments'}\n",
    "                     }"
   ]
  },
  {
   "cell_type": "code",
   "execution_count": 9,
   "id": "053a75ed",
   "metadata": {},
   "outputs": [],
   "source": [
    "folders = ['N1_customised_40_expt_files', 'N2_120_expt_files_v2', 'N3_82_expt_files', 'REM_19_expt_files', 'EC_8_expts',\n",
    "           'N1_full_expts', 'N2_full_expts', 'N3_full_expts', 'REM_full_expts', 'EC_full_expts']"
   ]
  },
  {
   "cell_type": "code",
   "execution_count": 13,
   "id": "f8ba4903",
   "metadata": {},
   "outputs": [],
   "source": [
    "files = ['X.h5' , 'y_full.h5', 'groups.h5']"
   ]
  },
  {
   "cell_type": "code",
   "execution_count": 14,
   "id": "5bcd0408",
   "metadata": {},
   "outputs": [],
   "source": [
    "new_folder = extracted_path + 'N1_customised_40_expt_files'\n",
    "os.mkdir(new_folder)\n",
    "\n",
    "for f in files: \n",
    "    old_path = core_path + 'N1_customised_40_expt_files' + '/' + f\n",
    "    shutil.copy(old_path, new_folder)"
   ]
  },
  {
   "cell_type": "code",
   "execution_count": 16,
   "id": "67a79402",
   "metadata": {},
   "outputs": [],
   "source": [
    "for folder in folders:\n",
    "    new_folder = extracted_path + folder + '/'\n",
    "    os.mkdir(new_folder)\n",
    "    \n",
    "    for f in files: \n",
    "        old_path = core_path + folder + '/' + f\n",
    "        shutil.copy(old_path, new_folder)"
   ]
  },
  {
   "cell_type": "code",
   "execution_count": null,
   "id": "e8e1ba0a",
   "metadata": {},
   "outputs": [],
   "source": []
  }
 ],
 "metadata": {
  "kernelspec": {
   "display_name": "Python 3 (ipykernel)",
   "language": "python",
   "name": "python3"
  },
  "language_info": {
   "codemirror_mode": {
    "name": "ipython",
    "version": 3
   },
   "file_extension": ".py",
   "mimetype": "text/x-python",
   "name": "python",
   "nbconvert_exporter": "python",
   "pygments_lexer": "ipython3",
   "version": "3.11.3"
  }
 },
 "nbformat": 4,
 "nbformat_minor": 5
}
