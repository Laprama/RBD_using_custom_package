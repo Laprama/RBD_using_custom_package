{
 "cells": [
  {
   "cell_type": "code",
   "execution_count": 1,
   "id": "3e0368ad",
   "metadata": {},
   "outputs": [],
   "source": [
    "#Sktime imports\n",
    "import numpy as np\n",
    "from sklearn.model_selection import train_test_split\n",
    "from sklearn.pipeline import Pipeline\n",
    "from sktime.classification.shapelet_based import MrSEQLClassifier\n",
    "from sklearn.model_selection import GroupShuffleSplit\n",
    "\n",
    "from IPython.utils import io\n",
    "import pandas as pd\n",
    "import os\n",
    "from pathlib import Path\n",
    "from matplotlib import pyplot as plt\n",
    "from scipy.signal import find_peaks\n",
    "import numpy as np\n",
    "import seaborn as sns\n",
    "import time\n",
    "import joblib\n",
    "import sys\n",
    "from os.path import exists\n",
    "\n",
    "import importlib\n",
    "\n",
    "# EEG package modules__________________________________________________________________\n",
    "import constants\n",
    "import custom_ts_length\n",
    "# import eeg_stat_ts\n",
    "import format_eeg_data\n",
    "import run_expts"
   ]
  },
  {
   "cell_type": "code",
   "execution_count": 2,
   "id": "d332c645",
   "metadata": {},
   "outputs": [],
   "source": [
    "import warnings"
   ]
  },
  {
   "cell_type": "code",
   "execution_count": 3,
   "id": "20e5e508",
   "metadata": {},
   "outputs": [
    {
     "name": "stderr",
     "output_type": "stream",
     "text": [
      "/tmp/ipykernel_702237/2806487782.py:1: UserWarning: Warning Message: 4\n",
      "  warnings.warn('Warning Message: 4')\n"
     ]
    }
   ],
   "source": [
    "warnings.warn('Warning Message: 4')"
   ]
  },
  {
   "cell_type": "code",
   "execution_count": 4,
   "id": "9f59f02f",
   "metadata": {},
   "outputs": [],
   "source": [
    "from sktime.classification.distance_based import KNeighborsTimeSeriesClassifier"
   ]
  },
  {
   "cell_type": "code",
   "execution_count": 5,
   "id": "d1126228",
   "metadata": {},
   "outputs": [
    {
     "name": "stderr",
     "output_type": "stream",
     "text": [
      "/export/sphere/ebirah/ko20929/miniconda3/envs/sktime_only_with_eeg_pckg/lib/python3.9/site-packages/numba/np/ufunc/parallel.py:365: NumbaWarning: \u001b[1mThe TBB threading layer requires TBB version 2019.5 or later i.e., TBB_INTERFACE_VERSION >= 11005. Found TBB_INTERFACE_VERSION = 10002. The TBB threading layer is disabled.\u001b[0m\n",
      "  warnings.warn(problem)\n",
      "OMP: Info #271: omp_set_nested routine deprecated, please use omp_set_max_active_levels instead.\n",
      "/export/sphere/ebirah/ko20929/miniconda3/envs/sktime_only_with_eeg_pckg/lib/python3.9/site-packages/sktime/registry/_lookup.py:156: ImportWarning: No module named 'esig'. 'esig' is a soft dependency and not included in the sktime installation. Please run: `pip install esig`. To install all soft dependencies, run: `pip install sktime[all_extras]`\n",
      "  warnings.warn(str(e), ImportWarning)\n",
      "/export/sphere/ebirah/ko20929/miniconda3/envs/sktime_only_with_eeg_pckg/lib/python3.9/site-packages/sktime/registry/_lookup.py:156: ImportWarning: No module named 'pmdarima'. 'pmdarima' is a soft dependency and not included in the sktime installation. Please run: `pip install pmdarima`. To install all soft dependencies, run: `pip install sktime[all_extras]`\n",
      "  warnings.warn(str(e), ImportWarning)\n",
      "/export/sphere/ebirah/ko20929/miniconda3/envs/sktime_only_with_eeg_pckg/lib/python3.9/site-packages/sktime/registry/_lookup.py:156: ImportWarning: No module named 'tbats'. 'tbats' is a soft dependency and not included in the sktime installation. Please run: `pip install tbats`. To install all soft dependencies, run: `pip install sktime[all_extras]`\n",
      "  warnings.warn(str(e), ImportWarning)\n",
      "/export/sphere/ebirah/ko20929/miniconda3/envs/sktime_only_with_eeg_pckg/lib/python3.9/site-packages/sktime/registry/_lookup.py:156: ImportWarning: No module named 'fbprophet'. 'fbprophet' is a soft dependency and not included in the sktime installation. Please run: `pip install fbprophet`. To install all soft dependencies, run: `pip install sktime[all_extras]`\n",
      "  warnings.warn(str(e), ImportWarning)\n",
      "/export/sphere/ebirah/ko20929/miniconda3/envs/sktime_only_with_eeg_pckg/lib/python3.9/site-packages/sktime/registry/_lookup.py:156: ImportWarning: No module named 'esig'. 'esig' is a soft dependency and not included in the sktime installation. Please run: `pip install esig`. To install all soft dependencies, run: `pip install sktime[all_extras]`\n",
      "  warnings.warn(str(e), ImportWarning)\n"
     ]
    },
    {
     "data": {
      "text/plain": [
       "[('AggrDist', sktime.dists_kernels.compose_tab_to_panel.AggrDist),\n",
       " ('Arsenal', sktime.classification.kernel_based._arsenal.Arsenal),\n",
       " ('AutoCorrelationTransformer',\n",
       "  sktime.transformations.series.acf.AutoCorrelationTransformer),\n",
       " ('AutoETS', sktime.forecasting.ets.AutoETS),\n",
       " ('AutoEnsembleForecaster',\n",
       "  sktime.forecasting.compose._ensemble.AutoEnsembleForecaster),\n",
       " ('BOSSEnsemble', sktime.classification.dictionary_based._boss.BOSSEnsemble),\n",
       " ('BoxCoxTransformer', sktime.transformations.series.boxcox.BoxCoxTransformer),\n",
       " ('CanonicalIntervalForest',\n",
       "  sktime.classification.interval_based._cif.CanonicalIntervalForest),\n",
       " ('Catch22', sktime.transformations.panel.catch22.Catch22),\n",
       " ('Catch22ForestClassifier',\n",
       "  sktime.classification.hybrid._catch22_forest_classifier.Catch22ForestClassifier),\n",
       " ('ClaSPSegmentation', sktime.annotation.clasp.ClaSPSegmentation),\n",
       " ('ClaSPTransformer', sktime.transformations.series.clasp.ClaSPTransformer),\n",
       " ('ColumnConcatenator',\n",
       "  sktime.transformations.panel.compose.ColumnConcatenator),\n",
       " ('ColumnEnsembleClassifier',\n",
       "  sktime.classification.compose._column_ensemble.ColumnEnsembleClassifier),\n",
       " ('ColumnEnsembleForecaster',\n",
       "  sktime.forecasting.compose._column_ensemble.ColumnEnsembleForecaster),\n",
       " ('ColumnTransformer', sktime.transformations.panel.compose.ColumnTransformer),\n",
       " ('ColumnwiseTransformer',\n",
       "  sktime.transformations.series.compose.ColumnwiseTransformer),\n",
       " ('ConditionalDeseasonalizer',\n",
       "  sktime.transformations.series.detrend._deseasonalize.ConditionalDeseasonalizer),\n",
       " ('ContractableBOSS',\n",
       "  sktime.classification.dictionary_based._cboss.ContractableBOSS),\n",
       " ('ContractedShapeletTransform',\n",
       "  sktime.transformations.panel.shapelets.ContractedShapeletTransform),\n",
       " ('CosineTransformer', sktime.transformations.series.cos.CosineTransformer),\n",
       " ('Croston', sktime.forecasting.croston.Croston),\n",
       " ('DWTTransformer', sktime.transformations.panel.dwt.DWTTransformer),\n",
       " ('DateTimeFeatures', sktime.transformations.series.date.DateTimeFeatures),\n",
       " ('DerivativeSlopeTransformer',\n",
       "  sktime.transformations.panel.summarize._extract.DerivativeSlopeTransformer),\n",
       " ('Deseasonalizer',\n",
       "  sktime.transformations.series.detrend._deseasonalize.Deseasonalizer),\n",
       " ('Detrender', sktime.transformations.series.detrend._detrend.Detrender),\n",
       " ('Differencer', sktime.transformations.series.difference.Differencer),\n",
       " ('DirRecTabularRegressionForecaster',\n",
       "  sktime.forecasting.compose._reduce.DirRecTabularRegressionForecaster),\n",
       " ('DirRecTimeSeriesRegressionForecaster',\n",
       "  sktime.forecasting.compose._reduce.DirRecTimeSeriesRegressionForecaster),\n",
       " ('DirectTabularRegressionForecaster',\n",
       "  sktime.forecasting.compose._reduce.DirectTabularRegressionForecaster),\n",
       " ('DirectTimeSeriesRegressionForecaster',\n",
       "  sktime.forecasting.compose._reduce.DirectTimeSeriesRegressionForecaster),\n",
       " ('DrCIF', sktime.classification.interval_based._drcif.DrCIF),\n",
       " ('ElasticEnsemble',\n",
       "  sktime.classification.distance_based._elastic_ensemble.ElasticEnsemble),\n",
       " ('EnsembleForecaster',\n",
       "  sktime.forecasting.compose._ensemble.EnsembleForecaster),\n",
       " ('ExponentTransformer',\n",
       "  sktime.transformations.series.exponent.ExponentTransformer),\n",
       " ('ExponentialSmoothing',\n",
       "  sktime.forecasting.exp_smoothing.ExponentialSmoothing),\n",
       " ('FeatureSelection',\n",
       "  sktime.transformations.series.feature_selection.FeatureSelection),\n",
       " ('FeatureUnion', sktime.series_as_features.compose._pipeline.FeatureUnion),\n",
       " ('FittedParamExtractor',\n",
       "  sktime.transformations.panel.summarize._extract.FittedParamExtractor),\n",
       " ('ForecastingGridSearchCV',\n",
       "  sktime.forecasting.model_selection._tune.ForecastingGridSearchCV),\n",
       " ('ForecastingPipeline',\n",
       "  sktime.forecasting.compose._pipeline.ForecastingPipeline),\n",
       " ('ForecastingRandomizedSearchCV',\n",
       "  sktime.forecasting.model_selection._tune.ForecastingRandomizedSearchCV),\n",
       " ('FunctionTransformer',\n",
       "  sktime.transformations.series.func_transform.FunctionTransformer),\n",
       " ('HCrystalBallForecaster',\n",
       "  sktime.forecasting.hcrystalball.HCrystalBallForecaster),\n",
       " ('HIVECOTEV1', sktime.classification.hybrid._hivecote_v1.HIVECOTEV1),\n",
       " ('HIVECOTEV2', sktime.classification.hybrid._hivecote_v2.HIVECOTEV2),\n",
       " ('HOG1DTransformer', sktime.transformations.panel.hog1d.HOG1DTransformer),\n",
       " ('HampelFilter',\n",
       "  sktime.transformations.series.outlier_detection.HampelFilter),\n",
       " ('Imputer', sktime.transformations.series.impute.Imputer),\n",
       " ('IndividualBOSS',\n",
       "  sktime.classification.dictionary_based._boss.IndividualBOSS),\n",
       " ('IndividualTDE', sktime.classification.dictionary_based._tde.IndividualTDE),\n",
       " ('IntervalSegmenter', sktime.transformations.panel.segment.IntervalSegmenter),\n",
       " ('KNeighborsTimeSeriesClassifier',\n",
       "  sktime.classification.distance_based._time_series_neighbors.KNeighborsTimeSeriesClassifier),\n",
       " ('LogTransformer', sktime.transformations.series.boxcox.LogTransformer),\n",
       " ('MUSE', sktime.classification.dictionary_based._muse.MUSE),\n",
       " ('MatrixProfile', sktime.transformations.panel.matrix_profile.MatrixProfile),\n",
       " ('MatrixProfileTransformer',\n",
       "  sktime.transformations.series.matrix_profile.MatrixProfileTransformer),\n",
       " ('MeanTransformer', sktime.transformations.series.summarize.MeanTransformer),\n",
       " ('MiniRocket', sktime.transformations.panel.rocket._minirocket.MiniRocket),\n",
       " ('MiniRocketMultivariate',\n",
       "  sktime.transformations.panel.rocket._minirocket_multivariate.MiniRocketMultivariate),\n",
       " ('MrSEQLClassifier',\n",
       "  sktime.classification.shapelet_based.mrseql.mrseql.MrSEQLClassifier),\n",
       " ('MultioutputTabularRegressionForecaster',\n",
       "  sktime.forecasting.compose._reduce.MultioutputTabularRegressionForecaster),\n",
       " ('MultioutputTimeSeriesRegressionForecaster',\n",
       "  sktime.forecasting.compose._reduce.MultioutputTimeSeriesRegressionForecaster),\n",
       " ('MultiplexForecaster',\n",
       "  sktime.forecasting.compose._multiplexer.MultiplexForecaster),\n",
       " ('NaiveForecaster', sktime.forecasting.naive.NaiveForecaster),\n",
       " ('OnlineEnsembleForecaster',\n",
       "  sktime.forecasting.online_learning._online_ensemble.OnlineEnsembleForecaster),\n",
       " ('OptionalPassthrough',\n",
       "  sktime.transformations.series.compose.OptionalPassthrough),\n",
       " ('PAA', sktime.transformations.panel.dictionary_based._paa.PAA),\n",
       " ('PCATransformer', sktime.transformations.panel.pca.PCATransformer),\n",
       " ('PaddingTransformer',\n",
       "  sktime.transformations.panel.padder.PaddingTransformer),\n",
       " ('PartialAutoCorrelationTransformer',\n",
       "  sktime.transformations.series.acf.PartialAutoCorrelationTransformer),\n",
       " ('PlateauFinder',\n",
       "  sktime.transformations.panel.summarize._extract.PlateauFinder),\n",
       " ('PolynomialTrendForecaster',\n",
       "  sktime.forecasting.trend.PolynomialTrendForecaster),\n",
       " ('ProximityForest',\n",
       "  sktime.classification.distance_based._proximity_forest.ProximityForest),\n",
       " ('ProximityStump',\n",
       "  sktime.classification.distance_based._proximity_forest.ProximityStump),\n",
       " ('ProximityTree',\n",
       "  sktime.classification.distance_based._proximity_forest.ProximityTree),\n",
       " ('PyODAnnotator', sktime.annotation.adapters._pyod.PyODAnnotator),\n",
       " ('ROCKETClassifier',\n",
       "  sktime.classification.kernel_based._rocket_classifier.ROCKETClassifier),\n",
       " ('RandomIntervalFeatureExtractor',\n",
       "  sktime.transformations.panel.summarize._extract.RandomIntervalFeatureExtractor),\n",
       " ('RandomIntervalSegmenter',\n",
       "  sktime.transformations.panel.segment.RandomIntervalSegmenter),\n",
       " ('RandomIntervalSpectralForest',\n",
       "  sktime.classification.interval_based._rise.RandomIntervalSpectralForest),\n",
       " ('RandomShapeletTransform',\n",
       "  sktime.transformations.panel.shapelet_transform.RandomShapeletTransform),\n",
       " ('RecursiveTabularRegressionForecaster',\n",
       "  sktime.forecasting.compose._reduce.RecursiveTabularRegressionForecaster),\n",
       " ('RecursiveTimeSeriesRegressionForecaster',\n",
       "  sktime.forecasting.compose._reduce.RecursiveTimeSeriesRegressionForecaster),\n",
       " ('Rocket', sktime.transformations.panel.rocket._rocket.Rocket),\n",
       " ('SAX', sktime.transformations.panel.dictionary_based._sax.SAX),\n",
       " ('SFA', sktime.transformations.panel.dictionary_based._sfa.SFA),\n",
       " ('STLTransformer',\n",
       "  sktime.transformations.series.detrend._deseasonalize.STLTransformer),\n",
       " ('ScipyDist', sktime.dists_kernels.scipy_dist.ScipyDist),\n",
       " ('SeriesToPrimitivesRowTransformer',\n",
       "  sktime.transformations.panel.compose.SeriesToPrimitivesRowTransformer),\n",
       " ('SeriesToSeriesRowTransformer',\n",
       "  sktime.transformations.panel.compose.SeriesToSeriesRowTransformer),\n",
       " ('ShapeDTW', sktime.classification.distance_based._shape_dtw.ShapeDTW),\n",
       " ('ShapeletTransform',\n",
       "  sktime.transformations.panel.shapelets.ShapeletTransform),\n",
       " ('ShapeletTransformClassifier',\n",
       "  sktime.classification.shapelet_based._stc.ShapeletTransformClassifier),\n",
       " ('SlidingWindowSegmenter',\n",
       "  sktime.transformations.panel.segment.SlidingWindowSegmenter),\n",
       " ('SlopeTransformer', sktime.transformations.panel.slope.SlopeTransformer),\n",
       " ('SqrtTransformer', sktime.transformations.series.exponent.SqrtTransformer),\n",
       " ('StackingForecaster', sktime.forecasting.compose._stack.StackingForecaster),\n",
       " ('SummaryTransformer',\n",
       "  sktime.transformations.series.summarize.SummaryTransformer),\n",
       " ('SupervisedTimeSeriesForest',\n",
       "  sktime.classification.interval_based._stsf.SupervisedTimeSeriesForest),\n",
       " ('TSFreshFeatureExtractor',\n",
       "  sktime.transformations.panel.tsfresh.TSFreshFeatureExtractor),\n",
       " ('TSFreshRelevantFeatureExtractor',\n",
       "  sktime.transformations.panel.tsfresh.TSFreshRelevantFeatureExtractor),\n",
       " ('TSInterpolator', sktime.transformations.panel.interpolate.TSInterpolator),\n",
       " ('TabularToSeriesAdaptor',\n",
       "  sktime.transformations.series.adapt.TabularToSeriesAdaptor),\n",
       " ('Tabularizer', sktime.transformations.panel.reduce.Tabularizer),\n",
       " ('TemporalDictionaryEnsemble',\n",
       "  sktime.classification.dictionary_based._tde.TemporalDictionaryEnsemble),\n",
       " ('ThetaForecaster', sktime.forecasting.theta.ThetaForecaster),\n",
       " ('ThetaLinesTransformer',\n",
       "  sktime.transformations.series.theta.ThetaLinesTransformer),\n",
       " ('TimeSeriesForestClassifier',\n",
       "  sktime.classification.interval_based._tsf.TimeSeriesForestClassifier),\n",
       " ('TimeSeriesForestRegressor',\n",
       "  sktime.regression.interval_based._tsf.TimeSeriesForestRegressor),\n",
       " ('TimeSeriesKMeans', sktime.clustering._k_means.TimeSeriesKMeans),\n",
       " ('TimeSeriesKMedoids', sktime.clustering._k_medoids.TimeSeriesKMedoids),\n",
       " ('TransformedTargetForecaster',\n",
       "  sktime.forecasting.compose._pipeline.TransformedTargetForecaster),\n",
       " ('TrendForecaster', sktime.forecasting.trend.TrendForecaster),\n",
       " ('TruncationTransformer',\n",
       "  sktime.transformations.panel.truncation.TruncationTransformer),\n",
       " ('UnobservedComponents', sktime.forecasting.structural.UnobservedComponents),\n",
       " ('VAR', sktime.forecasting.var.VAR),\n",
       " ('WEASEL', sktime.classification.dictionary_based._weasel.WEASEL)]"
      ]
     },
     "execution_count": 5,
     "metadata": {},
     "output_type": "execute_result"
    }
   ],
   "source": [
    "from sktime.registry import all_estimators\n",
    "all_estimators()"
   ]
  },
  {
   "cell_type": "code",
   "execution_count": 6,
   "id": "ee04feb4",
   "metadata": {},
   "outputs": [],
   "source": [
    "from sklearn.dummy import DummyClassifier"
   ]
  },
  {
   "cell_type": "code",
   "execution_count": 7,
   "id": "046f0471",
   "metadata": {},
   "outputs": [],
   "source": [
    "from sktime.classification.distance_based import ProximityTree"
   ]
  },
  {
   "cell_type": "code",
   "execution_count": 8,
   "id": "f2e8c108",
   "metadata": {},
   "outputs": [],
   "source": [
    "from sktime.classification.dictionary_based import (\n",
    "    MUSE,\n",
    "    WEASEL,\n",
    "    BOSSEnsemble,\n",
    "    ContractableBOSS,\n",
    "    TemporalDictionaryEnsemble\n",
    ")"
   ]
  },
  {
   "cell_type": "code",
   "execution_count": 9,
   "id": "3019b52b",
   "metadata": {},
   "outputs": [
    {
     "name": "stdout",
     "output_type": "stream",
     "text": [
      "/export/sphere/ebirah/ko20929/miniconda3/envs/sktime_only_with_eeg_pckg/bin/python\n"
     ]
    }
   ],
   "source": [
    "import sys\n",
    "print(sys.executable)"
   ]
  },
  {
   "cell_type": "code",
   "execution_count": 10,
   "id": "b6a33409",
   "metadata": {},
   "outputs": [
    {
     "name": "stdout",
     "output_type": "stream",
     "text": [
      "Change the folder here ^_^! \n"
     ]
    }
   ],
   "source": [
    "'''\n",
    "o 1. PD vs HC,   2.(PD , PD+RBD) vs HC,   3.(PD + PD&RBD) vs HC vs RBD  multiclass, 4.PD vs PD+RBD vs RBD vs HC \n",
    "'''\n",
    "core_path = '/export/sphere/ebirah/ko20929/RBD_files/notebooks/frequency_analysis/constructed_data/band_power_time_series/expt_dfs/'\n",
    "\n",
    "#1 - This is to run the custom length expts\n",
    "folders = {'N1': 'N1_customised_40_expt_files/' , 'N2' : 'N2_120_expt_files_v2/','N3' : 'N3_82_expt_files/', 'REM' :'REM_19_expt_files/'}\n",
    "#2 -This is to run the expts on the full original length data without any dropping or cutting of the TS \n",
    "folders = {'N1': 'N1_full_expts/' , 'N2' : 'N2_full_expts/','N3' : 'N3_full_expts/', 'REM' :'REM_full_expts/'}\n",
    "#3 - This is to run the wakeful eyes closed experiments\n",
    "folders = {'EC1': 'EC_8_expts/' , 'EC2' : 'EC_full_expts/' }\n",
    "\n",
    "#Folder = folders[sys.argv[1]] #User can input which experiments will be run\n",
    "print('Change the folder here ^_^! ')\n",
    "\n",
    "folder = folders['EC1'] #I'm choosing this because it's the TS & Therefore quickest hopefully?\n",
    "folder = 'REM_full_expts/'\n",
    "\n",
    "expts = ['MrSQL_expt_1', 'MrSQL_expt_2' , 'MrSQL_expt_3' , 'MrSQL_expt_4']\n",
    "\n",
    "power_band_cols = ['Delta', 'Theta', 'Alpha', 'Sigma', 'Beta', 'Gamma', 'TotalAbsPow']\n",
    "\n",
    "regions = ['Prefrontal','Frontal', 'Left Frontal', 'Right Frontal', 'Central', 'Left Central', \n",
    "           'Right Central', 'Left Temporal','Right Temporal', 'Parietal', 'Left Parietal', 'Right Parietal', 'Occipital']\n",
    "\n",
    "#Load the appropriate X (full set of features ) , y (full set of labels) , groups \n",
    "load_path = core_path + folder\n",
    "X = pd.read_hdf(load_path + 'X.h5', key='df', mode='r')\n",
    "y = pd.read_hdf(load_path + 'y_full.h5', key='df', mode='r') \n",
    "groups = pd.read_hdf(load_path + 'groups.h5', key='df', mode='r')  "
   ]
  },
  {
   "cell_type": "code",
   "execution_count": 11,
   "id": "75d09d09",
   "metadata": {
    "scrolled": true
   },
   "outputs": [
    {
     "data": {
      "text/plain": [
       "'/export/sphere/ebirah/ko20929/RBD_files/notebooks/frequency_analysis/constructed_data/band_power_time_series/expt_dfs/REM_full_expts/'"
      ]
     },
     "execution_count": 11,
     "metadata": {},
     "output_type": "execute_result"
    }
   ],
   "source": [
    "load_path"
   ]
  },
  {
   "cell_type": "code",
   "execution_count": 12,
   "id": "66a76524",
   "metadata": {},
   "outputs": [],
   "source": [
    "subsets_dict_new = {}\n",
    "for col in power_band_cols:\n",
    "    name = col + '_' + 'Prefrontal'\n",
    "    subsets_dict_new[name] = [name]\n",
    "\n",
    "# Order 1 \n",
    "subsets_dict_3_bpw =  {'Delta_Prefrontal': ['Delta_Prefrontal'], 'Theta_Prefrontal': ['Theta_Prefrontal'], 'Alpha_Prefrontal': ['Alpha_Prefrontal'],}\n",
    "\n",
    "#Order 2\n",
    "# subsets_dict_3_bpw =  {'Alpha_Prefrontal': ['Alpha_Prefrontal'],'Theta_Prefrontal': ['Theta_Prefrontal'], 'Delta_Prefrontal': ['Delta_Prefrontal']}\n",
    "\n",
    "\n",
    "# subsets_dict_new = {'Gamma_Prefrontal': ['Gamma_Prefrontal']}\n",
    "# subsets_dict_new = {'Delta_Prefrontal': ['Delta_Prefrontal']}\n",
    "subsets_dict_Theta = {'Theta_Prefrontal': ['Theta_Prefrontal']}\n",
    "subsets_dict_Delta = {'Delta_Prefrontal': ['Delta_Prefrontal']}\n",
    "\n",
    "subsets_dict_new = subsets_dict_Delta"
   ]
  },
  {
   "cell_type": "code",
   "execution_count": 13,
   "id": "82a8fb38",
   "metadata": {},
   "outputs": [],
   "source": [
    "# Edited this notebook to have three types of dictionary in order "
   ]
  },
  {
   "cell_type": "code",
   "execution_count": 14,
   "id": "2b12803b",
   "metadata": {},
   "outputs": [
    {
     "name": "stdout",
     "output_type": "stream",
     "text": [
      "commencing for 1...\n",
      "You are using a test version of this run_clf_with_CV function\n"
     ]
    },
    {
     "name": "stderr",
     "output_type": "stream",
     "text": [
      "/export/sphere/ebirah/ko20929/eeg_package/src/run_expts.py:163: UserWarning: run_clf_with_CV : Test version of function , classifier is always MrSEQL Classifier\n",
      "  warnings.warn('run_clf_with_CV : Test version of function , classifier is always MrSEQL Classifier')\n"
     ]
    },
    {
     "name": "stdout",
     "output_type": "stream",
     "text": [
      "You are using a test version of this run_clf_with_CV function\n"
     ]
    },
    {
     "name": "stderr",
     "output_type": "stream",
     "text": [
      "/export/sphere/ebirah/ko20929/eeg_package/src/run_expts.py:163: UserWarning: run_clf_with_CV : Test version of function , classifier is always MrSEQL Classifier\n",
      "  warnings.warn('run_clf_with_CV : Test version of function , classifier is always MrSEQL Classifier')\n"
     ]
    },
    {
     "name": "stdout",
     "output_type": "stream",
     "text": [
      "You are using a test version of this run_clf_with_CV function\n"
     ]
    },
    {
     "name": "stderr",
     "output_type": "stream",
     "text": [
      "/export/sphere/ebirah/ko20929/eeg_package/src/run_expts.py:163: UserWarning: run_clf_with_CV : Test version of function , classifier is always MrSEQL Classifier\n",
      "  warnings.warn('run_clf_with_CV : Test version of function , classifier is always MrSEQL Classifier')\n"
     ]
    },
    {
     "name": "stdout",
     "output_type": "stream",
     "text": [
      "You are using a test version of this run_clf_with_CV function\n"
     ]
    },
    {
     "name": "stderr",
     "output_type": "stream",
     "text": [
      "/export/sphere/ebirah/ko20929/eeg_package/src/run_expts.py:163: UserWarning: run_clf_with_CV : Test version of function , classifier is always MrSEQL Classifier\n",
      "  warnings.warn('run_clf_with_CV : Test version of function , classifier is always MrSEQL Classifier')\n"
     ]
    },
    {
     "name": "stdout",
     "output_type": "stream",
     "text": [
      "You are using a test version of this run_clf_with_CV function\n"
     ]
    },
    {
     "name": "stderr",
     "output_type": "stream",
     "text": [
      "/export/sphere/ebirah/ko20929/eeg_package/src/run_expts.py:163: UserWarning: run_clf_with_CV : Test version of function , classifier is always MrSEQL Classifier\n",
      "  warnings.warn('run_clf_with_CV : Test version of function , classifier is always MrSEQL Classifier')\n"
     ]
    },
    {
     "name": "stdout",
     "output_type": "stream",
     "text": [
      "You are using a test version of this run_clf_with_CV function\n",
      "67.0418004989624\n",
      "commencing for 1...\n"
     ]
    },
    {
     "name": "stderr",
     "output_type": "stream",
     "text": [
      "/export/sphere/ebirah/ko20929/eeg_package/src/run_expts.py:163: UserWarning: run_clf_with_CV : Test version of function , classifier is always MrSEQL Classifier\n",
      "  warnings.warn('run_clf_with_CV : Test version of function , classifier is always MrSEQL Classifier')\n"
     ]
    },
    {
     "name": "stdout",
     "output_type": "stream",
     "text": [
      "You are using a test version of this run_clf_with_CV function\n"
     ]
    },
    {
     "name": "stderr",
     "output_type": "stream",
     "text": [
      "/export/sphere/ebirah/ko20929/eeg_package/src/run_expts.py:163: UserWarning: run_clf_with_CV : Test version of function , classifier is always MrSEQL Classifier\n",
      "  warnings.warn('run_clf_with_CV : Test version of function , classifier is always MrSEQL Classifier')\n"
     ]
    },
    {
     "name": "stdout",
     "output_type": "stream",
     "text": [
      "You are using a test version of this run_clf_with_CV function\n",
      "21.762264490127563\n",
      "commencing for 1...\n"
     ]
    },
    {
     "name": "stderr",
     "output_type": "stream",
     "text": [
      "/export/sphere/ebirah/ko20929/eeg_package/src/run_expts.py:163: UserWarning: run_clf_with_CV : Test version of function , classifier is always MrSEQL Classifier\n",
      "  warnings.warn('run_clf_with_CV : Test version of function , classifier is always MrSEQL Classifier')\n"
     ]
    },
    {
     "name": "stdout",
     "output_type": "stream",
     "text": [
      "You are using a test version of this run_clf_with_CV function\n"
     ]
    },
    {
     "name": "stderr",
     "output_type": "stream",
     "text": [
      "/export/sphere/ebirah/ko20929/eeg_package/src/run_expts.py:163: UserWarning: run_clf_with_CV : Test version of function , classifier is always MrSEQL Classifier\n",
      "  warnings.warn('run_clf_with_CV : Test version of function , classifier is always MrSEQL Classifier')\n"
     ]
    },
    {
     "name": "stdout",
     "output_type": "stream",
     "text": [
      "You are using a test version of this run_clf_with_CV function\n",
      "22.65544319152832\n"
     ]
    },
    {
     "name": "stderr",
     "output_type": "stream",
     "text": [
      "/export/sphere/ebirah/ko20929/eeg_package/src/run_expts.py:163: UserWarning: run_clf_with_CV : Test version of function , classifier is always MrSEQL Classifier\n",
      "  warnings.warn('run_clf_with_CV : Test version of function , classifier is always MrSEQL Classifier')\n"
     ]
    },
    {
     "data": {
      "text/html": [
       "<div>\n",
       "<style scoped>\n",
       "    .dataframe tbody tr th:only-of-type {\n",
       "        vertical-align: middle;\n",
       "    }\n",
       "\n",
       "    .dataframe tbody tr th {\n",
       "        vertical-align: top;\n",
       "    }\n",
       "\n",
       "    .dataframe thead th {\n",
       "        text-align: right;\n",
       "    }\n",
       "</style>\n",
       "<table border=\"1\" class=\"dataframe\">\n",
       "  <thead>\n",
       "    <tr style=\"text-align: right;\">\n",
       "      <th></th>\n",
       "      <th>random_state</th>\n",
       "      <th>Delta_Prefrontal_MrSQL_1_acc</th>\n",
       "      <th>Delta_Prefrontal_MrSQL_1_std</th>\n",
       "      <th>Theta_Prefrontal_MrSQL_1_acc</th>\n",
       "      <th>Theta_Prefrontal_MrSQL_1_std</th>\n",
       "      <th>Alpha_Prefrontal_MrSQL_1_acc</th>\n",
       "      <th>Alpha_Prefrontal_MrSQL_1_std</th>\n",
       "    </tr>\n",
       "  </thead>\n",
       "  <tbody>\n",
       "    <tr>\n",
       "      <th>0</th>\n",
       "      <td>13</td>\n",
       "      <td>0.663968</td>\n",
       "      <td>0.196470</td>\n",
       "      <td>0.527857</td>\n",
       "      <td>0.144108</td>\n",
       "      <td>0.597302</td>\n",
       "      <td>0.162447</td>\n",
       "    </tr>\n",
       "    <tr>\n",
       "      <th>1</th>\n",
       "      <td>37</td>\n",
       "      <td>0.637222</td>\n",
       "      <td>0.154196</td>\n",
       "      <td>0.617222</td>\n",
       "      <td>0.151213</td>\n",
       "      <td>0.615000</td>\n",
       "      <td>0.139660</td>\n",
       "    </tr>\n",
       "  </tbody>\n",
       "</table>\n",
       "</div>"
      ],
      "text/plain": [
       "   random_state  Delta_Prefrontal_MrSQL_1_acc  Delta_Prefrontal_MrSQL_1_std  \\\n",
       "0            13                      0.663968                      0.196470   \n",
       "1            37                      0.637222                      0.154196   \n",
       "\n",
       "   Theta_Prefrontal_MrSQL_1_acc  Theta_Prefrontal_MrSQL_1_std  \\\n",
       "0                      0.527857                      0.144108   \n",
       "1                      0.617222                      0.151213   \n",
       "\n",
       "   Alpha_Prefrontal_MrSQL_1_acc  Alpha_Prefrontal_MrSQL_1_std  \n",
       "0                      0.597302                      0.162447  \n",
       "1                      0.615000                      0.139660  "
      ]
     },
     "metadata": {},
     "output_type": "display_data"
    },
    {
     "data": {
      "text/html": [
       "<div>\n",
       "<style scoped>\n",
       "    .dataframe tbody tr th:only-of-type {\n",
       "        vertical-align: middle;\n",
       "    }\n",
       "\n",
       "    .dataframe tbody tr th {\n",
       "        vertical-align: top;\n",
       "    }\n",
       "\n",
       "    .dataframe thead th {\n",
       "        text-align: right;\n",
       "    }\n",
       "</style>\n",
       "<table border=\"1\" class=\"dataframe\">\n",
       "  <thead>\n",
       "    <tr style=\"text-align: right;\">\n",
       "      <th></th>\n",
       "      <th>random_state</th>\n",
       "      <th>Theta_Prefrontal_MrSQL_1_acc</th>\n",
       "      <th>Theta_Prefrontal_MrSQL_1_std</th>\n",
       "    </tr>\n",
       "  </thead>\n",
       "  <tbody>\n",
       "    <tr>\n",
       "      <th>0</th>\n",
       "      <td>13</td>\n",
       "      <td>0.527857</td>\n",
       "      <td>0.144108</td>\n",
       "    </tr>\n",
       "    <tr>\n",
       "      <th>1</th>\n",
       "      <td>37</td>\n",
       "      <td>0.617222</td>\n",
       "      <td>0.151213</td>\n",
       "    </tr>\n",
       "  </tbody>\n",
       "</table>\n",
       "</div>"
      ],
      "text/plain": [
       "   random_state  Theta_Prefrontal_MrSQL_1_acc  Theta_Prefrontal_MrSQL_1_std\n",
       "0            13                      0.527857                      0.144108\n",
       "1            37                      0.617222                      0.151213"
      ]
     },
     "metadata": {},
     "output_type": "display_data"
    },
    {
     "data": {
      "text/html": [
       "<div>\n",
       "<style scoped>\n",
       "    .dataframe tbody tr th:only-of-type {\n",
       "        vertical-align: middle;\n",
       "    }\n",
       "\n",
       "    .dataframe tbody tr th {\n",
       "        vertical-align: top;\n",
       "    }\n",
       "\n",
       "    .dataframe thead th {\n",
       "        text-align: right;\n",
       "    }\n",
       "</style>\n",
       "<table border=\"1\" class=\"dataframe\">\n",
       "  <thead>\n",
       "    <tr style=\"text-align: right;\">\n",
       "      <th></th>\n",
       "      <th>random_state</th>\n",
       "      <th>Delta_Prefrontal_MrSQL_1_acc</th>\n",
       "      <th>Delta_Prefrontal_MrSQL_1_std</th>\n",
       "    </tr>\n",
       "  </thead>\n",
       "  <tbody>\n",
       "    <tr>\n",
       "      <th>0</th>\n",
       "      <td>13</td>\n",
       "      <td>0.663968</td>\n",
       "      <td>0.196470</td>\n",
       "    </tr>\n",
       "    <tr>\n",
       "      <th>1</th>\n",
       "      <td>37</td>\n",
       "      <td>0.637222</td>\n",
       "      <td>0.154196</td>\n",
       "    </tr>\n",
       "  </tbody>\n",
       "</table>\n",
       "</div>"
      ],
      "text/plain": [
       "   random_state  Delta_Prefrontal_MrSQL_1_acc  Delta_Prefrontal_MrSQL_1_std\n",
       "0            13                      0.663968                      0.196470\n",
       "1            37                      0.637222                      0.154196"
      ]
     },
     "metadata": {},
     "output_type": "display_data"
    }
   ],
   "source": [
    "clfs = {'MrSQL_1' : MrSEQLClassifier(seql_mode='fs', symrep=[ 'sfa' , 'sax']) }\n",
    "# clfs = {'WEASEL' : WEASEL(binning_strategy=\"equi-depth\", anova=False, random_state=47) }\n",
    "# clfs = {'ProxTree' : ProximityTree(random_state=5) }\n",
    "# clfs =  { 'Dummy' : DummyClassifier() }\n",
    "# clfs = {'KNN' : KNeighborsTimeSeriesClassifier() }\n",
    "\n",
    "dicts = [subsets_dict_Theta,  subsets_dict_Delta , subsets_dict_3_bpw]\n",
    "dicts = [subsets_dict_3_bpw , subsets_dict_Theta,  subsets_dict_Delta]\n",
    "\n",
    "\n",
    "results_dfs = []\n",
    "for subsets_dict_new in dicts:\n",
    "    \n",
    "    results_dict = {}\n",
    "    # for num in [1,2,3,4]:\n",
    "    for num in [1]:\n",
    "        print('commencing for ' + str(num) + '...')\n",
    "        \n",
    "        clfs = {'MrSQL_1' : MrSEQLClassifier(seql_mode='fs', symrep=[ 'sfa' , 'sax']) }\n",
    "\n",
    "\n",
    "        #1.Generate expt specific X,y,groups\n",
    "        X_expt , y_expt , groups_expt, expt_info = run_expts.generate_expt_x_y_groups(X,y,groups,num)\n",
    "\n",
    "        t1 = time.time()\n",
    "        results_df = run_expts.run_mv_tsc(X_expt ,y_expt , groups_expt, clfs , return_df = True,subset_names_and_cols = subsets_dict_new, random_states = [13 , 37])\n",
    "\n",
    "        t2 = time.time()\n",
    "\n",
    "        results_dict[num] = results_df\n",
    "        \n",
    "        acc_std_results_df = run_expts.generate_subset_acc_std(results_dict[num], return_df = True)\n",
    "        results_dfs.append(acc_std_results_df)\n",
    "\n",
    "        print(t2-t1)\n",
    "\n",
    "for df in results_dfs:\n",
    "    display(df)"
   ]
  }
 ],
 "metadata": {
  "kernelspec": {
   "display_name": "Python 3 (ipykernel)",
   "language": "python",
   "name": "python3"
  },
  "language_info": {
   "codemirror_mode": {
    "name": "ipython",
    "version": 3
   },
   "file_extension": ".py",
   "mimetype": "text/x-python",
   "name": "python",
   "nbconvert_exporter": "python",
   "pygments_lexer": "ipython3",
   "version": "3.9.11"
  }
 },
 "nbformat": 4,
 "nbformat_minor": 5
}
