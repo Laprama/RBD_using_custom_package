{
 "cells": [
  {
   "cell_type": "code",
   "execution_count": 1,
   "id": "ad448bf2",
   "metadata": {},
   "outputs": [],
   "source": [
    "#Recreate correct results from Investigate Ordering of Columns.Ipynb "
   ]
  },
  {
   "cell_type": "code",
   "execution_count": 2,
   "id": "c66e9399",
   "metadata": {},
   "outputs": [],
   "source": [
    "#Sktime imports\n",
    "import numpy as np\n",
    "from sklearn.model_selection import train_test_split\n",
    "from sklearn.pipeline import Pipeline\n",
    "from sktime.classification.shapelet_based import MrSEQLClassifier\n",
    "from sklearn.model_selection import GroupShuffleSplit\n",
    "\n",
    "from IPython.utils import io\n",
    "import pandas as pd\n",
    "import os\n",
    "from pathlib import Path\n",
    "from matplotlib import pyplot as plt\n",
    "from scipy.signal import find_peaks\n",
    "import numpy as np\n",
    "import seaborn as sns\n",
    "import time\n",
    "import joblib\n",
    "import sys\n",
    "from os.path import exists\n",
    "\n",
    "import importlib\n",
    "\n",
    "#EEG package modules_____________________________________________________________________________\n",
    "\n",
    "import constants\n",
    "import custom_ts_length\n",
    "# import eeg_stat_ts\n",
    "import format_eeg_data\n",
    "import run_expts\n",
    "\n",
    "#Load the appropriate data ________________________________________________________________________\n",
    "'''\n",
    "o 1. PD vs HC,   2.(PD , PD+RBD) vs HC,   3.(PD + PD&RBD) vs HC vs RBD  multiclass, 4.PD vs PD+RBD vs RBD vs HC \n",
    "'''\n",
    "core_path = '/export/sphere/ebirah/ko20929/RBD_files/notebooks/frequency_analysis/constructed_data/band_power_time_series/expt_dfs/'\n",
    "folder = 'REM_full_expts/'\n",
    "#Load the appropriate X (full set of features ) , y (full set of labels) , groups \n",
    "load_path = core_path + folder\n",
    "X = pd.read_hdf(load_path + 'X.h5', key='df', mode='r')\n",
    "y = pd.read_hdf(load_path + 'y_full.h5', key='df', mode='r') \n",
    "groups = pd.read_hdf(load_path + 'groups.h5', key='df', mode='r')  \n",
    "\n",
    "clfs = {'MrSQL_1' : MrSEQLClassifier(seql_mode='fs', symrep=[ 'sfa' , 'sax']) }\n",
    "\n",
    "subset_names_and_cols = run_expts.gen_subsets_dict()"
   ]
  },
  {
   "cell_type": "code",
   "execution_count": 13,
   "id": "4f2994e0",
   "metadata": {},
   "outputs": [
    {
     "name": "stdout",
     "output_type": "stream",
     "text": [
      "{'Prefrontal': ['Delta_Prefrontal', 'Theta_Prefrontal', 'Alpha_Prefrontal', 'Sigma_Prefrontal', 'Beta_Prefrontal', 'Gamma_Prefrontal', 'TotalAbsPow_Prefrontal'], 'Frontal': ['Delta_Frontal', 'Theta_Frontal', 'Alpha_Frontal', 'Sigma_Frontal', 'Beta_Frontal', 'Gamma_Frontal', 'TotalAbsPow_Frontal'], 'Left Frontal': ['Delta_Left Frontal', 'Theta_Left Frontal', 'Alpha_Left Frontal', 'Sigma_Left Frontal', 'Beta_Left Frontal', 'Gamma_Left Frontal', 'TotalAbsPow_Left Frontal']}\n"
     ]
    }
   ],
   "source": [
    "subset_regions = {}\n",
    "for reg in list(subset_names_and_cols.keys())[:3]:\n",
    "    subset_regions[reg] = subset_names_and_cols[reg]\n",
    "\n",
    "print(subset_regions)"
   ]
  },
  {
   "cell_type": "code",
   "execution_count": 4,
   "id": "4ed2182f",
   "metadata": {},
   "outputs": [],
   "source": [
    "power_band_cols = ['Delta', 'Theta', 'Alpha', 'Sigma', 'Beta', 'Gamma', 'TotalAbsPow']\n",
    "\n",
    "subsets_dict_new = {}\n",
    "for col in power_band_cols:\n",
    "    name = col + '_' + 'Prefrontal'\n",
    "    subsets_dict_new[name] = [name]\n",
    "\n",
    "subsets_dict_new\n",
    "# subsets_reversed\n",
    "\n",
    "delta_only = {'Delta_Prefrontal': ['Delta_Prefrontal']}\n",
    "\n",
    "theta_only = {'Theta_Prefrontal': ['Theta_Prefrontal']}"
   ]
  },
  {
   "cell_type": "code",
   "execution_count": 14,
   "id": "78b46488",
   "metadata": {},
   "outputs": [
    {
     "name": "stdout",
     "output_type": "stream",
     "text": [
      "commencing for 1...\n",
      "378.24321246147156\n"
     ]
    }
   ],
   "source": [
    "results_dict = {}\n",
    "# for num in [1,2,3,4]:\n",
    "for num in [1]:\n",
    "    print('commencing for ' + str(num) + '...')\n",
    "\n",
    "    #1.Generate expt specific X,y,groups\n",
    "    X_expt , y_expt , groups_expt, expt_info = run_expts.generate_expt_x_y_groups(X,y,groups,num)\n",
    "\n",
    "    t1 = time.time()\n",
    "    results_df = run_expts.run_mv_tsc(X_expt ,y_expt , groups_expt, clfs , return_df = True, subset_names_and_cols = subset_regions, random_states = [13 , 37])\n",
    "    \n",
    "    t2 = time.time()\n",
    "    \n",
    "    results_dict[num] = results_df\n",
    "    \n",
    "print(t2-t1)"
   ]
  },
  {
   "cell_type": "code",
   "execution_count": 15,
   "id": "1e56e521",
   "metadata": {},
   "outputs": [
    {
     "data": {
      "text/html": [
       "<div>\n",
       "<style scoped>\n",
       "    .dataframe tbody tr th:only-of-type {\n",
       "        vertical-align: middle;\n",
       "    }\n",
       "\n",
       "    .dataframe tbody tr th {\n",
       "        vertical-align: top;\n",
       "    }\n",
       "\n",
       "    .dataframe thead th {\n",
       "        text-align: right;\n",
       "    }\n",
       "</style>\n",
       "<table border=\"1\" class=\"dataframe\">\n",
       "  <thead>\n",
       "    <tr style=\"text-align: right;\">\n",
       "      <th></th>\n",
       "      <th>random_state</th>\n",
       "      <th>y_true</th>\n",
       "      <th>Prefrontal_MrSQL_1_y_preds</th>\n",
       "      <th>Frontal_MrSQL_1_y_preds</th>\n",
       "      <th>Left Frontal_MrSQL_1_y_preds</th>\n",
       "    </tr>\n",
       "  </thead>\n",
       "  <tbody>\n",
       "    <tr>\n",
       "      <th>0</th>\n",
       "      <td>13</td>\n",
       "      <td>[[0, 0, 0, 0, 0, 0, 0, 1], [0, 0, 0, 0, 0, 1, ...</td>\n",
       "      <td>[[0, 0, 0, 0, 0, 0, 0, 0], [0, 0, 0, 0, 0, 0, ...</td>\n",
       "      <td>[[1, 0, 0, 0, 0, 0, 0, 0], [0, 0, 0, 0, 0, 0, ...</td>\n",
       "      <td>[[1, 0, 0, 1, 0, 0, 1, 0], [1, 1, 0, 0, 0, 0, ...</td>\n",
       "    </tr>\n",
       "    <tr>\n",
       "      <th>1</th>\n",
       "      <td>37</td>\n",
       "      <td>[[0, 0, 0, 0, 0, 0, 0, 1, 1, 1], [0, 0, 0, 0, ...</td>\n",
       "      <td>[[0, 1, 0, 0, 0, 0, 0, 0, 0, 0], [0, 0, 0, 0, ...</td>\n",
       "      <td>[[0, 1, 1, 0, 0, 0, 1, 0, 0, 0], [0, 1, 0, 0, ...</td>\n",
       "      <td>[[1, 1, 0, 0, 0, 0, 0, 0, 0, 0], [0, 1, 0, 0, ...</td>\n",
       "    </tr>\n",
       "  </tbody>\n",
       "</table>\n",
       "</div>"
      ],
      "text/plain": [
       "   random_state                                             y_true  \\\n",
       "0            13  [[0, 0, 0, 0, 0, 0, 0, 1], [0, 0, 0, 0, 0, 1, ...   \n",
       "1            37  [[0, 0, 0, 0, 0, 0, 0, 1, 1, 1], [0, 0, 0, 0, ...   \n",
       "\n",
       "                          Prefrontal_MrSQL_1_y_preds  \\\n",
       "0  [[0, 0, 0, 0, 0, 0, 0, 0], [0, 0, 0, 0, 0, 0, ...   \n",
       "1  [[0, 1, 0, 0, 0, 0, 0, 0, 0, 0], [0, 0, 0, 0, ...   \n",
       "\n",
       "                             Frontal_MrSQL_1_y_preds  \\\n",
       "0  [[1, 0, 0, 0, 0, 0, 0, 0], [0, 0, 0, 0, 0, 0, ...   \n",
       "1  [[0, 1, 1, 0, 0, 0, 1, 0, 0, 0], [0, 1, 0, 0, ...   \n",
       "\n",
       "                        Left Frontal_MrSQL_1_y_preds  \n",
       "0  [[1, 0, 0, 1, 0, 0, 1, 0], [1, 1, 0, 0, 0, 0, ...  \n",
       "1  [[1, 1, 0, 0, 0, 0, 0, 0, 0, 0], [0, 1, 0, 0, ...  "
      ]
     },
     "execution_count": 15,
     "metadata": {},
     "output_type": "execute_result"
    }
   ],
   "source": [
    "results_dict[num]"
   ]
  },
  {
   "cell_type": "code",
   "execution_count": 16,
   "id": "f18325ae",
   "metadata": {},
   "outputs": [],
   "source": [
    "df = run_expts.generate_subset_acc_std( results_dict[num], return_df = True)"
   ]
  },
  {
   "cell_type": "code",
   "execution_count": 17,
   "id": "fe3dd2f1",
   "metadata": {},
   "outputs": [
    {
     "data": {
      "text/html": [
       "<div>\n",
       "<style scoped>\n",
       "    .dataframe tbody tr th:only-of-type {\n",
       "        vertical-align: middle;\n",
       "    }\n",
       "\n",
       "    .dataframe tbody tr th {\n",
       "        vertical-align: top;\n",
       "    }\n",
       "\n",
       "    .dataframe thead th {\n",
       "        text-align: right;\n",
       "    }\n",
       "</style>\n",
       "<table border=\"1\" class=\"dataframe\">\n",
       "  <thead>\n",
       "    <tr style=\"text-align: right;\">\n",
       "      <th></th>\n",
       "      <th>random_state</th>\n",
       "      <th>Prefrontal_MrSQL_1_acc</th>\n",
       "      <th>Prefrontal_MrSQL_1_std</th>\n",
       "      <th>Frontal_MrSQL_1_acc</th>\n",
       "      <th>Frontal_MrSQL_1_std</th>\n",
       "      <th>Left Frontal_MrSQL_1_acc</th>\n",
       "      <th>Left Frontal_MrSQL_1_std</th>\n",
       "    </tr>\n",
       "  </thead>\n",
       "  <tbody>\n",
       "    <tr>\n",
       "      <th>0</th>\n",
       "      <td>13</td>\n",
       "      <td>0.666746</td>\n",
       "      <td>0.196194</td>\n",
       "      <td>0.524286</td>\n",
       "      <td>0.148880</td>\n",
       "      <td>0.350476</td>\n",
       "      <td>0.077055</td>\n",
       "    </tr>\n",
       "    <tr>\n",
       "      <th>1</th>\n",
       "      <td>37</td>\n",
       "      <td>0.617222</td>\n",
       "      <td>0.166744</td>\n",
       "      <td>0.532778</td>\n",
       "      <td>0.160174</td>\n",
       "      <td>0.463889</td>\n",
       "      <td>0.060604</td>\n",
       "    </tr>\n",
       "  </tbody>\n",
       "</table>\n",
       "</div>"
      ],
      "text/plain": [
       "   random_state  Prefrontal_MrSQL_1_acc  Prefrontal_MrSQL_1_std  \\\n",
       "0            13                0.666746                0.196194   \n",
       "1            37                0.617222                0.166744   \n",
       "\n",
       "   Frontal_MrSQL_1_acc  Frontal_MrSQL_1_std  Left Frontal_MrSQL_1_acc  \\\n",
       "0             0.524286             0.148880                  0.350476   \n",
       "1             0.532778             0.160174                  0.463889   \n",
       "\n",
       "   Left Frontal_MrSQL_1_std  \n",
       "0                  0.077055  \n",
       "1                  0.060604  "
      ]
     },
     "execution_count": 17,
     "metadata": {},
     "output_type": "execute_result"
    }
   ],
   "source": [
    "df"
   ]
  },
  {
   "cell_type": "code",
   "execution_count": 8,
   "id": "b37bd481",
   "metadata": {},
   "outputs": [
    {
     "data": {
      "text/html": [
       "<div>\n",
       "<style scoped>\n",
       "    .dataframe tbody tr th:only-of-type {\n",
       "        vertical-align: middle;\n",
       "    }\n",
       "\n",
       "    .dataframe tbody tr th {\n",
       "        vertical-align: top;\n",
       "    }\n",
       "\n",
       "    .dataframe thead th {\n",
       "        text-align: right;\n",
       "    }\n",
       "</style>\n",
       "<table border=\"1\" class=\"dataframe\">\n",
       "  <thead>\n",
       "    <tr style=\"text-align: right;\">\n",
       "      <th></th>\n",
       "      <th>random_state</th>\n",
       "      <th>Theta_Prefrontal_MrSQL_1_acc</th>\n",
       "      <th>Theta_Prefrontal_MrSQL_1_std</th>\n",
       "    </tr>\n",
       "  </thead>\n",
       "  <tbody>\n",
       "    <tr>\n",
       "      <th>0</th>\n",
       "      <td>13</td>\n",
       "      <td>0.925000</td>\n",
       "      <td>0.150000</td>\n",
       "    </tr>\n",
       "    <tr>\n",
       "      <th>1</th>\n",
       "      <td>37</td>\n",
       "      <td>0.935556</td>\n",
       "      <td>0.052775</td>\n",
       "    </tr>\n",
       "  </tbody>\n",
       "</table>\n",
       "</div>"
      ],
      "text/plain": [
       "   random_state  Theta_Prefrontal_MrSQL_1_acc  Theta_Prefrontal_MrSQL_1_std\n",
       "0            13                      0.925000                      0.150000\n",
       "1            37                      0.935556                      0.052775"
      ]
     },
     "execution_count": 8,
     "metadata": {},
     "output_type": "execute_result"
    }
   ],
   "source": [
    "df"
   ]
  },
  {
   "cell_type": "code",
   "execution_count": null,
   "id": "cacfdd4f",
   "metadata": {},
   "outputs": [],
   "source": []
  }
 ],
 "metadata": {
  "kernelspec": {
   "display_name": "Python 3 (ipykernel)",
   "language": "python",
   "name": "python3"
  },
  "language_info": {
   "codemirror_mode": {
    "name": "ipython",
    "version": 3
   },
   "file_extension": ".py",
   "mimetype": "text/x-python",
   "name": "python",
   "nbconvert_exporter": "python",
   "pygments_lexer": "ipython3",
   "version": "3.10.5"
  }
 },
 "nbformat": 4,
 "nbformat_minor": 5
}
