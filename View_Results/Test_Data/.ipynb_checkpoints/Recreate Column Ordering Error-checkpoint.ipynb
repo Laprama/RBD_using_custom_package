{
 "cells": [
  {
   "cell_type": "code",
   "execution_count": 2,
   "id": "3e0368ad",
   "metadata": {},
   "outputs": [],
   "source": [
    "#Sktime imports\n",
    "import numpy as np\n",
    "from sklearn.model_selection import train_test_split\n",
    "from sklearn.pipeline import Pipeline\n",
    "from sktime.classification.shapelet_based import MrSEQLClassifier\n",
    "from sklearn.model_selection import GroupShuffleSplit\n",
    "\n",
    "from IPython.utils import io\n",
    "import pandas as pd\n",
    "import os\n",
    "from pathlib import Path\n",
    "from matplotlib import pyplot as plt\n",
    "from scipy.signal import find_peaks\n",
    "import numpy as np\n",
    "import seaborn as sns\n",
    "import time\n",
    "import joblib\n",
    "import sys\n",
    "from os.path import exists\n",
    "\n",
    "import importlib\n",
    "\n",
    "# EEG package modules__________________________________________________________________\n",
    "import constants\n",
    "import custom_ts_length\n",
    "# import eeg_stat_ts\n",
    "import format_eeg_data\n",
    "import run_expts"
   ]
  },
  {
   "cell_type": "code",
   "execution_count": 3,
   "id": "3019b52b",
   "metadata": {},
   "outputs": [
    {
     "name": "stdout",
     "output_type": "stream",
     "text": [
      "/export/sphere/ebirah/ko20929/miniconda3/envs/sktime_only_with_eeg_pckg/bin/python\n"
     ]
    }
   ],
   "source": [
    "import sys\n",
    "print(sys.executable)"
   ]
  },
  {
   "cell_type": "code",
   "execution_count": 4,
   "id": "b6a33409",
   "metadata": {},
   "outputs": [
    {
     "name": "stdout",
     "output_type": "stream",
     "text": [
      "Change the folder here ^_^! \n"
     ]
    }
   ],
   "source": [
    "'''\n",
    "o 1. PD vs HC,   2.(PD , PD+RBD) vs HC,   3.(PD + PD&RBD) vs HC vs RBD  multiclass, 4.PD vs PD+RBD vs RBD vs HC \n",
    "'''\n",
    "core_path = '/export/sphere/ebirah/ko20929/RBD_files/notebooks/frequency_analysis/constructed_data/band_power_time_series/expt_dfs/'\n",
    "\n",
    "#1 - This is to run the custom length expts\n",
    "folders = {'N1': 'N1_customised_40_expt_files/' , 'N2' : 'N2_120_expt_files_v2/','N3' : 'N3_82_expt_files/', 'REM' :'REM_19_expt_files/'}\n",
    "#2 -This is to run the expts on the full original length data without any dropping or cutting of the TS \n",
    "folders = {'N1': 'N1_full_expts/' , 'N2' : 'N2_full_expts/','N3' : 'N3_full_expts/', 'REM' :'REM_full_expts/'}\n",
    "#3 - This is to run the wakeful eyes closed experiments\n",
    "folders = {'EC1': 'EC_8_expts/' , 'EC2' : 'EC_full_expts/' }\n",
    "\n",
    "#Folder = folders[sys.argv[1]] #User can input which experiments will be run\n",
    "print('Change the folder here ^_^! ')\n",
    "\n",
    "folder = folders['EC1'] #I'm choosing this because it's the TS & Therefore quickest hopefully?\n",
    "folder = 'REM_full_expts/'\n",
    "\n",
    "expts = ['MrSQL_expt_1', 'MrSQL_expt_2' , 'MrSQL_expt_3' , 'MrSQL_expt_4']\n",
    "\n",
    "power_band_cols = ['Delta', 'Theta', 'Alpha', 'Sigma', 'Beta', 'Gamma', 'TotalAbsPow']\n",
    "\n",
    "regions = ['Prefrontal','Frontal', 'Left Frontal', 'Right Frontal', 'Central', 'Left Central', \n",
    "           'Right Central', 'Left Temporal','Right Temporal', 'Parietal', 'Left Parietal', 'Right Parietal', 'Occipital']\n",
    "\n",
    "#Load the appropriate X (full set of features ) , y (full set of labels) , groups \n",
    "load_path = core_path + folder\n",
    "X = pd.read_hdf(load_path + 'X.h5', key='df', mode='r')\n",
    "y = pd.read_hdf(load_path + 'y_full.h5', key='df', mode='r') \n",
    "groups = pd.read_hdf(load_path + 'groups.h5', key='df', mode='r')  "
   ]
  },
  {
   "cell_type": "code",
   "execution_count": 5,
   "id": "75d09d09",
   "metadata": {
    "scrolled": true
   },
   "outputs": [
    {
     "data": {
      "text/plain": [
       "'/export/sphere/ebirah/ko20929/RBD_files/notebooks/frequency_analysis/constructed_data/band_power_time_series/expt_dfs/REM_full_expts/'"
      ]
     },
     "execution_count": 5,
     "metadata": {},
     "output_type": "execute_result"
    }
   ],
   "source": [
    "load_path"
   ]
  },
  {
   "cell_type": "code",
   "execution_count": null,
   "id": "a1c510c6",
   "metadata": {},
   "outputs": [],
   "source": []
  },
  {
   "cell_type": "code",
   "execution_count": 12,
   "id": "66a76524",
   "metadata": {},
   "outputs": [],
   "source": [
    "subsets_dict_new = {}\n",
    "for col in power_band_cols:\n",
    "    name = col + '_' + 'Prefrontal'\n",
    "    subsets_dict_new[name] = [name]\n",
    "\n",
    "subsets_dict_3_bpw =  {'Delta_Prefrontal': ['Delta_Prefrontal'],\n",
    " 'Theta_Prefrontal': ['Theta_Prefrontal'],\n",
    " 'Alpha_Prefrontal': ['Alpha_Prefrontal']}\n",
    "# subsets_dict_new = {'Gamma_Prefrontal': ['Gamma_Prefrontal']}\n",
    "# subsets_dict_new = {'Delta_Prefrontal': ['Delta_Prefrontal']}\n",
    "subsets_dict_Theta = {'Theta_Prefrontal': ['Theta_Prefrontal']}\n",
    "subsets_dict_Delta = {'Delta_Prefrontal': ['Delta_Prefrontal']}\n",
    "\n",
    "subsets_dict_new = subsets_dict_Delta"
   ]
  },
  {
   "cell_type": "code",
   "execution_count": 24,
   "id": "82a8fb38",
   "metadata": {},
   "outputs": [],
   "source": [
    "# Edited this notebook to have three types of dictionary in order "
   ]
  },
  {
   "cell_type": "code",
   "execution_count": 26,
   "id": "2b12803b",
   "metadata": {},
   "outputs": [
    {
     "name": "stdout",
     "output_type": "stream",
     "text": [
      "commencing for 1...\n",
      "60.899925231933594\n",
      "commencing for 1...\n",
      "20.027539253234863\n",
      "commencing for 1...\n",
      "20.55001187324524\n"
     ]
    },
    {
     "data": {
      "text/html": [
       "<div>\n",
       "<style scoped>\n",
       "    .dataframe tbody tr th:only-of-type {\n",
       "        vertical-align: middle;\n",
       "    }\n",
       "\n",
       "    .dataframe tbody tr th {\n",
       "        vertical-align: top;\n",
       "    }\n",
       "\n",
       "    .dataframe thead th {\n",
       "        text-align: right;\n",
       "    }\n",
       "</style>\n",
       "<table border=\"1\" class=\"dataframe\">\n",
       "  <thead>\n",
       "    <tr style=\"text-align: right;\">\n",
       "      <th></th>\n",
       "      <th>random_state</th>\n",
       "      <th>Delta_Prefrontal_MrSQL_1_acc</th>\n",
       "      <th>Delta_Prefrontal_MrSQL_1_std</th>\n",
       "      <th>Theta_Prefrontal_MrSQL_1_acc</th>\n",
       "      <th>Theta_Prefrontal_MrSQL_1_std</th>\n",
       "      <th>Alpha_Prefrontal_MrSQL_1_acc</th>\n",
       "      <th>Alpha_Prefrontal_MrSQL_1_std</th>\n",
       "    </tr>\n",
       "  </thead>\n",
       "  <tbody>\n",
       "    <tr>\n",
       "      <th>0</th>\n",
       "      <td>13</td>\n",
       "      <td>0.950000</td>\n",
       "      <td>0.100000</td>\n",
       "      <td>0.552857</td>\n",
       "      <td>0.167703</td>\n",
       "      <td>0.567302</td>\n",
       "      <td>0.113256</td>\n",
       "    </tr>\n",
       "    <tr>\n",
       "      <th>1</th>\n",
       "      <td>37</td>\n",
       "      <td>0.955556</td>\n",
       "      <td>0.054433</td>\n",
       "      <td>0.510556</td>\n",
       "      <td>0.147242</td>\n",
       "      <td>0.659444</td>\n",
       "      <td>0.178882</td>\n",
       "    </tr>\n",
       "  </tbody>\n",
       "</table>\n",
       "</div>"
      ],
      "text/plain": [
       "   random_state  Delta_Prefrontal_MrSQL_1_acc  Delta_Prefrontal_MrSQL_1_std  \\\n",
       "0            13                      0.950000                      0.100000   \n",
       "1            37                      0.955556                      0.054433   \n",
       "\n",
       "   Theta_Prefrontal_MrSQL_1_acc  Theta_Prefrontal_MrSQL_1_std  \\\n",
       "0                      0.552857                      0.167703   \n",
       "1                      0.510556                      0.147242   \n",
       "\n",
       "   Alpha_Prefrontal_MrSQL_1_acc  Alpha_Prefrontal_MrSQL_1_std  \n",
       "0                      0.567302                      0.113256  \n",
       "1                      0.659444                      0.178882  "
      ]
     },
     "metadata": {},
     "output_type": "display_data"
    },
    {
     "data": {
      "text/html": [
       "<div>\n",
       "<style scoped>\n",
       "    .dataframe tbody tr th:only-of-type {\n",
       "        vertical-align: middle;\n",
       "    }\n",
       "\n",
       "    .dataframe tbody tr th {\n",
       "        vertical-align: top;\n",
       "    }\n",
       "\n",
       "    .dataframe thead th {\n",
       "        text-align: right;\n",
       "    }\n",
       "</style>\n",
       "<table border=\"1\" class=\"dataframe\">\n",
       "  <thead>\n",
       "    <tr style=\"text-align: right;\">\n",
       "      <th></th>\n",
       "      <th>random_state</th>\n",
       "      <th>Theta_Prefrontal_MrSQL_1_acc</th>\n",
       "      <th>Theta_Prefrontal_MrSQL_1_std</th>\n",
       "    </tr>\n",
       "  </thead>\n",
       "  <tbody>\n",
       "    <tr>\n",
       "      <th>0</th>\n",
       "      <td>13</td>\n",
       "      <td>0.552857</td>\n",
       "      <td>0.167703</td>\n",
       "    </tr>\n",
       "    <tr>\n",
       "      <th>1</th>\n",
       "      <td>37</td>\n",
       "      <td>0.510556</td>\n",
       "      <td>0.147242</td>\n",
       "    </tr>\n",
       "  </tbody>\n",
       "</table>\n",
       "</div>"
      ],
      "text/plain": [
       "   random_state  Theta_Prefrontal_MrSQL_1_acc  Theta_Prefrontal_MrSQL_1_std\n",
       "0            13                      0.552857                      0.167703\n",
       "1            37                      0.510556                      0.147242"
      ]
     },
     "metadata": {},
     "output_type": "display_data"
    },
    {
     "data": {
      "text/html": [
       "<div>\n",
       "<style scoped>\n",
       "    .dataframe tbody tr th:only-of-type {\n",
       "        vertical-align: middle;\n",
       "    }\n",
       "\n",
       "    .dataframe tbody tr th {\n",
       "        vertical-align: top;\n",
       "    }\n",
       "\n",
       "    .dataframe thead th {\n",
       "        text-align: right;\n",
       "    }\n",
       "</style>\n",
       "<table border=\"1\" class=\"dataframe\">\n",
       "  <thead>\n",
       "    <tr style=\"text-align: right;\">\n",
       "      <th></th>\n",
       "      <th>random_state</th>\n",
       "      <th>Delta_Prefrontal_MrSQL_1_acc</th>\n",
       "      <th>Delta_Prefrontal_MrSQL_1_std</th>\n",
       "    </tr>\n",
       "  </thead>\n",
       "  <tbody>\n",
       "    <tr>\n",
       "      <th>0</th>\n",
       "      <td>13</td>\n",
       "      <td>0.950000</td>\n",
       "      <td>0.100000</td>\n",
       "    </tr>\n",
       "    <tr>\n",
       "      <th>1</th>\n",
       "      <td>37</td>\n",
       "      <td>0.955556</td>\n",
       "      <td>0.054433</td>\n",
       "    </tr>\n",
       "  </tbody>\n",
       "</table>\n",
       "</div>"
      ],
      "text/plain": [
       "   random_state  Delta_Prefrontal_MrSQL_1_acc  Delta_Prefrontal_MrSQL_1_std\n",
       "0            13                      0.950000                      0.100000\n",
       "1            37                      0.955556                      0.054433"
      ]
     },
     "metadata": {},
     "output_type": "display_data"
    }
   ],
   "source": [
    "clfs = {'MrSQL_1' : MrSEQLClassifier(seql_mode='fs', symrep=[ 'sfa' , 'sax']) }\n",
    "\n",
    "dicts = [subsets_dict_3_bpw , subsets_dict_Theta,  subsets_dict_Delta]\n",
    "\n",
    "results_dfs = []\n",
    "for subsets_dict_new in dicts:\n",
    "    \n",
    "    results_dict = {}\n",
    "    # for num in [1,2,3,4]:\n",
    "    for num in [1]:\n",
    "        print('commencing for ' + str(num) + '...')\n",
    "\n",
    "        #1.Generate expt specific X,y,groups\n",
    "        X_expt , y_expt , groups_expt, expt_info = run_expts.generate_expt_x_y_groups(X,y,groups,num)\n",
    "\n",
    "        t1 = time.time()\n",
    "        results_df = run_expts.run_mv_tsc(X_expt ,y_expt , groups_expt, clfs , return_df = True,subset_names_and_cols = subsets_dict_new, random_states = [13 , 37])\n",
    "\n",
    "        t2 = time.time()\n",
    "\n",
    "        results_dict[num] = results_df\n",
    "        \n",
    "        acc_std_results_df = run_expts.generate_subset_acc_std(results_dict[num], return_df = True)\n",
    "        results_dfs.append(acc_std_results_df)\n",
    "\n",
    "        print(t2-t1)\n",
    "\n",
    "for df in results_dfs:\n",
    "    display(df)"
   ]
  },
  {
   "cell_type": "code",
   "execution_count": null,
   "id": "6fb75271",
   "metadata": {},
   "outputs": [],
   "source": []
  }
 ],
 "metadata": {
  "kernelspec": {
   "display_name": "Python 3 (ipykernel)",
   "language": "python",
   "name": "python3"
  },
  "language_info": {
   "codemirror_mode": {
    "name": "ipython",
    "version": 3
   },
   "file_extension": ".py",
   "mimetype": "text/x-python",
   "name": "python",
   "nbconvert_exporter": "python",
   "pygments_lexer": "ipython3",
   "version": "3.9.11"
  }
 },
 "nbformat": 4,
 "nbformat_minor": 5
}
