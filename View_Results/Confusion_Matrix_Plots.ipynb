{
 "cells": [
  {
   "cell_type": "code",
   "execution_count": 1,
   "id": "eecab7c3",
   "metadata": {},
   "outputs": [
    {
     "data": {
      "text/plain": [
       "'rbd_2clone'"
      ]
     },
     "execution_count": 1,
     "metadata": {},
     "output_type": "execute_result"
    },
    {
     "name": "stderr",
     "output_type": "stream",
     "text": [
      "/export/sphere/ebirah/ko20929/miniconda3/envs/rbd_2clone/lib/python3.10/site-packages/outdated/utils.py:14: OutdatedPackageWarning: The package yasa is out of date. Your version is 0.6.1, the latest is 0.6.3.\n",
      "Set the environment variable OUTDATED_IGNORE=1 to disable these warnings.\n",
      "  return warn(\n",
      "/export/sphere/ebirah/ko20929/miniconda3/envs/rbd_2clone/lib/python3.10/site-packages/outdated/utils.py:14: OutdatedCacheFailedWarning: Failed to use cache while checking for outdated package.\n",
      "Set the environment variable OUTDATED_RAISE_EXCEPTION=1 for a full traceback.\n",
      "Set the environment variable OUTDATED_IGNORE=1 to disable these warnings.\n",
      "  return warn(\n",
      "/export/sphere/ebirah/ko20929/miniconda3/envs/rbd_2clone/lib/python3.10/site-packages/outdated/utils.py:14: OutdatedPackageWarning: The package outdated is out of date. Your version is 0.2.1, the latest is 0.2.2.\n",
      "Set the environment variable OUTDATED_IGNORE=1 to disable these warnings.\n",
      "  return warn(\n"
     ]
    }
   ],
   "source": [
    "import pandas as pd\n",
    "import os\n",
    "from pathlib import Path\n",
    "from matplotlib import pyplot as plt\n",
    "from scipy.signal import find_peaks\n",
    "import numpy as np\n",
    "import mne\n",
    "from scipy.signal import welch\n",
    "import seaborn as sns\n",
    "import yasa\n",
    "import glob\n",
    "import time\n",
    "import joblib\n",
    "\n",
    "import sklearn\n",
    "from sklearn.metrics import accuracy_score\n",
    "\n",
    "#Imports to enable cross validation\n",
    "from sklearn.model_selection import KFold, cross_val_score\n",
    "\n",
    "os.environ['CONDA_DEFAULT_ENV']"
   ]
  },
  {
   "cell_type": "code",
   "execution_count": 13,
   "id": "27cf9e63",
   "metadata": {},
   "outputs": [],
   "source": [
    "#Notes\n",
    "\n",
    "#Every classifier will have it's own confusion matrix \n",
    "\n",
    "#5 EEG types x 13 regions x (Number of classifiers - MrSQL x 6?) x preproc type (2) * number of expt types \n",
    "# = 130 * MrSQL classifiers * 4 expts ... a lot!!\n",
    "#I think I'm only interested in Prefrontal Region CM's TBH & I can make preproc type / MrSQL model name a parameter\n",
    "\n",
    "# I need to loop through --> Folders containing processed data x 2 per data type, expt types x 4 , classifiers - MrSQL x 6\n",
    "\n",
    "# What do I want to plot \n",
    "# For each type of data .... for each interesting clf ... Performance on the four experiments? \n",
    "# Store in dictionary for plotting CM's\n",
    "\n",
    "# key --> data type , value : dictionary of classifiers where key is classifier name and value is dictionary where key is expt_type (integer) and value is dictionary where keys are y_preds and y_true \n",
    "\n",
    "# Example \n",
    "\n",
    "# {'N3_82_expt_files' : {'MRSQL_2_Prefrontal' : [1 : {'y_preds' : [0,1,2,2,1,2,1] , 'y_true' : [1,1,2,2,1,21]}, \n",
    "#  2 :{'y_preds' : [0,1,2,2,1,2,1] , 'y_true' : [1,1,2,2,1,21]} , 3 etc...] , 'MRSQL_3_Prefrontal' : etc...} }"
   ]
  },
  {
   "cell_type": "code",
   "execution_count": 66,
   "id": "4a96d0c9",
   "metadata": {},
   "outputs": [
    {
     "data": {
      "text/plain": [
       "{'N2_120_expt_files': {'EEG Type': 'N2',\n",
       "  'TS processing': 'Shorter_experiments'},\n",
       " 'N3_82_expt_files': {'EEG Type': 'N3',\n",
       "  'TS processing': 'Shorter_experiments'},\n",
       " 'REM_19_expt_files': {'EEG Type': 'REM',\n",
       "  'TS processing': 'Shorter_experiments'},\n",
       " 'N1_8 expt_files': {'EEG Type': 'N1', 'TS processing': 'Shorter_experiments'},\n",
       " 'N2_120_expt_files_v2': {'EEG Type': 'N2',\n",
       "  'TS processing': 'Shorter_experiments'},\n",
       " 'N1_customised_40_expt_files': {'EEG Type': 'N1',\n",
       "  'TS processing': 'Shorter_experiments'},\n",
       " 'EC_8_expts': {'EEG Type': 'EC_W', 'TS processing': 'Shorter_experiments'},\n",
       " 'N1_full_expts': {'EEG Type': 'N1',\n",
       "  'TS processing': 'Full Length experiments'},\n",
       " 'N2_full_expts': {'EEG Type': 'N2',\n",
       "  'TS processing': 'Full Length experiments'},\n",
       " 'N3_full_expts': {'EEG Type': 'N3',\n",
       "  'TS processing': 'Full Length experiments'},\n",
       " 'REM_full_expts': {'EEG Type': 'REM',\n",
       "  'TS processing': 'Full Length experiments'},\n",
       " 'EC_full_expts': {'EEG Type': 'EC_W',\n",
       "  'TS processing': 'Full Length experiments'}}"
      ]
     },
     "execution_count": 66,
     "metadata": {},
     "output_type": "execute_result"
    }
   ],
   "source": [
    "main_expt_folders_config_dict"
   ]
  },
  {
   "cell_type": "code",
   "execution_count": 2,
   "id": "99d97b05",
   "metadata": {},
   "outputs": [
    {
     "data": {
      "text/plain": [
       "{'N2_120_expt_files': {'MrSQL_1': {},\n",
       "  'MrSQL_2': {},\n",
       "  'MrSQL_3': {},\n",
       "  'MrSQL_4': {},\n",
       "  'MrSQL_SAX': {}},\n",
       " 'N3_82_expt_files': {'MrSQL_1': {},\n",
       "  'MrSQL_2': {},\n",
       "  'MrSQL_3': {},\n",
       "  'MrSQL_4': {},\n",
       "  'MrSQL_SAX': {}},\n",
       " 'REM_19_expt_files': {'MrSQL_1': {},\n",
       "  'MrSQL_2': {},\n",
       "  'MrSQL_3': {},\n",
       "  'MrSQL_4': {},\n",
       "  'MrSQL_SAX': {}},\n",
       " 'N1_8 expt_files': {'MrSQL_1': {},\n",
       "  'MrSQL_2': {},\n",
       "  'MrSQL_3': {},\n",
       "  'MrSQL_4': {},\n",
       "  'MrSQL_SAX': {}},\n",
       " 'N2_120_expt_files_v2': {'MrSQL_1': {},\n",
       "  'MrSQL_2': {},\n",
       "  'MrSQL_3': {},\n",
       "  'MrSQL_4': {},\n",
       "  'MrSQL_SAX': {}},\n",
       " 'N1_customised_40_expt_files': {'MrSQL_1': {},\n",
       "  'MrSQL_2': {},\n",
       "  'MrSQL_3': {},\n",
       "  'MrSQL_4': {},\n",
       "  'MrSQL_SAX': {}},\n",
       " 'N1_full_expts': {'MrSQL_1': {},\n",
       "  'MrSQL_2': {},\n",
       "  'MrSQL_3': {},\n",
       "  'MrSQL_4': {},\n",
       "  'MrSQL_SAX': {}},\n",
       " 'N2_full_expts': {'MrSQL_1': {},\n",
       "  'MrSQL_2': {},\n",
       "  'MrSQL_3': {},\n",
       "  'MrSQL_4': {},\n",
       "  'MrSQL_SAX': {}},\n",
       " 'N3_full_expts': {'MrSQL_1': {},\n",
       "  'MrSQL_2': {},\n",
       "  'MrSQL_3': {},\n",
       "  'MrSQL_4': {},\n",
       "  'MrSQL_SAX': {}},\n",
       " 'REM_full_expts': {'MrSQL_1': {},\n",
       "  'MrSQL_2': {},\n",
       "  'MrSQL_3': {},\n",
       "  'MrSQL_4': {},\n",
       "  'MrSQL_SAX': {}},\n",
       " 'EC_full_expts': {'MrSQL_1': {},\n",
       "  'MrSQL_2': {},\n",
       "  'MrSQL_3': {},\n",
       "  'MrSQL_4': {},\n",
       "  'MrSQL_SAX': {}},\n",
       " 'EC_8_expts': {'MrSQL_1': {},\n",
       "  'MrSQL_2': {},\n",
       "  'MrSQL_3': {},\n",
       "  'MrSQL_4': {},\n",
       "  'MrSQL_SAX': {}}}"
      ]
     },
     "execution_count": 2,
     "metadata": {},
     "output_type": "execute_result"
    }
   ],
   "source": [
    "#Import view results module and necessary variables etc.. from the module\n",
    "import view_results\n",
    "import constants \n",
    "\n",
    "class_label_dict = constants.class_label_dict\n",
    "\n",
    "core_path = view_results.core_path\n",
    "\n",
    "main_expt_folders_config_dict = view_results.main_expt_folders_config_dict\n",
    "main_expt_folders = view_results.main_expt_folders\n",
    "\n",
    "clfs_mrsql = view_results.clfs_mrsql\n",
    "clfs_SAX = view_results.clfs_SAX\n",
    "\n",
    "results_for_cm_plots = {}\n",
    "for folder in main_expt_folders:\n",
    "    results_for_cm_plots[folder] = {}\n",
    "    for clf in list(clfs_mrsql.keys()) + list( clfs_SAX.keys() ):\n",
    "        results_for_cm_plots[folder][clf] = {}"
   ]
  },
  {
   "cell_type": "code",
   "execution_count": 3,
   "id": "192361db",
   "metadata": {
    "scrolled": false
   },
   "outputs": [
    {
     "data": {
      "text/plain": [
       "0.387495756149292"
      ]
     },
     "execution_count": 3,
     "metadata": {},
     "output_type": "execute_result"
    }
   ],
   "source": [
    "t1 = time.time()\n",
    "\n",
    "# Extract the results in a way that they can easily be plotted as confusion matrices\n",
    "for main_folder in main_expt_folders:\n",
    "        top_level_properties = main_expt_folders_config_dict[main_folder]\n",
    "        main_folder_path = core_path+main_folder+'/'\n",
    "        \n",
    "        for folder in view_results.get_immediate_subdirectories(main_folder_path):\n",
    "            \n",
    "            if 'SAX' in folder:\n",
    "                clfs = clfs_SAX\n",
    "                #not looking at SAX model results rn bro \n",
    "                continue\n",
    "            elif folder in ['expt_1' , 'expt_2' , 'expt_3' , 'expt_4']:\n",
    "                continue\n",
    "            elif 'Non_TS_expt' in folder:\n",
    "                continue\n",
    "            else:\n",
    "                clfs = clfs_mrsql\n",
    "                \n",
    "            #set the experiment type (based on last string element of folder name)______________________________\n",
    "            if folder == '.ipynb_checkpoints':\n",
    "                continue               \n",
    "            \n",
    "            #Each folder has a results dataframe, load it and read corresponding results columns\n",
    "            try:\n",
    "                results_df = pd.read_hdf(main_folder_path + folder + '/raw_clfs_results.h5')\n",
    "            except: \n",
    "                file_not_found.append(main_folder + '/' + folder)\n",
    "                continue\n",
    "                \n",
    "            # Load the results __________________________________________________________________________________________________\n",
    "            regional_clf_results = results_df\n",
    "            \n",
    "            # Loop through the classifiers to store the predictions and true y_values in the results dictionary___________________\n",
    "            for clf in clfs:\n",
    "                # column is defined as  region+ '_' + clf + '_y_preds' , currently doing only for region = 'Prefrontal'\n",
    "                clf_col = 'Prefrontal' + '_' + clf +'_y_preds'\n",
    "                clf_preds = np.concatenate( regional_clf_results[clf_col][0] + regional_clf_results[clf_col][1])\n",
    "                y_true = pd.concat(regional_clf_results['y_true'][0] + regional_clf_results['y_true'][1])\n",
    "\n",
    "                subset_results_dict = {'y_true' : y_true , 'y_preds' : clf_preds}\n",
    "                #Populate the overall results dictionary \n",
    "                results_for_cm_plots[main_folder][clf][int(folder[-1])] = subset_results_dict\n",
    "\n",
    "                # results_for_cm_plots['N2_120_expt_files']['MrSQL_2'][1] = {'y_preds': [1,2,3,1,2,1,1] , 'y_true' : [1,2,3,1,2,1,1]}\n",
    "\n",
    "            \n",
    "            #Plot the confusion matrix_________________________________________________________________________________________\n",
    "\n",
    "#             display_labels_num = int(folder[-1])\n",
    "#             display_labels_dict = {1 : ['HC' , 'PD'] , 2 : ['HC', 'PD+PD_RBD'],\n",
    "#                                    3 : ['HC', 'PD+PD_RBD', 'RBD'], 4: ['HC', 'PD', 'PD_RBD', 'RBD']}\n",
    "            \n",
    "#             title = 'CM ' + main_folder + ' ' + folder\n",
    "            \n",
    "            \n",
    "#             confusion_matrix = sklearn.metrics.confusion_matrix(y_true, clf_preds, normalize = None)\n",
    "#             sklearn.metrics.ConfusionMatrixDisplay(confusion_matrix, display_labels = display_labels_dict[display_labels_num]).plot(cmap=plt.cm.Blues)\n",
    "\n",
    "#             plt.title(title)   \n",
    "#             plt.show()\n",
    "#             print('finished')\n",
    "\n",
    "t2 = time.time()\n",
    "\n",
    "t2-t1"
   ]
  },
  {
   "cell_type": "markdown",
   "id": "53284980",
   "metadata": {},
   "source": [
    "#### Plot a single CM from results dictionary"
   ]
  },
  {
   "cell_type": "code",
   "execution_count": 4,
   "id": "9e07a22f",
   "metadata": {},
   "outputs": [],
   "source": [
    "#The main title should say the folder , the classifier , the preprocessing \n",
    "#Each Subplot should state the experiment type  e.g. PD vs RBD - that'ts it"
   ]
  },
  {
   "cell_type": "code",
   "execution_count": 9,
   "id": "d721a0b4",
   "metadata": {},
   "outputs": [
    {
     "name": "stdout",
     "output_type": "stream",
     "text": [
      "dict_keys(['y_true', 'y_preds'])\n"
     ]
    }
   ],
   "source": [
    "results_for_cm_plots.keys()\n",
    "results_for_cm_plots['N3_82_expt_files'].keys()\n",
    "results_for_cm_plots['N3_82_expt_files']['MrSQL_1'].keys()\n",
    "print(results_for_cm_plots['N3_82_expt_files']['MrSQL_1'][1].keys())"
   ]
  },
  {
   "cell_type": "code",
   "execution_count": 75,
   "id": "bfc945b4",
   "metadata": {},
   "outputs": [],
   "source": [
    "# Plot multiple CM's side by side with code from here: \n",
    "# https://stackoverflow.com/questions/61825227/plotting-multiple-confusion-matrix-side-by-side"
   ]
  },
  {
   "cell_type": "markdown",
   "id": "f0e09d0a",
   "metadata": {},
   "source": [
    "#### Plot four CMs in a row (one per expt_type)"
   ]
  },
  {
   "cell_type": "code",
   "execution_count": 60,
   "id": "4aa4a68d",
   "metadata": {},
   "outputs": [
    {
     "data": {
      "image/png": "[encoded data removed]",
      "text/plain": [
       "<Figure size 1440x360 with 5 Axes>"
      ]
     },
     "metadata": {
      "needs_background": "light"
     },
     "output_type": "display_data"
    }
   ],
   "source": [
    "display_labels_dict = {1 : ['HC' , 'PD'] , 2 : ['HC', 'PD+PD_RBD'],\n",
    "                       3 : ['HC', 'PD+PD_RBD', 'RBD'], 4: ['HC', 'PD', 'PD_RBD', 'RBD']}\n",
    "\n",
    "f, axes = plt.subplots(1, 4, figsize=(20, 5), sharey= False )\n",
    "\n",
    "for i, ax in zip([1,2,3,4], f.axes):\n",
    "    y_true = results_for_cm_plots['N3_82_expt_files']['MrSQL_1'][i]['y_true']\n",
    "    y_preds = results_for_cm_plots['N3_82_expt_files']['MrSQL_1'][i]['y_preds']\n",
    "    \n",
    "    cf_matrix = sklearn.metrics.confusion_matrix(y_true, y_preds)\n",
    "     \n",
    "    disp = sklearn.metrics.ConfusionMatrixDisplay(cf_matrix,\n",
    "                                  display_labels= display_labels_dict[i]\n",
    "                                 )\n",
    "    \n",
    "    disp.plot(ax=ax, xticks_rotation=45, cmap=plt.cm.Blues)\n",
    "    \n",
    "    disp.ax_.set_title('Title test boost' + str(i))\n",
    "    if i != 4:\n",
    "        disp.im_.colorbar.remove()\n",
    "    plt.tight_layout()\n",
    "\n",
    "\n",
    "plt.suptitle(\"Folder , Model _ Name , Preprocessing type\", fontsize=14)\n",
    "    \n",
    "plt.subplots_adjust(wspace=0.40, hspace=0.1)\n",
    "\n",
    "plt.tight_layout()\n",
    "\n",
    "plt.savefig('Test_cm.png', dpi=200 )"
   ]
  },
  {
   "cell_type": "markdown",
   "id": "e29044bf",
   "metadata": {},
   "source": [
    "#### Turn CMs in a row plotting into a function"
   ]
  },
  {
   "cell_type": "code",
   "execution_count": 104,
   "id": "10e8a9a9",
   "metadata": {},
   "outputs": [],
   "source": [
    "def plot_cms(results_dict , folder , classifier, save_name = False):\n",
    "    expt_info = [ '1. PD vs HC' , '2. (PD , PD+RBD) vs HC' , '3. (PD + PD&RBD) vs HC vs RBD  multiclass' , \n",
    "             '4. PD vs PD+RBD vs RBD vs HC  multiclass'    ]\n",
    "    \n",
    "    display_labels_dict = {1 : ['HC' , 'PD'] , 2 : ['HC', 'PD+PD_RBD'],\n",
    "                       3 : ['HC', 'PD+PD_RBD', 'RBD'], 4: ['HC', 'PD', 'PD_RBD', 'RBD']}\n",
    "    \n",
    "    main_expt_folders_config_dict = view_results.main_expt_folders_config_dict\n",
    "\n",
    "    f, axes = plt.subplots(1, 4, figsize=(20, 5), sharey= False )\n",
    "\n",
    "    for i, ax in zip([1,2,3,4], f.axes):\n",
    "        y_true = results_dict[folder][classifier][i]['y_true']\n",
    "        y_preds = results_dict[folder][classifier][i]['y_preds']\n",
    "\n",
    "        cf_matrix = sklearn.metrics.confusion_matrix(y_true, y_preds)\n",
    "\n",
    "        disp = sklearn.metrics.ConfusionMatrixDisplay(cf_matrix,\n",
    "                                      display_labels= display_labels_dict[i]\n",
    "                                     )\n",
    "\n",
    "        disp.plot(ax=ax, xticks_rotation=45, cmap=plt.cm.Blues)\n",
    "\n",
    "        disp.ax_.set_title(expt_info[i-1])\n",
    "        if i != 4:\n",
    "            disp.im_.colorbar.remove()\n",
    "        plt.tight_layout()\n",
    "\n",
    "\n",
    "    plt.suptitle(folder + ' , ' + classifier + ' , ' + main_expt_folders_config_dict[folder]['TS processing'] , fontsize=14)\n",
    "\n",
    "    plt.subplots_adjust(wspace=0.40, hspace=0.1)\n",
    "    plt.tight_layout()\n",
    "    \n",
    "    if save_name != False:   \n",
    "        plt.savefig(save_name , dpi=200 )"
   ]
  },
  {
   "cell_type": "code",
   "execution_count": 78,
   "id": "04087887",
   "metadata": {},
   "outputs": [],
   "source": [
    "#Prefrontal x 5 data types x 5 classifiers x 2 preproc = 50 CM files , each with 4 CMs"
   ]
  },
  {
   "cell_type": "markdown",
   "id": "fc978856",
   "metadata": {},
   "source": [
    "## Use the function to plot all of the confusion matrices"
   ]
  },
  {
   "cell_type": "code",
   "execution_count": 94,
   "id": "a901f828",
   "metadata": {},
   "outputs": [
    {
     "data": {
      "text/plain": [
       "'N1_'"
      ]
     },
     "execution_count": 94,
     "metadata": {},
     "output_type": "execute_result"
    }
   ],
   "source": [
    "list(results_for_cm_plots.keys() )[6][:3]"
   ]
  },
  {
   "cell_type": "code",
   "execution_count": 83,
   "id": "d8e527b2",
   "metadata": {},
   "outputs": [
    {
     "data": {
      "text/plain": [
       "'MrSQL_SAX_expt_2'"
      ]
     },
     "execution_count": 83,
     "metadata": {},
     "output_type": "execute_result"
    }
   ],
   "source": [
    "folder"
   ]
  },
  {
   "cell_type": "code",
   "execution_count": 79,
   "id": "1c7f5e5b",
   "metadata": {},
   "outputs": [],
   "source": [
    "# file names will follow the convention \n",
    "# Model Data Type _ folder \n",
    "# ==> MrSQL_SAX _ N1 _ N1_full_expts"
   ]
  },
  {
   "cell_type": "code",
   "execution_count": 105,
   "id": "71a4161b",
   "metadata": {},
   "outputs": [],
   "source": [
    "%%capture\n",
    "\n",
    "t1 = time.time()\n",
    "\n",
    "folders_classfiers_not_plotted = []\n",
    "for folder in results_for_cm_plots.keys():\n",
    "    for classifier in results_for_cm_plots[folder].keys():\n",
    "        try :\n",
    "            file_name = 'CM_Plots/' + classifier + '_' + folder[:3] + '_' + folder + '.png'\n",
    "            plot_cms(results_for_cm_plots , folder , classifier, save_name = file_name)\n",
    "        except:\n",
    "            #add info to some list\n",
    "            folders_classfiers_not_plotted.append((folder, classifier))\n",
    "\n",
    "t2 = time.time()\n",
    "\n",
    "t2-t1"
   ]
  },
  {
   "cell_type": "code",
   "execution_count": 102,
   "id": "b966772c",
   "metadata": {},
   "outputs": [
    {
     "data": {
      "text/plain": [
       "[('N2_120_expt_files', 'MrSQL_1'),\n",
       " ('N2_120_expt_files', 'MrSQL_2'),\n",
       " ('N2_120_expt_files', 'MrSQL_3'),\n",
       " ('N2_120_expt_files', 'MrSQL_4'),\n",
       " ('N2_120_expt_files', 'MrSQL_SAX'),\n",
       " ('N3_82_expt_files', 'MrSQL_SAX'),\n",
       " ('REM_19_expt_files', 'MrSQL_SAX'),\n",
       " ('N1_8 expt_files', 'MrSQL_1'),\n",
       " ('N1_8 expt_files', 'MrSQL_2'),\n",
       " ('N1_8 expt_files', 'MrSQL_3'),\n",
       " ('N1_8 expt_files', 'MrSQL_4'),\n",
       " ('N1_8 expt_files', 'MrSQL_SAX'),\n",
       " ('N2_120_expt_files_v2', 'MrSQL_SAX'),\n",
       " ('N1_customised_40_expt_files', 'MrSQL_SAX'),\n",
       " ('N1_full_expts', 'MrSQL_SAX'),\n",
       " ('N2_full_expts', 'MrSQL_SAX'),\n",
       " ('N3_full_expts', 'MrSQL_SAX'),\n",
       " ('REM_full_expts', 'MrSQL_SAX'),\n",
       " ('EC_full_expts', 'MrSQL_SAX'),\n",
       " ('EC_8_expts', 'MrSQL_SAX')]"
      ]
     },
     "execution_count": 102,
     "metadata": {},
     "output_type": "execute_result"
    }
   ],
   "source": [
    "folders_classfiers_not_plotted"
   ]
  },
  {
   "cell_type": "code",
   "execution_count": null,
   "id": "e3607b0a",
   "metadata": {},
   "outputs": [],
   "source": []
  }
 ],
 "metadata": {
  "kernelspec": {
   "display_name": "Python 3 (ipykernel)",
   "language": "python",
   "name": "python3"
  },
  "language_info": {
   "codemirror_mode": {
    "name": "ipython",
    "version": 3
   },
   "file_extension": ".py",
   "mimetype": "text/x-python",
   "name": "python",
   "nbconvert_exporter": "python",
   "pygments_lexer": "ipython3",
   "version": "3.11.3"
  }
 },
 "nbformat": 4,
 "nbformat_minor": 5
}
